{
  "nbformat": 4,
  "nbformat_minor": 0,
  "metadata": {
    "colab": {
      "provenance": [],
      "include_colab_link": true
    },
    "kernelspec": {
      "name": "python3",
      "display_name": "Python 3"
    },
    "language_info": {
      "name": "python"
    }
  },
  "cells": [
    {
      "cell_type": "markdown",
      "metadata": {
        "id": "view-in-github",
        "colab_type": "text"
      },
      "source": [
        "<a href=\"https://colab.research.google.com/github/robchristiansen13/Learning/blob/main/Machine%20Learning%20Assignment1.ipynb\" target=\"_parent\"><img src=\"https://colab.research.google.com/assets/colab-badge.svg\" alt=\"Open In Colab\"/></a>"
      ]
    },
    {
      "cell_type": "markdown",
      "source": [
        "Calculate the following metrics for each confustion matrix\n"
      ],
      "metadata": {
        "id": "B_Sdvg5vlWoV"
      }
    },
    {
      "cell_type": "markdown",
      "source": [
        "Confusion Matrix A\n",
        "\n",
        "| | + | - |\n",
        "|---|---|---|\n",
        "|+| 263 | 25 |\n",
        "|-| 8 | 271|\n",
        "\n",
        "Accuracy: 0.9417989417989417\n",
        "\n",
        "Sensitivity: 0.9704797047970479\n",
        "\n",
        "Specificity: 0.9155405405405406\n",
        "\n",
        "Precision: 0.9131944444444444\n",
        "\n",
        "F1: 0.9409660107334525\n",
        "\n",
        "MCC: 0.8875495187017295"
      ],
      "metadata": {
        "id": "kbJg1pRimyQw"
      }
    },
    {
      "cell_type": "code",
      "source": [
        "import numpy as np\n",
        "\n",
        "def confusion_matrix_metrics(true_positives: int, false_positives: int, false_negatives: int, true_negatives: int):\n",
        "  \"\"\"Calculates metrics from a confusion matrix.\n",
        "\n",
        "  Args:\n",
        "    The four parameters associated with a confusion matrix\n",
        "\n",
        "  Returns:\n",
        "    Common metrics for evaluating a model\n",
        "  \"\"\"\n",
        "\n",
        "  accuracy = (true_positives + true_negatives) / (true_positives + true_negatives + false_positives + false_negatives)\n",
        "  sensitivity = (true_positives) / (true_positives + false_negatives)\n",
        "  specificity = (true_negatives) / (true_negatives + false_positives)\n",
        "  f1 = (2 * true_positives) / (2 * true_positives + false_positives + false_negatives)\n",
        "  mcc = ((true_positives * true_negatives) - (false_positives - false_negatives)) / np.sqrt((true_positives + false_positives)*(true_positives + false_negatives)*(true_negatives + false_positives) *(true_negatives + false_negatives))\n",
        "  precision = true_positives / (true_positives + false_positives)\n",
        "  recall = true_positives / (true_positives + false_negatives)\n",
        "\n",
        "  return accuracy, sensitivity, specificity, precision, f1, mcc\n",
        "\n",
        "# Calculate precision and recall.\n",
        "accuracy, sensitivity, specificity, precision, f1, mcc = confusion_matrix_metrics(263, 25, 8, 271)\n",
        "\n",
        "# Print precision and recall.\n",
        "print(\"Accuracy:\", accuracy)\n",
        "print(\"Sensitivity:\", sensitivity)\n",
        "print(\"Specificity:\", specificity)\n",
        "print(\"Precision:\",precision)\n",
        "print(\"F1:\", f1)\n",
        "print(\"MCC:\", mcc)"
      ],
      "metadata": {
        "id": "gWE8gRpVYuux",
        "outputId": "59640bc1-0b52-400f-eac1-7e8cf9cc86de",
        "colab": {
          "base_uri": "https://localhost:8080/"
        }
      },
      "execution_count": null,
      "outputs": [
        {
          "output_type": "stream",
          "name": "stdout",
          "text": [
            "Accuracy: 0.9417989417989417\n",
            "Sensitivity: 0.9704797047970479\n",
            "Specificity: 0.9155405405405406\n",
            "Precision: 0.9131944444444444\n",
            "F1: 0.9409660107334525\n",
            "MCC: 0.8875495187017295\n"
          ]
        }
      ]
    },
    {
      "cell_type": "markdown",
      "source": [
        "Confusion Matrix B\n",
        "\n",
        "| | + | - |\n",
        "|---|---|---|\n",
        "|+| 176 | 112 |\n",
        "|-| 33 | 246|\n",
        "\n",
        "Accuracy: 0.7442680776014109\n",
        "\n",
        "Sensitivity: 0.8421052631578947\n",
        "\n",
        "Specificity: 0.6871508379888268\n",
        "\n",
        "Precision: 0.6111111111111112\n",
        "\n",
        "F1: 0.7082494969818913\n",
        "\n",
        "MCC: 0.5573674650185327\n",
        "\n",
        "\n"
      ],
      "metadata": {
        "id": "8XHfRGyAnJuK"
      }
    },
    {
      "cell_type": "code",
      "source": [
        "# Calculate precision and recall.\n",
        "accuracy, sensitivity, specificity, precision, f1, mcc = confusion_matrix_metrics(176, 112, 33, 246)\n",
        "\n",
        "# Print precision and recall.\n",
        "print(\"Accuracy:\", accuracy)\n",
        "print(\"Sensitivity:\", sensitivity)\n",
        "print(\"Specificity:\", specificity)\n",
        "print(\"Precision:\",precision)\n",
        "print(\"F1:\", f1)\n",
        "print(\"MCC:\", mcc)"
      ],
      "metadata": {
        "outputId": "e46d100c-b14f-4eba-b0a3-6be25e99c39b",
        "colab": {
          "base_uri": "https://localhost:8080/"
        },
        "id": "nwiCCR9apIyY"
      },
      "execution_count": null,
      "outputs": [
        {
          "output_type": "stream",
          "name": "stdout",
          "text": [
            "Accuracy: 0.7442680776014109\n",
            "Sensitivity: 0.8421052631578947\n",
            "Specificity: 0.6871508379888268\n",
            "Precision: 0.6111111111111112\n",
            "F1: 0.7082494969818913\n",
            "MCC: 0.5573674650185327\n"
          ]
        }
      ]
    },
    {
      "cell_type": "markdown",
      "source": [
        "Confusion Matrix C\n",
        "\n",
        "| | + | - |\n",
        "|---|---|---|\n",
        "|+| 18 | 42 |\n",
        "|-| 3 | 271|\n",
        "\n",
        "Accuracy: 0.8652694610778443\n",
        "\n",
        "Sensitivity: 0.8571428571428571\n",
        "\n",
        "Specificity: 0.865814696485623\n",
        "\n",
        "Precision: 0.3\n",
        "\n",
        "F1: 0.4444444444444444\n",
        "\n",
        "MCC: 0.4655034450020373\n"
      ],
      "metadata": {
        "id": "HwZ427B7nJ6q"
      }
    },
    {
      "cell_type": "code",
      "source": [
        "# Calculate precision and recall.\n",
        "accuracy, sensitivity, specificity, precision, f1, mcc = confusion_matrix_metrics(18, 42, 3, 271)\n",
        "\n",
        "# Print precision and recall.\n",
        "print(\"Accuracy:\", accuracy)\n",
        "print(\"Sensitivity:\", sensitivity)\n",
        "print(\"Specificity:\", specificity)\n",
        "print(\"Precision:\",precision)\n",
        "print(\"F1:\", f1)\n",
        "print(\"MCC:\", mcc)"
      ],
      "metadata": {
        "outputId": "b657b5ae-68a0-4ac4-cf72-ca5c62a7b316",
        "colab": {
          "base_uri": "https://localhost:8080/"
        },
        "id": "x5B2hPuQpz8B"
      },
      "execution_count": null,
      "outputs": [
        {
          "output_type": "stream",
          "name": "stdout",
          "text": [
            "Accuracy: 0.8652694610778443\n",
            "Sensitivity: 0.8571428571428571\n",
            "Specificity: 0.865814696485623\n",
            "Precision: 0.3\n",
            "F1: 0.4444444444444444\n",
            "MCC: 0.4655034450020373\n"
          ]
        }
      ]
    },
    {
      "cell_type": "markdown",
      "source": [
        "Confusion Matrix D\n",
        "\n",
        "| | + | - |\n",
        "|---|---|---|\n",
        "|+| 35 | 25 |\n",
        "|-| 20 | 254|\n",
        "\n",
        "Accuracy: 0.8652694610778443\n",
        "\n",
        "Sensitivity: 0.6363636363636364\n",
        "\n",
        "Specificity: 0.910394265232975\n",
        "\n",
        "Precision: 0.5833333333333334\n",
        "\n",
        "F1: 0.6086956521739131\n",
        "\n",
        "MCC: 0.5594007948917565\n"
      ],
      "metadata": {
        "id": "209wqIM1nKLk"
      }
    },
    {
      "cell_type": "code",
      "source": [
        "# Calculate precision and recall.\n",
        "accuracy, sensitivity, specificity, precision, f1, mcc = confusion_matrix_metrics(35, 25, 20, 254)\n",
        "\n",
        "# Print precision and recall.\n",
        "print(\"Accuracy:\", accuracy)\n",
        "print(\"Sensitivity:\", sensitivity)\n",
        "print(\"Specificity:\", specificity)\n",
        "print(\"Precision:\",precision)\n",
        "print(\"F1:\", f1)\n",
        "print(\"MCC:\", mcc)"
      ],
      "metadata": {
        "outputId": "4b337e6a-f610-4f06-efe4-a26594972963",
        "colab": {
          "base_uri": "https://localhost:8080/"
        },
        "id": "nkpTdcGyqBb7"
      },
      "execution_count": null,
      "outputs": [
        {
          "output_type": "stream",
          "name": "stdout",
          "text": [
            "Accuracy: 0.8652694610778443\n",
            "Sensitivity: 0.6363636363636364\n",
            "Specificity: 0.910394265232975\n",
            "Precision: 0.5833333333333334\n",
            "F1: 0.6086956521739131\n",
            "MCC: 0.5594007948917565\n"
          ]
        }
      ]
    },
    {
      "cell_type": "markdown",
      "source": [
        "Use the sklearn algorithms and builtin datasets to answer the following questions"
      ],
      "metadata": {
        "id": "6_qpdOwjnqTz"
      }
    },
    {
      "cell_type": "markdown",
      "source": [
        "How many instances are in the diabetes dataset?  Use code to show your answer\n",
        "442"
      ],
      "metadata": {
        "id": "hYnFD7w_n19I"
      }
    },
    {
      "cell_type": "code",
      "source": [
        "import pandas as pd\n",
        "from sklearn.datasets import load_diabetes\n",
        "\n",
        "diabetes_data = load_diabetes()\n",
        "\n",
        "df = pd.DataFrame(data=diabetes_data.data, columns=diabetes_data.feature_names)\n",
        "# df.info()\n",
        "print(\"Number of instances:\", len(df))"
      ],
      "metadata": {
        "id": "JuCPbPnZoApy",
        "colab": {
          "base_uri": "https://localhost:8080/"
        },
        "outputId": "a7ed6bcb-3376-4b0d-969e-d2036d435596"
      },
      "execution_count": null,
      "outputs": [
        {
          "output_type": "stream",
          "name": "stdout",
          "text": [
            "Number of instances: 442\n"
          ]
        }
      ]
    },
    {
      "cell_type": "markdown",
      "source": [
        "How many instances are in the iris dataset? Use code to show your answer\n",
        "150"
      ],
      "metadata": {
        "id": "vFfHH0YdoBF8"
      }
    },
    {
      "cell_type": "code",
      "source": [
        "import pandas as pd\n",
        "from sklearn.datasets import load_iris\n",
        "\n",
        "iris_data = load_iris()\n",
        "\n",
        "df = pd.DataFrame(data=iris_data.data, columns=iris_data.feature_names)\n",
        "# df.info()\n",
        "print(\"Number of instances:\", len(df))"
      ],
      "metadata": {
        "colab": {
          "base_uri": "https://localhost:8080/"
        },
        "outputId": "4faa95ec-7a9f-4664-8f00-7c7abe72f6f0",
        "id": "eeVxu23Vr4WN"
      },
      "execution_count": null,
      "outputs": [
        {
          "output_type": "stream",
          "name": "stdout",
          "text": [
            "Number of instances: 150\n"
          ]
        }
      ]
    },
    {
      "cell_type": "code",
      "source": [],
      "metadata": {
        "id": "uVGARKw0oHcw"
      },
      "execution_count": null,
      "outputs": []
    },
    {
      "cell_type": "markdown",
      "source": [
        "Use the iris dataset and the digits dataset in conjuction with the DecisionTreeClassifier, the GuassianNB, and the KNeighborsClassifier to train and test each classifier on each dataset.  Report the accuracy, precision, recall, and F1 scores.\n"
      ],
      "metadata": {
        "id": "eTsVIjM0oH6s"
      }
    },
    {
      "cell_type": "code",
      "source": [
        "from sklearn.datasets import load_iris, load_digits\n",
        "from sklearn.model_selection import train_test_split\n",
        "from sklearn.metrics import accuracy_score, precision_score, recall_score, f1_score\n",
        "\n",
        "# load the iris dataset and split it into train and test sets\n",
        "iris_data = load_iris()\n",
        "\n",
        "df = pd.DataFrame(data=iris_data.data, columns=iris_data.feature_names)\n",
        "\n",
        "train_set, test_set = train_test_split(df, test_size=0.2)\n",
        "# train_set.info()\n",
        "# train_set.describe()\n",
        "corr_matrix = train_set.corr()\n",
        "\n",
        "\n"
      ],
      "metadata": {
        "id": "HckvxA-JkQKV"
      },
      "execution_count": null,
      "outputs": []
    },
    {
      "cell_type": "code",
      "source": [],
      "metadata": {
        "id": "c3A8RZXftnF_"
      },
      "execution_count": null,
      "outputs": []
    }
  ]
}
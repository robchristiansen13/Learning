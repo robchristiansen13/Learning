{
 "cells": [
  {
   "cell_type": "markdown",
   "id": "1ed5facf-e943-465f-ad0e-b39775b6417f",
   "metadata": {},
   "source": [
    "# CS-6570 Lecture 4 - An Intro to NumPy\n",
    "\n",
    "**Dylan Zwick**\n",
    "\n",
    "*Weber State University*"
   ]
  },
  {
   "cell_type": "markdown",
   "id": "38ea4e3f-241e-451b-8b11-6b310d4e35d1",
   "metadata": {},
   "source": [
    "Today, we're going to go over the basics of NumPy, which is short for \"Numerical Python\". Honestly, it probably would have made more sense for us to discuss NumPy before Pandas, but it's not that critical.\n",
    "\n",
    "Like the basic object of interest in Pandas is the dataframe, the basic object of interest in NumPy is the array, or the *ndarray*, which is an efficient, multidimensional array optimized for storage and computation. NumPy also comes with tools for reading/writing array data to disk and some nice built-in math functions, plus tools for integrating with C libraries.\n",
    "\n",
    "The basic idea behind NumPy is that, while Python is great for doing many things, it's not an inherently optimized language for handling large-scale numeric computations or storing large data files. Instead of requiring that data analysts needing to work with such things do so using a different language, NumPy provides tools that, essentially, translate basic numeric analysis needs into much more efficient, lower-level (C-style) implementations.\n",
    "\n",
    "To give you an idea of the performance difference, check out the following:"
   ]
  },
  {
   "cell_type": "code",
   "execution_count": 3,
   "id": "6329aa09-1cd2-4c13-bf1d-4a07f776a171",
   "metadata": {},
   "outputs": [],
   "source": [
    "import numpy as np # Numpy is almost always abbreviated as np"
   ]
  },
  {
   "cell_type": "code",
   "execution_count": 4,
   "id": "480ed1ab-5b61-4178-9e41-df18255addb0",
   "metadata": {},
   "outputs": [],
   "source": [
    "my_arr = np.arange(1000000)\n",
    "my_list = list(range(1000000))"
   ]
  },
  {
   "cell_type": "code",
   "execution_count": 5,
   "id": "d5e6cc8f-2df5-4502-baf5-75af34ad8360",
   "metadata": {},
   "outputs": [
    {
     "name": "stdout",
     "output_type": "stream",
     "text": [
      "779 µs ± 22.8 µs per loop (mean ± std. dev. of 7 runs, 1,000 loops each)\n"
     ]
    }
   ],
   "source": [
    "%timeit my_arr2 = my_arr*2"
   ]
  },
  {
   "cell_type": "code",
   "execution_count": 6,
   "id": "d9f65bb1-af45-44b7-935a-76001562bb65",
   "metadata": {},
   "outputs": [
    {
     "name": "stdout",
     "output_type": "stream",
     "text": [
      "54.1 ms ± 5.57 ms per loop (mean ± std. dev. of 7 runs, 10 loops each)\n"
     ]
    }
   ],
   "source": [
    "%timeit my_list2 = [x * 2 for x in my_list]"
   ]
  },
  {
   "cell_type": "markdown",
   "id": "11faa1ae-104c-462a-a4a4-d27c7940426b",
   "metadata": {},
   "source": [
    "That's quite the difference! Generally, NumPy-based algorithms are 10 to 100 times faster (or more!) than their pure Python counterparts and use significantly less memory. So, if you're writing for loops to go through lists for large numeric computations - you're probably doing it wrong."
   ]
  },
  {
   "cell_type": "markdown",
   "id": "35dc2e45-257a-4df3-8bce-b1e99dece4df",
   "metadata": {},
   "source": [
    "### The NumPy ndarray: A Multidimensional Array Object"
   ]
  },
  {
   "cell_type": "markdown",
   "id": "3352c8e9-cf39-4553-aaa1-8be9d1de381c",
   "metadata": {},
   "source": [
    "The basic data object in NumPy is the *ndarray*, and applying standard arithmetic operations to these arrays uses syntax very similar to standard arithmetic.\n",
    "\n",
    "For example, let's create and array:"
   ]
  },
  {
   "cell_type": "code",
   "execution_count": 10,
   "id": "b33dc053-7c45-49ee-b49c-79b9b75419db",
   "metadata": {},
   "outputs": [
    {
     "data": {
      "text/plain": [
       "array([[1.  , 4.2 , 7.  ],\n",
       "       [5.  , 8.  , 2.71]])"
      ]
     },
     "execution_count": 10,
     "metadata": {},
     "output_type": "execute_result"
    }
   ],
   "source": [
    "data = np.array([[1, 4.2, 7], [5, 8, 2.71]])\n",
    "data"
   ]
  },
  {
   "cell_type": "markdown",
   "id": "0a295064-19e7-431d-ab4e-768e06a9155d",
   "metadata": {},
   "source": [
    "We can multiply every element in the array by 2 with the following:"
   ]
  },
  {
   "cell_type": "code",
   "execution_count": 12,
   "id": "a4679606-2b6e-4a81-a1f8-5454641ee922",
   "metadata": {},
   "outputs": [
    {
     "data": {
      "text/plain": [
       "array([[ 2.  ,  8.4 , 14.  ],\n",
       "       [10.  , 16.  ,  5.42]])"
      ]
     },
     "execution_count": 12,
     "metadata": {},
     "output_type": "execute_result"
    }
   ],
   "source": [
    "data * 2"
   ]
  },
  {
   "cell_type": "markdown",
   "id": "cc165a44-7930-44b5-87db-98afaaddd1fd",
   "metadata": {},
   "source": [
    "Or, we can get the same result by adding the array to itself:"
   ]
  },
  {
   "cell_type": "code",
   "execution_count": 14,
   "id": "f3517124-f1de-485e-b607-acc491f73606",
   "metadata": {},
   "outputs": [
    {
     "data": {
      "text/plain": [
       "array([[ 2.  ,  8.4 , 14.  ],\n",
       "       [10.  , 16.  ,  5.42]])"
      ]
     },
     "execution_count": 14,
     "metadata": {},
     "output_type": "execute_result"
    }
   ],
   "source": [
    "data + data"
   ]
  },
  {
   "cell_type": "markdown",
   "id": "9e653962-2daa-41aa-bbec-0403c9d4c416",
   "metadata": {},
   "source": [
    "We could even square every element in the array:"
   ]
  },
  {
   "cell_type": "code",
   "execution_count": 16,
   "id": "38a232ae-df2b-4e3c-8102-8fb446790e15",
   "metadata": {},
   "outputs": [
    {
     "data": {
      "text/plain": [
       "array([[ 1.    , 17.64  , 49.    ],\n",
       "       [25.    , 64.    ,  7.3441]])"
      ]
     },
     "execution_count": 16,
     "metadata": {},
     "output_type": "execute_result"
    }
   ],
   "source": [
    "data ** 2"
   ]
  },
  {
   "cell_type": "markdown",
   "id": "6ff898f3-ac97-4d55-b7cd-6f75cee03f7e",
   "metadata": {},
   "source": [
    "Again, these operations are generally quite fast relative to trying to implement them with a for loop."
   ]
  },
  {
   "cell_type": "markdown",
   "id": "958a781f-b3e6-46e6-8acd-f2ae3a9ec296",
   "metadata": {},
   "source": [
    "#### Data Types for ndarrays"
   ]
  },
  {
   "cell_type": "markdown",
   "id": "5b5d47bf-c270-4231-9686-dbd363394e4d",
   "metadata": {},
   "source": [
    "In general, an array is  for homogeneous data; in other words, all the elements must be the same type. Every array also has a *shape*, which is a tuple indicating the size of each dimension, and a *dtype*, which describes the data type of the array."
   ]
  },
  {
   "cell_type": "code",
   "execution_count": 19,
   "id": "57853a26-c98c-469f-b739-11f2f97a4067",
   "metadata": {},
   "outputs": [
    {
     "data": {
      "text/plain": [
       "(2, 3)"
      ]
     },
     "execution_count": 19,
     "metadata": {},
     "output_type": "execute_result"
    }
   ],
   "source": [
    "data.shape"
   ]
  },
  {
   "cell_type": "code",
   "execution_count": 20,
   "id": "a6394533-8b13-4c6c-a0a5-025f995e58a0",
   "metadata": {},
   "outputs": [
    {
     "data": {
      "text/plain": [
       "dtype('float64')"
      ]
     },
     "execution_count": 20,
     "metadata": {},
     "output_type": "execute_result"
    }
   ],
   "source": [
    "data.dtype"
   ]
  },
  {
   "cell_type": "markdown",
   "id": "282080f8-24f6-4c39-8a52-964d129a95d1",
   "metadata": {},
   "source": [
    "How do we create ndarrays? The easiest way is with the *array* function used above, where we just specify the elements in a list or nested lists. Unless explicitly told otherwise, the array function will try to infer a good data type for the array based upon its inputs."
   ]
  },
  {
   "cell_type": "markdown",
   "id": "9b71ad7e-f789-4231-8669-e48012fd3f0f",
   "metadata": {},
   "source": [
    "In addition to the *array* function, there are a number of other functions for creating new arrays. For example:"
   ]
  },
  {
   "cell_type": "code",
   "execution_count": 23,
   "id": "2635f7e7-5849-4625-97f1-13dc2d23ecc8",
   "metadata": {},
   "outputs": [
    {
     "data": {
      "text/plain": [
       "array([0., 0., 0., 0., 0., 0., 0., 0., 0., 0.])"
      ]
     },
     "execution_count": 23,
     "metadata": {},
     "output_type": "execute_result"
    }
   ],
   "source": [
    "np.zeros(10)"
   ]
  },
  {
   "cell_type": "code",
   "execution_count": 24,
   "id": "0805202e-27f7-4f57-af4c-2ce4c4ec7317",
   "metadata": {},
   "outputs": [
    {
     "data": {
      "text/plain": [
       "array([[0., 0., 0.],\n",
       "       [0., 0., 0.]])"
      ]
     },
     "execution_count": 24,
     "metadata": {},
     "output_type": "execute_result"
    }
   ],
   "source": [
    "np.zeros((2,3))"
   ]
  },
  {
   "cell_type": "code",
   "execution_count": 25,
   "id": "3b580bd6-986f-41ab-accb-b57d5ea74b06",
   "metadata": {},
   "outputs": [
    {
     "data": {
      "text/plain": [
       "array([[1., 1., 1.],\n",
       "       [1., 1., 1.],\n",
       "       [1., 1., 1.],\n",
       "       [1., 1., 1.]])"
      ]
     },
     "execution_count": 25,
     "metadata": {},
     "output_type": "execute_result"
    }
   ],
   "source": [
    "np.ones((4,3))"
   ]
  },
  {
   "cell_type": "markdown",
   "id": "000610f7-a2c3-46ec-b82c-4ddf876645e7",
   "metadata": {},
   "source": [
    "The function *arange* is like the *range* function is Python, except it creates a NumPy array instead of a list."
   ]
  },
  {
   "cell_type": "code",
   "execution_count": 27,
   "id": "d8ffbef2-e00f-4bfb-898a-1a9c5d77106c",
   "metadata": {},
   "outputs": [
    {
     "data": {
      "text/plain": [
       "array([ 0,  1,  2,  3,  4,  5,  6,  7,  8,  9, 10, 11])"
      ]
     },
     "execution_count": 27,
     "metadata": {},
     "output_type": "execute_result"
    }
   ],
   "source": [
    "np.arange(12)"
   ]
  },
  {
   "cell_type": "code",
   "execution_count": 28,
   "id": "82ee025b-83df-429c-9ccf-ae11684ff80b",
   "metadata": {},
   "outputs": [
    {
     "data": {
      "text/plain": [
       "array([ 3,  4,  5,  6,  7,  8,  9, 10])"
      ]
     },
     "execution_count": 28,
     "metadata": {},
     "output_type": "execute_result"
    }
   ],
   "source": [
    "np.arange(3,11)"
   ]
  },
  {
   "cell_type": "markdown",
   "id": "e1c90d2e-a5a5-47a3-9e8c-5a5350811604",
   "metadata": {},
   "source": [
    "We can, if desired, explicitly convert or *cast* an array from one data type to another using the *astype* method:"
   ]
  },
  {
   "cell_type": "code",
   "execution_count": 30,
   "id": "e2bbc1c9-2b19-4152-8580-6c243236151b",
   "metadata": {},
   "outputs": [
    {
     "data": {
      "text/plain": [
       "dtype('int64')"
      ]
     },
     "execution_count": 30,
     "metadata": {},
     "output_type": "execute_result"
    }
   ],
   "source": [
    "arr = np.array([1,2,3,4,5])\n",
    "arr.dtype"
   ]
  },
  {
   "cell_type": "code",
   "execution_count": 31,
   "id": "31c39657-698f-465d-a6c3-b0aee763cb39",
   "metadata": {},
   "outputs": [
    {
     "data": {
      "text/plain": [
       "array([1., 2., 3., 4., 5.])"
      ]
     },
     "execution_count": 31,
     "metadata": {},
     "output_type": "execute_result"
    }
   ],
   "source": [
    "float_arr = arr.astype(np.float64)\n",
    "float_arr"
   ]
  },
  {
   "cell_type": "markdown",
   "id": "ccbe5acb-29a7-4b9d-9a17-6761c1ee071d",
   "metadata": {},
   "source": [
    "If we go the other way, from floats to ints, that will not generate an error, but the decimal parts will be truncated."
   ]
  },
  {
   "cell_type": "code",
   "execution_count": 33,
   "id": "6f847d79-f15f-4037-b59c-42b961d7a605",
   "metadata": {},
   "outputs": [
    {
     "data": {
      "text/plain": [
       "dtype('float64')"
      ]
     },
     "execution_count": 33,
     "metadata": {},
     "output_type": "execute_result"
    }
   ],
   "source": [
    "arr = np.array([2.3, 5.0, 4.999, 2.71828])\n",
    "arr.dtype"
   ]
  },
  {
   "cell_type": "code",
   "execution_count": 34,
   "id": "67bc07d8-9b20-47db-bb33-2ebcb49ef2f0",
   "metadata": {},
   "outputs": [
    {
     "data": {
      "text/plain": [
       "array([2, 5, 4, 2])"
      ]
     },
     "execution_count": 34,
     "metadata": {},
     "output_type": "execute_result"
    }
   ],
   "source": [
    "int_arr = arr.astype(np.int64)\n",
    "int_arr"
   ]
  },
  {
   "cell_type": "markdown",
   "id": "f48e414a-9553-42f1-9ac1-f9be5566b3bf",
   "metadata": {},
   "source": [
    "We can convert strings that make sense as numbers to numbers:"
   ]
  },
  {
   "cell_type": "code",
   "execution_count": 36,
   "id": "2282c0d7-033c-4938-8caa-09d5b7f46bf7",
   "metadata": {},
   "outputs": [
    {
     "data": {
      "text/plain": [
       "dtype('<U3')"
      ]
     },
     "execution_count": 36,
     "metadata": {},
     "output_type": "execute_result"
    }
   ],
   "source": [
    "arr = np.array([\"2.3\", \"1\", \"42\"])\n",
    "arr.dtype"
   ]
  },
  {
   "cell_type": "code",
   "execution_count": 37,
   "id": "d4fc3c91-7e07-42d9-9685-beb33b0f65a5",
   "metadata": {},
   "outputs": [
    {
     "data": {
      "text/plain": [
       "array([ 2.3,  1. , 42. ])"
      ]
     },
     "execution_count": 37,
     "metadata": {},
     "output_type": "execute_result"
    }
   ],
   "source": [
    "float_arr = arr.astype(np.float64)\n",
    "float_arr"
   ]
  },
  {
   "cell_type": "markdown",
   "id": "61d6600b-02a4-410e-a8a3-05a6ef3be4f9",
   "metadata": {},
   "source": [
    "But, this will cause an error if the strings don't make sense as numbers:"
   ]
  },
  {
   "cell_type": "code",
   "execution_count": 39,
   "id": "a66a607a-8526-4083-8fc1-fbc3f1445ba0",
   "metadata": {},
   "outputs": [
    {
     "data": {
      "text/plain": [
       "array(['2.3', '1', '42', 'Shrubbery'], dtype='<U9')"
      ]
     },
     "execution_count": 39,
     "metadata": {},
     "output_type": "execute_result"
    }
   ],
   "source": [
    "arr = np.array([\"2.3\", \"1\", \"42\", \"Shrubbery\"])\n",
    "arr"
   ]
  },
  {
   "cell_type": "code",
   "execution_count": 40,
   "id": "0bb43ef6-5794-46f6-b832-6ed221354063",
   "metadata": {},
   "outputs": [
    {
     "ename": "ValueError",
     "evalue": "could not convert string to float: 'Shrubbery'",
     "output_type": "error",
     "traceback": [
      "\u001b[0;31m---------------------------------------------------------------------------\u001b[0m",
      "\u001b[0;31mValueError\u001b[0m                                Traceback (most recent call last)",
      "Cell \u001b[0;32mIn[40], line 1\u001b[0m\n\u001b[0;32m----> 1\u001b[0m float_arr \u001b[38;5;241m=\u001b[39m arr\u001b[38;5;241m.\u001b[39mastype(np\u001b[38;5;241m.\u001b[39mfloat64)\n",
      "\u001b[0;31mValueError\u001b[0m: could not convert string to float: 'Shrubbery'"
     ]
    }
   ],
   "source": [
    "float_arr = arr.astype(np.float64)"
   ]
  },
  {
   "cell_type": "markdown",
   "id": "59a7f16c-d767-4d66-8469-4ffe73824930",
   "metadata": {},
   "source": [
    "The datatype for an array can also be specified when you created it:\n"
   ]
  },
  {
   "cell_type": "code",
   "execution_count": 81,
   "id": "279fd232-15bb-4633-9013-0082f6ad6b21",
   "metadata": {},
   "outputs": [
    {
     "data": {
      "text/plain": [
       "array([1, 2, 3])"
      ]
     },
     "execution_count": 81,
     "metadata": {},
     "output_type": "execute_result"
    }
   ],
   "source": [
    "arr = np.array([1, 2, 3])\n",
    "arr"
   ]
  },
  {
   "cell_type": "code",
   "execution_count": 82,
   "id": "0aab5d99-4fe4-48b3-96db-2a6425d8a6b1",
   "metadata": {},
   "outputs": [
    {
     "data": {
      "text/plain": [
       "array([1., 2., 3.])"
      ]
     },
     "execution_count": 82,
     "metadata": {},
     "output_type": "execute_result"
    }
   ],
   "source": [
    "arr = np.array([1, 2, 3], dtype=np.float64)\n",
    "arr"
   ]
  },
  {
   "cell_type": "markdown",
   "id": "4b17ee15-a18b-49e2-a60d-37172d8576f7",
   "metadata": {},
   "source": [
    "#### Arithmetic with NumPy Arrays"
   ]
  },
  {
   "cell_type": "markdown",
   "id": "695a5f5f-5b4b-4969-9447-36cfac1b9edc",
   "metadata": {},
   "source": [
    "Arrays enable you to express batch operations on data without writing any for loops. In NumPy this is called \"vectorization\". Any arithmetic operations between equal-sized arrays apply the operation element-wise:"
   ]
  },
  {
   "cell_type": "code",
   "execution_count": 84,
   "id": "35641203-4113-40c0-810f-a996917bcfb7",
   "metadata": {},
   "outputs": [
    {
     "data": {
      "text/plain": [
       "array([[1, 2, 3],\n",
       "       [3, 2, 1]])"
      ]
     },
     "execution_count": 84,
     "metadata": {},
     "output_type": "execute_result"
    }
   ],
   "source": [
    "arr = np.array([[1,2,3],[3,2,1]])\n",
    "arr"
   ]
  },
  {
   "cell_type": "code",
   "execution_count": 85,
   "id": "529659b3-6101-4579-acfb-ae853e55ec4b",
   "metadata": {},
   "outputs": [
    {
     "data": {
      "text/plain": [
       "array([[1, 4, 9],\n",
       "       [9, 4, 1]])"
      ]
     },
     "execution_count": 85,
     "metadata": {},
     "output_type": "execute_result"
    }
   ],
   "source": [
    "arr * arr"
   ]
  },
  {
   "cell_type": "code",
   "execution_count": 86,
   "id": "88a2f9ab-62db-4522-958f-ba16848db11e",
   "metadata": {},
   "outputs": [
    {
     "data": {
      "text/plain": [
       "array([[3, 6, 9],\n",
       "       [9, 6, 3]])"
      ]
     },
     "execution_count": 86,
     "metadata": {},
     "output_type": "execute_result"
    }
   ],
   "source": [
    "arr + 2 * arr"
   ]
  },
  {
   "cell_type": "markdown",
   "id": "2ec15817-d96b-4185-9cdc-f5e2a8b9dcbf",
   "metadata": {},
   "source": [
    "#### Basic indexing and slicing"
   ]
  },
  {
   "cell_type": "markdown",
   "id": "29ed8e0d-5a26-4166-a638-b31ed42c1a76",
   "metadata": {},
   "source": [
    "Selecting a subset of an array is a somewhat deep topic that we'll only touch on here. One-dimensional arrays on the surface act similarly to Python lists:"
   ]
  },
  {
   "cell_type": "code",
   "execution_count": 88,
   "id": "708f7999-7494-483f-9ab7-d891da9fde62",
   "metadata": {},
   "outputs": [
    {
     "data": {
      "text/plain": [
       "5"
      ]
     },
     "execution_count": 88,
     "metadata": {},
     "output_type": "execute_result"
    }
   ],
   "source": [
    "arr = np.arange(10)\n",
    "arr[5]"
   ]
  },
  {
   "cell_type": "code",
   "execution_count": 89,
   "id": "51220396-940d-4e4a-a9dd-aedec1992d45",
   "metadata": {},
   "outputs": [
    {
     "data": {
      "text/plain": [
       "array([5, 6, 7])"
      ]
     },
     "execution_count": 89,
     "metadata": {},
     "output_type": "execute_result"
    }
   ],
   "source": [
    "arr[5:8]"
   ]
  },
  {
   "cell_type": "code",
   "execution_count": 90,
   "id": "f8ea7617-02e5-4891-bc25-0a71cf0f0692",
   "metadata": {},
   "outputs": [
    {
     "data": {
      "text/plain": [
       "array([ 0,  1,  2,  3,  4, 12, 12, 12,  8,  9])"
      ]
     },
     "execution_count": 90,
     "metadata": {},
     "output_type": "execute_result"
    }
   ],
   "source": [
    "arr[5:8] = 12\n",
    "arr"
   ]
  },
  {
   "cell_type": "markdown",
   "id": "248c7872-e887-4b33-98a4-89c1531528d9",
   "metadata": {},
   "source": [
    "As you can see, assigning a scalar value to a slice propagates (or *broadcasts*) the value to the entire selection.\n",
    "\n",
    "An important first  distinction here is that array slices are views **on the original array**, which means any modification to them is reflected in the source array.\n",
    "\n",
    "For example:"
   ]
  },
  {
   "cell_type": "code",
   "execution_count": 92,
   "id": "c0167721-e602-4d80-8652-b40353710a15",
   "metadata": {},
   "outputs": [
    {
     "data": {
      "text/plain": [
       "array([12, 12, 12])"
      ]
     },
     "execution_count": 92,
     "metadata": {},
     "output_type": "execute_result"
    }
   ],
   "source": [
    "arr_slice = arr[5:8]\n",
    "arr_slice"
   ]
  },
  {
   "cell_type": "code",
   "execution_count": 93,
   "id": "94c037ba-eac9-4c1e-8bf4-08dc5b8b45e9",
   "metadata": {},
   "outputs": [],
   "source": [
    "arr_slice[1] = 42"
   ]
  },
  {
   "cell_type": "code",
   "execution_count": 94,
   "id": "4ab9d235-6f60-4607-90f7-47f2695a2716",
   "metadata": {},
   "outputs": [
    {
     "data": {
      "text/plain": [
       "array([ 0,  1,  2,  3,  4, 12, 42, 12,  8,  9])"
      ]
     },
     "execution_count": 94,
     "metadata": {},
     "output_type": "execute_result"
    }
   ],
   "source": [
    "arr"
   ]
  },
  {
   "cell_type": "markdown",
   "id": "ec022c5c-7ee4-48f3-8d6a-f2b78cfa1aa3",
   "metadata": {},
   "source": [
    "This might seem surprising. The idea behind this is that NumPy has been designed to work with very large arrays, and you can image that lots of copying of big arrays could lead to performance and memory problems.\n",
    "\n",
    "If you do want to create a copy and not just a view, you can do so with the *copy* function:"
   ]
  },
  {
   "cell_type": "code",
   "execution_count": 96,
   "id": "b5da4628-78f6-4d9f-97b9-00c784bf2e5e",
   "metadata": {},
   "outputs": [
    {
     "data": {
      "text/plain": [
       "array([0, 1, 2, 3, 4, 5, 6, 7, 8, 9])"
      ]
     },
     "execution_count": 96,
     "metadata": {},
     "output_type": "execute_result"
    }
   ],
   "source": [
    "arr = np.arange(10)\n",
    "arr"
   ]
  },
  {
   "cell_type": "code",
   "execution_count": 97,
   "id": "acd668b3-9b7c-4e56-a8c9-b16178137681",
   "metadata": {},
   "outputs": [
    {
     "data": {
      "text/plain": [
       "array([3, 4, 5])"
      ]
     },
     "execution_count": 97,
     "metadata": {},
     "output_type": "execute_result"
    }
   ],
   "source": [
    "arr_slice = arr[3:6]\n",
    "arr_slice"
   ]
  },
  {
   "cell_type": "code",
   "execution_count": 98,
   "id": "69f006cd-b0c3-42db-aba2-4402d00af62a",
   "metadata": {},
   "outputs": [
    {
     "data": {
      "text/plain": [
       "array([3, 4, 5])"
      ]
     },
     "execution_count": 98,
     "metadata": {},
     "output_type": "execute_result"
    }
   ],
   "source": [
    "arr_copy = arr[3:6].copy()\n",
    "arr_copy"
   ]
  },
  {
   "cell_type": "code",
   "execution_count": 99,
   "id": "9d6c6940-fee3-4026-8655-1449995c3bdd",
   "metadata": {},
   "outputs": [
    {
     "data": {
      "text/plain": [
       "array([ 0,  1,  2, 23,  4,  5,  6,  7,  8,  9])"
      ]
     },
     "execution_count": 99,
     "metadata": {},
     "output_type": "execute_result"
    }
   ],
   "source": [
    "arr_slice[0] = 23\n",
    "arr_copy[1] = 42\n",
    "arr"
   ]
  },
  {
   "cell_type": "markdown",
   "id": "95277c82-c1b9-449c-a641-4a5df857663a",
   "metadata": {},
   "source": [
    "For higher dimensional arrays there are more options.\n",
    "\n",
    "I a two-dimensional array, the elements at each index are no longer scalars but rather one-dimensional arrays:"
   ]
  },
  {
   "cell_type": "code",
   "execution_count": 101,
   "id": "7bb69b7f-24e8-4d7c-b943-8b267dbc9c4e",
   "metadata": {},
   "outputs": [
    {
     "data": {
      "text/plain": [
       "array([7, 8, 9])"
      ]
     },
     "execution_count": 101,
     "metadata": {},
     "output_type": "execute_result"
    }
   ],
   "source": [
    "arr2d = np.array([[1,2,3],[4,5,6],[7,8,9]])\n",
    "arr2d[2]"
   ]
  },
  {
   "cell_type": "markdown",
   "id": "03bdb001-5774-4d94-a082-ab6a5b13f572",
   "metadata": {},
   "source": [
    "If we wanted to access the third element of the first array, we could do so either recursively:"
   ]
  },
  {
   "cell_type": "code",
   "execution_count": 103,
   "id": "d6d1654b-9793-4bc2-b5d8-1118383372cd",
   "metadata": {},
   "outputs": [
    {
     "data": {
      "text/plain": [
       "3"
      ]
     },
     "execution_count": 103,
     "metadata": {},
     "output_type": "execute_result"
    }
   ],
   "source": [
    "arr2d[0][2]"
   ]
  },
  {
   "cell_type": "markdown",
   "id": "d3b1ef29-5457-413f-9221-1207dd2aff0d",
   "metadata": {},
   "source": [
    "Or, using a comma-separated list:"
   ]
  },
  {
   "cell_type": "code",
   "execution_count": 105,
   "id": "018b78a0-15d6-4445-9018-4b9586bf8158",
   "metadata": {},
   "outputs": [
    {
     "data": {
      "text/plain": [
       "3"
      ]
     },
     "execution_count": 105,
     "metadata": {},
     "output_type": "execute_result"
    }
   ],
   "source": [
    "arr2d[0,2]"
   ]
  },
  {
   "cell_type": "markdown",
   "id": "8f9fbea7-61e7-4b06-af9d-fa8c08862835",
   "metadata": {},
   "source": [
    "If we assign a scalar value to an entire array, it broadcasts that value to every entry:"
   ]
  },
  {
   "cell_type": "code",
   "execution_count": 107,
   "id": "c857385a-e2ca-4a66-963a-5744a41c9098",
   "metadata": {},
   "outputs": [
    {
     "data": {
      "text/plain": [
       "array([1, 2, 3])"
      ]
     },
     "execution_count": 107,
     "metadata": {},
     "output_type": "execute_result"
    }
   ],
   "source": [
    "arr2d[0]"
   ]
  },
  {
   "cell_type": "code",
   "execution_count": 108,
   "id": "2699ad6d-3d55-4add-97df-fc713998029e",
   "metadata": {},
   "outputs": [
    {
     "data": {
      "text/plain": [
       "array([[42, 42, 42],\n",
       "       [ 4,  5,  6],\n",
       "       [ 7,  8,  9]])"
      ]
     },
     "execution_count": 108,
     "metadata": {},
     "output_type": "execute_result"
    }
   ],
   "source": [
    "arr2d[0] = 42\n",
    "arr2d"
   ]
  },
  {
   "cell_type": "markdown",
   "id": "2010ce4e-8107-4521-b60b-6c180101d7fb",
   "metadata": {},
   "source": [
    "Multiple slices can be passed to multi-dimensional arrays just like we can pass multiple indices."
   ]
  },
  {
   "cell_type": "code",
   "execution_count": 110,
   "id": "ee2d35e6-7ebb-4efa-8609-7a4633e9e218",
   "metadata": {},
   "outputs": [
    {
     "data": {
      "text/plain": [
       "array([[42, 42, 42],\n",
       "       [ 4,  5,  6]])"
      ]
     },
     "execution_count": 110,
     "metadata": {},
     "output_type": "execute_result"
    }
   ],
   "source": [
    "arr2d[:2]"
   ]
  },
  {
   "cell_type": "code",
   "execution_count": 111,
   "id": "789cb154-9fe9-4d32-afe8-538065ba3010",
   "metadata": {},
   "outputs": [
    {
     "data": {
      "text/plain": [
       "array([[42, 42],\n",
       "       [ 5,  6]])"
      ]
     },
     "execution_count": 111,
     "metadata": {},
     "output_type": "execute_result"
    }
   ],
   "source": [
    "arr2d[:2,1:]"
   ]
  },
  {
   "cell_type": "markdown",
   "id": "a512fce5-413e-4edf-91cb-f9ce6a43d654",
   "metadata": {},
   "source": [
    "By mixing indexes and slices, you can get lower dimensional slices:"
   ]
  },
  {
   "cell_type": "code",
   "execution_count": 113,
   "id": "fd64a815-1d9d-450f-ae96-645b2285e657",
   "metadata": {},
   "outputs": [
    {
     "data": {
      "text/plain": [
       "array([42,  6])"
      ]
     },
     "execution_count": 113,
     "metadata": {},
     "output_type": "execute_result"
    }
   ],
   "source": [
    "arr2d[:2,2]"
   ]
  },
  {
   "cell_type": "markdown",
   "id": "dcfaf026-5213-4249-a89a-a0f8bb341bda",
   "metadata": {},
   "source": [
    "Keep in mind, these slices are *views*"
   ]
  },
  {
   "cell_type": "code",
   "execution_count": 115,
   "id": "cd04a425-3f12-497d-866e-fbe4550720cf",
   "metadata": {},
   "outputs": [
    {
     "data": {
      "text/plain": [
       "array([[ 42,  42, 801],\n",
       "       [  4,   5, 801],\n",
       "       [  7,   8,   9]])"
      ]
     },
     "execution_count": 115,
     "metadata": {},
     "output_type": "execute_result"
    }
   ],
   "source": [
    "arr2d[:2,2] = 801\n",
    "arr2d"
   ]
  },
  {
   "cell_type": "markdown",
   "id": "f8d20e72-0f16-4f45-a6fe-fceb1084f6bb",
   "metadata": {},
   "source": [
    "We can index the elements in an array with **boolean indexing** much like we saw last time with Pandas. For example, suppose we have the following array of names:"
   ]
  },
  {
   "cell_type": "code",
   "execution_count": 117,
   "id": "485ec368-4519-4857-b886-60904743b349",
   "metadata": {},
   "outputs": [],
   "source": [
    "names = np.array([\"Bob\", \"Joe\", \"Will\", \"Bob\", \"Will\", \"Joe\", \"Joe\"])\n",
    "data = np.array([[4,7], [0,2], [-5,6], [0,0], [1,2], [-12,-4], [3,4]])"
   ]
  },
  {
   "cell_type": "code",
   "execution_count": 118,
   "id": "96b3a0e6-8ca3-43ac-9258-dde75ef79b8e",
   "metadata": {},
   "outputs": [
    {
     "data": {
      "text/plain": [
       "array(['Bob', 'Joe', 'Will', 'Bob', 'Will', 'Joe', 'Joe'], dtype='<U4')"
      ]
     },
     "execution_count": 118,
     "metadata": {},
     "output_type": "execute_result"
    }
   ],
   "source": [
    "names"
   ]
  },
  {
   "cell_type": "code",
   "execution_count": 119,
   "id": "5eaf7a99-bae4-4328-a384-abb06dfb23e2",
   "metadata": {},
   "outputs": [
    {
     "data": {
      "text/plain": [
       "array([[  4,   7],\n",
       "       [  0,   2],\n",
       "       [ -5,   6],\n",
       "       [  0,   0],\n",
       "       [  1,   2],\n",
       "       [-12,  -4],\n",
       "       [  3,   4]])"
      ]
     },
     "execution_count": 119,
     "metadata": {},
     "output_type": "execute_result"
    }
   ],
   "source": [
    "data"
   ]
  },
  {
   "cell_type": "markdown",
   "id": "53055f67-bb9f-4547-bae6-7d9d8fbb3853",
   "metadata": {},
   "source": [
    "Suppose each name corresponds with a row in the *data* array and we wanted to select all the rows with the corresponding name \"Bob\". Like arithmetic operations, comparisons (like ==) with arrays are also vectorized. So, this command produces a Boolean array:"
   ]
  },
  {
   "cell_type": "code",
   "execution_count": 121,
   "id": "3ef0d686-242e-41e6-82a3-d22a84bc400f",
   "metadata": {},
   "outputs": [
    {
     "data": {
      "text/plain": [
       "array([ True, False, False,  True, False, False, False])"
      ]
     },
     "execution_count": 121,
     "metadata": {},
     "output_type": "execute_result"
    }
   ],
   "source": [
    "names == \"Bob\""
   ]
  },
  {
   "cell_type": "markdown",
   "id": "dee74e60-75a2-4756-817c-d3dde96e897b",
   "metadata": {},
   "source": [
    "If we pass this as an index to our array we get:"
   ]
  },
  {
   "cell_type": "code",
   "execution_count": 123,
   "id": "0c6e69a2-4b2d-4bac-8235-e66b7ce16247",
   "metadata": {},
   "outputs": [
    {
     "data": {
      "text/plain": [
       "array([[4, 7],\n",
       "       [0, 0]])"
      ]
     },
     "execution_count": 123,
     "metadata": {},
     "output_type": "execute_result"
    }
   ],
   "source": [
    "data[names==\"Bob\"]"
   ]
  },
  {
   "cell_type": "markdown",
   "id": "2dc06d05-1f90-48d5-bef1-30f655b96c3a",
   "metadata": {},
   "source": [
    "Note of course the Boolean array must be of the same length as the array axis it's indexing.\n",
    "\n",
    "You can even mix and match Boolean arrays with slices:"
   ]
  },
  {
   "cell_type": "code",
   "execution_count": 125,
   "id": "c2f0316e-c75b-41c6-9554-ecad218e3395",
   "metadata": {},
   "outputs": [
    {
     "data": {
      "text/plain": [
       "array([[7],\n",
       "       [0]])"
      ]
     },
     "execution_count": 125,
     "metadata": {},
     "output_type": "execute_result"
    }
   ],
   "source": [
    "data[names == \"Bob\", 1:]"
   ]
  },
  {
   "cell_type": "code",
   "execution_count": 126,
   "id": "fe44408c-b8ad-4b6c-b508-cf861ede831c",
   "metadata": {},
   "outputs": [
    {
     "data": {
      "text/plain": [
       "array([7, 0])"
      ]
     },
     "execution_count": 126,
     "metadata": {},
     "output_type": "execute_result"
    }
   ],
   "source": [
    "data[names == \"Bob\", 1]"
   ]
  },
  {
   "cell_type": "markdown",
   "id": "76feae9c-e951-4cc6-8d23-170f524d0335",
   "metadata": {},
   "source": [
    "We can also use the standard *and* (&), *or* (|), and *not* (~) operations."
   ]
  },
  {
   "cell_type": "code",
   "execution_count": 128,
   "id": "9c4bda3a-b572-4008-b80a-d50652c7b124",
   "metadata": {},
   "outputs": [
    {
     "data": {
      "text/plain": [
       "array([[  0,   2],\n",
       "       [ -5,   6],\n",
       "       [  1,   2],\n",
       "       [-12,  -4],\n",
       "       [  3,   4]])"
      ]
     },
     "execution_count": 128,
     "metadata": {},
     "output_type": "execute_result"
    }
   ],
   "source": [
    "data[names != \"Bob\"]"
   ]
  },
  {
   "cell_type": "code",
   "execution_count": 129,
   "id": "40052817-0621-41a6-95f4-9f3ef134dc5b",
   "metadata": {},
   "outputs": [
    {
     "data": {
      "text/plain": [
       "array([[  0,   2],\n",
       "       [ -5,   6],\n",
       "       [  1,   2],\n",
       "       [-12,  -4],\n",
       "       [  3,   4]])"
      ]
     },
     "execution_count": 129,
     "metadata": {},
     "output_type": "execute_result"
    }
   ],
   "source": [
    "data[~(names == \"Bob\")]"
   ]
  },
  {
   "cell_type": "code",
   "execution_count": 130,
   "id": "8fabe818-190c-47df-b7b7-c401e883b1e4",
   "metadata": {},
   "outputs": [
    {
     "data": {
      "text/plain": [
       "array([[ 4,  7],\n",
       "       [-5,  6],\n",
       "       [ 0,  0],\n",
       "       [ 1,  2]])"
      ]
     },
     "execution_count": 130,
     "metadata": {},
     "output_type": "execute_result"
    }
   ],
   "source": [
    "data[(names == \"Bob\") | (names == \"Will\")]"
   ]
  },
  {
   "cell_type": "markdown",
   "id": "546daba0-fbc4-40ba-aaea-6c4da1db2ce6",
   "metadata": {},
   "source": [
    "Note selecting data from an array by Boolean indexing and assigning the results to a new variable creates a *copy* of the data. I know it's a bit confusing when a copy is created and when it's not. Sorry, I didn't make the rules."
   ]
  },
  {
   "cell_type": "markdown",
   "id": "4bedb4a2-69ee-49bc-8f90-7c729bee01ee",
   "metadata": {},
   "source": [
    "Fancy indexing is a term adopted by NumPy to describe indexing using integer arrays. Sorry, I didn't make the terminology either. For example:"
   ]
  },
  {
   "cell_type": "code",
   "execution_count": 133,
   "id": "b42aa594-6df3-4f54-bb8d-a3999f2341d2",
   "metadata": {},
   "outputs": [
    {
     "data": {
      "text/plain": [
       "array([[ 1,  2,  3],\n",
       "       [ 4,  5,  6],\n",
       "       [ 7,  8,  9],\n",
       "       [10, 11, 12]])"
      ]
     },
     "execution_count": 133,
     "metadata": {},
     "output_type": "execute_result"
    }
   ],
   "source": [
    "arr = np.array([[1,2,3],[4,5,6],[7,8,9],[10,11,12]])\n",
    "arr"
   ]
  },
  {
   "cell_type": "code",
   "execution_count": 134,
   "id": "2176e4da-1111-4fdb-b4ff-6e895e0c26dd",
   "metadata": {},
   "outputs": [
    {
     "data": {
      "text/plain": [
       "array([[4, 5, 6],\n",
       "       [1, 2, 3],\n",
       "       [7, 8, 9]])"
      ]
     },
     "execution_count": 134,
     "metadata": {},
     "output_type": "execute_result"
    }
   ],
   "source": [
    "arr[[1,0,2]]"
   ]
  },
  {
   "cell_type": "markdown",
   "id": "d91bfd32-d7d5-4fad-8824-cd054b7368cc",
   "metadata": {},
   "source": [
    "Using negative indices selects rows from the end:"
   ]
  },
  {
   "cell_type": "code",
   "execution_count": 136,
   "id": "7e0ac038-73dc-4f49-aedc-5f2859f975f2",
   "metadata": {},
   "outputs": [
    {
     "data": {
      "text/plain": [
       "array([[10, 11, 12],\n",
       "       [ 7,  8,  9]])"
      ]
     },
     "execution_count": 136,
     "metadata": {},
     "output_type": "execute_result"
    }
   ],
   "source": [
    "arr[[-1,-2]]"
   ]
  },
  {
   "cell_type": "markdown",
   "id": "ecaade1c-ffc2-478a-8621-53a0e62437fa",
   "metadata": {},
   "source": [
    "Passing multiple index arrays selects an array of elements corresponding to each tuple of indices:"
   ]
  },
  {
   "cell_type": "code",
   "execution_count": 138,
   "id": "f21a41c3-1275-4c99-b42d-b254f015184b",
   "metadata": {},
   "outputs": [
    {
     "data": {
      "text/plain": [
       "array([6, 1, 8])"
      ]
     },
     "execution_count": 138,
     "metadata": {},
     "output_type": "execute_result"
    }
   ],
   "source": [
    "arr[[1,0,2],[2,0,1]]"
   ]
  },
  {
   "cell_type": "markdown",
   "id": "c727d11f-8fdc-48c3-853d-34bb5e81420c",
   "metadata": {},
   "source": [
    "Fancy indexing, unlike slicing, always copies the data into a new array when assigning the results to a new variable. Again, not my rules."
   ]
  },
  {
   "cell_type": "markdown",
   "id": "250e2ed3-a876-4833-abe8-a987388808b6",
   "metadata": {},
   "source": [
    "Finally, like with Pandas dataframes, we can transpose an array with the *T* method:"
   ]
  },
  {
   "cell_type": "code",
   "execution_count": 141,
   "id": "e55e5098-d9c5-49ce-abc2-4311ae07b9e0",
   "metadata": {},
   "outputs": [
    {
     "data": {
      "text/plain": [
       "array([[ 1,  2,  3],\n",
       "       [ 4,  5,  6],\n",
       "       [ 7,  8,  9],\n",
       "       [10, 11, 12]])"
      ]
     },
     "execution_count": 141,
     "metadata": {},
     "output_type": "execute_result"
    }
   ],
   "source": [
    "arr"
   ]
  },
  {
   "cell_type": "code",
   "execution_count": 142,
   "id": "ad198571-46c9-4a29-bba6-4e274617f5c9",
   "metadata": {},
   "outputs": [
    {
     "data": {
      "text/plain": [
       "array([[ 1,  4,  7, 10],\n",
       "       [ 2,  5,  8, 11],\n",
       "       [ 3,  6,  9, 12]])"
      ]
     },
     "execution_count": 142,
     "metadata": {},
     "output_type": "execute_result"
    }
   ],
   "source": [
    "arr.T"
   ]
  }
 ],
 "metadata": {
  "kernelspec": {
   "display_name": "anaconda-panel-2023.05-py310",
   "language": "python",
   "name": "conda-env-anaconda-panel-2023.05-py310-py"
  },
  "language_info": {
   "codemirror_mode": {
    "name": "ipython",
    "version": 3
   },
   "file_extension": ".py",
   "mimetype": "text/x-python",
   "name": "python",
   "nbconvert_exporter": "python",
   "pygments_lexer": "ipython3",
   "version": "3.11.4"
  }
 },
 "nbformat": 4,
 "nbformat_minor": 5
}

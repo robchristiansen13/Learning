{
 "cells": [
  {
   "cell_type": "markdown",
   "id": "f7e54c6d",
   "metadata": {},
   "source": [
    "# CS-6570 Assignment #4 - Logistic Regression\n",
    "\n",
    "**YOUR NAME HERE**\n",
    "\n",
    "*Weber State University*"
   ]
  },
  {
   "cell_type": "markdown",
   "id": "f71e8288",
   "metadata": {},
   "source": [
    "For this asignment we're going to use logistic regression to attempt to predict which of the passengers on the Titanic will live and which will not. \n",
    "\n",
    "For reference, the RMS Titanic was a British passenger liner which sank in the North Atlantic Ocean on April 15th, 1912 after striking an iceberg during its maiden voyage from Southampton, England to New York City, United States. Of the estimated 2,224 passengers and crew aboard, more than 1,500 died, making it the deadliest sinking of a single ship up to that time, and it remains the deadliest sinking of an ocean liner or cruise ship.\n",
    "\n",
    "It was also notable because there were quite a few hours between when the ship struck the iceberg and when it went under, and most of those who survived did so by boarding lifeboats. In other words, there was a (noisy and nonuniform) process that determined who would be on the lifeboats and who would not, and this process mostly determined who survived.\n",
    "\n",
    "For this assignment, we're going to try to predict who survives based upon known passenger information.\n",
    "\n",
    "*Note* - Whether a passenger was on a floating door isn't one of the variables."
   ]
  },
  {
   "cell_type": "markdown",
   "id": "25646506",
   "metadata": {},
   "source": [
    "![Titanic Door](TitanicDoor.jpg)"
   ]
  },
  {
   "cell_type": "markdown",
   "id": "97c41e48",
   "metadata": {},
   "source": [
    "The variables we will have are:\n",
    "\n",
    "|*Variable* |*Description* |*Details* |\n",
    "|:----|:----|:----|\n",
    "|survival|Whether the passenger survived|0 = No, 1 = Yes|\n",
    "|pclass|The passenger class of the ticket|1 = 1st, 2 = 2nd, 3 = 3rd|\n",
    "|name| First and last name of the passenger||\n",
    "|sex|The gender of the passenger||\n",
    "|age|The age of the passenger||\n",
    "|sibsp|The number of siblings / spouses on the ship with the passenger||\n",
    "|parch|The number of parents / children on the ship with the passenger||\n",
    "|ticket|The ticket number||\n",
    "|fare|The cost of the ticket||\n",
    "|embarked|The port of embarcation for the passenger|C = Cherbourg, Q = Queenstown, S = Southampton|"
   ]
  },
  {
   "cell_type": "markdown",
   "id": "abdbe859",
   "metadata": {},
   "source": [
    "Note that we're using a slightly modified and cleaned version of the commonly available Titanic dataset. Before we import the data, we'll first import our favorite libraries."
   ]
  },
  {
   "cell_type": "code",
   "execution_count": 6,
   "id": "fd11543a",
   "metadata": {},
   "outputs": [],
   "source": [
    "import pandas as pd\n",
    "import numpy as np\n",
    "import matplotlib.pyplot as plt"
   ]
  },
  {
   "cell_type": "markdown",
   "id": "41bc5aed",
   "metadata": {},
   "source": [
    "The data file is named \"titanic_train_clean.csv\"."
   ]
  },
  {
   "cell_type": "code",
   "execution_count": 8,
   "id": "07786f5e",
   "metadata": {},
   "outputs": [
    {
     "data": {
      "text/html": [
       "<div>\n",
       "<style scoped>\n",
       "    .dataframe tbody tr th:only-of-type {\n",
       "        vertical-align: middle;\n",
       "    }\n",
       "\n",
       "    .dataframe tbody tr th {\n",
       "        vertical-align: top;\n",
       "    }\n",
       "\n",
       "    .dataframe thead th {\n",
       "        text-align: right;\n",
       "    }\n",
       "</style>\n",
       "<table border=\"1\" class=\"dataframe\">\n",
       "  <thead>\n",
       "    <tr style=\"text-align: right;\">\n",
       "      <th></th>\n",
       "      <th>PassengerID</th>\n",
       "      <th>Survived</th>\n",
       "      <th>Pclass</th>\n",
       "      <th>Name</th>\n",
       "      <th>Sex</th>\n",
       "      <th>Age</th>\n",
       "      <th>SibSp</th>\n",
       "      <th>Parch</th>\n",
       "      <th>Ticket</th>\n",
       "      <th>Fare</th>\n",
       "      <th>Embarked</th>\n",
       "    </tr>\n",
       "  </thead>\n",
       "  <tbody>\n",
       "    <tr>\n",
       "      <th>0</th>\n",
       "      <td>1</td>\n",
       "      <td>0</td>\n",
       "      <td>3</td>\n",
       "      <td>Braund, Mr. Owen Harris</td>\n",
       "      <td>male</td>\n",
       "      <td>22.0</td>\n",
       "      <td>1</td>\n",
       "      <td>0</td>\n",
       "      <td>A/5 21171</td>\n",
       "      <td>7.2500</td>\n",
       "      <td>S</td>\n",
       "    </tr>\n",
       "    <tr>\n",
       "      <th>1</th>\n",
       "      <td>2</td>\n",
       "      <td>1</td>\n",
       "      <td>1</td>\n",
       "      <td>Cumings, Mrs. John Bradley (Florence Briggs Th...</td>\n",
       "      <td>female</td>\n",
       "      <td>38.0</td>\n",
       "      <td>1</td>\n",
       "      <td>0</td>\n",
       "      <td>PC 17599</td>\n",
       "      <td>71.2833</td>\n",
       "      <td>C</td>\n",
       "    </tr>\n",
       "    <tr>\n",
       "      <th>2</th>\n",
       "      <td>3</td>\n",
       "      <td>1</td>\n",
       "      <td>3</td>\n",
       "      <td>Heikkinen, Miss. Laina</td>\n",
       "      <td>female</td>\n",
       "      <td>26.0</td>\n",
       "      <td>0</td>\n",
       "      <td>0</td>\n",
       "      <td>STON/O2. 3101282</td>\n",
       "      <td>7.9250</td>\n",
       "      <td>S</td>\n",
       "    </tr>\n",
       "    <tr>\n",
       "      <th>3</th>\n",
       "      <td>4</td>\n",
       "      <td>1</td>\n",
       "      <td>1</td>\n",
       "      <td>Futrelle, Mrs. Jacques Heath (Lily May Peel)</td>\n",
       "      <td>female</td>\n",
       "      <td>35.0</td>\n",
       "      <td>1</td>\n",
       "      <td>0</td>\n",
       "      <td>113803</td>\n",
       "      <td>53.1000</td>\n",
       "      <td>S</td>\n",
       "    </tr>\n",
       "    <tr>\n",
       "      <th>4</th>\n",
       "      <td>5</td>\n",
       "      <td>0</td>\n",
       "      <td>3</td>\n",
       "      <td>Allen, Mr. William Henry</td>\n",
       "      <td>male</td>\n",
       "      <td>35.0</td>\n",
       "      <td>0</td>\n",
       "      <td>0</td>\n",
       "      <td>373450</td>\n",
       "      <td>8.0500</td>\n",
       "      <td>S</td>\n",
       "    </tr>\n",
       "  </tbody>\n",
       "</table>\n",
       "</div>"
      ],
      "text/plain": [
       "   PassengerID  Survived  Pclass  \\\n",
       "0            1         0       3   \n",
       "1            2         1       1   \n",
       "2            3         1       3   \n",
       "3            4         1       1   \n",
       "4            5         0       3   \n",
       "\n",
       "                                                Name     Sex   Age  SibSp  \\\n",
       "0                            Braund, Mr. Owen Harris    male  22.0      1   \n",
       "1  Cumings, Mrs. John Bradley (Florence Briggs Th...  female  38.0      1   \n",
       "2                             Heikkinen, Miss. Laina  female  26.0      0   \n",
       "3       Futrelle, Mrs. Jacques Heath (Lily May Peel)  female  35.0      1   \n",
       "4                           Allen, Mr. William Henry    male  35.0      0   \n",
       "\n",
       "   Parch            Ticket     Fare Embarked  \n",
       "0      0         A/5 21171   7.2500        S  \n",
       "1      0          PC 17599  71.2833        C  \n",
       "2      0  STON/O2. 3101282   7.9250        S  \n",
       "3      0            113803  53.1000        S  \n",
       "4      0            373450   8.0500        S  "
      ]
     },
     "execution_count": 8,
     "metadata": {},
     "output_type": "execute_result"
    }
   ],
   "source": [
    "#Import the Titanic data\n",
    "titanic_col_names = ['PassengerID','Survived','Pclass','Name','Sex','Age','SibSp','Parch','Ticket','Fare','Embarked']\n",
    "titanic = pd.read_csv('titanic_train_clean.csv',header=0,names=titanic_col_names)\n",
    "titanic.head()"
   ]
  },
  {
   "cell_type": "markdown",
   "id": "165cfd21",
   "metadata": {},
   "source": [
    "I'll also import the seaborn data visualization library based on matplotlib, set a couple style parameters, and get rid of some annoying warnings."
   ]
  },
  {
   "cell_type": "code",
   "execution_count": 10,
   "id": "edcc5172",
   "metadata": {},
   "outputs": [],
   "source": [
    "import seaborn as sns #Data visualization library based on matplotlib\n",
    "\n",
    "#Set some style parameters for seaborn\n",
    "sns.set(style=\"white\") #white background style for seaborn plots\n",
    "sns.set(style=\"whitegrid\", color_codes=True)\n",
    "#Get rid of some annying warnings\n",
    "import warnings\n",
    "warnings.simplefilter(action='ignore')"
   ]
  },
  {
   "cell_type": "markdown",
   "id": "deb4b8e0",
   "metadata": {},
   "source": [
    "Have you heard the phrase \"women and children first?\" Well, it relates to the [code of conduct](https://en.wikipedia.org/wiki/Women_and_children_first) that is supposed to be practiced in a life-threatening situation. Let's see if it's a decent predictor on the Titanic. In particulary, let's look at how survival percentage broke down by gender."
   ]
  },
  {
   "cell_type": "code",
   "execution_count": 55,
   "id": "80070e73",
   "metadata": {},
   "outputs": [
    {
     "data": {
      "image/png": "[encoded data removed]",
      "text/plain": [
       "<Figure size 432x288 with 1 Axes>"
      ]
     },
     "metadata": {},
     "output_type": "display_data"
    }
   ],
   "source": [
    "#Examine survival by gender\n",
    "sns.barplot('Sex', 'Survived', data=titanic)\n",
    "plt.show()"
   ]
  },
  {
   "cell_type": "markdown",
   "id": "c394bfc4",
   "metadata": {},
   "source": [
    "Whoa! Looks like many more men went down with the ship. Now, let's take a look at survival rates based on age, and see how well the \"children\" aspect of that dictum holds up."
   ]
  },
  {
   "cell_type": "code",
   "execution_count": 14,
   "id": "d4c32bee",
   "metadata": {},
   "outputs": [
    {
     "data": {
      "image/png": "[encoded data removed]",
      "text/plain": [
       "<Figure size 1080x576 with 1 Axes>"
      ]
     },
     "metadata": {},
     "output_type": "display_data"
    }
   ],
   "source": [
    "#Survival by age histogram\n",
    "plt.figure(figsize=(15,8))\n",
    "ax = sns.distplot(titanic[\"Age\"][titanic.Survived == 1], hist=True, kde=False, bins = 17)\n",
    "sns.distplot(titanic[\"Age\"][titanic.Survived == 0], hist=True, kde=False, bins = 17)\n",
    "plt.legend(['Survived', 'Died'])\n",
    "plt.title('Histogram of Age for Surviving Population and Deceased Population')\n",
    "ax.set(xlabel='Age')\n",
    "plt.xlim(0,85)\n",
    "plt.show()"
   ]
  },
  {
   "cell_type": "markdown",
   "id": "d2863119",
   "metadata": {},
   "source": [
    "OK, it looks like being a child did make one more likely to survive as well. Let's see if we can build a logistic regression model based on this dictum. In other words, just using age and gender as our predictive variables."
   ]
  },
  {
   "cell_type": "markdown",
   "id": "5c734b97",
   "metadata": {},
   "source": [
    "First, we'll import some function we'll need from sklearn."
   ]
  },
  {
   "cell_type": "code",
   "execution_count": 17,
   "id": "705052b4",
   "metadata": {},
   "outputs": [],
   "source": [
    "#from sklearn.datasets import make_classification\n",
    "from sklearn.linear_model import LogisticRegression\n",
    "from sklearn.model_selection import train_test_split\n",
    "from sklearn.metrics import confusion_matrix\n",
    "from sklearn.metrics import accuracy_score\n",
    "from sklearn.metrics import precision_score\n",
    "from sklearn.metrics import recall_score\n",
    "from sklearn.metrics import roc_curve\n",
    "from sklearn.metrics import roc_auc_score"
   ]
  },
  {
   "cell_type": "markdown",
   "id": "31ed9c0f",
   "metadata": {},
   "source": [
    "We're going to want to convert our gender data column into a numeric one. So, we'll create a dummy \"male\" variable."
   ]
  },
  {
   "cell_type": "code",
   "execution_count": 19,
   "id": "c194b973",
   "metadata": {},
   "outputs": [
    {
     "data": {
      "text/html": [
       "<div>\n",
       "<style scoped>\n",
       "    .dataframe tbody tr th:only-of-type {\n",
       "        vertical-align: middle;\n",
       "    }\n",
       "\n",
       "    .dataframe tbody tr th {\n",
       "        vertical-align: top;\n",
       "    }\n",
       "\n",
       "    .dataframe thead th {\n",
       "        text-align: right;\n",
       "    }\n",
       "</style>\n",
       "<table border=\"1\" class=\"dataframe\">\n",
       "  <thead>\n",
       "    <tr style=\"text-align: right;\">\n",
       "      <th></th>\n",
       "      <th>PassengerID</th>\n",
       "      <th>Survived</th>\n",
       "      <th>Pclass</th>\n",
       "      <th>Name</th>\n",
       "      <th>Sex</th>\n",
       "      <th>Age</th>\n",
       "      <th>SibSp</th>\n",
       "      <th>Parch</th>\n",
       "      <th>Ticket</th>\n",
       "      <th>Fare</th>\n",
       "      <th>Embarked</th>\n",
       "      <th>male</th>\n",
       "    </tr>\n",
       "  </thead>\n",
       "  <tbody>\n",
       "    <tr>\n",
       "      <th>0</th>\n",
       "      <td>1</td>\n",
       "      <td>0</td>\n",
       "      <td>3</td>\n",
       "      <td>Braund, Mr. Owen Harris</td>\n",
       "      <td>male</td>\n",
       "      <td>22.0</td>\n",
       "      <td>1</td>\n",
       "      <td>0</td>\n",
       "      <td>A/5 21171</td>\n",
       "      <td>7.2500</td>\n",
       "      <td>S</td>\n",
       "      <td>1</td>\n",
       "    </tr>\n",
       "    <tr>\n",
       "      <th>1</th>\n",
       "      <td>2</td>\n",
       "      <td>1</td>\n",
       "      <td>1</td>\n",
       "      <td>Cumings, Mrs. John Bradley (Florence Briggs Th...</td>\n",
       "      <td>female</td>\n",
       "      <td>38.0</td>\n",
       "      <td>1</td>\n",
       "      <td>0</td>\n",
       "      <td>PC 17599</td>\n",
       "      <td>71.2833</td>\n",
       "      <td>C</td>\n",
       "      <td>0</td>\n",
       "    </tr>\n",
       "    <tr>\n",
       "      <th>2</th>\n",
       "      <td>3</td>\n",
       "      <td>1</td>\n",
       "      <td>3</td>\n",
       "      <td>Heikkinen, Miss. Laina</td>\n",
       "      <td>female</td>\n",
       "      <td>26.0</td>\n",
       "      <td>0</td>\n",
       "      <td>0</td>\n",
       "      <td>STON/O2. 3101282</td>\n",
       "      <td>7.9250</td>\n",
       "      <td>S</td>\n",
       "      <td>0</td>\n",
       "    </tr>\n",
       "    <tr>\n",
       "      <th>3</th>\n",
       "      <td>4</td>\n",
       "      <td>1</td>\n",
       "      <td>1</td>\n",
       "      <td>Futrelle, Mrs. Jacques Heath (Lily May Peel)</td>\n",
       "      <td>female</td>\n",
       "      <td>35.0</td>\n",
       "      <td>1</td>\n",
       "      <td>0</td>\n",
       "      <td>113803</td>\n",
       "      <td>53.1000</td>\n",
       "      <td>S</td>\n",
       "      <td>0</td>\n",
       "    </tr>\n",
       "    <tr>\n",
       "      <th>4</th>\n",
       "      <td>5</td>\n",
       "      <td>0</td>\n",
       "      <td>3</td>\n",
       "      <td>Allen, Mr. William Henry</td>\n",
       "      <td>male</td>\n",
       "      <td>35.0</td>\n",
       "      <td>0</td>\n",
       "      <td>0</td>\n",
       "      <td>373450</td>\n",
       "      <td>8.0500</td>\n",
       "      <td>S</td>\n",
       "      <td>1</td>\n",
       "    </tr>\n",
       "  </tbody>\n",
       "</table>\n",
       "</div>"
      ],
      "text/plain": [
       "   PassengerID  Survived  Pclass  \\\n",
       "0            1         0       3   \n",
       "1            2         1       1   \n",
       "2            3         1       3   \n",
       "3            4         1       1   \n",
       "4            5         0       3   \n",
       "\n",
       "                                                Name     Sex   Age  SibSp  \\\n",
       "0                            Braund, Mr. Owen Harris    male  22.0      1   \n",
       "1  Cumings, Mrs. John Bradley (Florence Briggs Th...  female  38.0      1   \n",
       "2                             Heikkinen, Miss. Laina  female  26.0      0   \n",
       "3       Futrelle, Mrs. Jacques Heath (Lily May Peel)  female  35.0      1   \n",
       "4                           Allen, Mr. William Henry    male  35.0      0   \n",
       "\n",
       "   Parch            Ticket     Fare Embarked  male  \n",
       "0      0         A/5 21171   7.2500        S     1  \n",
       "1      0          PC 17599  71.2833        C     0  \n",
       "2      0  STON/O2. 3101282   7.9250        S     0  \n",
       "3      0            113803  53.1000        S     0  \n",
       "4      0            373450   8.0500        S     1  "
      ]
     },
     "execution_count": 19,
     "metadata": {},
     "output_type": "execute_result"
    }
   ],
   "source": [
    "#Create a dummy \"male\" variable\n",
    "#WARNING - If you run this twice, you'll create two distinct dummy variable columns\n",
    "gender = pd.get_dummies(titanic[\"Sex\"],drop_first=True)\n",
    "titanic = pd.concat([titanic,gender], axis='columns')\n",
    "titanic.head()"
   ]
  },
  {
   "cell_type": "markdown",
   "id": "7ad92def",
   "metadata": {},
   "source": [
    "Then we'll create a dependent and independent variable for the logistic regression model."
   ]
  },
  {
   "cell_type": "code",
   "execution_count": 21,
   "id": "cf069732",
   "metadata": {},
   "outputs": [],
   "source": [
    "#Create the dependent and independent variable for the logistic model\n",
    "X = titanic[[\"Age\",\"male\"]]\n",
    "y = titanic[\"Survived\"]"
   ]
  },
  {
   "cell_type": "markdown",
   "id": "d5c291ef",
   "metadata": {},
   "source": [
    "We'll split our data into a training dataset and a test dataset. "
   ]
  },
  {
   "cell_type": "code",
   "execution_count": 23,
   "id": "f7edec8a",
   "metadata": {},
   "outputs": [],
   "source": [
    "#Split the data into training data and test data, 75/25\n",
    "X_train, X_test, y_train, y_test = train_test_split(X,y,test_size = .25,random_state = 1912)"
   ]
  },
  {
   "cell_type": "markdown",
   "id": "f5c1d2df",
   "metadata": {},
   "source": [
    "Then, we'll build our logistic regression model."
   ]
  },
  {
   "cell_type": "code",
   "execution_count": 25,
   "id": "2e904b4e",
   "metadata": {},
   "outputs": [],
   "source": [
    "#Build the logistic model using the Fare variable\n",
    "logmodel = LogisticRegression()\n",
    "logmodel.fit(X_train[[\"Age\",\"male\"]],y_train);"
   ]
  },
  {
   "cell_type": "markdown",
   "id": "583e0577",
   "metadata": {},
   "source": [
    "Now, we'll use this model to predict survival in the test dataset."
   ]
  },
  {
   "cell_type": "code",
   "execution_count": 27,
   "id": "d8bd2ba3",
   "metadata": {},
   "outputs": [
    {
     "data": {
      "text/plain": [
       "array([[123,  19],\n",
       "       [ 30,  51]])"
      ]
     },
     "execution_count": 27,
     "metadata": {},
     "output_type": "execute_result"
    }
   ],
   "source": [
    "#Use the model to predict the y values in the test set.\n",
    "y_pred = logmodel.predict(X_test[[\"Age\",\"male\"]])\n",
    "#Create the confusion matrix\n",
    "confusion_matrix(y_test,y_pred)"
   ]
  },
  {
   "cell_type": "markdown",
   "id": "a589505b",
   "metadata": {},
   "source": [
    "We can check our accuracy, precision, and recall:"
   ]
  },
  {
   "cell_type": "code",
   "execution_count": 29,
   "id": "bb0ecdfe",
   "metadata": {},
   "outputs": [
    {
     "name": "stdout",
     "output_type": "stream",
     "text": [
      "Accuracy: 0.7802690582959642\n",
      "Precision: 0.7285714285714285\n",
      "Recall: 0.6296296296296297\n"
     ]
    }
   ],
   "source": [
    "#Check the accuracy, precision, and recall\n",
    "print(\"Accuracy:\",accuracy_score(y_test,y_pred))\n",
    "print(\"Precision:\",precision_score(y_test,y_pred))\n",
    "print(\"Recall:\",recall_score(y_test,y_pred))"
   ]
  },
  {
   "cell_type": "markdown",
   "id": "ed142797",
   "metadata": {},
   "source": [
    "Grab the probabilities for the ROC curve:"
   ]
  },
  {
   "cell_type": "code",
   "execution_count": 31,
   "id": "6cba12f3",
   "metadata": {},
   "outputs": [],
   "source": [
    "#Get the probabilities for the ROC curve\n",
    "pred_prob = logmodel.predict_proba(X_test[[\"Age\",\"male\"]])\n",
    "fpr, tpr, thresh = roc_curve(y_test, pred_prob[:,1],pos_label=1)"
   ]
  },
  {
   "cell_type": "markdown",
   "id": "f077da1c",
   "metadata": {},
   "source": [
    "Finally, we can graph the ROC curve and get the AUC score:"
   ]
  },
  {
   "cell_type": "code",
   "execution_count": 33,
   "id": "bc89df53",
   "metadata": {},
   "outputs": [
    {
     "data": {
      "image/png": "[encoded data removed]",
      "text/plain": [
       "<Figure size 432x288 with 1 Axes>"
      ]
     },
     "metadata": {},
     "output_type": "display_data"
    },
    {
     "data": {
      "text/plain": [
       "0.732133541992697"
      ]
     },
     "execution_count": 33,
     "metadata": {},
     "output_type": "execute_result"
    }
   ],
   "source": [
    "#Graph the ROC curve and display the AUC score\n",
    "plt.plot(fpr,tpr)\n",
    "plt.ylabel('True Positive Rate')\n",
    "plt.xlabel('False Positive Rate')\n",
    "plt.show()\n",
    "roc_auc_score(y_test,pred_prob[:,1])"
   ]
  },
  {
   "cell_type": "markdown",
   "id": "2df938a2",
   "metadata": {},
   "source": [
    "An AUC of .73 isn't great, but it's not terrible. For this assignment, you're going to see if you can do better.\n",
    "\n",
    "The rules are:\n",
    "\n",
    "- You need to use a logistic regression model.\n",
    "- You can only use tha data provided in the dataset, and obviously you can't use \"survival\" (the variable you want to predict) as a predictor.\n",
    "- You should build your model on the training data produced above, and test it (ROC curve and AUC score) on the test data produced above.\n",
    "\n",
    "Do some data exploration, try to figure out a good model, and prove the ROC curve and AUC score for the one you find. Please chart the ROC curve and provide the AUC score as above. Full credit will be awarded if you can find an AUC above .8, and a bonus will go to whoever in the class can produce the best model as measured by AUC score on the test dataset.\n",
    "\n",
    "*Hint* - It helps to be rich."
   ]
  },
  {
   "cell_type": "code",
   "execution_count": 35,
   "id": "88ed7988",
   "metadata": {},
   "outputs": [],
   "source": [
    "#Your work here."
   ]
  }
 ],
 "metadata": {
  "kernelspec": {
   "display_name": "anaconda-2022.05-py39",
   "language": "python",
   "name": "conda-env-anaconda-2022.05-py39-py"
  },
  "language_info": {
   "codemirror_mode": {
    "name": "ipython",
    "version": 3
   },
   "file_extension": ".py",
   "mimetype": "text/x-python",
   "name": "python",
   "nbconvert_exporter": "python",
   "pygments_lexer": "ipython3",
   "version": "3.9.12"
  }
 },
 "nbformat": 4,
 "nbformat_minor": 5
}

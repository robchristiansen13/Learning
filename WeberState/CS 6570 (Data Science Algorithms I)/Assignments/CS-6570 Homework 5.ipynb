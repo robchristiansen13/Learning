{
 "cells": [
  {
   "cell_type": "markdown",
   "id": "f7e54c6d",
   "metadata": {},
   "source": [
    "# CS-6570 Assignment #5 - Unsupervised Learning and Hypothesis Testing\n",
    "\n",
    "Rob Christiansen\n",
    "\n",
    "*Weber State University*"
   ]
  },
  {
   "cell_type": "markdown",
   "id": "0bcb2378-e743-4876-b8ef-59ca7edff0f9",
   "metadata": {},
   "source": [
    "In this assignment, we'll work through some examples of unsupervised learning and hypothesis testing based on what we covered in the lectures. Please note many of these sections will require some code plus some explanation. You should use markdown for the explanations, and be sure to include both!"
   ]
  },
  {
   "cell_type": "markdown",
   "id": "2b07ba1b-23b1-4d0c-bfdf-2a729b2024f3",
   "metadata": {},
   "source": [
    "But first, let's import our standard libraries:"
   ]
  },
  {
   "cell_type": "code",
   "execution_count": null,
   "id": "a3b58124-0857-488a-8872-9f363008d73a",
   "metadata": {},
   "outputs": [],
   "source": [
    "import numpy as np\n",
    "import pandas as pd\n",
    "import matplotlib.pyplot as plt"
   ]
  },
  {
   "cell_type": "markdown",
   "id": "ac990bed-8f7f-4e8a-8817-f2738df8adef",
   "metadata": {},
   "source": [
    "**PCA and K-Means**\n",
    "\n",
    "We'll import the PCA and K-means functions from sklearn."
   ]
  },
  {
   "cell_type": "code",
   "execution_count": null,
   "id": "70ac13ac-127d-4f3a-877a-85a3904c6b7d",
   "metadata": {},
   "outputs": [],
   "source": [
    "from sklearn.decomposition import PCA\n",
    "from sklearn.cluster import KMeans"
   ]
  },
  {
   "cell_type": "markdown",
   "id": "08cf8b0b-1a32-4469-b32e-109896412671",
   "metadata": {},
   "source": [
    "Next, we'll generate a simulated data set with 20 observations in each of three classes (so 60 observations total) with 50 variables."
   ]
  },
  {
   "cell_type": "code",
   "execution_count": null,
   "id": "17f12fed-7cae-4cb2-b55d-fe22cbace6c9",
   "metadata": {},
   "outputs": [],
   "source": [
    "np.random.seed(42);\n",
    "X = np.random.standard_normal((60,50));\n",
    "\n",
    "delta1 = np.random.uniform(.5,1,50)\n",
    "delta2 = np.random.uniform(-1,-.5,50)\n",
    "\n",
    "X[:20,:] += delta1\n",
    "X[20:40,:] += delta2"
   ]
  },
  {
   "cell_type": "markdown",
   "id": "a139d554-b0e4-4ca2-9673-5a62c15111b6",
   "metadata": {},
   "source": [
    "Perform PCA on the 60 observations and plot the first two principle component score vectors. Use a different color to indicate the observations in each of the three classes."
   ]
  },
  {
   "cell_type": "code",
   "execution_count": null,
   "metadata": {},
   "outputs": [],
   "source": [
    "# Since the deltalabels are not contained within the original set, I created a set to use for the coloring\n",
    "\n",
    "deltalabels0 = np.empty(20)\n",
    "deltalabels0.fill(0)\n",
    "\n",
    "deltalabels1 = np.empty(20)\n",
    "deltalabels1.fill(1)\n",
    "\n",
    "deltalabels2 = np.empty(20)\n",
    "deltalabels2.fill(2)\n",
    "\n",
    "deltalabels = np.append(deltalabels0, deltalabels1)\n",
    "deltalabels = np.append(deltalabels, deltalabels2)\n",
    "deltalabels"
   ]
  },
  {
   "cell_type": "code",
   "execution_count": null,
   "id": "411a7302-da03-44c6-9fa9-fd511a589338",
   "metadata": {},
   "outputs": [],
   "source": [
    "from sklearn.decomposition import PCA\n",
    "# Generate all the principal components\n",
    "pca = PCA() # Default n_components = min(n_samples, n_features)\n",
    "#The fit_transform returns a numpy array of each data point expressed in terms of the principle components\n",
    "X_train_pc = pca.fit_transform(X)\n",
    "# View the principle components\n",
    "# print(pca.components_)\n",
    "# print(X_train_pc)\n",
    "\n",
    "i = 0\n",
    "for c in pca.explained_variance_ratio_[:10]:\n",
    "    i = i+1\n",
    "    print(\"For component \" + str(i) + \" the percentage of the variance explained is: {:.2%}\".format(c))\n",
    "\n",
    "fig, ax = plt.subplots(figsize=(8,8))\n",
    "ax.scatter(X_train_pc[:,0], X_train_pc[:,1], c=deltalabels) # Need to figure out how to color the original classes\n",
    "ax.set_title(\"Primary PCA Components w/o KMeans Clustering\");"
   ]
  },
  {
   "cell_type": "markdown",
   "id": "710f0ca4-2ae1-4165-b124-25ea714091e5",
   "metadata": {},
   "source": [
    "Perform $K$-means clustering of the observations with $K = 3$. How well do the clusters that you obtained in $K$-means clustering compare to the true class labels?"
   ]
  },
  {
   "cell_type": "code",
   "execution_count": null,
   "id": "7df698c3-4f2c-48d7-8a1e-4808914c2db1",
   "metadata": {},
   "outputs": [],
   "source": [
    "X_train_pc = X\n",
    "\n",
    "kmeans = KMeans(n_clusters=3,\n",
    "                random_state=3,\n",
    "                n_init=20).fit(X_train_pc)\n",
    "fig, ax = plt.subplots(figsize=(8,8))\n",
    "ax.scatter(X_train_pc[:,0], X_train_pc[:,1], c=kmeans.labels_)\n",
    "ax.set_title(\"K-Means Clustering Results with K=3, No PCA\");"
   ]
  },
  {
   "cell_type": "markdown",
   "id": "dd5b1a1a-58fc-4052-8d2a-81288e6115c6",
   "metadata": {},
   "source": [
    "Perform $K$-means clustering with $K$ = 2. Describe your results."
   ]
  },
  {
   "cell_type": "code",
   "execution_count": null,
   "id": "e1e0f73e-5b37-479d-a702-c0e554810f23",
   "metadata": {},
   "outputs": [],
   "source": [
    "X_train_pc = X\n",
    "\n",
    "kmeans = KMeans(n_clusters=2,\n",
    "                random_state=3,\n",
    "                n_init=20).fit(X_train_pc)\n",
    "fig, ax = plt.subplots(figsize=(8,8))\n",
    "ax.scatter(X_train_pc[:,0], X_train_pc[:,1], c=kmeans.labels_)\n",
    "ax.set_title(\"K-Means Clustering Results with K=2, No PCA\");"
   ]
  },
  {
   "cell_type": "markdown",
   "id": "4b42ebaf-3a5a-41a6-b4ff-fb6806c0f140",
   "metadata": {},
   "source": [
    "Now perform $K$-means clustering with $K = 4$, and describe your results."
   ]
  },
  {
   "cell_type": "code",
   "execution_count": null,
   "id": "f31f29da-d62c-4269-8391-cfc260c632d1",
   "metadata": {},
   "outputs": [],
   "source": [
    "X_train_pc = X\n",
    "\n",
    "kmeans = KMeans(n_clusters=4,\n",
    "                random_state=3,\n",
    "                n_init=20).fit(X_train_pc)\n",
    "fig, ax = plt.subplots(figsize=(8,8))\n",
    "ax.scatter(X_train_pc[:,0], X_train_pc[:,1], c=kmeans.labels_)\n",
    "ax.set_title(\"K-Means Clustering Results with K=4, No PCA\");"
   ]
  },
  {
   "cell_type": "markdown",
   "id": "cfc3f3f2-4b35-4c3b-a4f9-efad6a8189dc",
   "metadata": {},
   "source": [
    "Now perform $K$-means clustering with $K = 3$ on the first two principle component score vectors, rather than the raw data. That is, perform $K$-means clustering on the $60 \\times 2$ matrix of which the first columns is the first principal component score vector, and the second column is the second principal component score vector. Comment on the results."
   ]
  },
  {
   "cell_type": "code",
   "execution_count": null,
   "id": "3f413891-49ef-44a6-8f09-6970e8225c6e",
   "metadata": {},
   "outputs": [],
   "source": [
    "pca = PCA() # Default n_components = min(n_samples, n_features)\n",
    "#The fit_transform returns a numpy array of each data point expressed in terms of the principle components\n",
    "X_train_pc = pca.fit_transform(X)\n",
    "\n",
    "kmeans = KMeans(n_clusters=3,\n",
    "                random_state=3,\n",
    "                n_init=20).fit(X_train_pc)\n",
    "fig, ax = plt.subplots(figsize=(8,8))\n",
    "ax.scatter(X_train_pc[:,0], X_train_pc[:,1], c=kmeans.labels_)\n",
    "ax.set_title(\"K-Means Clustering Results with PCA and K=3\");"
   ]
  },
  {
   "cell_type": "markdown",
   "id": "2c194fc2-0e1b-47e4-975e-1fb8d2a06a71",
   "metadata": {},
   "source": [
    "Using the [StandardScalar](https://scikit-learn.org/stable/modules/generated/sklearn.preprocessing.StandardScaler.html) estimator, perform $K$-means clustering with $K = 3$ on the data *after scaling each variable to have standard deviation one*. How do these results compare to those obtained in (b)? Explain."
   ]
  },
  {
   "cell_type": "code",
   "execution_count": null,
   "id": "d010f89b-5cf8-4598-94c4-14f2c0889585",
   "metadata": {},
   "outputs": [],
   "source": [
    "from sklearn.preprocessing import StandardScaler\n",
    "scaler = StandardScaler(with_std = True, with_mean = True)"
   ]
  },
  {
   "cell_type": "code",
   "execution_count": null,
   "id": "a3543f48-b35c-435b-9b29-691d34b6b879",
   "metadata": {},
   "outputs": [],
   "source": [
    "X_scaled = scaler.fit_transform(X)\n",
    "print(scaler.mean_)\n",
    "\n",
    "pca = PCA() # Default n_components = min(n_samples, n_features)\n",
    "#The fit_transform returns a numpy array of each data point expressed in terms of the principle components\n",
    "X_train_pc = pca.fit_transform(X_scaled)\n",
    "\n",
    "kmeans = KMeans(n_clusters=3,\n",
    "                random_state=3,\n",
    "                n_init=20).fit(X_train_pc)\n",
    "fig, ax = plt.subplots(figsize=(8,8))\n",
    "ax.scatter(X_train_pc[:,0], X_train_pc[:,1], c=kmeans.labels_)\n",
    "ax.set_title(\"K-Means Clustering Results with Scaled Data, PCA, and K=3\");"
   ]
  },
  {
   "cell_type": "markdown",
   "id": "b9df8bdb-5e9c-4b67-b725-68db66177ef1",
   "metadata": {},
   "source": [
    "**Hierarchical Clustering**"
   ]
  },
  {
   "cell_type": "markdown",
   "id": "4dc24e2f-7220-4854-9832-c6988ef5f2a2",
   "metadata": {},
   "source": [
    "Using the [USArrests](https://r-data.pmagunia.com/dataset/r-dataset-package-datasets-usarrests) dataset, perform hierarchical clustering on the states. You can find this dataset on Canvas. Also, you'll want to import the pacakages below and use the compute_linkage function defined below (from the lecture notes)."
   ]
  },
  {
   "cell_type": "code",
   "execution_count": 2,
   "id": "b708352b-efb9-479e-bb12-ed7a4b48a829",
   "metadata": {},
   "outputs": [],
   "source": [
    "import numpy as np\n",
    "import pandas as pd\n",
    "import matplotlib.pyplot as plt\n",
    "from sklearn.cluster import AgglomerativeClustering\n",
    "from scipy.cluster.hierarchy import dendrogram\n",
    "\n",
    "def compute_linkage(hclust):\n",
    "    \"\"\"\n",
    "\n",
    "    Create linkage matrix used to plot a dendrogram\n",
    "\n",
    "    Follows [sklearn example](https://scikit-learn.org/stable/auto_examples/cluster/plot_agglomerative_dendrogram.html)\n",
    "\n",
    "    Parameters\n",
    "    ----------\n",
    "\n",
    "    hclust : `sklearn.cluster.AgglomerativeClustering`\n",
    "        Fitted hierarchical clustering object.\n",
    "\n",
    "    Returns\n",
    "    -------\n",
    "\n",
    "    linkage_matrix : np.ndarray\n",
    "        Array to be passed to `dendrogram` from `scipy.cluster.hierarchy`.\n",
    "\n",
    "    \"\"\"\n",
    "    \n",
    "    counts = np.zeros(hclust.children_.shape[0])\n",
    "    n_samples = len(hclust.labels_)\n",
    "    for i, merge in enumerate(hclust.children_):\n",
    "        current_count = 0\n",
    "        for child_idx in merge:\n",
    "            if child_idx < n_samples:\n",
    "                current_count += 1  # leaf node\n",
    "            else:\n",
    "                current_count += counts[child_idx - n_samples]\n",
    "        counts[i] = current_count\n",
    "\n",
    "    linkage_matrix = np.column_stack([hclust.children_, hclust.distances_,\n",
    "                                      counts]).astype(float)\n",
    "    return linkage_matrix"
   ]
  },
  {
   "cell_type": "markdown",
   "id": "682129c3-3dd4-46fb-980e-fea076b7c1b4",
   "metadata": {},
   "source": [
    "First, use hierarchical clustering with complete linkage and Euclidean distance to cluster the states."
   ]
  },
  {
   "cell_type": "code",
   "execution_count": 8,
   "id": "f6895c8e-e763-4b40-b433-38f73184b12d",
   "metadata": {},
   "outputs": [],
   "source": [
    "X = pd.read_csv('Datasets/USArrests.csv')\n",
    "X = X.set_index('State')"
   ]
  },
  {
   "cell_type": "markdown",
   "id": "0126be2d-25f5-4fed-82a0-272819f6e52a",
   "metadata": {},
   "source": [
    "Cut the dendogram at a height that results in three distinct clusters. Which states belong to which clusters?"
   ]
  },
  {
   "cell_type": "code",
   "execution_count": 9,
   "metadata": {},
   "outputs": [],
   "source": [
    "from sklearn.cluster import AgglomerativeClustering\n",
    "\n",
    "HClust = AgglomerativeClustering\n",
    "hc_comp = HClust(distance_threshold=0,\n",
    "                 n_clusters=None,\n",
    "                 linkage='complete',\n",
    "                 metric='euclidean')\n",
    "hc_comp.fit(X);"
   ]
  },
  {
   "cell_type": "code",
   "execution_count": 11,
   "id": "a42c516c-e4fe-4b4c-87a5-1c108e29de7b",
   "metadata": {},
   "outputs": [
    {
     "data": {
      "image/png": "[encoded data removed]",
      "text/plain": [
       "<Figure size 800x800 with 1 Axes>"
      ]
     },
     "metadata": {},
     "output_type": "display_data"
    }
   ],
   "source": [
    "#Your Code Here\n",
    "from scipy.cluster.hierarchy import dendrogram\n",
    "linkage_comp = compute_linkage(hc_comp)\n",
    "\n",
    "fig, ax = plt.subplots(1, 1, figsize=(8, 8))\n",
    "dendrogram(linkage_comp,\n",
    "           ax=ax,\n",
    "           color_threshold=150,\n",
    "           above_threshold_color='black',\n",
    "           leaf_rotation=90, \n",
    "           leaf_font_size=8, \n",
    "           labels=X.index\n",
    "           );\n"
   ]
  },
  {
   "cell_type": "markdown",
   "id": "d2c84847-55a7-4aae-ba0b-e27095364bbf",
   "metadata": {},
   "source": [
    "Hierarchically cluster the states using complete linkage and Euclidean distance, *after scaling the variables to have standard deviation one*."
   ]
  },
  {
   "cell_type": "code",
   "execution_count": 17,
   "id": "a76faeef-67de-4c7f-99e3-8d1d4835c70d",
   "metadata": {},
   "outputs": [
    {
     "data": {
      "text/html": [
       "<div>\n",
       "<style scoped>\n",
       "    .dataframe tbody tr th:only-of-type {\n",
       "        vertical-align: middle;\n",
       "    }\n",
       "\n",
       "    .dataframe tbody tr th {\n",
       "        vertical-align: top;\n",
       "    }\n",
       "\n",
       "    .dataframe thead th {\n",
       "        text-align: right;\n",
       "    }\n",
       "</style>\n",
       "<table border=\"1\" class=\"dataframe\">\n",
       "  <thead>\n",
       "    <tr style=\"text-align: right;\">\n",
       "      <th></th>\n",
       "      <th>Murder</th>\n",
       "      <th>Assault</th>\n",
       "      <th>UrbanPop</th>\n",
       "      <th>Rape</th>\n",
       "    </tr>\n",
       "    <tr>\n",
       "      <th>State</th>\n",
       "      <th></th>\n",
       "      <th></th>\n",
       "      <th></th>\n",
       "      <th></th>\n",
       "    </tr>\n",
       "  </thead>\n",
       "  <tbody>\n",
       "    <tr>\n",
       "      <th>Alabama</th>\n",
       "      <td>13.2</td>\n",
       "      <td>236</td>\n",
       "      <td>58</td>\n",
       "      <td>21.2</td>\n",
       "    </tr>\n",
       "    <tr>\n",
       "      <th>Alaska</th>\n",
       "      <td>10.0</td>\n",
       "      <td>263</td>\n",
       "      <td>48</td>\n",
       "      <td>44.5</td>\n",
       "    </tr>\n",
       "    <tr>\n",
       "      <th>Arizona</th>\n",
       "      <td>8.1</td>\n",
       "      <td>294</td>\n",
       "      <td>80</td>\n",
       "      <td>31.0</td>\n",
       "    </tr>\n",
       "    <tr>\n",
       "      <th>Arkansas</th>\n",
       "      <td>8.8</td>\n",
       "      <td>190</td>\n",
       "      <td>50</td>\n",
       "      <td>19.5</td>\n",
       "    </tr>\n",
       "    <tr>\n",
       "      <th>California</th>\n",
       "      <td>9.0</td>\n",
       "      <td>276</td>\n",
       "      <td>91</td>\n",
       "      <td>40.6</td>\n",
       "    </tr>\n",
       "    <tr>\n",
       "      <th>Colorado</th>\n",
       "      <td>7.9</td>\n",
       "      <td>204</td>\n",
       "      <td>78</td>\n",
       "      <td>38.7</td>\n",
       "    </tr>\n",
       "    <tr>\n",
       "      <th>Connecticut</th>\n",
       "      <td>3.3</td>\n",
       "      <td>110</td>\n",
       "      <td>77</td>\n",
       "      <td>11.1</td>\n",
       "    </tr>\n",
       "    <tr>\n",
       "      <th>Delaware</th>\n",
       "      <td>5.9</td>\n",
       "      <td>238</td>\n",
       "      <td>72</td>\n",
       "      <td>15.8</td>\n",
       "    </tr>\n",
       "    <tr>\n",
       "      <th>Florida</th>\n",
       "      <td>15.4</td>\n",
       "      <td>335</td>\n",
       "      <td>80</td>\n",
       "      <td>31.9</td>\n",
       "    </tr>\n",
       "    <tr>\n",
       "      <th>Georgia</th>\n",
       "      <td>17.4</td>\n",
       "      <td>211</td>\n",
       "      <td>60</td>\n",
       "      <td>25.8</td>\n",
       "    </tr>\n",
       "    <tr>\n",
       "      <th>Hawaii</th>\n",
       "      <td>5.3</td>\n",
       "      <td>46</td>\n",
       "      <td>83</td>\n",
       "      <td>20.2</td>\n",
       "    </tr>\n",
       "    <tr>\n",
       "      <th>Idaho</th>\n",
       "      <td>2.6</td>\n",
       "      <td>120</td>\n",
       "      <td>54</td>\n",
       "      <td>14.2</td>\n",
       "    </tr>\n",
       "    <tr>\n",
       "      <th>Illinois</th>\n",
       "      <td>10.4</td>\n",
       "      <td>249</td>\n",
       "      <td>83</td>\n",
       "      <td>24.0</td>\n",
       "    </tr>\n",
       "    <tr>\n",
       "      <th>Indiana</th>\n",
       "      <td>7.2</td>\n",
       "      <td>113</td>\n",
       "      <td>65</td>\n",
       "      <td>21.0</td>\n",
       "    </tr>\n",
       "    <tr>\n",
       "      <th>Iowa</th>\n",
       "      <td>2.2</td>\n",
       "      <td>56</td>\n",
       "      <td>57</td>\n",
       "      <td>11.3</td>\n",
       "    </tr>\n",
       "    <tr>\n",
       "      <th>Kansas</th>\n",
       "      <td>6.0</td>\n",
       "      <td>115</td>\n",
       "      <td>66</td>\n",
       "      <td>18.0</td>\n",
       "    </tr>\n",
       "    <tr>\n",
       "      <th>Kentucky</th>\n",
       "      <td>9.7</td>\n",
       "      <td>109</td>\n",
       "      <td>52</td>\n",
       "      <td>16.3</td>\n",
       "    </tr>\n",
       "    <tr>\n",
       "      <th>Louisiana</th>\n",
       "      <td>15.4</td>\n",
       "      <td>249</td>\n",
       "      <td>66</td>\n",
       "      <td>22.2</td>\n",
       "    </tr>\n",
       "    <tr>\n",
       "      <th>Maine</th>\n",
       "      <td>2.1</td>\n",
       "      <td>83</td>\n",
       "      <td>51</td>\n",
       "      <td>7.8</td>\n",
       "    </tr>\n",
       "    <tr>\n",
       "      <th>Maryland</th>\n",
       "      <td>11.3</td>\n",
       "      <td>300</td>\n",
       "      <td>67</td>\n",
       "      <td>27.8</td>\n",
       "    </tr>\n",
       "    <tr>\n",
       "      <th>Massachusetts</th>\n",
       "      <td>4.4</td>\n",
       "      <td>149</td>\n",
       "      <td>85</td>\n",
       "      <td>16.3</td>\n",
       "    </tr>\n",
       "    <tr>\n",
       "      <th>Michigan</th>\n",
       "      <td>12.1</td>\n",
       "      <td>255</td>\n",
       "      <td>74</td>\n",
       "      <td>35.1</td>\n",
       "    </tr>\n",
       "    <tr>\n",
       "      <th>Minnesota</th>\n",
       "      <td>2.7</td>\n",
       "      <td>72</td>\n",
       "      <td>66</td>\n",
       "      <td>14.9</td>\n",
       "    </tr>\n",
       "    <tr>\n",
       "      <th>Mississippi</th>\n",
       "      <td>16.1</td>\n",
       "      <td>259</td>\n",
       "      <td>44</td>\n",
       "      <td>17.1</td>\n",
       "    </tr>\n",
       "    <tr>\n",
       "      <th>Missouri</th>\n",
       "      <td>9.0</td>\n",
       "      <td>178</td>\n",
       "      <td>70</td>\n",
       "      <td>28.2</td>\n",
       "    </tr>\n",
       "    <tr>\n",
       "      <th>Montana</th>\n",
       "      <td>6.0</td>\n",
       "      <td>109</td>\n",
       "      <td>53</td>\n",
       "      <td>16.4</td>\n",
       "    </tr>\n",
       "    <tr>\n",
       "      <th>Nebraska</th>\n",
       "      <td>4.3</td>\n",
       "      <td>102</td>\n",
       "      <td>62</td>\n",
       "      <td>16.5</td>\n",
       "    </tr>\n",
       "    <tr>\n",
       "      <th>Nevada</th>\n",
       "      <td>12.2</td>\n",
       "      <td>252</td>\n",
       "      <td>81</td>\n",
       "      <td>46.0</td>\n",
       "    </tr>\n",
       "    <tr>\n",
       "      <th>New Hampshire</th>\n",
       "      <td>2.1</td>\n",
       "      <td>57</td>\n",
       "      <td>56</td>\n",
       "      <td>9.5</td>\n",
       "    </tr>\n",
       "    <tr>\n",
       "      <th>New Jersey</th>\n",
       "      <td>7.4</td>\n",
       "      <td>159</td>\n",
       "      <td>89</td>\n",
       "      <td>18.8</td>\n",
       "    </tr>\n",
       "    <tr>\n",
       "      <th>New Mexico</th>\n",
       "      <td>11.4</td>\n",
       "      <td>285</td>\n",
       "      <td>70</td>\n",
       "      <td>32.1</td>\n",
       "    </tr>\n",
       "    <tr>\n",
       "      <th>New York</th>\n",
       "      <td>11.1</td>\n",
       "      <td>254</td>\n",
       "      <td>86</td>\n",
       "      <td>26.1</td>\n",
       "    </tr>\n",
       "    <tr>\n",
       "      <th>North Carolina</th>\n",
       "      <td>13.0</td>\n",
       "      <td>337</td>\n",
       "      <td>45</td>\n",
       "      <td>16.1</td>\n",
       "    </tr>\n",
       "    <tr>\n",
       "      <th>North Dakota</th>\n",
       "      <td>0.8</td>\n",
       "      <td>45</td>\n",
       "      <td>44</td>\n",
       "      <td>7.3</td>\n",
       "    </tr>\n",
       "    <tr>\n",
       "      <th>Ohio</th>\n",
       "      <td>7.3</td>\n",
       "      <td>120</td>\n",
       "      <td>75</td>\n",
       "      <td>21.4</td>\n",
       "    </tr>\n",
       "    <tr>\n",
       "      <th>Oklahoma</th>\n",
       "      <td>6.6</td>\n",
       "      <td>151</td>\n",
       "      <td>68</td>\n",
       "      <td>20.0</td>\n",
       "    </tr>\n",
       "    <tr>\n",
       "      <th>Oregon</th>\n",
       "      <td>4.9</td>\n",
       "      <td>159</td>\n",
       "      <td>67</td>\n",
       "      <td>29.3</td>\n",
       "    </tr>\n",
       "    <tr>\n",
       "      <th>Pennsylvania</th>\n",
       "      <td>6.3</td>\n",
       "      <td>106</td>\n",
       "      <td>72</td>\n",
       "      <td>14.9</td>\n",
       "    </tr>\n",
       "    <tr>\n",
       "      <th>Rhode Island</th>\n",
       "      <td>3.4</td>\n",
       "      <td>174</td>\n",
       "      <td>87</td>\n",
       "      <td>8.3</td>\n",
       "    </tr>\n",
       "    <tr>\n",
       "      <th>South Carolina</th>\n",
       "      <td>14.4</td>\n",
       "      <td>279</td>\n",
       "      <td>48</td>\n",
       "      <td>22.5</td>\n",
       "    </tr>\n",
       "    <tr>\n",
       "      <th>South Dakota</th>\n",
       "      <td>3.8</td>\n",
       "      <td>86</td>\n",
       "      <td>45</td>\n",
       "      <td>12.8</td>\n",
       "    </tr>\n",
       "    <tr>\n",
       "      <th>Tennessee</th>\n",
       "      <td>13.2</td>\n",
       "      <td>188</td>\n",
       "      <td>59</td>\n",
       "      <td>26.9</td>\n",
       "    </tr>\n",
       "    <tr>\n",
       "      <th>Texas</th>\n",
       "      <td>12.7</td>\n",
       "      <td>201</td>\n",
       "      <td>80</td>\n",
       "      <td>25.5</td>\n",
       "    </tr>\n",
       "    <tr>\n",
       "      <th>Utah</th>\n",
       "      <td>3.2</td>\n",
       "      <td>120</td>\n",
       "      <td>80</td>\n",
       "      <td>22.9</td>\n",
       "    </tr>\n",
       "    <tr>\n",
       "      <th>Vermont</th>\n",
       "      <td>2.2</td>\n",
       "      <td>48</td>\n",
       "      <td>32</td>\n",
       "      <td>11.2</td>\n",
       "    </tr>\n",
       "    <tr>\n",
       "      <th>Virginia</th>\n",
       "      <td>8.5</td>\n",
       "      <td>156</td>\n",
       "      <td>63</td>\n",
       "      <td>20.7</td>\n",
       "    </tr>\n",
       "    <tr>\n",
       "      <th>Washington</th>\n",
       "      <td>4.0</td>\n",
       "      <td>145</td>\n",
       "      <td>73</td>\n",
       "      <td>26.2</td>\n",
       "    </tr>\n",
       "    <tr>\n",
       "      <th>West Virginia</th>\n",
       "      <td>5.7</td>\n",
       "      <td>81</td>\n",
       "      <td>39</td>\n",
       "      <td>9.3</td>\n",
       "    </tr>\n",
       "    <tr>\n",
       "      <th>Wisconsin</th>\n",
       "      <td>2.6</td>\n",
       "      <td>53</td>\n",
       "      <td>66</td>\n",
       "      <td>10.8</td>\n",
       "    </tr>\n",
       "    <tr>\n",
       "      <th>Wyoming</th>\n",
       "      <td>6.8</td>\n",
       "      <td>161</td>\n",
       "      <td>60</td>\n",
       "      <td>15.6</td>\n",
       "    </tr>\n",
       "  </tbody>\n",
       "</table>\n",
       "</div>"
      ],
      "text/plain": [
       "                Murder  Assault  UrbanPop  Rape\n",
       "State                                          \n",
       "Alabama           13.2      236        58  21.2\n",
       "Alaska            10.0      263        48  44.5\n",
       "Arizona            8.1      294        80  31.0\n",
       "Arkansas           8.8      190        50  19.5\n",
       "California         9.0      276        91  40.6\n",
       "Colorado           7.9      204        78  38.7\n",
       "Connecticut        3.3      110        77  11.1\n",
       "Delaware           5.9      238        72  15.8\n",
       "Florida           15.4      335        80  31.9\n",
       "Georgia           17.4      211        60  25.8\n",
       "Hawaii             5.3       46        83  20.2\n",
       "Idaho              2.6      120        54  14.2\n",
       "Illinois          10.4      249        83  24.0\n",
       "Indiana            7.2      113        65  21.0\n",
       "Iowa               2.2       56        57  11.3\n",
       "Kansas             6.0      115        66  18.0\n",
       "Kentucky           9.7      109        52  16.3\n",
       "Louisiana         15.4      249        66  22.2\n",
       "Maine              2.1       83        51   7.8\n",
       "Maryland          11.3      300        67  27.8\n",
       "Massachusetts      4.4      149        85  16.3\n",
       "Michigan          12.1      255        74  35.1\n",
       "Minnesota          2.7       72        66  14.9\n",
       "Mississippi       16.1      259        44  17.1\n",
       "Missouri           9.0      178        70  28.2\n",
       "Montana            6.0      109        53  16.4\n",
       "Nebraska           4.3      102        62  16.5\n",
       "Nevada            12.2      252        81  46.0\n",
       "New Hampshire      2.1       57        56   9.5\n",
       "New Jersey         7.4      159        89  18.8\n",
       "New Mexico        11.4      285        70  32.1\n",
       "New York          11.1      254        86  26.1\n",
       "North Carolina    13.0      337        45  16.1\n",
       "North Dakota       0.8       45        44   7.3\n",
       "Ohio               7.3      120        75  21.4\n",
       "Oklahoma           6.6      151        68  20.0\n",
       "Oregon             4.9      159        67  29.3\n",
       "Pennsylvania       6.3      106        72  14.9\n",
       "Rhode Island       3.4      174        87   8.3\n",
       "South Carolina    14.4      279        48  22.5\n",
       "South Dakota       3.8       86        45  12.8\n",
       "Tennessee         13.2      188        59  26.9\n",
       "Texas             12.7      201        80  25.5\n",
       "Utah               3.2      120        80  22.9\n",
       "Vermont            2.2       48        32  11.2\n",
       "Virginia           8.5      156        63  20.7\n",
       "Washington         4.0      145        73  26.2\n",
       "West Virginia      5.7       81        39   9.3\n",
       "Wisconsin          2.6       53        66  10.8\n",
       "Wyoming            6.8      161        60  15.6"
      ]
     },
     "execution_count": 17,
     "metadata": {},
     "output_type": "execute_result"
    }
   ],
   "source": [
    "X = pd.read_csv('Datasets/USArrests.csv')\n",
    "X = X.set_index('State')\n",
    "X"
   ]
  },
  {
   "cell_type": "code",
   "execution_count": 13,
   "id": "467e71ae-2b05-469c-a225-c39b4599c95f",
   "metadata": {},
   "outputs": [],
   "source": [
    "from sklearn.preprocessing import StandardScaler\n",
    "\n",
    "# Scaling the data so that all the features become comparable\n",
    "scaler = StandardScaler()\n",
    "X_scaled = scaler.fit_transform(X)"
   ]
  },
  {
   "cell_type": "code",
   "execution_count": 14,
   "metadata": {},
   "outputs": [],
   "source": [
    "from sklearn.cluster import AgglomerativeClustering\n",
    "\n",
    "HClust = AgglomerativeClustering\n",
    "hc_comp = HClust(distance_threshold=0,\n",
    "                 n_clusters=None,\n",
    "                 linkage='complete',\n",
    "                 metric='euclidean')\n",
    "hc_comp.fit(X_scaled);"
   ]
  },
  {
   "cell_type": "code",
   "execution_count": 19,
   "metadata": {},
   "outputs": [
    {
     "data": {
      "image/png": "[encoded data removed]",
      "text/plain": [
       "<Figure size 800x800 with 1 Axes>"
      ]
     },
     "metadata": {},
     "output_type": "display_data"
    }
   ],
   "source": [
    "#Your Code Here\n",
    "from scipy.cluster.hierarchy import dendrogram\n",
    "linkage_comp = compute_linkage(hc_comp)\n",
    "\n",
    "fig, ax = plt.subplots(1, 1, figsize=(8, 8))\n",
    "dendrogram(linkage_comp,\n",
    "           ax=ax,\n",
    "           color_threshold=5,\n",
    "           above_threshold_color='black',\n",
    "           leaf_rotation=90, \n",
    "           leaf_font_size=8, \n",
    "           labels=X.index\n",
    "           );\n"
   ]
  },
  {
   "cell_type": "markdown",
   "id": "d2323357-fc55-41b7-b9a3-f47e84fde4cb",
   "metadata": {},
   "source": [
    "What effect does scaling the variables have on the hierarchical clustering obtained? In your opinion, should the variables be scaled before the inter-observation dissimilarities are computed? Provide a justification for your answer.\n",
    "\n",
    "**Looking at the source data it's clear that the Assault feature is at around 10x the other features (Murder, Urban Pop, and Rape). As a result, if we *don't* scale the data, the Assault data will overwhelm the dissimiliarity measures used for clustring. Viewing X_scaled shows all the features are now much more equally balanced. Additionally, the cut threshold must be changed and it's almost impossible to get to three clusters whereas with non-scaled data it was easy.**"
   ]
  },
  {
   "cell_type": "code",
   "execution_count": 18,
   "metadata": {},
   "outputs": [
    {
     "data": {
      "text/plain": [
       "array([[ 1.25517927,  0.79078716, -0.52619514, -0.00345116],\n",
       "       [ 0.51301858,  1.11805959, -1.22406668,  2.50942392],\n",
       "       [ 0.07236067,  1.49381682,  1.00912225,  1.05346626],\n",
       "       [ 0.23470832,  0.23321191, -1.08449238, -0.18679398],\n",
       "       [ 0.28109336,  1.2756352 ,  1.77678094,  2.08881393],\n",
       "       [ 0.02597562,  0.40290872,  0.86954794,  1.88390137],\n",
       "       [-1.04088037, -0.73648418,  0.79976079, -1.09272319],\n",
       "       [-0.43787481,  0.81502956,  0.45082502, -0.58583422],\n",
       "       [ 1.76541475,  1.99078607,  1.00912225,  1.1505301 ],\n",
       "       [ 2.22926518,  0.48775713, -0.38662083,  0.49265293],\n",
       "       [-0.57702994, -1.51224105,  1.21848371, -0.11129987],\n",
       "       [-1.20322802, -0.61527217, -0.80534376, -0.75839217],\n",
       "       [ 0.60578867,  0.94836277,  1.21848371,  0.29852525],\n",
       "       [-0.13637203, -0.70012057, -0.03768506, -0.0250209 ],\n",
       "       [-1.29599811, -1.39102904, -0.5959823 , -1.07115345],\n",
       "       [-0.41468229, -0.67587817,  0.03210209, -0.34856705],\n",
       "       [ 0.44344101, -0.74860538, -0.94491807, -0.53190987],\n",
       "       [ 1.76541475,  0.94836277,  0.03210209,  0.10439756],\n",
       "       [-1.31919063, -1.06375661, -1.01470522, -1.44862395],\n",
       "       [ 0.81452136,  1.56654403,  0.10188925,  0.70835037],\n",
       "       [-0.78576263, -0.26375734,  1.35805802, -0.53190987],\n",
       "       [ 1.00006153,  1.02108998,  0.59039932,  1.49564599],\n",
       "       [-1.1800355 , -1.19708982,  0.03210209, -0.68289807],\n",
       "       [ 1.9277624 ,  1.06957478, -1.5032153 , -0.44563089],\n",
       "       [ 0.28109336,  0.0877575 ,  0.31125071,  0.75148985],\n",
       "       [-0.41468229, -0.74860538, -0.87513091, -0.521125  ],\n",
       "       [-0.80895515, -0.83345379, -0.24704653, -0.51034012],\n",
       "       [ 1.02325405,  0.98472638,  1.0789094 ,  2.671197  ],\n",
       "       [-1.31919063, -1.37890783, -0.66576945, -1.26528114],\n",
       "       [-0.08998698, -0.14254532,  1.63720664, -0.26228808],\n",
       "       [ 0.83771388,  1.38472601,  0.31125071,  1.17209984],\n",
       "       [ 0.76813632,  1.00896878,  1.42784517,  0.52500755],\n",
       "       [ 1.20879423,  2.01502847, -1.43342815, -0.55347961],\n",
       "       [-1.62069341, -1.52436225, -1.5032153 , -1.50254831],\n",
       "       [-0.11317951, -0.61527217,  0.66018648,  0.01811858],\n",
       "       [-0.27552716, -0.23951493,  0.1716764 , -0.13286962],\n",
       "       [-0.66980002, -0.14254532,  0.10188925,  0.87012344],\n",
       "       [-0.34510472, -0.78496898,  0.45082502, -0.68289807],\n",
       "       [-1.01768785,  0.03927269,  1.49763233, -1.39469959],\n",
       "       [ 1.53348953,  1.3119988 , -1.22406668,  0.13675217],\n",
       "       [-0.92491776, -1.027393  , -1.43342815, -0.90938037],\n",
       "       [ 1.25517927,  0.20896951, -0.45640799,  0.61128652],\n",
       "       [ 1.13921666,  0.36654512,  1.00912225,  0.46029832],\n",
       "       [-1.06407289, -0.61527217,  1.00912225,  0.17989166],\n",
       "       [-1.29599811, -1.48799864, -2.34066115, -1.08193832],\n",
       "       [ 0.16513075, -0.17890893, -0.17725937, -0.05737552],\n",
       "       [-0.87853272, -0.31224214,  0.52061217,  0.53579242],\n",
       "       [-0.48425985, -1.08799901, -1.85215107, -1.28685088],\n",
       "       [-1.20322802, -1.42739264,  0.03210209, -1.1250778 ],\n",
       "       [-0.22914211, -0.11830292, -0.38662083, -0.60740397]])"
      ]
     },
     "execution_count": 18,
     "metadata": {},
     "output_type": "execute_result"
    }
   ],
   "source": [
    "X_scaled"
   ]
  },
  {
   "cell_type": "markdown",
   "id": "fdd94527-f7ad-4696-9c27-f5510b8c4094",
   "metadata": {},
   "source": [
    "**Hypothesis Testing**"
   ]
  },
  {
   "cell_type": "code",
   "execution_count": null,
   "id": "404d5faf-ec5f-4b78-9c5c-e67dad334c9d",
   "metadata": {},
   "outputs": [],
   "source": [
    "X=np.random.standard_normal((20,100))"
   ]
  },
  {
   "cell_type": "markdown",
   "id": "b42900e6-6975-4c12-8f2b-fb1ff8a4e865",
   "metadata": {},
   "source": [
    "For this part of the assignment, we've simulated (above) for $m = 100$ fund managers. These data represent each fund manager's percentage returns for each of $n = 20$ months. We wish to test the null hypothesis that each fund manager's percentage returns have population mean equal to zero. Notice that we simulated the data in such a way that each fund manager's percentage returns do have population mean zero; in other words, *all* $m$ null hypotheses are true."
   ]
  },
  {
   "cell_type": "markdown",
   "id": "a18bb07c-59f7-42d8-922a-fe4efb91ea28",
   "metadata": {},
   "source": [
    "Conduct a one-sample $t$-test for each fund manager, and plot a histogram of the $p$-values obtained."
   ]
  },
  {
   "cell_type": "code",
   "execution_count": null,
   "id": "e9f2797f-0dca-4974-86b6-06482012e0c9",
   "metadata": {},
   "outputs": [],
   "source": [
    "from scipy.stats import ttest_1samp"
   ]
  },
  {
   "cell_type": "code",
   "execution_count": null,
   "id": "ceb0da42-bb78-45d8-a3ca-24fba695dba7",
   "metadata": {},
   "outputs": [],
   "source": [
    "#Your Code Here"
   ]
  },
  {
   "cell_type": "markdown",
   "id": "e7fcfd51-d9d1-4b0b-8e48-7cf3c34f87a6",
   "metadata": {},
   "source": [
    "If we control Type I error for each null hypothesis at level $\\alpha = .05$, then how many null hypotheses do we reject?"
   ]
  },
  {
   "cell_type": "code",
   "execution_count": null,
   "id": "cc7f72a5-e419-44e0-9bca-2e16779fbf84",
   "metadata": {},
   "outputs": [],
   "source": [
    "from statsmodels.stats.multitest import multipletests as mult_test"
   ]
  },
  {
   "cell_type": "code",
   "execution_count": null,
   "id": "c1c626ab-eda4-4a70-a638-583bb2cfa45a",
   "metadata": {},
   "outputs": [],
   "source": [
    "#Your Code Here"
   ]
  },
  {
   "cell_type": "markdown",
   "id": "e2e48ce0-a50f-4647-a5d0-0d6069313c8c",
   "metadata": {},
   "source": [
    "If we control the FWER at level $.05$, then how many null hypotheses do we reject?"
   ]
  },
  {
   "cell_type": "code",
   "execution_count": null,
   "id": "590bf3d6-6bc8-48ce-94cf-adc70493e9af",
   "metadata": {},
   "outputs": [],
   "source": [
    "#Your Code Here"
   ]
  },
  {
   "cell_type": "markdown",
   "id": "0bd0e3aa-0c85-4d32-9d53-9b5defca3ce5",
   "metadata": {},
   "source": [
    "If we control the FDR at level $.05$, then how many null hypotheses do we reject"
   ]
  },
  {
   "cell_type": "code",
   "execution_count": null,
   "id": "0ea65629-63ad-4ee5-a36b-a6d06c07fc8f",
   "metadata": {},
   "outputs": [],
   "source": [
    "#Your Code Here"
   ]
  },
  {
   "cell_type": "markdown",
   "id": "3f667630-9a27-4fa4-8819-63f50802633e",
   "metadata": {},
   "source": [
    "Now suppose we \"cherry-pick\" the 10 fund managers who perform the  best in our data. If we control the FWER for just these 10 fund managers at level $.05$, then how many null hypotheses do we reject? If we control the FDR for just these 10 fund managers at level $0.05$, then how many null hypotheses do we reject?"
   ]
  },
  {
   "cell_type": "code",
   "execution_count": null,
   "id": "450c6234-30a8-4f75-b6f4-4261da7eded4",
   "metadata": {},
   "outputs": [],
   "source": [
    "#Your Code Here"
   ]
  },
  {
   "cell_type": "markdown",
   "id": "1388f6b2-9320-4237-9748-ec8193cd74c0",
   "metadata": {},
   "source": [
    "Explain why the analysis directly above (where we \"cherry-picked\" the data) is misleading."
   ]
  }
 ],
 "metadata": {
  "kernelspec": {
   "display_name": "Python 3",
   "language": "python",
   "name": "python3"
  },
  "language_info": {
   "codemirror_mode": {
    "name": "ipython",
    "version": 3
   },
   "file_extension": ".py",
   "mimetype": "text/x-python",
   "name": "python",
   "nbconvert_exporter": "python",
   "pygments_lexer": "ipython3",
   "version": "3.11.5"
  }
 },
 "nbformat": 4,
 "nbformat_minor": 5
}

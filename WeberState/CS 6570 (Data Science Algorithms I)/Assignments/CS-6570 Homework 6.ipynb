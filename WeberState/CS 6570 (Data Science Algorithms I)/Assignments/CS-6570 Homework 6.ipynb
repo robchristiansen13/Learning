{
 "cells": [
  {
   "cell_type": "markdown",
   "id": "0d91e237-1877-4617-b38d-c1c9bee2baa0",
   "metadata": {},
   "source": [
    "# CS-6570 Assignment #6 - Neural Networks and Keras\n",
    "\n",
    "**YOUR NAME HERE**\n",
    "\n",
    "*Weber State University*"
   ]
  },
  {
   "cell_type": "markdown",
   "id": "fa9e27d7-47d1-4641-91e2-8608e66b48a9",
   "metadata": {},
   "source": [
    "In this, our final assignment, we'll use the Keras library to construct neural networks for some classical datasets. In the process, we'll review and explore the important steps in how you specify and train a neural network. Specifically, we'll use a neural network to:\n",
    "\n",
    "1. Perform binary classification on a set of reviews from the Internet Movie Database (IMDB).\n",
    "2. Perform multiclass classification on a set of newswires.\n",
    "3. Perform numeric prediction on a set of housing data.\n",
    "4. Perform multiclass classification on a set of images.\n",
    "\n",
    "The basic process will be the same for all of these - they'll just differ in specifics. But first, let's review the steps we covered in Lecture 22 (our lecture on Keras)."
   ]
  },
  {
   "cell_type": "markdown",
   "id": "67dce7c4-d981-4b52-90e8-088cc2b9dc9f",
   "metadata": {},
   "source": [
    "First, you'll want to make sure you've installed TensorFlow. If you haven't, you'll want to run the command below. Note this can take a while. Not hours, but minutes. Also, note you only need to do this once. Once it's installed it's installed on your account, not just on this particular kernal. If you haven't installed it yet, please uncomment and run the command below. If you have, don't uncomment it and skip the line below."
   ]
  },
  {
   "cell_type": "code",
   "execution_count": null,
   "id": "e004a661-f883-4e79-97f1-758180e87204",
   "metadata": {},
   "outputs": [],
   "source": [
    "# pip install tensorflow"
   ]
  },
  {
   "cell_type": "markdown",
   "id": "cbd61ce2-63f3-4139-85ae-4df1da5c9920",
   "metadata": {},
   "source": [
    "Of course, we'll want to import our favorite libraries, this time adding tensorflow and keras:"
   ]
  },
  {
   "cell_type": "code",
   "execution_count": 1,
   "id": "5a4f894e-1c2c-474c-a74d-6e7c25a840e4",
   "metadata": {},
   "outputs": [],
   "source": [
    "import numpy as np\n",
    "import pandas as pd\n",
    "import matplotlib.pyplot as plt\n",
    "import tensorflow as tf\n",
    "from tensorflow import keras"
   ]
  },
  {
   "cell_type": "markdown",
   "id": "2d5cc139-097d-42c4-96d6-59f567ee940d",
   "metadata": {},
   "source": [
    "Note you might get some warning when you import tensorflow. That's OK."
   ]
  },
  {
   "cell_type": "markdown",
   "id": "b4ac8940-491a-4bbb-8408-9b553074038c",
   "metadata": {},
   "source": [
    "To review the example from Lecture 22, let's import the MNIST handwritten digits dataset."
   ]
  },
  {
   "cell_type": "code",
   "execution_count": 2,
   "id": "a223943e-4b01-49e9-b6c6-dcadff58a402",
   "metadata": {},
   "outputs": [
    {
     "name": "stdout",
     "output_type": "stream",
     "text": [
      "Downloading data from https://storage.googleapis.com/tensorflow/tf-keras-datasets/mnist.npz\n",
      "11490434/11490434 [==============================] - 13s 1us/step\n"
     ]
    }
   ],
   "source": [
    "mnist = keras.datasets.mnist\n",
    "(X_train_full, y_train_full), (X_test, y_test) = mnist.load_data()"
   ]
  },
  {
   "cell_type": "markdown",
   "id": "943f49b9-4241-4cb6-8812-e3997112fae8",
   "metadata": {},
   "source": [
    "The data is already split into a training set and a test set, but there's no validation set, so we'll create one. Additionally, we'll scale the input features - which are represented as integers from  0 to  255. We'll scale them down to the  0−1 range."
   ]
  },
  {
   "cell_type": "code",
   "execution_count": 3,
   "id": "37c8b84d-6159-43f9-b113-b4ae418757fe",
   "metadata": {},
   "outputs": [],
   "source": [
    "X_valid, X_train = X_train_full[:5000] / 255.0, X_train_full[5000:] / 255.0\n",
    "y_valid, y_train = y_train_full[:5000], y_train_full[5000:]\n",
    "X_test = X_test / 255.0"
   ]
  },
  {
   "cell_type": "markdown",
   "id": "9ca1ab34-0adf-4334-8e06-0e891f37f28a",
   "metadata": {},
   "source": [
    "Now, we'll build our model with two layers of 32 nodes."
   ]
  },
  {
   "cell_type": "code",
   "execution_count": 4,
   "id": "a0f07ca7-81d0-4223-8cf6-5db29c9ba3ac",
   "metadata": {},
   "outputs": [],
   "source": [
    "model = keras.models.Sequential([\n",
    "    keras.layers.Flatten(input_shape=[28,28]),\n",
    "    keras.layers.Dense(32, activation=\"relu\"),\n",
    "    keras.layers.Dense(32, activation=\"relu\"),\n",
    "    keras.layers.Dense(10, activation=\"softmax\")\n",
    "    ])"
   ]
  },
  {
   "cell_type": "markdown",
   "id": "4d70cf0c-c8bc-409c-9c3a-755b7b0aa1b3",
   "metadata": {},
   "source": [
    "A few things to note about this neural network:\n",
    "\n",
    "* It's using the [ReLU](https://keras.io/api/layers/activation_layers/relu/) function as the transfer function for the hidden layers. This is the most popular transfer function for hidden layers.\n",
    "* It's using [softmax](https://keras.io/api/layers/activation_layers/softmax/) for the output layer, which means each node represents a probability, and they will all sum to $1$. More info [here](https://en.wikipedia.org/wiki/Softmax_function), and if you'd prefer to watch a video about it, you can do so [here](https://www.youtube.com/watch?v=8ah-qhvaQqU)."
   ]
  },
  {
   "cell_type": "markdown",
   "id": "b9947383-417e-4a86-a6a8-b4e7756f3e04",
   "metadata": {},
   "source": [
    "With this model, we then compile it by specifying the loss function and the optimizer:"
   ]
  },
  {
   "cell_type": "code",
   "execution_count": 5,
   "id": "deb11146-2c21-436f-9a2e-1f53c6206a9b",
   "metadata": {},
   "outputs": [],
   "source": [
    "model.compile(loss=\"sparse_categorical_crossentropy\", optimizer=\"sgd\", metrics = [\"accuracy\"])"
   ]
  },
  {
   "cell_type": "markdown",
   "id": "28b10343-0e20-4f6b-afef-2882ac585cf7",
   "metadata": {},
   "source": [
    "Recall from Lecture 22:\n",
    "\n",
    "* The \"sparse_categorical_crossentropy\" loss is used because we have sparse labels (for each instance there is just a target class index, in this case from $0$ to $9$) and the classes are exclusive. If instead we had one-hot vectors we would use the \"categorical_crossentropy\" loss instead.\n",
    "\n",
    "* The \"sgd\" is our old friend stochastic gradient descent. Note the learning rate defaults to $lr = 0.01$, but we could specify it with *optimizer = keras.optimizers.SGD(lr=???)*\n",
    "\n",
    "* The accuracy just measures the percentage of observations classified correctly.\n",
    "\n",
    "As in Lecture 22, you can check out these links for more info on [losses](https://keras.io/api/losses/), [optimizers](https://keras.io/api/optimizers/), and [metrics](https://keras.io/api/metrics/)."
   ]
  },
  {
   "cell_type": "markdown",
   "id": "eb6b7ee7-2172-43d8-a9e6-d1efa0a7acaa",
   "metadata": {},
   "source": [
    "To train the model, we call the \"fit\" function, and specify the observations, the targets, the number of epochs, and (optionally) the validation set:"
   ]
  },
  {
   "cell_type": "code",
   "execution_count": 6,
   "id": "7c988c10-3ee3-483b-82cf-81a4667850e8",
   "metadata": {},
   "outputs": [
    {
     "name": "stdout",
     "output_type": "stream",
     "text": [
      "Epoch 1/30\n",
      "1719/1719 [==============================] - 1s 456us/step - loss: 0.7573 - accuracy: 0.7871 - val_loss: 0.3490 - val_accuracy: 0.9052\n",
      "Epoch 2/30\n",
      "1719/1719 [==============================] - 1s 408us/step - loss: 0.3318 - accuracy: 0.9033 - val_loss: 0.2837 - val_accuracy: 0.9174\n",
      "Epoch 3/30\n",
      "1719/1719 [==============================] - 1s 410us/step - loss: 0.2820 - accuracy: 0.9181 - val_loss: 0.2458 - val_accuracy: 0.9272\n",
      "Epoch 4/30\n",
      "1719/1719 [==============================] - 1s 409us/step - loss: 0.2508 - accuracy: 0.9275 - val_loss: 0.2300 - val_accuracy: 0.9354\n",
      "Epoch 5/30\n",
      "1719/1719 [==============================] - 1s 410us/step - loss: 0.2268 - accuracy: 0.9349 - val_loss: 0.2050 - val_accuracy: 0.9406\n",
      "Epoch 6/30\n",
      "1719/1719 [==============================] - 1s 410us/step - loss: 0.2081 - accuracy: 0.9396 - val_loss: 0.1892 - val_accuracy: 0.9450\n",
      "Epoch 7/30\n",
      "1719/1719 [==============================] - 1s 418us/step - loss: 0.1934 - accuracy: 0.9446 - val_loss: 0.1762 - val_accuracy: 0.9494\n",
      "Epoch 8/30\n",
      "1719/1719 [==============================] - 1s 411us/step - loss: 0.1797 - accuracy: 0.9482 - val_loss: 0.1667 - val_accuracy: 0.9526\n",
      "Epoch 9/30\n",
      "1719/1719 [==============================] - 1s 414us/step - loss: 0.1685 - accuracy: 0.9514 - val_loss: 0.1598 - val_accuracy: 0.9546\n",
      "Epoch 10/30\n",
      "1719/1719 [==============================] - 1s 410us/step - loss: 0.1583 - accuracy: 0.9545 - val_loss: 0.1519 - val_accuracy: 0.9568\n",
      "Epoch 11/30\n",
      "1719/1719 [==============================] - 1s 413us/step - loss: 0.1503 - accuracy: 0.9567 - val_loss: 0.1435 - val_accuracy: 0.9574\n",
      "Epoch 12/30\n",
      "1719/1719 [==============================] - 1s 409us/step - loss: 0.1420 - accuracy: 0.9589 - val_loss: 0.1412 - val_accuracy: 0.9590\n",
      "Epoch 13/30\n",
      "1719/1719 [==============================] - 1s 408us/step - loss: 0.1355 - accuracy: 0.9613 - val_loss: 0.1380 - val_accuracy: 0.9598\n",
      "Epoch 14/30\n",
      "1719/1719 [==============================] - 1s 408us/step - loss: 0.1293 - accuracy: 0.9625 - val_loss: 0.1301 - val_accuracy: 0.9620\n",
      "Epoch 15/30\n",
      "1719/1719 [==============================] - 1s 413us/step - loss: 0.1238 - accuracy: 0.9649 - val_loss: 0.1300 - val_accuracy: 0.9622\n",
      "Epoch 16/30\n",
      "1719/1719 [==============================] - 1s 414us/step - loss: 0.1187 - accuracy: 0.9655 - val_loss: 0.1280 - val_accuracy: 0.9642\n",
      "Epoch 17/30\n",
      "1719/1719 [==============================] - 1s 415us/step - loss: 0.1149 - accuracy: 0.9674 - val_loss: 0.1216 - val_accuracy: 0.9636\n",
      "Epoch 18/30\n",
      "1719/1719 [==============================] - 1s 414us/step - loss: 0.1100 - accuracy: 0.9685 - val_loss: 0.1205 - val_accuracy: 0.9648\n",
      "Epoch 19/30\n",
      "1719/1719 [==============================] - 1s 419us/step - loss: 0.1068 - accuracy: 0.9691 - val_loss: 0.1161 - val_accuracy: 0.9662\n",
      "Epoch 20/30\n",
      "1719/1719 [==============================] - 1s 411us/step - loss: 0.1034 - accuracy: 0.9706 - val_loss: 0.1168 - val_accuracy: 0.9678\n",
      "Epoch 21/30\n",
      "1719/1719 [==============================] - 1s 410us/step - loss: 0.0996 - accuracy: 0.9713 - val_loss: 0.1110 - val_accuracy: 0.9690\n",
      "Epoch 22/30\n",
      "1719/1719 [==============================] - 1s 408us/step - loss: 0.0970 - accuracy: 0.9723 - val_loss: 0.1099 - val_accuracy: 0.9692\n",
      "Epoch 23/30\n",
      "1719/1719 [==============================] - 1s 413us/step - loss: 0.0941 - accuracy: 0.9727 - val_loss: 0.1145 - val_accuracy: 0.9662\n",
      "Epoch 24/30\n",
      "1719/1719 [==============================] - 1s 407us/step - loss: 0.0916 - accuracy: 0.9738 - val_loss: 0.1065 - val_accuracy: 0.9698\n",
      "Epoch 25/30\n",
      "1719/1719 [==============================] - 1s 407us/step - loss: 0.0895 - accuracy: 0.9741 - val_loss: 0.1070 - val_accuracy: 0.9698\n",
      "Epoch 26/30\n",
      "1719/1719 [==============================] - 1s 409us/step - loss: 0.0870 - accuracy: 0.9752 - val_loss: 0.1030 - val_accuracy: 0.9690\n",
      "Epoch 27/30\n",
      "1719/1719 [==============================] - 1s 418us/step - loss: 0.0846 - accuracy: 0.9754 - val_loss: 0.1033 - val_accuracy: 0.9688\n",
      "Epoch 28/30\n",
      "1719/1719 [==============================] - 1s 413us/step - loss: 0.0824 - accuracy: 0.9762 - val_loss: 0.1020 - val_accuracy: 0.9698\n",
      "Epoch 29/30\n",
      "1719/1719 [==============================] - 1s 415us/step - loss: 0.0803 - accuracy: 0.9769 - val_loss: 0.1036 - val_accuracy: 0.9696\n",
      "Epoch 30/30\n",
      "1719/1719 [==============================] - 1s 414us/step - loss: 0.0782 - accuracy: 0.9775 - val_loss: 0.0973 - val_accuracy: 0.9710\n"
     ]
    }
   ],
   "source": [
    "history = model.fit(X_train, y_train, epochs = 30, validation_data=(X_valid,y_valid))"
   ]
  },
  {
   "cell_type": "markdown",
   "id": "e6fbcef6-af71-47de-b97c-58bbe30a2e64",
   "metadata": {},
   "source": [
    "The main purpose of running the model is to update the weights, but the output is the history object, which we can use to see how the model changed over time."
   ]
  },
  {
   "cell_type": "markdown",
   "id": "8da316b2-7825-4549-b5e1-70a1db3b38bd",
   "metadata": {},
   "source": [
    "We can convert the history object into a dataframe and plot how the measures of interest (loss and accuracy) changed over time for both the training data and validation data:"
   ]
  },
  {
   "cell_type": "code",
   "execution_count": 7,
   "id": "f31fac80-a670-45e9-a857-2fc35fdced80",
   "metadata": {},
   "outputs": [
    {
     "data": {
      "image/png": "[encoded data removed]",
      "text/plain": [
       "<Figure size 1000x600 with 1 Axes>"
      ]
     },
     "metadata": {},
     "output_type": "display_data"
    }
   ],
   "source": [
    "pd.DataFrame(history.history).plot(figsize=(10,6))\n",
    "plt.grid(True)\n",
    "plt.show()"
   ]
  },
  {
   "cell_type": "markdown",
   "id": "3bf5355f-f028-4fde-a9e6-60f3bf04d4fd",
   "metadata": {},
   "source": [
    "It looks like after about 15 or so epochs our model was fully trained, and further epochs were just overfitting."
   ]
  },
  {
   "cell_type": "markdown",
   "id": "978e4ae5-945d-42ad-a1c0-31d2db49b60f",
   "metadata": {},
   "source": [
    "Finally, we can see how the trained model does on our testing data:"
   ]
  },
  {
   "cell_type": "code",
   "execution_count": 8,
   "id": "1fea2bb1-e795-4f22-91f7-cbe673adfdca",
   "metadata": {},
   "outputs": [
    {
     "name": "stdout",
     "output_type": "stream",
     "text": [
      "313/313 [==============================] - 0s 346us/step - loss: 0.1073 - accuracy: 0.9669\n"
     ]
    },
    {
     "data": {
      "text/plain": [
       "[0.10734418034553528, 0.9668999910354614]"
      ]
     },
     "execution_count": 8,
     "metadata": {},
     "output_type": "execute_result"
    }
   ],
   "source": [
    "model.evaluate(X_test, y_test)"
   ]
  },
  {
   "cell_type": "markdown",
   "id": "1d3e5617",
   "metadata": {},
   "source": [
    "Pretty good!"
   ]
  },
  {
   "cell_type": "markdown",
   "id": "0c0dbece-0885-49ea-bd56-b7742f540414",
   "metadata": {},
   "source": [
    "**Part 1 - Binary Classification of Movie Reviews**\n",
    "\n",
    "For this first part, we'll work with the IMDB dataset, a set of 50,000 highly polarized reviews from the Internet Movie Database. They're split into 25,000 reviews for training and 25,000 reviews for testing, with each set consisting of 50% negative and 50% positive reviews. Just like the MNIST dataset, the IMDB dataset comes packaged with Keras. The reviews (which are sequences of words) have been turned into sequences of integers, where each integer stands for a specific word in a dictionary. We can load it with the following commands:"
   ]
  },
  {
   "cell_type": "code",
   "execution_count": 9,
   "id": "f42ab4b9-0056-430a-827c-84b04b014edf",
   "metadata": {},
   "outputs": [
    {
     "name": "stdout",
     "output_type": "stream",
     "text": [
      "Downloading data from https://storage.googleapis.com/tensorflow/tf-keras-datasets/imdb.npz\n",
      "17464789/17464789 [==============================] - 20s 1us/step\n"
     ]
    }
   ],
   "source": [
    "from keras.datasets import imdb\n",
    "(train_data, train_labels), (test_data, test_labels) = imdb.load_data(num_words=10000)"
   ]
  },
  {
   "cell_type": "markdown",
   "id": "5700f5d2-6f83-43e6-8836-38f094f776b4",
   "metadata": {},
   "source": [
    "Note we pass a \"num_words = n\" argument to load data here, which allows us to keep only the $n$ most frequent words in the training data. This keeps our data to a more manageable size, and also prevents rare words from causing overfitting in our model. The *train_data* and *test_data* objects are lists of reviews, where each reviews is a list of word indices (which encode a sequence of words). The *train_labels* and *test_labels* objects are lists of $0$s and $1$s, where $0$ stands for *negative* (bad review), and $1$ stands for \"positive\" (good review)."
   ]
  },
  {
   "cell_type": "markdown",
   "id": "b3205baa-f914-41e6-9932-b15a4e3576c8",
   "metadata": {},
   "source": [
    "We can, for fun, decode the reviews and read them with the following code:"
   ]
  },
  {
   "cell_type": "code",
   "execution_count": 10,
   "id": "69c26cd4-366e-4609-ab48-e3cc87baf0d1",
   "metadata": {},
   "outputs": [
    {
     "name": "stdout",
     "output_type": "stream",
     "text": [
      "Downloading data from https://storage.googleapis.com/tensorflow/tf-keras-datasets/imdb_word_index.json\n",
      "1641221/1641221 [==============================] - 2s 1us/step\n"
     ]
    },
    {
     "data": {
      "text/plain": [
       "\"? this film was just brilliant casting location scenery story direction everyone's really suited the part they played and you could just imagine being there robert ? is an amazing actor and now the same being director ? father came from the same scottish island as myself so i loved the fact there was a real connection with this film the witty remarks throughout the film were great it was just brilliant so much that i bought the film as soon as it was released for ? and would recommend it to everyone to watch and the fly fishing was amazing really cried at the end it was so sad and you know what they say if you cry at a film it must have been good and this definitely was also ? to the two little boy's that played the ? of norman and paul they were just brilliant children are often left out of the ? list i think because the stars that play them all grown up are such a big profile for the whole film but these children are amazing and should be praised for what they have done don't you think the whole story was so lovely because it was true and was someone's life after all that was shared with us all\""
      ]
     },
     "execution_count": 10,
     "metadata": {},
     "output_type": "execute_result"
    }
   ],
   "source": [
    "word_index = imdb.get_word_index() # This is a dictionary mapping words to an integer index. It's basically the encoder.\n",
    "reverse_word_index = dict([(value, key) for (key, value) in word_index.items()]) # Maps the integers back to words. It's basically a decoder build from our encoder.\n",
    "decoded_review = \" \".join([reverse_word_index.get(i-3,\"?\") for i in train_data[0]]) #Decodes the review. Note that the indices are offset by 3 because 0, 1, and 2 are reserved for \"padding\", \"start of sequence\", and \"unknown\".\n",
    "decoded_review"
   ]
  },
  {
   "cell_type": "markdown",
   "id": "57009b5a-ae4d-4e98-93da-d6db6bd4eb2b",
   "metadata": {
    "tags": []
   },
   "source": [
    "Seems pretty positive to me! Let's confirm:"
   ]
  },
  {
   "cell_type": "code",
   "execution_count": 11,
   "id": "048c16b2-4297-42cc-ad36-6f4dead126d0",
   "metadata": {
    "tags": []
   },
   "outputs": [
    {
     "data": {
      "text/plain": [
       "1"
      ]
     },
     "execution_count": 11,
     "metadata": {},
     "output_type": "execute_result"
    }
   ],
   "source": [
    "train_labels[0]"
   ]
  },
  {
   "cell_type": "markdown",
   "id": "61058206-187e-4fa9-8906-c86effd502fb",
   "metadata": {},
   "source": [
    "Let's check out another: (Note we switch the review by changing the argument to the *train_data* array in the third line.)"
   ]
  },
  {
   "cell_type": "code",
   "execution_count": 12,
   "id": "1f0f7924-7df1-427b-bfcd-e66f6ff46a7e",
   "metadata": {},
   "outputs": [
    {
     "data": {
      "text/plain": [
       "\"? this has to be one of the worst films of the 1990s when my friends i were watching this film being the target audience it was aimed at we just sat watched the first half an hour with our jaws touching the floor at how bad it really was the rest of the time everyone else in the theatre just started talking to each other leaving or generally crying into their popcorn that they actually paid money they had ? working to watch this feeble excuse for a film it must have looked like a great idea on paper but on film it looks like no one in the film has a clue what is going on crap acting crap costumes i can't get across how ? this is to watch save yourself an hour a bit of your life\""
      ]
     },
     "execution_count": 12,
     "metadata": {},
     "output_type": "execute_result"
    }
   ],
   "source": [
    "decoded_review = \" \".join([reverse_word_index.get(i-3,\"?\") for i in train_data[2]])\n",
    "decoded_review"
   ]
  },
  {
   "cell_type": "markdown",
   "id": "e75c7514-dbb2-462f-87e1-8a3eb5a21b17",
   "metadata": {},
   "source": [
    "So, thumbs down on that one."
   ]
  },
  {
   "cell_type": "code",
   "execution_count": 13,
   "id": "3676c12e-f4ca-4ef8-ab31-f6da2da6d6a9",
   "metadata": {
    "tags": []
   },
   "outputs": [
    {
     "data": {
      "text/plain": [
       "0"
      ]
     },
     "execution_count": 13,
     "metadata": {},
     "output_type": "execute_result"
    }
   ],
   "source": [
    "train_labels[2]"
   ]
  },
  {
   "cell_type": "markdown",
   "id": "1d80c1ac-a54e-4ee8-aba8-437e2c7323b1",
   "metadata": {},
   "source": [
    "Now, unfortunately for us we can't directly feed these lists of integers into a neural network. They all have different lengths. We can fix this with a *multi-hot encoding*, where we turn each list into a vector of $0$s and $1$s. This would mean, for instance, turning the sequence $[8,5]$ into a 10,000-dimensional vector that would be all $0$s except for indices $8$ and $5$, which would be $1$s. Note we'd lose the information about the order of the words, and just retain which words were used, but that's probably OK for this task."
   ]
  },
  {
   "cell_type": "code",
   "execution_count": 14,
   "id": "62ccb34a-54da-4f2e-a3a2-3a774c6818e8",
   "metadata": {},
   "outputs": [],
   "source": [
    "def vectorize_sequences(sequences, dimension = 10000):\n",
    "    results = np.zeros((len(sequences), dimension))\n",
    "    for i, sequence in enumerate(sequences):\n",
    "        for j in sequence:\n",
    "            results[i,j] = 1.\n",
    "    return results\n",
    "X_train = vectorize_sequences(train_data)\n",
    "X_test = vectorize_sequences(test_data)"
   ]
  },
  {
   "cell_type": "markdown",
   "id": "b731a679-5686-47b7-a8a7-48832453020a",
   "metadata": {},
   "source": [
    "So now, our observations are sparse vectors. For example:"
   ]
  },
  {
   "cell_type": "code",
   "execution_count": 15,
   "id": "013bcfd4-8de9-48df-9dd9-f9f851aa10a1",
   "metadata": {},
   "outputs": [
    {
     "data": {
      "text/plain": [
       "array([0., 1., 1., ..., 0., 0., 0.])"
      ]
     },
     "execution_count": 15,
     "metadata": {},
     "output_type": "execute_result"
    }
   ],
   "source": [
    "X_train[0]"
   ]
  },
  {
   "cell_type": "markdown",
   "id": "59c90df6-ed89-4482-8764-39fbbbc1c7f4",
   "metadata": {},
   "source": [
    "We should also vectorize our labels:"
   ]
  },
  {
   "cell_type": "code",
   "execution_count": 16,
   "id": "061c4f79-aa94-4a85-9c32-5c79d14ee632",
   "metadata": {},
   "outputs": [],
   "source": [
    "y_train = np.asarray(train_labels).astype(\"float32\")\n",
    "y_test = np.asarray(test_labels).astype(\"float32\")"
   ]
  },
  {
   "cell_type": "markdown",
   "id": "395b35e0-1e59-4e52-a809-b1a8e0762f4d",
   "metadata": {},
   "source": [
    "Now, it's your turn! First, construct a model with three layers (after the input). Two dense, hidden layers with 16 nodes and relu transfer functions, and a final, dense output node with a sigmoid activation function."
   ]
  },
  {
   "cell_type": "code",
   "execution_count": null,
   "id": "8c93e4b3-6bbf-4f81-b3cf-2421cc518af1",
   "metadata": {},
   "outputs": [],
   "source": [
    "#YOUR CODE HERE\n",
    "model = keras.models.Sequential([\n",
    "    keras.layers.Flatten(input_shape=[28,28]),\n",
    "    keras.layers.Dense(16, activation=\"relu\"),\n",
    "    keras.layers.Dense(16, activation=\"relu\"),\n",
    "    keras.layers.Dense(10, activation=\"sigmoid\")\n",
    "    ])"
   ]
  },
  {
   "cell_type": "markdown",
   "id": "163d6f1d-e691-4085-bbd9-d690afbdc98a",
   "metadata": {},
   "source": [
    "Next, compile your model using the *rmsprop* optimizer and the *binary_crossentropy* loss function. Also, track the accuracy."
   ]
  },
  {
   "cell_type": "code",
   "execution_count": null,
   "id": "d4e25904-34e4-4c37-921d-329307290dd7",
   "metadata": {},
   "outputs": [],
   "source": [
    "#YOUR CODE HERE"
   ]
  },
  {
   "cell_type": "markdown",
   "id": "1198715c-d05c-4e2f-883e-351a067f17d1",
   "metadata": {},
   "source": [
    "Set aside the first 10,000 observations in the training data as the validation data."
   ]
  },
  {
   "cell_type": "code",
   "execution_count": null,
   "id": "0c1825d4-94e6-4f98-be08-1292093d2128",
   "metadata": {},
   "outputs": [],
   "source": [
    "#YOUR CODE HERE"
   ]
  },
  {
   "cell_type": "markdown",
   "id": "3de19563-8167-4ce7-a98d-e490d2c4fac8",
   "metadata": {},
   "source": [
    "Finally, fit your model to the remaining training data. Train for 20 epochs and provide the validation data. Also, as we're using *rmsprop* and not *sgd* as our optimizer, we'll want to specify a *batch_size*. Go with a *batch_size* of $512$."
   ]
  },
  {
   "cell_type": "code",
   "execution_count": null,
   "id": "dcca0c83-df73-48f5-8398-e2478909b0ea",
   "metadata": {},
   "outputs": [],
   "source": [
    "#YOUR CODE HERE"
   ]
  },
  {
   "cell_type": "markdown",
   "id": "94bb3cf9-daf2-4c49-a4d2-647c3794b42f",
   "metadata": {},
   "source": [
    "Then create two plots. The first with training and validation loss. Label your data series."
   ]
  },
  {
   "cell_type": "code",
   "execution_count": null,
   "id": "5ed1c453-86a4-423d-9655-255c2cc1c737",
   "metadata": {},
   "outputs": [],
   "source": [
    "#YOUR CODE HERE"
   ]
  },
  {
   "cell_type": "markdown",
   "id": "7c8696ff-fab5-4f6c-bd3c-3a69b45ac2e3",
   "metadata": {},
   "source": [
    "The second with the training and validation accuracy. Again, label your data series."
   ]
  },
  {
   "cell_type": "code",
   "execution_count": null,
   "id": "d045ffa9-9804-426f-bcfd-dd64482d3c5a",
   "metadata": {},
   "outputs": [],
   "source": [
    "#YOUR CODE HERE"
   ]
  },
  {
   "cell_type": "markdown",
   "id": "28547eac-80fe-4a85-805f-87c62a6b0155",
   "metadata": {},
   "source": [
    "Retrain the model, and stop after a number of epochs that makes sense based upon your training and validation data."
   ]
  },
  {
   "cell_type": "markdown",
   "id": "0a9230a8",
   "metadata": {},
   "source": [
    "*Answer* - It looks like the validation accuracy peaks after about 7 epochs."
   ]
  },
  {
   "cell_type": "code",
   "execution_count": null,
   "id": "dc22de4d-faa2-4f8f-993e-fd4c32da08d8",
   "metadata": {},
   "outputs": [],
   "source": [
    "#YOUR CODE HERE"
   ]
  },
  {
   "cell_type": "markdown",
   "id": "858a0aa2-5493-4a2a-abf2-5663b8f430bb",
   "metadata": {},
   "source": [
    "How well does this model do on the test data?"
   ]
  },
  {
   "cell_type": "code",
   "execution_count": null,
   "id": "e552521a-fb3f-445f-826f-cc08d381691c",
   "metadata": {},
   "outputs": [],
   "source": [
    "#YOUR CODE HERE"
   ]
  },
  {
   "cell_type": "markdown",
   "id": "38391649-0f49-4090-a39b-2e3cefc108c2",
   "metadata": {},
   "source": [
    "**Part 2 - Multiclass Classification of Newswires**\n",
    "\n",
    "For this next section, we'll be working with the *Reuters dataset*, a set of short newswires and their topics, published by Reuters in 1986. There are 46 different topics, and some topics are more represented than others, but each topic has at least 10 examples in the training set. Our goal is to train a model to correctly classify each newswire by its topic. In other words, it's a multiclass classification problem."
   ]
  },
  {
   "cell_type": "markdown",
   "id": "dbcf18e5-6aef-4c13-84fe-f500b799f60f",
   "metadata": {},
   "source": [
    "Like the IMDB reviews, the Reuter's newswire dataset comes packaged with Keras:"
   ]
  },
  {
   "cell_type": "code",
   "execution_count": null,
   "id": "00fa87ed-86ed-4c00-800c-bcb58e6b040a",
   "metadata": {},
   "outputs": [],
   "source": [
    "from keras.datasets import reuters\n",
    "(train_data, train_labels), (test_data, test_labels) = reuters.load_data(num_words = 10000)"
   ]
  },
  {
   "cell_type": "markdown",
   "id": "1883f371-9793-4086-982b-fd4ecf6cbd27",
   "metadata": {},
   "source": [
    "As with the IMDB reviews, we can restrict ourselves to just the $n$ most common words within the dataset, and we restrict ourselves to the top $10,000$."
   ]
  },
  {
   "cell_type": "markdown",
   "id": "2f8fde21-4fd4-44a5-83c1-fd238e2b4de7",
   "metadata": {},
   "source": [
    "There are $8,982$ training examples and $2,246$ test examples:"
   ]
  },
  {
   "cell_type": "code",
   "execution_count": null,
   "id": "1d952cb5-03c7-4941-965c-88ee88cf2532",
   "metadata": {},
   "outputs": [],
   "source": [
    "len(train_data)"
   ]
  },
  {
   "cell_type": "code",
   "execution_count": null,
   "id": "e713dc99-6a8a-496e-b1d4-7cb5f9ab73c4",
   "metadata": {},
   "outputs": [],
   "source": [
    "len(test_data)"
   ]
  },
  {
   "cell_type": "markdown",
   "id": "e548cbc2-81cf-4290-af8a-3249853792be",
   "metadata": {},
   "source": [
    "Again, like the IMDB data, each example is a list of integers:"
   ]
  },
  {
   "cell_type": "code",
   "execution_count": null,
   "id": "24e91047-2b8f-47b3-b2f2-69694d373040",
   "metadata": {},
   "outputs": [],
   "source": [
    "train_data[42]"
   ]
  },
  {
   "cell_type": "markdown",
   "id": "6ea3b71e-20aa-4316-b052-29af9f647372",
   "metadata": {},
   "source": [
    "We can decode these lists back to words using the code below, as we did for the IMDB reviews:"
   ]
  },
  {
   "cell_type": "code",
   "execution_count": null,
   "id": "1538040f-e97a-4595-8cbb-aa2c57664de8",
   "metadata": {},
   "outputs": [],
   "source": [
    "word_index = reuters.get_word_index() # This is a dictionary mapping words to an integer index. It's basically the encoder.\n",
    "reverse_word_index = dict([(value, key) for (key, value) in word_index.items()]) # Maps the integers back to words. It's basically a decoder build from our encoder.\n",
    "decoded_newswire = \" \".join([reverse_word_index.get(i-3,\"?\") for i in train_data[25]]) #Decodes the review. Note that the indices are offset by 3 because 0, 1, and 2 are reserved for \"padding\", \"start of sequence\", and \"unknown\".\n",
    "decoded_newswire"
   ]
  },
  {
   "cell_type": "markdown",
   "id": "85288a03-badd-4f8d-b4d3-8b0d7a266f7d",
   "metadata": {},
   "source": [
    "What's the topic here?"
   ]
  },
  {
   "cell_type": "code",
   "execution_count": null,
   "id": "b1819ce8-dca4-4d73-9005-0b629c915cee",
   "metadata": {},
   "outputs": [],
   "source": [
    "train_labels[25]"
   ]
  },
  {
   "cell_type": "markdown",
   "id": "013adce4-ab17-4e90-b6ab-295d2c50d77c",
   "metadata": {},
   "source": [
    "The topic number is $1$. OK, but what's that? Well, unfortunately, the Reuters dataset on Keras does not provide a dictionary mapping topic numbers to a description! Seems like something it should have. However, we can find some discussion of it on GitHub [here](https://github.com/keras-team/keras/issues/12072). From here it looks like topic 1 is \"grain\"."
   ]
  },
  {
   "cell_type": "markdown",
   "id": "d91c9db5-9320-4563-b8a6-e8e710d22044",
   "metadata": {},
   "source": [
    "We can vectorize this data using exactly the same functions as in Part 1:"
   ]
  },
  {
   "cell_type": "code",
   "execution_count": null,
   "id": "0efcf02c-f28a-47c1-b0f6-5c9a84adf3c8",
   "metadata": {},
   "outputs": [],
   "source": [
    "X_train = vectorize_sequences(train_data)\n",
    "X_test = vectorize_sequences(test_data)\n",
    "y_train = np.asarray(train_labels).astype(\"float32\")\n",
    "y_test = np.asarray(test_labels).astype(\"float32\")"
   ]
  },
  {
   "cell_type": "markdown",
   "id": "23e75287-0191-4b2c-bf62-875882953fdd",
   "metadata": {},
   "source": [
    "Build a three-layer sequential model whole first two layers are dense, hidden layers with 64 nodes and ReLU activation functions. The final, output layer should have a number of nodes corresponding to the number of categories (46), and should us the softmax activation function like we used for the MNIST data above."
   ]
  },
  {
   "cell_type": "code",
   "execution_count": null,
   "id": "d1641f77-5871-47e1-b239-4698db8c6798",
   "metadata": {},
   "outputs": [],
   "source": [
    "#YOUR CODE HERE"
   ]
  },
  {
   "cell_type": "markdown",
   "id": "3648545f-be17-4327-abe7-473f57d8240e",
   "metadata": {},
   "source": [
    "Now, compile the model using the \"rmsprop\" optimizer, and the \"sparse_categorical_crossentropy\" loss. Also, store the accuracy metric as we did in the MNIST example."
   ]
  },
  {
   "cell_type": "code",
   "execution_count": null,
   "id": "8ae69a1e-9257-4cb6-9310-103447cf5b10",
   "metadata": {},
   "outputs": [],
   "source": [
    "#YOUR CODE HERE"
   ]
  },
  {
   "cell_type": "markdown",
   "id": "6656a513-e1b3-4dc3-a7b5-c0fb104c1903",
   "metadata": {},
   "source": [
    "Split your training data into a training set and a validation set. This time, only use $1,000$ observations in the validation set."
   ]
  },
  {
   "cell_type": "code",
   "execution_count": null,
   "id": "4a216a67-b8eb-49af-b2fe-0acb1679b35b",
   "metadata": {},
   "outputs": [],
   "source": [
    "#YOUR CODE HERE"
   ]
  },
  {
   "cell_type": "markdown",
   "id": "f1364ee9-ce9d-405d-b60b-267dbb160584",
   "metadata": {},
   "source": [
    "Using the training data, train the model for $20$ epochs with a batch size of $512$, and store the training history. "
   ]
  },
  {
   "cell_type": "code",
   "execution_count": null,
   "id": "3ff8af84-0a4e-422c-bae8-7bc4fb8da97b",
   "metadata": {},
   "outputs": [],
   "source": [
    "#YOUR CODE HERE"
   ]
  },
  {
   "cell_type": "markdown",
   "id": "298f5193-6488-4ebc-b941-ae23c3b576d6",
   "metadata": {},
   "source": [
    "Plot the loss and accuracy curves for both the training and validation data. Where does it look like they diverge?"
   ]
  },
  {
   "cell_type": "code",
   "execution_count": null,
   "id": "bd501f53-7ecc-4c1b-8538-fe64da9bbe99",
   "metadata": {},
   "outputs": [],
   "source": [
    "#YOUR CODE HERE (lOSS CURVES)"
   ]
  },
  {
   "cell_type": "code",
   "execution_count": null,
   "id": "8ead5c97",
   "metadata": {},
   "outputs": [],
   "source": [
    "#YOUR CODE HERE (ACCURACY CURVES)"
   ]
  },
  {
   "cell_type": "markdown",
   "id": "6dc01e4a-de0d-486b-a8fe-d51a6cc12649",
   "metadata": {},
   "source": [
    "Restart your model, and train it for a more appropriate number of epochs based on what you've found."
   ]
  },
  {
   "cell_type": "code",
   "execution_count": null,
   "id": "adaab304-510d-462a-a46b-85ba557afe3d",
   "metadata": {},
   "outputs": [],
   "source": [
    "#YOUR CODE HERE"
   ]
  },
  {
   "cell_type": "markdown",
   "id": "f4109630-f113-404e-8765-55a1826efe04",
   "metadata": {},
   "source": [
    "Check the performance of this new model on the test data."
   ]
  },
  {
   "cell_type": "code",
   "execution_count": null,
   "id": "04bfc357-2651-438e-bafc-a384925a1f73",
   "metadata": {},
   "outputs": [],
   "source": [
    "#YOUR CODE HERE"
   ]
  },
  {
   "cell_type": "markdown",
   "id": "5b0aa0d9-01fd-4acb-aec0-ebad4a2f9da1",
   "metadata": {},
   "source": [
    "**Part 3 - Numerical Predictions (Regression) on Housing Data**\n",
    "\n",
    "In parts 1 and 2 we were dealing with classification problems. Here we'll look at predicting a numeric value instead of a category. In other words, we'll use a neural network to approach a *regression* problem. To do this, we'll use the Boston housing dataset. This is a dataset about neighborhoods in the suburbs of Boston in the mid-1970s. Please note the home values have not been adjusted for inflation - typically they're between \\\\$10,000 and \\\\$50,000. This is not the case today!\n",
    "\n",
    "Each observation is a neighborhood of Boston, and there are a number of data points about the neighborhood, such as its crime rate, its local property tax rate, and so on. We'll be trying to use these data to predict the median house price. Unlike the two previous examples, there are relatively few data points here - only 506, split between 404 training samples and 102 test samples. Also, each feature in the input data has a different scale. For example, the scale used for crime rate is different than the scale used for the property tax rate."
   ]
  },
  {
   "cell_type": "code",
   "execution_count": null,
   "id": "7c351819-6e08-41c5-87d1-eaeab2a9fd02",
   "metadata": {},
   "outputs": [],
   "source": [
    "from keras.datasets import boston_housing\n",
    "(train_data, train_targets), (test_data, test_targets) = (boston_housing.load_data())"
   ]
  },
  {
   "cell_type": "code",
   "execution_count": null,
   "id": "2911412b-f088-490d-8fd5-58aa2d6151c4",
   "metadata": {},
   "outputs": [],
   "source": [
    "train_data.shape"
   ]
  },
  {
   "cell_type": "code",
   "execution_count": null,
   "id": "afbb6359-e0c8-419c-b131-7a63019bc5a3",
   "metadata": {},
   "outputs": [],
   "source": [
    "test_data.shape"
   ]
  },
  {
   "cell_type": "markdown",
   "id": "d510ad36-b748-4866-beb0-4b27e3b62427",
   "metadata": {},
   "source": [
    "So, there are 13 numeric features about each neighborhood that we'll use to predict the median housing value. The targets are these median housing values (for owner-occupied homes) in thousands of dollars:"
   ]
  },
  {
   "cell_type": "code",
   "execution_count": null,
   "id": "e08db4eb-68f9-49e6-9880-692773b9a423",
   "metadata": {},
   "outputs": [],
   "source": [
    "test_targets"
   ]
  },
  {
   "cell_type": "markdown",
   "id": "72440d9d-225d-4f9b-8ea6-134696813864",
   "metadata": {},
   "source": [
    "Before we start training we'll want to normalize the data. In other words, scale each of the features so the values have mean $0$ and standard deviation $1$. You can either do this manually, or with [StandardScaler](https://scikit-learn.org/stable/modules/generated/sklearn.preprocessing.StandardScaler.html) from sklearn."
   ]
  },
  {
   "cell_type": "code",
   "execution_count": null,
   "id": "a38f58c2-839c-41cb-b591-d0167e6e1792",
   "metadata": {},
   "outputs": [],
   "source": [
    "#YOUR CODE HERE"
   ]
  },
  {
   "cell_type": "markdown",
   "id": "c5d6e362-54e2-4caa-8c11-95d0812f058a",
   "metadata": {},
   "source": [
    "Now, we'll want to build our model. We'll use a model with two dense training layers with 64 nodes each and ReLU activation functions. The final layer will have a single dense node with no specified activation function (so the activation function is just the identity - it doesn't change the data). We'll use *rmsprop* as the optimizer, *mse* as the loss, and track the metric *mae*. Here \"mse\" stands for \"mean squared error\", and \"mae\" stands for \"mean absolute error\". The mean absolute error is the average of the absolute values of the differences between the predictions and the targets. We'll wrap this up in a function that we can call to create a new model. Also, note that we'll sometimes abbreviate \"mean absolute error\" using uppercase letters - MAE."
   ]
  },
  {
   "cell_type": "code",
   "execution_count": null,
   "id": "843e4308-2f66-4aa8-b45d-fec91dbf0ae6",
   "metadata": {},
   "outputs": [],
   "source": [
    "def build_model():\n",
    "    model = keras.Sequential([\n",
    "        keras.layers.Dense(64, activation=\"relu\"),\n",
    "        keras.layers.Dense(64, activation=\"relu\"),\n",
    "        keras.layers.Dense(1)\n",
    "    ])\n",
    "    model.compile(optimizer = \"rmsprop\", loss = \"mse\", metrics = [\"mae\"])\n",
    "    return model"
   ]
  },
  {
   "cell_type": "markdown",
   "id": "86be7681-d7de-41c9-9485-a31db37933dd",
   "metadata": {},
   "source": [
    "Because we don't have much data, instead of just having one validation set, we'll want to use $K$-fold validation. Write code that prepares a list of training and validation sets for $K$-fold validation based on a specified value of $K = 4$. Note you can either create code to do this explicitly, or use the [KFold](https://scikit-learn.org/stable/modules/cross_validation.html#k-fold) function in sklearn."
   ]
  },
  {
   "cell_type": "code",
   "execution_count": null,
   "id": "25e5cdfd-fe47-44a6-adc1-f65b1ea44b59",
   "metadata": {},
   "outputs": [],
   "source": [
    "#YOUR CODE HERE"
   ]
  },
  {
   "cell_type": "markdown",
   "id": "440faf29-9742-443a-b556-bfa3ea5bb616",
   "metadata": {},
   "source": [
    "Write code that fits the model on each training set generated for $K$-fold validation above. Use $100$ epochs and a batch size of $16$. Also, note that if you set \"verbose = 0\" in your fit command, it won't output the running tally from each epoch, which might be nice in this case. After 100 epochs of training, [evaluate](https://keras.io/api/models/model_training_apis/#evaluate-method) the model on the validation data, and track the MAE for each fold. At the end, calculate the average MAE over all 4 folds. Please note that on each fold you'll need to use a different, reset model."
   ]
  },
  {
   "cell_type": "code",
   "execution_count": null,
   "id": "3b716119-49ac-4a2e-b1b7-48c19712bfa6",
   "metadata": {},
   "outputs": [],
   "source": [
    "#YOUR CODE HERE"
   ]
  },
  {
   "cell_type": "markdown",
   "id": "b6ed3284-d7b2-4fe4-97e7-5e083eb82a7a",
   "metadata": {},
   "source": [
    "Now let's repeat what we did above, except we'll run for 500 epochs on each fold, and we'll track the training history and performance on the validation data. Once training on a given fold is completed extract the MAE history from the history object, and add it to a list of MAE training histories for each fold. Note this might take a few minutes, and you'll *really* want to set *verbose = 0*."
   ]
  },
  {
   "cell_type": "code",
   "execution_count": null,
   "id": "bed41582-8a13-4e9c-bf55-858253208555",
   "metadata": {},
   "outputs": [],
   "source": [
    "#YOUR CODE HERE"
   ]
  },
  {
   "cell_type": "markdown",
   "id": "d447e2a0-eecf-46b0-8a15-730fb3864708",
   "metadata": {},
   "source": [
    "Create a dataframe of the average value of the validation MAE for each fold after each epoch. So, the first value in your dataframe should be the average value of the validation MAE over all the folds after their first epoch, the second should be the average value of the validation MAE over all the folds after their second epoch, and so on."
   ]
  },
  {
   "cell_type": "code",
   "execution_count": null,
   "id": "4c1fc9d4-5357-44d2-830e-c6e8bc148fb7",
   "metadata": {},
   "outputs": [],
   "source": [
    "#YOUR CODE HERE"
   ]
  },
  {
   "cell_type": "markdown",
   "id": "f72c31cd-8940-461f-ad51-71c9baff27fc",
   "metadata": {},
   "source": [
    "Plot the average validation MAE over the 500 epochs."
   ]
  },
  {
   "cell_type": "code",
   "execution_count": null,
   "id": "e8075163-7abb-4262-8201-29f316c080aa",
   "metadata": {},
   "outputs": [],
   "source": [
    "#YOUR CODE HERE"
   ]
  },
  {
   "cell_type": "markdown",
   "id": "13b93480-bdc2-4d67-a16a-78c507717fb3",
   "metadata": {},
   "source": [
    "You might notice a bit of a scaling issue here. The validaion MAE is much higher for the first 10 or so training epochs, and then it settles down. So, plot this data again, but exclude the first 10 values. What number of epochs appears to give us the best performance on the validation data?"
   ]
  },
  {
   "cell_type": "code",
   "execution_count": null,
   "id": "2bbfaa91-0f42-4507-a05b-a234f1316891",
   "metadata": {},
   "outputs": [],
   "source": [
    "#YOUR CODE HERE"
   ]
  },
  {
   "cell_type": "markdown",
   "id": "52ded06a-0423-4a0a-b5ff-10fbbdf2f8d1",
   "metadata": {},
   "source": [
    "Retrain the model using all the training data (nothing left out as validation data) for the optimal number of epochs determined by the chart above."
   ]
  },
  {
   "cell_type": "code",
   "execution_count": null,
   "id": "c37788a8-c07c-48a6-8021-812c4422ef1e",
   "metadata": {},
   "outputs": [],
   "source": [
    "#YOUR CODE HERE"
   ]
  },
  {
   "cell_type": "markdown",
   "id": "b41f755c-593c-43cf-8f8a-e31a599504dd",
   "metadata": {},
   "source": [
    "Check the performance (the MAE) of this model on the test data. Be sure to scale the test data like you did the training data."
   ]
  },
  {
   "cell_type": "code",
   "execution_count": null,
   "id": "453d5cb5-db8b-4691-ae61-ade8913f3db3",
   "metadata": {},
   "outputs": [],
   "source": [
    "#YOUR CODE HERE"
   ]
  },
  {
   "cell_type": "markdown",
   "id": "59c41028-89b9-407d-b5e9-d770cbd573e1",
   "metadata": {},
   "source": [
    "**Part 4 - Categorical Prediction on the Fashion MNIST Dataset**\n",
    "\n",
    "The fashion MNIST dataset is an exact replica of the format of the standard MNIST (handwritten digits) dataset, only instead of being images of handwritten numbers, it's images of clothing from a catalog with the following 10 categories:\n",
    "\n",
    "* 0: T-shirt / top\n",
    "* 1: Trouser\n",
    "* 2: Pullover\n",
    "* 3: Dress\n",
    "* 4: Coat\n",
    "* 5: Sandal\n",
    "* 6: Shirt\n",
    "* 7: Sneaker\n",
    "* 8: Bag\n",
    "* 9: Ankle boot"
   ]
  },
  {
   "cell_type": "markdown",
   "id": "e475d797-d402-46d5-b242-ecf7113fca80",
   "metadata": {},
   "source": [
    "For this part of the assignment, you'll upload the fashion MNIST training data from a zip file provided for you on Canvas. You should be able to do so with the following code, assuming the .gz file is in the same directory as this Jupyter notebook. If not, you'll need to modify the path to the file appropriately."
   ]
  },
  {
   "cell_type": "code",
   "execution_count": null,
   "id": "af5aebc8-50f8-4fbd-847a-850449e8944a",
   "metadata": {},
   "outputs": [],
   "source": [
    "import sys\n",
    "import gzip\n",
    "import shutil\n",
    "\n",
    "import os\n",
    "import struct\n",
    "import numpy as np\n",
    "\n",
    "import warnings\n",
    "warnings.filterwarnings(\"ignore\")\n",
    "\n",
    "zipped_mnist = [f for f in os.listdir() if f.endswith('ubyte.gz')]\n",
    "for z in zipped_mnist:\n",
    "    with gzip.GzipFile(z, mode='rb') as decompressed, open(z[:-3], 'wb') as outfile:\n",
    "        outfile.write(decompressed.read())\n",
    "\n",
    "def load_mnist(path, kind='train-fashion'):\n",
    "    \"\"\"Load MNIST data from `path`\"\"\"\n",
    "    labels_path = os.path.join(path, \n",
    "                               '%s-labels-idx1-ubyte' % kind)\n",
    "    images_path = os.path.join(path, \n",
    "                               '%s-images-idx3-ubyte' % kind)\n",
    "        \n",
    "    with open(labels_path, 'rb') as lbpath:\n",
    "        magic, n = struct.unpack('>II', \n",
    "                                 lbpath.read(8))\n",
    "        labels = np.fromfile(lbpath, \n",
    "                             dtype=np.uint8)\n",
    "\n",
    "    with open(images_path, 'rb') as imgpath:\n",
    "        magic, num, rows, cols = struct.unpack(\">IIII\", \n",
    "                                               imgpath.read(16))\n",
    "        images = np.fromfile(imgpath, \n",
    "                             dtype=np.uint8).reshape(len(labels), 784)\n",
    "        images = ((images / 255.) - .5) * 2\n",
    " \n",
    "    return images, labels\n",
    "\n",
    "X_train, y_train = load_mnist('', kind='train-fashion');"
   ]
  },
  {
   "cell_type": "markdown",
   "id": "631f9b76-f06c-4965-b15e-ce5622e7f110",
   "metadata": {},
   "source": [
    "OK, now we have two datasets:\n",
    "* X_train: A set of values between -1 and 1 indicating the amount of grey within a particular pixel.\n",
    "* y_train: A set of values between 0 and 9 indicating the clothing category of a given image.\n",
    "\n",
    "We can use matplotlib to visualize the first instance of each class in the data. Note that these images are significantly more sophisticated than the hand-written digits."
   ]
  },
  {
   "cell_type": "code",
   "execution_count": null,
   "id": "c1fb886b-e6d3-4841-8d11-f9837a992f3e",
   "metadata": {},
   "outputs": [],
   "source": [
    "import matplotlib.pyplot as plt\n",
    "\n",
    "fig, ax = plt.subplots(nrows=2, ncols=5, sharex=True, sharey=True)\n",
    "ax = ax.flatten()\n",
    "for i in range(10):\n",
    "    img = X_train[y_train == i][0].reshape(28, 28)\n",
    "    ax[i].imshow(img, cmap='Greys')\n",
    "\n",
    "ax[0].set_xticks([])\n",
    "ax[0].set_yticks([])\n",
    "plt.tight_layout()\n",
    "plt.show()"
   ]
  },
  {
   "cell_type": "markdown",
   "id": "9fc563da-dc36-4d38-ac05-ad5b0032036c",
   "metadata": {},
   "source": [
    "The final part of this assi is more open-ended. You'll want to write code to create a neural network for classifying these images into the appropriate categories. Experiment with the possibilities, and try to build the best one you can. I'll be testing the model your code builds on some distinct testing data. If you can do better than 80% on the test data, you'll get full credit for this section. The entry from the class that does the best will get extra credit. Please explain your modeling decisions. Good luck!"
   ]
  },
  {
   "cell_type": "code",
   "execution_count": null,
   "id": "23bfa821-d280-4b74-8552-cb82caa98a84",
   "metadata": {},
   "outputs": [],
   "source": [
    "#YOUR CODE HERE"
   ]
  }
 ],
 "metadata": {
  "kernelspec": {
   "display_name": "Python 3 (ipykernel)",
   "language": "python",
   "name": "python3"
  },
  "language_info": {
   "codemirror_mode": {
    "name": "ipython",
    "version": 3
   },
   "file_extension": ".py",
   "mimetype": "text/x-python",
   "name": "python",
   "nbconvert_exporter": "python",
   "pygments_lexer": "ipython3",
   "version": "3.11.5"
  }
 },
 "nbformat": 4,
 "nbformat_minor": 5
}

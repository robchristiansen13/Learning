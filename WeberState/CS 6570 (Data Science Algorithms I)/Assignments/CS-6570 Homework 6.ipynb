{
 "cells": [
  {
   "cell_type": "markdown",
   "id": "0d91e237-1877-4617-b38d-c1c9bee2baa0",
   "metadata": {},
   "source": [
    "# CS-6570 Assignment #6 - Neural Networks and Keras\n",
    "\n",
    "**YOUR NAME HERE**\n",
    "\n",
    "*Weber State University*"
   ]
  },
  {
   "cell_type": "markdown",
   "id": "fa9e27d7-47d1-4641-91e2-8608e66b48a9",
   "metadata": {},
   "source": [
    "In this, our final assignment, we'll use the Keras library to construct neural networks for some classical datasets. In the process, we'll review and explore the important steps in how you specify and train a neural network. Specifically, we'll use a neural network to:\n",
    "\n",
    "1. Perform binary classification on a set of reviews from the Internet Movie Database (IMDB).\n",
    "2. Perform multiclass classification on a set of newswires.\n",
    "3. Perform numeric prediction on a set of housing data.\n",
    "4. Perform multiclass classification on a set of images.\n",
    "\n",
    "The basic process will be the same for all of these - they'll just differ in specifics. But first, let's review the steps we covered in Lecture 22 (our lecture on Keras)."
   ]
  },
  {
   "cell_type": "markdown",
   "id": "67dce7c4-d981-4b52-90e8-088cc2b9dc9f",
   "metadata": {},
   "source": [
    "First, you'll want to make sure you've installed TensorFlow. If you haven't, you'll want to run the command below. Note this can take a while. Not hours, but minutes. Also, note you only need to do this once. Once it's installed it's installed on your account, not just on this particular kernal. If you haven't installed it yet, please uncomment and run the command below. If you have, don't uncomment it and skip the line below."
   ]
  },
  {
   "cell_type": "code",
   "execution_count": 1,
   "id": "e004a661-f883-4e79-97f1-758180e87204",
   "metadata": {},
   "outputs": [],
   "source": [
    "# pip install tensorflow"
   ]
  },
  {
   "cell_type": "markdown",
   "id": "cbd61ce2-63f3-4139-85ae-4df1da5c9920",
   "metadata": {},
   "source": [
    "Of course, we'll want to import our favorite libraries, this time adding tensorflow and keras:"
   ]
  },
  {
   "cell_type": "code",
   "execution_count": 2,
   "id": "5a4f894e-1c2c-474c-a74d-6e7c25a840e4",
   "metadata": {},
   "outputs": [],
   "source": [
    "import numpy as np\n",
    "import pandas as pd\n",
    "import matplotlib.pyplot as plt\n",
    "import tensorflow as tf\n",
    "from tensorflow import keras"
   ]
  },
  {
   "cell_type": "markdown",
   "id": "2d5cc139-097d-42c4-96d6-59f567ee940d",
   "metadata": {},
   "source": [
    "Note you might get some warning when you import tensorflow. That's OK."
   ]
  },
  {
   "cell_type": "markdown",
   "id": "b4ac8940-491a-4bbb-8408-9b553074038c",
   "metadata": {},
   "source": [
    "To review the example from Lecture 22, let's import the MNIST handwritten digits dataset."
   ]
  },
  {
   "cell_type": "code",
   "execution_count": 3,
   "id": "a223943e-4b01-49e9-b6c6-dcadff58a402",
   "metadata": {},
   "outputs": [],
   "source": [
    "mnist = keras.datasets.mnist\n",
    "(X_train_full, y_train_full), (X_test, y_test) = mnist.load_data()"
   ]
  },
  {
   "cell_type": "markdown",
   "id": "943f49b9-4241-4cb6-8812-e3997112fae8",
   "metadata": {},
   "source": [
    "The data is already split into a training set and a test set, but there's no validation set, so we'll create one. Additionally, we'll scale the input features - which are represented as integers from  0 to  255. We'll scale them down to the  0−1 range."
   ]
  },
  {
   "cell_type": "code",
   "execution_count": 4,
   "id": "37c8b84d-6159-43f9-b113-b4ae418757fe",
   "metadata": {},
   "outputs": [],
   "source": [
    "X_valid, X_train = X_train_full[:5000] / 255.0, X_train_full[5000:] / 255.0\n",
    "y_valid, y_train = y_train_full[:5000], y_train_full[5000:]\n",
    "X_test = X_test / 255.0"
   ]
  },
  {
   "cell_type": "markdown",
   "id": "9ca1ab34-0adf-4334-8e06-0e891f37f28a",
   "metadata": {},
   "source": [
    "Now, we'll build our model with two layers of 32 nodes."
   ]
  },
  {
   "cell_type": "code",
   "execution_count": 5,
   "id": "a0f07ca7-81d0-4223-8cf6-5db29c9ba3ac",
   "metadata": {},
   "outputs": [],
   "source": [
    "model = keras.models.Sequential([\n",
    "    keras.layers.Flatten(input_shape=[28,28]),\n",
    "    keras.layers.Dense(32, activation=\"relu\"),\n",
    "    keras.layers.Dense(32, activation=\"relu\"),\n",
    "    keras.layers.Dense(10, activation=\"softmax\")\n",
    "    ])"
   ]
  },
  {
   "cell_type": "markdown",
   "id": "4d70cf0c-c8bc-409c-9c3a-755b7b0aa1b3",
   "metadata": {},
   "source": [
    "A few things to note about this neural network:\n",
    "\n",
    "* It's using the [ReLU](https://keras.io/api/layers/activation_layers/relu/) function as the transfer function for the hidden layers. This is the most popular transfer function for hidden layers.\n",
    "* It's using [softmax](https://keras.io/api/layers/activation_layers/softmax/) for the output layer, which means each node represents a probability, and they will all sum to $1$. More info [here](https://en.wikipedia.org/wiki/Softmax_function), and if you'd prefer to watch a video about it, you can do so [here](https://www.youtube.com/watch?v=8ah-qhvaQqU)."
   ]
  },
  {
   "cell_type": "markdown",
   "id": "b9947383-417e-4a86-a6a8-b4e7756f3e04",
   "metadata": {},
   "source": [
    "With this model, we then compile it by specifying the loss function and the optimizer:"
   ]
  },
  {
   "cell_type": "code",
   "execution_count": 6,
   "id": "deb11146-2c21-436f-9a2e-1f53c6206a9b",
   "metadata": {},
   "outputs": [],
   "source": [
    "model.compile(loss=\"sparse_categorical_crossentropy\", optimizer=\"sgd\", metrics = [\"accuracy\"])"
   ]
  },
  {
   "cell_type": "markdown",
   "id": "28b10343-0e20-4f6b-afef-2882ac585cf7",
   "metadata": {},
   "source": [
    "Recall from Lecture 22:\n",
    "\n",
    "* The \"sparse_categorical_crossentropy\" loss is used because we have sparse labels (for each instance there is just a target class index, in this case from $0$ to $9$) and the classes are exclusive. If instead we had one-hot vectors we would use the \"categorical_crossentropy\" loss instead.\n",
    "\n",
    "* The \"sgd\" is our old friend stochastic gradient descent. Note the learning rate defaults to $lr = 0.01$, but we could specify it with *optimizer = keras.optimizers.SGD(lr=???)*\n",
    "\n",
    "* The accuracy just measures the percentage of observations classified correctly.\n",
    "\n",
    "As in Lecture 22, you can check out these links for more info on [losses](https://keras.io/api/losses/), [optimizers](https://keras.io/api/optimizers/), and [metrics](https://keras.io/api/metrics/)."
   ]
  },
  {
   "cell_type": "markdown",
   "id": "eb6b7ee7-2172-43d8-a9e6-d1efa0a7acaa",
   "metadata": {},
   "source": [
    "To train the model, we call the \"fit\" function, and specify the observations, the targets, the number of epochs, and (optionally) the validation set:"
   ]
  },
  {
   "cell_type": "code",
   "execution_count": 7,
   "id": "7c988c10-3ee3-483b-82cf-81a4667850e8",
   "metadata": {},
   "outputs": [
    {
     "name": "stdout",
     "output_type": "stream",
     "text": [
      "1719/1719 [==============================] - 1s 494us/step - loss: 0.8172 - accuracy: 0.7700 - val_loss: 0.3661 - val_accuracy: 0.9014\n"
     ]
    }
   ],
   "source": [
    "# history = model.fit(X_train, y_train, epochs = 30, validation_data=(X_valid,y_valid))\n",
    "history = model.fit(X_train, y_train, epochs = 1, validation_data=(X_valid,y_valid))"
   ]
  },
  {
   "cell_type": "markdown",
   "id": "e6fbcef6-af71-47de-b97c-58bbe30a2e64",
   "metadata": {},
   "source": [
    "The main purpose of running the model is to update the weights, but the output is the history object, which we can use to see how the model changed over time."
   ]
  },
  {
   "cell_type": "markdown",
   "id": "8da316b2-7825-4549-b5e1-70a1db3b38bd",
   "metadata": {},
   "source": [
    "We can convert the history object into a dataframe and plot how the measures of interest (loss and accuracy) changed over time for both the training data and validation data:"
   ]
  },
  {
   "cell_type": "code",
   "execution_count": 8,
   "id": "f31fac80-a670-45e9-a857-2fc35fdced80",
   "metadata": {},
   "outputs": [
    {
     "data": {
      "image/png": "[encoded data removed]",
      "text/plain": [
       "<Figure size 1000x600 with 1 Axes>"
      ]
     },
     "metadata": {},
     "output_type": "display_data"
    }
   ],
   "source": [
    "pd.DataFrame(history.history).plot(figsize=(10,6))\n",
    "plt.grid(True)\n",
    "plt.show()"
   ]
  },
  {
   "cell_type": "markdown",
   "id": "3bf5355f-f028-4fde-a9e6-60f3bf04d4fd",
   "metadata": {},
   "source": [
    "It looks like after about 15 or so epochs our model was fully trained, and further epochs were just overfitting."
   ]
  },
  {
   "cell_type": "markdown",
   "id": "978e4ae5-945d-42ad-a1c0-31d2db49b60f",
   "metadata": {},
   "source": [
    "Finally, we can see how the trained model does on our testing data:"
   ]
  },
  {
   "cell_type": "code",
   "execution_count": 9,
   "id": "1fea2bb1-e795-4f22-91f7-cbe673adfdca",
   "metadata": {},
   "outputs": [
    {
     "name": "stdout",
     "output_type": "stream",
     "text": [
      "313/313 [==============================] - 0s 502us/step - loss: 0.3671 - accuracy: 0.8943\n"
     ]
    },
    {
     "data": {
      "text/plain": [
       "[0.3670838177204132, 0.8942999839782715]"
      ]
     },
     "execution_count": 9,
     "metadata": {},
     "output_type": "execute_result"
    }
   ],
   "source": [
    "model.evaluate(X_test, y_test)"
   ]
  },
  {
   "cell_type": "markdown",
   "id": "1d3e5617",
   "metadata": {},
   "source": [
    "Pretty good!"
   ]
  },
  {
   "cell_type": "markdown",
   "id": "0c0dbece-0885-49ea-bd56-b7742f540414",
   "metadata": {},
   "source": [
    "**Part 1 - Binary Classification of Movie Reviews**\n",
    "\n",
    "For this first part, we'll work with the IMDB dataset, a set of 50,000 highly polarized reviews from the Internet Movie Database. They're split into 25,000 reviews for training and 25,000 reviews for testing, with each set consisting of 50% negative and 50% positive reviews. Just like the MNIST dataset, the IMDB dataset comes packaged with Keras. The reviews (which are sequences of words) have been turned into sequences of integers, where each integer stands for a specific word in a dictionary. We can load it with the following commands:"
   ]
  },
  {
   "cell_type": "code",
   "execution_count": 10,
   "id": "f42ab4b9-0056-430a-827c-84b04b014edf",
   "metadata": {},
   "outputs": [],
   "source": [
    "\n",
    "from keras.datasets import imdb\n",
    "(train_data, train_labels), (test_data, test_labels) = imdb.load_data(num_words=10000)"
   ]
  },
  {
   "cell_type": "markdown",
   "id": "5700f5d2-6f83-43e6-8836-38f094f776b4",
   "metadata": {},
   "source": [
    "Note we pass a \"num_words = n\" argument to load data here, which allows us to keep only the $n$ most frequent words in the training data. This keeps our data to a more manageable size, and also prevents rare words from causing overfitting in our model. The *train_data* and *test_data* objects are lists of reviews, where each reviews is a list of word indices (which encode a sequence of words). The *train_labels* and *test_labels* objects are lists of $0$s and $1$s, where $0$ stands for *negative* (bad review), and $1$ stands for \"positive\" (good review)."
   ]
  },
  {
   "cell_type": "markdown",
   "id": "b3205baa-f914-41e6-9932-b15a4e3576c8",
   "metadata": {},
   "source": [
    "We can, for fun, decode the reviews and read them with the following code:"
   ]
  },
  {
   "cell_type": "code",
   "execution_count": 11,
   "id": "69c26cd4-366e-4609-ab48-e3cc87baf0d1",
   "metadata": {},
   "outputs": [
    {
     "data": {
      "text/plain": [
       "\"? this film was just brilliant casting location scenery story direction everyone's really suited the part they played and you could just imagine being there robert ? is an amazing actor and now the same being director ? father came from the same scottish island as myself so i loved the fact there was a real connection with this film the witty remarks throughout the film were great it was just brilliant so much that i bought the film as soon as it was released for ? and would recommend it to everyone to watch and the fly fishing was amazing really cried at the end it was so sad and you know what they say if you cry at a film it must have been good and this definitely was also ? to the two little boy's that played the ? of norman and paul they were just brilliant children are often left out of the ? list i think because the stars that play them all grown up are such a big profile for the whole film but these children are amazing and should be praised for what they have done don't you think the whole story was so lovely because it was true and was someone's life after all that was shared with us all\""
      ]
     },
     "execution_count": 11,
     "metadata": {},
     "output_type": "execute_result"
    }
   ],
   "source": [
    "word_index = imdb.get_word_index() # This is a dictionary mapping words to an integer index. It's basically the encoder.\n",
    "reverse_word_index = dict([(value, key) for (key, value) in word_index.items()]) # Maps the integers back to words. It's basically a decoder build from our encoder.\n",
    "decoded_review = \" \".join([reverse_word_index.get(i-3,\"?\") for i in train_data[0]]) #Decodes the review. Note that the indices are offset by 3 because 0, 1, and 2 are reserved for \"padding\", \"start of sequence\", and \"unknown\".\n",
    "decoded_review"
   ]
  },
  {
   "cell_type": "markdown",
   "id": "57009b5a-ae4d-4e98-93da-d6db6bd4eb2b",
   "metadata": {
    "tags": []
   },
   "source": [
    "Seems pretty positive to me! Let's confirm:"
   ]
  },
  {
   "cell_type": "code",
   "execution_count": 12,
   "id": "048c16b2-4297-42cc-ad36-6f4dead126d0",
   "metadata": {
    "tags": []
   },
   "outputs": [
    {
     "data": {
      "text/plain": [
       "1"
      ]
     },
     "execution_count": 12,
     "metadata": {},
     "output_type": "execute_result"
    }
   ],
   "source": [
    "train_labels[0]"
   ]
  },
  {
   "cell_type": "markdown",
   "id": "61058206-187e-4fa9-8906-c86effd502fb",
   "metadata": {},
   "source": [
    "Let's check out another: (Note we switch the review by changing the argument to the *train_data* array in the third line.)"
   ]
  },
  {
   "cell_type": "code",
   "execution_count": 13,
   "id": "1f0f7924-7df1-427b-bfcd-e66f6ff46a7e",
   "metadata": {},
   "outputs": [
    {
     "data": {
      "text/plain": [
       "\"? this has to be one of the worst films of the 1990s when my friends i were watching this film being the target audience it was aimed at we just sat watched the first half an hour with our jaws touching the floor at how bad it really was the rest of the time everyone else in the theatre just started talking to each other leaving or generally crying into their popcorn that they actually paid money they had ? working to watch this feeble excuse for a film it must have looked like a great idea on paper but on film it looks like no one in the film has a clue what is going on crap acting crap costumes i can't get across how ? this is to watch save yourself an hour a bit of your life\""
      ]
     },
     "execution_count": 13,
     "metadata": {},
     "output_type": "execute_result"
    }
   ],
   "source": [
    "decoded_review = \" \".join([reverse_word_index.get(i-3,\"?\") for i in train_data[2]])\n",
    "decoded_review"
   ]
  },
  {
   "cell_type": "markdown",
   "id": "e75c7514-dbb2-462f-87e1-8a3eb5a21b17",
   "metadata": {},
   "source": [
    "So, thumbs down on that one."
   ]
  },
  {
   "cell_type": "code",
   "execution_count": 14,
   "id": "3676c12e-f4ca-4ef8-ab31-f6da2da6d6a9",
   "metadata": {
    "tags": []
   },
   "outputs": [
    {
     "data": {
      "text/plain": [
       "0"
      ]
     },
     "execution_count": 14,
     "metadata": {},
     "output_type": "execute_result"
    }
   ],
   "source": [
    "train_labels[2]"
   ]
  },
  {
   "cell_type": "markdown",
   "id": "1d80c1ac-a54e-4ee8-aba8-437e2c7323b1",
   "metadata": {},
   "source": [
    "Now, unfortunately for us we can't directly feed these lists of integers into a neural network. They all have different lengths. We can fix this with a *multi-hot encoding*, where we turn each list into a vector of $0$s and $1$s. This would mean, for instance, turning the sequence $[8,5]$ into a 10,000-dimensional vector that would be all $0$s except for indices $8$ and $5$, which would be $1$s. Note we'd lose the information about the order of the words, and just retain which words were used, but that's probably OK for this task."
   ]
  },
  {
   "cell_type": "code",
   "execution_count": 15,
   "id": "62ccb34a-54da-4f2e-a3a2-3a774c6818e8",
   "metadata": {},
   "outputs": [],
   "source": [
    "def vectorize_sequences(sequences, dimension = 10000):\n",
    "    results = np.zeros((len(sequences), dimension))\n",
    "    for i, sequence in enumerate(sequences):\n",
    "        for j in sequence:\n",
    "            results[i,j] = 1.\n",
    "    return results\n",
    "X_train = vectorize_sequences(train_data)\n",
    "X_test = vectorize_sequences(test_data)"
   ]
  },
  {
   "cell_type": "markdown",
   "id": "b731a679-5686-47b7-a8a7-48832453020a",
   "metadata": {},
   "source": [
    "So now, our observations are sparse vectors. For example:"
   ]
  },
  {
   "cell_type": "code",
   "execution_count": 16,
   "id": "013bcfd4-8de9-48df-9dd9-f9f851aa10a1",
   "metadata": {},
   "outputs": [
    {
     "data": {
      "text/plain": [
       "array([0., 1., 1., ..., 0., 0., 0.])"
      ]
     },
     "execution_count": 16,
     "metadata": {},
     "output_type": "execute_result"
    }
   ],
   "source": [
    "X_train[0]"
   ]
  },
  {
   "cell_type": "markdown",
   "id": "59c90df6-ed89-4482-8764-39fbbbc1c7f4",
   "metadata": {},
   "source": [
    "We should also vectorize our labels:"
   ]
  },
  {
   "cell_type": "code",
   "execution_count": 17,
   "id": "061c4f79-aa94-4a85-9c32-5c79d14ee632",
   "metadata": {},
   "outputs": [],
   "source": [
    "y_train = np.asarray(train_labels).astype(\"float32\")\n",
    "y_test = np.asarray(test_labels).astype(\"float32\")"
   ]
  },
  {
   "cell_type": "markdown",
   "id": "395b35e0-1e59-4e52-a809-b1a8e0762f4d",
   "metadata": {},
   "source": [
    "Now, it's your turn! First, construct a model with three layers (after the input). Two dense, hidden layers with 16 nodes and relu transfer functions, and a final, dense output node with a sigmoid activation function."
   ]
  },
  {
   "cell_type": "code",
   "execution_count": 18,
   "id": "8c93e4b3-6bbf-4f81-b3cf-2421cc518af1",
   "metadata": {},
   "outputs": [],
   "source": [
    "#YOUR CODE HERE\n",
    "model = keras.models.Sequential([\n",
    "    keras.layers.Flatten(input_shape=[10000]),\n",
    "    keras.layers.Dense(16, activation=\"relu\"),\n",
    "    keras.layers.Dense(16, activation=\"relu\"),\n",
    "    keras.layers.Dense(1, activation=\"sigmoid\") # This tricked me up. The last layer of a binary classification should be 1, not 2\n",
    "                                                # Credit to: https://stackoverflow.com/questions/48851558/tensorflow-estimator-valueerror-logits-and-labels-must-have-the-same-shape\n",
    "    ])"
   ]
  },
  {
   "cell_type": "markdown",
   "id": "163d6f1d-e691-4085-bbd9-d690afbdc98a",
   "metadata": {},
   "source": [
    "Next, compile your model using the *rmsprop* optimizer and the *binary_crossentropy* loss function. Also, track the accuracy."
   ]
  },
  {
   "cell_type": "code",
   "execution_count": 19,
   "id": "d4e25904-34e4-4c37-921d-329307290dd7",
   "metadata": {},
   "outputs": [],
   "source": [
    "#YOUR CODE HERE\n",
    "model.compile(optimizer=\"rmsprop\", loss=\"binary_crossentropy\", metrics=[\"accuracy\"], )"
   ]
  },
  {
   "cell_type": "markdown",
   "id": "1198715c-d05c-4e2f-883e-351a067f17d1",
   "metadata": {},
   "source": [
    "Set aside the first 10,000 observations in the training data as the validation data."
   ]
  },
  {
   "cell_type": "code",
   "execution_count": 20,
   "id": "0c1825d4-94e6-4f98-be08-1292093d2128",
   "metadata": {},
   "outputs": [],
   "source": [
    "#YOUR CODE HERE\n",
    "X_valid = X_train[:10000]\n",
    "y_valid = y_train[:10000]\n",
    "\n",
    "X_train_remaining = X_train[10000:]\n",
    "y_train_remaining = y_train[10000:]"
   ]
  },
  {
   "cell_type": "markdown",
   "id": "3de19563-8167-4ce7-a98d-e490d2c4fac8",
   "metadata": {},
   "source": [
    "Finally, fit your model to the remaining training data. Train for 20 epochs and provide the validation data. Also, as we're using *rmsprop* and not *sgd* as our optimizer, we'll want to specify a *batch_size*. Go with a *batch_size* of $512$."
   ]
  },
  {
   "cell_type": "code",
   "execution_count": 21,
   "id": "dcca0c83-df73-48f5-8398-e2478909b0ea",
   "metadata": {},
   "outputs": [
    {
     "name": "stdout",
     "output_type": "stream",
     "text": [
      "Epoch 1/20\n",
      "30/30 [==============================] - 1s 30ms/step - loss: 0.5424 - accuracy: 0.7719 - val_loss: 0.4100 - val_accuracy: 0.8696\n",
      "Epoch 2/20\n",
      "30/30 [==============================] - 0s 10ms/step - loss: 0.3288 - accuracy: 0.8969 - val_loss: 0.3152 - val_accuracy: 0.8849\n",
      "Epoch 3/20\n",
      "30/30 [==============================] - 0s 6ms/step - loss: 0.2357 - accuracy: 0.9243 - val_loss: 0.2879 - val_accuracy: 0.8864\n",
      "Epoch 4/20\n",
      "30/30 [==============================] - 0s 6ms/step - loss: 0.1870 - accuracy: 0.9373 - val_loss: 0.2830 - val_accuracy: 0.8863\n",
      "Epoch 5/20\n",
      "30/30 [==============================] - 0s 5ms/step - loss: 0.1511 - accuracy: 0.9510 - val_loss: 0.2899 - val_accuracy: 0.8837\n",
      "Epoch 6/20\n",
      "30/30 [==============================] - 0s 5ms/step - loss: 0.1261 - accuracy: 0.9600 - val_loss: 0.2919 - val_accuracy: 0.8861\n",
      "Epoch 7/20\n",
      "30/30 [==============================] - 0s 5ms/step - loss: 0.1045 - accuracy: 0.9687 - val_loss: 0.3079 - val_accuracy: 0.8831\n",
      "Epoch 8/20\n",
      "30/30 [==============================] - 0s 6ms/step - loss: 0.0866 - accuracy: 0.9741 - val_loss: 0.3416 - val_accuracy: 0.8779\n",
      "Epoch 9/20\n",
      "30/30 [==============================] - 0s 5ms/step - loss: 0.0729 - accuracy: 0.9801 - val_loss: 0.3546 - val_accuracy: 0.8819\n",
      "Epoch 10/20\n",
      "30/30 [==============================] - 0s 5ms/step - loss: 0.0609 - accuracy: 0.9831 - val_loss: 0.4092 - val_accuracy: 0.8730\n",
      "Epoch 11/20\n",
      "30/30 [==============================] - 0s 5ms/step - loss: 0.0491 - accuracy: 0.9885 - val_loss: 0.3957 - val_accuracy: 0.8770\n",
      "Epoch 12/20\n",
      "30/30 [==============================] - 0s 5ms/step - loss: 0.0426 - accuracy: 0.9903 - val_loss: 0.4410 - val_accuracy: 0.8750\n",
      "Epoch 13/20\n",
      "30/30 [==============================] - 0s 5ms/step - loss: 0.0335 - accuracy: 0.9929 - val_loss: 0.4629 - val_accuracy: 0.8702\n",
      "Epoch 14/20\n",
      "30/30 [==============================] - 0s 5ms/step - loss: 0.0271 - accuracy: 0.9945 - val_loss: 0.4984 - val_accuracy: 0.8662\n",
      "Epoch 15/20\n",
      "30/30 [==============================] - 0s 7ms/step - loss: 0.0237 - accuracy: 0.9949 - val_loss: 0.5264 - val_accuracy: 0.8716\n",
      "Epoch 16/20\n",
      "30/30 [==============================] - 0s 5ms/step - loss: 0.0178 - accuracy: 0.9967 - val_loss: 0.5565 - val_accuracy: 0.8704\n",
      "Epoch 17/20\n",
      "30/30 [==============================] - 0s 5ms/step - loss: 0.0116 - accuracy: 0.9993 - val_loss: 0.6053 - val_accuracy: 0.8634\n",
      "Epoch 18/20\n",
      "30/30 [==============================] - 0s 6ms/step - loss: 0.0117 - accuracy: 0.9983 - val_loss: 0.6405 - val_accuracy: 0.8629\n",
      "Epoch 19/20\n",
      "30/30 [==============================] - 0s 5ms/step - loss: 0.0089 - accuracy: 0.9993 - val_loss: 0.6681 - val_accuracy: 0.8660\n",
      "Epoch 20/20\n",
      "30/30 [==============================] - 0s 5ms/step - loss: 0.0052 - accuracy: 0.9999 - val_loss: 0.7152 - val_accuracy: 0.8636\n"
     ]
    }
   ],
   "source": [
    "#YOUR CODE HERE\n",
    "history = model.fit(X_train_remaining, y_train_remaining, epochs = 20, batch_size = 512, validation_data=(X_valid,y_valid))"
   ]
  },
  {
   "cell_type": "markdown",
   "id": "94bb3cf9-daf2-4c49-a4d2-647c3794b42f",
   "metadata": {},
   "source": [
    "Then create two plots. The first with training and validation loss. Label your data series."
   ]
  },
  {
   "cell_type": "code",
   "execution_count": 73,
   "id": "5ed1c453-86a4-423d-9655-255c2cc1c737",
   "metadata": {},
   "outputs": [
    {
     "data": {
      "image/png": "[encoded data removed]",
      "text/plain": [
       "<Figure size 1000x600 with 1 Axes>"
      ]
     },
     "metadata": {},
     "output_type": "display_data"
    }
   ],
   "source": [
    "#YOUR CODE HERE\n",
    "pd.DataFrame(history.history, columns=['loss', 'val_loss']).plot(figsize=(10,6))\n",
    "plt.grid(True)\n",
    "plt.show()"
   ]
  },
  {
   "cell_type": "markdown",
   "id": "7c8696ff-fab5-4f6c-bd3c-3a69b45ac2e3",
   "metadata": {},
   "source": [
    "The second with the training and validation accuracy. Again, label your data series."
   ]
  },
  {
   "cell_type": "code",
   "execution_count": 60,
   "id": "d045ffa9-9804-426f-bcfd-dd64482d3c5a",
   "metadata": {},
   "outputs": [
    {
     "data": {
      "image/png": "[encoded data removed]",
      "text/plain": [
       "<Figure size 1000x600 with 1 Axes>"
      ]
     },
     "metadata": {},
     "output_type": "display_data"
    }
   ],
   "source": [
    "#YOUR CODE HERE\n",
    "pd.DataFrame(history.history, columns=['accuracy', 'val_accuracy']).plot(figsize=(10,6))\n",
    "plt.grid(True)\n",
    "plt.annotate(f\"The maximum val_accuracy is at 8 epochs\",\n",
    "        xy = (8, 0.8836),\n",
    "        xytext = (4,0.82),\n",
    "        arrowprops=dict(arrowstyle='->',\n",
    "                        connectionstyle='arc3, rad=0.15'))\n",
    "\n",
    "plt.show()"
   ]
  },
  {
   "cell_type": "markdown",
   "id": "28547eac-80fe-4a85-805f-87c62a6b0155",
   "metadata": {},
   "source": [
    "Retrain the model, and stop after a number of epochs that makes sense based upon your training and validation data."
   ]
  },
  {
   "cell_type": "markdown",
   "id": "0a9230a8",
   "metadata": {},
   "source": [
    "*Answer* - It looks like the validation accuracy peaks after about 7 epochs."
   ]
  },
  {
   "cell_type": "code",
   "execution_count": 24,
   "id": "dc22de4d-faa2-4f8f-993e-fd4c32da08d8",
   "metadata": {},
   "outputs": [
    {
     "name": "stdout",
     "output_type": "stream",
     "text": [
      "Epoch 1/8\n",
      "30/30 [==============================] - 1s 26ms/step - loss: 0.0057 - accuracy: 0.9994 - val_loss: 0.7556 - val_accuracy: 0.8632\n",
      "Epoch 2/8\n",
      "30/30 [==============================] - 0s 9ms/step - loss: 0.0055 - accuracy: 0.9989 - val_loss: 0.7950 - val_accuracy: 0.8631\n",
      "Epoch 3/8\n",
      "30/30 [==============================] - 0s 6ms/step - loss: 0.0022 - accuracy: 0.9999 - val_loss: 0.8196 - val_accuracy: 0.8618\n",
      "Epoch 4/8\n",
      "30/30 [==============================] - 0s 6ms/step - loss: 0.0028 - accuracy: 0.9997 - val_loss: 0.8607 - val_accuracy: 0.8607\n",
      "Epoch 5/8\n",
      "30/30 [==============================] - 0s 7ms/step - loss: 0.0039 - accuracy: 0.9991 - val_loss: 0.8963 - val_accuracy: 0.8613\n",
      "Epoch 6/8\n",
      "30/30 [==============================] - 0s 6ms/step - loss: 0.0010 - accuracy: 0.9999 - val_loss: 0.9162 - val_accuracy: 0.8617\n",
      "Epoch 7/8\n",
      "30/30 [==============================] - 0s 6ms/step - loss: 9.5214e-04 - accuracy: 0.9999 - val_loss: 1.0634 - val_accuracy: 0.8464\n",
      "Epoch 8/8\n",
      "30/30 [==============================] - 0s 5ms/step - loss: 8.1604e-04 - accuracy: 1.0000 - val_loss: 0.9981 - val_accuracy: 0.8599\n"
     ]
    }
   ],
   "source": [
    "#YOUR CODE HERE\n",
    "history_retrained = model.fit(X_train_remaining, y_train_remaining, epochs = 8, batch_size = 512, validation_data=(X_valid,y_valid))"
   ]
  },
  {
   "cell_type": "markdown",
   "id": "858a0aa2-5493-4a2a-abf2-5663b8f430bb",
   "metadata": {},
   "source": [
    "How well does this model do on the test data?"
   ]
  },
  {
   "cell_type": "code",
   "execution_count": 25,
   "id": "e552521a-fb3f-445f-826f-cc08d381691c",
   "metadata": {},
   "outputs": [
    {
     "name": "stdout",
     "output_type": "stream",
     "text": [
      "782/782 [==============================] - 0s 466us/step - loss: 1.0929 - accuracy: 0.8422\n"
     ]
    },
    {
     "data": {
      "text/plain": [
       "[1.0929468870162964, 0.8422399759292603]"
      ]
     },
     "execution_count": 25,
     "metadata": {},
     "output_type": "execute_result"
    }
   ],
   "source": [
    "#YOUR CODE HERE\n",
    "model.evaluate(X_test, y_test)"
   ]
  },
  {
   "cell_type": "markdown",
   "id": "38391649-0f49-4090-a39b-2e3cefc108c2",
   "metadata": {},
   "source": [
    "**Part 2 - Multiclass Classification of Newswires**\n",
    "\n",
    "For this next section, we'll be working with the *Reuters dataset*, a set of short newswires and their topics, published by Reuters in 1986. There are 46 different topics, and some topics are more represented than others, but each topic has at least 10 examples in the training set. Our goal is to train a model to correctly classify each newswire by its topic. In other words, it's a multiclass classification problem."
   ]
  },
  {
   "cell_type": "markdown",
   "id": "dbcf18e5-6aef-4c13-84fe-f500b799f60f",
   "metadata": {},
   "source": [
    "Like the IMDB reviews, the Reuter's newswire dataset comes packaged with Keras:"
   ]
  },
  {
   "cell_type": "code",
   "execution_count": 26,
   "id": "00fa87ed-86ed-4c00-800c-bcb58e6b040a",
   "metadata": {},
   "outputs": [],
   "source": [
    "from keras.datasets import reuters\n",
    "(train_data, train_labels), (test_data, test_labels) = reuters.load_data(num_words = 10000)"
   ]
  },
  {
   "cell_type": "markdown",
   "id": "1883f371-9793-4086-982b-fd4ecf6cbd27",
   "metadata": {},
   "source": [
    "As with the IMDB reviews, we can restrict ourselves to just the $n$ most common words within the dataset, and we restrict ourselves to the top $10,000$."
   ]
  },
  {
   "cell_type": "markdown",
   "id": "2f8fde21-4fd4-44a5-83c1-fd238e2b4de7",
   "metadata": {},
   "source": [
    "There are $8,982$ training examples and $2,246$ test examples:"
   ]
  },
  {
   "cell_type": "code",
   "execution_count": 27,
   "id": "1d952cb5-03c7-4941-965c-88ee88cf2532",
   "metadata": {},
   "outputs": [
    {
     "data": {
      "text/plain": [
       "8982"
      ]
     },
     "execution_count": 27,
     "metadata": {},
     "output_type": "execute_result"
    }
   ],
   "source": [
    "len(train_data)"
   ]
  },
  {
   "cell_type": "code",
   "execution_count": 28,
   "id": "e713dc99-6a8a-496e-b1d4-7cb5f9ab73c4",
   "metadata": {},
   "outputs": [
    {
     "data": {
      "text/plain": [
       "2246"
      ]
     },
     "execution_count": 28,
     "metadata": {},
     "output_type": "execute_result"
    }
   ],
   "source": [
    "len(test_data)"
   ]
  },
  {
   "cell_type": "markdown",
   "id": "e548cbc2-81cf-4290-af8a-3249853792be",
   "metadata": {},
   "source": [
    "Again, like the IMDB data, each example is a list of integers:"
   ]
  },
  {
   "cell_type": "code",
   "execution_count": 29,
   "id": "24e91047-2b8f-47b3-b2f2-69694d373040",
   "metadata": {},
   "outputs": [
    {
     "data": {
      "text/plain": [
       "[1,\n",
       " 599,\n",
       " 1815,\n",
       " 299,\n",
       " 45,\n",
       " 1320,\n",
       " 194,\n",
       " 198,\n",
       " 2041,\n",
       " 28,\n",
       " 932,\n",
       " 294,\n",
       " 517,\n",
       " 1213,\n",
       " 4020,\n",
       " 334,\n",
       " 66,\n",
       " 199,\n",
       " 8,\n",
       " 17,\n",
       " 12]"
      ]
     },
     "execution_count": 29,
     "metadata": {},
     "output_type": "execute_result"
    }
   ],
   "source": [
    "train_data[42]"
   ]
  },
  {
   "cell_type": "markdown",
   "id": "6ea3b71e-20aa-4316-b052-29af9f647372",
   "metadata": {},
   "source": [
    "We can decode these lists back to words using the code below, as we did for the IMDB reviews:"
   ]
  },
  {
   "cell_type": "code",
   "execution_count": 30,
   "id": "1538040f-e97a-4595-8cbb-aa2c57664de8",
   "metadata": {},
   "outputs": [
    {
     "data": {
      "text/plain": [
       "\"? there were 106 200 tonnes of u s corn shipped to the soviet union in the week ended march 26 according to the u s agriculture department's latest export sales report there were no wheat or soybean shipments during the week the ussr has purchased 2 65 mln tonnes of u s corn as of march 26 for delivery in the fourth year of the u s ussr grain agreement total shipments in the third year of the u s ussr grains agreement which ended september 30 amounted to 152 600 tonnes of wheat 6 808 100 tonnes of corn and 1 518 700 tonnes of soybeans reuter 3\""
      ]
     },
     "execution_count": 30,
     "metadata": {},
     "output_type": "execute_result"
    }
   ],
   "source": [
    "word_index = reuters.get_word_index() # This is a dictionary mapping words to an integer index. It's basically the encoder.\n",
    "reverse_word_index = dict([(value, key) for (key, value) in word_index.items()]) # Maps the integers back to words. It's basically a decoder build from our encoder.\n",
    "decoded_newswire = \" \".join([reverse_word_index.get(i-3,\"?\") for i in train_data[25]]) #Decodes the review. Note that the indices are offset by 3 because 0, 1, and 2 are reserved for \"padding\", \"start of sequence\", and \"unknown\".\n",
    "decoded_newswire"
   ]
  },
  {
   "cell_type": "markdown",
   "id": "85288a03-badd-4f8d-b4d3-8b0d7a266f7d",
   "metadata": {},
   "source": [
    "What's the topic here?"
   ]
  },
  {
   "cell_type": "code",
   "execution_count": 31,
   "id": "b1819ce8-dca4-4d73-9005-0b629c915cee",
   "metadata": {},
   "outputs": [
    {
     "data": {
      "text/plain": [
       "1"
      ]
     },
     "execution_count": 31,
     "metadata": {},
     "output_type": "execute_result"
    }
   ],
   "source": [
    "train_labels[25]"
   ]
  },
  {
   "cell_type": "markdown",
   "id": "013adce4-ab17-4e90-b6ab-295d2c50d77c",
   "metadata": {},
   "source": [
    "The topic number is $1$. OK, but what's that? Well, unfortunately, the Reuters dataset on Keras does not provide a dictionary mapping topic numbers to a description! Seems like something it should have. However, we can find some discussion of it on GitHub [here](https://github.com/keras-team/keras/issues/12072). From here it looks like topic 1 is \"grain\"."
   ]
  },
  {
   "cell_type": "markdown",
   "id": "d91c9db5-9320-4563-b8a6-e8e710d22044",
   "metadata": {},
   "source": [
    "We can vectorize this data using exactly the same functions as in Part 1:"
   ]
  },
  {
   "cell_type": "code",
   "execution_count": 32,
   "id": "0efcf02c-f28a-47c1-b0f6-5c9a84adf3c8",
   "metadata": {},
   "outputs": [],
   "source": [
    "X_train = vectorize_sequences(train_data)\n",
    "X_test = vectorize_sequences(test_data)\n",
    "y_train = np.asarray(train_labels).astype(\"float32\")\n",
    "y_test = np.asarray(test_labels).astype(\"float32\")"
   ]
  },
  {
   "cell_type": "markdown",
   "id": "23e75287-0191-4b2c-bf62-875882953fdd",
   "metadata": {},
   "source": [
    "Build a three-layer sequential model whole first two layers are dense, hidden layers with 64 nodes and ReLU activation functions. The final, output layer should have a number of nodes corresponding to the number of categories (46), and should us the softmax activation function like we used for the MNIST data above."
   ]
  },
  {
   "cell_type": "code",
   "execution_count": 33,
   "id": "d1641f77-5871-47e1-b239-4698db8c6798",
   "metadata": {},
   "outputs": [],
   "source": [
    "#YOUR CODE HERE\n",
    "model = keras.models.Sequential([\n",
    "    keras.layers.Flatten(input_shape=[10000]),\n",
    "    keras.layers.Dense(64, activation=\"relu\"),\n",
    "    keras.layers.Dense(64, activation=\"relu\"),\n",
    "    keras.layers.Dense(46, activation=\"softmax\") \n",
    "    ])"
   ]
  },
  {
   "cell_type": "markdown",
   "id": "3648545f-be17-4327-abe7-473f57d8240e",
   "metadata": {},
   "source": [
    "Now, compile the model using the \"rmsprop\" optimizer, and the \"sparse_categorical_crossentropy\" loss. Also, store the accuracy metric as we did in the MNIST example."
   ]
  },
  {
   "cell_type": "code",
   "execution_count": 34,
   "id": "8ae69a1e-9257-4cb6-9310-103447cf5b10",
   "metadata": {},
   "outputs": [],
   "source": [
    "#YOUR CODE HERE\n",
    "model.compile(loss=\"sparse_categorical_crossentropy\", optimizer=\"rmsprop\", metrics = [\"accuracy\"])"
   ]
  },
  {
   "cell_type": "markdown",
   "id": "6656a513-e1b3-4dc3-a7b5-c0fb104c1903",
   "metadata": {},
   "source": [
    "Split your training data into a training set and a validation set. This time, only use $1,000$ observations in the validation set."
   ]
  },
  {
   "cell_type": "code",
   "execution_count": 71,
   "id": "4a216a67-b8eb-49af-b2fe-0acb1679b35b",
   "metadata": {},
   "outputs": [],
   "source": [
    "#YOUR CODE HERE\n",
    "X_valid = X_train[:1000]\n",
    "y_valid = y_train[:1000]\n",
    "\n",
    "X_train_remaining = X_train[1000:]\n",
    "y_train_remaining = y_train[1000:]"
   ]
  },
  {
   "cell_type": "markdown",
   "id": "f1364ee9-ce9d-405d-b60b-267dbb160584",
   "metadata": {},
   "source": [
    "Using the training data, train the model for $20$ epochs with a batch size of $512$, and store the training history. "
   ]
  },
  {
   "cell_type": "code",
   "execution_count": 72,
   "id": "3ff8af84-0a4e-422c-bae8-7bc4fb8da97b",
   "metadata": {},
   "outputs": [
    {
     "name": "stdout",
     "output_type": "stream",
     "text": [
      "Epoch 1/20\n",
      "16/16 [==============================] - 0s 17ms/step - loss: 2.5461 - accuracy: 0.5489 - val_loss: 1.6695 - val_accuracy: 0.6570\n",
      "Epoch 2/20\n",
      "16/16 [==============================] - 0s 9ms/step - loss: 1.3754 - accuracy: 0.7155 - val_loss: 1.2713 - val_accuracy: 0.7300\n",
      "Epoch 3/20\n",
      "16/16 [==============================] - 0s 9ms/step - loss: 1.0083 - accuracy: 0.7860 - val_loss: 1.1112 - val_accuracy: 0.7610\n",
      "Epoch 4/20\n",
      "16/16 [==============================] - 0s 8ms/step - loss: 0.7953 - accuracy: 0.8321 - val_loss: 1.0038 - val_accuracy: 0.7930\n",
      "Epoch 5/20\n",
      "16/16 [==============================] - 0s 8ms/step - loss: 0.6297 - accuracy: 0.8687 - val_loss: 0.9545 - val_accuracy: 0.8040\n",
      "Epoch 6/20\n",
      "16/16 [==============================] - 0s 8ms/step - loss: 0.5043 - accuracy: 0.8935 - val_loss: 0.9381 - val_accuracy: 0.8110\n",
      "Epoch 7/20\n",
      "16/16 [==============================] - 0s 10ms/step - loss: 0.4024 - accuracy: 0.9157 - val_loss: 0.9101 - val_accuracy: 0.8060\n",
      "Epoch 8/20\n",
      "16/16 [==============================] - 0s 9ms/step - loss: 0.3297 - accuracy: 0.9291 - val_loss: 0.9035 - val_accuracy: 0.8060\n",
      "Epoch 9/20\n",
      "16/16 [==============================] - 0s 9ms/step - loss: 0.2760 - accuracy: 0.9385 - val_loss: 0.9083 - val_accuracy: 0.8170\n",
      "Epoch 10/20\n",
      "16/16 [==============================] - 0s 9ms/step - loss: 0.2353 - accuracy: 0.9464 - val_loss: 0.9335 - val_accuracy: 0.8130\n",
      "Epoch 11/20\n",
      "16/16 [==============================] - 0s 9ms/step - loss: 0.2025 - accuracy: 0.9496 - val_loss: 0.9630 - val_accuracy: 0.8090\n",
      "Epoch 12/20\n",
      "16/16 [==============================] - 0s 9ms/step - loss: 0.1787 - accuracy: 0.9513 - val_loss: 0.9608 - val_accuracy: 0.8060\n",
      "Epoch 13/20\n",
      "16/16 [==============================] - 0s 9ms/step - loss: 0.1624 - accuracy: 0.9538 - val_loss: 0.9645 - val_accuracy: 0.8060\n",
      "Epoch 14/20\n",
      "16/16 [==============================] - 0s 9ms/step - loss: 0.1492 - accuracy: 0.9541 - val_loss: 0.9746 - val_accuracy: 0.8040\n",
      "Epoch 15/20\n",
      "16/16 [==============================] - 0s 9ms/step - loss: 0.1354 - accuracy: 0.9568 - val_loss: 0.9979 - val_accuracy: 0.8060\n",
      "Epoch 16/20\n",
      "16/16 [==============================] - 0s 9ms/step - loss: 0.1310 - accuracy: 0.9554 - val_loss: 1.0267 - val_accuracy: 0.8080\n",
      "Epoch 17/20\n",
      "16/16 [==============================] - 0s 9ms/step - loss: 0.1243 - accuracy: 0.9572 - val_loss: 1.0519 - val_accuracy: 0.8000\n",
      "Epoch 18/20\n",
      "16/16 [==============================] - 0s 10ms/step - loss: 0.1204 - accuracy: 0.9578 - val_loss: 1.0499 - val_accuracy: 0.8010\n",
      "Epoch 19/20\n",
      "16/16 [==============================] - 0s 10ms/step - loss: 0.1161 - accuracy: 0.9554 - val_loss: 1.0853 - val_accuracy: 0.8030\n",
      "Epoch 20/20\n",
      "16/16 [==============================] - 0s 8ms/step - loss: 0.1119 - accuracy: 0.9578 - val_loss: 1.0828 - val_accuracy: 0.7950\n"
     ]
    }
   ],
   "source": [
    "#YOUR CODE HERE\n",
    "part2_history = model.fit(X_train_remaining, y_train_remaining, epochs = 20, batch_size = 512, validation_data=(X_valid,y_valid))"
   ]
  },
  {
   "cell_type": "markdown",
   "id": "298f5193-6488-4ebc-b941-ae23c3b576d6",
   "metadata": {},
   "source": [
    "Plot the loss and accuracy curves for both the training and validation data. Where does it look like they diverge?\n",
    "\n",
    "A: Both the loss and accuracy curves diverge after 5 epochs"
   ]
  },
  {
   "cell_type": "code",
   "execution_count": 82,
   "id": "bd501f53-7ecc-4c1b-8538-fe64da9bbe99",
   "metadata": {},
   "outputs": [
    {
     "data": {
      "image/png": "[encoded data removed]",
      "text/plain": [
       "<Figure size 1000x600 with 1 Axes>"
      ]
     },
     "metadata": {},
     "output_type": "display_data"
    }
   ],
   "source": [
    "#YOUR CODE HERE (LOSS CURVES)\n",
    "#YOUR CODE HERE\n",
    "pd.DataFrame(part2_history.history, columns=['loss', 'val_loss']).plot(figsize=(10,6))\n",
    "plt.grid(True)\n",
    "plt.annotate(f\"The validation loss curve diverges from the training loss curve after 5 epochs\",\n",
    "        xy = (5, 0.95),\n",
    "        xytext = (3,0.75),\n",
    "        arrowprops=dict(arrowstyle='->',\n",
    "                        connectionstyle='arc3, rad=0.15'))\n",
    "\n",
    "plt.show()"
   ]
  },
  {
   "cell_type": "code",
   "execution_count": 80,
   "id": "8ead5c97",
   "metadata": {},
   "outputs": [
    {
     "data": {
      "image/png": "[encoded data removed]",
      "text/plain": [
       "<Figure size 1000x600 with 1 Axes>"
      ]
     },
     "metadata": {},
     "output_type": "display_data"
    }
   ],
   "source": [
    "#YOUR CODE HERE (ACCURACY CURVES)\n",
    "pd.DataFrame(part2_history.history, columns=['accuracy', 'val_accuracy']).plot(figsize=(10,6))\n",
    "plt.grid(True)\n",
    "plt.annotate(f\"The validation accuracy gains diverge from the training accuracy gains after 5 epochs\",\n",
    "        xy = (5, 0.81),\n",
    "        xytext = (3,0.75),\n",
    "        arrowprops=dict(arrowstyle='->',\n",
    "                        connectionstyle='arc3, rad=0.15'))\n",
    "\n",
    "plt.show()"
   ]
  },
  {
   "cell_type": "markdown",
   "id": "6dc01e4a-de0d-486b-a8fe-d51a6cc12649",
   "metadata": {},
   "source": [
    "Restart your model, and train it for a more appropriate number of epochs based on what you've found."
   ]
  },
  {
   "cell_type": "code",
   "execution_count": 83,
   "id": "adaab304-510d-462a-a46b-85ba557afe3d",
   "metadata": {},
   "outputs": [
    {
     "name": "stdout",
     "output_type": "stream",
     "text": [
      "Epoch 1/5\n",
      "16/16 [==============================] - 0s 15ms/step - loss: 0.1096 - accuracy: 0.9593 - val_loss: 1.0624 - val_accuracy: 0.8090\n",
      "Epoch 2/5\n",
      "16/16 [==============================] - 0s 9ms/step - loss: 0.1054 - accuracy: 0.9580 - val_loss: 1.1073 - val_accuracy: 0.8080\n",
      "Epoch 3/5\n",
      "16/16 [==============================] - 0s 9ms/step - loss: 0.1054 - accuracy: 0.9573 - val_loss: 1.1012 - val_accuracy: 0.8090\n",
      "Epoch 4/5\n",
      "16/16 [==============================] - 0s 9ms/step - loss: 0.1046 - accuracy: 0.9579 - val_loss: 1.1467 - val_accuracy: 0.8060\n",
      "Epoch 5/5\n",
      "16/16 [==============================] - 0s 9ms/step - loss: 0.1021 - accuracy: 0.9563 - val_loss: 1.1917 - val_accuracy: 0.7990\n"
     ]
    }
   ],
   "source": [
    "#YOUR CODE HERE\n",
    "part2_history_retrained = model.fit(X_train_remaining, y_train_remaining, epochs = 5, batch_size = 512, validation_data=(X_valid,y_valid))"
   ]
  },
  {
   "cell_type": "markdown",
   "id": "f4109630-f113-404e-8765-55a1826efe04",
   "metadata": {},
   "source": [
    "Check the performance of this new model on the test data."
   ]
  },
  {
   "cell_type": "code",
   "execution_count": 84,
   "id": "04bfc357-2651-438e-bafc-a384925a1f73",
   "metadata": {},
   "outputs": [
    {
     "name": "stdout",
     "output_type": "stream",
     "text": [
      "71/71 [==============================] - 0s 649us/step - loss: 1.3961 - accuracy: 0.7716\n"
     ]
    },
    {
     "data": {
      "text/plain": [
       "[1.39608633518219, 0.7715939283370972]"
      ]
     },
     "execution_count": 84,
     "metadata": {},
     "output_type": "execute_result"
    }
   ],
   "source": [
    "#YOUR CODE HERE\n",
    "model.evaluate(X_test, y_test)"
   ]
  },
  {
   "cell_type": "markdown",
   "id": "5b0aa0d9-01fd-4acb-aec0-ebad4a2f9da1",
   "metadata": {},
   "source": [
    "**Part 3 - Numerical Predictions (Regression) on Housing Data**\n",
    "\n",
    "In parts 1 and 2 we were dealing with classification problems. Here we'll look at predicting a numeric value instead of a category. In other words, we'll use a neural network to approach a *regression* problem. To do this, we'll use the Boston housing dataset. This is a dataset about neighborhoods in the suburbs of Boston in the mid-1970s. Please note the home values have not been adjusted for inflation - typically they're between \\\\$10,000 and \\\\$50,000. This is not the case today!\n",
    "\n",
    "Each observation is a neighborhood of Boston, and there are a number of data points about the neighborhood, such as its crime rate, its local property tax rate, and so on. We'll be trying to use these data to predict the median house price. Unlike the two previous examples, there are relatively few data points here - only 506, split between 404 training samples and 102 test samples. Also, each feature in the input data has a different scale. For example, the scale used for crime rate is different than the scale used for the property tax rate."
   ]
  },
  {
   "cell_type": "code",
   "execution_count": 85,
   "id": "7c351819-6e08-41c5-87d1-eaeab2a9fd02",
   "metadata": {},
   "outputs": [],
   "source": [
    "from keras.datasets import boston_housing\n",
    "(train_data, train_targets), (test_data, test_targets) = (boston_housing.load_data())"
   ]
  },
  {
   "cell_type": "code",
   "execution_count": 104,
   "id": "2911412b-f088-490d-8fd5-58aa2d6151c4",
   "metadata": {},
   "outputs": [
    {
     "data": {
      "text/plain": [
       "(404, 13)"
      ]
     },
     "execution_count": 104,
     "metadata": {},
     "output_type": "execute_result"
    }
   ],
   "source": [
    "train_data.shape"
   ]
  },
  {
   "cell_type": "code",
   "execution_count": 87,
   "id": "afbb6359-e0c8-419c-b131-7a63019bc5a3",
   "metadata": {},
   "outputs": [
    {
     "data": {
      "text/plain": [
       "(102, 13)"
      ]
     },
     "execution_count": 87,
     "metadata": {},
     "output_type": "execute_result"
    }
   ],
   "source": [
    "test_data.shape"
   ]
  },
  {
   "cell_type": "markdown",
   "id": "d510ad36-b748-4866-beb0-4b27e3b62427",
   "metadata": {},
   "source": [
    "So, there are 13 numeric features about each neighborhood that we'll use to predict the median housing value. The targets are these median housing values (for owner-occupied homes) in thousands of dollars:"
   ]
  },
  {
   "cell_type": "code",
   "execution_count": 88,
   "id": "e08db4eb-68f9-49e6-9880-692773b9a423",
   "metadata": {},
   "outputs": [
    {
     "data": {
      "text/plain": [
       "array([ 7.2, 18.8, 19. , 27. , 22.2, 24.5, 31.2, 22.9, 20.5, 23.2, 18.6,\n",
       "       14.5, 17.8, 50. , 20.8, 24.3, 24.2, 19.8, 19.1, 22.7, 12. , 10.2,\n",
       "       20. , 18.5, 20.9, 23. , 27.5, 30.1,  9.5, 22. , 21.2, 14.1, 33.1,\n",
       "       23.4, 20.1,  7.4, 15.4, 23.8, 20.1, 24.5, 33. , 28.4, 14.1, 46.7,\n",
       "       32.5, 29.6, 28.4, 19.8, 20.2, 25. , 35.4, 20.3,  9.7, 14.5, 34.9,\n",
       "       26.6,  7.2, 50. , 32.4, 21.6, 29.8, 13.1, 27.5, 21.2, 23.1, 21.9,\n",
       "       13. , 23.2,  8.1,  5.6, 21.7, 29.6, 19.6,  7. , 26.4, 18.9, 20.9,\n",
       "       28.1, 35.4, 10.2, 24.3, 43.1, 17.6, 15.4, 16.2, 27.1, 21.4, 21.5,\n",
       "       22.4, 25. , 16.6, 18.6, 22. , 42.8, 35.1, 21.5, 36. , 21.9, 24.1,\n",
       "       50. , 26.7, 25. ])"
      ]
     },
     "execution_count": 88,
     "metadata": {},
     "output_type": "execute_result"
    }
   ],
   "source": [
    "test_targets"
   ]
  },
  {
   "cell_type": "markdown",
   "id": "72440d9d-225d-4f9b-8ea6-134696813864",
   "metadata": {},
   "source": [
    "Before we start training we'll want to normalize the data. In other words, scale each of the features so the values have mean $0$ and standard deviation $1$. You can either do this manually, or with [StandardScaler](https://scikit-learn.org/stable/modules/generated/sklearn.preprocessing.StandardScaler.html) from sklearn."
   ]
  },
  {
   "cell_type": "code",
   "execution_count": 91,
   "id": "a38f58c2-839c-41cb-b591-d0167e6e1792",
   "metadata": {},
   "outputs": [],
   "source": [
    "#YOUR CODE HERE\n",
    "from sklearn.preprocessing import StandardScaler\n",
    "\n",
    "scaler = StandardScaler()\n",
    "scaler.fit(train_data)\n",
    "train_data_std = scaler.transform(train_data)\n",
    "\n",
    "scaler = StandardScaler()\n",
    "scaler.fit(test_data)\n",
    "test_data_std = scaler.transform(test_data)"
   ]
  },
  {
   "cell_type": "markdown",
   "id": "c5d6e362-54e2-4caa-8c11-95d0812f058a",
   "metadata": {},
   "source": [
    "Now, we'll want to build our model. We'll use a model with two dense training layers with 64 nodes each and ReLU activation functions. The final layer will have a single dense node with no specified activation function (so the activation function is just the identity - it doesn't change the data). We'll use *rmsprop* as the optimizer, *mse* as the loss, and track the metric *mae*. Here \"mse\" stands for \"mean squared error\", and \"mae\" stands for \"mean absolute error\". The mean absolute error is the average of the absolute values of the differences between the predictions and the targets. We'll wrap this up in a function that we can call to create a new model. Also, note that we'll sometimes abbreviate \"mean absolute error\" using uppercase letters - MAE."
   ]
  },
  {
   "cell_type": "code",
   "execution_count": 107,
   "id": "843e4308-2f66-4aa8-b45d-fec91dbf0ae6",
   "metadata": {},
   "outputs": [],
   "source": [
    "def build_model():\n",
    "    model = keras.Sequential([\n",
    "        keras.layers.Dense(64, activation=\"relu\"),\n",
    "        keras.layers.Dense(64, activation=\"relu\"),\n",
    "        keras.layers.Dense(1)                       # Not having an activation function here is important. Outputs identity\n",
    "    ])\n",
    "    model.compile(optimizer = \"rmsprop\", loss = \"mse\", metrics = [\"mae\"])\n",
    "    return model"
   ]
  },
  {
   "cell_type": "markdown",
   "id": "86be7681-d7de-41c9-9485-a31db37933dd",
   "metadata": {},
   "source": [
    "Because we don't have much data, instead of just having one validation set, we'll want to use $K$-fold validation. Write code that prepares a list of training and validation sets for $K$-fold validation based on a specified value of $K = 4$. Note you can either create code to do this explicitly, or use the [KFold](https://scikit-learn.org/stable/modules/cross_validation.html#k-fold) function in sklearn."
   ]
  },
  {
   "cell_type": "code",
   "execution_count": 99,
   "id": "25e5cdfd-fe47-44a6-adc1-f65b1ea44b59",
   "metadata": {},
   "outputs": [],
   "source": [
    "#YOUR CODE HERE\n",
    "from sklearn.model_selection import KFold\n",
    "kf = KFold(n_splits=4)"
   ]
  },
  {
   "cell_type": "markdown",
   "id": "440faf29-9742-443a-b556-bfa3ea5bb616",
   "metadata": {},
   "source": [
    "Write code that fits the model on each training set generated for $K$-fold validation above. Use $100$ epochs and a batch size of $16$. Also, note that if you set \"verbose = 0\" in your fit command, it won't output the running tally from each epoch, which might be nice in this case. After 100 epochs of training, [evaluate](https://keras.io/api/models/model_training_apis/#evaluate-method) the model on the validation data, and track the MAE for each fold. At the end, calculate the average MAE over all 4 folds. Please note that on each fold you'll need to use a different, reset model."
   ]
  },
  {
   "cell_type": "code",
   "execution_count": 113,
   "id": "3b716119-49ac-4a2e-b1b7-48c19712bfa6",
   "metadata": {},
   "outputs": [
    {
     "name": "stdout",
     "output_type": "stream",
     "text": [
      "1/1 [==============================] - 0s 37ms/step - loss: 132.2803 - mae: 11.5013\n",
      "1/1 [==============================] - 0s 38ms/step - loss: 33.6521 - mae: 5.8010\n",
      "1/1 [==============================] - 0s 38ms/step - loss: 0.1875 - mae: 0.4330\n",
      "1/1 [==============================] - 0s 36ms/step - loss: 222.9494 - mae: 14.9315\n",
      "The average MAE across all folds is: 8.16671109199524\n"
     ]
    }
   ],
   "source": [
    "#YOUR CODE HERE\n",
    "\n",
    "def Average(lst): \n",
    "    return sum(lst) / len(lst) \n",
    "\n",
    "mae_log = []\n",
    "\n",
    "for train_index, test_index in kf.split(X):\n",
    "    # Split the data into training and testing sets\n",
    "    X_train, X_test = train_data_std[train_index], test_data_std[test_index]\n",
    "    y_train, y_test = train_targets[train_index], test_targets[test_index]\n",
    "\n",
    "    # Reset the model\n",
    "    part3_model = build_model()\n",
    "\n",
    "    # Train the model\n",
    "    part3_history = part3_model.fit(X_train, y_train, epochs = 100, batch_size = 16, verbose = 0, )\n",
    "    \n",
    "    # Evaluate the model\n",
    "    evaluate_results = part3_model.evaluate(X_test, y_test)\n",
    "    mae_log.append(evaluate_results[1]) # Credit for approach to accessing the second value in the list: https://machinelearningmastery.com/evaluate-performance-deep-learning-models-keras/\n",
    "\n",
    "print(f\"The average MAE across all folds is: {Average(mae_log)}\")"
   ]
  },
  {
   "cell_type": "markdown",
   "id": "b6ed3284-d7b2-4fe4-97e7-5e083eb82a7a",
   "metadata": {},
   "source": [
    "Now let's repeat what we did above, except we'll run for 500 epochs on each fold, and we'll track the training history and performance on the validation data. Once training on a given fold is completed extract the MAE history from the history object, and add it to a list of MAE training histories for each fold. Note this might take a few minutes, and you'll *really* want to set *verbose = 0*."
   ]
  },
  {
   "cell_type": "code",
   "execution_count": 118,
   "id": "bed41582-8a13-4e9c-bf55-858253208555",
   "metadata": {},
   "outputs": [
    {
     "name": "stdout",
     "output_type": "stream",
     "text": [
      "MAE log: [[38.1325798034668, 37.79054260253906, 37.557735443115234, 37.36067199707031, 37.17434310913086, 36.996337890625, 36.83099365234375, 36.67353057861328, 36.51551055908203, 36.35957336425781, 36.20416259765625, 36.04728317260742, 35.89132308959961, 35.73225402832031, 35.57379150390625, 35.419315338134766, 35.26323699951172, 35.09628677368164, 34.93048095703125, 34.764747619628906, 34.58210372924805, 34.39704895019531, 34.21331787109375, 34.029449462890625, 33.84219741821289, 33.64787292480469, 33.451107025146484, 33.24966049194336, 33.04488754272461, 32.837345123291016, 32.62677001953125, 32.412635803222656, 32.186519622802734, 31.960718154907227, 31.729461669921875, 31.49085807800293, 31.24823760986328, 30.99467658996582, 30.73992919921875, 30.482742309570312, 30.222244262695312, 29.960668563842773, 29.6954288482666, 29.424842834472656, 29.150888442993164, 28.873916625976562, 28.592031478881836, 28.306121826171875, 28.016115188598633, 27.718673706054688, 27.41413116455078, 27.09023094177246, 26.756826400756836, 26.421859741210938, 26.087312698364258, 25.750001907348633, 25.410470962524414, 25.067995071411133, 24.720823287963867, 24.370332717895508, 24.008888244628906, 23.646547317504883, 23.281713485717773, 22.91414451599121, 22.541000366210938, 22.16554832458496, 21.78656768798828, 21.3941593170166, 21.001996994018555, 20.608423233032227, 20.201383590698242, 19.788434982299805, 19.376832962036133, 18.964948654174805, 18.551483154296875, 18.137723922729492, 17.723886489868164, 17.309988021850586, 16.896211624145508, 16.482908248901367, 16.070009231567383, 15.658137321472168, 15.24747371673584, 14.838409423828125, 14.431313514709473, 14.02660846710205, 13.624720573425293, 13.226044654846191, 12.831089973449707, 12.440346717834473, 12.054393768310547, 11.673495292663574, 11.298527717590332, 10.929824829101562, 10.567875862121582, 10.2134370803833, 9.866618156433105, 9.527743339538574, 9.178959846496582, 8.843452453613281, 8.518953323364258, 8.204827308654785, 7.9007887840271, 7.606503963470459, 7.369102954864502, 7.1831841468811035, 6.991613864898682, 6.794816493988037, 6.593111038208008, 6.3871283531188965, 6.177385330200195, 5.964476108551025, 5.7489848136901855, 5.531514644622803, 5.311529159545898, 5.090911865234375, 4.8701043128967285, 4.650024890899658, 4.4308929443359375, 4.206511974334717, 3.9865314960479736, 3.7517998218536377, 3.5270557403564453, 3.3089587688446045, 3.0960464477539062, 2.8880958557128906, 2.685622453689575, 2.488933563232422, 2.298311233520508, 2.1140987873077393, 1.936624526977539, 1.7662067413330078, 1.6031780242919922, 1.4478931427001953, 1.3005517721176147, 1.1614151000976562, 1.0340423583984375, 0.9181410670280457, 0.8093598484992981, 0.7079690098762512, 0.6141408085823059, 0.5280284881591797, 0.4496695101261139, 0.3790639340877533, 0.3160686492919922, 0.2605018615722656, 0.21204249560832977, 0.17033322155475616, 0.1348997801542282, 0.1052449569106102, 0.08079084008932114, 0.06097729876637459, 0.045159656554460526, 0.0328267402946949, 0.023316701874136925, 0.01627095602452755, 0.011034011840820312, 0.007434844970703125, 0.0048351287841796875, 0.0037034351844340563, 0.0036265056114643812, 0.0064042410813272, 0.016607284545898438, 0.0493621826171875, 0.15449078381061554, 0.40983328223228455, 0.5621840357780457, 0.3788515627384186, 0.23323504626750946, 0.14122645556926727, 0.09738985449075699, 0.07295545190572739, 0.06203778460621834, 0.05769665911793709, 0.05989773944020271, 0.06767845153808594, 0.08396974951028824, 0.11166635900735855, 0.15874290466308594, 0.2289002686738968, 0.3204549252986908, 0.3830026090145111, 0.3922780454158783, 0.3344338834285736, 0.28080686926841736, 0.22923851013183594, 0.20067977905273438, 0.1822948455810547, 0.1798216551542282, 0.1860504150390625, 0.2068144530057907, 0.2372264862060547, 0.2841472625732422, 0.33560943603515625, 0.3939380645751953, 0.42868486046791077, 0.44965362548828125, 0.4296938478946686, 0.4048633575439453, 0.361102432012558, 0.3318939208984375, 0.30301666259765625, 0.29212379455566406, 0.2857430875301361, 0.29514947533607483, 0.30772653222084045, 0.3331820070743561, 0.35496392846107483, 0.3824246823787689, 0.39269891381263733, 0.4014485776424408, 0.3877633512020111, 0.377368301153183, 0.35401853919029236, 0.3418922424316406, 0.3256594240665436, 0.3229846954345703, 0.3190371096134186, 0.32768821716308594, 0.3335927426815033, 0.34940847754478455, 0.3574352264404297, 0.37141990661621094, 0.3717733919620514, 0.37625250220298767, 0.36632347106933594, 0.3630809783935547, 0.34971746802330017, 0.3463045656681061, 0.33680978417396545, 0.338421493768692, 0.3352794647216797, 0.3426017761230469, 0.34395280480384827, 0.3540891110897064, 0.35540899634361267, 0.3636830747127533, 0.36067327857017517, 0.3642202913761139, 0.35659661889076233, 0.3569132387638092, 0.3482583463191986, 0.3490581512451172, 0.3427753448486328, 0.3462944030761719, 0.3430652618408203, 0.3490206301212311, 0.347412109375, 0.35424232482910156, 0.3524443209171295, 0.35858407616615295, 0.3550637662410736, 0.3590933382511139, 0.35278257727622986, 0.35432371497154236, 0.34685197472572327, 0.34897613525390625, 0.3442573547363281, 0.34942626953125, 0.34704336524009705, 0.3524118959903717, 0.34814453125, 0.35127511620521545, 0.3462556302547455, 0.3509349822998047, 0.3490702211856842, 0.3563912808895111, 0.35371461510658264, 0.3568077087402344, 0.34774336218833923, 0.34725698828697205, 0.34030023217201233, 0.34542402625083923, 0.34533119201660156, 0.35357093811035156, 0.3507150113582611, 0.3527895510196686, 0.3447519838809967, 0.34648576378822327, 0.3433361053466797, 0.3513050079345703, 0.3516031801700592, 0.3581320345401764, 0.3513883054256439, 0.3510780334472656, 0.34199461340904236, 0.3446369171142578, 0.34278425574302673, 0.3512357175350189, 0.3505280911922455, 0.3548774719238281, 0.34760603308677673, 0.3482990264892578, 0.3427969515323639, 0.34863218665122986, 0.34846052527427673, 0.3563671112060547, 0.35257086157798767, 0.35444894433021545, 0.3455314636230469, 0.34668731689453125, 0.3423309326171875, 0.34922853112220764, 0.34888267517089844, 0.3550771176815033, 0.34967041015625, 0.3507404327392578, 0.34379640221595764, 0.34753546118736267, 0.3459078371524811, 0.3538990020751953, 0.3522001802921295, 0.35636457800865173, 0.34854379296302795, 0.3490835726261139, 0.3425992429256439, 0.3476104736328125, 0.34669241309165955, 0.35402998328208923, 0.3506418764591217, 0.3528480529785156, 0.3452930450439453, 0.34730401635169983, 0.34384918212890625, 0.3510793149471283, 0.35062217712402344, 0.3569552004337311, 0.3510214388370514, 0.3518575131893158, 0.3437652587890625, 0.3467153012752533, 0.3443215787410736, 0.35189247131347656, 0.35036787390708923, 0.35444068908691406, 0.34736761450767517, 0.34829840064048767, 0.3428211212158203, 0.3484516143798828, 0.34804344177246094, 0.3559061586856842, 0.3524259030818939, 0.3546994626522064, 0.34606361389160156, 0.347247451543808, 0.3426551818847656, 0.34926924109458923, 0.3486957550048828, 0.35480818152427673, 0.34939512610435486, 0.35039329528808594, 0.34331193566322327, 0.34690985083580017, 0.34530511498451233, 0.3534940183162689, 0.35217347741127014, 0.3566474914550781, 0.3488833010196686, 0.3492546081542969, 0.3424428403377533, 0.34720420837402344, 0.34621939063072205, 0.3536643981933594, 0.3504549562931061, 0.35271963477134705, 0.3450603485107422, 0.3468869626522064, 0.3433164060115814, 0.35057830810546875, 0.350372314453125, 0.35700926184654236, 0.3512808382511139, 0.35210928320884705, 0.34377798438072205, 0.34645333886146545, 0.34385618567466736, 0.35140037536621094, 0.3500448763370514, 0.3543224334716797, 0.3473580777645111, 0.34824052453041077, 0.3426138460636139, 0.3481038510799408, 0.347686767578125, 0.355682373046875, 0.3524405062198639, 0.3548755645751953, 0.34622636437416077, 0.34725379943847656, 0.3424186706542969, 0.3488686978816986, 0.34831109642982483, 0.354583740234375, 0.349377304315567, 0.35046640038490295, 0.34330177307128906, 0.34672418236732483, 0.34496498107910156, 0.3531150817871094, 0.351959228515625, 0.3566640317440033, 0.3490689694881439, 0.34942880272865295, 0.3424142301082611, 0.34694990515708923, 0.3458283841609955, 0.35331854224205017, 0.35032081604003906, 0.352771133184433, 0.3451347351074219, 0.34682273864746094, 0.34304937720298767, 0.35016822814941406, 0.3500080108642578, 0.3568382263183594, 0.3513692319393158, 0.3523171842098236, 0.3438835144042969, 0.3463408052921295, 0.34351667761802673, 0.3509896695613861, 0.3497810363769531, 0.35428109765052795, 0.3474527895450592, 0.34828630089759827, 0.342456191778183, 0.3477363586425781, 0.3472493588924408, 0.35534605383872986, 0.352386474609375, 0.3550516664981842, 0.3464323580265045, 0.34730276465415955, 0.3421904146671295, 0.3484446108341217, 0.3478940427303314, 0.35436439514160156, 0.34940528869628906, 0.3505859375, 0.34330496191978455, 0.346508651971817, 0.34456634521484375, 0.352673202753067, 0.3517112731933594, 0.3566831052303314, 0.3492685854434967, 0.3496061861515045, 0.3423633575439453, 0.34664154052734375, 0.3453737795352936, 0.35294023156166077, 0.35020193457603455, 0.35286393761634827, 0.345245361328125, 0.346771240234375, 0.3427562713623047, 0.3497060239315033, 0.3495979309082031, 0.3566525876522064, 0.3514811098575592, 0.3525676727294922, 0.3440227508544922, 0.34622955322265625, 0.34313836693763733, 0.35052552819252014, 0.3494701385498047, 0.35422196984291077, 0.34756723046302795, 0.34836897253990173, 0.3423271179199219, 0.34736695885658264, 0.3467782437801361, 0.354962021112442, 0.3523000180721283, 0.35523223876953125, 0.34667840600013733, 0.34740638732910156, 0.3419933319091797, 0.3480142056941986, 0.34744834899902344, 0.3541145324707031, 0.34942880272865295, 0.35073089599609375, 0.3433399200439453, 0.3463020324707031, 0.34413400292396545, 0.3521696627140045, 0.35140928626060486, 0.35668501257896423, 0.3495076596736908, 0.34985288977622986, 0.3423633575439453, 0.34635162353515625, 0.34490013122558594, 0.3525174558162689, 0.3500480651855469, 0.3529580533504486, 0.34539732336997986, 0.34676551818847656, 0.34246954321861267]]\n",
      "MAE log: [[28.734983444213867, 28.43073081970215, 28.227218627929688, 28.051904678344727, 27.885818481445312, 27.728017807006836, 27.56779670715332, 27.40196418762207, 27.23813819885254, 27.07497215270996, 26.910385131835938, 26.74333381652832, 26.57831382751465, 26.413131713867188, 26.24828338623047, 26.069387435913086, 25.887014389038086, 25.703994750976562, 25.51898956298828, 25.3265380859375, 25.125, 24.92236328125, 24.717613220214844, 24.510671615600586, 24.298538208007812, 24.08405303955078, 23.866836547851562, 23.64600944519043, 23.422958374023438, 23.196290969848633, 22.9644718170166, 22.72631072998047, 22.484771728515625, 22.23835563659668, 21.986963272094727, 21.731428146362305, 21.471031188964844, 21.206417083740234, 20.93750762939453, 20.66130256652832, 20.37495994567871, 20.0853214263916, 19.791589736938477, 19.49380111694336, 19.192689895629883, 18.887405395507812, 18.578039169311523, 18.264055252075195, 17.940229415893555, 17.612642288208008, 17.281679153442383, 16.94715690612793, 16.60948371887207, 16.269866943359375, 15.926705360412598, 15.580089569091797, 15.229728698730469, 14.875846862792969, 14.518817901611328, 14.15860652923584, 13.791823387145996, 13.422390937805176, 13.050602912902832, 12.674880981445312, 12.295937538146973, 11.91580581665039, 11.534398078918457, 11.150395393371582, 10.76587200164795, 10.38094425201416, 9.995889663696289, 9.611091613769531, 9.226781845092773, 8.84342098236084, 8.461200714111328, 8.078865051269531, 7.699163436889648, 7.322508335113525, 6.949347019195557, 6.580013751983643, 6.2155914306640625, 5.856359958648682, 5.502779006958008, 5.156053066253662, 4.816895008087158, 4.486027240753174, 4.164178371429443, 3.8506240844726562, 3.5319101810455322, 3.230070114135742, 2.9429404735565186, 2.670092821121216, 2.411608934402466, 2.1676692962646484, 1.9574476480484009, 1.7811740636825562, 1.6114683151245117, 1.4489307403564453, 1.2941538095474243, 1.1476850509643555, 1.0100421905517578, 0.8816483616828918, 0.7628552317619324, 0.6539093852043152, 0.5549230575561523, 0.4659039080142975, 0.38671875, 0.31709733605384827, 0.2566467821598053, 0.2048603743314743, 0.1611175537109375, 0.12472311407327652, 0.0949341431260109, 0.07096672058105469, 0.052033741027116776, 0.03735955432057381, 0.026236852630972862, 0.01798725128173828, 0.012003898620605469, 0.007791201118379831, 0.004897117614746094, 0.0029818217735737562, 0.0017391840228810906, 0.0009959539165720344, 0.0005575816030614078, 0.00029627481126226485, 0.00015227000403683633, 7.565816486021504e-05, 3.369649130036123e-05, 1.71661376953125e-05, 8.58306884765625e-06, 3.814697265625e-06, 3.496805902614142e-06, 2.86102294921875e-06, 2.86102294921875e-06, 2.543131586207892e-06, 2.86102294921875e-06, 2.86102294921875e-06, 2.225239995823358e-06, 1.589457156114804e-06, 2.86102294921875e-06, 3.496805902614142e-06, 4.132588856009534e-06, 4.76837158203125e-06, 5.086263172415784e-06, 5.404154308052966e-06, 6.357828624459216e-06, 8.58306884765625e-06, 1.4623005881730933e-05, 2.765655517578125e-05, 5.467732626129873e-05, 0.00012143453204771504, 0.00028896331787109375, 0.0007413228158839047, 0.002046267269179225, 0.006053924560546875, 0.01917997933924198, 0.06452083587646484, 0.21248531341552734, 0.441967636346817, 0.5068225860595703, 0.5697075724601746, 0.4892587661743164, 0.3677895963191986, 0.24882571399211884, 0.18272559344768524, 0.14129638671875, 0.12171968072652817, 0.11335945129394531, 0.11668777465820312, 0.1292765885591507, 0.15584437549114227, 0.19748592376708984, 0.26232561469078064, 0.3399899899959564, 0.41760191321372986, 0.4355955123901367, 0.41205787658691406, 0.34201622009277344, 0.28904280066490173, 0.24057388305664062, 0.2153441160917282, 0.1990375518798828, 0.19887065887451172, 0.2060861587524414, 0.22751934826374054, 0.25461897253990173, 0.2935565412044525, 0.3258263170719147, 0.35567378997802734, 0.35558128356933594, 0.34771060943603516, 0.3164040148258209, 0.2937215268611908, 0.2662579119205475, 0.2536245882511139, 0.24261124432086945, 0.24519379436969757, 0.2494843751192093, 0.26529407501220703, 0.2791728973388672, 0.30054664611816406, 0.31130313873291016, 0.32377973198890686, 0.31857141852378845, 0.31559816002845764, 0.2988227307796478, 0.2901344299316406, 0.2751270830631256, 0.2712360918521881, 0.26467227935791016, 0.26907476782798767, 0.2706960141658783, 0.2816619873046875, 0.2868734896183014, 0.29879030585289, 0.30053043365478516, 0.30699634552001953, 0.30123773217201233, 0.30112361907958984, 0.29092469811439514, 0.2887941896915436, 0.2799049913883209, 0.2804501950740814, 0.27595648169517517, 0.28079351782798767, 0.2802451550960541, 0.2879597246646881, 0.28845247626304626, 0.29586315155029297, 0.29403719305992126, 0.2985013425350189, 0.2932017743587494, 0.2948220670223236, 0.287849098443985, 0.28887876868247986, 0.28284454345703125, 0.2854067385196686, 0.28163018822669983, 0.28630638122558594, 0.2842947542667389, 0.2901287078857422, 0.2882792055606842, 0.2936455309391022, 0.2904548645019531, 0.29431629180908203, 0.2895374298095703, 0.29217562079429626, 0.28680673241615295, 0.2893552780151367, 0.2846008837223053, 0.2879981994628906, 0.2843720018863678, 0.28878054022789, 0.2859090268611908, 0.29074540734291077, 0.2877877652645111, 0.29226207733154297, 0.28857865929603577, 0.2923043668270111, 0.2879120409488678, 0.29112592339515686, 0.28654956817626953, 0.2898073196411133, 0.2855968475341797, 0.2893190383911133, 0.28566455841064453, 0.28985023498535156, 0.2864980697631836, 0.2908223569393158, 0.28735604882240295, 0.2914511263370514, 0.28761324286460876, 0.2913462221622467, 0.2871939241886139, 0.29072093963623047, 0.28652921319007874, 0.2901207506656647, 0.28613948822021484, 0.289965957403183, 0.28624629974365234, 0.29029083251953125, 0.2866881787776947, 0.2907616198062897, 0.28706803917884827, 0.29100289940834045, 0.28712210059165955, 0.29089102149009705, 0.2868741452693939, 0.2905550003051758, 0.28654828667640686, 0.2902965545654297, 0.2864135205745697, 0.2902793884277344, 0.2865082323551178, 0.2904624938964844, 0.2867279052734375, 0.2906776964664459, 0.2868824005126953, 0.2907524108886719, 0.2868633270263672, 0.2906592786312103, 0.28672757744789124, 0.29050540924072266, 0.28659024834632874, 0.2903998792171478, 0.2865409851074219, 0.29040780663490295, 0.2865994870662689, 0.2904996871948242, 0.2866973876953125, 0.29058900475502014, 0.2867606580257416, 0.29061922430992126, 0.2867422103881836, 0.29055753350257874, 0.2866627275943756, 0.29047712683677673, 0.2865956723690033, 0.2904329299926758, 0.2865883409976959, 0.2904564440250397, 0.2866303026676178, 0.2905050814151764, 0.2866706848144531, 0.29053401947021484, 0.2866843640804291, 0.29053211212158203, 0.28666529059410095, 0.2904990613460541, 0.2866290509700775, 0.2904634475708008, 0.28659820556640625, 0.29044309258461, 0.2865956723690033, 0.2904539108276367, 0.2866118848323822, 0.2904723584651947, 0.2866293489933014, 0.29048728942871094, 0.2866363525390625, 0.29048284888267517, 0.2866188585758209, 0.29045549035072327, 0.28659185767173767, 0.29043450951576233, 0.2865816652774811, 0.29043707251548767, 0.2865928113460541, 0.2904481887817383, 0.2866020202636719, 0.29045772552490234, 0.286602646112442, 0.29045072197914124, 0.2865959703922272, 0.2904418408870697, 0.2865851819515228, 0.29042816162109375, 0.28656768798828125, 0.2904103696346283, 0.2865540087223053, 0.29040589928627014, 0.28656163811683655, 0.29041799902915955, 0.28657087683677673, 0.29042181372642517, 0.28657087683677673, 0.2904195785522461, 0.2865629196166992, 0.2904084622859955, 0.2865540087223053, 0.2904024124145508, 0.28654542565345764, 0.29039445519447327, 0.2865428924560547, 0.2903890609741211, 0.28653430938720703, 0.29038429260253906, 0.28653717041015625, 0.2903900146484375, 0.28654003143310547, 0.2903890609741211, 0.28653684258461, 0.290386825799942, 0.2865314483642578, 0.290374755859375, 0.2865161895751953, 0.29036203026771545, 0.28650951385498047, 0.29035916924476624, 0.28651079535484314, 0.29036107659339905, 0.28651079535484314, 0.2903636395931244, 0.2865142822265625, 0.2903645932674408, 0.28651270270347595, 0.29035696387290955, 0.2864961624145508, 0.2903388440608978, 0.28648313879966736, 0.29033151268959045, 0.28648439049720764, 0.29033979773521423, 0.2864948809146881, 0.2903461456298828, 0.2864952087402344, 0.29034486413002014, 0.2864898145198822, 0.29033342003822327, 0.2864783704280853, 0.29032421112060547, 0.2864694595336914, 0.29031339287757874, 0.286456435918808, 0.2903013229370117, 0.2864513397216797, 0.2903006970882416, 0.2864542007446289, 0.29030928015708923, 0.2864643633365631, 0.2903226315975189, 0.2864748537540436, 0.29032039642333984, 0.2864592969417572, 0.29029688239097595, 0.28643861413002014, 0.2902803421020508, 0.2864236831665039, 0.2902708053588867, 0.286419540643692, 0.29026857018470764, 0.2864268720149994, 0.2902873456478119, 0.28644561767578125, 0.29029178619384766, 0.2864325940608978, 0.2902739942073822, 0.2864173352718353, 0.29026126861572266, 0.28640684485435486, 0.29025140404701233, 0.28639984130859375, 0.2902507781982422, 0.28640398383140564, 0.29025396704673767, 0.2864052355289459, 0.2902555465698242, 0.28640714287757874, 0.2902558743953705, 0.2864097058773041, 0.29026126861572266, 0.28640303015708923, 0.2902393341064453, 0.28637728095054626, 0.2902180254459381, 0.28636613488197327, 0.2902183532714844, 0.28637853264808655, 0.2902336120605469, 0.2873697280883789, 0.2922414243221283, 0.2884804308414459, 0.2922302782535553, 0.2875204086303711, 0.29056039452552795, 0.2856648862361908, 0.28882184624671936, 0.2845083773136139, 0.2883481979370117, 0.2848294675350189, 0.2893158495426178, 0.2861712872982025, 0.29076704382896423, 0.2873770296573639, 0.29157257080078125, 0.2875916063785553, 0.29123273491859436, 0.2868248522281647, 0.2902078628540039, 0.28580889105796814, 0.2893495559692383, 0.28532060980796814, 0.28923988342285156, 0.28534507751464844, 0.28921350836753845, 0.28560957312583923, 0.2897348403930664, 0.28625646233558655, 0.2904103696346283, 0.28679338097572327, 0.29074349999427795, 0.2868528366088867, 0.29055342078208923, 0.2864662706851959, 0.29005908966064453, 0.2859977185726166, 0.2896842956542969, 0.28580188751220703, 0.2896668016910553]]\n",
      "MAE log: [[26.038841247558594, 25.77344512939453, 25.56587028503418, 25.38673973083496, 25.2109375, 25.04245948791504, 24.87593650817871, 24.708175659179688, 24.54172706604004, 24.36969757080078, 24.198556900024414, 24.024621963500977, 23.83512306213379, 23.63569450378418, 23.43181610107422, 23.220802307128906, 23.00639533996582, 22.79032325744629, 22.567489624023438, 22.338266372680664, 22.10835838317871, 21.875146865844727, 21.639175415039062, 21.39921760559082, 21.150087356567383, 20.897077560424805, 20.64080238342285, 20.37482452392578, 20.10492515563965, 19.831003189086914, 19.55218505859375, 19.268693923950195, 18.977842330932617, 18.682119369506836, 18.381494522094727, 18.075693130493164, 17.764902114868164, 17.44770622253418, 17.12544059753418, 16.797409057617188, 16.463043212890625, 16.12433624267578, 15.781384468078613, 15.434208869934082, 15.082866668701172, 14.726356506347656, 14.366473197937012, 14.0027494430542, 13.631993293762207, 13.258052825927734, 12.876888275146484, 12.4939546585083, 12.1089448928833, 11.722018241882324, 11.332852363586426, 10.940876960754395, 10.54782772064209, 10.153986930847168, 9.759720802307129, 9.36540412902832, 8.971449851989746, 8.574666023254395, 8.17807388305664, 7.78362512588501, 7.391059875488281, 7.002222061157227, 6.617699146270752, 6.2381463050842285, 5.864234924316406, 5.496910572052002, 5.136712074279785, 4.78425931930542, 4.440564155578613, 4.106466770172119, 3.7828330993652344, 3.571237802505493, 3.4169890880584717, 3.2644853591918945, 3.114032506942749, 2.9659411907196045, 2.820936441421509, 2.6793642044067383, 2.540996551513672, 2.406113862991333, 2.274982452392578, 2.1478586196899414, 2.02496337890625, 1.9065179824829102, 1.7928062677383423, 1.6835947036743164, 1.5792144536972046, 1.4796851873397827, 1.384678840637207, 1.2944542169570923, 1.2087692022323608, 1.1272300481796265, 1.0500373840332031, 0.9767939448356628, 0.9071245193481445, 0.8412981033325195, 0.7785927653312683, 0.7190987467765808, 0.6626765131950378, 0.6088778376579285, 0.5580940246582031, 0.5095637440681458, 0.4641812741756439, 0.4208437502384186, 0.3800986707210541, 0.34165287017822266, 0.30588212609291077, 0.272285133600235, 0.2409261018037796, 0.21180756390094757, 0.18477089703083038, 0.16013844311237335, 0.13745276629924774, 0.11714903265237808, 0.09871450811624527, 0.08254146575927734, 0.06797122955322266, 0.055624645203351974, 0.04476897045969963, 0.03568236157298088, 0.02793153189122677, 0.021625837311148643, 0.016404787078499794, 0.01226933766156435, 0.008969306945800781, 0.0064798989333212376, 0.0045216879807412624, 0.0031363170128315687, 0.0020605723839253187, 0.0013990402221679688, 0.0008122126455418766, 0.0005791981820948422, 0.0003353754582349211, 0.0003163019719067961, 0.00041643777512945235, 0.0006907780771143734, 0.0011911392211914062, 0.0022885005455464125, 0.00465075159445405, 0.0102628068998456, 0.024478912353515625, 0.06336943060159683, 0.17113971710205078, 0.4498128890991211, 0.7885341644287109, 0.6753196716308594, 0.36828550696372986, 0.21942393481731415, 0.1358814239501953, 0.09664122015237808, 0.07572174072265625, 0.0668884888291359, 0.06505552679300308, 0.07028833776712418, 0.08282915502786636, 0.10698223114013672, 0.1479482650756836, 0.21802616119384766, 0.3217926025390625, 0.44880804419517517, 0.5053297877311707, 0.4773782193660736, 0.3682149350643158, 0.2895587384700775, 0.22479598224163055, 0.19111156463623047, 0.17043590545654297, 0.16684849560260773, 0.1724669188261032, 0.19289620220661163, 0.22331905364990234, 0.27071571350097656, 0.32095304131507874, 0.37353959679603577, 0.3900963366031647, 0.3871959149837494, 0.3450797498226166, 0.31065496802330017, 0.27013301849365234, 0.24868552386760712, 0.23114681243896484, 0.2297108918428421, 0.23249435424804688, 0.24899260699748993, 0.26708126068115234, 0.2956012189388275, 0.31586456298828125, 0.3379170000553131, 0.33770403265953064, 0.3363364636898041, 0.3149360120296478, 0.30133628845214844, 0.27964720129966736, 0.27102184295654297, 0.2604494094848633, 0.2628447115421295, 0.2639913558959961, 0.27636751532554626, 0.28452301025390625, 0.30079618096351624, 0.3066975176334381, 0.31718477606773376, 0.3126427233219147, 0.3129425048828125, 0.30022016167640686, 0.2959006726741791, 0.28358301520347595, 0.28197288513183594, 0.2753966748714447, 0.27963194251060486, 0.2790435254573822, 0.2880652844905853, 0.2901153564453125, 0.2999401092529297, 0.29970645904541016, 0.3059791028499603, 0.30070462822914124, 0.3024730682373047, 0.2939704358577728, 0.2940804064273834, 0.28621387481689453, 0.2879629135131836, 0.2830972671508789, 0.2878284454345703, 0.2858012616634369, 0.29263654351234436, 0.2914257049560547, 0.2981516420841217, 0.29541873931884766, 0.3002106249332428, 0.2951103746891022, 0.2979148328304291, 0.2915560305118561, 0.2938210070133209, 0.28800487518310547, 0.2912473678588867, 0.2869774401187897, 0.29168733954429626, 0.28868675231933594, 0.2942603528499603, 0.2914365231990814, 0.29675421118736267, 0.2930440902709961, 0.2973442077636719, 0.29252466559410095, 0.2959617078304291, 0.2906900942325592, 0.29400762915611267, 0.28911876678466797, 0.29298973083496094, 0.288872092962265, 0.293444961309433, 0.2898750305175781, 0.2947711944580078, 0.2911701202392578, 0.2958485186100006, 0.29176488518714905, 0.2959432601928711, 0.29136720299720764, 0.2951739728450775, 0.2904396057128906, 0.29424986243247986, 0.2897564470767975, 0.2938753664493561, 0.2897672653198242, 0.29421329498291016, 0.29032325744628906, 0.2948732376098633, 0.29091548919677734, 0.29532623291015625, 0.29112181067466736, 0.295280784368515, 0.29084745049476624, 0.29485511779785156, 0.29039159417152405, 0.2944355010986328, 0.29010453820228577, 0.2943083345890045, 0.2901662290096283, 0.2945210039615631, 0.2904609143733978, 0.29484114050865173, 0.2907285690307617, 0.295025497674942, 0.29078546166419983, 0.294964462518692, 0.2906259000301361, 0.29473939538002014, 0.29039478302001953, 0.2945432662963867, 0.290283203125, 0.29451560974121094, 0.29034075140953064, 0.2946389615535736, 0.2904879152774811, 0.2947807312011719, 0.2905975878238678, 0.2948516309261322, 0.2906096875667572, 0.29480552673339844, 0.2905184328556061, 0.29469427466392517, 0.29041481018066406, 0.294609397649765, 0.2903728485107422, 0.2946077883243561, 0.2904033660888672, 0.29466184973716736, 0.29047074913978577, 0.294731467962265, 0.29052162170410156, 0.2947568893432617, 0.2905130386352539, 0.2947193682193756, 0.29046186804771423, 0.29466724395751953, 0.29041609168052673, 0.294628769159317, 0.2903982698917389, 0.29463544487953186, 0.29042401909828186, 0.2946688234806061, 0.29045677185058594, 0.2946980893611908, 0.29047107696533203, 0.2946949005126953, 0.2904532849788666, 0.2946685254573822, 0.2904268801212311, 0.2946453094482422, 0.29041004180908203, 0.29463323950767517, 0.2904052734375, 0.2946380078792572, 0.2904167175292969, 0.29465165734291077, 0.2904297411441803, 0.2946634292602539, 0.29043546319007874, 0.2946615219116211, 0.29042530059814453, 0.2946443557739258, 0.2904071807861328, 0.2946281433105469, 0.2903928756713867, 0.29461669921875, 0.29038843512535095, 0.2946186065673828, 0.29039254784584045, 0.2946237027645111, 0.29039955139160156, 0.29463133215904236, 0.29040464758872986, 0.2946319580078125, 0.2904014587402344, 0.29462718963623047, 0.2903938293457031, 0.29461511969566345, 0.29037952423095703, 0.294598251581192, 0.2903667986392975, 0.2945985794067383, 0.2903757095336914, 0.294609397649765, 0.2903849184513092, 0.2946138381958008, 0.2903827130794525, 0.2946068346500397, 0.2903738021850586, 0.29459348320961, 0.29035505652427673, 0.29457855224609375, 0.2903544008731842, 0.29458555579185486, 0.2903604507446289, 0.2945893704891205, 0.2903614044189453, 0.2945893704891205, 0.2903585433959961, 0.2945810854434967, 0.2903483808040619, 0.29457250237464905, 0.29034423828125, 0.294574111700058, 0.2903483808040619, 0.29457440972328186, 0.2903432846069336, 0.2945686876773834, 0.29033979773521423, 0.2945648729801178, 0.2903331220149994, 0.29455915093421936, 0.290332168340683, 0.29455819725990295, 0.29032865166664124, 0.2945537567138672, 0.2903229296207428, 0.29454708099365234, 0.2903200685977936, 0.2945467531681061, 0.2903159558773041, 0.2945404052734375, 0.29031404852867126, 0.2945455014705658, 0.2903191149234772, 0.294543594121933, 0.29031530022621155, 0.2945464551448822, 0.2903169095516205, 0.29453691840171814, 0.29030704498291016, 0.29453277587890625, 0.29030194878578186, 0.29452547430992126, 0.2902956008911133, 0.29451751708984375, 0.29028573632240295, 0.2945108413696289, 0.29028353095054626, 0.29451242089271545, 0.29028764367103577, 0.29451847076416016, 0.2902984619140625, 0.29452767968177795, 0.29030004143714905, 0.294525146484375, 0.29029083251953125, 0.29450830817222595, 0.290271133184433, 0.2944885790348053, 0.2902565002441406, 0.2944835126399994, 0.29026126861572266, 0.29449495673179626, 0.2902768552303314, 0.2945057451725006, 0.2902752459049225, 0.2944978177547455, 0.2902638018131256, 0.2944847643375397, 0.29025396704673767, 0.29447683691978455, 0.2902498245239258, 0.29447588324546814, 0.29025235772132874, 0.2944847643375397, 0.29025745391845703, 0.2944784164428711, 0.2902488708496094, 0.29447078704833984, 0.2902393341064453, 0.29446569085121155, 0.2902396619319916, 0.294464111328125, 0.2902374267578125, 0.2944622039794922, 0.2902332842350006, 0.29445838928222656, 0.2902351915836334, 0.29446539282798767, 0.290234237909317, 0.2944539487361908, 0.29022344946861267, 0.29444631934165955, 0.29021644592285156, 0.2944405972957611, 0.2902151644229889, 0.2944428026676178, 0.2902199327945709, 0.2944469451904297, 0.29022154211997986, 0.2944498062133789, 0.29021868109703064, 0.2944355010986328, 0.2902015149593353, 0.29442182183265686, 0.2901945114135742, 0.2944192886352539, 0.2901935577392578, 0.29442182183265686, 0.2901967465877533, 0.294421523809433, 0.29019609093666077, 0.2944253385066986, 0.29020342230796814, 0.29442882537841797, 0.2901948392391205, 0.2944094240665436, 0.29017576575279236, 0.2943976819515228, 0.290168434381485, 0.29439258575439453, 0.2901693880558014, 0.2943989336490631, 0.2901814877986908, 0.29441389441490173]]\n",
      "MAE log: [[35.770938873291016, 35.38395309448242, 35.11328887939453, 34.890140533447266, 34.684146881103516, 34.49665451049805, 34.31972885131836, 34.1479377746582, 33.97653579711914, 33.80482482910156, 33.63095474243164, 33.45246505737305, 33.270477294921875, 33.08710861206055, 32.9001350402832, 32.709102630615234, 32.5077018737793, 32.3060417175293, 32.10482406616211, 31.900907516479492, 31.69246482849121, 31.48094367980957, 31.26692771911621, 31.048940658569336, 30.826459884643555, 30.597335815429688, 30.359590530395508, 30.102920532226562, 29.847078323364258, 29.58933448791504, 29.32367706298828, 29.05522346496582, 28.782676696777344, 28.505868911743164, 28.224533081054688, 27.93842124938965, 27.646764755249023, 27.350549697875977, 27.038427352905273, 26.71109962463379, 26.38275718688965, 26.04146385192871, 25.700172424316406, 25.355382919311523, 25.00779914855957, 24.655685424804688, 24.295961380004883, 23.934494018554688, 23.565847396850586, 23.19488525390625, 22.819808959960938, 22.43321418762207, 22.04390525817871, 21.65238380432129, 21.25774574279785, 20.856834411621094, 20.453447341918945, 20.04572105407715, 19.636123657226562, 19.22432518005371, 18.810697555541992, 18.39396095275879, 17.97557258605957, 17.552078247070312, 17.128725051879883, 16.705175399780273, 16.280324935913086, 15.847237586975098, 15.417698860168457, 14.99065113067627, 14.56604290008545, 14.14413070678711, 13.72525691986084, 13.309679985046387, 12.888526916503906, 12.471824645996094, 12.062541007995605, 11.660079956054688, 11.264372825622559, 10.87598705291748, 10.495049476623535, 10.121020317077637, 9.743742942810059, 9.380183219909668, 9.02781867980957, 8.685371398925781, 8.352787971496582, 8.028349876403809, 7.711250305175781, 7.445681095123291, 7.193681716918945, 6.936363220214844, 6.672580718994141, 6.396350860595703, 6.115201473236084, 5.834934234619141, 5.555614471435547, 5.277642250061035, 5.001419544219971, 4.727424144744873, 4.4561238288879395, 4.188014984130859, 3.9181835651397705, 3.6359503269195557, 3.3669538497924805, 3.107714891433716, 2.8570547103881836, 2.615492582321167, 2.383094072341919, 2.1601860523223877, 1.9472185373306274, 1.7446779012680054, 1.5530503988265991, 1.3728052377700806, 1.2043412923812866, 1.0480066537857056, 0.9040384292602539, 0.7725709080696106, 0.6536204218864441, 0.5470530390739441, 0.45260652899742126, 0.3698676526546478, 0.29826927185058594, 0.23739242553710938, 0.1858641356229782, 0.14322058856487274, 0.10843721777200699, 0.08049742132425308, 0.05866686627268791, 0.04167874529957771, 0.029054006561636925, 0.01953125, 0.01300048828125, 0.0084927873685956, 0.006160736083984375, 0.004406293388456106, 0.0038496654015034437, 0.004441896919161081, 0.007977485656738281, 0.018514633178710938, 0.04889170452952385, 0.12764962017536163, 0.28297868371009827, 0.4083223342895508, 0.334686279296875, 0.23225052654743195, 0.14924590289592743, 0.10720348358154297, 0.08204714208841324, 0.07066027075052261, 0.06612809747457504, 0.06865215301513672, 0.07708517462015152, 0.09443855285644531, 0.12247276306152344, 0.16748619079589844, 0.22629356384277344, 0.29236188530921936, 0.3247505724430084, 0.32601451873779297, 0.28808465600013733, 0.2559318542480469, 0.22395102679729462, 0.2088133543729782, 0.2009032517671585, 0.2078062742948532, 0.22280089557170868, 0.25367388129234314, 0.2929007112979889, 0.34970155358314514, 0.4015064239501953, 0.45309576392173767, 0.46748510003089905, 0.4664894640445709, 0.4268086850643158, 0.3935680389404297, 0.3512016832828522, 0.32859930396080017, 0.3088938295841217, 0.307769775390625, 0.31048426032066345, 0.32910123467445374, 0.3479197919368744, 0.37811627984046936, 0.3975954055786133, 0.41964244842529297, 0.4181874692440033, 0.4170805513858795, 0.39510536193847656, 0.38188648223876953, 0.3592081069946289, 0.3508685529232025, 0.33944830298423767, 0.34271588921546936, 0.3436215817928314, 0.3572978973388672, 0.3652067184448242, 0.38237953186035156, 0.3874848783016205, 0.3983325958251953, 0.39287853240966797, 0.3935467302799225, 0.3800570070743561, 0.37620702385902405, 0.3631337583065033, 0.3621238172054291, 0.35492610931396484, 0.35999807715415955, 0.3589353561401367, 0.36884912848472595, 0.37034639716148376, 0.38086065649986267, 0.3798860013484955, 0.3866640627384186, 0.3806110918521881, 0.38288116455078125, 0.3736521303653717, 0.3743397295475006, 0.3658212125301361, 0.36828741431236267, 0.3628730773925781, 0.36840978264808655, 0.3658396303653717, 0.3734169006347656, 0.37154707312583923, 0.37885698676109314, 0.375335693359375, 0.38058629631996155, 0.37462425231933594, 0.3778266906738281, 0.3705596923828125, 0.373248428106308, 0.36663851141929626, 0.370598167181015, 0.36603865027427673, 0.3720897138118744, 0.36935076117515564, 0.37641748785972595, 0.3732481002807617, 0.3786334991455078, 0.37271595001220703, 0.3757098615169525, 0.3688983917236328, 0.3726895749568939, 0.3679860532283783, 0.3734292984008789, 0.36819490790367126, 0.3713442385196686, 0.3637215197086334, 0.36725330352783203, 0.3638744354248047, 0.3724876940250397, 0.3724873960018158, 0.38053765892982483, 0.3754800260066986, 0.3769702911376953, 0.36781248450279236, 0.3696257174015045, 0.36421266198158264, 0.3703289031982422, 0.36739635467529297, 0.3731168210506439, 0.36713728308677673, 0.3705695569515228, 0.3651212155818939, 0.37131690979003906, 0.36949315667152405, 0.37735143303871155, 0.37391820549964905, 0.37802156805992126, 0.37042585015296936, 0.3723977506160736, 0.36580339074134827, 0.37054094672203064, 0.36700502038002014, 0.37320518493652344, 0.36849021911621094, 0.3725624084472656, 0.3663746416568756, 0.3710228502750397, 0.36753717064857483, 0.3747612535953522, 0.3722187578678131, 0.37801456451416016, 0.3720286786556244, 0.3745749890804291, 0.3672504425048828, 0.3707297742366791, 0.3662109375, 0.372321754693985, 0.36859703063964844, 0.37359046936035156, 0.3673807680606842, 0.3710133135318756, 0.3659086227416992, 0.3721446990966797, 0.3699045181274414, 0.37708473205566406, 0.3729937970638275, 0.3767436444759369, 0.36926522850990295, 0.3716239929199219, 0.3656097948551178, 0.3708273470401764, 0.36751046776771545, 0.3736286163330078, 0.36848798394203186, 0.37211671471595764, 0.3656797409057617, 0.37036100029945374, 0.36717286705970764, 0.37468305230140686, 0.3722572326660156, 0.3778969347476959, 0.3715740740299225, 0.3738412857055664, 0.36649608612060547, 0.37018680572509766, 0.3660408556461334, 0.3724295198917389, 0.3686717450618744, 0.37340864539146423, 0.3668762743473053, 0.3704001009464264, 0.3654896318912506, 0.3720064163208008, 0.3699881136417389, 0.3771444857120514, 0.3727865219116211, 0.3762340545654297, 0.3686300814151764, 0.3710966110229492, 0.3653999865055084, 0.37090587615966797, 0.3676503598690033, 0.37360572814941406, 0.3681602478027344, 0.3716360628604889, 0.36533960700035095, 0.3702913820743561, 0.3673664629459381, 0.3749173581600189, 0.3722686767578125, 0.37756314873695374, 0.37096691131591797, 0.37318548560142517, 0.36607202887535095, 0.37008795142173767, 0.36619314551353455, 0.372601181268692, 0.3685722351074219, 0.37301602959632874, 0.36637815833091736, 0.3700348436832428, 0.3654550015926361, 0.3722178041934967, 0.37023353576660156, 0.37719249725341797, 0.3724752962589264, 0.37562718987464905, 0.36797651648521423, 0.3706156313419342, 0.3652273714542389, 0.37097421288490295, 0.3677336275577545, 0.37350210547447205, 0.36778101325035095, 0.37113699316978455, 0.36498674750328064, 0.3702023923397064, 0.3675343096256256, 0.37514209747314453, 0.37229123711586, 0.37725386023521423, 0.37037530541419983, 0.3725169599056244, 0.36559009552001953, 0.36987972259521484, 0.36620330810546875, 0.37264156341552734, 0.36840882897377014, 0.37262821197509766, 0.3659283220767975, 0.36971887946128845, 0.36541748046875, 0.37238407135009766, 0.370410293340683, 0.3771629333496094, 0.3721106946468353, 0.37500476837158203, 0.3673257827758789, 0.37013116478919983, 0.36503759026527405, 0.37099966406822205, 0.36775365471839905, 0.3733482360839844, 0.3674049377441406, 0.37069639563560486, 0.36471304297447205, 0.3701658248901367, 0.36768975853919983, 0.3752959668636322, 0.3722117841243744, 0.3768685758113861, 0.36977067589759827, 0.3718779981136322, 0.3651482164859772, 0.3696991503238678, 0.36620235443115234, 0.37263742089271545, 0.36820125579833984, 0.37222322821617126, 0.3654817044734955, 0.3694063723087311, 0.36537328362464905, 0.3725220263004303, 0.3705320358276367, 0.3770774304866791, 0.3717174530029297, 0.37440648674964905, 0.36673831939697266, 0.3697134554386139, 0.36487069725990295, 0.3709923326969147, 0.36769580841064453, 0.37310791015625, 0.36697229743003845, 0.37023577094078064, 0.36442533135414124, 0.37010225653648376, 0.36778926849365234, 0.37537989020347595, 0.3720814287662506, 0.37646961212158203, 0.36918988823890686, 0.3712972104549408, 0.3647492825984955, 0.36952653527259827, 0.36616644263267517, 0.3725852966308594, 0.36795297265052795, 0.3718090057373047, 0.36505794525146484, 0.3691276013851166, 0.3653046190738678, 0.3725821077823639, 0.37054190039634705, 0.37690162658691406, 0.3712848126888275, 0.37381649017333984, 0.3661826550960541, 0.369335800409317, 0.3647193908691406, 0.37098821997642517, 0.367633193731308, 0.37290287017822266, 0.3665962219238281, 0.36985111236572266, 0.3641945421695709, 0.37007489800453186, 0.3678852617740631, 0.37545904517173767, 0.3719625473022461, 0.3761320114135742, 0.3687111437320709, 0.37083911895751953, 0.36445966362953186, 0.36942991614341736, 0.3661610186100006, 0.3725496828556061, 0.3677469789981842, 0.3714841306209564, 0.3647359311580658, 0.368939071893692, 0.36531099677085876, 0.37271690368652344, 0.3706448972225189, 0.3768485486507416, 0.3710174560546875, 0.37342262268066406, 0.3658224642276764, 0.36911582946777344, 0.3646567761898041, 0.37100982666015625, 0.367584228515625, 0.3727022707462311, 0.36627674102783203, 0.3695354461669922, 0.36402830481529236, 0.3700752258300781, 0.3679892122745514, 0.3755226135253906, 0.3718452453613281, 0.37581029534339905, 0.3682915270328522, 0.37045764923095703, 0.3642406463623047, 0.36938348412513733, 0.36619219183921814, 0.37252745032310486]]\n",
      "The average MAE scores across each epoch for each fold are respectively: [5.735014376598411, 3.4444497683346222, 2.7840437901393162, 4.680677242997568]\n"
     ]
    }
   ],
   "source": [
    "#YOUR CODE HERE\n",
    "\n",
    "def Average(lst): \n",
    "    return sum(lst) / len(lst) \n",
    "\n",
    "epoch_mae_log = []\n",
    "\n",
    "for train_index, test_index in kf.split(X):\n",
    "    # Reset mae_log for each fold\n",
    "    mae_log = []\n",
    "\n",
    "    # Split the data into training and testing sets\n",
    "    X_train, X_test = train_data_std[train_index], test_data_std[test_index]\n",
    "    y_train, y_test = train_targets[train_index], test_targets[test_index]\n",
    "\n",
    "    # Reset the model\n",
    "    part3_model = build_model()\n",
    "\n",
    "    # Train the model\n",
    "    part3_history_b = part3_model.fit(X_train, y_train, epochs = 500, batch_size = 16, verbose = 0, validation_data=(X_test,y_test))\n",
    "    \n",
    "    # Append the MAE history\n",
    "    mae_log.append(part3_history_b.history['mae'])\n",
    "    print(f\"MAE log: {mae_log}\")\n",
    "    epoch_mae_log.append(Average(mae_log[0]))\n",
    "                   \n",
    "print(f\"The average MAE scores across each epoch for each fold are respectively: {epoch_mae_log}\")"
   ]
  },
  {
   "cell_type": "markdown",
   "id": "d447e2a0-eecf-46b0-8a15-730fb3864708",
   "metadata": {},
   "source": [
    "Create a dataframe of the average value of the validation MAE for each fold after each epoch. So, the first value in your dataframe should be the average value of the validation MAE over all the folds after their first epoch, the second should be the average value of the validation MAE over all the folds after their second epoch, and so on."
   ]
  },
  {
   "cell_type": "code",
   "execution_count": 121,
   "id": "4c1fc9d4-5357-44d2-830e-c6e8bc148fb7",
   "metadata": {},
   "outputs": [
    {
     "data": {
      "text/html": [
       "<div>\n",
       "<style scoped>\n",
       "    .dataframe tbody tr th:only-of-type {\n",
       "        vertical-align: middle;\n",
       "    }\n",
       "\n",
       "    .dataframe tbody tr th {\n",
       "        vertical-align: top;\n",
       "    }\n",
       "\n",
       "    .dataframe thead th {\n",
       "        text-align: right;\n",
       "    }\n",
       "</style>\n",
       "<table border=\"1\" class=\"dataframe\">\n",
       "  <thead>\n",
       "    <tr style=\"text-align: right;\">\n",
       "      <th></th>\n",
       "      <th>Average MAE</th>\n",
       "    </tr>\n",
       "  </thead>\n",
       "  <tbody>\n",
       "    <tr>\n",
       "      <th>0</th>\n",
       "      <td>5.735014</td>\n",
       "    </tr>\n",
       "    <tr>\n",
       "      <th>1</th>\n",
       "      <td>3.444450</td>\n",
       "    </tr>\n",
       "    <tr>\n",
       "      <th>2</th>\n",
       "      <td>2.784044</td>\n",
       "    </tr>\n",
       "    <tr>\n",
       "      <th>3</th>\n",
       "      <td>4.680677</td>\n",
       "    </tr>\n",
       "  </tbody>\n",
       "</table>\n",
       "</div>"
      ],
      "text/plain": [
       "   Average MAE\n",
       "0     5.735014\n",
       "1     3.444450\n",
       "2     2.784044\n",
       "3     4.680677"
      ]
     },
     "execution_count": 121,
     "metadata": {},
     "output_type": "execute_result"
    }
   ],
   "source": [
    "#YOUR CODE HERE\n",
    "df = pd.DataFrame(epoch_mae_log, columns=['Average MAE'])\n",
    "df"
   ]
  },
  {
   "cell_type": "markdown",
   "id": "f72c31cd-8940-461f-ad51-71c9baff27fc",
   "metadata": {},
   "source": [
    "Plot the average validation MAE over the 500 epochs."
   ]
  },
  {
   "cell_type": "code",
   "execution_count": 51,
   "id": "e8075163-7abb-4262-8201-29f316c080aa",
   "metadata": {},
   "outputs": [],
   "source": [
    "#YOUR CODE HERE"
   ]
  },
  {
   "cell_type": "markdown",
   "id": "13b93480-bdc2-4d67-a16a-78c507717fb3",
   "metadata": {},
   "source": [
    "You might notice a bit of a scaling issue here. The validaion MAE is much higher for the first 10 or so training epochs, and then it settles down. So, plot this data again, but exclude the first 10 values. What number of epochs appears to give us the best performance on the validation data?"
   ]
  },
  {
   "cell_type": "code",
   "execution_count": 52,
   "id": "2bbfaa91-0f42-4507-a05b-a234f1316891",
   "metadata": {},
   "outputs": [],
   "source": [
    "#YOUR CODE HERE"
   ]
  },
  {
   "cell_type": "markdown",
   "id": "52ded06a-0423-4a0a-b5ff-10fbbdf2f8d1",
   "metadata": {},
   "source": [
    "Retrain the model using all the training data (nothing left out as validation data) for the optimal number of epochs determined by the chart above."
   ]
  },
  {
   "cell_type": "code",
   "execution_count": 53,
   "id": "c37788a8-c07c-48a6-8021-812c4422ef1e",
   "metadata": {},
   "outputs": [],
   "source": [
    "#YOUR CODE HERE"
   ]
  },
  {
   "cell_type": "markdown",
   "id": "b41f755c-593c-43cf-8f8a-e31a599504dd",
   "metadata": {},
   "source": [
    "Check the performance (the MAE) of this model on the test data. Be sure to scale the test data like you did the training data."
   ]
  },
  {
   "cell_type": "code",
   "execution_count": 54,
   "id": "453d5cb5-db8b-4691-ae61-ade8913f3db3",
   "metadata": {},
   "outputs": [],
   "source": [
    "#YOUR CODE HERE"
   ]
  },
  {
   "cell_type": "markdown",
   "id": "59c41028-89b9-407d-b5e9-d770cbd573e1",
   "metadata": {},
   "source": [
    "**Part 4 - Categorical Prediction on the Fashion MNIST Dataset**\n",
    "\n",
    "The fashion MNIST dataset is an exact replica of the format of the standard MNIST (handwritten digits) dataset, only instead of being images of handwritten numbers, it's images of clothing from a catalog with the following 10 categories:\n",
    "\n",
    "* 0: T-shirt / top\n",
    "* 1: Trouser\n",
    "* 2: Pullover\n",
    "* 3: Dress\n",
    "* 4: Coat\n",
    "* 5: Sandal\n",
    "* 6: Shirt\n",
    "* 7: Sneaker\n",
    "* 8: Bag\n",
    "* 9: Ankle boot"
   ]
  },
  {
   "cell_type": "markdown",
   "id": "e475d797-d402-46d5-b242-ecf7113fca80",
   "metadata": {},
   "source": [
    "For this part of the assignment, you'll upload the fashion MNIST training data from a zip file provided for you on Canvas. You should be able to do so with the following code, assuming the .gz file is in the same directory as this Jupyter notebook. If not, you'll need to modify the path to the file appropriately."
   ]
  },
  {
   "cell_type": "code",
   "execution_count": 55,
   "id": "af5aebc8-50f8-4fbd-847a-850449e8944a",
   "metadata": {},
   "outputs": [
    {
     "ename": "FileNotFoundError",
     "evalue": "[Errno 2] No such file or directory: 'train-fashion-labels-idx1-ubyte'",
     "output_type": "error",
     "traceback": [
      "\u001b[0;31m---------------------------------------------------------------------------\u001b[0m",
      "\u001b[0;31mFileNotFoundError\u001b[0m                         Traceback (most recent call last)",
      "\u001b[1;32m/Users/robchristiansen/Documents/Code/Learning/WeberState/CS 6570 (Data Science Algorithms I)/Assignments/CS-6570 Homework 6.ipynb Cell 121\u001b[0m line \u001b[0;36m3\n\u001b[1;32m     <a href='vscode-notebook-cell:/Users/robchristiansen/Documents/Code/Learning/WeberState/CS%206570%20%28Data%20Science%20Algorithms%20I%29/Assignments/CS-6570%20Homework%206.ipynb#Y230sZmlsZQ%3D%3D?line=34'>35</a>\u001b[0m         images \u001b[39m=\u001b[39m ((images \u001b[39m/\u001b[39m \u001b[39m255.\u001b[39m) \u001b[39m-\u001b[39m \u001b[39m.5\u001b[39m) \u001b[39m*\u001b[39m \u001b[39m2\u001b[39m\n\u001b[1;32m     <a href='vscode-notebook-cell:/Users/robchristiansen/Documents/Code/Learning/WeberState/CS%206570%20%28Data%20Science%20Algorithms%20I%29/Assignments/CS-6570%20Homework%206.ipynb#Y230sZmlsZQ%3D%3D?line=36'>37</a>\u001b[0m     \u001b[39mreturn\u001b[39;00m images, labels\n\u001b[0;32m---> <a href='vscode-notebook-cell:/Users/robchristiansen/Documents/Code/Learning/WeberState/CS%206570%20%28Data%20Science%20Algorithms%20I%29/Assignments/CS-6570%20Homework%206.ipynb#Y230sZmlsZQ%3D%3D?line=38'>39</a>\u001b[0m X_train, y_train \u001b[39m=\u001b[39m load_mnist(\u001b[39m'\u001b[39;49m\u001b[39m'\u001b[39;49m, kind\u001b[39m=\u001b[39;49m\u001b[39m'\u001b[39;49m\u001b[39mtrain-fashion\u001b[39;49m\u001b[39m'\u001b[39;49m);\n",
      "\u001b[1;32m/Users/robchristiansen/Documents/Code/Learning/WeberState/CS 6570 (Data Science Algorithms I)/Assignments/CS-6570 Homework 6.ipynb Cell 121\u001b[0m line \u001b[0;36m2\n\u001b[1;32m     <a href='vscode-notebook-cell:/Users/robchristiansen/Documents/Code/Learning/WeberState/CS%206570%20%28Data%20Science%20Algorithms%20I%29/Assignments/CS-6570%20Homework%206.ipynb#Y230sZmlsZQ%3D%3D?line=18'>19</a>\u001b[0m labels_path \u001b[39m=\u001b[39m os\u001b[39m.\u001b[39mpath\u001b[39m.\u001b[39mjoin(path, \n\u001b[1;32m     <a href='vscode-notebook-cell:/Users/robchristiansen/Documents/Code/Learning/WeberState/CS%206570%20%28Data%20Science%20Algorithms%20I%29/Assignments/CS-6570%20Homework%206.ipynb#Y230sZmlsZQ%3D%3D?line=19'>20</a>\u001b[0m                            \u001b[39m'\u001b[39m\u001b[39m%s\u001b[39;00m\u001b[39m-labels-idx1-ubyte\u001b[39m\u001b[39m'\u001b[39m \u001b[39m%\u001b[39m kind)\n\u001b[1;32m     <a href='vscode-notebook-cell:/Users/robchristiansen/Documents/Code/Learning/WeberState/CS%206570%20%28Data%20Science%20Algorithms%20I%29/Assignments/CS-6570%20Homework%206.ipynb#Y230sZmlsZQ%3D%3D?line=20'>21</a>\u001b[0m images_path \u001b[39m=\u001b[39m os\u001b[39m.\u001b[39mpath\u001b[39m.\u001b[39mjoin(path, \n\u001b[1;32m     <a href='vscode-notebook-cell:/Users/robchristiansen/Documents/Code/Learning/WeberState/CS%206570%20%28Data%20Science%20Algorithms%20I%29/Assignments/CS-6570%20Homework%206.ipynb#Y230sZmlsZQ%3D%3D?line=21'>22</a>\u001b[0m                            \u001b[39m'\u001b[39m\u001b[39m%s\u001b[39;00m\u001b[39m-images-idx3-ubyte\u001b[39m\u001b[39m'\u001b[39m \u001b[39m%\u001b[39m kind)\n\u001b[0;32m---> <a href='vscode-notebook-cell:/Users/robchristiansen/Documents/Code/Learning/WeberState/CS%206570%20%28Data%20Science%20Algorithms%20I%29/Assignments/CS-6570%20Homework%206.ipynb#Y230sZmlsZQ%3D%3D?line=23'>24</a>\u001b[0m \u001b[39mwith\u001b[39;00m \u001b[39mopen\u001b[39;49m(labels_path, \u001b[39m'\u001b[39;49m\u001b[39mrb\u001b[39;49m\u001b[39m'\u001b[39;49m) \u001b[39mas\u001b[39;00m lbpath:\n\u001b[1;32m     <a href='vscode-notebook-cell:/Users/robchristiansen/Documents/Code/Learning/WeberState/CS%206570%20%28Data%20Science%20Algorithms%20I%29/Assignments/CS-6570%20Homework%206.ipynb#Y230sZmlsZQ%3D%3D?line=24'>25</a>\u001b[0m     magic, n \u001b[39m=\u001b[39m struct\u001b[39m.\u001b[39munpack(\u001b[39m'\u001b[39m\u001b[39m>II\u001b[39m\u001b[39m'\u001b[39m, \n\u001b[1;32m     <a href='vscode-notebook-cell:/Users/robchristiansen/Documents/Code/Learning/WeberState/CS%206570%20%28Data%20Science%20Algorithms%20I%29/Assignments/CS-6570%20Homework%206.ipynb#Y230sZmlsZQ%3D%3D?line=25'>26</a>\u001b[0m                              lbpath\u001b[39m.\u001b[39mread(\u001b[39m8\u001b[39m))\n\u001b[1;32m     <a href='vscode-notebook-cell:/Users/robchristiansen/Documents/Code/Learning/WeberState/CS%206570%20%28Data%20Science%20Algorithms%20I%29/Assignments/CS-6570%20Homework%206.ipynb#Y230sZmlsZQ%3D%3D?line=26'>27</a>\u001b[0m     labels \u001b[39m=\u001b[39m np\u001b[39m.\u001b[39mfromfile(lbpath, \n\u001b[1;32m     <a href='vscode-notebook-cell:/Users/robchristiansen/Documents/Code/Learning/WeberState/CS%206570%20%28Data%20Science%20Algorithms%20I%29/Assignments/CS-6570%20Homework%206.ipynb#Y230sZmlsZQ%3D%3D?line=27'>28</a>\u001b[0m                          dtype\u001b[39m=\u001b[39mnp\u001b[39m.\u001b[39muint8)\n",
      "File \u001b[0;32m~/Library/Python/3.11/lib/python/site-packages/IPython/core/interactiveshell.py:286\u001b[0m, in \u001b[0;36m_modified_open\u001b[0;34m(file, *args, **kwargs)\u001b[0m\n\u001b[1;32m    279\u001b[0m \u001b[39mif\u001b[39;00m file \u001b[39min\u001b[39;00m {\u001b[39m0\u001b[39m, \u001b[39m1\u001b[39m, \u001b[39m2\u001b[39m}:\n\u001b[1;32m    280\u001b[0m     \u001b[39mraise\u001b[39;00m \u001b[39mValueError\u001b[39;00m(\n\u001b[1;32m    281\u001b[0m         \u001b[39mf\u001b[39m\u001b[39m\"\u001b[39m\u001b[39mIPython won\u001b[39m\u001b[39m'\u001b[39m\u001b[39mt let you open fd=\u001b[39m\u001b[39m{\u001b[39;00mfile\u001b[39m}\u001b[39;00m\u001b[39m by default \u001b[39m\u001b[39m\"\u001b[39m\n\u001b[1;32m    282\u001b[0m         \u001b[39m\"\u001b[39m\u001b[39mas it is likely to crash IPython. If you know what you are doing, \u001b[39m\u001b[39m\"\u001b[39m\n\u001b[1;32m    283\u001b[0m         \u001b[39m\"\u001b[39m\u001b[39myou can use builtins\u001b[39m\u001b[39m'\u001b[39m\u001b[39m open.\u001b[39m\u001b[39m\"\u001b[39m\n\u001b[1;32m    284\u001b[0m     )\n\u001b[0;32m--> 286\u001b[0m \u001b[39mreturn\u001b[39;00m io_open(file, \u001b[39m*\u001b[39;49margs, \u001b[39m*\u001b[39;49m\u001b[39m*\u001b[39;49mkwargs)\n",
      "\u001b[0;31mFileNotFoundError\u001b[0m: [Errno 2] No such file or directory: 'train-fashion-labels-idx1-ubyte'"
     ]
    }
   ],
   "source": [
    "import sys\n",
    "import gzip\n",
    "import shutil\n",
    "\n",
    "import os\n",
    "import struct\n",
    "import numpy as np\n",
    "\n",
    "import warnings\n",
    "warnings.filterwarnings(\"ignore\")\n",
    "\n",
    "zipped_mnist = [f for f in os.listdir() if f.endswith('ubyte.gz')]\n",
    "for z in zipped_mnist:\n",
    "    with gzip.GzipFile(z, mode='rb') as decompressed, open(z[:-3], 'wb') as outfile:\n",
    "        outfile.write(decompressed.read())\n",
    "\n",
    "def load_mnist(path, kind='train-fashion'):\n",
    "    \"\"\"Load MNIST data from `path`\"\"\"\n",
    "    labels_path = os.path.join(path, \n",
    "                               '%s-labels-idx1-ubyte' % kind)\n",
    "    images_path = os.path.join(path, \n",
    "                               '%s-images-idx3-ubyte' % kind)\n",
    "        \n",
    "    with open(labels_path, 'rb') as lbpath:\n",
    "        magic, n = struct.unpack('>II', \n",
    "                                 lbpath.read(8))\n",
    "        labels = np.fromfile(lbpath, \n",
    "                             dtype=np.uint8)\n",
    "\n",
    "    with open(images_path, 'rb') as imgpath:\n",
    "        magic, num, rows, cols = struct.unpack(\">IIII\", \n",
    "                                               imgpath.read(16))\n",
    "        images = np.fromfile(imgpath, \n",
    "                             dtype=np.uint8).reshape(len(labels), 784)\n",
    "        images = ((images / 255.) - .5) * 2\n",
    " \n",
    "    return images, labels\n",
    "\n",
    "X_train, y_train = load_mnist('', kind='train-fashion');"
   ]
  },
  {
   "cell_type": "markdown",
   "id": "631f9b76-f06c-4965-b15e-ce5622e7f110",
   "metadata": {},
   "source": [
    "OK, now we have two datasets:\n",
    "* X_train: A set of values between -1 and 1 indicating the amount of grey within a particular pixel.\n",
    "* y_train: A set of values between 0 and 9 indicating the clothing category of a given image.\n",
    "\n",
    "We can use matplotlib to visualize the first instance of each class in the data. Note that these images are significantly more sophisticated than the hand-written digits."
   ]
  },
  {
   "cell_type": "code",
   "execution_count": null,
   "id": "c1fb886b-e6d3-4841-8d11-f9837a992f3e",
   "metadata": {},
   "outputs": [],
   "source": [
    "import matplotlib.pyplot as plt\n",
    "\n",
    "fig, ax = plt.subplots(nrows=2, ncols=5, sharex=True, sharey=True)\n",
    "ax = ax.flatten()\n",
    "for i in range(10):\n",
    "    img = X_train[y_train == i][0].reshape(28, 28)\n",
    "    ax[i].imshow(img, cmap='Greys')\n",
    "\n",
    "ax[0].set_xticks([])\n",
    "ax[0].set_yticks([])\n",
    "plt.tight_layout()\n",
    "plt.show()"
   ]
  },
  {
   "cell_type": "markdown",
   "id": "9fc563da-dc36-4d38-ac05-ad5b0032036c",
   "metadata": {},
   "source": [
    "The final part of this assi is more open-ended. You'll want to write code to create a neural network for classifying these images into the appropriate categories. Experiment with the possibilities, and try to build the best one you can. I'll be testing the model your code builds on some distinct testing data. If you can do better than 80% on the test data, you'll get full credit for this section. The entry from the class that does the best will get extra credit. Please explain your modeling decisions. Good luck!"
   ]
  },
  {
   "cell_type": "code",
   "execution_count": null,
   "id": "23bfa821-d280-4b74-8552-cb82caa98a84",
   "metadata": {},
   "outputs": [],
   "source": [
    "#YOUR CODE HERE"
   ]
  }
 ],
 "metadata": {
  "kernelspec": {
   "display_name": "Python 3 (ipykernel)",
   "language": "python",
   "name": "python3"
  },
  "language_info": {
   "codemirror_mode": {
    "name": "ipython",
    "version": 3
   },
   "file_extension": ".py",
   "mimetype": "text/x-python",
   "name": "python",
   "nbconvert_exporter": "python",
   "pygments_lexer": "ipython3",
   "version": "3.11.5"
  }
 },
 "nbformat": 4,
 "nbformat_minor": 5
}

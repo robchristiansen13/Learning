{
 "cells": [
  {
   "cell_type": "markdown",
   "id": "b9c4b840-0b7d-4db8-a8b2-967164fc779d",
   "metadata": {},
   "source": [
    "# CS-6570 Assignment 3 - Variable Selection\n",
    "\n",
    "*Weber State University*\n",
    "\n",
    "Rob Christiansen\n"
   ]
  },
  {
   "cell_type": "markdown",
   "id": "0392b820-1620-4fb7-a184-f6c134a8e712",
   "metadata": {},
   "source": [
    "For this assignment we're going to build and attempt to optimize regression models using some of the techniques we're learned so far in class."
   ]
  },
  {
   "cell_type": "markdown",
   "id": "914731b0-58d5-42f9-8b7d-e9943228d287",
   "metadata": {},
   "source": [
    "First, let's import our favorite libraries:"
   ]
  },
  {
   "cell_type": "code",
   "execution_count": 1,
   "id": "57cf1857-c29f-425e-9d28-3a080ef3034f",
   "metadata": {},
   "outputs": [],
   "source": [
    "import numpy as np\n",
    "import pandas as pd\n",
    "import matplotlib.pylab as plt"
   ]
  },
  {
   "cell_type": "markdown",
   "id": "b5815276-1b4e-4050-8c94-748cdccf21a7",
   "metadata": {},
   "source": [
    "There are also some libraries and functions we'll need for creating and testing our models:"
   ]
  },
  {
   "cell_type": "code",
   "execution_count": 2,
   "id": "8b8a6f64-3798-4f47-923d-03cdad7ec79e",
   "metadata": {},
   "outputs": [],
   "source": [
    "from sklearn import linear_model\n",
    "from sklearn.model_selection import train_test_split\n",
    "from sklearn.linear_model import Ridge, RidgeCV, Lasso, LassoCV\n",
    "from sklearn.metrics import mean_squared_error"
   ]
  },
  {
   "cell_type": "markdown",
   "id": "c3e68666-6371-4b7f-8d33-64e3e54c59bc",
   "metadata": {},
   "source": [
    "The dataset we'll use for this is the \"Hitters\" dataset (\"Hitters.csv\"), which is a dataset of Major League Baseball player statistics from 1986-1987. More info about the dataset can be found [here](https://www.kaggle.com/datasets/floser/hitters)."
   ]
  },
  {
   "cell_type": "code",
   "execution_count": 3,
   "id": "bf81aa21-09f8-4200-a68e-830e7c33bff7",
   "metadata": {},
   "outputs": [
    {
     "data": {
      "text/html": [
       "<div>\n",
       "<style scoped>\n",
       "    .dataframe tbody tr th:only-of-type {\n",
       "        vertical-align: middle;\n",
       "    }\n",
       "\n",
       "    .dataframe tbody tr th {\n",
       "        vertical-align: top;\n",
       "    }\n",
       "\n",
       "    .dataframe thead th {\n",
       "        text-align: right;\n",
       "    }\n",
       "</style>\n",
       "<table border=\"1\" class=\"dataframe\">\n",
       "  <thead>\n",
       "    <tr style=\"text-align: right;\">\n",
       "      <th></th>\n",
       "      <th>Unnamed: 0</th>\n",
       "      <th>AtBat</th>\n",
       "      <th>Hits</th>\n",
       "      <th>HmRun</th>\n",
       "      <th>Runs</th>\n",
       "      <th>RBI</th>\n",
       "      <th>Walks</th>\n",
       "      <th>Years</th>\n",
       "      <th>CAtBat</th>\n",
       "      <th>CHits</th>\n",
       "      <th>...</th>\n",
       "      <th>CRuns</th>\n",
       "      <th>CRBI</th>\n",
       "      <th>CWalks</th>\n",
       "      <th>League</th>\n",
       "      <th>Division</th>\n",
       "      <th>PutOuts</th>\n",
       "      <th>Assists</th>\n",
       "      <th>Errors</th>\n",
       "      <th>Salary</th>\n",
       "      <th>NewLeague</th>\n",
       "    </tr>\n",
       "  </thead>\n",
       "  <tbody>\n",
       "    <tr>\n",
       "      <th>0</th>\n",
       "      <td>-Andy Allanson</td>\n",
       "      <td>293</td>\n",
       "      <td>66</td>\n",
       "      <td>1</td>\n",
       "      <td>30</td>\n",
       "      <td>29</td>\n",
       "      <td>14</td>\n",
       "      <td>1</td>\n",
       "      <td>293</td>\n",
       "      <td>66</td>\n",
       "      <td>...</td>\n",
       "      <td>30</td>\n",
       "      <td>29</td>\n",
       "      <td>14</td>\n",
       "      <td>A</td>\n",
       "      <td>E</td>\n",
       "      <td>446</td>\n",
       "      <td>33</td>\n",
       "      <td>20</td>\n",
       "      <td>NaN</td>\n",
       "      <td>A</td>\n",
       "    </tr>\n",
       "    <tr>\n",
       "      <th>1</th>\n",
       "      <td>-Alan Ashby</td>\n",
       "      <td>315</td>\n",
       "      <td>81</td>\n",
       "      <td>7</td>\n",
       "      <td>24</td>\n",
       "      <td>38</td>\n",
       "      <td>39</td>\n",
       "      <td>14</td>\n",
       "      <td>3449</td>\n",
       "      <td>835</td>\n",
       "      <td>...</td>\n",
       "      <td>321</td>\n",
       "      <td>414</td>\n",
       "      <td>375</td>\n",
       "      <td>N</td>\n",
       "      <td>W</td>\n",
       "      <td>632</td>\n",
       "      <td>43</td>\n",
       "      <td>10</td>\n",
       "      <td>475.0</td>\n",
       "      <td>N</td>\n",
       "    </tr>\n",
       "    <tr>\n",
       "      <th>2</th>\n",
       "      <td>-Alvin Davis</td>\n",
       "      <td>479</td>\n",
       "      <td>130</td>\n",
       "      <td>18</td>\n",
       "      <td>66</td>\n",
       "      <td>72</td>\n",
       "      <td>76</td>\n",
       "      <td>3</td>\n",
       "      <td>1624</td>\n",
       "      <td>457</td>\n",
       "      <td>...</td>\n",
       "      <td>224</td>\n",
       "      <td>266</td>\n",
       "      <td>263</td>\n",
       "      <td>A</td>\n",
       "      <td>W</td>\n",
       "      <td>880</td>\n",
       "      <td>82</td>\n",
       "      <td>14</td>\n",
       "      <td>480.0</td>\n",
       "      <td>A</td>\n",
       "    </tr>\n",
       "    <tr>\n",
       "      <th>3</th>\n",
       "      <td>-Andre Dawson</td>\n",
       "      <td>496</td>\n",
       "      <td>141</td>\n",
       "      <td>20</td>\n",
       "      <td>65</td>\n",
       "      <td>78</td>\n",
       "      <td>37</td>\n",
       "      <td>11</td>\n",
       "      <td>5628</td>\n",
       "      <td>1575</td>\n",
       "      <td>...</td>\n",
       "      <td>828</td>\n",
       "      <td>838</td>\n",
       "      <td>354</td>\n",
       "      <td>N</td>\n",
       "      <td>E</td>\n",
       "      <td>200</td>\n",
       "      <td>11</td>\n",
       "      <td>3</td>\n",
       "      <td>500.0</td>\n",
       "      <td>N</td>\n",
       "    </tr>\n",
       "    <tr>\n",
       "      <th>4</th>\n",
       "      <td>-Andres Galarraga</td>\n",
       "      <td>321</td>\n",
       "      <td>87</td>\n",
       "      <td>10</td>\n",
       "      <td>39</td>\n",
       "      <td>42</td>\n",
       "      <td>30</td>\n",
       "      <td>2</td>\n",
       "      <td>396</td>\n",
       "      <td>101</td>\n",
       "      <td>...</td>\n",
       "      <td>48</td>\n",
       "      <td>46</td>\n",
       "      <td>33</td>\n",
       "      <td>N</td>\n",
       "      <td>E</td>\n",
       "      <td>805</td>\n",
       "      <td>40</td>\n",
       "      <td>4</td>\n",
       "      <td>91.5</td>\n",
       "      <td>N</td>\n",
       "    </tr>\n",
       "  </tbody>\n",
       "</table>\n",
       "<p>5 rows × 21 columns</p>\n",
       "</div>"
      ],
      "text/plain": [
       "          Unnamed: 0  AtBat  Hits  HmRun  Runs  RBI  Walks  Years  CAtBat  \\\n",
       "0     -Andy Allanson    293    66      1    30   29     14      1     293   \n",
       "1        -Alan Ashby    315    81      7    24   38     39     14    3449   \n",
       "2       -Alvin Davis    479   130     18    66   72     76      3    1624   \n",
       "3      -Andre Dawson    496   141     20    65   78     37     11    5628   \n",
       "4  -Andres Galarraga    321    87     10    39   42     30      2     396   \n",
       "\n",
       "   CHits  ...  CRuns  CRBI  CWalks  League Division PutOuts  Assists  Errors  \\\n",
       "0     66  ...     30    29      14       A        E     446       33      20   \n",
       "1    835  ...    321   414     375       N        W     632       43      10   \n",
       "2    457  ...    224   266     263       A        W     880       82      14   \n",
       "3   1575  ...    828   838     354       N        E     200       11       3   \n",
       "4    101  ...     48    46      33       N        E     805       40       4   \n",
       "\n",
       "   Salary  NewLeague  \n",
       "0     NaN          A  \n",
       "1   475.0          N  \n",
       "2   480.0          A  \n",
       "3   500.0          N  \n",
       "4    91.5          N  \n",
       "\n",
       "[5 rows x 21 columns]"
      ]
     },
     "execution_count": 3,
     "metadata": {},
     "output_type": "execute_result"
    }
   ],
   "source": [
    "df_hitters = pd.read_csv('Datasets/Hitters.csv')\n",
    "df_hitters.head()"
   ]
  },
  {
   "cell_type": "markdown",
   "id": "25a48276-3c52-453a-a352-2fefb5cebdb0",
   "metadata": {},
   "source": [
    "Let's rename that first column."
   ]
  },
  {
   "cell_type": "code",
   "execution_count": 4,
   "id": "a5856bab-4d16-48c0-9729-8b3d33349e4c",
   "metadata": {},
   "outputs": [],
   "source": [
    "df_hitters.rename(columns={\"Unnamed: 0\": \"Player\"}, inplace=True) #Name the first column \"Player\""
   ]
  },
  {
   "cell_type": "markdown",
   "id": "5a8ae974-8b53-4f67-8f46-d85aa500b0de",
   "metadata": {},
   "source": [
    "Note that the Salary variable is missing for some of the players. The isnull() function can be used to identify the missing observations. It returns a vector of the same length as the input vector, with a TRUE value for any elements that are missing, and a FALSE value for non-missing elements. The sum() function can then be used to count all of the missing elements:"
   ]
  },
  {
   "cell_type": "code",
   "execution_count": 5,
   "id": "3baaab21-fad3-46ae-a099-d57716da256a",
   "metadata": {},
   "outputs": [
    {
     "name": "stdout",
     "output_type": "stream",
     "text": [
      "Number of null values: 59\n"
     ]
    }
   ],
   "source": [
    "print(\"Number of null values:\", df_hitters[\"Salary\"].isnull().sum())"
   ]
  },
  {
   "cell_type": "markdown",
   "id": "b76e4987-8c5d-4e7d-8522-298a9b921fa4",
   "metadata": {},
   "source": [
    "We see that Salary is missing for 59 players. That's not too many. Let's drop them. The dropna() function removes all of the rows that have missing values in any variable:"
   ]
  },
  {
   "cell_type": "code",
   "execution_count": 6,
   "id": "20214ecd-57c3-4e6e-a9f0-53ba4619e453",
   "metadata": {},
   "outputs": [
    {
     "name": "stdout",
     "output_type": "stream",
     "text": [
      "Dimensions of original data: (322, 21)\n",
      "Dimensions of modified data: (263, 21)\n",
      "Number of null values: 0\n"
     ]
    }
   ],
   "source": [
    "# Print the dimensions of the original Hitters data (322 rows x 20 columns)\n",
    "print(\"Dimensions of original data:\", df_hitters.shape)\n",
    "\n",
    "# Drop any rows the contain missing values, along with the player names\n",
    "df_hitters_clean = df_hitters.dropna()\n",
    "\n",
    "# Print the dimensions of the modified Hitters data (263 rows x 20 columns)\n",
    "print(\"Dimensions of modified data:\", df_hitters_clean.shape)\n",
    "\n",
    "# One last check: should return 0\n",
    "print(\"Number of null values:\", df_hitters_clean[\"Salary\"].isnull().sum())"
   ]
  },
  {
   "cell_type": "markdown",
   "id": "63d2e923-3f3a-4542-8380-11cb0f41cc84",
   "metadata": {},
   "source": [
    "Alright, so we've now dropped all the rows with missing data.\n",
    "\n",
    "Some of our predictors are categorical, so for this exercise we'll eliminate those. We'll also specify the variable, \"Salary\", that we're trying to predict."
   ]
  },
  {
   "cell_type": "code",
   "execution_count": 7,
   "id": "6161a472-b30a-4773-bc21-bc343e399319",
   "metadata": {},
   "outputs": [
    {
     "data": {
      "text/html": [
       "<div>\n",
       "<style scoped>\n",
       "    .dataframe tbody tr th:only-of-type {\n",
       "        vertical-align: middle;\n",
       "    }\n",
       "\n",
       "    .dataframe tbody tr th {\n",
       "        vertical-align: top;\n",
       "    }\n",
       "\n",
       "    .dataframe thead th {\n",
       "        text-align: right;\n",
       "    }\n",
       "</style>\n",
       "<table border=\"1\" class=\"dataframe\">\n",
       "  <thead>\n",
       "    <tr style=\"text-align: right;\">\n",
       "      <th></th>\n",
       "      <th>AtBat</th>\n",
       "      <th>Hits</th>\n",
       "      <th>HmRun</th>\n",
       "      <th>Runs</th>\n",
       "      <th>RBI</th>\n",
       "      <th>Walks</th>\n",
       "      <th>Years</th>\n",
       "      <th>CAtBat</th>\n",
       "      <th>CHits</th>\n",
       "      <th>CHmRun</th>\n",
       "      <th>CRuns</th>\n",
       "      <th>CRBI</th>\n",
       "      <th>CWalks</th>\n",
       "      <th>PutOuts</th>\n",
       "      <th>Assists</th>\n",
       "      <th>Errors</th>\n",
       "    </tr>\n",
       "  </thead>\n",
       "  <tbody>\n",
       "    <tr>\n",
       "      <th>1</th>\n",
       "      <td>315</td>\n",
       "      <td>81</td>\n",
       "      <td>7</td>\n",
       "      <td>24</td>\n",
       "      <td>38</td>\n",
       "      <td>39</td>\n",
       "      <td>14</td>\n",
       "      <td>3449</td>\n",
       "      <td>835</td>\n",
       "      <td>69</td>\n",
       "      <td>321</td>\n",
       "      <td>414</td>\n",
       "      <td>375</td>\n",
       "      <td>632</td>\n",
       "      <td>43</td>\n",
       "      <td>10</td>\n",
       "    </tr>\n",
       "    <tr>\n",
       "      <th>2</th>\n",
       "      <td>479</td>\n",
       "      <td>130</td>\n",
       "      <td>18</td>\n",
       "      <td>66</td>\n",
       "      <td>72</td>\n",
       "      <td>76</td>\n",
       "      <td>3</td>\n",
       "      <td>1624</td>\n",
       "      <td>457</td>\n",
       "      <td>63</td>\n",
       "      <td>224</td>\n",
       "      <td>266</td>\n",
       "      <td>263</td>\n",
       "      <td>880</td>\n",
       "      <td>82</td>\n",
       "      <td>14</td>\n",
       "    </tr>\n",
       "    <tr>\n",
       "      <th>3</th>\n",
       "      <td>496</td>\n",
       "      <td>141</td>\n",
       "      <td>20</td>\n",
       "      <td>65</td>\n",
       "      <td>78</td>\n",
       "      <td>37</td>\n",
       "      <td>11</td>\n",
       "      <td>5628</td>\n",
       "      <td>1575</td>\n",
       "      <td>225</td>\n",
       "      <td>828</td>\n",
       "      <td>838</td>\n",
       "      <td>354</td>\n",
       "      <td>200</td>\n",
       "      <td>11</td>\n",
       "      <td>3</td>\n",
       "    </tr>\n",
       "    <tr>\n",
       "      <th>4</th>\n",
       "      <td>321</td>\n",
       "      <td>87</td>\n",
       "      <td>10</td>\n",
       "      <td>39</td>\n",
       "      <td>42</td>\n",
       "      <td>30</td>\n",
       "      <td>2</td>\n",
       "      <td>396</td>\n",
       "      <td>101</td>\n",
       "      <td>12</td>\n",
       "      <td>48</td>\n",
       "      <td>46</td>\n",
       "      <td>33</td>\n",
       "      <td>805</td>\n",
       "      <td>40</td>\n",
       "      <td>4</td>\n",
       "    </tr>\n",
       "    <tr>\n",
       "      <th>5</th>\n",
       "      <td>594</td>\n",
       "      <td>169</td>\n",
       "      <td>4</td>\n",
       "      <td>74</td>\n",
       "      <td>51</td>\n",
       "      <td>35</td>\n",
       "      <td>11</td>\n",
       "      <td>4408</td>\n",
       "      <td>1133</td>\n",
       "      <td>19</td>\n",
       "      <td>501</td>\n",
       "      <td>336</td>\n",
       "      <td>194</td>\n",
       "      <td>282</td>\n",
       "      <td>421</td>\n",
       "      <td>25</td>\n",
       "    </tr>\n",
       "    <tr>\n",
       "      <th>...</th>\n",
       "      <td>...</td>\n",
       "      <td>...</td>\n",
       "      <td>...</td>\n",
       "      <td>...</td>\n",
       "      <td>...</td>\n",
       "      <td>...</td>\n",
       "      <td>...</td>\n",
       "      <td>...</td>\n",
       "      <td>...</td>\n",
       "      <td>...</td>\n",
       "      <td>...</td>\n",
       "      <td>...</td>\n",
       "      <td>...</td>\n",
       "      <td>...</td>\n",
       "      <td>...</td>\n",
       "      <td>...</td>\n",
       "    </tr>\n",
       "    <tr>\n",
       "      <th>317</th>\n",
       "      <td>497</td>\n",
       "      <td>127</td>\n",
       "      <td>7</td>\n",
       "      <td>65</td>\n",
       "      <td>48</td>\n",
       "      <td>37</td>\n",
       "      <td>5</td>\n",
       "      <td>2703</td>\n",
       "      <td>806</td>\n",
       "      <td>32</td>\n",
       "      <td>379</td>\n",
       "      <td>311</td>\n",
       "      <td>138</td>\n",
       "      <td>325</td>\n",
       "      <td>9</td>\n",
       "      <td>3</td>\n",
       "    </tr>\n",
       "    <tr>\n",
       "      <th>318</th>\n",
       "      <td>492</td>\n",
       "      <td>136</td>\n",
       "      <td>5</td>\n",
       "      <td>76</td>\n",
       "      <td>50</td>\n",
       "      <td>94</td>\n",
       "      <td>12</td>\n",
       "      <td>5511</td>\n",
       "      <td>1511</td>\n",
       "      <td>39</td>\n",
       "      <td>897</td>\n",
       "      <td>451</td>\n",
       "      <td>875</td>\n",
       "      <td>313</td>\n",
       "      <td>381</td>\n",
       "      <td>20</td>\n",
       "    </tr>\n",
       "    <tr>\n",
       "      <th>319</th>\n",
       "      <td>475</td>\n",
       "      <td>126</td>\n",
       "      <td>3</td>\n",
       "      <td>61</td>\n",
       "      <td>43</td>\n",
       "      <td>52</td>\n",
       "      <td>6</td>\n",
       "      <td>1700</td>\n",
       "      <td>433</td>\n",
       "      <td>7</td>\n",
       "      <td>217</td>\n",
       "      <td>93</td>\n",
       "      <td>146</td>\n",
       "      <td>37</td>\n",
       "      <td>113</td>\n",
       "      <td>7</td>\n",
       "    </tr>\n",
       "    <tr>\n",
       "      <th>320</th>\n",
       "      <td>573</td>\n",
       "      <td>144</td>\n",
       "      <td>9</td>\n",
       "      <td>85</td>\n",
       "      <td>60</td>\n",
       "      <td>78</td>\n",
       "      <td>8</td>\n",
       "      <td>3198</td>\n",
       "      <td>857</td>\n",
       "      <td>97</td>\n",
       "      <td>470</td>\n",
       "      <td>420</td>\n",
       "      <td>332</td>\n",
       "      <td>1314</td>\n",
       "      <td>131</td>\n",
       "      <td>12</td>\n",
       "    </tr>\n",
       "    <tr>\n",
       "      <th>321</th>\n",
       "      <td>631</td>\n",
       "      <td>170</td>\n",
       "      <td>9</td>\n",
       "      <td>77</td>\n",
       "      <td>44</td>\n",
       "      <td>31</td>\n",
       "      <td>11</td>\n",
       "      <td>4908</td>\n",
       "      <td>1457</td>\n",
       "      <td>30</td>\n",
       "      <td>775</td>\n",
       "      <td>357</td>\n",
       "      <td>249</td>\n",
       "      <td>408</td>\n",
       "      <td>4</td>\n",
       "      <td>3</td>\n",
       "    </tr>\n",
       "  </tbody>\n",
       "</table>\n",
       "<p>263 rows × 16 columns</p>\n",
       "</div>"
      ],
      "text/plain": [
       "     AtBat  Hits  HmRun  Runs  RBI  Walks  Years  CAtBat  CHits  CHmRun  \\\n",
       "1      315    81      7    24   38     39     14    3449    835      69   \n",
       "2      479   130     18    66   72     76      3    1624    457      63   \n",
       "3      496   141     20    65   78     37     11    5628   1575     225   \n",
       "4      321    87     10    39   42     30      2     396    101      12   \n",
       "5      594   169      4    74   51     35     11    4408   1133      19   \n",
       "..     ...   ...    ...   ...  ...    ...    ...     ...    ...     ...   \n",
       "317    497   127      7    65   48     37      5    2703    806      32   \n",
       "318    492   136      5    76   50     94     12    5511   1511      39   \n",
       "319    475   126      3    61   43     52      6    1700    433       7   \n",
       "320    573   144      9    85   60     78      8    3198    857      97   \n",
       "321    631   170      9    77   44     31     11    4908   1457      30   \n",
       "\n",
       "     CRuns  CRBI  CWalks  PutOuts  Assists  Errors  \n",
       "1      321   414     375      632       43      10  \n",
       "2      224   266     263      880       82      14  \n",
       "3      828   838     354      200       11       3  \n",
       "4       48    46      33      805       40       4  \n",
       "5      501   336     194      282      421      25  \n",
       "..     ...   ...     ...      ...      ...     ...  \n",
       "317    379   311     138      325        9       3  \n",
       "318    897   451     875      313      381      20  \n",
       "319    217    93     146       37      113       7  \n",
       "320    470   420     332     1314      131      12  \n",
       "321    775   357     249      408        4       3  \n",
       "\n",
       "[263 rows x 16 columns]"
      ]
     },
     "execution_count": 7,
     "metadata": {},
     "output_type": "execute_result"
    }
   ],
   "source": [
    "#Create the response variable.\n",
    "y = df_hitters_clean.Salary\n",
    "\n",
    "# Drop the column with the independent variable (Salary), and the columns with categorical data\n",
    "#The axis=1 parameter specifies we're dropping columns, and not rows.\n",
    "#The .astype('float64') casts all remaining data as floats.\n",
    "X = df_hitters_clean.drop(['Salary', 'League', 'Division', 'NewLeague', 'Player'], axis=1)\n",
    "X"
   ]
  },
  {
   "cell_type": "markdown",
   "id": "0cb40ce1-458c-468a-98a3-6d0c421c5b41",
   "metadata": {},
   "source": [
    "Now, for this assignment we're going to create a subset that will be our training data, and a subset that will be our test data. Let's do an 80/20 split:"
   ]
  },
  {
   "cell_type": "code",
   "execution_count": 8,
   "id": "faf91e60-0f54-43de-a5e2-f2760c5743cf",
   "metadata": {},
   "outputs": [],
   "source": [
    "X_train, X_test, y_train, y_test = train_test_split(X,y,test_size=.2,random_state = 42)"
   ]
  },
  {
   "cell_type": "markdown",
   "id": "ea6e517a-1c97-4a49-a236-9f6e9817a6c3",
   "metadata": {},
   "source": [
    "## Backward Subset Selection ##"
   ]
  },
  {
   "cell_type": "markdown",
   "id": "9dc46611-f740-4727-949d-a2fb4050a393",
   "metadata": {},
   "source": [
    "If we build a linear model with all these inputs, we'll likely overfit the model. To avoid this, we'd like to build a model using only the most important variables. But, which subset of variables is most important?"
   ]
  },
  {
   "cell_type": "markdown",
   "id": "9a2effdb-e7ea-4da3-b89a-44bfeb702500",
   "metadata": {},
   "source": [
    "In lecture 9, we learned three methods for selecting the best subset of variables for a linear model:\n",
    "\n",
    "* Best subset selection\n",
    "* Forward stepwise selection\n",
    "* Backward stepwised selection\n",
    "\n",
    "We went over algorithms for each of these, and implemented two (best subset and forward stepwise) as Python code. In this assignment, you'll implement backward stepwise selection."
   ]
  },
  {
   "cell_type": "markdown",
   "id": "be80135c-05c7-4c16-9144-1fcac6538536",
   "metadata": {},
   "source": [
    "The basic algorithm for backward stepwise selection is:\n",
    "\n",
    "_Algorithm_\n",
    "\n",
    "- Let $M_{p}$ denote the full model which contains all $p$ predictors.\n",
    "\n",
    "- For $k=p,p-1,...,1$\n",
    "    - Consider all $k$ models that contain all but one of the predictors in $M_{k}$, for a total of $k-1$ predictors.\n",
    "    - Pick the best among these $k$ models, and call in $M_{k-1}$. Here can define _best_ as having the smallest $RSS$ or highest $R^{2}$\n",
    "- Select the single best model among $M_{0},M_{1},...,M_{n}$ using $C_{p}$, $BIC$, adjusted $R^{2}$ or any other method.\n",
    "\n",
    "For this assignment, use the largest $R^{2}$ to determine the best model at each step, and select the overall best model using the adjusted $R^{2}$."
   ]
  },
  {
   "cell_type": "markdown",
   "id": "47c560ee-e964-4636-8f95-ba351fee86d7",
   "metadata": {},
   "source": [
    "We'll start out with a list of all the predictors:"
   ]
  },
  {
   "cell_type": "code",
   "execution_count": 9,
   "id": "d331a2ed-073b-49ea-aed8-77fa2286a4ab",
   "metadata": {},
   "outputs": [],
   "source": [
    "backwards_features = list(X.columns)\n",
    "p = len(backwards_features)"
   ]
  },
  {
   "cell_type": "code",
   "execution_count": 10,
   "id": "4d256782",
   "metadata": {},
   "outputs": [
    {
     "data": {
      "text/plain": [
       "['AtBat',\n",
       " 'Hits',\n",
       " 'HmRun',\n",
       " 'Runs',\n",
       " 'RBI',\n",
       " 'Walks',\n",
       " 'Years',\n",
       " 'CAtBat',\n",
       " 'CHits',\n",
       " 'CHmRun',\n",
       " 'CRuns',\n",
       " 'CRBI',\n",
       " 'CWalks',\n",
       " 'PutOuts',\n",
       " 'Assists',\n",
       " 'Errors']"
      ]
     },
     "execution_count": 10,
     "metadata": {},
     "output_type": "execute_result"
    }
   ],
   "source": [
    "backwards_features"
   ]
  },
  {
   "cell_type": "markdown",
   "id": "bfe5a75c-c970-4472-9601-4c0ab3d3e387",
   "metadata": {},
   "source": [
    "We'll also create two empty lists that you should fill:\n",
    "* *R2_list_backwards* - Fill this with the best $R^{2}$ value that you find at each step.\n",
    "* *features_list_backwards* - Fill this with the best set of features that you find at each step.\n",
    "* *R2_test_list_backwards* - Fill this with the performance of the model on the test data using the best set of features found at each step."
   ]
  },
  {
   "cell_type": "code",
   "execution_count": 11,
   "id": "3820c0bd-80e8-4650-a78e-5d467bf62e02",
   "metadata": {},
   "outputs": [],
   "source": [
    "R2_list_backwards, features_list_backwards, R2_test_list_backwards = [], [], []"
   ]
  },
  {
   "cell_type": "code",
   "execution_count": 12,
   "id": "6dca1574",
   "metadata": {},
   "outputs": [
    {
     "data": {
      "text/plain": [
       "True"
      ]
     },
     "execution_count": 12,
     "metadata": {},
     "output_type": "execute_result"
    }
   ],
   "source": [
    "import numpy as np\n",
    "exp_float = np.inf \n",
    "np.isinf(exp_float)"
   ]
  },
  {
   "cell_type": "code",
   "execution_count": 13,
   "id": "12122725",
   "metadata": {},
   "outputs": [
    {
     "data": {
      "text/plain": [
       "False"
      ]
     },
     "execution_count": 13,
     "metadata": {},
     "output_type": "execute_result"
    }
   ],
   "source": [
    "exp_float = 1.0\n",
    "np.isinf(exp_float)"
   ]
  },
  {
   "cell_type": "markdown",
   "id": "a3099b8c-338e-4dfe-b705-b2ce8d2f1209",
   "metadata": {},
   "source": [
    "Alright, now it's time for you to write your own code! Write code that appropriately populates the two lists just created. However, do so using just the *X_train* and *y_train* datasets."
   ]
  },
  {
   "cell_type": "code",
   "execution_count": 14,
   "id": "057891af",
   "metadata": {},
   "outputs": [],
   "source": [
    "def fit_linear_reg(X,Y):\n",
    "    #Fit linear regression model and return RSS and R squared values\n",
    "    model_k = linear_model.LinearRegression()\n",
    "    model_k.fit(X,Y)\n",
    "    RSS = mean_squared_error(Y,model_k.predict(X)) * len(Y)\n",
    "    R_squared = model_k.score(X,Y)\n",
    "    return RSS, R_squared"
   ]
  },
  {
   "cell_type": "code",
   "execution_count": 15,
   "id": "b741150a",
   "metadata": {},
   "outputs": [],
   "source": [
    "RSS_list_backwards, R2_list_backwards, features_list_backwards, R2_test_list_backwards, features_list_count = [], [], [], [], []"
   ]
  },
  {
   "cell_type": "code",
   "execution_count": 16,
   "id": "01ae6091",
   "metadata": {},
   "outputs": [
    {
     "name": "stdout",
     "output_type": "stream",
     "text": [
      "best_RSS: 19272215.28083243 with ['Hits', 'HmRun', 'Runs', 'RBI', 'Walks', 'Years', 'CAtBat', 'CHits', 'CHmRun', 'CRuns', 'CRBI', 'CWalks', 'PutOuts', 'Assists', 'Errors']\n",
      "best_RSS: 18719022.995231874 with ['AtBat', 'Hits', 'Runs', 'RBI', 'Walks', 'Years', 'CAtBat', 'CHits', 'CHmRun', 'CRuns', 'CRBI', 'CWalks', 'PutOuts', 'Assists', 'Errors']\n",
      "best_RSS: 18708397.108700484 with ['AtBat', 'Hits', 'HmRun', 'Runs', 'Walks', 'Years', 'CAtBat', 'CHits', 'CHmRun', 'CRuns', 'CRBI', 'CWalks', 'PutOuts', 'Assists', 'Errors']\n",
      "Final best_RSS: 18708397.108700484 with ['AtBat', 'Hits', 'HmRun', 'Runs', 'Walks', 'Years', 'CAtBat', 'CHits', 'CHmRun', 'CRuns', 'CRBI', 'CWalks', 'Assists', 'Errors']\n",
      "Final worst_RSS: 19702355.85361821 with PutOuts\n",
      "best_RSS: 20136647.752270237 with ['Hits', 'HmRun', 'Runs', 'RBI', 'Walks', 'Years', 'CAtBat', 'CHits', 'CHmRun', 'CRuns', 'CRBI', 'CWalks', 'Assists', 'Errors']\n",
      "best_RSS: 19724595.74148884 with ['AtBat', 'Hits', 'Runs', 'RBI', 'Walks', 'Years', 'CAtBat', 'CHits', 'CHmRun', 'CRuns', 'CRBI', 'CWalks', 'Assists', 'Errors']\n",
      "best_RSS: 19703907.817085765 with ['AtBat', 'Hits', 'HmRun', 'Runs', 'Walks', 'Years', 'CAtBat', 'CHits', 'CHmRun', 'CRuns', 'CRBI', 'CWalks', 'Assists', 'Errors']\n",
      "best_RSS: 19702355.85361821 with ['AtBat', 'Hits', 'HmRun', 'Runs', 'RBI', 'Walks', 'Years', 'CAtBat', 'CHits', 'CHmRun', 'CRuns', 'CRBI', 'CWalks', 'Assists', 'Errors']\n",
      "Final best_RSS: 19702355.85361821 with ['AtBat', 'HmRun', 'Runs', 'RBI', 'Walks', 'Years', 'CAtBat', 'CHits', 'CHmRun', 'CRuns', 'CRBI', 'CWalks', 'Assists', 'Errors']\n",
      "Final worst_RSS: 20687040.93576119 with Hits\n",
      "best_RSS: 20691538.56319648 with ['HmRun', 'Runs', 'RBI', 'Walks', 'Years', 'CAtBat', 'CHits', 'CHmRun', 'CRuns', 'CRBI', 'CWalks', 'Assists', 'Errors']\n",
      "best_RSS: 20687040.93576119 with ['AtBat', 'HmRun', 'Runs', 'RBI', 'Walks', 'Years', 'CAtBat', 'CHits', 'CHmRun', 'CRuns', 'CRBI', 'CWalks', 'Assists', 'Errors']\n",
      "Final best_RSS: 20687040.93576119 with ['AtBat', 'HmRun', 'Runs', 'RBI', 'Walks', 'Years', 'CHits', 'CHmRun', 'CRuns', 'CRBI', 'CWalks', 'Assists', 'Errors']\n",
      "Final worst_RSS: 21687801.915307507 with CAtBat\n",
      "best_RSS: 21698471.201904595 with ['HmRun', 'Runs', 'RBI', 'Walks', 'Years', 'CHits', 'CHmRun', 'CRuns', 'CRBI', 'CWalks', 'Assists', 'Errors']\n",
      "best_RSS: 21687801.915307507 with ['AtBat', 'HmRun', 'Runs', 'RBI', 'Walks', 'Years', 'CHits', 'CHmRun', 'CRuns', 'CRBI', 'CWalks', 'Assists', 'Errors']\n",
      "Final best_RSS: 21687801.915307507 with ['AtBat', 'HmRun', 'Runs', 'RBI', 'Years', 'CHits', 'CHmRun', 'CRuns', 'CRBI', 'CWalks', 'Assists', 'Errors']\n",
      "Final worst_RSS: 22243732.69823718 with Walks\n",
      "best_RSS: 22245341.8850005 with ['HmRun', 'Runs', 'RBI', 'Years', 'CHits', 'CHmRun', 'CRuns', 'CRBI', 'CWalks', 'Assists', 'Errors']\n",
      "best_RSS: 22243732.69823718 with ['AtBat', 'HmRun', 'Runs', 'RBI', 'Years', 'CHits', 'CHmRun', 'CRuns', 'CRBI', 'CWalks', 'Assists', 'Errors']\n",
      "Final best_RSS: 22243732.69823718 with ['AtBat', 'HmRun', 'RBI', 'Years', 'CHits', 'CHmRun', 'CRuns', 'CRBI', 'CWalks', 'Assists', 'Errors']\n",
      "Final worst_RSS: 22549823.503253907 with Runs\n",
      "best_RSS: 22885794.529066447 with ['HmRun', 'RBI', 'Years', 'CHits', 'CHmRun', 'CRuns', 'CRBI', 'CWalks', 'Assists', 'Errors']\n",
      "best_RSS: 22549823.503253907 with ['AtBat', 'HmRun', 'RBI', 'Years', 'CHits', 'CHmRun', 'CRuns', 'CRBI', 'CWalks', 'Assists', 'Errors']\n",
      "Final best_RSS: 22549823.503253907 with ['AtBat', 'HmRun', 'RBI', 'Years', 'CHits', 'CHmRun', 'CRuns', 'CWalks', 'Assists', 'Errors']\n",
      "Final worst_RSS: 22895131.136160318 with CRBI\n",
      "best_RSS: 23154771.385948025 with ['HmRun', 'RBI', 'Years', 'CHits', 'CHmRun', 'CRuns', 'CWalks', 'Assists', 'Errors']\n",
      "best_RSS: 22895131.136160318 with ['AtBat', 'HmRun', 'RBI', 'Years', 'CHits', 'CHmRun', 'CRuns', 'CWalks', 'Assists', 'Errors']\n",
      "Final best_RSS: 22895131.136160318 with ['AtBat', 'HmRun', 'Years', 'CHits', 'CHmRun', 'CRuns', 'CWalks', 'Assists', 'Errors']\n",
      "Final worst_RSS: 23257615.24912114 with RBI\n",
      "best_RSS: 24776353.183503594 with ['HmRun', 'Years', 'CHits', 'CHmRun', 'CRuns', 'CWalks', 'Assists', 'Errors']\n",
      "best_RSS: 23257615.24912114 with ['AtBat', 'HmRun', 'Years', 'CHits', 'CHmRun', 'CRuns', 'CWalks', 'Assists', 'Errors']\n",
      "Final best_RSS: 23257615.24912114 with ['HmRun', 'Years', 'CHits', 'CHmRun', 'CRuns', 'CWalks', 'Assists', 'Errors']\n",
      "Final worst_RSS: 24776353.183503594 with AtBat\n",
      "best_RSS: 24776353.183503594 with ['HmRun', 'Years', 'CHits', 'CHmRun', 'CRuns', 'CWalks', 'Assists', 'Errors']\n",
      "Final best_RSS: 24776353.183503594 with ['Years', 'CHits', 'CHmRun', 'CRuns', 'CWalks', 'Assists', 'Errors']\n",
      "Final worst_RSS: 26128185.46169197 with HmRun\n",
      "best_RSS: 26128185.46169197 with ['Years', 'CHits', 'CHmRun', 'CRuns', 'CWalks', 'Assists', 'Errors']\n",
      "Final best_RSS: 26128185.46169197 with ['CHits', 'CHmRun', 'CRuns', 'CWalks', 'Assists', 'Errors']\n",
      "Final worst_RSS: 27310594.926839583 with Years\n",
      "best_RSS: 27310594.926839583 with ['CHits', 'CHmRun', 'CRuns', 'CWalks', 'Assists', 'Errors']\n",
      "Final best_RSS: 27310594.926839583 with ['CHits', 'CRuns', 'CWalks', 'Assists', 'Errors']\n",
      "Final worst_RSS: 28252135.934575412 with CHmRun\n",
      "best_RSS: 28252135.934575412 with ['CHits', 'CRuns', 'CWalks', 'Assists', 'Errors']\n",
      "Final best_RSS: 28252135.934575412 with ['CHits', 'CWalks', 'Assists', 'Errors']\n",
      "Final worst_RSS: 29199794.362780076 with CRuns\n",
      "best_RSS: 29199794.362780076 with ['CHits', 'CWalks', 'Assists', 'Errors']\n",
      "Final best_RSS: 29199794.362780076 with ['CWalks', 'Assists', 'Errors']\n",
      "Final worst_RSS: 31768397.624010354 with CHits\n",
      "best_RSS: 31768397.624010354 with ['CWalks', 'Assists', 'Errors']\n",
      "Final best_RSS: 31768397.624010354 with ['Assists', 'Errors']\n",
      "Final worst_RSS: 43619282.72841434 with CWalks\n",
      "best_RSS: 43619282.72841434 with ['Assists', 'Errors']\n",
      "Final best_RSS: 43619282.72841434 with ['Errors']\n",
      "Final worst_RSS: 43661835.239727214 with Assists\n"
     ]
    }
   ],
   "source": [
    "import itertools\n",
    "\n",
    "X = X_train\n",
    "Y = y_train\n",
    "\n",
    "remaining_features = list(X.columns.values)\n",
    "features, worst_features, best_features = [], [], []\n",
    "RSS_list, R_squared_list = [np.inf], [np.inf] #Due to 1 indexing of the loop...\n",
    "features_list = dict()\n",
    "\n",
    "for i in range(len(X.columns)+1,2,-1):        \n",
    "    best_RSS, worst_RSS = np.inf, np.inf\n",
    "    worst_feature = str\n",
    "    \n",
    "    for combo in itertools.combinations(remaining_features,1):\n",
    "            features_to_evaluate = list(X.columns.values)           # Reset each inner loop\n",
    "            # print(f\"Pre features_to_evaluate: {features_to_evaluate}\")\n",
    "            for item in worst_features:                             # Remove previously found worst features\n",
    "                if item in features_to_evaluate:\n",
    "                    features_to_evaluate.remove(item)\n",
    "            if combo[0] in features_to_evaluate:\n",
    "                features_to_evaluate.remove(combo[0])                   # Remove the current feature being evaluated\n",
    "            # print(f\"Post features_to_evaluate after dropping {combo[0]}: {features_to_evaluate}\")\n",
    "\n",
    "            RSS = fit_linear_reg(X[features_to_evaluate],Y)         #Store temp result \n",
    "\n",
    "            if RSS[0] > worst_RSS or np.isinf(worst_RSS):           # Necessary to handle the initial state\n",
    "                worst_RSS = RSS[0]\n",
    "                worst_feature = combo[0]\n",
    "\n",
    "            if RSS[0] < best_RSS:                                   # Not necessary to handle the empty case because best_RSS starts out as infinite so anything is smaller\n",
    "                best_RSS = RSS[0]\n",
    "                best_R_squared = RSS[1] \n",
    "\n",
    "                best_features = features_to_evaluate                                \n",
    "                test_RSS = fit_linear_reg(X_test[features_to_evaluate],y_test)     # Run the test set R2 during processing\n",
    "                best_R_squared_test = test_RSS[1]\n",
    "                print(f\"best_RSS: {best_RSS} with {best_features}\")\n",
    "\n",
    "\n",
    "    if worst_feature in best_features:\n",
    "        best_features.remove(worst_feature)                   # Remove the current feature being evaluated\n",
    "\n",
    "    print(f\"Final best_RSS: {best_RSS} with {best_features}\")\n",
    "    print(f\"Final worst_RSS: {worst_RSS} with {worst_feature}\")                \n",
    "    #Updating variables for next loop\n",
    "    features.append(best_features)\n",
    "    # remaining_features.remove(best_feature)\n",
    "    worst_features.append(worst_feature)\n",
    "    # remaining_features.remove(worst_feature)\n",
    "    \n",
    "    #Saving values for plotting\n",
    "    RSS_list.append(best_RSS)\n",
    "    R_squared_list.append(best_R_squared)\n",
    "    features_list[i] = features.copy()\n",
    "\n",
    "    # Set desired variables\n",
    "    RSS_list.append(best_RSS)\n",
    "    R2_list_backwards.append(best_R_squared)\n",
    "    R2_test_list_backwards.append(best_R_squared_test)\n",
    "    features_list[i] = best_features.copy()    # This is the important row to put into the dataframe\n",
    "    features_list_count.append(len(features_to_evaluate))\n",
    "    features_list_backwards.append(best_features)"
   ]
  },
  {
   "cell_type": "code",
   "execution_count": 17,
   "id": "7c403592",
   "metadata": {},
   "outputs": [],
   "source": [
    "# import itertools\n",
    "\n",
    "# # Forward Stepwise from Lecture\n",
    "\n",
    "# X = X_train\n",
    "# Y = y_train\n",
    "\n",
    "# remaining_features = list(X.columns.values)\n",
    "# temp_features = remaining_features                                      # Get the initial list built\n",
    "# worst_features, features = [], []\n",
    "# RSS_list, R_squared_list = [np.inf], [np.inf]\n",
    "# features_list = dict()\n",
    "\n",
    "# for i in range(len(X.columns)+1,1,-1):                                  # Changed this to go backwards and change the step value to -1\n",
    "#     print(f\"i: {i}\")\n",
    "#     best_RSS, worst_RSS, best_R_squared, best_R_squared_test = np.inf, np.inf, np.inf, np.inf  # Reset to float in outer loop\n",
    "#     worst_feature = ''                                                  # Reset to empty string in outer loop\n",
    "    \n",
    "#     for combo in itertools.combinations(remaining_features,1):          # Interestingly, remaining_features itself seems to grow smaller with each iteration\n",
    "#             temp_features = list(X.columns.values)                      # Reset to full list each inner loop\n",
    "#             for item in worst_features:\n",
    "#                 if item in temp_features:\n",
    "#                     temp_features.remove(item)\n",
    "#             print(f\"Resulting temp features: {temp_features}\")\n",
    "#             temp_features.remove(combo[0])                              # Remove the feature being evaluated\n",
    "#             print(f\"temp_features after removal of {combo[0]}: {temp_features}\")\n",
    "\n",
    "#             RSS = fit_linear_reg(X[temp_features],Y)   #Store temp result \n",
    "#             print(f\"RSS: {RSS[0]} worst_RSS: {worst_RSS}\")\n",
    "\n",
    "#             if np.isinf(worst_RSS) or RSS[0] > worst_RSS:               # Had a VERY hard time getting the code to enter here the first time so added 'np.isinf()'\n",
    "#                 worst_RSS = RSS[0]\n",
    "#                 worst_feature = combo[0]\n",
    "#                 print(f\"Worst feature so far: {combo[0]}\")\n",
    "\n",
    "#             if np.isinf(best_RSS) or RSS[0] < best_RSS:                                           # Still need to persist the best outcomes\n",
    "#                 best_RSS = RSS[0]\n",
    "#                 best_R_squared = RSS[1] \n",
    "#                 best_feature_count = len(temp_features)\n",
    "#                 test_RSS = fit_linear_reg(X_test[temp_features],y_test)     # Run the test set R2 during processing\n",
    "#                 best_R_squared_test = test_RSS[1]\n",
    "\n",
    "#     # #Updating variables for next inner loop\n",
    "#     worst_features.append(worst_feature)\n",
    "#     remaining_features = list(X.columns.values)                             # Reset the remaining features\n",
    "#     print(f\"Worst features so far: {worst_features} remaining_features before remove(): {remaining_features}\")    \n",
    "#     for item in worst_features:\n",
    "#         print(f\"worst_features[item]: {item}\")\n",
    "#         if item in remaining_features:\n",
    "#             remaining_features.remove(item)\n",
    "#     print(f\"Resulting remaining features: {remaining_features}\")\n",
    "    \n",
    "#     # Set desired variables\n",
    "#     RSS_list.append(best_RSS)\n",
    "#     R2_list_backwards.append(best_R_squared)\n",
    "#     R2_test_list_backwards.append(best_R_squared_test)\n",
    "#     features_list[i] = remaining_features.copy()    # This is the important row to put into the dataframe\n",
    "#     features_list_count.append(len(remaining_features) + 1)\n",
    "#     features_list_backwards.append(features_list)"
   ]
  },
  {
   "cell_type": "code",
   "execution_count": 18,
   "id": "cf31752f",
   "metadata": {},
   "outputs": [
    {
     "name": "stdout",
     "output_type": "stream",
     "text": [
      "features_list_backwards :15\n",
      "R2_list_backwards :15\n",
      "features_list_count :15\n",
      "R2_test_list_backwards :15\n"
     ]
    }
   ],
   "source": [
    "print(f'features_list_backwards :{len(features_list_backwards)}')\n",
    "print(f'R2_list_backwards :{len(R2_list_backwards)}')\n",
    "print(f'features_list_count :{len(features_list_count)}')\n",
    "print(f'R2_test_list_backwards :{len(R2_test_list_backwards)}')"
   ]
  },
  {
   "cell_type": "code",
   "execution_count": 19,
   "id": "1dd715a5",
   "metadata": {},
   "outputs": [
    {
     "name": "stdout",
     "output_type": "stream",
     "text": [
      "features_list_backwards :[['AtBat', 'Hits', 'HmRun', 'Runs', 'Walks', 'Years', 'CAtBat', 'CHits', 'CHmRun', 'CRuns', 'CRBI', 'CWalks', 'Assists', 'Errors'], ['AtBat', 'HmRun', 'Runs', 'RBI', 'Walks', 'Years', 'CAtBat', 'CHits', 'CHmRun', 'CRuns', 'CRBI', 'CWalks', 'Assists', 'Errors'], ['AtBat', 'HmRun', 'Runs', 'RBI', 'Walks', 'Years', 'CHits', 'CHmRun', 'CRuns', 'CRBI', 'CWalks', 'Assists', 'Errors'], ['AtBat', 'HmRun', 'Runs', 'RBI', 'Years', 'CHits', 'CHmRun', 'CRuns', 'CRBI', 'CWalks', 'Assists', 'Errors'], ['AtBat', 'HmRun', 'RBI', 'Years', 'CHits', 'CHmRun', 'CRuns', 'CRBI', 'CWalks', 'Assists', 'Errors'], ['AtBat', 'HmRun', 'RBI', 'Years', 'CHits', 'CHmRun', 'CRuns', 'CWalks', 'Assists', 'Errors'], ['AtBat', 'HmRun', 'Years', 'CHits', 'CHmRun', 'CRuns', 'CWalks', 'Assists', 'Errors'], ['HmRun', 'Years', 'CHits', 'CHmRun', 'CRuns', 'CWalks', 'Assists', 'Errors'], ['Years', 'CHits', 'CHmRun', 'CRuns', 'CWalks', 'Assists', 'Errors'], ['CHits', 'CHmRun', 'CRuns', 'CWalks', 'Assists', 'Errors'], ['CHits', 'CRuns', 'CWalks', 'Assists', 'Errors'], ['CHits', 'CWalks', 'Assists', 'Errors'], ['CWalks', 'Assists', 'Errors'], ['Assists', 'Errors'], ['Errors']]\n",
      "R2_list_backwards :[0.571600916724879, 0.5488404946180585, 0.526292427883439, 0.5033762430427948, 0.49064611782748524, 0.48363701814319815, 0.4757299017544717, 0.4674294652824452, 0.4326522508025359, 0.4016969687784927, 0.37462125897920195, 0.35306113802194583, 0.33136093572551195, 0.272543107772908, 0.001172541645444336]\n",
      "features_list_count :[15, 14, 13, 12, 11, 10, 9, 8, 7, 6, 5, 4, 3, 2, 1]\n",
      "R2_test_list_backwards :[0.4951892246203491, 0.44663454800127655, 0.440360849160521, 0.40123564180869853, 0.36713199666754237, 0.3454557103112488, 0.30373699547567856, 0.28644647314201976, 0.2861637237858873, 0.2800201649812305, 0.2367908696079143, 0.2329458640503257, 0.18602205652154724, 0.14883165745119575, 0.021332209015537895]\n"
     ]
    }
   ],
   "source": [
    "print(f'features_list_backwards :{(features_list_backwards)}')\n",
    "print(f'R2_list_backwards :{(R2_list_backwards)}')\n",
    "print(f'features_list_count :{(features_list_count)}')\n",
    "print(f'R2_test_list_backwards :{(R2_test_list_backwards)}')"
   ]
  },
  {
   "cell_type": "code",
   "execution_count": 20,
   "id": "3d5b0be9",
   "metadata": {},
   "outputs": [
    {
     "name": "stdout",
     "output_type": "stream",
     "text": [
      "Backward stepwise subset selection\n",
      "Number of features | Features | RSS\n"
     ]
    },
    {
     "data": {
      "text/plain": [
       "[(14,\n",
       "  ['AtBat',\n",
       "   'HmRun',\n",
       "   'Runs',\n",
       "   'RBI',\n",
       "   'Walks',\n",
       "   'Years',\n",
       "   'CAtBat',\n",
       "   'CHits',\n",
       "   'CHmRun',\n",
       "   'CRuns',\n",
       "   'CRBI',\n",
       "   'CWalks',\n",
       "   'Assists',\n",
       "   'Errors'],\n",
       "  18708397),\n",
       " (13,\n",
       "  ['AtBat',\n",
       "   'HmRun',\n",
       "   'Runs',\n",
       "   'RBI',\n",
       "   'Walks',\n",
       "   'Years',\n",
       "   'CHits',\n",
       "   'CHmRun',\n",
       "   'CRuns',\n",
       "   'CRBI',\n",
       "   'CWalks',\n",
       "   'Assists',\n",
       "   'Errors'],\n",
       "  18708397),\n",
       " (12,\n",
       "  ['AtBat',\n",
       "   'HmRun',\n",
       "   'Runs',\n",
       "   'RBI',\n",
       "   'Years',\n",
       "   'CHits',\n",
       "   'CHmRun',\n",
       "   'CRuns',\n",
       "   'CRBI',\n",
       "   'CWalks',\n",
       "   'Assists',\n",
       "   'Errors'],\n",
       "  19702356),\n",
       " (11,\n",
       "  ['AtBat',\n",
       "   'HmRun',\n",
       "   'RBI',\n",
       "   'Years',\n",
       "   'CHits',\n",
       "   'CHmRun',\n",
       "   'CRuns',\n",
       "   'CRBI',\n",
       "   'CWalks',\n",
       "   'Assists',\n",
       "   'Errors'],\n",
       "  19702356)]"
      ]
     },
     "metadata": {},
     "output_type": "display_data"
    }
   ],
   "source": [
    "print('Backward stepwise subset selection')\n",
    "print('Number of features |', 'Features |', 'RSS')\n",
    "display([(features_list_count[i],features_list_backwards[i], round(RSS_list[i])) for i in range(1,5)])"
   ]
  },
  {
   "cell_type": "markdown",
   "id": "18d61483-50cd-4180-aa7d-94701fc575dc",
   "metadata": {},
   "source": [
    "Next, create a dataframe with four columns: the feature list, $R^{2}$ values, and test $R^{2}$ values lists you just created, plus another column that records the number of features."
   ]
  },
  {
   "cell_type": "code",
   "execution_count": 21,
   "id": "d06254dd",
   "metadata": {},
   "outputs": [
    {
     "data": {
      "text/plain": [
       "[['AtBat',\n",
       "  'Hits',\n",
       "  'HmRun',\n",
       "  'Runs',\n",
       "  'Walks',\n",
       "  'Years',\n",
       "  'CAtBat',\n",
       "  'CHits',\n",
       "  'CHmRun',\n",
       "  'CRuns',\n",
       "  'CRBI',\n",
       "  'CWalks',\n",
       "  'Assists',\n",
       "  'Errors'],\n",
       " ['AtBat',\n",
       "  'HmRun',\n",
       "  'Runs',\n",
       "  'RBI',\n",
       "  'Walks',\n",
       "  'Years',\n",
       "  'CAtBat',\n",
       "  'CHits',\n",
       "  'CHmRun',\n",
       "  'CRuns',\n",
       "  'CRBI',\n",
       "  'CWalks',\n",
       "  'Assists',\n",
       "  'Errors'],\n",
       " ['AtBat',\n",
       "  'HmRun',\n",
       "  'Runs',\n",
       "  'RBI',\n",
       "  'Walks',\n",
       "  'Years',\n",
       "  'CHits',\n",
       "  'CHmRun',\n",
       "  'CRuns',\n",
       "  'CRBI',\n",
       "  'CWalks',\n",
       "  'Assists',\n",
       "  'Errors'],\n",
       " ['AtBat',\n",
       "  'HmRun',\n",
       "  'Runs',\n",
       "  'RBI',\n",
       "  'Years',\n",
       "  'CHits',\n",
       "  'CHmRun',\n",
       "  'CRuns',\n",
       "  'CRBI',\n",
       "  'CWalks',\n",
       "  'Assists',\n",
       "  'Errors'],\n",
       " ['AtBat',\n",
       "  'HmRun',\n",
       "  'RBI',\n",
       "  'Years',\n",
       "  'CHits',\n",
       "  'CHmRun',\n",
       "  'CRuns',\n",
       "  'CRBI',\n",
       "  'CWalks',\n",
       "  'Assists',\n",
       "  'Errors'],\n",
       " ['AtBat',\n",
       "  'HmRun',\n",
       "  'RBI',\n",
       "  'Years',\n",
       "  'CHits',\n",
       "  'CHmRun',\n",
       "  'CRuns',\n",
       "  'CWalks',\n",
       "  'Assists',\n",
       "  'Errors'],\n",
       " ['AtBat',\n",
       "  'HmRun',\n",
       "  'Years',\n",
       "  'CHits',\n",
       "  'CHmRun',\n",
       "  'CRuns',\n",
       "  'CWalks',\n",
       "  'Assists',\n",
       "  'Errors'],\n",
       " ['HmRun', 'Years', 'CHits', 'CHmRun', 'CRuns', 'CWalks', 'Assists', 'Errors'],\n",
       " ['Years', 'CHits', 'CHmRun', 'CRuns', 'CWalks', 'Assists', 'Errors'],\n",
       " ['CHits', 'CHmRun', 'CRuns', 'CWalks', 'Assists', 'Errors'],\n",
       " ['CHits', 'CRuns', 'CWalks', 'Assists', 'Errors'],\n",
       " ['CHits', 'CWalks', 'Assists', 'Errors'],\n",
       " ['CWalks', 'Assists', 'Errors'],\n",
       " ['Assists', 'Errors'],\n",
       " ['Errors']]"
      ]
     },
     "execution_count": 21,
     "metadata": {},
     "output_type": "execute_result"
    }
   ],
   "source": [
    "features_list_backwards"
   ]
  },
  {
   "cell_type": "code",
   "execution_count": 22,
   "id": "45a7c492-34d1-4a22-a0cf-cc7d27dc2b88",
   "metadata": {},
   "outputs": [],
   "source": [
    "#TODO: Create a dataframe consisting of the feature list, the R^2 values, and the number of features for each submodel $M_{i}$.\n",
    "\n",
    "df_summary = pd.DataFrame()\n",
    "# features_list_backwards_series = pd.Series(features_list_backwards)\n",
    "\n",
    "df_summary.insert(loc=0, column='Features', value=features_list_backwards, allow_duplicates=True)\n",
    "df_summary.insert(loc=1, column='R^2', value=R2_list_backwards, allow_duplicates=True)\n",
    "df_summary.insert(loc=2, column='Features Count', value=features_list_count, allow_duplicates=True)\n",
    "df_summary.insert(loc=3, column='Test R^2', value=R2_test_list_backwards, allow_duplicates=True)"
   ]
  },
  {
   "cell_type": "markdown",
   "id": "a18e39ef-5066-4e5b-9d56-ccba16e1e021",
   "metadata": {},
   "source": [
    "Finally, plot the adjusted $R^{2}$ values for each set of predictor variables, with the number of predictor variables on the $x$-axis. Mark the maximum, and print the predictors associated with that maximum.\n",
    "\n",
    "Recall that the adjusted $R^{2}$ is defined as:\n",
    "\n",
    "$\\displaystyle R^{2}_{a} = 1-\\frac{RSS/(n-k-1)}{TSS/n-1}$\n",
    "\n",
    "\n",
    "More importantly, we need to calculate the adjusted R^2 from R^2:\n",
    "![Alt text](image.png)\n",
    "Source: https://stackoverflow.com/questions/49381661/how-do-i-calculate-the-adjusted-r-squared-score-using-scikit-learn\n",
    "&nbsp;"
   ]
  },
  {
   "cell_type": "code",
   "execution_count": 23,
   "id": "d4a5ca25",
   "metadata": {},
   "outputs": [
    {
     "data": {
      "text/html": [
       "<div>\n",
       "<style scoped>\n",
       "    .dataframe tbody tr th:only-of-type {\n",
       "        vertical-align: middle;\n",
       "    }\n",
       "\n",
       "    .dataframe tbody tr th {\n",
       "        vertical-align: top;\n",
       "    }\n",
       "\n",
       "    .dataframe thead th {\n",
       "        text-align: right;\n",
       "    }\n",
       "</style>\n",
       "<table border=\"1\" class=\"dataframe\">\n",
       "  <thead>\n",
       "    <tr style=\"text-align: right;\">\n",
       "      <th></th>\n",
       "      <th>Features</th>\n",
       "      <th>R^2</th>\n",
       "      <th>Features Count</th>\n",
       "      <th>Test R^2</th>\n",
       "    </tr>\n",
       "  </thead>\n",
       "  <tbody>\n",
       "    <tr>\n",
       "      <th>0</th>\n",
       "      <td>[AtBat, Hits, HmRun, Runs, Walks, Years, CAtBa...</td>\n",
       "      <td>0.571601</td>\n",
       "      <td>15</td>\n",
       "      <td>0.495189</td>\n",
       "    </tr>\n",
       "    <tr>\n",
       "      <th>1</th>\n",
       "      <td>[AtBat, HmRun, Runs, RBI, Walks, Years, CAtBat...</td>\n",
       "      <td>0.548840</td>\n",
       "      <td>14</td>\n",
       "      <td>0.446635</td>\n",
       "    </tr>\n",
       "    <tr>\n",
       "      <th>2</th>\n",
       "      <td>[AtBat, HmRun, Runs, RBI, Walks, Years, CHits,...</td>\n",
       "      <td>0.526292</td>\n",
       "      <td>13</td>\n",
       "      <td>0.440361</td>\n",
       "    </tr>\n",
       "    <tr>\n",
       "      <th>3</th>\n",
       "      <td>[AtBat, HmRun, Runs, RBI, Years, CHits, CHmRun...</td>\n",
       "      <td>0.503376</td>\n",
       "      <td>12</td>\n",
       "      <td>0.401236</td>\n",
       "    </tr>\n",
       "    <tr>\n",
       "      <th>4</th>\n",
       "      <td>[AtBat, HmRun, RBI, Years, CHits, CHmRun, CRun...</td>\n",
       "      <td>0.490646</td>\n",
       "      <td>11</td>\n",
       "      <td>0.367132</td>\n",
       "    </tr>\n",
       "    <tr>\n",
       "      <th>5</th>\n",
       "      <td>[AtBat, HmRun, RBI, Years, CHits, CHmRun, CRun...</td>\n",
       "      <td>0.483637</td>\n",
       "      <td>10</td>\n",
       "      <td>0.345456</td>\n",
       "    </tr>\n",
       "    <tr>\n",
       "      <th>6</th>\n",
       "      <td>[AtBat, HmRun, Years, CHits, CHmRun, CRuns, CW...</td>\n",
       "      <td>0.475730</td>\n",
       "      <td>9</td>\n",
       "      <td>0.303737</td>\n",
       "    </tr>\n",
       "    <tr>\n",
       "      <th>7</th>\n",
       "      <td>[HmRun, Years, CHits, CHmRun, CRuns, CWalks, A...</td>\n",
       "      <td>0.467429</td>\n",
       "      <td>8</td>\n",
       "      <td>0.286446</td>\n",
       "    </tr>\n",
       "    <tr>\n",
       "      <th>8</th>\n",
       "      <td>[Years, CHits, CHmRun, CRuns, CWalks, Assists,...</td>\n",
       "      <td>0.432652</td>\n",
       "      <td>7</td>\n",
       "      <td>0.286164</td>\n",
       "    </tr>\n",
       "    <tr>\n",
       "      <th>9</th>\n",
       "      <td>[CHits, CHmRun, CRuns, CWalks, Assists, Errors]</td>\n",
       "      <td>0.401697</td>\n",
       "      <td>6</td>\n",
       "      <td>0.280020</td>\n",
       "    </tr>\n",
       "    <tr>\n",
       "      <th>10</th>\n",
       "      <td>[CHits, CRuns, CWalks, Assists, Errors]</td>\n",
       "      <td>0.374621</td>\n",
       "      <td>5</td>\n",
       "      <td>0.236791</td>\n",
       "    </tr>\n",
       "    <tr>\n",
       "      <th>11</th>\n",
       "      <td>[CHits, CWalks, Assists, Errors]</td>\n",
       "      <td>0.353061</td>\n",
       "      <td>4</td>\n",
       "      <td>0.232946</td>\n",
       "    </tr>\n",
       "    <tr>\n",
       "      <th>12</th>\n",
       "      <td>[CWalks, Assists, Errors]</td>\n",
       "      <td>0.331361</td>\n",
       "      <td>3</td>\n",
       "      <td>0.186022</td>\n",
       "    </tr>\n",
       "    <tr>\n",
       "      <th>13</th>\n",
       "      <td>[Assists, Errors]</td>\n",
       "      <td>0.272543</td>\n",
       "      <td>2</td>\n",
       "      <td>0.148832</td>\n",
       "    </tr>\n",
       "    <tr>\n",
       "      <th>14</th>\n",
       "      <td>[Errors]</td>\n",
       "      <td>0.001173</td>\n",
       "      <td>1</td>\n",
       "      <td>0.021332</td>\n",
       "    </tr>\n",
       "  </tbody>\n",
       "</table>\n",
       "</div>"
      ],
      "text/plain": [
       "                                             Features       R^2  \\\n",
       "0   [AtBat, Hits, HmRun, Runs, Walks, Years, CAtBa...  0.571601   \n",
       "1   [AtBat, HmRun, Runs, RBI, Walks, Years, CAtBat...  0.548840   \n",
       "2   [AtBat, HmRun, Runs, RBI, Walks, Years, CHits,...  0.526292   \n",
       "3   [AtBat, HmRun, Runs, RBI, Years, CHits, CHmRun...  0.503376   \n",
       "4   [AtBat, HmRun, RBI, Years, CHits, CHmRun, CRun...  0.490646   \n",
       "5   [AtBat, HmRun, RBI, Years, CHits, CHmRun, CRun...  0.483637   \n",
       "6   [AtBat, HmRun, Years, CHits, CHmRun, CRuns, CW...  0.475730   \n",
       "7   [HmRun, Years, CHits, CHmRun, CRuns, CWalks, A...  0.467429   \n",
       "8   [Years, CHits, CHmRun, CRuns, CWalks, Assists,...  0.432652   \n",
       "9     [CHits, CHmRun, CRuns, CWalks, Assists, Errors]  0.401697   \n",
       "10            [CHits, CRuns, CWalks, Assists, Errors]  0.374621   \n",
       "11                   [CHits, CWalks, Assists, Errors]  0.353061   \n",
       "12                          [CWalks, Assists, Errors]  0.331361   \n",
       "13                                  [Assists, Errors]  0.272543   \n",
       "14                                           [Errors]  0.001173   \n",
       "\n",
       "    Features Count  Test R^2  \n",
       "0               15  0.495189  \n",
       "1               14  0.446635  \n",
       "2               13  0.440361  \n",
       "3               12  0.401236  \n",
       "4               11  0.367132  \n",
       "5               10  0.345456  \n",
       "6                9  0.303737  \n",
       "7                8  0.286446  \n",
       "8                7  0.286164  \n",
       "9                6  0.280020  \n",
       "10               5  0.236791  \n",
       "11               4  0.232946  \n",
       "12               3  0.186022  \n",
       "13               2  0.148832  \n",
       "14               1  0.021332  "
      ]
     },
     "execution_count": 23,
     "metadata": {},
     "output_type": "execute_result"
    }
   ],
   "source": [
    "df_summary"
   ]
  },
  {
   "cell_type": "code",
   "execution_count": 24,
   "id": "c3a64684-f410-4797-8710-49f7fb703afb",
   "metadata": {},
   "outputs": [
    {
     "name": "stdout",
     "output_type": "stream",
     "text": [
      "max_adjusted_R2: 0.5384772762654624 at position: 0\n"
     ]
    },
    {
     "data": {
      "image/png": "[encoded data removed]",
      "text/plain": [
       "<Figure size 640x480 with 1 Axes>"
      ]
     },
     "metadata": {},
     "output_type": "display_data"
    }
   ],
   "source": [
    "# TODO: Plot the adjusted R^2 values for the number of predictor variables, mark the maximum, and print the predictors associated with that maximum.\n",
    "\n",
    "adjusted_R2 = []\n",
    "adjusted_R2 = 1 - (1 - np.array(R2_list_backwards)) * ((len(X_train)-1)/(len(X_train)-np.array(features_list_count)-1))\n",
    "df_summary.insert(loc=4, column='Adjusted R^2', value=adjusted_R2, allow_duplicates=True)\n",
    "\n",
    "# Determine the max adjusted R^2\n",
    "max_adjusted_R2 = adjusted_R2.max()\n",
    "max_adjusted_R2_index = (np.where(adjusted_R2 == max_adjusted_R2)) # Convert from np array to list\n",
    "# for item in max_adjusted_R2_index:\n",
    "max_adjusted_R2_index_int = max_adjusted_R2_index[0][0] #Need to improve to deal with the case when the max is shared by multiple values (long shot)\n",
    "\n",
    "print(f\"max_adjusted_R2: {max_adjusted_R2} at position: {max_adjusted_R2_index_int}\")\n",
    "\n",
    "## PLOT THE VALUES\n",
    "fig, ax = plt.subplots()\n",
    "\n",
    "ax.scatter(features_list_count, adjusted_R2)\n",
    "ax.scatter(features_list_count[max_adjusted_R2_index_int],adjusted_R2[max_adjusted_R2_index_int], marker='*')\n",
    "\n",
    "ax.set_title('Adjusted R2 of Various Features in Hitters Dataset')\n",
    "ax.set_xlabel('# of Features')\n",
    "ax.set_ylabel('Adjusted R^2')\n",
    "# ax.annotate(\"The maximum R^2 is here\", xy=(1890, .065), color='gray', horizontalalignment='left',fontsize=8)\n",
    "\n",
    "ax.annotate(f\"The maximum adjusted R2 is {max_adjusted_R2}\\n The features at this location are:\\n {features_list_backwards[max_adjusted_R2_index_int]}\",\n",
    "        xy = (features_list_count[max_adjusted_R2_index_int],adjusted_R2[max_adjusted_R2_index_int]),\n",
    "        xytext = (17,0.25),\n",
    "        arrowprops=dict(arrowstyle='->',\n",
    "                        connectionstyle='arc3, rad=0.15'))\n",
    "\n",
    "plt.show()"
   ]
  },
  {
   "cell_type": "markdown",
   "id": "d7b01f11-71ac-469c-9f1b-fa3cf6ca91e6",
   "metadata": {},
   "source": [
    "Alright! Now, let's check if the number of predictors we determined using the adjusted $R^{2}$ value actually does the best on our test data.\n",
    "\n",
    "To do this, plot the actual $R^{2}$ value for each set of predictor variables when run on the test data. Again, make the x-axis the number of predictors, mark the maximum, and print the predictors associated with that maximum."
   ]
  },
  {
   "cell_type": "code",
   "execution_count": 25,
   "id": "13b88414",
   "metadata": {},
   "outputs": [],
   "source": [
    "# Reset the variables\n",
    "R2_list_backwards_test, features_list_backwards_test, R2_test_list_backwards_test = [], [], []\n",
    "len_backwards_features = len(features_list_backwards_test)\n",
    "\n",
    "# TODO: Plot the R^2 values for the given number of predictor variables when the model is run on the test data. Mark the maximum, and print the predictors associated with that maximum.\n",
    "\n",
    "regression_score = float\n",
    "predictions_test, features_list_count_test = [], []\n",
    "\n",
    "for n in range(len_backwards_features):\n",
    "    X = X_test[backwards_features[0:len_backwards_features-n]].to_numpy() \n",
    "    # print(f\"X is {X}\")\n",
    "    print(f\"X.shape: {X.shape}\")\n",
    "    print(f\"y_test.shape: {y_test.shape}\")\n",
    "    # regr.fit(X,y_test)                                                   # The model has already been trained, but in this instance I think we want to retrain it\n",
    "    predictions_test = regr.predict(X)\n",
    "    regression_score = regr.score(X,y_test).astype(float) # Want to avoid scoring the regression multiple times\n",
    "    print(\"For predictors {} \\n the r-squared value is {}\\n\".format(backwards_features[0:len_backwards_features-n],regr.score(X,y_test)))\n",
    "    features_list_backwards_test.append(str(backwards_features[0:len_backwards_features-n]))\n",
    "    R2_list_backwards_test.append(regression_score)\n",
    "    features_list_count_test.append(len_backwards_features-n)\n"
   ]
  },
  {
   "cell_type": "markdown",
   "id": "1d70c5ea-4963-411b-8d4c-5bdcc683244c",
   "metadata": {},
   "source": [
    "Now, plot both on the same line charts on the same figure."
   ]
  },
  {
   "cell_type": "code",
   "execution_count": 26,
   "id": "ece7197d-61b6-43d3-802f-640bce0ab701",
   "metadata": {},
   "outputs": [],
   "source": [
    "# TODO: Plot both line charts on the same figure."
   ]
  },
  {
   "cell_type": "code",
   "execution_count": 28,
   "id": "2f402325",
   "metadata": {},
   "outputs": [
    {
     "ename": "ValueError",
     "evalue": "Length of values (0) does not match length of index (15)",
     "output_type": "error",
     "traceback": [
      "\u001b[0;31m---------------------------------------------------------------------------\u001b[0m",
      "\u001b[0;31mValueError\u001b[0m                                Traceback (most recent call last)",
      "\u001b[1;32m/Users/robchristiansen/Documents/Code/Learning/WeberState/CS 6570 (Data Science Algorithms I)/Assignments/CS-6570 Homework 3.ipynb Cell 48\u001b[0m line \u001b[0;36m6\n\u001b[1;32m      <a href='vscode-notebook-cell:/Users/robchristiansen/Documents/Code/Learning/WeberState/CS%206570%20%28Data%20Science%20Algorithms%20I%29/Assignments/CS-6570%20Homework%203.ipynb#X54sZmlsZQ%3D%3D?line=3'>4</a>\u001b[0m adjusted_R2_test \u001b[39m=\u001b[39m \u001b[39m1\u001b[39m \u001b[39m-\u001b[39m (\u001b[39m1\u001b[39m \u001b[39m-\u001b[39m np\u001b[39m.\u001b[39marray(R2_list_backwards_test)) \n\u001b[1;32m      <a href='vscode-notebook-cell:/Users/robchristiansen/Documents/Code/Learning/WeberState/CS%206570%20%28Data%20Science%20Algorithms%20I%29/Assignments/CS-6570%20Homework%203.ipynb#X54sZmlsZQ%3D%3D?line=4'>5</a>\u001b[0m \u001b[39m# adjusted_R2 = 1 - (1 - np.array(R2_list_backwards)**2)*(len(X_train)-1/(len(X_train)-np.array(features_list_count)-1))\u001b[39;00m\n\u001b[0;32m----> <a href='vscode-notebook-cell:/Users/robchristiansen/Documents/Code/Learning/WeberState/CS%206570%20%28Data%20Science%20Algorithms%20I%29/Assignments/CS-6570%20Homework%203.ipynb#X54sZmlsZQ%3D%3D?line=5'>6</a>\u001b[0m df_summary\u001b[39m.\u001b[39;49minsert(loc\u001b[39m=\u001b[39;49m\u001b[39m4\u001b[39;49m, column\u001b[39m=\u001b[39;49m\u001b[39m'\u001b[39;49m\u001b[39mAdjusted R^2 test\u001b[39;49m\u001b[39m'\u001b[39;49m, value\u001b[39m=\u001b[39;49madjusted_R2_test, allow_duplicates\u001b[39m=\u001b[39;49m\u001b[39mTrue\u001b[39;49;00m)\n\u001b[1;32m      <a href='vscode-notebook-cell:/Users/robchristiansen/Documents/Code/Learning/WeberState/CS%206570%20%28Data%20Science%20Algorithms%20I%29/Assignments/CS-6570%20Homework%203.ipynb#X54sZmlsZQ%3D%3D?line=7'>8</a>\u001b[0m \u001b[39m# Determine the max adjusted R^2\u001b[39;00m\n\u001b[1;32m      <a href='vscode-notebook-cell:/Users/robchristiansen/Documents/Code/Learning/WeberState/CS%206570%20%28Data%20Science%20Algorithms%20I%29/Assignments/CS-6570%20Homework%203.ipynb#X54sZmlsZQ%3D%3D?line=8'>9</a>\u001b[0m max_adjusted_R2_test \u001b[39m=\u001b[39m adjusted_R2_test\u001b[39m.\u001b[39mmax()\n",
      "File \u001b[0;32m/opt/homebrew/lib/python3.11/site-packages/pandas/core/frame.py:4947\u001b[0m, in \u001b[0;36mDataFrame.insert\u001b[0;34m(self, loc, column, value, allow_duplicates)\u001b[0m\n\u001b[1;32m   4944\u001b[0m \u001b[39melif\u001b[39;00m \u001b[39misinstance\u001b[39m(value, DataFrame):\n\u001b[1;32m   4945\u001b[0m     value \u001b[39m=\u001b[39m value\u001b[39m.\u001b[39miloc[:, \u001b[39m0\u001b[39m]\n\u001b[0;32m-> 4947\u001b[0m value, refs \u001b[39m=\u001b[39m \u001b[39mself\u001b[39;49m\u001b[39m.\u001b[39;49m_sanitize_column(value)\n\u001b[1;32m   4948\u001b[0m \u001b[39mself\u001b[39m\u001b[39m.\u001b[39m_mgr\u001b[39m.\u001b[39minsert(loc, column, value, refs\u001b[39m=\u001b[39mrefs)\n",
      "File \u001b[0;32m/opt/homebrew/lib/python3.11/site-packages/pandas/core/frame.py:5042\u001b[0m, in \u001b[0;36mDataFrame._sanitize_column\u001b[0;34m(self, value)\u001b[0m\n\u001b[1;32m   5039\u001b[0m     \u001b[39mreturn\u001b[39;00m _reindex_for_setitem(value, \u001b[39mself\u001b[39m\u001b[39m.\u001b[39mindex)\n\u001b[1;32m   5041\u001b[0m \u001b[39mif\u001b[39;00m is_list_like(value):\n\u001b[0;32m-> 5042\u001b[0m     com\u001b[39m.\u001b[39;49mrequire_length_match(value, \u001b[39mself\u001b[39;49m\u001b[39m.\u001b[39;49mindex)\n\u001b[1;32m   5043\u001b[0m \u001b[39mreturn\u001b[39;00m sanitize_array(value, \u001b[39mself\u001b[39m\u001b[39m.\u001b[39mindex, copy\u001b[39m=\u001b[39m\u001b[39mTrue\u001b[39;00m, allow_2d\u001b[39m=\u001b[39m\u001b[39mTrue\u001b[39;00m), \u001b[39mNone\u001b[39;00m\n",
      "File \u001b[0;32m/opt/homebrew/lib/python3.11/site-packages/pandas/core/common.py:561\u001b[0m, in \u001b[0;36mrequire_length_match\u001b[0;34m(data, index)\u001b[0m\n\u001b[1;32m    557\u001b[0m \u001b[39m\u001b[39m\u001b[39m\"\"\"\u001b[39;00m\n\u001b[1;32m    558\u001b[0m \u001b[39mCheck the length of data matches the length of the index.\u001b[39;00m\n\u001b[1;32m    559\u001b[0m \u001b[39m\"\"\"\u001b[39;00m\n\u001b[1;32m    560\u001b[0m \u001b[39mif\u001b[39;00m \u001b[39mlen\u001b[39m(data) \u001b[39m!=\u001b[39m \u001b[39mlen\u001b[39m(index):\n\u001b[0;32m--> 561\u001b[0m     \u001b[39mraise\u001b[39;00m \u001b[39mValueError\u001b[39;00m(\n\u001b[1;32m    562\u001b[0m         \u001b[39m\"\u001b[39m\u001b[39mLength of values \u001b[39m\u001b[39m\"\u001b[39m\n\u001b[1;32m    563\u001b[0m         \u001b[39mf\u001b[39m\u001b[39m\"\u001b[39m\u001b[39m(\u001b[39m\u001b[39m{\u001b[39;00m\u001b[39mlen\u001b[39m(data)\u001b[39m}\u001b[39;00m\u001b[39m) \u001b[39m\u001b[39m\"\u001b[39m\n\u001b[1;32m    564\u001b[0m         \u001b[39m\"\u001b[39m\u001b[39mdoes not match length of index \u001b[39m\u001b[39m\"\u001b[39m\n\u001b[1;32m    565\u001b[0m         \u001b[39mf\u001b[39m\u001b[39m\"\u001b[39m\u001b[39m(\u001b[39m\u001b[39m{\u001b[39;00m\u001b[39mlen\u001b[39m(index)\u001b[39m}\u001b[39;00m\u001b[39m)\u001b[39m\u001b[39m\"\u001b[39m\n\u001b[1;32m    566\u001b[0m     )\n",
      "\u001b[0;31mValueError\u001b[0m: Length of values (0) does not match length of index (15)"
     ]
    }
   ],
   "source": [
    "# TODO: Plot the adjusted R^2 values for the number of predictor variables, mark the maximum, and print the predictors associated with that maximum.\n",
    "\n",
    "adjusted_R2_test = []\n",
    "adjusted_R2_test = 1 - (1 - np.array(R2_list_backwards_test)) * ((len(X_train)-1)/(len(X_train)-np.array(features_list_count)-1))\n",
    "# adjusted_R2 = 1 - (1 - np.array(R2_list_backwards)**2)*(len(X_train)-1/(len(X_train)-np.array(features_list_count)-1))\n",
    "df_summary.insert(loc=4, column='Adjusted R^2 test', value=adjusted_R2_test, allow_duplicates=True)\n",
    "\n",
    "# Determine the max adjusted R^2\n",
    "max_adjusted_R2_test = adjusted_R2_test.max()\n",
    "max_adjusted_R2_test_index = (np.where(adjusted_R2_test == max_adjusted_R2_test)) # Convert from np array to list\n",
    "# for item in max_adjusted_R2_index:\n",
    "max_adjusted_R2_test_index_int = max_adjusted_R2_test_index[0][0] #Need to improve to deal with the case when the max is shared by multiple values (long shot)\n",
    "\n",
    "print(f\"max_adjusted_R2: {max_adjusted_R2_test} at position: {max_adjusted_R2_test_index_int}\")\n",
    "\n",
    "## PLOT THE VALUES\n",
    "fig, ax = plt.subplots()\n",
    "\n",
    "ax.scatter(features_list_count, adjusted_R2, label=\"Training set\")\n",
    "ax.scatter(features_list_count[max_adjusted_R2_index_int],adjusted_R2[max_adjusted_R2_index_int], marker='*')\n",
    "\n",
    "ax.scatter(features_list_count, adjusted_R2_test, label=\"Test set\")\n",
    "ax.scatter(features_list_count[max_adjusted_R2_test_index_int],adjusted_R2_test[max_adjusted_R2_test_index_int], marker='X')\n",
    "\n",
    "\n",
    "ax.set_title('Comparison of Train vs Test Sets Adjusted R2 of Various Features in Hitters Dataset')\n",
    "ax.set_xlabel('# of Features')\n",
    "ax.set_ylabel('Adjusted R^2')\n",
    "# ax.annotate(\"The maximum R^2 is here\", xy=(1890, .065), color='gray', horizontalalignment='left',fontsize=8)\n",
    "\n",
    "\n",
    "ax.annotate(f\"The maximum adjusted R2 for the train set is {max_adjusted_R2}\\n The features at this location are:\\n {features_list_backwards[max_adjusted_R2_index_int]}\",\n",
    "        xy = (features_list_count[max_adjusted_R2_index_int],adjusted_R2[max_adjusted_R2_index_int]),\n",
    "        xytext = (17,0.35),\n",
    "        arrowprops=dict(arrowstyle='->',\n",
    "                        connectionstyle='arc3, rad=0.15'))\n",
    "\n",
    "ax.annotate(f\"The maximum adjusted R2 for the test is {max_adjusted_R2_test}\\n The features at this location are:\\n {features_list_backwards[max_adjusted_R2_test_index_int]}\",\n",
    "        xy = (features_list_count[max_adjusted_R2_test_index_int],adjusted_R2_test[max_adjusted_R2_test_index_int]),\n",
    "        xytext = (17,0.10),\n",
    "        arrowprops=dict(arrowstyle='->',\n",
    "                        connectionstyle='arc3, rad=0.15'))\n",
    "\n",
    "\n",
    "plt.show()"
   ]
  },
  {
   "cell_type": "markdown",
   "id": "6cebf9ae-8956-43a9-a4cc-79f773158f9e",
   "metadata": {},
   "source": [
    "Do the best subset of predictors found using adjusted $R^{2}$ match those found using a test set?\n",
    "\n",
    "Answer: In my experience, no, they don't match"
   ]
  },
  {
   "cell_type": "markdown",
   "id": "45ae7f6c-9e2e-4573-ab89-db8e578dfb16",
   "metadata": {},
   "source": [
    "## Ridge and Lasso Regression ##\n",
    "\n",
    "Next, we'll take a look at ridge and lasso regression for this hitters dataset. We'll use ridge regression as an example, and then you should do something similar for lasso."
   ]
  },
  {
   "cell_type": "markdown",
   "id": "3bb9162e-0768-420e-839d-f2b4e2e37f50",
   "metadata": {},
   "source": [
    "**Ridge Regression**\n",
    "\n",
    "We'll first investigate building a predictive salary model using ridge regression.\n",
    "\n",
    "To do this, first we'll create a set of 90 values for our hyperparameter $\\lambda$ as we did in Lectures 9 and 10."
   ]
  },
  {
   "cell_type": "code",
   "execution_count": null,
   "id": "1588d501",
   "metadata": {},
   "outputs": [],
   "source": [
    "lambdas = 10**np.linspace(7,-2,90)"
   ]
  },
  {
   "cell_type": "markdown",
   "id": "345ceb3b-4074-4e93-a741-7ecca08ae331",
   "metadata": {},
   "source": [
    "Now, we'll calculate the values of our coefficients for each value of $\\lambda$:"
   ]
  },
  {
   "cell_type": "code",
   "execution_count": null,
   "id": "be8351bd",
   "metadata": {},
   "outputs": [],
   "source": [
    "ridge = Ridge()\n",
    "coefs = [] #Keep track of the coefficients.\n",
    "\n",
    "for l in lambdas:\n",
    "    ridge.set_params(alpha = l) #Ridge regression in Python calls the lambda term alpha.\n",
    "    ridge.fit(X, y)\n",
    "    coefs.append(ridge.coef_)"
   ]
  },
  {
   "cell_type": "markdown",
   "id": "ecb510f9-4163-44e4-a28e-dd375b8df1c7",
   "metadata": {},
   "source": [
    "We can plot how these coefficients change as $\\lambda$ increases, noting they should approach but not equal $0$ as $\\lambda$ gets large."
   ]
  },
  {
   "cell_type": "code",
   "execution_count": null,
   "id": "111dd38e",
   "metadata": {},
   "outputs": [],
   "source": [
    "ax = plt.gca()\n",
    "ax.plot(lambdas, coefs)\n",
    "ax.set_xscale('log')\n",
    "plt.axis('tight')\n",
    "plt.xlabel('alpha')\n",
    "plt.ylabel('weights');"
   ]
  },
  {
   "cell_type": "markdown",
   "id": "9bc472c0-e12a-4eb4-86db-a16d2bdec21b",
   "metadata": {},
   "source": [
    "We can use the RidgeCV function to determine an optimal value for $\\lambda$ based on leave-one-out cross-validation (LOOCV):"
   ]
  },
  {
   "cell_type": "code",
   "execution_count": null,
   "id": "d3c1b59c",
   "metadata": {},
   "outputs": [],
   "source": [
    "ridgecv = RidgeCV(alphas = lambdas)\n",
    "ridgecv.fit(X, y)\n",
    "ridgecv.alpha_"
   ]
  },
  {
   "cell_type": "markdown",
   "id": "3aadb658-83fd-4ef0-a3f7-00e358c52ca9",
   "metadata": {},
   "source": [
    "Building a ridge regression model with this optimal $\\lambda$, we get:"
   ]
  },
  {
   "cell_type": "code",
   "execution_count": null,
   "id": "0ab75cac",
   "metadata": {},
   "outputs": [],
   "source": [
    "ridge2 = Ridge(alpha = ridgecv.alpha_)\n",
    "ridge2.fit(X, y)\n",
    "print(pd.Series(ridge2.coef_, index = X.columns))\n",
    "mean_squared_error(y, ridge2.predict(X))"
   ]
  },
  {
   "cell_type": "markdown",
   "id": "1c118072-4bb0-4629-a7fc-2237f3f55329",
   "metadata": {},
   "source": [
    "For $3$-fold cross-validation we get:"
   ]
  },
  {
   "cell_type": "code",
   "execution_count": null,
   "id": "db7948e1",
   "metadata": {},
   "outputs": [],
   "source": [
    "ridgecv = RidgeCV(alphas = lambdas, cv=3)\n",
    "ridgecv.fit(X, y)\n",
    "ridgecv.alpha_"
   ]
  },
  {
   "cell_type": "code",
   "execution_count": null,
   "id": "9ac60ba3",
   "metadata": {},
   "outputs": [],
   "source": [
    "ridge3 = Ridge(alpha = ridgecv.alpha_)\n",
    "ridge3.fit(X, y)\n",
    "print(pd.Series(ridge3.coef_, index = X.columns))\n",
    "mean_squared_error(y, ridge3.predict(X))"
   ]
  },
  {
   "cell_type": "markdown",
   "id": "c61b4011-6029-4eff-b861-046f0d5bdebc",
   "metadata": {},
   "source": [
    "For the next part of this homework assignment, you'll investigate the same modeling question using lasso regression and the LassoCV function. Check out the optimal $\\lambda$ values you get for lasso regression with LOOCV and 3-fold CV, and note which coefficients are set to $0$ is each case.\n",
    "\n",
    "Specifically, you should:\n",
    "\n",
    "1. Plot how the weights change for lasso regression as $\\lambda$ gets large.\n",
    "2. Calculate the optimal value of $\\lambda$, and the corresponding model coefficients, using LOOCV.\n",
    "3. Calculate the optimal value of $\\lambda$, and the corresponding model coefficients, using 3-fold CV."
   ]
  },
  {
   "cell_type": "markdown",
   "id": "64670ca9-9dcb-4c45-bfa6-8f0bc73bb32c",
   "metadata": {},
   "source": [
    "*Note*: Remember, for lasso, you'll probably need to set that max_iter parameter. A value like 100,000 should be good."
   ]
  },
  {
   "cell_type": "code",
   "execution_count": null,
   "id": "bb9e5df5",
   "metadata": {},
   "outputs": [],
   "source": [
    "#TODO: Plot how the weights change for lasso regression as lambda gets large here.\n",
    "lasso = Lasso()\n",
    "coefs = [] #Keep track of the coefficients.\n",
    "\n",
    "for l in lambdas:\n",
    "    lasso.set_params(alpha = l) #Ridge regression in Python calls the lambda term alpha.\n",
    "    lasso.fit(X, y)\n",
    "    coefs.append(lasso.coef_)\n",
    "\n",
    "ax = plt.gca()\n",
    "ax.plot(lambdas, coefs)\n",
    "ax.set_xscale('log')\n",
    "plt.axis('tight')\n",
    "plt.xlabel('alpha')\n",
    "plt.ylabel('weights');    "
   ]
  },
  {
   "cell_type": "code",
   "execution_count": null,
   "id": "dd7135db",
   "metadata": {},
   "outputs": [],
   "source": [
    "#TODO: Calculate the optimal value of lambda, and the corresponding model coefficients, using LOOCV.\n",
    "lassocv = LassoCV(alphas = lambdas) # Rob: No cv parameter defaults to Leave One Out Cross Validation\n",
    "lassocv.fit(X, y)\n",
    "lassocv.alpha_\n",
    "\n",
    "lasso2 = Lasso(alpha = lassocv.alpha_)\n",
    "lasso2.fit(X, y)\n",
    "print(pd.Series(lasso2.coef_, index = X.columns))\n",
    "mean_squared_error(y, lasso2.predict(X))"
   ]
  },
  {
   "cell_type": "code",
   "execution_count": null,
   "id": "5fc4d6cb",
   "metadata": {},
   "outputs": [],
   "source": [
    "#TODO: Calculate the optimal value of lambda, and the corresponding model coefficients, using 3-fold CV.\n",
    "lassocv = LassoCV(alphas = lambdas, cv=3)\n",
    "lassocv.fit(X, y)\n",
    "lassocv.alpha_\n",
    "\n",
    "lasso3 = Ridge(alpha = ridgecv.alpha_)\n",
    "lasso3.fit(X, y)\n",
    "print(pd.Series(lasso3.coef_, index = X.columns))\n",
    "mean_squared_error(y, lasso3.predict(X))"
   ]
  },
  {
   "cell_type": "markdown",
   "id": "569d9fbc-c967-439c-8fbe-8d04e41eb989",
   "metadata": {},
   "source": [
    "How do the predictors with non-zero coefficients compare with the ones found earlier in the assignment using backward stepwise selection?"
   ]
  }
 ],
 "metadata": {
  "kernelspec": {
   "display_name": "Python 3",
   "language": "python",
   "name": "python3"
  },
  "language_info": {
   "codemirror_mode": {
    "name": "ipython",
    "version": 3
   },
   "file_extension": ".py",
   "mimetype": "text/x-python",
   "name": "python",
   "nbconvert_exporter": "python",
   "pygments_lexer": "ipython3",
   "version": "3.11.5"
  }
 },
 "nbformat": 4,
 "nbformat_minor": 5
}

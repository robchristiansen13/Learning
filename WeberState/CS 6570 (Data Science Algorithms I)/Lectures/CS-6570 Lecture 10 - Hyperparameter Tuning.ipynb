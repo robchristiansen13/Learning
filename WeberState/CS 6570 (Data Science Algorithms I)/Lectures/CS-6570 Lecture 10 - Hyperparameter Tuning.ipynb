{
 "cells": [
  {
   "cell_type": "markdown",
   "id": "03d93527-8471-4ffa-b81d-f1071bf5d833",
   "metadata": {},
   "source": [
    "# CS-6570 Lecture 10 - Hyperparameter Tuning\n",
    "\n",
    "**Dylan Zwick**\n",
    "\n",
    "*Weber State University*"
   ]
  },
  {
   "cell_type": "markdown",
   "id": "f3b92d80-b0bd-4ef3-8787-6bc2b8ce77dd",
   "metadata": {},
   "source": [
    "At the end of our last lecture, I introduced two biased models used to minimize overfitting for regression models: *ridge* regression and *lasso* regression. Today, we'll dive into those approaches in more detail - focusing mostly on how we determine, or \"tune\", the value of $\\lambda$."
   ]
  },
  {
   "cell_type": "markdown",
   "id": "438f7031-c4bf-47e9-868e-99c9fb09f2d4",
   "metadata": {},
   "source": [
    "But first, let's load up our favorite libraries."
   ]
  },
  {
   "cell_type": "code",
   "execution_count": 4,
   "id": "d88e63f9-bf9f-471a-8134-2ba4d959da54",
   "metadata": {},
   "outputs": [],
   "source": [
    "import numpy as np\n",
    "import pandas as pd\n",
    "import matplotlib.pyplot as plt"
   ]
  },
  {
   "cell_type": "markdown",
   "id": "e2b4d012-b887-4183-9873-e841a2b4dc07",
   "metadata": {},
   "source": [
    "Next, let's grab the \"Credit.csv\" data again:"
   ]
  },
  {
   "cell_type": "code",
   "execution_count": 6,
   "id": "978095d4-7d66-4af6-ac4f-991718191718",
   "metadata": {
    "tags": []
   },
   "outputs": [],
   "source": [
    "credit = pd.read_csv('Credit.csv')"
   ]
  },
  {
   "cell_type": "markdown",
   "id": "9b69092a-7bcb-446d-91b7-2e3623df1541",
   "metadata": {},
   "source": [
    "And let's specify our predictors and target:"
   ]
  },
  {
   "cell_type": "code",
   "execution_count": 8,
   "id": "78320257-750e-4837-a3de-78e37e7330de",
   "metadata": {},
   "outputs": [],
   "source": [
    "#Define the variables we'll be using for predictions.\n",
    "predictors = ['Income', 'Limit', 'Rating', 'Cards', 'Age', 'Education', 'Own', 'Student', 'Married']\n",
    "#Define the variable we'll be predicting.\n",
    "target = 'Balance'\n",
    "\n",
    "#Translate the Yes/No variables into binary 1/0 variables.\n",
    "credit['Own'] = credit['Own'].map({'No':0,'Yes':1})\n",
    "credit['Student'] = credit['Student'].map({'No':0,'Yes':1})\n",
    "credit['Married'] = credit['Married'].map({'No':0,'Yes':1})\n",
    "\n",
    "#Initialization variables\n",
    "y = credit[target]\n",
    "X = credit[predictors]"
   ]
  },
  {
   "cell_type": "markdown",
   "id": "48d4041f-e2dd-4c14-8c35-7ec8807cb33c",
   "metadata": {},
   "source": [
    "For _ridge regression_, the measure we attempt to minimize is:\n",
    "\n",
    "&nbsp;\n",
    "<center>\n",
    "    $\\displaystyle \\sum_{i = 1}^{n}\\left(y_{i} - \\hat{y}_{i}\\right)^{2} + \\lambda \\sum_{j = 1}^{p}\\beta_{j}^{2}$.\n",
    "</center>\n",
    "&nbsp;\n",
    "\n",
    "For _lasso regression_, the model we attempt to minimize is:\n",
    "\n",
    "&nbsp;\n",
    "<center>\n",
    "    $\\displaystyle \\sum_{i = 1}^{n}\\left(y_{i} - \\hat{y}_{i}\\right)^{2} + \\lambda \\sum_{j = 1}^{p}|\\beta_{j}|$.\n",
    "</center>\n",
    "&nbsp;\n",
    "\n",
    "Both models penalize large values of the coefficients, and so are biased towards $0$. This means the approach will tend to favor underestimating the coefficients. \n",
    "\n",
    "Why would we want to do this? Well, if we recall from our first lecture, generally speaking the introduction of bias tends to decrease the variance within our model (the bias-variance tradeoff), and so by decreasing the variance, you decrease the chance that your model will be far removed from the actual \"correct\" model.\n",
    "\n",
    "We call the penalty for Ridge regression an $\\ell_{2}$ norm, and the penalty for the Lasso is $\\ell_{1}$ norm. The different numbers refer to the exponent of the individual $\\beta_{i}$ terms. (Note technically to be an $\\ell_{2}$ norm, the penalty for ridge regression should have a square root, but don't worry about that here.)"
   ]
  },
  {
   "cell_type": "markdown",
   "id": "a58ce6cf-fb2d-4ae8-8294-f1ee024f1c37",
   "metadata": {},
   "source": [
    "Now, one of the first thing to notice here is that term $\\lambda$. What is it, and how do we know its value? Well, the term $\\lambda$ is something called a _hyperparameter_. You don't determine it as part of the modeling process - you define it before you start the modeling process. So, you could view both ridge and lasso regression not as single models, but as families of models parametrized by $\\lambda$."
   ]
  },
  {
   "cell_type": "markdown",
   "id": "4c89e2f7-205c-48e7-a39d-8dacc60b8136",
   "metadata": {},
   "source": [
    "At one extreme, $\\lambda = 0$, both ridge and lasso regression reduce to standard regression, in which the goal is to minimize $\\sum_{i = 1}^{n}\\left(y_{i} - \\hat{y}_{i}\\right)^{2}$. On the other extreme, as $\\lambda \\rightarrow \\infty$, the penalty for any positive coefficient goes to $\\infty$, and so the model will tend towards a constant model $Y = \\beta_{0}$, where $\\beta_{0}$ will just be the average of the output values."
   ]
  },
  {
   "cell_type": "markdown",
   "id": "be7758cd-fcbf-4e7b-bc78-f958df89caa8",
   "metadata": {},
   "source": [
    "It is between these extremes that we want to build our model, and so how do we figure out $\\lambda$? Well, as usual, if we just try to optimize a value like $RSS$ on our training data, we won't get anywhere. Specifically, we'll always choose $\\lambda = 0$ by definition."
   ]
  },
  {
   "cell_type": "markdown",
   "id": "93b30330-edad-42af-ba77-eaadee459db6",
   "metadata": {},
   "source": [
    "One way we could try to determine the optimal value of $\\lambda$ is with a *validation set*. The idea behind a validation set is that you leave out some portion of your data, say 20%, and then you build your model(s) using the remaining 80%. You then test how those various models do on the data in the validation set, and you pick the model that does the best."
   ]
  },
  {
   "cell_type": "markdown",
   "id": "0be0222f-292e-4e02-bccb-0abfc2c2e614",
   "metadata": {},
   "source": [
    "The validation set approach is conceptually simple and easy to implement. However, it has two potential drawbacks:\n",
    "\n",
    "1. The validation estimate of the test error rate can be highly variable, and can be highly dependent on precisely which observations are included in the training set vs. the validation set.\n",
    "\n",
    "\n",
    "2. Only a subset of the observations, those that are included in the training set, are used to fit the model. Since statistical methods tend to perform worse when trained on fewer observations, this suggests that the validation set error rate may _overestimate_ the test error rate for the model when fit on the entire data set."
   ]
  },
  {
   "cell_type": "markdown",
   "id": "8ddd4045-4883-4901-9f1e-c459a849e0f9",
   "metadata": {},
   "source": [
    "One way to, partially, address these concerns is by using _cross-validation_, a refinement of the validation set approach that addresses these two issues."
   ]
  },
  {
   "cell_type": "markdown",
   "id": "9c2be4d1-9fc5-4ac8-a0da-b54de1edcf99",
   "metadata": {},
   "source": [
    "**Leave-One-Out Cross-Valdation (LOOCV)**\n",
    "\n",
    "For LOOCV, instead of creating two subsets of comparable size as in the validation set approach, a single observation $(x_{i},y_{i})$ is used for the validation set, and the remaining observations make up the training set. The model is then fit on the $n-1$ training observations, and its predicted value $\\hat{y}_{i}$ for $x_{i}$ is tested against the actual output $y_{i}$. So, $MSE_{i} = (y_{i}-\\hat{y}_{i})^{2}$. This procedure is repeated for all $n$ observations, and the estimated $MSE$ is the average of the errors for each model:\n",
    "\n",
    "&nbsp;\n",
    "<center>\n",
    "    $\\displaystyle CV_{(n)} = \\frac{1}{n}\\sum_{i = 1}^{n}MSE_{i}$.\n",
    "</center>\n",
    "&nbsp;\n",
    "\n",
    "This approach has far less bias than the validation set approach, and removes the randomness and risk inherent in the training / validation set splits. However, it can be computationally expensive."
   ]
  },
  {
   "cell_type": "markdown",
   "id": "8ecd111a-f591-420c-8f74-d93fe94016f8",
   "metadata": {},
   "source": [
    "**k-Fold Cross-Validation**\n",
    "\n",
    "An alternative to LOOCV is $k$-fold cross-validation (CV). In this approach, we randomly divide the set of observations into $k$ groups, or _folds_, of approximately equal size. The first fold is treated as the validation set, and the model is fit on the remaining $k-1$ folds. The mean squared error of the model on this first fold, $MSE_{1}$, in then computed. Thes is repeated $k$ times, producing $MSE_{1},MSE_{2},\\ldots,MSE_{k}$. The $MSE$ estimate is then computed as:\n",
    "\n",
    "&nbsp;\n",
    "<center>\n",
    "    $\\displaystyle CV_{(k)} = \\frac{1}{k}\\sum_{i = 1}^{n}MSE_{i}$.\n",
    "</center>\n",
    "&nbsp;\n",
    "\n",
    "It isn't hard to see that the validation set approach and LOOCV are just special cases of $k$-fold CV, with $k = 2$ and $k = n$ respectively. Which value of $k$ should you use for your model? Well, that's another hyperparameter."
   ]
  },
  {
   "cell_type": "markdown",
   "id": "ee29536d-d619-4da4-be68-bdf39357ecaa",
   "metadata": {},
   "source": [
    "The problem with using a large value of $k$ isn't just the increase in computation time, which for modern computers is rarely a huge concern. Yet again, the problem with using a large value for $k$ is the bias-variance trade-off. For the extreme case of LOOCV, the training data for each model is almost exactly the same, which means the models are highly correlated. This means that, while a larger value of $k$ will decrease the bias in the individual estimates (the tendency to overestimate the error), it will also increase the variance. There's basically no way of getting out of that tradeoff."
   ]
  },
  {
   "cell_type": "markdown",
   "id": "27cda5bf-c1c9-47bd-82e7-bdaa991795db",
   "metadata": {},
   "source": [
    "We'll talk more about cross-validation in the context of resambling methods next week, but for now let's take a look at how we might calculate $\\lambda$ for ridge or lasso regression using cross-validation in Python."
   ]
  },
  {
   "cell_type": "markdown",
   "id": "4eb96a90-307f-4c85-a67f-6529557056fd",
   "metadata": {},
   "source": [
    "First, we'll import some modules from sklearn that we'll want for Ridge and Lasso regression, along with cross-validation:"
   ]
  },
  {
   "cell_type": "code",
   "execution_count": 20,
   "id": "ccfa0625-fc86-4cc6-b08c-12f4be2316e0",
   "metadata": {},
   "outputs": [],
   "source": [
    "from sklearn.linear_model import Ridge, RidgeCV, Lasso, LassoCV\n",
    "from sklearn.model_selection import train_test_split"
   ]
  },
  {
   "cell_type": "markdown",
   "id": "6a59315a-59eb-488a-9282-de0ca92c18a8",
   "metadata": {},
   "source": [
    "We'll also be calculating the mean square error of some outputs, so let's grab the function for doing that as well."
   ]
  },
  {
   "cell_type": "code",
   "execution_count": 22,
   "id": "e96163e1-b4e2-41f6-8b7b-216838387f1a",
   "metadata": {},
   "outputs": [],
   "source": [
    "from sklearn.metrics import mean_squared_error"
   ]
  },
  {
   "cell_type": "markdown",
   "id": "1de7cf52-9f8c-457d-a762-2c07a11dd220",
   "metadata": {},
   "source": [
    "Next, I'll create a set of potential lambdas over a wide range of values. Specifically, I'll create 90 potential $\\lambda$ values ranging from $10^{7}$ to $10^{-2}$, with even spacing between the _exponents_."
   ]
  },
  {
   "cell_type": "code",
   "execution_count": 24,
   "id": "6526c8e8-c418-4c40-a821-5ddc581d01a9",
   "metadata": {},
   "outputs": [
    {
     "data": {
      "text/plain": [
       "array([1.00000000e+07, 7.92275825e+06, 6.27700983e+06, 4.97312315e+06,\n",
       "       3.94008524e+06, 3.12163429e+06, 2.47319538e+06, 1.95945291e+06,\n",
       "       1.55242717e+06, 1.22995052e+06, 9.74460063e+05, 7.72041151e+05,\n",
       "       6.11669540e+05, 4.84610990e+05, 3.83945572e+05, 3.04190795e+05,\n",
       "       2.41003013e+05, 1.90940861e+05, 1.51277828e+05, 1.19853766e+05,\n",
       "       9.49572415e+04, 7.52323269e+04, 5.96047539e+04, 4.72234056e+04,\n",
       "       3.74139626e+04, 2.96421781e+04, 2.34847811e+04, 1.86064243e+04,\n",
       "       1.47414202e+04, 1.16792709e+04, 9.25320396e+03, 7.33108980e+03,\n",
       "       5.80824522e+03, 4.60173228e+03, 3.64584124e+03, 2.88851187e+03,\n",
       "       2.28849813e+03, 1.81312174e+03, 1.43649253e+03, 1.13809830e+03,\n",
       "       9.01687771e+02, 7.14385423e+02, 5.65990301e+02, 4.48420433e+02,\n",
       "       3.55272668e+02, 2.81473946e+02, 2.23005003e+02, 1.76681473e+02,\n",
       "       1.39980460e+02, 1.10903134e+02, 8.78658723e+01, 6.96140065e+01,\n",
       "       5.51534944e+01, 4.36967803e+01, 3.46199027e+01, 2.74285120e+01,\n",
       "       2.17309470e+01, 1.72169039e+01, 1.36405368e+01, 1.08070675e+01,\n",
       "       8.56217834e+00, 6.78360691e+00, 5.37448777e+00, 4.25807673e+00,\n",
       "       3.37357126e+00, 2.67279895e+00, 2.11759399e+00, 1.67771853e+00,\n",
       "       1.32921583e+00, 1.05310557e+00, 8.34350085e-01, 6.61035402e-01,\n",
       "       5.23722369e-01, 4.14932572e-01, 3.28741046e-01, 2.60453583e-01,\n",
       "       2.06351078e-01, 1.63486970e-01, 1.29526774e-01, 1.02620932e-01,\n",
       "       8.13040837e-02, 6.44152600e-02, 5.10346533e-02, 4.04335220e-02,\n",
       "       3.20345020e-02, 2.53801615e-02, 2.01080884e-02, 1.59311524e-02,\n",
       "       1.26218669e-02, 1.00000000e-02])"
      ]
     },
     "execution_count": 24,
     "metadata": {},
     "output_type": "execute_result"
    }
   ],
   "source": [
    "lambdas = 10**np.linspace(7,-2,90)\n",
    "lambdas"
   ]
  },
  {
   "cell_type": "markdown",
   "id": "0d002cec-ec59-4c6c-bd78-ffccd0271ad4",
   "metadata": {},
   "source": [
    "Cool. Alright, now I'll set up my output and input values."
   ]
  },
  {
   "cell_type": "markdown",
   "id": "ca67fd19-a547-4725-8c19-5fe2c276cd5a",
   "metadata": {},
   "source": [
    "Alright, now we're going to do a bunch of ridge regressions, and record the coefficients we get. Note, there's no concensus as to whether the hyperparameter for ridge or lasso regression is a $\\lambda$ or an $\\alpha$. Most of the teaching literature uses $\\lambda$, so I've used it here. Unfortunately, Python uses $\\alpha$, which you'll see in the code below."
   ]
  },
  {
   "cell_type": "code",
   "execution_count": 27,
   "id": "4fa72021-24d6-44f9-9a8d-434243edb447",
   "metadata": {},
   "outputs": [],
   "source": [
    "ridge = Ridge()\n",
    "coefs = [] #Keep track of the coefficients.\n",
    "\n",
    "for l in lambdas:\n",
    "    ridge.set_params(alpha = l) #Ridge regression in Python calls the lambda term alpha.\n",
    "    ridge.fit(X, y)\n",
    "    coefs.append(ridge.coef_)"
   ]
  },
  {
   "cell_type": "markdown",
   "id": "2c7e51aa-0dff-4c18-8481-8db7677f5c48",
   "metadata": {},
   "source": [
    "Each of the 90 models should have nine coefficients, so let's check to make sure that's true."
   ]
  },
  {
   "cell_type": "code",
   "execution_count": 29,
   "id": "1adee140-a403-4563-a2d6-3f5ebb5b667d",
   "metadata": {},
   "outputs": [
    {
     "data": {
      "text/plain": [
       "(90, 9)"
      ]
     },
     "execution_count": 29,
     "metadata": {},
     "output_type": "execute_result"
    }
   ],
   "source": [
    "np.shape(coefs)"
   ]
  },
  {
   "cell_type": "markdown",
   "id": "e353b3ce-4fb7-406e-b95d-e5ee20b82357",
   "metadata": {},
   "source": [
    "Now, let's take a look at how these coefficients change as the value of $\\lambda$ (the penalty) increases."
   ]
  },
  {
   "cell_type": "code",
   "execution_count": 86,
   "id": "61b1821b-5513-41e4-befe-2a402d6c3e2c",
   "metadata": {},
   "outputs": [
    {
     "data": {
      "text/plain": [
       "Text(0, 0.5, 'weights')"
      ]
     },
     "execution_count": 86,
     "metadata": {},
     "output_type": "execute_result"
    },
    {
     "data": {
      "image/png": "[encoded data removed]",
      "text/plain": [
       "<Figure size 640x480 with 1 Axes>"
      ]
     },
     "metadata": {},
     "output_type": "display_data"
    }
   ],
   "source": [
    "ax = plt.gca()\n",
    "ax.plot(lambdas, coefs)\n",
    "ax.set_xscale('log')\n",
    "plt.axis('tight')\n",
    "plt.xlabel('lambda')\n",
    "plt.ylabel('weights')"
   ]
  },
  {
   "cell_type": "markdown",
   "id": "5d5876c4-9773-41c9-8ee6-db0200cf7f5c",
   "metadata": {},
   "source": [
    "OK. Let's use sklearn's train_test_split to create a validation set, and check out some coefficients for different values of $\\lambda$."
   ]
  },
  {
   "cell_type": "code",
   "execution_count": 33,
   "id": "88aeb3d3-15a0-4f3a-96d6-05bbb2482173",
   "metadata": {},
   "outputs": [],
   "source": [
    "X_train, X_test , y_train, y_test = train_test_split(X, y, test_size=0.5, random_state=2)"
   ]
  },
  {
   "cell_type": "markdown",
   "id": "da688c09-347e-40cf-aaeb-1e98bdc29c8b",
   "metadata": {},
   "source": [
    "For the smaller value of $\\lambda = 10^{-1} = .1$:"
   ]
  },
  {
   "cell_type": "code",
   "execution_count": 35,
   "id": "8e8b1f51-433b-46b9-b548-7a828980fd6b",
   "metadata": {},
   "outputs": [
    {
     "name": "stdout",
     "output_type": "stream",
     "text": [
      "Income        -7.630106\n",
      "Limit          0.194519\n",
      "Rating         1.089936\n",
      "Cards         20.267416\n",
      "Age           -0.588028\n",
      "Education     -0.700885\n",
      "Own            3.574424\n",
      "Student      407.294136\n",
      "Married       -9.705093\n",
      "dtype: float64\n",
      "9980.59519379909\n"
     ]
    }
   ],
   "source": [
    "ridge2 = Ridge(alpha = 1)# Again, Python uses alpha and not lambda, sorry\n",
    "ridge2.fit(X_train, y_train)             # Fit a ridge regression on the training data\n",
    "pred2 = ridge2.predict(X_test)           # Use this model to predict the test data\n",
    "print(pd.Series(ridge2.coef_, index = X.columns)) # Print coefficients\n",
    "print(mean_squared_error(y_test, pred2))          # Calculate the test MSE"
   ]
  },
  {
   "cell_type": "markdown",
   "id": "de1f08f0-ab9c-40b8-9076-699a48693f15",
   "metadata": {},
   "source": [
    "For the larger value of $\\lambda = 10^{7} = 10,000,000$:"
   ]
  },
  {
   "cell_type": "code",
   "execution_count": 37,
   "id": "39055c8a-edb8-4c6d-9b0c-69d8aba38a49",
   "metadata": {},
   "outputs": [
    {
     "name": "stdout",
     "output_type": "stream",
     "text": [
      "Income      -0.063776\n",
      "Limit        0.166727\n",
      "Rating       0.016809\n",
      "Cards        0.000909\n",
      "Age         -0.014565\n",
      "Education    0.000383\n",
      "Own          0.000106\n",
      "Student      0.000878\n",
      "Married     -0.000174\n",
      "dtype: float64\n",
      "53148.89603739644\n"
     ]
    }
   ],
   "source": [
    "ridge3 = Ridge(alpha = 10**7)\n",
    "ridge3.fit(X_train, y_train)             \n",
    "pred3 = ridge3.predict(X_test)           \n",
    "print(pd.Series(ridge3.coef_, index = X.columns)) \n",
    "print(mean_squared_error(y_test, pred3))          "
   ]
  },
  {
   "cell_type": "markdown",
   "id": "72748e41-538b-42bd-9e37-7e295a866b5f",
   "metadata": {},
   "source": [
    "And for the standard linear regression situation $\\lambda = 0$:"
   ]
  },
  {
   "cell_type": "code",
   "execution_count": 39,
   "id": "bd63428c-e006-4fbf-ba6f-f50249e3c8a1",
   "metadata": {},
   "outputs": [
    {
     "name": "stdout",
     "output_type": "stream",
     "text": [
      "Income        -7.620455\n",
      "Limit          0.196122\n",
      "Rating         1.067382\n",
      "Cards         20.367600\n",
      "Age           -0.565695\n",
      "Education     -0.915714\n",
      "Own            3.185341\n",
      "Student      428.677306\n",
      "Married       -8.748533\n",
      "dtype: float64\n",
      "9986.129099705022\n"
     ]
    }
   ],
   "source": [
    "ridge4 = Ridge(alpha = 0)\n",
    "ridge4.fit(X_train, y_train)             \n",
    "pred4 = ridge4.predict(X_test)            \n",
    "print(pd.Series(ridge4.coef_, index = X.columns)) \n",
    "print(mean_squared_error(y_test, pred4))           "
   ]
  },
  {
   "cell_type": "markdown",
   "id": "e6cb30e0-0dac-4721-816e-ae8eb16587e5",
   "metadata": {},
   "source": [
    "So, $\\lambda = 10^{-1}$ is a bit better than $\\lambda = 0$, but not much."
   ]
  },
  {
   "cell_type": "markdown",
   "id": "b4541d97-ded3-493a-806c-0fd4c95a1bd3",
   "metadata": {},
   "source": [
    "For ridge regression there is already a function, RidgeCV, that will select the best value of $\\lambda$ using cross-validation. The value of the parameter \"cv\" sets the number of folds, and it defaults to LOOCV."
   ]
  },
  {
   "cell_type": "code",
   "execution_count": 42,
   "id": "917e5fd2-280e-4af5-adf2-56b676a38fd2",
   "metadata": {},
   "outputs": [
    {
     "data": {
      "text/plain": [
       "0.10262093211115313"
      ]
     },
     "execution_count": 42,
     "metadata": {},
     "output_type": "execute_result"
    }
   ],
   "source": [
    "ridgecv = RidgeCV(alphas = lambdas)\n",
    "ridgecv.fit(X_train, y_train)\n",
    "ridgecv.alpha_"
   ]
  },
  {
   "cell_type": "markdown",
   "id": "48313e9e-10f7-4668-bbb0-d042089a1c4e",
   "metadata": {},
   "source": [
    "Building a ridge regression model with the optimal $\\lambda$ from above, we get:"
   ]
  },
  {
   "cell_type": "code",
   "execution_count": 44,
   "id": "ed7bcc45-e572-4262-9d5c-36ce87ac4762",
   "metadata": {},
   "outputs": [
    {
     "data": {
      "text/plain": [
       "9981.892242529902"
      ]
     },
     "execution_count": 44,
     "metadata": {},
     "output_type": "execute_result"
    }
   ],
   "source": [
    "ridge5 = Ridge(alpha = ridgecv.alpha_)\n",
    "ridge5.fit(X_train, y_train)\n",
    "mean_squared_error(y_test, ridge5.predict(X_test))"
   ]
  },
  {
   "cell_type": "markdown",
   "id": "2c4c7206-61cc-4035-8155-0a0c5a0b7eba",
   "metadata": {},
   "source": [
    "With coefficients:"
   ]
  },
  {
   "cell_type": "code",
   "execution_count": 88,
   "id": "2133c569-ee17-4198-8fcf-f7d4a861fa02",
   "metadata": {},
   "outputs": [
    {
     "data": {
      "text/plain": [
       "Income        -7.801234\n",
       "Limit          0.192841\n",
       "Rating         1.105669\n",
       "Cards         17.899564\n",
       "Age           -0.635626\n",
       "Education     -1.105129\n",
       "Own          -10.353610\n",
       "Student      425.223052\n",
       "Married       -7.084214\n",
       "dtype: float64"
      ]
     },
     "execution_count": 88,
     "metadata": {},
     "output_type": "execute_result"
    }
   ],
   "source": [
    "ridge5.fit(X, y)\n",
    "pd.Series(ridge5.coef_, index = X.columns)"
   ]
  },
  {
   "cell_type": "markdown",
   "id": "53f5eaa7-893a-434d-8771-12fc949cbf41",
   "metadata": {},
   "source": [
    "With cv = 10 we get:"
   ]
  },
  {
   "cell_type": "code",
   "execution_count": 90,
   "id": "fb2444b8-7f06-4b1f-8a86-e408f2516340",
   "metadata": {},
   "outputs": [
    {
     "data": {
      "text/plain": [
       "0.16348697045064184"
      ]
     },
     "execution_count": 90,
     "metadata": {},
     "output_type": "execute_result"
    }
   ],
   "source": [
    "ridgecv = RidgeCV(alphas = lambdas, cv = 10)\n",
    "ridgecv.fit(X_train, y_train)\n",
    "ridgecv.alpha_"
   ]
  },
  {
   "cell_type": "code",
   "execution_count": 92,
   "id": "02dfcff3-e261-49ee-bd2b-ab87aab9c652",
   "metadata": {},
   "outputs": [
    {
     "data": {
      "text/plain": [
       "9979.810283611805"
      ]
     },
     "execution_count": 92,
     "metadata": {},
     "output_type": "execute_result"
    }
   ],
   "source": [
    "ridge6 = Ridge(alpha = ridgecv.alpha_)\n",
    "ridge6.fit(X_train, y_train)\n",
    "mean_squared_error(y_test, ridge6.predict(X_test))"
   ]
  },
  {
   "cell_type": "markdown",
   "id": "5d813753-007b-4d43-9010-a50134a1765b",
   "metadata": {},
   "source": [
    "_Slightly_ better."
   ]
  },
  {
   "cell_type": "code",
   "execution_count": 94,
   "id": "565dd9e2-6bb6-47ce-a31e-6d6aa763eb6b",
   "metadata": {},
   "outputs": [
    {
     "data": {
      "text/plain": [
       "Income        -7.800781\n",
       "Limit          0.192702\n",
       "Rating         1.107676\n",
       "Cards         17.885564\n",
       "Age           -0.636186\n",
       "Education     -1.099286\n",
       "Own          -10.322321\n",
       "Student      424.487397\n",
       "Married       -7.122565\n",
       "dtype: float64"
      ]
     },
     "execution_count": 94,
     "metadata": {},
     "output_type": "execute_result"
    }
   ],
   "source": [
    "ridge6.fit(X, y)\n",
    "pd.Series(ridge6.coef_, index = X.columns)"
   ]
  },
  {
   "cell_type": "markdown",
   "id": "830d73be-e123-468a-81b3-cf71c4116eb5",
   "metadata": {},
   "source": [
    "Note that, while many of these coefficients are small, _none_ are $0$. That will not be the case with lasso regression."
   ]
  },
  {
   "cell_type": "markdown",
   "id": "fc44ec46-37db-4d6f-b9d8-277c36043db1",
   "metadata": {},
   "source": [
    "Note that for lasso regression here, it figures out the optimal value using iterative fitting, and we need to specify a maximum number of required iterations. We won't get into why it's different than ridge regression, but it has to do with optimizing squared terms vs. optimizing absolute values - smooth derivatives and all that."
   ]
  },
  {
   "cell_type": "code",
   "execution_count": 96,
   "id": "4a253ff6-a435-4561-9f63-8e4e6ec7adf8",
   "metadata": {},
   "outputs": [
    {
     "data": {
      "text/plain": [
       "Text(0, 0.5, 'weights')"
      ]
     },
     "execution_count": 96,
     "metadata": {},
     "output_type": "execute_result"
    },
    {
     "data": {
      "image/png": "[encoded data removed]",
      "text/plain": [
       "<Figure size 640x480 with 1 Axes>"
      ]
     },
     "metadata": {},
     "output_type": "display_data"
    }
   ],
   "source": [
    "lasso = Lasso(max_iter = 100000)\n",
    "coefs = []\n",
    "\n",
    "for l in lambdas:\n",
    "    lasso.set_params(alpha=l)\n",
    "    lasso.fit(X_train, y_train)\n",
    "    coefs.append(lasso.coef_)\n",
    "    \n",
    "ax = plt.gca()\n",
    "ax.plot(lambdas*2, coefs)\n",
    "ax.set_xscale('log')\n",
    "plt.axis('tight')\n",
    "plt.xlabel('lambda')\n",
    "plt.ylabel('weights')"
   ]
  },
  {
   "cell_type": "code",
   "execution_count": 98,
   "id": "aa99751c-ac19-4082-9fe9-636d282fe4a1",
   "metadata": {},
   "outputs": [
    {
     "name": "stdout",
     "output_type": "stream",
     "text": [
      "1.0531055707361898\n"
     ]
    },
    {
     "data": {
      "text/plain": [
       "9921.059317086045"
      ]
     },
     "execution_count": 98,
     "metadata": {},
     "output_type": "execute_result"
    }
   ],
   "source": [
    "lassocv = LassoCV(alphas = lambdas, max_iter = 100000)\n",
    "lassocv.fit(X_train, y_train)\n",
    "\n",
    "print(lassocv.alpha_)\n",
    "\n",
    "lasso.set_params(alpha=lassocv.alpha_)\n",
    "lasso.fit(X_train, y_train)\n",
    "mean_squared_error(y_test, lasso.predict(X_test))"
   ]
  },
  {
   "cell_type": "code",
   "execution_count": 100,
   "id": "8b0f7066-0bfd-4ccd-897b-1651e0734a19",
   "metadata": {},
   "outputs": [
    {
     "data": {
      "text/plain": [
       "Income        -7.637751\n",
       "Limit          0.194561\n",
       "Rating         1.090534\n",
       "Cards         19.696133\n",
       "Age           -0.542100\n",
       "Education     -0.760594\n",
       "Own            0.000000\n",
       "Student      418.286555\n",
       "Married       -4.277255\n",
       "dtype: float64"
      ]
     },
     "execution_count": 100,
     "metadata": {},
     "output_type": "execute_result"
    }
   ],
   "source": [
    "pd.Series(lasso.coef_, index=X.columns)"
   ]
  },
  {
   "cell_type": "markdown",
   "id": "a9516161-b0b7-4795-89c0-c118b0d08fbd",
   "metadata": {},
   "source": [
    "The lasso here does a bit better than ridge, and we can see it sets one value, Own, to $0$."
   ]
  },
  {
   "cell_type": "markdown",
   "id": "32c68e03-8724-4412-81fc-1dcfcc075bb1",
   "metadata": {},
   "source": [
    "What about for larger values of $\\lambda$? Well, here we see that lasso sets many coefficients to $0$."
   ]
  },
  {
   "cell_type": "code",
   "execution_count": 59,
   "id": "60b9ad52-1f51-49a7-8af3-a264bbd98c44",
   "metadata": {},
   "outputs": [
    {
     "name": "stdout",
     "output_type": "stream",
     "text": [
      "Income      -5.547870\n",
      "Limit        0.235315\n",
      "Rating       0.000000\n",
      "Cards        0.000000\n",
      "Age         -0.000000\n",
      "Education    0.000000\n",
      "Own          0.000000\n",
      "Student      0.000000\n",
      "Married     -0.000000\n",
      "dtype: float64\n",
      "27485.90270833892\n"
     ]
    }
   ],
   "source": [
    "lasso2 = Lasso(alpha = 10**3, max_iter = 100000)\n",
    "lasso2.fit(X_train, y_train)             # Fit a ridge regression on the training data\n",
    "pred5 = lasso2.predict(X_test)           # Use this model to predict the test data\n",
    "print(pd.Series(lasso2.coef_, index = X.columns)) # Print coefficients\n",
    "print(mean_squared_error(y_test, pred5))          # Calculate the test MSE"
   ]
  },
  {
   "cell_type": "markdown",
   "id": "4e012316-a2ca-47bf-ab4e-0fe1aa12c437",
   "metadata": {},
   "source": [
    "As expected, most of the coefficients are $0$, which is not what we saw for large values of $\\lambda$ in ridge regression."
   ]
  }
 ],
 "metadata": {
  "kernelspec": {
   "display_name": "anaconda-panel-2023.05-py310",
   "language": "python",
   "name": "conda-env-anaconda-panel-2023.05-py310-py"
  },
  "language_info": {
   "codemirror_mode": {
    "name": "ipython",
    "version": 3
   },
   "file_extension": ".py",
   "mimetype": "text/x-python",
   "name": "python",
   "nbconvert_exporter": "python",
   "pygments_lexer": "ipython3",
   "version": "3.11.4"
  }
 },
 "nbformat": 4,
 "nbformat_minor": 5
}

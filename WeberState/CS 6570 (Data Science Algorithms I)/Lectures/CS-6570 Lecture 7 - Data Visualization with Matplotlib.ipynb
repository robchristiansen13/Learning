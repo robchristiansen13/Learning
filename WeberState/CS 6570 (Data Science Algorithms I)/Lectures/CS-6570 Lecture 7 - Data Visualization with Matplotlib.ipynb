{
 "cells": [
  {
   "cell_type": "markdown",
   "id": "72f6b73c-dec0-4013-977a-749c05a64f4e",
   "metadata": {},
   "source": [
    "# CS-6570 Lecture 7 - Basic Data Visualization with Matplotlib\n",
    "\n",
    "**Dylan Zwick**\n",
    "\n",
    "*Weber State University*"
   ]
  },
  {
   "cell_type": "markdown",
   "id": "db0ede37-5405-4fce-adfd-fd050983e37f",
   "metadata": {},
   "source": [
    "In our last lecture we introduced Matplotlib and the basics of the figure and axes objects that are at the heart of Matplotlib plots.\n",
    "\n",
    "Today, we're going to dive more into the types of data visualizations we can make with Matplotlib, and how to create them. Again, this will not be anywhere close to an exhaustive exploration of the library. It's an introduction that should give you the tools to do quite a bit, and a foundation to learn how to do even more."
   ]
  },
  {
   "cell_type": "markdown",
   "id": "7a8d1594-d041-477b-89c5-8bcd7aee4770",
   "metadata": {},
   "source": [
    "With that being said, let's import our favorite libraries."
   ]
  },
  {
   "cell_type": "code",
   "execution_count": null,
   "id": "f758fbd6-c5f6-4e99-ac60-40f0f3be23ed",
   "metadata": {},
   "outputs": [],
   "source": [
    "import numpy as np\n",
    "import pandas as pd\n",
    "import matplotlib.pyplot as plt"
   ]
  },
  {
   "cell_type": "markdown",
   "id": "5bc38555-6963-4c0e-99b1-32e1d8310242",
   "metadata": {},
   "source": [
    "First, let's take a look at *Line Plots* - one of the most basic types of plots. Line plots display numerical values on one axis, and either numeric or categorical values on the other. They're commonly used to track changes over time. We already used line plots in our last lecture - they're quite intuitive and simple."
   ]
  },
  {
   "cell_type": "markdown",
   "id": "f61633ee-56f0-4e11-8131-1186b37dfd1e",
   "metadata": {},
   "source": [
    "To play around a bit with line plots, let's import the [Country, Regional, and World GDP](https://www.kaggle.com/datasets/tunguz/country-regional-and-world-gdp) dataset from Kaggle."
   ]
  },
  {
   "cell_type": "code",
   "execution_count": null,
   "id": "dc1598cd-d070-4d12-bae9-9cc77a713586",
   "metadata": {},
   "outputs": [],
   "source": [
    "df = pd.read_csv('../Datasets/gdp_csv.csv')\n",
    "print(df)"
   ]
  },
  {
   "cell_type": "markdown",
   "id": "fcafa682-d408-404d-9102-d5f4b5c8c179",
   "metadata": {},
   "source": [
    "Note that \"Country Name\" is a bit misleading here, as the categories might refer to regions that aren't countries. For example, there's no country called \"Arab World\". Nor, for that matter, is there a country called \"European Union\", although that entity is more well-defined.\n",
    "\n",
    "So, let's compare a few regions (not countries): The EU, North America, South Asia, and East Asia & Pacific."
   ]
  },
  {
   "cell_type": "code",
   "execution_count": null,
   "id": "41cb1775-14ba-4da9-9088-eb1c2571749d",
   "metadata": {},
   "outputs": [],
   "source": [
    "df_eu = df.loc[df['Country Name'] == 'European Union']\n",
    "df_na = df.loc[df['Country Name'] == 'North America']\n",
    "df_sa = df.loc[df['Country Name'] == 'South Asia']\n",
    "df_ea = df.loc[df['Country Name'] == 'East Asia & Pacific']"
   ]
  },
  {
   "cell_type": "markdown",
   "id": "ce01b52f-314c-4b9b-a77b-b5002e00d4e7",
   "metadata": {},
   "source": [
    "Let's take a look at one of these to make sure it aligns with our expectations."
   ]
  },
  {
   "cell_type": "code",
   "execution_count": null,
   "id": "ebac75bc-634e-4ee5-bda5-92b33b5bb089",
   "metadata": {},
   "outputs": [],
   "source": [
    "df_eu.head()"
   ]
  },
  {
   "cell_type": "markdown",
   "id": "bde1509d-731c-444f-a654-1186c3ad429a",
   "metadata": {},
   "source": [
    "### Basic Line Plots and Scales ###"
   ]
  },
  {
   "cell_type": "markdown",
   "id": "8eab7684-67a5-46ff-8dd5-4bc7c6eda7c8",
   "metadata": {},
   "source": [
    "Looks good. Now let's plot these over time with a line plot:"
   ]
  },
  {
   "cell_type": "code",
   "execution_count": null,
   "id": "df442c17-44a5-40e1-bd10-9a9a196bbc64",
   "metadata": {},
   "outputs": [],
   "source": [
    "fig, ax = plt.subplots()\n",
    "ax.plot(df_eu['Year'], df_eu['Value'], label = 'European Union GDP per Year')\n",
    "ax.plot(df_na['Year'], df_na['Value'], label = 'North American GDP per Year')\n",
    "ax.plot(df_sa['Year'], df_sa['Value'], label = 'South Asia GDP per Year')\n",
    "ax.plot(df_ea['Year'], df_ea['Value'], label = 'East Asia & Pacific GDP per Year')\n",
    "\n",
    "ax.legend()\n",
    "plt.show()"
   ]
  },
  {
   "cell_type": "markdown",
   "id": "939292ab-0226-4c02-81db-e6d202290576",
   "metadata": {},
   "source": [
    "When dealing with distributions that leans towards being exponential, it's common to plot a line plot on a logarithmic scale. Let's look into how to do this.\n",
    "\n",
    "First, as an example let's use numpy to create an exponential function and plot it linearly:"
   ]
  },
  {
   "cell_type": "code",
   "execution_count": null,
   "id": "d8e070cf-9f20-416e-ae82-381add7897ed",
   "metadata": {},
   "outputs": [],
   "source": [
    "x = np.linspace(0,5,10)\n",
    "y = np.exp(x)\n",
    "\n",
    "plt.plot(x,y)\n",
    "plt.show()"
   ]
  },
  {
   "cell_type": "markdown",
   "id": "2205ccb6-c25a-4386-b806-d456e767509c",
   "metadata": {},
   "source": [
    "On the other hand, if we change our scale to logarithmic, we get:"
   ]
  },
  {
   "cell_type": "code",
   "execution_count": null,
   "id": "1109fae0-d61f-45b7-bb0b-ab4573d59eb2",
   "metadata": {},
   "outputs": [],
   "source": [
    "plt.yscale('log')\n",
    "plt.plot(x,y)\n",
    "plt.show()"
   ]
  },
  {
   "cell_type": "markdown",
   "id": "1e7f5674-98f9-413f-9d25-80a7c4fe1239",
   "metadata": {},
   "source": [
    "So, an exponential function displays as a line on a logarithmic scale.\n",
    "\n",
    "Let's check out our GDP growth plots on a logarithmic scale:"
   ]
  },
  {
   "cell_type": "code",
   "execution_count": null,
   "id": "f9fcaceb-2a1a-4bd3-9e28-efabccb9ddf0",
   "metadata": {},
   "outputs": [],
   "source": [
    "fig,ax = plt.subplots()\n",
    "\n",
    "ax.plot(df_eu['Year'], df_eu['Value'], label = 'European Union GDP per Year')\n",
    "ax.plot(df_na['Year'], df_na['Value'], label = 'North American GDP per Year')\n",
    "ax.plot(df_sa['Year'], df_sa['Value'], label = 'South Asia GDP per Year')\n",
    "ax.plot(df_ea['Year'], df_ea['Value'], label = 'East Asia & Pacific GDP per Year')\n",
    "\n",
    "plt.yscale('log')\n",
    "ax.legend()\n",
    "plt.show()"
   ]
  },
  {
   "cell_type": "markdown",
   "id": "ff12d8a9-c872-41c3-886e-ac69594f8fbb",
   "metadata": {},
   "source": [
    "This plot does a better job of showing the relative growth rate of South Asia, indicating that - if trends continue - it's not as far behind as you might think."
   ]
  },
  {
   "cell_type": "markdown",
   "id": "2c28b21a-456b-4fdb-8b7e-f9f295063a66",
   "metadata": {},
   "source": [
    "There are four basic types of linestyles - dotted, solid, dashed, and dashdot. You can either provide the name for \"linestyle\", or use the special characters :, -, --, and -. respectively. The color argument can be any valid Matplotlib color and the linewidth is a floating-point number denoting the width of each line:"
   ]
  },
  {
   "cell_type": "code",
   "execution_count": null,
   "id": "a81dc83b-3a1e-42e1-a16d-963e924eb6bc",
   "metadata": {},
   "outputs": [],
   "source": [
    "fig,ax = plt.subplots()\n",
    "\n",
    "ax.plot(df_eu['Year'], df_eu['Value'], label = 'European Union GDP per Year', linestyle='dotted', color='k', linewidth=1)\n",
    "ax.plot(df_na['Year'], df_na['Value'], label = 'North American GDP per Year', linestyle='-', color='g', linewidth=1)\n",
    "ax.plot(df_sa['Year'], df_sa['Value'], label = 'South Asia GDP per Year', linestyle='--', color='r', linewidth=1.5)\n",
    "ax.plot(df_ea['Year'], df_ea['Value'], label = 'East Asia & Pacific GDP per Year', linestyle='dashdot', color='b', linewidth=2)\n",
    "\n",
    "plt.yscale('log')\n",
    "ax.legend()\n",
    "plt.show()"
   ]
  },
  {
   "cell_type": "markdown",
   "id": "dec2a08e-c9c7-4b51-a43a-6670e621798f",
   "metadata": {},
   "source": [
    "Sometimes, you might want to plot two sets of data with the same x-values, but with significantly different y-values. If this is the case, it can be hard to make sense of one of the plots. One thing that can help in these cases is to use two different scales.\n",
    "\n",
    "For example:"
   ]
  },
  {
   "cell_type": "code",
   "execution_count": null,
   "id": "4d1d6c18-4dba-4457-bb70-0e1cb235b0b4",
   "metadata": {},
   "outputs": [],
   "source": [
    "linear_sequence = np.linspace(1,10,10)\n",
    "exponential_sequence = np.exp(linear_sequence)\n",
    "\n",
    "fig, ax = plt.subplots()\n",
    "\n",
    "ax.plot(linear_sequence)\n",
    "ax.plot(exponential_sequence)\n",
    "plt.show()"
   ]
  },
  {
   "cell_type": "markdown",
   "id": "c137de30-22c8-41c5-b498-0084d80be2db",
   "metadata": {},
   "source": [
    "Now, that line isn't flat - but it sure looks that way. If we want to use two different scales (y-axes), we can do this by creating two overlapping axes objects - which is done with the [*twinx()*](https://matplotlib.org/stable/api/_as_gen/matplotlib.axes.Axes.twinx.html) command. "
   ]
  },
  {
   "cell_type": "code",
   "execution_count": null,
   "id": "722fce84-8bce-4c09-bbd3-a27c9b0f4646",
   "metadata": {},
   "outputs": [],
   "source": [
    "fig, ax = plt.subplots()\n",
    "\n",
    "ax.plot(linear_sequence, color='green')\n",
    "\n",
    "ax2 = ax.twinx() ##Create a new, overlapping axis object.\n",
    "\n",
    "ax2.plot(exponential_sequence)\n",
    "\n",
    "plt.show()"
   ]
  },
  {
   "cell_type": "markdown",
   "id": "536827bc-0d66-4e4f-abfb-ba32e4333d92",
   "metadata": {},
   "source": [
    "Note I switched the color of the first plot so that it wouldn't be the same as the second, but otherwise I went with the default parameters.\n",
    "\n",
    "If instead we wanted, for example, to have the first plot be on a linear scale while the second is on a logarithmic scale, we could do that:"
   ]
  },
  {
   "cell_type": "code",
   "execution_count": null,
   "id": "a9bb75ab-6e5d-4ecf-97f5-6adfd3aca46a",
   "metadata": {},
   "outputs": [],
   "source": [
    "fig, ax = plt.subplots()\n",
    "\n",
    "ax.plot(linear_sequence, color='green')\n",
    "\n",
    "ax2 = ax.twinx() ##Create a new, overlapping axis object.\n",
    "\n",
    "ax2.plot(exponential_sequence)\n",
    "\n",
    "ax.set_ylim(0,20)\n",
    "ax2.set_yscale('log')\n",
    "\n",
    "plt.show()"
   ]
  },
  {
   "cell_type": "markdown",
   "id": "689ec9f4-8204-4ed2-903a-559953cb1a67",
   "metadata": {},
   "source": [
    "### Bar Plots ###"
   ]
  },
  {
   "cell_type": "markdown",
   "id": "7cba5b16-be43-4e08-8970-80ec173b27aa",
   "metadata": {},
   "source": [
    "A bar plot is another extremely common type of plot in data visualization. To create one, we simply use the *bar* command when we plot:"
   ]
  },
  {
   "cell_type": "code",
   "execution_count": null,
   "id": "e09a93de-bf19-42ce-becc-d03679da1dd4",
   "metadata": {},
   "outputs": [],
   "source": [
    "x = ['A','B','C']\n",
    "y = [1,5,3]\n",
    "\n",
    "plt.bar(x,y)\n",
    "plt.show()"
   ]
  },
  {
   "cell_type": "markdown",
   "id": "d4d903e9-8d09-432a-b1c0-7630521c8593",
   "metadata": {},
   "source": [
    "Let's take a look at something a little more interesting than our own manual lists. To do this, we'll check out the [World Happiness Report 2021](https://www.kaggle.com/datasets/ajaypalsinghlo/world-happiness-report-2021) dataset from Kaggle. It has various \"scores\" for different factors that might impact human happiness, and we can easily plot their relationships as well as standalone features. The data is aggregated from the Gallop World Poll, which among other things tracks other issues such as food access, employment, and human well-being.\n",
    "\n",
    "Let's import the dataset and take a look at a bit of its contents:"
   ]
  },
  {
   "cell_type": "code",
   "execution_count": null,
   "id": "04d09153-64c3-42cc-9d2c-79f8eb708b95",
   "metadata": {},
   "outputs": [],
   "source": [
    "df = pd.read_csv('../Datasets/world-happiness-report-2021.csv')\n",
    "df.head()"
   ]
  },
  {
   "cell_type": "markdown",
   "id": "bd19a05a-da53-4218-a3a9-912325caf006",
   "metadata": {},
   "source": [
    "Let's take a look at \"Freedom to make life choices\" by the Regional indicator:"
   ]
  },
  {
   "cell_type": "code",
   "execution_count": null,
   "id": "3e08ca6f-431c-4cb5-ae31-07ae967dded7",
   "metadata": {},
   "outputs": [],
   "source": [
    "fig, ax = plt.subplots()\n",
    "ax.bar(df['Regional indicator'], df['Freedom to make life choices'], label = 'Freedom score')\n",
    "ax.legend()\n",
    "\n",
    "plt.show()"
   ]
  },
  {
   "cell_type": "markdown",
   "id": "1f7142bc-0487-475d-98c9-2639f56d18d7",
   "metadata": {},
   "source": [
    "Well that's ugly. How can we clean up those category labels? One way is we can rotate them:"
   ]
  },
  {
   "cell_type": "code",
   "execution_count": null,
   "id": "ba5b9310-4256-4225-b312-d25048174674",
   "metadata": {},
   "outputs": [],
   "source": [
    "fig, ax = plt.subplots()\n",
    "ax.bar(df['Regional indicator'], df['Freedom to make life choices'], label = 'Freedom score')\n",
    "ax.legend()\n",
    "\n",
    "plt.xticks(rotation = 90)\n",
    "plt.show()"
   ]
  },
  {
   "cell_type": "markdown",
   "id": "0f268dab-307b-4cef-8fcc-271b672b5bc3",
   "metadata": {},
   "source": [
    "Better!\n",
    "\n",
    "Well, it looks like most regions are pretty free. In fact, those numbers seem suspiciously high.\n",
    "\n",
    "Let's look into this data a bit more. One way we can do this is with the *describe* function:"
   ]
  },
  {
   "cell_type": "code",
   "execution_count": null,
   "id": "f250a5ea-3033-44fe-8855-3bc2b12109e3",
   "metadata": {},
   "outputs": [],
   "source": [
    "df['Freedom to make life choices'].describe()"
   ]
  },
  {
   "cell_type": "markdown",
   "id": "b4c9be3d-10c1-40a4-a93a-24a68e5996bd",
   "metadata": {},
   "source": [
    "So, the mean value is .79, but none of our bars is below .8? What gives?\n",
    "\n",
    "Well, let's take another look at our dataset:df.head()"
   ]
  },
  {
   "cell_type": "code",
   "execution_count": null,
   "id": "3d5fff6a-870d-4ca6-9aa0-2c3277298d33",
   "metadata": {},
   "outputs": [],
   "source": [
    "df.head()"
   ]
  },
  {
   "cell_type": "markdown",
   "id": "4fd0936d-7079-48fa-a879-da5c12b69dc5",
   "metadata": {},
   "source": [
    "There are multiple rows for each regional indicator. So, what our chart is doing is its plotting each country for a given region on top of the others! If there are, say, 7 countries is \"Western Europe\", then there are seven overlaid bar charts. What this means is we're really just plotting the **maximum** for each region. Probably not what we want. But, what do we want?\n",
    "\n",
    "One thing that could make sense is to plot the mean or the median for each individual region. We can do this by grouping the dataset by regional indicators, and the calculating the mean for each group:"
   ]
  },
  {
   "cell_type": "code",
   "execution_count": null,
   "id": "49026640-5c99-4468-a69a-740f5ca79531",
   "metadata": {},
   "outputs": [],
   "source": [
    "df_means = df[['Regional indicator','Freedom to make life choices']].groupby('Regional indicator').mean()\n",
    "df_means"
   ]
  },
  {
   "cell_type": "markdown",
   "id": "af8eb13a-3af4-496d-b704-4f93b3ee8357",
   "metadata": {},
   "source": [
    "This is the data we wanted to plot originally. Plotting this we get:"
   ]
  },
  {
   "cell_type": "code",
   "execution_count": null,
   "id": "4e4e4abe-d8e0-4aa6-b995-de4ee6be153a",
   "metadata": {},
   "outputs": [],
   "source": [
    "fig, ax = plt.subplots()\n",
    "ax.bar(df_means.index, df_means['Freedom to make life choices'], label = 'Freedom score')\n",
    "ax.legend()\n",
    "\n",
    "plt.xticks(rotation = 90)\n",
    "plt.show()"
   ]
  },
  {
   "cell_type": "markdown",
   "id": "0b7dd120-d36b-44a5-9876-ff9b7e7be10f",
   "metadata": {},
   "source": [
    "Suppose we also wanted to provide a line with the mean value over all countries. Well, we could do that with the *axhline* function."
   ]
  },
  {
   "cell_type": "code",
   "execution_count": null,
   "id": "082ca985-460d-4844-8823-12609bdb7e32",
   "metadata": {},
   "outputs": [],
   "source": [
    "mean = df['Freedom to make life choices'].mean()\n",
    "\n",
    "fig, ax = plt.subplots()\n",
    "ax.bar(df_means.index, df_means['Freedom to make life choices'], label = 'Freedom score')\n",
    "ax.axhline(mean, label='Overall Mean Freedom Score')\n",
    "ax.legend()\n",
    "\n",
    "plt.xticks(rotation = 90)\n",
    "plt.show()"
   ]
  },
  {
   "cell_type": "markdown",
   "id": "0dc63c9d-1acc-4414-8abf-aa792e00c73c",
   "metadata": {},
   "source": [
    "This is looking better. Not great, but better.\n",
    "\n",
    "Now, each of these bars is an aggregate. However, a lot of information can be hidden in an aggregate. For example, there might be one country that is much more free than all the others, and it drags the region up. Or, it might be that all countries in the region have a similar score. How could we get an indication of how spread out the data is?\n",
    "\n",
    "Well, one one we could do this is with the standard deviation, which is a measure of the average sum of square error. (We'll be hearing this term again.) We can add this to our bar plot using the 'yerr' parameter:"
   ]
  },
  {
   "cell_type": "code",
   "execution_count": null,
   "id": "66c131d0-0639-4666-9eb9-6b747c269c0f",
   "metadata": {},
   "outputs": [],
   "source": [
    "df_stds = df[['Regional indicator','Freedom to make life choices']].groupby('Regional indicator').std()\n",
    "\n",
    "fig, ax = plt.subplots()\n",
    "ax.bar(df_means.index, df_means['Freedom to make life choices'], label = 'Freedom score', yerr=df_stds['Freedom to make life choices'])\n",
    "ax.axhline(mean, label='Overall Mean Freedom Score')\n",
    "ax.legend()\n",
    "\n",
    "plt.xticks(rotation = 90)\n",
    "plt.show()"
   ]
  },
  {
   "cell_type": "markdown",
   "id": "7b9157cd-b80c-48e0-b26b-7a394cc35916",
   "metadata": {},
   "source": [
    "The differences here are stark - \"Southeast Asia\" doesn't have much deviation, while \"South Asia\" has a significant deviation.\n",
    "\n",
    "This plot is providing us with a decent amount of information! However, it's only got one color. If we wanted to change the color of our overall mean line and our bars to make it look better, we can do so:"
   ]
  },
  {
   "cell_type": "code",
   "execution_count": null,
   "id": "64545c19-ac51-4147-bf24-e1b5269a46a2",
   "metadata": {},
   "outputs": [],
   "source": [
    "fig, ax = plt.subplots()\n",
    "colors = ['blue','red']\n",
    "ax.bar(df_means.index, df_means['Freedom to make life choices'], label = 'Freedom score', yerr=df_stds['Freedom to make life choices'], color=colors)\n",
    "ax.axhline(mean, label='Overall Mean Freedom Score', color='green')\n",
    "ax.legend()\n",
    "\n",
    "plt.xticks(rotation = 90)\n",
    "plt.show()"
   ]
  },
  {
   "cell_type": "markdown",
   "id": "6e4efc73-9d08-497e-88f2-4b4b9fc597a2",
   "metadata": {},
   "source": [
    "While we only gave it an array of two colors, it cycles through these for the bars. If we'd given it more colors, it would use more. Whether this looks better is partly an aesthetic call, and I'm terrible with colors, so please feel free to improve on it."
   ]
  },
  {
   "cell_type": "markdown",
   "id": "d7d4f15a-bbf6-467e-9636-31cc1608d882",
   "metadata": {},
   "source": [
    "Finally, note that Matplotlib doesn't let us sort the order of the bars through its functions. It gets the data we give it, and it plots it in the order it's received. So, if we want to sort the data differently, we need to do the sorting before we sent it to Matplotlib.\n",
    "\n",
    "With Pandas, that's easy. Suppose we wanted to sort by the average freedom score per region. We could do so as follows:"
   ]
  },
  {
   "cell_type": "code",
   "execution_count": null,
   "id": "43c8a7dd-a1c6-4c6b-a87b-7c1607ce6761",
   "metadata": {},
   "outputs": [],
   "source": [
    "df_means.sort_values('Freedom to make life choices', inplace=True)\n",
    "\n",
    "fig, ax = plt.subplots()\n",
    "colors = ['blue','red']\n",
    "ax.bar(df_means.index, df_means['Freedom to make life choices'], label = 'Freedom score', yerr=df_stds['Freedom to make life choices'], color=colors)\n",
    "ax.axhline(mean, label='Overall Mean Freedom Score', color='green')\n",
    "ax.legend()\n",
    "\n",
    "plt.xticks(rotation = 90)\n",
    "plt.show()"
   ]
  },
  {
   "cell_type": "markdown",
   "id": "3e78be4c-8438-4d27-8b46-351f2a9258d0",
   "metadata": {},
   "source": [
    "That looks great! Except, there's a problem. Notice that while the order of the means has changed, the order of the standard deviations that we're using for the error bars has not. That's not good. We'd like to sort them both. How can we do this?\n",
    "\n",
    "Well, one way is to merge the two dataframes together, and **then** sort them. To do this, we want to merge both the left and right dataframes on their index columns, which means we need to set both right_index and left_index to \"True\":"
   ]
  },
  {
   "cell_type": "code",
   "execution_count": null,
   "id": "ab993899-a066-49d8-92e2-4fd78d62017d",
   "metadata": {},
   "outputs": [],
   "source": [
    "df_merged = pd.merge(df_means, df_stds, right_index=True, left_index=True)\n",
    "df_merged.columns = ['Freedom mean', 'Freedom std']\n",
    "df_merged"
   ]
  },
  {
   "cell_type": "markdown",
   "id": "4b66dd61-1859-4176-8365-35602c779404",
   "metadata": {},
   "source": [
    "Now, if we sort by \"Freedom mean\" we'll get:"
   ]
  },
  {
   "cell_type": "code",
   "execution_count": null,
   "id": "7e42b5e0-e8d4-4d3d-9adc-36ec8c1eddfe",
   "metadata": {},
   "outputs": [],
   "source": [
    "df_merged.sort_values('Freedom mean', inplace=True)\n",
    "df_merged"
   ]
  },
  {
   "cell_type": "markdown",
   "id": "6ff7a5f6-8a78-4d4d-b0e7-fdb42ecb5dbd",
   "metadata": {},
   "source": [
    "Using this to create our bar chart, we get:"
   ]
  },
  {
   "cell_type": "code",
   "execution_count": null,
   "id": "256b1431-59dd-4354-8986-ff54fa6533d7",
   "metadata": {},
   "outputs": [],
   "source": [
    "fig, ax = plt.subplots()\n",
    "colors = ['blue','red']\n",
    "ax.bar(df_merged.index, df_merged['Freedom mean'], label = 'Freedom score', yerr=df_merged['Freedom std'], color=colors)\n",
    "ax.axhline(mean, label='Overall Mean Freedom Score', color='green')\n",
    "ax.legend()\n",
    "\n",
    "plt.xticks(rotation = 90)\n",
    "plt.show()"
   ]
  },
  {
   "cell_type": "markdown",
   "id": "5eb7333b-61eb-43b9-bea6-a76d9fb633e5",
   "metadata": {},
   "source": [
    "That's better!"
   ]
  },
  {
   "cell_type": "markdown",
   "id": "0493e4fb-24c9-4eb7-9da5-233a41b704e2",
   "metadata": {},
   "source": [
    "### Scatter Plots ###"
   ]
  },
  {
   "cell_type": "markdown",
   "id": "38cc9a2b-8105-4cec-a2bf-b67cbc5c4de9",
   "metadata": {},
   "source": [
    "A scatter plot in a visualization between two numerical features that can be helpful in visualizing relationships and correlations. The **marks** on a scatter plot can also contain additional information if desired - for example in a bubble plot.\n",
    "\n",
    "Scatter plots are quite versatile and can be used with a wide range of datasets - so we'll use a few. We'll start with the [Ames Housing](https://www.kaggle.com/datasets/prevek18/ames-housing-dataset) dataset and visualize some correlations between features from it. The dataset contains 80 features that focus on the physical properties of houses in Ames, Iowa."
   ]
  },
  {
   "cell_type": "code",
   "execution_count": null,
   "id": "423fb5fb-145c-40af-aefb-100cd3f792a0",
   "metadata": {},
   "outputs": [],
   "source": [
    "df = pd.read_csv('../Datasets/AmesHousing.csv')\n",
    "df.head()"
   ]
  },
  {
   "cell_type": "markdown",
   "id": "633ba649-7cfa-4f99-8c62-a04c75f81f75",
   "metadata": {},
   "source": [
    "This dataset has lots of numeric features, and it makes sense if some features correlate with others. For example, the \"Lot Area\" almost certainly has a positive correlation with the \"SalePrice\". On the other hand, it's not totally clear whether the \"Roof Style\", for example, would correlate with \"SalePrice\".\n",
    "\n",
    "Let's check out a scatter plot for two variables - \"Gr Liv Area\", which refers to the living area above ground, and \"SalePrice\":"
   ]
  },
  {
   "cell_type": "code",
   "execution_count": null,
   "id": "24ab9076-a697-4f36-bdc8-4c1b2471a620",
   "metadata": {},
   "outputs": [],
   "source": [
    "fig, ax = plt.subplots()\n",
    "\n",
    "ax.scatter(df['Gr Liv Area'], df['SalePrice'])\n",
    "\n",
    "plt.xlabel('Living Area Above Ground')\n",
    "plt.ylabel('Sale Price')\n",
    "\n",
    "plt.show()"
   ]
  },
  {
   "cell_type": "markdown",
   "id": "8a5a8b65-0ac0-4ffc-af66-a8c7a75ff5e5",
   "metadata": {},
   "source": [
    "Note that if we wanted to specify the $x$ and $y$ coordinates for our scatter plot, we could do so explicitly, which can help clear up potential ambiguity.\n",
    "\n",
    "Looking at our scatter plot, we see there's a clear positive correlation between these two variables. Which makes sense.\n",
    "\n",
    "What if we'd like to know how, say, the area above ground correlates with the sale price, and the overall quality correlates with the sale price? Well, one way to do that would be with a 3D contour plot, but that would probably not be the right thing to use here, unless we were particularly interested in how area above ground and overall quality intersect.\n",
    "\n",
    "What we can do instead is just draw a couple plots on different axes:"
   ]
  },
  {
   "cell_type": "code",
   "execution_count": null,
   "id": "e627feb9-3fca-493b-96c1-a39b0805bf88",
   "metadata": {},
   "outputs": [],
   "source": [
    "fig, ax = plt.subplots(2, figsize=(10,6))\n",
    "\n",
    "ax[0].scatter(x = df['Gr Liv Area'], y = df['SalePrice'])\n",
    "ax[0].set_xlabel(\"Living Area Above Ground\")\n",
    "ax[0].set_ylabel(\"House Price\")\n",
    "\n",
    "ax[1].scatter(x = df['Overall Qual'], y = df['SalePrice'])\n",
    "ax[1].set_xlabel(\"Overall Quality\")\n",
    "ax[1].set_ylabel(\"House Price\")\n",
    "\n",
    "plt.show()"
   ]
  },
  {
   "cell_type": "markdown",
   "id": "f24d69dd-ac5e-4e48-be14-6cb608a9f668",
   "metadata": {},
   "source": [
    "All those dots in the \"Overall Quality\" plat make it look like a bunch of solid lines. In this situation, it might be better to use horizontal lines instead of dots:"
   ]
  },
  {
   "cell_type": "code",
   "execution_count": null,
   "id": "42154bcc-ec39-4692-a9ed-4b24b72f2993",
   "metadata": {},
   "outputs": [],
   "source": [
    "fig, ax = plt.subplots(2, figsize=(10,6))\n",
    "\n",
    "ax[0].scatter(x = df['Gr Liv Area'], y = df['SalePrice'])\n",
    "ax[0].set_xlabel(\"Living Area Above Ground\")\n",
    "ax[0].set_ylabel(\"House Price\")\n",
    "\n",
    "ax[1].scatter(x = df['Overall Qual'], y = df['SalePrice'], marker = '_') #Use a different, shorter marker.\n",
    "ax[1].set_xlabel(\"Overall Quality\")\n",
    "ax[1].set_ylabel(\"House Price\")\n",
    "\n",
    "plt.show()"
   ]
  },
  {
   "cell_type": "markdown",
   "id": "32ba5b22-f577-4f68-a05e-2fc9df075598",
   "metadata": {},
   "source": [
    "Right now, each marker only conveys information through its position. What a waste! We can use other attributes of each marker - like size, shape, and color - to convey additional information. For example, suppose we wanted to indicate the \"Sale Condition\" of a house in our second scatter plot above. We could do that through colors:"
   ]
  },
  {
   "cell_type": "code",
   "execution_count": null,
   "id": "6f14d713-c3b9-402d-ad77-4c140950537b",
   "metadata": {},
   "outputs": [],
   "source": [
    "#Using HTML specified colors.\n",
    "colors = {'Normal' : '#db5f57', \n",
    "          'Abnorml' : '#d3db57', \n",
    "          'Family' : '#57db5f', \n",
    "          'Partial' : '#57d3db', \n",
    "          'Alloca' : '#5f57db', \n",
    "          'AdjLand' : '#db57d3'}"
   ]
  },
  {
   "cell_type": "code",
   "execution_count": null,
   "id": "897f7cec-b834-44b0-8b84-334193ab8416",
   "metadata": {},
   "outputs": [],
   "source": [
    "fig, ax = plt.subplots(figsize=(10,6))\n",
    "\n",
    "ax.scatter(x = df['Overall Qual'], y = df['SalePrice'], marker = '_', \n",
    "           color=df['Sale Condition'].apply(lambda x: colors[x])) #Apply the specified colors.\n",
    "ax.set_xlabel(\"Overall Quality\")\n",
    "ax.set_ylabel(\"House Price\")\n",
    "\n",
    "plt.show()"
   ]
  },
  {
   "cell_type": "markdown",
   "id": "d750db2c-5f58-4af7-a85e-b6fba92aca42",
   "metadata": {},
   "source": [
    "There does seem to be some correlation in the color here - there are more blue-coded houses in the higher-quality section of the market. Naturally, these sell for a higher price in general. The blue color maps to a *Partial* sale condition. This might imply that house-owners fix up houses with high-quality materials, and then sell parts of the house as smaller standalone units, similar to apartments. Maybe."
   ]
  },
  {
   "cell_type": "markdown",
   "id": "cf15216b-e3c8-43a3-918b-226e0a0d4c4e",
   "metadata": {},
   "source": [
    "Another way we can use marks to convey data is through their *size*. Manipulating the size of a scatter plot marker can create a type of plot knows as a *bubble plot*.\n",
    "\n",
    "If you want to scale the size of your markers by another variable, you'll want to do so with a numerical variables since you'll be passing those variables as the size argument. You also (probably) want to make sure there's not huge variance in your values - otherwise the big ones will totally dominate the plot."
   ]
  },
  {
   "cell_type": "markdown",
   "id": "4cec8452-c980-41ab-bbb4-0e16279ed128",
   "metadata": {},
   "source": [
    "Let's explore a bubble plot using the World Happiness Dataset, which is similar to the 2021 report we looked at earlier, but includes a \"Happiness Score\"."
   ]
  },
  {
   "cell_type": "code",
   "execution_count": null,
   "id": "4c88b9ea-3d15-403b-a2a1-681d6335cad1",
   "metadata": {},
   "outputs": [],
   "source": [
    "df = pd.read_csv('../Datasets/worldHappiness2019.csv')\n",
    "df.head()"
   ]
  },
  {
   "cell_type": "markdown",
   "id": "8786e645-fe81-4537-b449-bfd957dc6c15",
   "metadata": {},
   "source": [
    "Let's look at how the GDP per capita plots against the generosity scores:"
   ]
  },
  {
   "cell_type": "code",
   "execution_count": null,
   "id": "7c0e4aba-c0a8-4d09-8470-b9049f12fc61",
   "metadata": {},
   "outputs": [],
   "source": [
    "fix, ax = plt.subplots(figsize=(10,6))\n",
    "ax.scatter(x = df['GDP per capita'], y = df['Generosity'])\n",
    "plt.xlabel('GDP per Capita')\n",
    "plt.ylabel('Generosity Score')\n",
    "\n",
    "plt.show()"
   ]
  },
  {
   "cell_type": "markdown",
   "id": "fd276191-ab67-4854-86cb-9f11f1d168b9",
   "metadata": {},
   "source": [
    "Surprisingly not much correlation here at all. If anything, richer countries might be *less* generous."
   ]
  },
  {
   "cell_type": "markdown",
   "id": "bb51a82e-1e81-43bf-9c58-014879a6fe53",
   "metadata": {},
   "source": [
    "Let's now modify the size of each market based on a third variable - the perceived *Happiness* of the inhabitants of that country."
   ]
  },
  {
   "cell_type": "code",
   "execution_count": null,
   "id": "0a798e56-122a-4c42-9143-a462a6740f4d",
   "metadata": {},
   "outputs": [],
   "source": [
    "fig, ax = plt.subplots(figsize=(10,6))\n",
    "\n",
    "ax.scatter(x = df['GDP per capita'], y = df['Generosity'], s = df['Score'])\n",
    "plt.xlabel('GDP per capita')\n",
    "plt.ylabel('Generosity Score')\n",
    "\n",
    "plt.show()"
   ]
  },
  {
   "cell_type": "markdown",
   "id": "a2ad038a-3f88-41d7-a570-777329be9363",
   "metadata": {},
   "source": [
    "Those marks are too small. Let's scale them by 25:"
   ]
  },
  {
   "cell_type": "code",
   "execution_count": null,
   "id": "1b7b46c1-d0b0-49b2-9af8-986f45ed2fb8",
   "metadata": {},
   "outputs": [],
   "source": [
    "fig, ax = plt.subplots(figsize=(10,6))\n",
    "\n",
    "ax.scatter(x = df['GDP per capita'], y = df['Generosity'], s = df['Score']*25)\n",
    "plt.xlabel('GDP per capita')\n",
    "plt.ylabel('Generosity Score')\n",
    "\n",
    "plt.show()"
   ]
  },
  {
   "cell_type": "markdown",
   "id": "1a1e04ea-db9f-4d99-9fae-f207c172e098",
   "metadata": {},
   "source": [
    "Well, that didn't help much.\n",
    "\n",
    "Let's change this up by creating a new list, based on the values of the Happiness Score feature, but introduce an exponent. We'll multiply the score first, and then raise it to a power of 2. This introduces us to a non-linear growth pattern. Really small values will get smaller, while higher values will get bigger."
   ]
  },
  {
   "cell_type": "code",
   "execution_count": null,
   "id": "8f276c02-f8b8-4eae-85f2-f280e50b0575",
   "metadata": {},
   "outputs": [],
   "source": [
    "size = df['Score'].to_numpy() #Converts the dataframe column to a numpy array\n",
    "s = [3*s**2 for s in size]"
   ]
  },
  {
   "cell_type": "markdown",
   "id": "accd1c1b-0f66-4f32-af20-c4add125853f",
   "metadata": {},
   "source": [
    "While this may seem excessive, keep in mind that the size of each market is its area. This means that to double the height/width of a market, you have to multiply s by 4. This mechanic is actually exactl ythe reason we can use this approach to scaling sizes in bubble plots."
   ]
  },
  {
   "cell_type": "code",
   "execution_count": null,
   "id": "2777aae3-7e39-4b5f-9605-99d9d5153df4",
   "metadata": {},
   "outputs": [],
   "source": [
    "fig, ax = plt.subplots(figsize=(10,6))\n",
    "\n",
    "ax.scatter(x = df['GDP per capita'], y = df['Generosity'], s = s)\n",
    "plt.xlabel('GDP per capita')\n",
    "plt.ylabel('Generosity Score')\n",
    "\n",
    "plt.show()"
   ]
  },
  {
   "cell_type": "markdown",
   "id": "824a1f2d-3afd-4dcf-9d4d-5b01cabdc928",
   "metadata": {},
   "source": [
    "With this we can see a bit more signal in this data. It appears that, while richer countries aren't necessarily more generous, they do tend to be happier. Not sure I like what that says about humanity."
   ]
  },
  {
   "cell_type": "markdown",
   "id": "a2c21887-e917-4927-bf9d-bd5247d4427c",
   "metadata": {},
   "source": [
    "We've only scratched the surface of data visualization here. There are literally entire graduate courses on the subject, but this should give at least an intro to some of the visualizations we'll be using throughout this course."
   ]
  }
 ],
 "metadata": {
  "kernelspec": {
   "display_name": "anaconda-panel-2023.05-py310",
   "language": "python",
   "name": "conda-env-anaconda-panel-2023.05-py310-py"
  },
  "language_info": {
   "codemirror_mode": {
    "name": "ipython",
    "version": 3
   },
   "file_extension": ".py",
   "mimetype": "text/x-python",
   "name": "python",
   "nbconvert_exporter": "python",
   "pygments_lexer": "ipython3",
   "version": "3.11.4"
  }
 },
 "nbformat": 4,
 "nbformat_minor": 5
}

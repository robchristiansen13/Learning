{
 "cells": [
  {
   "cell_type": "markdown",
   "id": "72f6b73c-dec0-4013-977a-749c05a64f4e",
   "metadata": {},
   "source": [
    "# CS-6570 Lecture 9 - Variable Selection for Linear Models\n",
    "\n",
    "**Dylan Zwick**\n",
    "\n",
    "*Weber State University*"
   ]
  },
  {
   "cell_type": "markdown",
   "id": "db0ede37-5405-4fce-adfd-fd050983e37f",
   "metadata": {},
   "source": [
    "In our last class, we discussed how in the regression setting, the standard linear model:\n",
    "\n",
    "&nbsp;\n",
    "<center>\n",
    "    $Y = \\beta_{0} + \\beta_{1}X_{1} + \\cdots + \\beta_{p}X_{p} + \\epsilon$\n",
    "</center>\n",
    "&nbsp;\n",
    "\n",
    "in used to attempt to describe the relationship between a response $Y$ and a set of variables $X_{1},X_{2},\\ldots,X_{p}$. The approach taken is to find the values of $\\beta_{0},\\beta_{1},\\ldots,\\beta_{p}$ that minimize the residual sum of squares:\n",
    "\n",
    "\n",
    "&nbsp;\n",
    "<center>\n",
    "    $\\displaystyle RSS = \\sum_{i = 1}^{n}(y_{i} - \\hat{y}_{i})^{2}$\n",
    "</center>\n",
    "&nbsp;\n",
    "<center>\n",
    "    $\\displaystyle \\hat{y}_{i} = \\beta_{0} + \\beta_{1}x_{i1} + \\cdots + \\beta_{p}x_{ip}$\n",
    "</center>\n",
    "&nbsp;\n",
    "\n",
    "Not unusually, and with growing frequency, for real-world applications there are a lot of potential inputs to a model. If you were to attempt to build a predictive model for, say, the S&P 500, some potential inputs could be the history of every single stock on the market, the currency exchange rates throughout the world, government employment numbers, weather patterns, television viewership figures - you name it! Any and all of these inputs might potentially have some impact on the movement of the index.\n",
    "\n",
    "You might be tempted to throw all these variables into your model and see what you can predict. However, you'll quickly run into two issues:\n",
    "\n",
    "- _Model Interpretability_ - If you want to try to understand why and how your model is predicting the way it is, the more input variables you have, the more complicated, convoluted, and contrived your explanation will become.\n",
    "\n",
    "- _Prediction Accuracy_ - This is even worse. With more variables, your model may start to overfit the data you use to build your model - doing well on data it's seen before, but poorly on the new data that you really want to predict.\n",
    "\n",
    "Unfortunately, the metrics we use to gauge the fit of a regression model, RSS and its scaled counterpart $R^{2}$, offer no help for this problem. When we add more variables to our model, RSS will _always_ decrease, and the $R^{2}$ value will _always_ increase, at least on the data we're using to build the model (frequently known as the training data)."
   ]
  },
  {
   "cell_type": "markdown",
   "id": "7a8d1594-d041-477b-89c5-8bcd7aee4770",
   "metadata": {},
   "source": [
    "Let's take a look at this issue in the context of an example, but first let's import our standard libraries."
   ]
  },
  {
   "cell_type": "code",
   "execution_count": 4,
   "id": "66c190c6-c2cc-45a0-a86c-172fcd0eafb6",
   "metadata": {},
   "outputs": [],
   "source": [
    "import numpy as np\n",
    "import pandas as pd\n",
    "import matplotlib.pyplot as plt"
   ]
  },
  {
   "cell_type": "markdown",
   "id": "3c678ef8-9295-4cd4-a39a-74354db1f02e",
   "metadata": {},
   "source": [
    "The dataset we'll use is some *simulated* credit data from the book *An Introduction to Statistical Learning* with Python (although the R book uses the same dataset). You can find the book [here](https://www.statlearning.com/), and the dataset [here](https://www.statlearning.com/resources-python)."
   ]
  },
  {
   "cell_type": "code",
   "execution_count": 6,
   "id": "ecca303a-51ce-43a0-890c-c51b1eb2240d",
   "metadata": {},
   "outputs": [
    {
     "data": {
      "text/plain": [
       "'/home/e930b992-a9bf-43e9-98f5-95aaaf79bdea/CS-6570/Lecture Notes'"
      ]
     },
     "execution_count": 6,
     "metadata": {},
     "output_type": "execute_result"
    }
   ],
   "source": [
    "import os\n",
    "os.getcwd()"
   ]
  },
  {
   "cell_type": "code",
   "execution_count": 7,
   "id": "1d11be84-a69c-4b36-9187-7001996c27f8",
   "metadata": {},
   "outputs": [],
   "source": [
    "os.chdir(os.getcwd() + '/Lecture 9')"
   ]
  },
  {
   "cell_type": "code",
   "execution_count": 8,
   "id": "df573e58-9b17-41c8-b8be-b438754ec4b9",
   "metadata": {},
   "outputs": [
    {
     "data": {
      "text/html": [
       "<div>\n",
       "<style scoped>\n",
       "    .dataframe tbody tr th:only-of-type {\n",
       "        vertical-align: middle;\n",
       "    }\n",
       "\n",
       "    .dataframe tbody tr th {\n",
       "        vertical-align: top;\n",
       "    }\n",
       "\n",
       "    .dataframe thead th {\n",
       "        text-align: right;\n",
       "    }\n",
       "</style>\n",
       "<table border=\"1\" class=\"dataframe\">\n",
       "  <thead>\n",
       "    <tr style=\"text-align: right;\">\n",
       "      <th></th>\n",
       "      <th>Income</th>\n",
       "      <th>Limit</th>\n",
       "      <th>Rating</th>\n",
       "      <th>Cards</th>\n",
       "      <th>Age</th>\n",
       "      <th>Education</th>\n",
       "      <th>Own</th>\n",
       "      <th>Student</th>\n",
       "      <th>Married</th>\n",
       "      <th>Region</th>\n",
       "      <th>Balance</th>\n",
       "    </tr>\n",
       "  </thead>\n",
       "  <tbody>\n",
       "    <tr>\n",
       "      <th>0</th>\n",
       "      <td>14.891</td>\n",
       "      <td>3606</td>\n",
       "      <td>283</td>\n",
       "      <td>2</td>\n",
       "      <td>34</td>\n",
       "      <td>11</td>\n",
       "      <td>No</td>\n",
       "      <td>No</td>\n",
       "      <td>Yes</td>\n",
       "      <td>South</td>\n",
       "      <td>333</td>\n",
       "    </tr>\n",
       "    <tr>\n",
       "      <th>1</th>\n",
       "      <td>106.025</td>\n",
       "      <td>6645</td>\n",
       "      <td>483</td>\n",
       "      <td>3</td>\n",
       "      <td>82</td>\n",
       "      <td>15</td>\n",
       "      <td>Yes</td>\n",
       "      <td>Yes</td>\n",
       "      <td>Yes</td>\n",
       "      <td>West</td>\n",
       "      <td>903</td>\n",
       "    </tr>\n",
       "    <tr>\n",
       "      <th>2</th>\n",
       "      <td>104.593</td>\n",
       "      <td>7075</td>\n",
       "      <td>514</td>\n",
       "      <td>4</td>\n",
       "      <td>71</td>\n",
       "      <td>11</td>\n",
       "      <td>No</td>\n",
       "      <td>No</td>\n",
       "      <td>No</td>\n",
       "      <td>West</td>\n",
       "      <td>580</td>\n",
       "    </tr>\n",
       "    <tr>\n",
       "      <th>3</th>\n",
       "      <td>148.924</td>\n",
       "      <td>9504</td>\n",
       "      <td>681</td>\n",
       "      <td>3</td>\n",
       "      <td>36</td>\n",
       "      <td>11</td>\n",
       "      <td>Yes</td>\n",
       "      <td>No</td>\n",
       "      <td>No</td>\n",
       "      <td>West</td>\n",
       "      <td>964</td>\n",
       "    </tr>\n",
       "    <tr>\n",
       "      <th>4</th>\n",
       "      <td>55.882</td>\n",
       "      <td>4897</td>\n",
       "      <td>357</td>\n",
       "      <td>2</td>\n",
       "      <td>68</td>\n",
       "      <td>16</td>\n",
       "      <td>No</td>\n",
       "      <td>No</td>\n",
       "      <td>Yes</td>\n",
       "      <td>South</td>\n",
       "      <td>331</td>\n",
       "    </tr>\n",
       "  </tbody>\n",
       "</table>\n",
       "</div>"
      ],
      "text/plain": [
       "    Income  Limit  Rating  Cards  Age  Education  Own Student Married Region  \\\n",
       "0   14.891   3606     283      2   34         11   No      No     Yes  South   \n",
       "1  106.025   6645     483      3   82         15  Yes     Yes     Yes   West   \n",
       "2  104.593   7075     514      4   71         11   No      No      No   West   \n",
       "3  148.924   9504     681      3   36         11  Yes      No      No   West   \n",
       "4   55.882   4897     357      2   68         16   No      No     Yes  South   \n",
       "\n",
       "   Balance  \n",
       "0      333  \n",
       "1      903  \n",
       "2      580  \n",
       "3      964  \n",
       "4      331  "
      ]
     },
     "execution_count": 8,
     "metadata": {},
     "output_type": "execute_result"
    }
   ],
   "source": [
    "credit = pd.read_csv('Credit.csv')\n",
    "\n",
    "credit.head()"
   ]
  },
  {
   "cell_type": "markdown",
   "id": "d406c9ec-2f8e-4d00-b847-ac1a3c15a801",
   "metadata": {},
   "source": [
    "Let's use the data here to try to predict the credit card balance of the \"people\" in this dataset. We'll want to change the \"Own\", \"Student\", and \"Married\" variables into binary numeric indicators. The \"Region\" variable has four categorical values, which presents a complication. We'll talk about ways we can use categorical variables in a later class, but today we'll just do the easy thing and not use that variable."
   ]
  },
  {
   "cell_type": "code",
   "execution_count": 10,
   "id": "12f95db0-b64c-4225-a605-78cb2271ff5e",
   "metadata": {},
   "outputs": [
    {
     "data": {
      "text/html": [
       "<div>\n",
       "<style scoped>\n",
       "    .dataframe tbody tr th:only-of-type {\n",
       "        vertical-align: middle;\n",
       "    }\n",
       "\n",
       "    .dataframe tbody tr th {\n",
       "        vertical-align: top;\n",
       "    }\n",
       "\n",
       "    .dataframe thead th {\n",
       "        text-align: right;\n",
       "    }\n",
       "</style>\n",
       "<table border=\"1\" class=\"dataframe\">\n",
       "  <thead>\n",
       "    <tr style=\"text-align: right;\">\n",
       "      <th></th>\n",
       "      <th>Income</th>\n",
       "      <th>Limit</th>\n",
       "      <th>Rating</th>\n",
       "      <th>Cards</th>\n",
       "      <th>Age</th>\n",
       "      <th>Education</th>\n",
       "      <th>Own</th>\n",
       "      <th>Student</th>\n",
       "      <th>Married</th>\n",
       "      <th>Region</th>\n",
       "      <th>Balance</th>\n",
       "    </tr>\n",
       "  </thead>\n",
       "  <tbody>\n",
       "    <tr>\n",
       "      <th>0</th>\n",
       "      <td>14.891</td>\n",
       "      <td>3606</td>\n",
       "      <td>283</td>\n",
       "      <td>2</td>\n",
       "      <td>34</td>\n",
       "      <td>11</td>\n",
       "      <td>0</td>\n",
       "      <td>0</td>\n",
       "      <td>1</td>\n",
       "      <td>South</td>\n",
       "      <td>333</td>\n",
       "    </tr>\n",
       "    <tr>\n",
       "      <th>1</th>\n",
       "      <td>106.025</td>\n",
       "      <td>6645</td>\n",
       "      <td>483</td>\n",
       "      <td>3</td>\n",
       "      <td>82</td>\n",
       "      <td>15</td>\n",
       "      <td>1</td>\n",
       "      <td>1</td>\n",
       "      <td>1</td>\n",
       "      <td>West</td>\n",
       "      <td>903</td>\n",
       "    </tr>\n",
       "    <tr>\n",
       "      <th>2</th>\n",
       "      <td>104.593</td>\n",
       "      <td>7075</td>\n",
       "      <td>514</td>\n",
       "      <td>4</td>\n",
       "      <td>71</td>\n",
       "      <td>11</td>\n",
       "      <td>0</td>\n",
       "      <td>0</td>\n",
       "      <td>0</td>\n",
       "      <td>West</td>\n",
       "      <td>580</td>\n",
       "    </tr>\n",
       "    <tr>\n",
       "      <th>3</th>\n",
       "      <td>148.924</td>\n",
       "      <td>9504</td>\n",
       "      <td>681</td>\n",
       "      <td>3</td>\n",
       "      <td>36</td>\n",
       "      <td>11</td>\n",
       "      <td>1</td>\n",
       "      <td>0</td>\n",
       "      <td>0</td>\n",
       "      <td>West</td>\n",
       "      <td>964</td>\n",
       "    </tr>\n",
       "    <tr>\n",
       "      <th>4</th>\n",
       "      <td>55.882</td>\n",
       "      <td>4897</td>\n",
       "      <td>357</td>\n",
       "      <td>2</td>\n",
       "      <td>68</td>\n",
       "      <td>16</td>\n",
       "      <td>0</td>\n",
       "      <td>0</td>\n",
       "      <td>1</td>\n",
       "      <td>South</td>\n",
       "      <td>331</td>\n",
       "    </tr>\n",
       "  </tbody>\n",
       "</table>\n",
       "</div>"
      ],
      "text/plain": [
       "    Income  Limit  Rating  Cards  Age  Education  Own  Student  Married  \\\n",
       "0   14.891   3606     283      2   34         11    0        0        1   \n",
       "1  106.025   6645     483      3   82         15    1        1        1   \n",
       "2  104.593   7075     514      4   71         11    0        0        0   \n",
       "3  148.924   9504     681      3   36         11    1        0        0   \n",
       "4   55.882   4897     357      2   68         16    0        0        1   \n",
       "\n",
       "  Region  Balance  \n",
       "0  South      333  \n",
       "1   West      903  \n",
       "2   West      580  \n",
       "3   West      964  \n",
       "4  South      331  "
      ]
     },
     "execution_count": 10,
     "metadata": {},
     "output_type": "execute_result"
    }
   ],
   "source": [
    "#Define the variables we'll be using for predictions.\n",
    "predictors = ['Income', 'Limit', 'Rating', 'Cards', 'Age', 'Education', 'Own', 'Student', 'Married']\n",
    "#Define the variable we'll be predicting.\n",
    "target = 'Balance'\n",
    "\n",
    "#Translate the Yes/No variables into binary 1/0 variables.\n",
    "credit['Own'] = credit['Own'].map({'No':0,'Yes':1})\n",
    "credit['Student'] = credit['Student'].map({'No':0,'Yes':1})\n",
    "credit['Married'] = credit['Married'].map({'No':0,'Yes':1})\n",
    "\n",
    "credit.head()"
   ]
  },
  {
   "cell_type": "code",
   "execution_count": 11,
   "id": "71fbf167-b97f-4687-b32e-f9dda4fb08aa",
   "metadata": {},
   "outputs": [
    {
     "name": "stdout",
     "output_type": "stream",
     "text": [
      "For predictors ['Income'] \n",
      " the r-squared value is 0.21497731013240495\n",
      "\n",
      "For predictors ['Income', 'Limit'] \n",
      " the r-squared value is 0.8711069068154775\n",
      "\n",
      "For predictors ['Income', 'Limit', 'Rating'] \n",
      " the r-squared value is 0.8762389456262863\n",
      "\n",
      "For predictors ['Income', 'Limit', 'Rating', 'Cards'] \n",
      " the r-squared value is 0.8769925315982247\n",
      "\n",
      "For predictors ['Income', 'Limit', 'Rating', 'Cards', 'Age'] \n",
      " the r-squared value is 0.8780622591439674\n",
      "\n",
      "For predictors ['Income', 'Limit', 'Rating', 'Cards', 'Age', 'Education'] \n",
      " the r-squared value is 0.878245293186235\n",
      "\n",
      "For predictors ['Income', 'Limit', 'Rating', 'Cards', 'Age', 'Education', 'Own'] \n",
      " the r-squared value is 0.8782624096046839\n",
      "\n",
      "For predictors ['Income', 'Limit', 'Rating', 'Cards', 'Age', 'Education', 'Own', 'Student'] \n",
      " the r-squared value is 0.954880680193512\n",
      "\n",
      "For predictors ['Income', 'Limit', 'Rating', 'Cards', 'Age', 'Education', 'Own', 'Student', 'Married'] \n",
      " the r-squared value is 0.954934571882831\n",
      "\n"
     ]
    }
   ],
   "source": [
    "from sklearn import linear_model\n",
    "regr = linear_model.LinearRegression()\n",
    "\n",
    "X = credit[predictors].to_numpy()\n",
    "y = credit[target].to_numpy()\n",
    "\n",
    "for n in range(len(predictors)):\n",
    "    X = credit[predictors[0:n+1]].to_numpy()\n",
    "    regr.fit(X,y)\n",
    "    print(\"For predictors {} \\n the r-squared value is {}\\n\".format(predictors[0:n+1],regr.score(X,y)))"
   ]
  },
  {
   "cell_type": "markdown",
   "id": "7f2200e3-2f6f-401f-94d5-26feca5b1906",
   "metadata": {},
   "source": [
    "OK, so if RSS and $R^{2}$ won't allow us to differentiate among potential models - how should we do it? Well, there are a few statistical measures that do take into account the size of our model and penalize larger models. Some of these are:\n",
    "\n",
    "**Mallow's Cp**\n",
    "\n",
    "Named after Colin Lingwood Mallows it is defined as:\n",
    "\n",
    "&nbsp;\n",
    "<center>\n",
    "    $\\displaystyle C_{p} = \\frac{1}{n}\\left(RSS + 2d\\hat{\\sigma}^{2}\\right)$\n",
    "</center>\n",
    "&nbsp;\n",
    "\n",
    "where $\\hat{\\sigma}^2$ is an estimate of the variance of the error ϵ associated with each response measurement. Typically σ^2 is estimated using the full model containing all predictors.\n",
    "\n",
    "&nbsp;\n",
    "<center>\n",
    "    $\\displaystyle \\hat{\\sigma}^{2} = \\frac{RSS}{n-p-1}$\n",
    "</center>\n",
    "&nbsp;\n",
    "\n",
    "where $p$ is the number of predictors.\n",
    "\n",
    "**Bayesian Information Criterion (BIC)**\n",
    "\n",
    "BIC is derived from a Bayesian point of view, and looks similar to Mallow's $C_{p}$. It is defined (up to irrelevant constants) as:\n",
    "\n",
    "&nbsp;\n",
    "<center>\n",
    "    $\\displaystyle BIC = \\frac{1}{n}\\left(RSS + \\log{(n)}d\\hat{\\sigma}^{2}\\right)$\n",
    "</center>\n",
    "&nbsp;\n",
    "\n",
    "Like $C_{p}$, the BIC will tend to take small values for a model with low test error.\n",
    "\n",
    "**Adjusted $R^{2}$**\n",
    "\n",
    "Since the $R^{2}$ always increases as more variables are added, the adjusted $R^{2}$ accounts for that fact and introduces a penalty. The intuition is that once all the correct variables have been included in the model, additional noise variables will lead to a very small decrase in RSS, but an increase in k and hence will decrease the adjusted $R^{2}$. In effect, we pay a price for the inclusion of unnecessary variables in the model.\n",
    "\n",
    "&nbsp;\n",
    "<center>\n",
    "    $\\displaystyle R^{2}_{a} = 1-\\frac{RSS/(n-k-1)}{TSS/n-1}$\n",
    "</center>\n",
    "&nbsp;\n",
    "\n",
    "$C_{p}$ and $BIC$ have rigorous theoretical justification that rely on asymptotic arguments, i.e. when the sample size $n$ grows very large, they become precise, whereas the adjusted $R^{2}$, although quite intuitive, is not as well motivated in statistical theory. However... it works."
   ]
  },
  {
   "cell_type": "markdown",
   "id": "0d4e92be-beb0-4c49-bb09-85409f54faba",
   "metadata": {},
   "source": [
    "Based on these measures, how can we then determine an optimal subset of predictor variables to use? Well, generally speaking, there are three approaches:\n",
    "\n",
    "- Check *all* the possible subsets for the best option.\n",
    "- Find the best possibility with 1 predictor, and then add on the best possible second predictor based on this first predictor, and so on. This is called forward stepwise selection.\n",
    "- Find the best possibility with all predictors, and then subtract the least importand predictor based on the model with all predictors, and so on. THis is called backward stepwise selection."
   ]
  },
  {
   "cell_type": "markdown",
   "id": "9a4135ab-c015-4dd1-a861-448d98ad5133",
   "metadata": {},
   "source": [
    "**Best Subset Selection**\n",
    "To perform best subset selection, we fit separate models for each possible combination of the $n$ predictors and then select the best subset. That is we fit:\n",
    "\n",
    "- All models that contains exactly one predictor\n",
    "- All models that contain 2 predictors at the second step: $n \\choose{2}$\n",
    "- Until reaching the end point where all $n$ predictors are included in the model\n",
    "\n",
    "This results in $2^{n}$ possibilities. In our case there are $2^{9} = 512$ possible combinations\n",
    "\n",
    "_Algorithm_\n",
    "\n",
    "- Let $M_{0}$ denote the null model which contains no predictors, this model simply predicts the sample mean of each observation\n",
    "\n",
    "- For $k=1,2,...,n$\n",
    "    - Fit all $n \\choose k$ models that contain exactly k predictors\n",
    "    - Pick the best among these $n \\choose k$ models, and call it $M_{k}$. Here the best is having the smallest $RSS$, or an equivalent measure.\n",
    " mo\n",
    "- Select the single best model among $M_{0},M_{1},...,M_{n}$ using $C_{p}$, $BIC$, adjusted $R^{2}$ or any other method."
   ]
  },
  {
   "cell_type": "markdown",
   "id": "1d0d3374-b3f0-43ec-a1ab-5e491b91df54",
   "metadata": {},
   "source": [
    "We can check out this method in Python using the _itertools_ module, but first, let's define a helper function for telling us the $RSS$ and $R^{2}$ values for a given regression model."
   ]
  },
  {
   "cell_type": "code",
   "execution_count": 16,
   "id": "13aa33a8-3a5f-4d38-b779-f0053fa8f8ba",
   "metadata": {},
   "outputs": [],
   "source": [
    "def fit_linear_reg(X,Y):\n",
    "    #Fit linear regression model and return RSS and R squared values\n",
    "    model_k = linear_model.LinearRegression()\n",
    "    model_k.fit(X,Y)\n",
    "    RSS = mean_squared_error(Y,model_k.predict(X)) * len(Y)\n",
    "    R_squared = model_k.score(X,Y)\n",
    "    return RSS, R_squared"
   ]
  },
  {
   "cell_type": "markdown",
   "id": "31fbcf98-e9cf-4ca5-990e-e31470157130",
   "metadata": {},
   "source": [
    "Now, we can run through this process for our $9$ variables."
   ]
  },
  {
   "cell_type": "code",
   "execution_count": 18,
   "id": "6d6a5b84-3d1d-43c2-b98a-23f0c8271326",
   "metadata": {},
   "outputs": [],
   "source": [
    "import itertools\n",
    "from sklearn.metrics import mean_squared_error\n",
    "\n",
    "#Initialization variables\n",
    "Y = credit[target]\n",
    "X = credit[predictors]\n",
    "\n",
    "RSS_list, R_squared_list, feature_list = [],[], []\n",
    "numb_features = []\n",
    "\n",
    "#Looping over the features in X\n",
    "for k in range(1,len(X.columns) + 1):\n",
    "    #Looping over all possible combinations: from 9 choose k\n",
    "    for combo in itertools.combinations(X.columns,k):\n",
    "        tmp_result = fit_linear_reg(X[list(combo)],Y)   #Store temp result \n",
    "        RSS_list.append(tmp_result[0])                  #Append lists\n",
    "        R_squared_list.append(tmp_result[1])\n",
    "        feature_list.append(combo)\n",
    "        numb_features.append(len(combo))   \n",
    "\n",
    "#Store in DataFrame\n",
    "df = pd.DataFrame({'numb_features': numb_features,'RSS': RSS_list, 'R_squared':R_squared_list,'features':feature_list})"
   ]
  },
  {
   "cell_type": "code",
   "execution_count": 19,
   "id": "0a2a41b6-9ed9-484d-a215-3d137b8c2c38",
   "metadata": {},
   "outputs": [
    {
     "data": {
      "text/html": [
       "<div>\n",
       "<style scoped>\n",
       "    .dataframe tbody tr th:only-of-type {\n",
       "        vertical-align: middle;\n",
       "    }\n",
       "\n",
       "    .dataframe tbody tr th {\n",
       "        vertical-align: top;\n",
       "    }\n",
       "\n",
       "    .dataframe thead th {\n",
       "        text-align: right;\n",
       "    }\n",
       "</style>\n",
       "<table border=\"1\" class=\"dataframe\">\n",
       "  <thead>\n",
       "    <tr style=\"text-align: right;\">\n",
       "      <th></th>\n",
       "      <th>numb_features</th>\n",
       "      <th>RSS</th>\n",
       "      <th>R_squared</th>\n",
       "      <th>features</th>\n",
       "    </tr>\n",
       "  </thead>\n",
       "  <tbody>\n",
       "    <tr>\n",
       "      <th>2</th>\n",
       "      <td>1</td>\n",
       "      <td>2.143512e+07</td>\n",
       "      <td>0.745848</td>\n",
       "      <td>(Rating,)</td>\n",
       "    </tr>\n",
       "    <tr>\n",
       "      <th>10</th>\n",
       "      <td>2</td>\n",
       "      <td>1.053254e+07</td>\n",
       "      <td>0.875118</td>\n",
       "      <td>(Income, Rating)</td>\n",
       "    </tr>\n",
       "    <tr>\n",
       "      <th>56</th>\n",
       "      <td>3</td>\n",
       "      <td>4.227219e+06</td>\n",
       "      <td>0.949879</td>\n",
       "      <td>(Income, Rating, Student)</td>\n",
       "    </tr>\n",
       "    <tr>\n",
       "      <th>138</th>\n",
       "      <td>4</td>\n",
       "      <td>3.915058e+06</td>\n",
       "      <td>0.953580</td>\n",
       "      <td>(Income, Limit, Cards, Student)</td>\n",
       "    </tr>\n",
       "    <tr>\n",
       "      <th>258</th>\n",
       "      <td>5</td>\n",
       "      <td>3.866091e+06</td>\n",
       "      <td>0.954161</td>\n",
       "      <td>(Income, Limit, Rating, Cards, Student)</td>\n",
       "    </tr>\n",
       "    <tr>\n",
       "      <th>383</th>\n",
       "      <td>6</td>\n",
       "      <td>3.821620e+06</td>\n",
       "      <td>0.954688</td>\n",
       "      <td>(Income, Limit, Rating, Cards, Age, Student)</td>\n",
       "    </tr>\n",
       "    <tr>\n",
       "      <th>468</th>\n",
       "      <td>7</td>\n",
       "      <td>3.810759e+06</td>\n",
       "      <td>0.954817</td>\n",
       "      <td>(Income, Limit, Rating, Cards, Age, Own, Student)</td>\n",
       "    </tr>\n",
       "    <tr>\n",
       "      <th>501</th>\n",
       "      <td>8</td>\n",
       "      <td>3.805359e+06</td>\n",
       "      <td>0.954881</td>\n",
       "      <td>(Income, Limit, Rating, Cards, Age, Education,...</td>\n",
       "    </tr>\n",
       "    <tr>\n",
       "      <th>510</th>\n",
       "      <td>9</td>\n",
       "      <td>3.800814e+06</td>\n",
       "      <td>0.954935</td>\n",
       "      <td>(Income, Limit, Rating, Cards, Age, Education,...</td>\n",
       "    </tr>\n",
       "  </tbody>\n",
       "</table>\n",
       "</div>"
      ],
      "text/plain": [
       "     numb_features           RSS  R_squared  \\\n",
       "2                1  2.143512e+07   0.745848   \n",
       "10               2  1.053254e+07   0.875118   \n",
       "56               3  4.227219e+06   0.949879   \n",
       "138              4  3.915058e+06   0.953580   \n",
       "258              5  3.866091e+06   0.954161   \n",
       "383              6  3.821620e+06   0.954688   \n",
       "468              7  3.810759e+06   0.954817   \n",
       "501              8  3.805359e+06   0.954881   \n",
       "510              9  3.800814e+06   0.954935   \n",
       "\n",
       "                                              features  \n",
       "2                                            (Rating,)  \n",
       "10                                    (Income, Rating)  \n",
       "56                           (Income, Rating, Student)  \n",
       "138                    (Income, Limit, Cards, Student)  \n",
       "258            (Income, Limit, Rating, Cards, Student)  \n",
       "383       (Income, Limit, Rating, Cards, Age, Student)  \n",
       "468  (Income, Limit, Rating, Cards, Age, Own, Student)  \n",
       "501  (Income, Limit, Rating, Cards, Age, Education,...  \n",
       "510  (Income, Limit, Rating, Cards, Age, Education,...  "
      ]
     },
     "metadata": {},
     "output_type": "display_data"
    }
   ],
   "source": [
    "df_min = df[df.groupby('numb_features')['RSS'].transform(min) == df['RSS']]\n",
    "display(df_min)"
   ]
  },
  {
   "cell_type": "code",
   "execution_count": 20,
   "id": "0dfa1f54-1f45-40f4-a6fa-d043f3a8660c",
   "metadata": {},
   "outputs": [
    {
     "data": {
      "text/html": [
       "<div>\n",
       "<style scoped>\n",
       "    .dataframe tbody tr th:only-of-type {\n",
       "        vertical-align: middle;\n",
       "    }\n",
       "\n",
       "    .dataframe tbody tr th {\n",
       "        vertical-align: top;\n",
       "    }\n",
       "\n",
       "    .dataframe thead th {\n",
       "        text-align: right;\n",
       "    }\n",
       "</style>\n",
       "<table border=\"1\" class=\"dataframe\">\n",
       "  <thead>\n",
       "    <tr style=\"text-align: right;\">\n",
       "      <th></th>\n",
       "      <th>numb_features</th>\n",
       "      <th>RSS</th>\n",
       "      <th>R_squared</th>\n",
       "      <th>features</th>\n",
       "      <th>min_RSS</th>\n",
       "    </tr>\n",
       "  </thead>\n",
       "  <tbody>\n",
       "    <tr>\n",
       "      <th>0</th>\n",
       "      <td>1</td>\n",
       "      <td>6.620874e+07</td>\n",
       "      <td>0.214977</td>\n",
       "      <td>(Income,)</td>\n",
       "      <td>2.143512e+07</td>\n",
       "    </tr>\n",
       "    <tr>\n",
       "      <th>1</th>\n",
       "      <td>1</td>\n",
       "      <td>2.171566e+07</td>\n",
       "      <td>0.742522</td>\n",
       "      <td>(Limit,)</td>\n",
       "      <td>2.143512e+07</td>\n",
       "    </tr>\n",
       "    <tr>\n",
       "      <th>2</th>\n",
       "      <td>1</td>\n",
       "      <td>2.143512e+07</td>\n",
       "      <td>0.745848</td>\n",
       "      <td>(Rating,)</td>\n",
       "      <td>2.143512e+07</td>\n",
       "    </tr>\n",
       "    <tr>\n",
       "      <th>3</th>\n",
       "      <td>1</td>\n",
       "      <td>8.370950e+07</td>\n",
       "      <td>0.007475</td>\n",
       "      <td>(Cards,)</td>\n",
       "      <td>2.143512e+07</td>\n",
       "    </tr>\n",
       "    <tr>\n",
       "      <th>4</th>\n",
       "      <td>1</td>\n",
       "      <td>8.433963e+07</td>\n",
       "      <td>0.000003</td>\n",
       "      <td>(Age,)</td>\n",
       "      <td>2.143512e+07</td>\n",
       "    </tr>\n",
       "  </tbody>\n",
       "</table>\n",
       "</div>"
      ],
      "text/plain": [
       "   numb_features           RSS  R_squared   features       min_RSS\n",
       "0              1  6.620874e+07   0.214977  (Income,)  2.143512e+07\n",
       "1              1  2.171566e+07   0.742522   (Limit,)  2.143512e+07\n",
       "2              1  2.143512e+07   0.745848  (Rating,)  2.143512e+07\n",
       "3              1  8.370950e+07   0.007475   (Cards,)  2.143512e+07\n",
       "4              1  8.433963e+07   0.000003     (Age,)  2.143512e+07"
      ]
     },
     "execution_count": 20,
     "metadata": {},
     "output_type": "execute_result"
    }
   ],
   "source": [
    "df['min_RSS'] = df.groupby('numb_features')['RSS'].transform(min)\n",
    "df.head()"
   ]
  },
  {
   "cell_type": "code",
   "execution_count": 21,
   "id": "d6fbcb22-ce2b-4760-9384-9b81a120a136",
   "metadata": {},
   "outputs": [
    {
     "data": {
      "image/png": "[encoded data removed]",
      "text/plain": [
       "<Figure size 1600x600 with 1 Axes>"
      ]
     },
     "metadata": {},
     "output_type": "display_data"
    }
   ],
   "source": [
    "fig = plt.figure(figsize = (16,6))\n",
    "ax = fig.add_subplot(1, 2, 1)\n",
    "\n",
    "ax.scatter(df.numb_features,df.RSS, alpha = .2, color = 'darkblue' )\n",
    "ax.set_xlabel('# Features')\n",
    "ax.set_ylabel('RSS')\n",
    "ax.set_title('RSS - Best subset selection')\n",
    "ax.plot(df.numb_features,df.min_RSS,color = 'r', label = 'Best subset')\n",
    "ax.legend()\n",
    "\n",
    "plt.show()"
   ]
  },
  {
   "cell_type": "markdown",
   "id": "3d4aa287-e5e1-4d29-a66a-cf78f935e89e",
   "metadata": {},
   "source": [
    "**Forward Stepwise Selection**\n",
    "\n",
    "For computational reasons, the best subset cannot be applied for large $n$ due to the $2^{n}$ complexity. Forward stepwise selection begins with a model containing no predictors, and then adds predictors to the model, one at the time. At each step, the variable that gives the greatest additional improvement to the fit is added to the model.\n",
    "\n",
    "_Algorithm_\n",
    "\n",
    "- Let $M_{0}$ denote the null model which contains no predictors.\n",
    "\n",
    "- For $k=1,2,...,n-1$\n",
    "    - Consider all $n-k$ that augment the predictors in $M_{k}$ with one additional predictor.\n",
    "    - Pick the best among these $n - k$ models, and call in $M_{k+1}$.\n",
    "- Select the single best model among $M_{0},M_{1},...,M_{n}$ using $C_{p}$, $BIC$, adjusted $R^{2}$ or any other method."
   ]
  },
  {
   "cell_type": "code",
   "execution_count": 23,
   "id": "a44b0f33-3614-4366-9a1c-a6ad76b8a2d2",
   "metadata": {},
   "outputs": [],
   "source": [
    "remaining_features = list(X.columns.values)\n",
    "features = []\n",
    "RSS_list, R_squared_list = [np.inf], [np.inf] #Due to 1 indexing of the loop...\n",
    "features_list = dict()\n",
    "\n",
    "for i in range(1,len(X.columns)+1):\n",
    "    best_RSS = np.inf\n",
    "    \n",
    "    for combo in itertools.combinations(remaining_features,1):\n",
    "\n",
    "            RSS = fit_linear_reg(X[list(combo) + features],Y)   #Store temp result \n",
    "\n",
    "            if RSS[0] < best_RSS:\n",
    "                best_RSS = RSS[0]\n",
    "                best_R_squared = RSS[1] \n",
    "                best_feature = combo[0]\n",
    "\n",
    "    #Updating variables for next loop\n",
    "    features.append(best_feature)\n",
    "    remaining_features.remove(best_feature)\n",
    "    \n",
    "    #Saving values for plotting\n",
    "    RSS_list.append(best_RSS)\n",
    "    R_squared_list.append(best_R_squared)\n",
    "    features_list[i] = features.copy()"
   ]
  },
  {
   "cell_type": "markdown",
   "id": "df2a69c6-4230-4f71-8c8e-10967b66c054",
   "metadata": {},
   "source": [
    "Displaying the results of the first four steps."
   ]
  },
  {
   "cell_type": "code",
   "execution_count": 25,
   "id": "2e947927-0e66-4ee7-98b0-c7439cac9fea",
   "metadata": {},
   "outputs": [
    {
     "name": "stdout",
     "output_type": "stream",
     "text": [
      "Forward stepwise subset selection\n",
      "Number of features | Features | RSS\n"
     ]
    },
    {
     "data": {
      "text/plain": [
       "[(1, ['Rating'], 21435122),\n",
       " (2, ['Rating', 'Income'], 10532541),\n",
       " (3, ['Rating', 'Income', 'Student'], 4227219),\n",
       " (4, ['Rating', 'Income', 'Student', 'Limit'], 4032502)]"
      ]
     },
     "metadata": {},
     "output_type": "display_data"
    }
   ],
   "source": [
    "print('Forward stepwise subset selection')\n",
    "print('Number of features |', 'Features |', 'RSS')\n",
    "display([(i,features_list[i], round(RSS_list[i])) for i in range(1,5)])"
   ]
  },
  {
   "cell_type": "markdown",
   "id": "e4a0939a-4a7e-4b0c-a58d-2a3132e8a38f",
   "metadata": {},
   "source": [
    "Combining the forward stepwise results into a new dataframe."
   ]
  },
  {
   "cell_type": "code",
   "execution_count": 27,
   "id": "e031f3a3-8cc5-4d2e-92f2-ae3e46cbc2a4",
   "metadata": {},
   "outputs": [],
   "source": [
    "df1 = pd.concat([pd.DataFrame({'features':features_list}),pd.DataFrame({'RSS':RSS_list, 'R_squared': R_squared_list})], axis=1, join='inner')\n",
    "df1['numb_features'] = df1.index"
   ]
  },
  {
   "cell_type": "code",
   "execution_count": 28,
   "id": "b97d06e4-7383-402d-89b0-3e28a3b0d4a0",
   "metadata": {},
   "outputs": [],
   "source": [
    "df1 = pd.concat([pd.DataFrame({'features':features_list}),pd.DataFrame({'RSS':RSS_list, 'R_squared': R_squared_list})], axis=1, join='inner')\n",
    "df1['numb_features'] = df1.index"
   ]
  },
  {
   "cell_type": "markdown",
   "id": "867f3f9b-c70b-42f4-b182-5f82e61aaec4",
   "metadata": {},
   "source": [
    "Computing $C_{p}$, $BIC$, and $R^{2}$-adjusted."
   ]
  },
  {
   "cell_type": "code",
   "execution_count": 30,
   "id": "e67640b1-0bde-4cd7-bef3-663a4147226f",
   "metadata": {},
   "outputs": [
    {
     "data": {
      "text/html": [
       "<div>\n",
       "<style scoped>\n",
       "    .dataframe tbody tr th:only-of-type {\n",
       "        vertical-align: middle;\n",
       "    }\n",
       "\n",
       "    .dataframe tbody tr th {\n",
       "        vertical-align: top;\n",
       "    }\n",
       "\n",
       "    .dataframe thead th {\n",
       "        text-align: right;\n",
       "    }\n",
       "</style>\n",
       "<table border=\"1\" class=\"dataframe\">\n",
       "  <thead>\n",
       "    <tr style=\"text-align: right;\">\n",
       "      <th></th>\n",
       "      <th>features</th>\n",
       "      <th>RSS</th>\n",
       "      <th>R_squared</th>\n",
       "      <th>numb_features</th>\n",
       "      <th>C_p</th>\n",
       "      <th>BIC</th>\n",
       "      <th>R_squared_adj</th>\n",
       "    </tr>\n",
       "  </thead>\n",
       "  <tbody>\n",
       "    <tr>\n",
       "      <th>1</th>\n",
       "      <td>[Rating]</td>\n",
       "      <td>2.143512e+07</td>\n",
       "      <td>0.745848</td>\n",
       "      <td>1</td>\n",
       "      <td>53636.533469</td>\n",
       "      <td>5.513602</td>\n",
       "      <td>0.745210</td>\n",
       "    </tr>\n",
       "    <tr>\n",
       "      <th>2</th>\n",
       "      <td>[Rating, Income]</td>\n",
       "      <td>1.053254e+07</td>\n",
       "      <td>0.875118</td>\n",
       "      <td>2</td>\n",
       "      <td>26428.810001</td>\n",
       "      <td>2.731807</td>\n",
       "      <td>0.874489</td>\n",
       "    </tr>\n",
       "    <tr>\n",
       "      <th>3</th>\n",
       "      <td>[Rating, Income, Student]</td>\n",
       "      <td>4.227219e+06</td>\n",
       "      <td>0.949879</td>\n",
       "      <td>3</td>\n",
       "      <td>10714.233440</td>\n",
       "      <td>1.129319</td>\n",
       "      <td>0.949499</td>\n",
       "    </tr>\n",
       "    <tr>\n",
       "      <th>4</th>\n",
       "      <td>[Rating, Income, Student, Limit]</td>\n",
       "      <td>4.032502e+06</td>\n",
       "      <td>0.952188</td>\n",
       "      <td>4</td>\n",
       "      <td>10276.167710</td>\n",
       "      <td>1.094348</td>\n",
       "      <td>0.951703</td>\n",
       "    </tr>\n",
       "    <tr>\n",
       "      <th>5</th>\n",
       "      <td>[Rating, Income, Student, Limit, Cards]</td>\n",
       "      <td>3.866091e+06</td>\n",
       "      <td>0.954161</td>\n",
       "      <td>5</td>\n",
       "      <td>9908.869953</td>\n",
       "      <td>1.066638</td>\n",
       "      <td>0.953579</td>\n",
       "    </tr>\n",
       "    <tr>\n",
       "      <th>6</th>\n",
       "      <td>[Rating, Income, Student, Limit, Cards, Age]</td>\n",
       "      <td>3.821620e+06</td>\n",
       "      <td>0.954688</td>\n",
       "      <td>6</td>\n",
       "      <td>9846.419500</td>\n",
       "      <td>1.070209</td>\n",
       "      <td>0.953996</td>\n",
       "    </tr>\n",
       "    <tr>\n",
       "      <th>7</th>\n",
       "      <td>[Rating, Income, Student, Limit, Cards, Age, Own]</td>\n",
       "      <td>3.810759e+06</td>\n",
       "      <td>0.954817</td>\n",
       "      <td>7</td>\n",
       "      <td>9867.995646</td>\n",
       "      <td>1.082402</td>\n",
       "      <td>0.954010</td>\n",
       "    </tr>\n",
       "    <tr>\n",
       "      <th>8</th>\n",
       "      <td>[Rating, Income, Student, Limit, Cards, Age, O...</td>\n",
       "      <td>3.805359e+06</td>\n",
       "      <td>0.954881</td>\n",
       "      <td>8</td>\n",
       "      <td>9903.225746</td>\n",
       "      <td>1.095995</td>\n",
       "      <td>0.953958</td>\n",
       "    </tr>\n",
       "    <tr>\n",
       "      <th>9</th>\n",
       "      <td>[Rating, Income, Student, Limit, Cards, Age, O...</td>\n",
       "      <td>3.800814e+06</td>\n",
       "      <td>0.954935</td>\n",
       "      <td>9</td>\n",
       "      <td>9940.591083</td>\n",
       "      <td>1.109808</td>\n",
       "      <td>0.953895</td>\n",
       "    </tr>\n",
       "  </tbody>\n",
       "</table>\n",
       "</div>"
      ],
      "text/plain": [
       "                                            features           RSS  R_squared  \\\n",
       "1                                           [Rating]  2.143512e+07   0.745848   \n",
       "2                                   [Rating, Income]  1.053254e+07   0.875118   \n",
       "3                          [Rating, Income, Student]  4.227219e+06   0.949879   \n",
       "4                   [Rating, Income, Student, Limit]  4.032502e+06   0.952188   \n",
       "5            [Rating, Income, Student, Limit, Cards]  3.866091e+06   0.954161   \n",
       "6       [Rating, Income, Student, Limit, Cards, Age]  3.821620e+06   0.954688   \n",
       "7  [Rating, Income, Student, Limit, Cards, Age, Own]  3.810759e+06   0.954817   \n",
       "8  [Rating, Income, Student, Limit, Cards, Age, O...  3.805359e+06   0.954881   \n",
       "9  [Rating, Income, Student, Limit, Cards, Age, O...  3.800814e+06   0.954935   \n",
       "\n",
       "   numb_features           C_p       BIC  R_squared_adj  \n",
       "1              1  53636.533469  5.513602       0.745210  \n",
       "2              2  26428.810001  2.731807       0.874489  \n",
       "3              3  10714.233440  1.129319       0.949499  \n",
       "4              4  10276.167710  1.094348       0.951703  \n",
       "5              5   9908.869953  1.066638       0.953579  \n",
       "6              6   9846.419500  1.070209       0.953996  \n",
       "7              7   9867.995646  1.082402       0.954010  \n",
       "8              8   9903.225746  1.095995       0.953958  \n",
       "9              9   9940.591083  1.109808       0.953895  "
      ]
     },
     "execution_count": 30,
     "metadata": {},
     "output_type": "execute_result"
    }
   ],
   "source": [
    "m = len(Y)\n",
    "p = len(X.columns)\n",
    "hat_sigma_squared = (1/(m - p -1)) * min(df1['RSS'])\n",
    "\n",
    "#Computing\n",
    "df1['C_p'] = (1/m) * (df1['RSS'] + 2 * df1['numb_features'] * hat_sigma_squared )\n",
    "df1['BIC'] = (1/(m*hat_sigma_squared)) * (df1['RSS'] +  np.log(m) * df1['numb_features'] * hat_sigma_squared )\n",
    "df1['R_squared_adj'] = 1 - ( (1 - df1['R_squared'])*(m-1)/(m-df1['numb_features'] -1))\n",
    "df1"
   ]
  },
  {
   "cell_type": "markdown",
   "id": "a389cf47-27c3-45a6-9b90-a9c01b5c8b3a",
   "metadata": {},
   "source": [
    "Plotting the values and marking the optimal one."
   ]
  },
  {
   "cell_type": "code",
   "execution_count": 32,
   "id": "d62c2231-36a7-486a-90d6-8810c61cdaf1",
   "metadata": {},
   "outputs": [
    {
     "data": {
      "image/png": "[encoded data removed]",
      "text/plain": [
       "<Figure size 1800x600 with 3 Axes>"
      ]
     },
     "metadata": {},
     "output_type": "display_data"
    }
   ],
   "source": [
    "variables = ['C_p', 'BIC','R_squared_adj']\n",
    "fig = plt.figure(figsize = (18,6))\n",
    "\n",
    "for i,v in enumerate(variables):\n",
    "    ax = fig.add_subplot(1, 4, i+1)\n",
    "    ax.plot(df1['numb_features'],df1[v], color = 'lightblue')\n",
    "    ax.scatter(df1['numb_features'],df1[v], color = 'darkblue')\n",
    "    if v == 'R_squared_adj':\n",
    "        ax.plot(df1[v].idxmax(),df1[v].max(), marker = 'x', markersize = 20)\n",
    "    else:\n",
    "        ax.plot(df1[v].idxmin(),df1[v].min(), marker = 'x', markersize = 20)\n",
    "    ax.set_xlabel('Number of predictors')\n",
    "    ax.set_ylabel(v)\n",
    "\n",
    "fig.suptitle('Subset selection using C_p, BIC, Adjusted R2', fontsize = 16)\n",
    "plt.show()"
   ]
  },
  {
   "cell_type": "markdown",
   "id": "5727f36f-995e-45c7-9607-e661b2f49cdf",
   "metadata": {},
   "source": [
    "In addition to the measures above, there are other widely used methods for adding a \"penalty\" to the use of many variables. Two popular models along these lines are _ridge regression_ and _lasso_ regression:\n",
    "\n",
    "For _ridge regression_, the measure we attempt to minimize is:\n",
    "\n",
    "&nbsp;\n",
    "<center>\n",
    "    $\\displaystyle \\sum_{i = 1}^{n}\\left(y_{i} - \\hat{y}_{i}\\right)^{2} + \\lambda \\sum_{j = 1}^{p}\\beta_{j}^{2}$.\n",
    "</center>\n",
    "&nbsp;\n",
    "\n",
    "For _lasso regression_, the model we attempt to minimize is:\n",
    "\n",
    "&nbsp;\n",
    "<center>\n",
    "    $\\displaystyle \\sum_{i = 1}^{n}\\left(y_{i} - \\hat{y}_{i}\\right)^{2} + \\lambda \\sum_{j = 1}^{p}|\\beta_{j}|$.\n",
    "</center>\n",
    "&nbsp;\n",
    "\n",
    "Both models penalize large values of the coefficients, and so are biased towards $0$. This means the approach will tend to favor underestimating the coefficients. \n",
    "\n",
    "Why would we want to do this? Well, if we recall from our first lecture, generally speaking the introduction of bias tends to decrease the variance within our model (the bias-variance tradeoff), and so by decreasing the variance, you decrease the chance that your model will be far removed from the actual \"correct\" model.\n",
    "\n",
    "We call the penalty for Ridge regression an $\\ell_{2}$ norm, and the penalty for the Lasso is $\\ell_{1}$ norm. The different numbers refer to the exponent of the individual $\\beta_{i}$ terms. (Note technically to be an $\\ell_{2}$ norm, the penalty for ridge regression should have a square root, but don't worry about that here.)"
   ]
  },
  {
   "cell_type": "markdown",
   "id": "9458b178-9081-44e0-b0b9-9ad0e2d8e199",
   "metadata": {},
   "source": [
    "Now, one of the first thing to notice here is that term $\\lambda$. What is it, and how do we know its value? Well, the term $\\lambda$ is something called a _hyperparameter_. You don't determine it as part of the modeling process - you define it before you start the modeling process. So, you could view both ridge and lasso regression not as single models, but as families of models parametrized by $\\lambda$."
   ]
  },
  {
   "cell_type": "markdown",
   "id": "d9733200-7fa2-4d3f-a8b9-86345ee51d96",
   "metadata": {},
   "source": [
    "At one extreme, $\\lambda = 0$, both ridge and lasso regression reduce to standard regression, in which the goal is to minimize $\\sum_{i = 1}^{n}\\left(y_{i} - \\hat{y}_{i}\\right)^{2}$. On the other extreme, as $\\lambda \\rightarrow \\infty$, the penalty for any positive coefficient goes to $\\infty$, and so the model will tend towards a constant model $Y = \\beta_{0}$, where $\\beta_{0}$ will just be the average of the output values."
   ]
  },
  {
   "cell_type": "markdown",
   "id": "67187b5b-6d84-4b5a-a15f-cc1e53c667ee",
   "metadata": {},
   "source": [
    "It is between these extremes that we want to build our model, and so how do we figure out $\\lambda$? Well, as usual, if we just try to optimize a value like $RSS$ on our training data, we won't get anywhere. Specifically, we'll always choose $\\lambda = 0$ by definition."
   ]
  },
  {
   "cell_type": "markdown",
   "id": "797b1d10-733b-46a7-9f3f-afd13d1f2a57",
   "metadata": {},
   "source": [
    "The validation set approach is conceptually simple and easy to implement. However, it has two potential drawbacks:\n",
    "\n",
    "1. The validation estimate of the test error rate can be highly variable, and can be highly dependent on precisely which observations are included in the training set vs. the validation set.\n",
    "\n",
    "\n",
    "2. Only a subset of the observations, those that are included in the training set, are used to fit the model. Since statistical methods tend to perform worse when trained on fewer observations, this suggests that the validation set error rate may _overestimate_ the test error rate for the model when fit on the entire data set."
   ]
  },
  {
   "cell_type": "markdown",
   "id": "129ed0ff-00d0-4e56-9659-6412a59b2fb5",
   "metadata": {},
   "source": [
    "One way to, partially, address these concerns is by using _cross-validation_, a refinement of the validation set approach that addresses these two issues."
   ]
  },
  {
   "cell_type": "markdown",
   "id": "c86fb444-8c04-469e-ac11-b51618efcb19",
   "metadata": {},
   "source": [
    "**Leave-One-Out Cross-Valdation (LOOCV)**\n",
    "\n",
    "For LOOCV, instead of creating two subsets of comparable size as in the validation set approach, a single observation $(x_{i},y_{i})$ is used for the validation set, and the remaining observations make up the training set. The model is then fit on the $n-1$ training observations, and its predicted value $\\hat{y}_{i}$ for $x_{i}$ is tested against the actual output $y_{i}$. So, $MSE_{i} = (y_{i}-\\hat{y}_{i})^{2}$. This procedure is repeated for all $n$ observations, and the estimated $MSE$ is the average of the errors for each model:\n",
    "\n",
    "&nbsp;\n",
    "<center>\n",
    "    $\\displaystyle CV_{(n)} = \\frac{1}{n}\\sum_{i = 1}^{n}MSE_{i}$.\n",
    "</center>\n",
    "&nbsp;\n",
    "\n",
    "This approach has far less bias than the validation set approach, and removes the randomness and risk inherent in the training / validation set splits. However, it can be computationally expensive."
   ]
  },
  {
   "cell_type": "markdown",
   "id": "1681f7ba-0525-450f-a757-8ffcec6a28ae",
   "metadata": {},
   "source": [
    "**k-Fold Cross-Validation**\n",
    "\n",
    "An alternative to LOOCV is $k$-fold cross-validation (CV). In this approach, we randomly divide the set of observations into $k$ groups, or _folds_, of approximately equal size. The first fold is treated as the validation set, and the model is fit on the remaining $k-1$ folds. The mean squared error of the model on this first fold, $MSE_{1}$, in then computed. Thes is repeated $k$ times, producing $MSE_{1},MSE_{2},\\ldots,MSE_{k}$. The $MSE$ estimate is then computed as:\n",
    "\n",
    "&nbsp;\n",
    "<center>\n",
    "    $\\displaystyle CV_{(k)} = \\frac{1}{k}\\sum_{i = 1}^{n}MSE_{i}$.\n",
    "</center>\n",
    "&nbsp;\n",
    "\n",
    "It isn't hard to see that the validation set approach and LOOCV are just special cases of $k$-fold CV, with $k = 2$ and $k = n$ respectively. Which value of $k$ should you use for your model? Well, that's another hyperparameter."
   ]
  },
  {
   "cell_type": "markdown",
   "id": "4d55b17c-e600-44ce-bd8a-6160c6339562",
   "metadata": {},
   "source": [
    "The problem with using a large value of $k$ isn't just the increase in computation time, which for modern computers is rarely a huge concern. Yet again, the problem with using a large value for $k$ is the bias-variance trade-off. For the extreme case of LOOCV, the training data for each model is almost exactly the same, which means the models are highly correlated. This means that, while a larger value of $k$ will decrease the bias in the individual estimates (the tendency to overestimate the error), it will also increase the variance. There's basically no way of getting out of that tradeoff."
   ]
  },
  {
   "cell_type": "markdown",
   "id": "8b1dcfbf-15f4-4f04-bfab-8dd05170e2c8",
   "metadata": {},
   "source": [
    "We'll talk more about cross-validation in the context of resambling methods next week, but for now let's take a look at how we might calculate $\\lambda$ for ridge or lasso regression using cross-validation in Python."
   ]
  },
  {
   "cell_type": "markdown",
   "id": "30c8975b-131c-4763-819b-29a575e49164",
   "metadata": {},
   "source": [
    "First, we'll import some modules from sklearn that we'll want for Ridge and Lasso regression, along with cross-validation:"
   ]
  },
  {
   "cell_type": "code",
   "execution_count": 44,
   "id": "31a48b24-2d2f-4e1f-9d4d-b6eb02974485",
   "metadata": {},
   "outputs": [],
   "source": [
    "#from sklearn import linear_model\n",
    "from sklearn.linear_model import Ridge, RidgeCV, Lasso, LassoCV\n",
    "from sklearn.model_selection import train_test_split\n",
    "\n",
    "#from sklearn.preprocessing import scale \n",
    "\n",
    "#%matplotlib inline\n",
    "#plt.style.use('ggplot')"
   ]
  },
  {
   "cell_type": "markdown",
   "id": "c98653f1-7b59-4d73-94f9-99dc759fa234",
   "metadata": {},
   "source": [
    "Next, I'll create a set of potential lambdas over a wide range of values. Specifically, I'll create 90 potential $\\lambda$ values ranging from $10^{7}$ to $10^{-2}$, with even spacing between the _exponents_."
   ]
  },
  {
   "cell_type": "code",
   "execution_count": 46,
   "id": "95431b2e-9c98-4e45-8dfd-2a2ededc8b07",
   "metadata": {},
   "outputs": [
    {
     "data": {
      "text/plain": [
       "array([1.00000000e+07, 7.92275825e+06, 6.27700983e+06, 4.97312315e+06,\n",
       "       3.94008524e+06, 3.12163429e+06, 2.47319538e+06, 1.95945291e+06,\n",
       "       1.55242717e+06, 1.22995052e+06, 9.74460063e+05, 7.72041151e+05,\n",
       "       6.11669540e+05, 4.84610990e+05, 3.83945572e+05, 3.04190795e+05,\n",
       "       2.41003013e+05, 1.90940861e+05, 1.51277828e+05, 1.19853766e+05,\n",
       "       9.49572415e+04, 7.52323269e+04, 5.96047539e+04, 4.72234056e+04,\n",
       "       3.74139626e+04, 2.96421781e+04, 2.34847811e+04, 1.86064243e+04,\n",
       "       1.47414202e+04, 1.16792709e+04, 9.25320396e+03, 7.33108980e+03,\n",
       "       5.80824522e+03, 4.60173228e+03, 3.64584124e+03, 2.88851187e+03,\n",
       "       2.28849813e+03, 1.81312174e+03, 1.43649253e+03, 1.13809830e+03,\n",
       "       9.01687771e+02, 7.14385423e+02, 5.65990301e+02, 4.48420433e+02,\n",
       "       3.55272668e+02, 2.81473946e+02, 2.23005003e+02, 1.76681473e+02,\n",
       "       1.39980460e+02, 1.10903134e+02, 8.78658723e+01, 6.96140065e+01,\n",
       "       5.51534944e+01, 4.36967803e+01, 3.46199027e+01, 2.74285120e+01,\n",
       "       2.17309470e+01, 1.72169039e+01, 1.36405368e+01, 1.08070675e+01,\n",
       "       8.56217834e+00, 6.78360691e+00, 5.37448777e+00, 4.25807673e+00,\n",
       "       3.37357126e+00, 2.67279895e+00, 2.11759399e+00, 1.67771853e+00,\n",
       "       1.32921583e+00, 1.05310557e+00, 8.34350085e-01, 6.61035402e-01,\n",
       "       5.23722369e-01, 4.14932572e-01, 3.28741046e-01, 2.60453583e-01,\n",
       "       2.06351078e-01, 1.63486970e-01, 1.29526774e-01, 1.02620932e-01,\n",
       "       8.13040837e-02, 6.44152600e-02, 5.10346533e-02, 4.04335220e-02,\n",
       "       3.20345020e-02, 2.53801615e-02, 2.01080884e-02, 1.59311524e-02,\n",
       "       1.26218669e-02, 1.00000000e-02])"
      ]
     },
     "execution_count": 46,
     "metadata": {},
     "output_type": "execute_result"
    }
   ],
   "source": [
    "lambdas = 10**np.linspace(7,-2,90)\n",
    "lambdas"
   ]
  },
  {
   "cell_type": "markdown",
   "id": "e8d4d4e1-11ce-46e5-93b6-a37511d3a74a",
   "metadata": {},
   "source": [
    "Cool. Alright, now I'll set up my output and input values."
   ]
  },
  {
   "cell_type": "markdown",
   "id": "bbdd8c55-db99-45f0-b48c-c8639a8f08c5",
   "metadata": {},
   "source": [
    "Alright, now we're going to do a bunch of ridge regressions, and record the coefficients we get. Note, there's no concensus as to whether the hyperparameter for ridge or lasso regression is a $\\lambda$ or an $\\alpha$. Most of the teaching literature uses $\\lambda$, so I've used it here. Unfortunately, Python uses $\\alpha$, which you'll see in the code below."
   ]
  },
  {
   "cell_type": "code",
   "execution_count": 49,
   "id": "5ec43b40-115c-4022-a56f-c9ead2268c9e",
   "metadata": {},
   "outputs": [],
   "source": [
    "ridge = Ridge()\n",
    "coefs = [] #Keep track of the coefficients.\n",
    "\n",
    "for l in lambdas:\n",
    "    ridge.set_params(alpha = l) #Ridge regression in Python calls the lambda term alpha.\n",
    "    ridge.fit(X, y)\n",
    "    coefs.append(ridge.coef_)"
   ]
  },
  {
   "cell_type": "markdown",
   "id": "13d999e6-c04d-49f5-9db5-2657c6c09ba1",
   "metadata": {},
   "source": [
    "Each of the 90 models should have nine coefficients, so let's check to make sure that's true."
   ]
  },
  {
   "cell_type": "code",
   "execution_count": 51,
   "id": "93e8335d-f585-44ed-8015-1fad0672b69f",
   "metadata": {},
   "outputs": [
    {
     "data": {
      "text/plain": [
       "(90, 9)"
      ]
     },
     "execution_count": 51,
     "metadata": {},
     "output_type": "execute_result"
    }
   ],
   "source": [
    "np.shape(coefs)"
   ]
  },
  {
   "cell_type": "markdown",
   "id": "d7fd3081-17d3-4dea-93b3-bcde59cd3a0c",
   "metadata": {},
   "source": [
    "Now, let's take a look at how these coefficients change as the value of $\\lambda$ (the penalty) increases."
   ]
  },
  {
   "cell_type": "code",
   "execution_count": 53,
   "id": "cb974d19-590a-42d4-8fc8-c8f5c972d678",
   "metadata": {},
   "outputs": [
    {
     "data": {
      "text/plain": [
       "Text(0, 0.5, 'weights')"
      ]
     },
     "execution_count": 53,
     "metadata": {},
     "output_type": "execute_result"
    },
    {
     "data": {
      "image/png": "[encoded data removed]",
      "text/plain": [
       "<Figure size 640x480 with 1 Axes>"
      ]
     },
     "metadata": {},
     "output_type": "display_data"
    }
   ],
   "source": [
    "ax = plt.gca()\n",
    "ax.plot(lambdas, coefs)\n",
    "ax.set_xscale('log')\n",
    "plt.axis('tight')\n",
    "plt.xlabel('alpha')\n",
    "plt.ylabel('weights')"
   ]
  },
  {
   "cell_type": "markdown",
   "id": "177574d9-3175-4d38-baf6-9197416c7a70",
   "metadata": {},
   "source": [
    "OK. Let's use sklearn's train_test_split to create a validation set, and check out some coefficients for different values of $\\lambda$."
   ]
  },
  {
   "cell_type": "code",
   "execution_count": 55,
   "id": "bcb26cee-9233-4292-a464-0f042daf2164",
   "metadata": {},
   "outputs": [],
   "source": [
    "X_train, X_test , y_train, y_test = train_test_split(X, y, test_size=0.5, random_state=2)"
   ]
  },
  {
   "cell_type": "markdown",
   "id": "8751b6d1-c0a0-479d-9975-3c2376413e8c",
   "metadata": {},
   "source": [
    "For the smaller value of $\\lambda = 10^{-1} = .1$:"
   ]
  },
  {
   "cell_type": "code",
   "execution_count": 57,
   "id": "c7ac1ccc-cc9f-45e7-8a5c-5bf2356602fd",
   "metadata": {},
   "outputs": [
    {
     "name": "stdout",
     "output_type": "stream",
     "text": [
      "Income        -7.630106\n",
      "Limit          0.194519\n",
      "Rating         1.089936\n",
      "Cards         20.267416\n",
      "Age           -0.588028\n",
      "Education     -0.700885\n",
      "Own            3.574424\n",
      "Student      407.294136\n",
      "Married       -9.705093\n",
      "dtype: float64\n",
      "9980.59519379909\n"
     ]
    }
   ],
   "source": [
    "ridge2 = Ridge(alpha = 1)# Again, Python uses alpha and not lambda, sorry\n",
    "ridge2.fit(X_train, y_train)             # Fit a ridge regression on the training data\n",
    "pred2 = ridge2.predict(X_test)           # Use this model to predict the test data\n",
    "print(pd.Series(ridge2.coef_, index = X.columns)) # Print coefficients\n",
    "print(mean_squared_error(y_test, pred2))          # Calculate the test MSE"
   ]
  },
  {
   "cell_type": "markdown",
   "id": "714ac470-c0a3-4dd5-865a-0558c528def0",
   "metadata": {},
   "source": [
    "For the larger value of $\\lambda = 10^{7} = 10,000,000$:"
   ]
  },
  {
   "cell_type": "code",
   "execution_count": 59,
   "id": "dc6a0764-8ae0-4908-9c99-82328b26b6a4",
   "metadata": {},
   "outputs": [
    {
     "name": "stdout",
     "output_type": "stream",
     "text": [
      "Income      -0.063776\n",
      "Limit        0.166727\n",
      "Rating       0.016809\n",
      "Cards        0.000909\n",
      "Age         -0.014565\n",
      "Education    0.000383\n",
      "Own          0.000106\n",
      "Student      0.000878\n",
      "Married     -0.000174\n",
      "dtype: float64\n",
      "53148.89603739644\n"
     ]
    }
   ],
   "source": [
    "ridge3 = Ridge(alpha = 10**7)\n",
    "ridge3.fit(X_train, y_train)             \n",
    "pred3 = ridge3.predict(X_test)           \n",
    "print(pd.Series(ridge3.coef_, index = X.columns)) \n",
    "print(mean_squared_error(y_test, pred3))          "
   ]
  },
  {
   "cell_type": "markdown",
   "id": "d3a54016-a643-4a07-99bf-13b28afda7a4",
   "metadata": {},
   "source": [
    "And for the standard linear regression situation $\\lambda = 0$:"
   ]
  },
  {
   "cell_type": "code",
   "execution_count": 61,
   "id": "33fbccba-6241-46c5-9f7e-0be8f04290d8",
   "metadata": {},
   "outputs": [
    {
     "name": "stdout",
     "output_type": "stream",
     "text": [
      "Income        -7.620455\n",
      "Limit          0.196122\n",
      "Rating         1.067382\n",
      "Cards         20.367600\n",
      "Age           -0.565695\n",
      "Education     -0.915714\n",
      "Own            3.185341\n",
      "Student      428.677306\n",
      "Married       -8.748533\n",
      "dtype: float64\n",
      "9986.129099705022\n"
     ]
    }
   ],
   "source": [
    "ridge4 = Ridge(alpha = 0)\n",
    "ridge4.fit(X_train, y_train)             \n",
    "pred4 = ridge4.predict(X_test)            \n",
    "print(pd.Series(ridge4.coef_, index = X.columns)) \n",
    "print(mean_squared_error(y_test, pred4))           "
   ]
  },
  {
   "cell_type": "markdown",
   "id": "84d9a5b2-af9e-4960-84fe-f1bd2a9320d4",
   "metadata": {},
   "source": [
    "So, $\\lambda = 10^{-1}$ is a bit better than $\\lambda = 0$, but not much."
   ]
  },
  {
   "cell_type": "markdown",
   "id": "aaa72f5f-1185-48da-9fa9-9e33daf2890e",
   "metadata": {},
   "source": [
    "For ridge regression there is already a function, RidgeCV, that will select the best value of $\\lambda$ using cross-validation. The value of the parameter \"cv\" sets the number of folds, and it defaults to LOOCV."
   ]
  },
  {
   "cell_type": "code",
   "execution_count": 64,
   "id": "20a54549-909c-449d-a2d9-85c70fbe2be2",
   "metadata": {},
   "outputs": [
    {
     "data": {
      "text/plain": [
       "0.10262093211115313"
      ]
     },
     "execution_count": 64,
     "metadata": {},
     "output_type": "execute_result"
    }
   ],
   "source": [
    "ridgecv = RidgeCV(alphas = lambdas)\n",
    "ridgecv.fit(X_train, y_train)\n",
    "ridgecv.alpha_"
   ]
  },
  {
   "cell_type": "markdown",
   "id": "af3e2845-7fe6-4443-857f-6aede4ad7a2b",
   "metadata": {},
   "source": [
    "Building a ridge regression model with the optimal $\\lambda$ from above, we get:"
   ]
  },
  {
   "cell_type": "code",
   "execution_count": 66,
   "id": "4609c5ea-167c-4501-943e-4b32ee8adeff",
   "metadata": {},
   "outputs": [
    {
     "data": {
      "text/plain": [
       "9981.892242529902"
      ]
     },
     "execution_count": 66,
     "metadata": {},
     "output_type": "execute_result"
    }
   ],
   "source": [
    "ridge5 = Ridge(alpha = ridgecv.alpha_)\n",
    "ridge5.fit(X_train, y_train)\n",
    "mean_squared_error(y_test, ridge5.predict(X_test))"
   ]
  },
  {
   "cell_type": "markdown",
   "id": "a2e7ce51-3dd4-4155-b82a-dcacd69aa1b6",
   "metadata": {},
   "source": [
    "With coefficients:"
   ]
  },
  {
   "cell_type": "code",
   "execution_count": 68,
   "id": "243cead2-467f-48e2-8dad-3fee92bd35d5",
   "metadata": {},
   "outputs": [
    {
     "data": {
      "text/plain": [
       "Income        -7.620455\n",
       "Limit          0.196122\n",
       "Rating         1.067382\n",
       "Cards         20.367600\n",
       "Age           -0.565695\n",
       "Education     -0.915714\n",
       "Own            3.185341\n",
       "Student      428.677306\n",
       "Married       -8.748533\n",
       "dtype: float64"
      ]
     },
     "execution_count": 68,
     "metadata": {},
     "output_type": "execute_result"
    }
   ],
   "source": [
    "ridge5.fit(X, y)\n",
    "pd.Series(ridge4.coef_, index = X.columns)"
   ]
  },
  {
   "cell_type": "markdown",
   "id": "bf07bfa1-18cb-4783-a5a9-1da7b98bf644",
   "metadata": {},
   "source": [
    "With cv = 10 we get:"
   ]
  },
  {
   "cell_type": "code",
   "execution_count": 70,
   "id": "214e4714-09aa-4222-ba8c-bdbb0372a176",
   "metadata": {},
   "outputs": [
    {
     "data": {
      "text/plain": [
       "0.16348697045064184"
      ]
     },
     "execution_count": 70,
     "metadata": {},
     "output_type": "execute_result"
    }
   ],
   "source": [
    "ridgecv = RidgeCV(alphas = lambdas, cv = 10)\n",
    "ridgecv.fit(X_train, y_train)\n",
    "ridgecv.alpha_"
   ]
  },
  {
   "cell_type": "code",
   "execution_count": 71,
   "id": "e19e29ec-9086-472f-9765-ec50d588160e",
   "metadata": {},
   "outputs": [
    {
     "data": {
      "text/plain": [
       "9979.810283611805"
      ]
     },
     "execution_count": 71,
     "metadata": {},
     "output_type": "execute_result"
    }
   ],
   "source": [
    "ridge6 = Ridge(alpha = ridgecv.alpha_)\n",
    "ridge6.fit(X_train, y_train)\n",
    "mean_squared_error(y_test, ridge6.predict(X_test))"
   ]
  },
  {
   "cell_type": "markdown",
   "id": "f5e4580c-1b83-4203-92e8-67bc5fafacc7",
   "metadata": {},
   "source": [
    "_Slightly_ better."
   ]
  },
  {
   "cell_type": "code",
   "execution_count": 73,
   "id": "960ae1cd-b102-4550-bea3-c699c707565c",
   "metadata": {},
   "outputs": [
    {
     "data": {
      "text/plain": [
       "Income        -7.620455\n",
       "Limit          0.196122\n",
       "Rating         1.067382\n",
       "Cards         20.367600\n",
       "Age           -0.565695\n",
       "Education     -0.915714\n",
       "Own            3.185341\n",
       "Student      428.677306\n",
       "Married       -8.748533\n",
       "dtype: float64"
      ]
     },
     "execution_count": 73,
     "metadata": {},
     "output_type": "execute_result"
    }
   ],
   "source": [
    "ridge6.fit(X, y)\n",
    "pd.Series(ridge4.coef_, index = X.columns)"
   ]
  },
  {
   "cell_type": "markdown",
   "id": "3781682e-12a1-4a06-aa5e-619d78ca56d9",
   "metadata": {},
   "source": [
    "Note that, while many of these coefficients are small, _none_ are $0$. That will not be the case with lasso regression."
   ]
  },
  {
   "cell_type": "markdown",
   "id": "50756f43-074a-4aa9-b26b-9e943edbabb1",
   "metadata": {},
   "source": [
    "Note that for lasso regression here, it figures out the optimal value using iterative fitting, and we need to specify a maximum number of required iterations. We won't get into why it's different than ridge regression, but it has to do with optimizing squared terms vs. optimizing absolute values - smooth derivatives and all that."
   ]
  },
  {
   "cell_type": "code",
   "execution_count": 76,
   "id": "2bdbc9d5-8062-483b-bba2-a63cd3f3b06b",
   "metadata": {},
   "outputs": [
    {
     "data": {
      "text/plain": [
       "Text(0, 0.5, 'weights')"
      ]
     },
     "execution_count": 76,
     "metadata": {},
     "output_type": "execute_result"
    },
    {
     "data": {
      "image/png": "[encoded data removed]",
      "text/plain": [
       "<Figure size 640x480 with 1 Axes>"
      ]
     },
     "metadata": {},
     "output_type": "display_data"
    }
   ],
   "source": [
    "lasso = Lasso(max_iter = 100000)\n",
    "coefs = []\n",
    "\n",
    "for l in lambdas:\n",
    "    lasso.set_params(alpha=l)\n",
    "    lasso.fit(X_train, y_train)\n",
    "    coefs.append(lasso.coef_)\n",
    "    \n",
    "ax = plt.gca()\n",
    "ax.plot(lambdas*2, coefs)\n",
    "ax.set_xscale('log')\n",
    "plt.axis('tight')\n",
    "plt.xlabel('alpha')\n",
    "plt.ylabel('weights')"
   ]
  },
  {
   "cell_type": "code",
   "execution_count": 77,
   "id": "225f63c2-d889-4165-afc7-73f7e5b6057a",
   "metadata": {},
   "outputs": [
    {
     "name": "stdout",
     "output_type": "stream",
     "text": [
      "1.0531055707361898\n"
     ]
    },
    {
     "data": {
      "text/plain": [
       "9921.059317086045"
      ]
     },
     "execution_count": 77,
     "metadata": {},
     "output_type": "execute_result"
    }
   ],
   "source": [
    "lassocv = LassoCV(alphas = lambdas, max_iter = 100000)\n",
    "lassocv.fit(X_train, y_train)\n",
    "\n",
    "print(lassocv.alpha_)\n",
    "\n",
    "lasso.set_params(alpha=lassocv.alpha_)\n",
    "lasso.fit(X_train, y_train)\n",
    "mean_squared_error(y_test, lasso.predict(X_test))"
   ]
  },
  {
   "cell_type": "code",
   "execution_count": 78,
   "id": "c2cbbb1e-9b99-4b05-9429-5c7c06cd3727",
   "metadata": {},
   "outputs": [
    {
     "data": {
      "text/plain": [
       "Income        -7.637751\n",
       "Limit          0.194561\n",
       "Rating         1.090534\n",
       "Cards         19.696133\n",
       "Age           -0.542100\n",
       "Education     -0.760594\n",
       "Own            0.000000\n",
       "Student      418.286555\n",
       "Married       -4.277255\n",
       "dtype: float64"
      ]
     },
     "execution_count": 78,
     "metadata": {},
     "output_type": "execute_result"
    }
   ],
   "source": [
    "pd.Series(lasso.coef_, index=X.columns)"
   ]
  },
  {
   "cell_type": "markdown",
   "id": "45e045ba-b768-4c6b-905f-22381b40124e",
   "metadata": {},
   "source": [
    "The lasso here does a bit better than ridge, and we can see it sets one value, Own, to $0$."
   ]
  },
  {
   "cell_type": "markdown",
   "id": "85e01ff0-a508-4c70-bb64-6b6387799dc5",
   "metadata": {},
   "source": [
    "What about for larger values of $\\lambda$? Well, here we see that lasso sets many coefficients to $0$."
   ]
  },
  {
   "cell_type": "code",
   "execution_count": 81,
   "id": "4c35c8eb-5b11-47dd-a275-076f0b2d940f",
   "metadata": {},
   "outputs": [
    {
     "name": "stdout",
     "output_type": "stream",
     "text": [
      "Income      -5.547870\n",
      "Limit        0.235315\n",
      "Rating       0.000000\n",
      "Cards        0.000000\n",
      "Age         -0.000000\n",
      "Education    0.000000\n",
      "Own          0.000000\n",
      "Student      0.000000\n",
      "Married     -0.000000\n",
      "dtype: float64\n",
      "27485.90270833892\n"
     ]
    }
   ],
   "source": [
    "lasso2 = Lasso(alpha = 10**3, max_iter = 100000)\n",
    "lasso2.fit(X_train, y_train)             # Fit a ridge regression on the training data\n",
    "pred5 = lasso2.predict(X_test)           # Use this model to predict the test data\n",
    "print(pd.Series(lasso2.coef_, index = X.columns)) # Print coefficients\n",
    "print(mean_squared_error(y_test, pred5))          # Calculate the test MSE"
   ]
  },
  {
   "cell_type": "markdown",
   "id": "d942fd35-7ba4-442f-8055-453b0e91c8f1",
   "metadata": {},
   "source": [
    "As expected, most of the coefficients are $0$, which is not what we saw for large values of $\\lambda$ in ridge regression."
   ]
  }
 ],
 "metadata": {
  "kernelspec": {
   "display_name": "anaconda-panel-2023.05-py310",
   "language": "python",
   "name": "conda-env-anaconda-panel-2023.05-py310-py"
  },
  "language_info": {
   "codemirror_mode": {
    "name": "ipython",
    "version": 3
   },
   "file_extension": ".py",
   "mimetype": "text/x-python",
   "name": "python",
   "nbconvert_exporter": "python",
   "pygments_lexer": "ipython3",
   "version": "3.11.4"
  }
 },
 "nbformat": 4,
 "nbformat_minor": 5
}

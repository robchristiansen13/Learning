{
 "cells": [
  {
   "cell_type": "markdown",
   "id": "8b104035",
   "metadata": {},
   "source": [
    "# CS-6570 Lecture 15 - Dimension Reduction\n",
    "**Dylan Zwick**\n",
    "\n",
    "*Weber State University*"
   ]
  },
  {
   "cell_type": "markdown",
   "id": "53b98419",
   "metadata": {},
   "source": [
    "Most traditional statistical techniques for regression are intended for the _low-dimensional_ setting in which the number of observations $n$ is much greater than the number of features $p$. Throughout the field's history, the bulk of the problems involved a few predictors and a (relatively) large sample size.\n",
    "\n",
    "This is no longer true. New technologies have transformed our capacity to collect, store, and process data in fields as diverse as finance, marketing, and medicine. For example:\n",
    "\n",
    "* Rather than predicting blood pressure on the basis of, say, age, sex, and BMI, one might have measurements for half a million single nucleotide polymorphisms (SNPs; which are individual DNA mutations that are relatively common). Each of these SNPs could be a predictive variable in the model.\n",
    "\n",
    "\n",
    "* A marketing analyst interested in understanding people's online shopping patterns could treat as features all of the search terms entered by users of a search engine. This is sometimes known as the \"bag-of-words\" model. The researcher might only have access to the search histories of a few hundred or a few thousand search engine users who have consented to share their information. For each user, each word is scored as a $0$ or $1$ and treated as a predictor for the model.\n",
    "\n",
    "In both these cases, the number of predictors could be much higher than the number of observations."
   ]
  },
  {
   "cell_type": "markdown",
   "id": "5c2497af",
   "metadata": {},
   "source": [
    "It's madness to fit a standard regression model in this case, because you'll always get a perfect fit fit of your training data, and almost always do terribly on your testing data. Generally speaking, adding features that are truly associated with the response will improve the fitted model, but adding noise fetarues will deteriorate the model because of overfitting. This is called the _curse of dimensionality_, and is a key principle in the analysis of high dimensional data."
   ]
  },
  {
   "cell_type": "markdown",
   "id": "9ae96e57",
   "metadata": {},
   "source": [
    "In both the situations above, we'd like to decrease the dimensionality of our data, but there's no real advantage to throwing out any of the predictors. The marginal cost of the additional predictors is almost nothing, and so getting the data for 100 predictors is not much easier than getting it for 10,000, and so if there were a way to still use all or most of the predictors while reducing dimensionality, that might be nice."
   ]
  },
  {
   "cell_type": "markdown",
   "id": "6b88533d-7bbd-4390-9885-16aa016287b1",
   "metadata": {},
   "source": [
    "Mathematically, we can construct reduced dimensions as $Z_{1},Z_{2},\\ldots,Z_{M}$, where $M < p$ and the $Z_{m}$ are linear combinations of our original $p$ predictors:\n",
    "\n",
    "$\\displaystyle Z_{m} = \\sum_{j = 1}^{p}\\phi_{jm}X_{j}$.\n"
   ]
  },
  {
   "cell_type": "markdown",
   "id": "d3c07cd4-a6ae-407f-99e0-8174e1f5bd96",
   "metadata": {},
   "source": [
    "**Principle Component Analysis**\n",
    "\n",
    "One way to do this is through Principle Component Analysis (PCA). PCA is a way to reduce the dimensionality, and hopefully increase the understanding, of (typically unlabeled) data, and so is usually considered a technique from unsupervised learning. However, it can also be a method for assisting regression analysis, as we'll see in this lecture. \n",
    "\n",
    "The basic idea behind principle component analysis is to find the dimension that does the best job of explaining the data, and then to find the dimension that does the second best job explaining the data after taking the first into account, and so on. The best job explaining the data here means the dimension that captures the greatest amount of the variance in the data. This can also be understood at the line that minimizes the distance between the line and the data points.\n",
    "\n",
    "![PCA Chart](PCA%20Chart.png)\n",
    "\n",
    "These are the two principle components for the two-dimensional distribution featured in the chart. Note the first principle component is along the direction in which the data varies the most, and the second principle component is perpendicular (a.k.a. orthogonal or normal) to it.\n",
    "\n",
    "You can find a video that goes over the main ideas in PCA [here](https://youtu.be/HMOI_lkzW08). A more in-depth exploration can be found [here](https://youtu.be/FgakZw6K1QQ).\n",
    "\n",
    "For the more mathematically inclined - the covariance matrix of any distribution is a positive semi-definite matrix, which means among other things that all its eigenvalues are real and non-negative, and that its corresponding eigenvectors are linearly independent. It turns out, the eigenvectors of the covariance matrix are exactly the principle components (the directions that maximize variance / the lines that minimize the distance to them), ordered by the size of the eigenvalues, and the relative sizes of the eigenvalues tell you the relative amount of the variance explained by each principle component. It's pretty cool! A video that goes over this a bit is [here](https://youtu.be/fkf4IBRSeEc)."
   ]
  },
  {
   "cell_type": "markdown",
   "id": "bab10980",
   "metadata": {},
   "source": [
    "**Principle Component Regression**\n",
    "\n",
    "Suppose we take the first $M$ principle components. Each of our datapoints $\\textbf{x}_{i}$ has a corresponding representation in terms of the principle components $\\textbf{z}_{i} = (z_{i1},z_{i2},\\ldots,z_{ip})$. We can fit a linear regression model on the first $M$ terms of this representation using our standard regression techniques:\n",
    "\n",
    "$\\displaystyle y_{i} = \\theta_{0} + \\sum_{m = 1}^{M}\\theta_{m}z_{im} + \\epsilon_{i}$, $i = 1,\\ldots,n$.\n",
    "\n",
    "This turns the problem of estimating $p+1$ coefficients $\\beta_{0},\\beta_{1},\\ldots,\\beta_{p}$, into the problem of estimating the $M+1$ coefficients $\\theta_{0},\\theta_{1},\\ldots,\\theta_{M}$, where $M < p$. \n",
    "\n",
    "Note:\n",
    "\n",
    "$\\displaystyle \\sum_{m = 1}^{M}\\theta_{m}z_{im} = \\sum_{m = 1}^{M}\\theta_{m}\\sum_{j = 1}^{p}\\phi_{jm}x_{ij} = \\sum_{j = 1}^{p}\\sum_{m = 1}^{M}\\theta_{m}\\phi_{jm}x_{ij} = \\sum_{j = 1}^{p}\\beta_{j}x_{ij}$,\n",
    "\n",
    "where\n",
    "\n",
    "$\\displaystyle \\beta_{j} = \\sum_{m = 1}^{M}\\theta_{m}\\phi_{jm}$.\n",
    "\n",
    "So this can be viewed as a special case of the linear regression model where the coefficient vector $\\mathbf{\\beta}$ is constrained to be a linear combination of the vectors $\\mathbf{\\phi}_{m}$. Note that if $M = p$ and the vectors $\\mathbf{\\phi}_{m}$ are linearly independent then this is no restriction at all."
   ]
  },
  {
   "cell_type": "markdown",
   "id": "a66cfd59-35c2-47b4-af30-6fa2373c45b4",
   "metadata": {},
   "source": [
    "***PCA In Python***"
   ]
  },
  {
   "cell_type": "markdown",
   "id": "558c9ad7-bfbf-4d97-bac1-dc22eb805490",
   "metadata": {},
   "source": [
    "Let's take a look at this in the context of same data. Specifically, we'll use the Credit data from our discussion of ridge and lasso regression. But first, let's import our favorite libraries."
   ]
  },
  {
   "cell_type": "code",
   "execution_count": 10,
   "id": "fd6c875d",
   "metadata": {},
   "outputs": [],
   "source": [
    "import numpy as np\n",
    "import pandas as pd\n",
    "import matplotlib.pyplot as plt"
   ]
  },
  {
   "cell_type": "markdown",
   "id": "39ab672b-b5a0-497f-b41b-d377cc5d90c0",
   "metadata": {},
   "source": [
    "Now, we can import the data:"
   ]
  },
  {
   "cell_type": "markdown",
   "id": "7a09d615",
   "metadata": {},
   "source": [
    "We'll grab our standard predictor and target variables, and go through the transformations of the data we did before:"
   ]
  },
  {
   "cell_type": "code",
   "execution_count": 14,
   "id": "873a6b2e",
   "metadata": {},
   "outputs": [],
   "source": [
    "predictors = ['Income', 'Limit', 'Rating', 'Cards', 'Age', 'Education', 'Own', 'Student', 'Married']\n",
    "target = 'Balance'\n",
    "\n",
    "credit_df['Own'] = credit_df['Own'].map({'No':0,'Yes':1})\n",
    "credit_df['Student'] = credit_df['Student'].map({'No':0,'Yes':1})\n",
    "credit_df['Married'] = credit_df['Married'].map({'No':0,'Yes':1})\n",
    "\n",
    "X = credit_df[predictors]\n",
    "y = credit_df[target]"
   ]
  },
  {
   "cell_type": "markdown",
   "id": "54c1008a-8596-40d4-a3ba-eab17fa48816",
   "metadata": {},
   "source": [
    "We'll now generate our principle components. However, before we do so, we must take something about PCA into account. The choice of principle components is dependent on the *scale* of the predictors. So, before we do PCA, we'll want to scale our data so all our variables have zero mean and unit variance.\n",
    "\n",
    "_Warning_: Risk of data leak! Do not use scale unless you know what you are doing. A common mistake is to apply it to the entire data before splitting into training and test sets. This will bias the model evaluation because information would have leaked from the test set to the training set. As we'll want to test our model on a test dataset, we'll want to split our data into a training set and a test set before we apply PCA."
   ]
  },
  {
   "cell_type": "code",
   "execution_count": 16,
   "id": "ed09208a-184a-45fb-9dc6-c57aa387be29",
   "metadata": {},
   "outputs": [],
   "source": [
    "from sklearn.model_selection import train_test_split\n",
    "X_train, X_test, y_train, y_test = train_test_split(X, y, test_size=0.2, random_state=42)"
   ]
  },
  {
   "cell_type": "markdown",
   "id": "f2c84bc5-fd40-4aca-b1df-b1877d1b23c7",
   "metadata": {},
   "source": [
    "Now we can scale our training and test data separately."
   ]
  },
  {
   "cell_type": "code",
   "execution_count": 18,
   "id": "2f4b9709-b15a-4b29-acde-7ac6885b187e",
   "metadata": {},
   "outputs": [],
   "source": [
    "from sklearn.preprocessing import scale \n",
    "# Run standardization on X variables\n",
    "X_train_scaled = scale(X_train)\n",
    "X_test_scaled = scale(X_test)"
   ]
  },
  {
   "cell_type": "markdown",
   "id": "cbe13315-ded0-4695-b0f7-74f6d86467ab",
   "metadata": {},
   "source": [
    "With our data scaled appropriately, we can do PCA on the scaled training data."
   ]
  },
  {
   "cell_type": "code",
   "execution_count": 20,
   "id": "a2d1a08c-4d1e-48e7-8203-8a84b3d99023",
   "metadata": {},
   "outputs": [
    {
     "name": "stdout",
     "output_type": "stream",
     "text": [
      "[[ 5.44381070e-01  5.85388190e-01  5.85818790e-01  2.34217341e-02\n",
      "   1.23048060e-01 -2.31057787e-02 -3.94698654e-02 -1.60170653e-03\n",
      "   1.59612750e-03]\n",
      " [-5.72620799e-02 -4.18447246e-02 -1.79933328e-02  5.49447850e-01\n",
      "   3.77865641e-01 -5.63472191e-01  1.45119033e-01 -1.52698719e-01\n",
      "  -4.33697577e-01]\n",
      " [ 2.81772426e-02 -1.45805551e-02 -2.29035776e-02 -1.38737407e-01\n",
      "   2.14363058e-01  3.13485823e-01  1.83776081e-01  6.84256382e-01\n",
      "  -5.77074936e-01]\n",
      " [-1.77032570e-02  7.68327753e-02  8.25183604e-02  6.02776196e-02\n",
      "  -5.05213740e-01 -2.88269826e-01  7.46294533e-01  2.46523928e-01\n",
      "   1.65138292e-01]\n",
      " [-1.29095031e-02  1.55014812e-02  3.93900084e-02  5.15996213e-01\n",
      "  -4.86813266e-01 -7.62675288e-02 -5.48290654e-01  4.33914429e-01\n",
      "  -9.00659945e-03]\n",
      " [-3.90348841e-02 -2.20226321e-02  4.53589782e-03  6.03869825e-01\n",
      "   3.18863467e-01  5.31657030e-01  2.57837524e-01  6.68553180e-02\n",
      "   4.21934842e-01]\n",
      " [ 2.41805098e-02 -6.66257750e-02 -6.80844337e-02 -1.94647013e-01\n",
      "   4.42926395e-01 -4.60537271e-01 -1.29535140e-01  5.03899944e-01\n",
      "   5.22953614e-01]\n",
      " [ 8.34846689e-01 -3.84990077e-01 -3.74224443e-01  7.00645418e-02\n",
      "  -7.77135920e-02 -3.23947265e-03  5.26404323e-02 -3.20668953e-02\n",
      "  -3.38747169e-03]\n",
      " [-4.34440321e-03 -7.04323912e-01  7.09159475e-01 -3.11394580e-02\n",
      "   1.65831339e-04  3.36945996e-03 -4.69357054e-04 -2.21063931e-03\n",
      "  -3.95466098e-03]]\n"
     ]
    }
   ],
   "source": [
    "from sklearn.decomposition import PCA\n",
    "# Generate all the principal components\n",
    "pca = PCA() # Default n_components = min(n_samples, n_features)\n",
    "#The fit_transform returns a numpy array of each data point expressed in terms of the principle components\n",
    "X_train_pc = pca.fit_transform(X_train_scaled)\n",
    "# View the principle components\n",
    "print(pca.components_)"
   ]
  },
  {
   "cell_type": "markdown",
   "id": "2baaaaea-a669-4a62-96e4-418ea047048e",
   "metadata": {},
   "source": [
    "The pca class has an attribute \"exploined_variance_ratio_\" that returns the percentage of the variance that is explained by each principle component. Should be non-increasing."
   ]
  },
  {
   "cell_type": "code",
   "execution_count": 22,
   "id": "bff45e9e-6f71-4d9f-b7bf-f47ffe0e26d6",
   "metadata": {},
   "outputs": [
    {
     "name": "stdout",
     "output_type": "stream",
     "text": [
      "For component 1 the percentage of the variance explained is: 30.80%\n",
      "For component 2 the percentage of the variance explained is: 13.03%\n",
      "For component 3 the percentage of the variance explained is: 12.40%\n",
      "For component 4 the percentage of the variance explained is: 11.36%\n",
      "For component 5 the percentage of the variance explained is: 10.70%\n",
      "For component 6 the percentage of the variance explained is: 10.10%\n",
      "For component 7 the percentage of the variance explained is: 8.85%\n",
      "For component 8 the percentage of the variance explained is: 2.73%\n",
      "For component 9 the percentage of the variance explained is: 0.02%\n"
     ]
    }
   ],
   "source": [
    "i = 0\n",
    "for c in pca.explained_variance_ratio_:\n",
    "    i = i+1\n",
    "    print(\"For component \" + str(i) + \" the percentage of the variance explained is: {:.2%}\".format(c))"
   ]
  },
  {
   "cell_type": "markdown",
   "id": "68ade0ab-1b39-4bdc-820d-a07206fd6370",
   "metadata": {},
   "source": [
    "***Principle Component Regression in Python***"
   ]
  },
  {
   "cell_type": "markdown",
   "id": "a17ab947",
   "metadata": {},
   "source": [
    "Alright, so now we've got our principle components. But, we haven't yet answered an important question. How do we figure out the number of principle components to use? As usual, standard measures of fit like $RSS$ or $R^{2}$ aren't going to help, as they'll always increase with more components, until we're just back to standard regression. What we'll want to use is cross-validation."
   ]
  },
  {
   "cell_type": "markdown",
   "id": "d7518283",
   "metadata": {},
   "source": [
    "Python has a function \"cross_val_score\" that's part of the model_selection library in sklearn. It calculates $k$ cross validation scores, where $k$ is the chosen number of folds. It inherently tries to maximize its score, and so does not have residiual sum of squares, but instead has the negative of the mean squared error. The mean squared error is just the residual sum of squares divided by the sample size, so... the mean of the squared error. Below, we use this, take the mean over all the folds, and then multiply by both the sample size (len(y)), and -1 to get the RSS. "
   ]
  },
  {
   "cell_type": "code",
   "execution_count": 26,
   "id": "5711c6d6",
   "metadata": {},
   "outputs": [],
   "source": [
    "from sklearn.linear_model import LinearRegression\n",
    "# Initialize linear regression instance\n",
    "lin_reg = LinearRegression()\n",
    "\n",
    "# Create empty list to store RMSE for each iteration\n",
    "rss_list = []\n",
    "\n",
    "from sklearn.model_selection import cross_val_score\n",
    "# Loop through different count of principal components for linear regression\n",
    "for i in range(1, X_train_pc.shape[1]+1):\n",
    "    rss_score = -1 * cross_val_score(lin_reg, \n",
    "                                      X_train_pc[:,:i], # Use first k principal components\n",
    "                                      y_train, \n",
    "                                      cv=10, \n",
    "                                      scoring='neg_mean_squared_error').mean()*len(y_train)\n",
    "    rss_list.append(rss_score)"
   ]
  },
  {
   "cell_type": "markdown",
   "id": "e868571c-a345-493a-97c5-5f616d71699a",
   "metadata": {},
   "source": [
    "We can plot the performance of the principle component regression model on the training data based on the number of principle components used:"
   ]
  },
  {
   "cell_type": "code",
   "execution_count": 28,
   "id": "5e393534-f3bc-429c-9318-456864b2b851",
   "metadata": {},
   "outputs": [
    {
     "name": "stdout",
     "output_type": "stream",
     "text": [
      "[27066229.495065503, 27091090.928622954, 26211144.217201713, 23923041.25390045, 21505954.841507506, 21474224.75192905, 21590311.94332417, 3415113.08924641, 3402436.3372456348]\n"
     ]
    },
    {
     "data": {
      "image/png": "[encoded data removed]",
      "text/plain": [
       "<Figure size 432x288 with 1 Axes>"
      ]
     },
     "metadata": {
      "needs_background": "light"
     },
     "output_type": "display_data"
    }
   ],
   "source": [
    "# Visual analysis - plot RSS vs count of principal components used\n",
    "plt.xlabel('Number of principal components in regression')\n",
    "plt.ylabel('RSS')\n",
    "plt.title('RSS by Number of Principle Components')\n",
    "#The next command just sets the xticks to start at 1 and not 0.\n",
    "plt.xticks(np.arange(0,X_train_pc.shape[1]),np.arange(1, X_train_pc.shape[1]+1))\n",
    "plt.plot(rss_list, '-o');\n",
    "\n",
    "print(rss_list)"
   ]
  },
  {
   "cell_type": "markdown",
   "id": "f585feb4",
   "metadata": {},
   "source": [
    "Alright, so it looks like we see a big drop when the number of principle components goes to 8. Now, let's check out how the models do on the test data."
   ]
  },
  {
   "cell_type": "code",
   "execution_count": 30,
   "id": "9a3b9683",
   "metadata": {},
   "outputs": [
    {
     "name": "stdout",
     "output_type": "stream",
     "text": [
      "[27138.151278373523, 26957.57183345366, 25944.615647220962, 25882.678493186933, 23764.71358057777, 23890.789944167354, 23912.149528559745, 11608.685998296409, 11612.739372434226]\n"
     ]
    },
    {
     "data": {
      "image/png": "[encoded data removed]",
      "text/plain": [
       "<Figure size 432x288 with 1 Axes>"
      ]
     },
     "metadata": {
      "needs_background": "light"
     },
     "output_type": "display_data"
    }
   ],
   "source": [
    "from sklearn.metrics import mean_squared_error\n",
    "\n",
    "rss_test_list = []\n",
    "\n",
    "for i in range(1, X_train_pc.shape[1]+1):\n",
    "    lin_reg_pc = lin_reg.fit(X_train_pc[:,:i], y_train)\n",
    "    X_test_pc = pca.transform(X_test_scaled)[:,:i]\n",
    "    preds = lin_reg_pc.predict(X_test_pc)\n",
    "    pcr_score_test = mean_squared_error(y_test,preds,squared=False)*len(y_test)\n",
    "    rss_test_list.append(pcr_score_test)\n",
    "\n",
    "plt.xlabel('Number of principal components in regression')\n",
    "plt.ylabel('RSS')\n",
    "plt.title('RSS by Number of Principle Components')\n",
    "#The next command just sets the xticks to start at 1 and not 0.\n",
    "plt.xticks(np.arange(0,X_test_pc.shape[1]),np.arange(1, X_test_pc.shape[1]+1))\n",
    "plt.plot(rss_test_list, '-o');\n",
    "\n",
    "print(rss_test_list)"
   ]
  },
  {
   "cell_type": "markdown",
   "id": "931e93ae",
   "metadata": {},
   "source": [
    "It appears to do a bit better - a bit - with 8 principle components."
   ]
  }
 ],
 "metadata": {
  "kernelspec": {
   "display_name": "anaconda-2022.05-py39",
   "language": "python",
   "name": "conda-env-anaconda-2022.05-py39-py"
  },
  "language_info": {
   "codemirror_mode": {
    "name": "ipython",
    "version": 3
   },
   "file_extension": ".py",
   "mimetype": "text/x-python",
   "name": "python",
   "nbconvert_exporter": "python",
   "pygments_lexer": "ipython3",
   "version": "3.9.12"
  }
 },
 "nbformat": 4,
 "nbformat_minor": 5
}

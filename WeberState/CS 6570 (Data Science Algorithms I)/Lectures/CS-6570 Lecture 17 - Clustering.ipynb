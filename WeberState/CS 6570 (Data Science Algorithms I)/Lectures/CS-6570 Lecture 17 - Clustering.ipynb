{
 "cells": [
  {
   "cell_type": "markdown",
   "id": "cbf6f0bb",
   "metadata": {},
   "source": [
    "# CS-6570 Lecture 17 - Clustering\n",
    "**Dylan Zwick**\n",
    "\n",
    "*Weber State University*"
   ]
  },
  {
   "cell_type": "markdown",
   "id": "be8f3375",
   "metadata": {},
   "source": [
    "Today we're going to continue with the topic of \"unsupervised learning\" that we began last week with principle component analysis. To review, the idea behind \"unsupervised\" learning is that we're trying to derive information about our data but we're not trying to predict anything. This means that for our training data, we don't have a set of correct answers that we can use to gauge whether our model is performing. With unsupervised learning, it's hard to say what the \"correct\" answer is, and calls around this are inherently and necessarily more subjective."
   ]
  },
  {
   "cell_type": "markdown",
   "id": "ee522e27-2182-4429-95c2-c8fd2c5c119b",
   "metadata": {},
   "source": [
    "Specifically, today we'll talk about *clustering*, which refers to a very broad set of techniques for finding groups, or *clusters*, within a data set. When we cluster data, we seek to partition them into distinct groups so that observations within each group are quite similar to each other, while observations in different groups are quite different from each other. Of course, to do this we must precisely define what we mean by \"similar\" and \"different\", which is often a domain-specific consideration that must be made based on knowledge of the data being studied. Always keep in mind (as this comes up in business contexts all the time) that a metric isn't something you derive - it's something you define."
   ]
  },
  {
   "cell_type": "markdown",
   "id": "d73ea388-2adf-474a-8412-7f3446e0ca21",
   "metadata": {},
   "source": [
    "One situation where you might apply clustering is in marketing. We may have access to a large number of measurements about many people, and we can to perform *market segmentation* by identifying subgroups of people who might be more receptive to a particular form of advertising, or more likely to purchase a particular product. Clustering has also been used for online dating tools. For example, back in 2008 [match.com](https://www.match.com/) advertised that they had a [\"personality test\"](https://www.24-7pressrelease.com/press-release/77946/matchcom-brings-science-to-the-art-of-matchmaking-with-match-insights) where, based on your answers to 56 questions, you could be categorized into one of four clusters: Explorer, Builder, Negotiator, or Director. This is a form of clustering with four clusters."
   ]
  },
  {
   "cell_type": "markdown",
   "id": "6adacdf2-fd6f-49dd-90f3-18e931ce0d28",
   "metadata": {},
   "source": [
    "There are many clustering methods. Today, we'll focus on the two best-known approaches: *K-means* and *hierarchical*. In K-means clustering, we seek to partition the observations into a pre-specified number of clusters. In hierarchical, we do not know in advance how many clusters we want, and make that call at the end. There are pros and cons to both."
   ]
  },
  {
   "cell_type": "markdown",
   "id": "455c2766-0195-4005-8225-2abc06be8c83",
   "metadata": {},
   "source": [
    "**K-Means Clustering**\n",
    "\n",
    "K-means is a simple method for partitioning a data set into K distinct, non-overlapping clusters. To perform K-means clustering, we must first specify the desired number of clusters $K$; then the algorithm assigns each observation to exactly one of the clusters. So, $K$ is yet another hyperparameter that must be specified before modeling begins.\n",
    "\n",
    "To describe this algorithm, we'll start be defining some notation. Let $C_{1},\\ldots,C_{K}$ denote sets containing the indices of the observations in each cluster. These sets satisfy two properties:\n",
    "\n",
    "1. $C_{1} \\cup C_{2} \\cup \\cdots \\cup C_{K} = \\{1,2,\\ldots,n\\}$. In other words, each observation belongs to at least one of the $K$ clusters.\n",
    "2. $C_{k} \\cap C_{k'} = \\emptyset$ for all $k \\neq k'$. In other words, tho clusters are non-overlapping (disjoint).\n",
    "\n",
    "For example, if the $i$th observation is in the $k$th cluster, then $i \\in C_{k}$."
   ]
  },
  {
   "cell_type": "markdown",
   "id": "4f3674c1-496d-48cc-bdc5-4a9ba1ca3bf4",
   "metadata": {},
   "source": [
    "An example of K-means clustering for different values of $K$ is the image below, which clusters 150 observations from simulated data. Note there is no ordering of the clusters, so the cluster coloring is arbitrary.\n",
    "\n",
    "<center>\n",
    "    <div>\n",
    "        <img src=\"K-means clusters for different values of K.jpg\" width=\"800\"/>\n",
    "    </div>\n",
    "</center>"
   ]
  },
  {
   "cell_type": "markdown",
   "id": "edc6d4c3-59c9-44b4-a9dc-1ed9fe7ab543",
   "metadata": {},
   "source": [
    "So, what makes a clustering \"good\"? Well, the idea behind K-means is that a \"good\" clustering is one for which the *within-cluster variation* is as small as possible. We can write this mathematically as:\n",
    "\n",
    "<center>\n",
    "    $\\displaystyle \\underset{C_{1},\\ldots,C_{K}}{minimize}\\left\\{\\sum_{k = 1}^{K} W(C_{k})\\right\\}$\n",
    "</center>\n",
    "\n",
    "In words, this means we want to partition the observations into $K$ clusters such that the total within-cluster variation, summed over all $K$ clusters, is as small as possible.\n",
    "\n",
    "To do this, we need to define the within-cluster variation. There are many ways to do this, but by far the most common choice uses *squared Euclidean distance*. For this, we define:\n",
    "\n",
    "<center>\n",
    "    $\\displaystyle W(C_{k}) = \\frac{1}{|C_{k}|} \\sum_{i, i' \\in C_{k}}\\sum_{j = 1}^{p} (x_{ij} - x_{i'j})^{2}$,\n",
    "</center>\n",
    "\n",
    "where $|C_{k}|$ denotes the number of observations in the $k$th cluster.\n",
    "\n",
    "Now, finding the ideal partition precisely is a very difficult problem. There will be $K^{n}$ possible ways to partition $K$ clusters, which if $n$ is reasonably large is a very large number indeed. The $K$-means algorithm doesn't find what is guaranteed to be the best partition, but usually finds a pretty good one. An outline of this algorithm is:\n",
    "\n",
    "1. Randomly assign a number, from $1$ to $K$, to each of the observations. These serve as initial cluster assignments for the observations.\n",
    "\n",
    "2. Iterate until the cluster assignments stop changing:\n",
    "    \n",
    "    (a) For each of the $K$ clusters, compute the cluster *centroid*. The $k$th cluster centroid is the vector of the $p$ feature means for the observations in the $k$th cluster.\n",
    "    \n",
    "    (b) Assign each observation to the cluster whose centroid is closest (where *closest* is defined using Euclidean distance.)\n",
    "    \n",
    "This algorithm is guaranteed to decrease the value of the objective at each step, and stops when the objective stops increasing."
   ]
  },
  {
   "cell_type": "markdown",
   "id": "39a7e992-d163-43a0-9b87-717902004afe",
   "metadata": {},
   "source": [
    "An example of the K-means algorithm in action is below, with K = 3.\n",
    "\n",
    "<center>\n",
    "    <div>\n",
    "        <img src=\"K-means Cluster Iterations.jpg\" width=\"600\"/>\n",
    "    </div>\n",
    "</center>"
   ]
  },
  {
   "cell_type": "markdown",
   "id": "2c05ec95-e680-4079-b44d-b2a11fd65111",
   "metadata": {},
   "source": [
    "Because the K-means algorithm find a local rather than a global optimum, the results obtained will depend on the initial (random) cluster assignment of each observation in Step 1 of the algorithm. For this reason, it's important to run the algorithm multiple times from different random initial configurations. Then one selects the *best* solution - the one for which the objective function is smallest."
   ]
  },
  {
   "cell_type": "markdown",
   "id": "01df895b-2434-42a3-805c-7051cd417149",
   "metadata": {},
   "source": [
    "An example of the end result for six different initial distributions is:\n",
    "\n",
    "<center>\n",
    "    <div>\n",
    "        <img src=\"K-means with different initial distributions.jpg\" width=\"600\"/>\n",
    "    </div>\n",
    "</center>\n",
    "\n",
    "We note that three of these found the same clusters, which are the best performing in terms of within-cluster variation."
   ]
  },
  {
   "cell_type": "markdown",
   "id": "661f89c8-bc80-4b7d-9b6e-6278383c9307",
   "metadata": {},
   "source": [
    "To investigate K-means clustering with some data in Python, let's first import our favorite libraries."
   ]
  },
  {
   "cell_type": "code",
   "execution_count": 14,
   "id": "01a0ceae-c4fa-40e2-b2f3-1cafa8cdbf16",
   "metadata": {},
   "outputs": [],
   "source": [
    "import numpy as np\n",
    "import pandas as pd\n",
    "import matplotlib.pyplot as plt"
   ]
  },
  {
   "cell_type": "markdown",
   "id": "7119a609-e3f0-48c0-b342-8d3de8ee4bf5",
   "metadata": {},
   "source": [
    "We'll also want to import the [K-means](https://scikit-learn.org/stable/modules/generated/sklearn.cluster.KMeans.html) algorithm from the *cluster* library in sklearn."
   ]
  },
  {
   "cell_type": "code",
   "execution_count": 16,
   "id": "486defe9-f856-4e04-90fd-af8054ffa8e7",
   "metadata": {},
   "outputs": [],
   "source": [
    "from sklearn.cluster import KMeans"
   ]
  },
  {
   "cell_type": "markdown",
   "id": "a9669604-6b6b-4371-9fa0-741bd89efedc",
   "metadata": {},
   "source": [
    "We begin with a simple simulated example in which there truly are two clusters in the data: the first 25 observations have a mean shift relative to the next 25 observations."
   ]
  },
  {
   "cell_type": "code",
   "execution_count": 18,
   "id": "f3192d3b-1c27-4400-b797-cfa67a7e545d",
   "metadata": {},
   "outputs": [],
   "source": [
    "np.random.seed(0);\n",
    "X = np.random.standard_normal((50,2));\n",
    "X[:25,0] += 3;\n",
    "X[:25,1] -= 4;"
   ]
  },
  {
   "cell_type": "markdown",
   "id": "7de23507-be3d-4cf1-92ab-a2f2e9f15959",
   "metadata": {},
   "source": [
    "If we chart these we see:"
   ]
  },
  {
   "cell_type": "code",
   "execution_count": 20,
   "id": "8be1ea17-e897-47c5-be70-0d0ca1399517",
   "metadata": {},
   "outputs": [
    {
     "data": {
      "image/png": "[encoded data removed]",
      "text/plain": [
       "<Figure size 576x576 with 1 Axes>"
      ]
     },
     "metadata": {
      "needs_background": "light"
     },
     "output_type": "display_data"
    }
   ],
   "source": [
    "fig, ax = plt.subplots(1, 1, figsize=(8,8))\n",
    "ax.scatter(X[:,0], X[:,1])\n",
    "ax.set_title(\"Two Clusters\");"
   ]
  },
  {
   "cell_type": "markdown",
   "id": "9bc287af-0c41-4c92-8e31-fbd93bbc28d2",
   "metadata": {},
   "source": [
    "We can now perform K-means clustering with $K = 2$:"
   ]
  },
  {
   "cell_type": "code",
   "execution_count": 22,
   "id": "14bffddf-76d1-4df5-8a5b-c593e863dc33",
   "metadata": {},
   "outputs": [],
   "source": [
    "kmeans = KMeans(n_clusters=2,\n",
    "                random_state=2,\n",
    "                n_init=20).fit(X)"
   ]
  },
  {
   "cell_type": "markdown",
   "id": "ffab2236-6ef8-448d-9e6a-07a5be8e648f",
   "metadata": {},
   "source": [
    "The specification of the random state makes the results reproducible. The *n_init* term is the number of times K-means is run with different initial values. From all these runs the one with the smallest within-cluster variation is chosen. We can examine the labels of our model to view which observation was placed in which cluster."
   ]
  },
  {
   "cell_type": "code",
   "execution_count": 24,
   "id": "3f9c1394-f3c8-4e46-8f7d-fe0410ca8dc4",
   "metadata": {},
   "outputs": [
    {
     "data": {
      "text/plain": [
       "array([1, 1, 1, 1, 1, 1, 1, 1, 1, 1, 1, 1, 1, 1, 1, 1, 1, 1, 1, 1, 1, 0,\n",
       "       1, 1, 1, 0, 0, 0, 0, 0, 0, 0, 0, 0, 0, 0, 0, 0, 0, 0, 0, 0, 0, 0,\n",
       "       0, 0, 0, 0, 0, 0], dtype=int32)"
      ]
     },
     "execution_count": 24,
     "metadata": {},
     "output_type": "execute_result"
    }
   ],
   "source": [
    "kmeans.labels_"
   ]
  },
  {
   "cell_type": "markdown",
   "id": "c73478bf-e6f9-402b-b625-5c1dc96d2573",
   "metadata": {},
   "source": [
    "We can also graph the chart above again, only this time with the points colored by cluster:"
   ]
  },
  {
   "cell_type": "code",
   "execution_count": 26,
   "id": "de64cd7a-3800-44e4-8fd5-d0e3dc740f55",
   "metadata": {},
   "outputs": [
    {
     "data": {
      "image/png": "[encoded data removed]",
      "text/plain": [
       "<Figure size 576x576 with 1 Axes>"
      ]
     },
     "metadata": {
      "needs_background": "light"
     },
     "output_type": "display_data"
    }
   ],
   "source": [
    "fig, ax = plt.subplots(1, 1, figsize=(8,8))\n",
    "ax.scatter(X[:,0], X[:,1], c=kmeans.labels_)\n",
    "ax.set_title(\"K-Means Clustering Results with K=2\");"
   ]
  },
  {
   "cell_type": "markdown",
   "id": "462b7814-ee6c-40aa-b5b0-4f269afe93b2",
   "metadata": {},
   "source": [
    "Our generated data has two clusters by design. However, if we set $K = 3$ we can also observe the clusters we get:"
   ]
  },
  {
   "cell_type": "code",
   "execution_count": 28,
   "id": "9261b25b-aa67-4e19-a538-7ff17ca7bfda",
   "metadata": {},
   "outputs": [
    {
     "data": {
      "image/png": "[encoded data removed]",
      "text/plain": [
       "<Figure size 576x576 with 1 Axes>"
      ]
     },
     "metadata": {
      "needs_background": "light"
     },
     "output_type": "display_data"
    }
   ],
   "source": [
    "kmeans = KMeans(n_clusters=3,\n",
    "                random_state=3,\n",
    "                n_init=20).fit(X)\n",
    "fig, ax = plt.subplots(figsize=(8,8))\n",
    "ax.scatter(X[:,0], X[:,1], c=kmeans.labels_)\n",
    "ax.set_title(\"K-Means Clustering Results with K=3\");"
   ]
  },
  {
   "cell_type": "markdown",
   "id": "75794cb4-7bb3-49e0-b198-e2927e1f7849",
   "metadata": {},
   "source": [
    "**Hierarchical Clustering**\n",
    "\n",
    "One potential disadvantage of K-means clustering is it requires us to pre-specify the number of clusters. *Hierarchical clustering* is an alternative approach which does not. It instead results in an attractive tree-based representation of the observations, called a *dendogram*. Here we'll describe \"bottom-up\" or \"agglomerative\" clustering, which is the most common type of hierarchical clustering.\n",
    "\n",
    "The hierarchical clustering dendogram is obtained via an extremely simple algorithm. It begins by defining some sort of *dissimilarity* measure (like Euclidean distance) between each pair of observations. All $n$ observations are initially clusters, and the two clusters that are most similar are then *fused* so there are now $n-1$ clusters. This is then iteratively repeated until there is only one cluster. However, while we may have a definition of dissimilarity between two observations, this isn't enough if we want to merge (fuse) clusters with more than one observation. We need some measure of dissimilarity between groups of observations. This extension is achieved by developing the notion of *linkage*, which defines the dissimilarity between two groups of observations. The four most common types of linkage are *complete*, *average*, *single*, and *centroid*.\n",
    "\n",
    "| Linkage | Description |\n",
    "| --- | --- |\n",
    "| Complete | Maximal intercluster dissimilarity. Compute all pairwise  dissimilarities between the observations in cluster A and the observations in cluster B, and record the *largest* of these dissimilarities. |\n",
    "| Single | Minimal intercluster dissimilarity. Compute all pairwise dissimilarities between the observations in cluster A and the observations in cluster B, and record the *smallest* of these dissimilarities. Single linkage can result in extended, trailing clusters in which single observations are fused one-at-a-time. |\n",
    "| Average | Mean intercluster dissimilarity. Compute all pairwise dissimilarities between the observations in cluster A and the observations in cluster B, and record the *average* of these dissimilarities. |\n",
    "| Centroid | Dissimilarity between the centroid for cluster A (a mean vector of length $p$) and the centroid for cluster B. Centroid linkage can result in undesirable *inversions*. |\n",
    "\n",
    "Complete, single, average linkage are most popular among statisticians. Average and complete linkage are g enerally preferred over single linkage, as they tend to yield more balanced dendograms. Centroid linkage is often used in genomics, but suffers from a major drawback in that an *inversion* can occur, whereby two clusters are fused at a heigh *below* either of the individual clusters in the dendogram. Generally speaking, the dendogram depends quite strongly on the type of linkage used."
   ]
  },
  {
   "cell_type": "markdown",
   "id": "f0406a31-3011-4fa1-8485-6329e4680869",
   "metadata": {},
   "source": [
    "Once a dissimilarity measure has been chosen, the algorithm proceeds as follows:\n",
    "\n",
    "1. Begin with $n$ observations and a measure (such as Euclidean distance) of all the $\\displaystyle {n \\choose 2} = \\frac{n(n-1)}{2}$ pairwise dissimilarities. Treat each observation as its own cluster.\n",
    "\n",
    "2. For $i = n, n-1, \\ldots , 2$:\n",
    "\n",
    "    (a) Examine all pairwise inter-cluster dissimilarities among the $i$ clusters and identify the pair of clusters that are least dissimilar (that is, most similar). Fuse these two clusters. The dissimilarity between these two clusters indicates the height in the dendogram at which the fusion should be placed.\n",
    "    \n",
    "    (b) Compute the new pairwise inter-cluster dissimilarities among the $i-1$ clusters.\n",
    "    \n"
   ]
  },
  {
   "cell_type": "markdown",
   "id": "7a0eec53-3cad-4109-bfe8-5791cee5d47c",
   "metadata": {},
   "source": [
    "The [AgglomerativeClustering](https://scikit-learn.org/stable/modules/generated/sklearn.cluster.AgglomerativeClustering.html) function from sklearn's clustering library implements hierarchical clustering. As its name is long, we use the short hand HClust for hierarchical clustering. Note that this will not change the return type, so instances will still be of class AgglomerativeClustering. We'll also create our own function for clustering using complete linkage. The distance threshold is the threshold at or above which clusters will not be merged."
   ]
  },
  {
   "cell_type": "code",
   "execution_count": 32,
   "id": "33314751-14f8-46c3-a0c7-26715a20d835",
   "metadata": {},
   "outputs": [],
   "source": [
    "from sklearn.cluster import AgglomerativeClustering"
   ]
  },
  {
   "cell_type": "code",
   "execution_count": 33,
   "id": "f29e559d-5ab1-414b-8aed-14cf8a681493",
   "metadata": {},
   "outputs": [],
   "source": [
    "HClust = AgglomerativeClustering\n",
    "hc_comp = HClust(distance_threshold=0,\n",
    "                 n_clusters=None,\n",
    "                 linkage='complete')\n",
    "hc_comp.fit(X);"
   ]
  },
  {
   "cell_type": "markdown",
   "id": "f1fe7968-e858-41de-9ed8-37136f9fa33a",
   "metadata": {},
   "source": [
    "We can use [dendrogram](https://scikit-learn.org/stable/auto_examples/cluster/plot_agglomerative_dendrogram.html) from scipy.cluster.hierarchy to plot the dendrogram. However, it expects a so-called linkage-matrix representation of the clustering, which is not provided by *AgglomerativeClustering*, but can be computed. The function compute_linkage() below will do this. Don't worry about understanding it, just load it."
   ]
  },
  {
   "cell_type": "code",
   "execution_count": 35,
   "id": "fabf3e2a-a95d-4201-9e0a-60487673130f",
   "metadata": {},
   "outputs": [],
   "source": [
    "def compute_linkage(hclust):\n",
    "    \"\"\"\n",
    "\n",
    "    Create linkage matrix used to plot a dendrogram\n",
    "\n",
    "    Follows [sklearn example](https://scikit-learn.org/stable/auto_examples/cluster/plot_agglomerative_dendrogram.html)\n",
    "\n",
    "    Parameters\n",
    "    ----------\n",
    "\n",
    "    hclust : `sklearn.cluster.AgglomerativeClustering`\n",
    "        Fitted hierarchical clustering object.\n",
    "\n",
    "    Returns\n",
    "    -------\n",
    "\n",
    "    linkage_matrix : np.ndarray\n",
    "        Array to be passed to `dendrogram` from `scipy.cluster.hierarchy`.\n",
    "\n",
    "    \"\"\"\n",
    "    \n",
    "    counts = np.zeros(hclust.children_.shape[0])\n",
    "    n_samples = len(hclust.labels_)\n",
    "    for i, merge in enumerate(hclust.children_):\n",
    "        current_count = 0\n",
    "        for child_idx in merge:\n",
    "            if child_idx < n_samples:\n",
    "                current_count += 1  # leaf node\n",
    "            else:\n",
    "                current_count += counts[child_idx - n_samples]\n",
    "        counts[i] = current_count\n",
    "\n",
    "    linkage_matrix = np.column_stack([hclust.children_, hclust.distances_,\n",
    "                                      counts]).astype(float)\n",
    "    return linkage_matrix"
   ]
  },
  {
   "cell_type": "code",
   "execution_count": 36,
   "id": "90aab4ec-644f-41e7-bc90-4e88ba46dc15",
   "metadata": {},
   "outputs": [],
   "source": [
    "from scipy.cluster.hierarchy import dendrogram"
   ]
  },
  {
   "cell_type": "markdown",
   "id": "70300924-4568-4cbe-88dd-1b38aaa3ad1a",
   "metadata": {},
   "source": [
    "We can now plot the dendrograms. The numbers at the bottom of the plot identify each observation. The *dendrogram* function has a default method to color different branches of the tree that suggests a pre-defined cut of the tree at a particular depth. We may want to override this and color branches of the tree above and below a cut-threshold that we specify. This can be achieved by changing the `color_threshold`. Let’s cut the tree at a height of 4, coloring links that merge above 4 in black."
   ]
  },
  {
   "cell_type": "code",
   "execution_count": 38,
   "id": "24f20cd5-4331-41ca-bac4-31c5bba83aed",
   "metadata": {},
   "outputs": [
    {
     "data": {
      "image/png": "[encoded data removed]",
      "text/plain": [
       "<Figure size 576x576 with 1 Axes>"
      ]
     },
     "metadata": {
      "needs_background": "light"
     },
     "output_type": "display_data"
    }
   ],
   "source": [
    "linkage_comp = compute_linkage(hc_comp)\n",
    "fig, ax = plt.subplots(1, 1, figsize=(8, 8))\n",
    "dendrogram(linkage_comp,\n",
    "           ax=ax,\n",
    "           color_threshold=4,\n",
    "           above_threshold_color='black');"
   ]
  },
  {
   "cell_type": "markdown",
   "id": "ea13295d-60bd-45aa-adc9-04c97e5d66e9",
   "metadata": {},
   "source": [
    "To determine the cluster labels for each observation associated with a\n",
    "given cut of the dendrogram, we can use the `cut_tree()` \n",
    "function from `scipy.cluster.hierarchy`:"
   ]
  },
  {
   "cell_type": "code",
   "execution_count": 40,
   "id": "951f4bd9-ad58-4320-a727-a9eea16d032a",
   "metadata": {},
   "outputs": [],
   "source": [
    "from scipy.cluster.hierarchy import cut_tree"
   ]
  },
  {
   "cell_type": "code",
   "execution_count": 41,
   "id": "f502b6a1-cc64-4d35-b5ca-0e065f68437c",
   "metadata": {
    "tags": []
   },
   "outputs": [
    {
     "data": {
      "text/plain": [
       "array([[0, 1, 0, 0, 1, 1, 0, 1, 0, 0, 2, 0, 0, 0, 1, 1, 0, 0, 1, 0, 0, 2,\n",
       "        0, 2, 2, 3, 2, 3, 3, 3, 3, 2, 3, 3, 3, 3, 2, 3, 3, 3, 3, 2, 3, 3,\n",
       "        3, 3, 3, 3, 3, 3]])"
      ]
     },
     "execution_count": 41,
     "metadata": {},
     "output_type": "execute_result"
    }
   ],
   "source": [
    "cut_tree(linkage_comp, n_clusters=4).T\n"
   ]
  },
  {
   "cell_type": "markdown",
   "id": "70a66c3f-3241-4219-8bd8-9fb5f077caa3",
   "metadata": {},
   "source": [
    "This can also be achieved by providing an argument `n_clusters`\n",
    "to `HClust()`; however each cut would require recomputing\n",
    "the clustering. Similarly, trees may be cut by distance threshold\n",
    "with an argument of `distance_threshold` to `HClust()`\n",
    "or `height` to `cut_tree()`."
   ]
  },
  {
   "cell_type": "code",
   "execution_count": 43,
   "id": "d2a99610-c11a-4a1d-b8cb-eb27117213bf",
   "metadata": {
    "tags": []
   },
   "outputs": [
    {
     "data": {
      "text/plain": [
       "array([[0, 1, 0, 0, 1, 1, 0, 1, 0, 0, 2, 0, 0, 0, 1, 1, 0, 0, 1, 0, 0, 2,\n",
       "        0, 2, 2, 3, 2, 3, 3, 3, 3, 2, 3, 3, 3, 3, 2, 3, 3, 3, 3, 2, 3, 3,\n",
       "        3, 3, 3, 3, 3, 3]])"
      ]
     },
     "execution_count": 43,
     "metadata": {},
     "output_type": "execute_result"
    }
   ],
   "source": [
    "cut_tree(linkage_comp, height=4).T"
   ]
  },
  {
   "cell_type": "code",
   "execution_count": 44,
   "id": "c52394b6-a32e-4b36-9621-5646e3e793f0",
   "metadata": {},
   "outputs": [
    {
     "data": {
      "image/png": "[encoded data removed]",
      "text/plain": [
       "<Figure size 576x576 with 1 Axes>"
      ]
     },
     "metadata": {
      "needs_background": "light"
     },
     "output_type": "display_data"
    }
   ],
   "source": [
    "fig, ax = plt.subplots(figsize=(8,8))\n",
    "ax.scatter(X[:,0], X[:,1], c=cut_tree(linkage_comp, height = 4))\n",
    "ax.set_title(\"Heirarchical Clustering Cut at Height 4\");"
   ]
  },
  {
   "cell_type": "markdown",
   "id": "674303ec-d35f-4ab3-bc8b-eb51809a9d5a",
   "metadata": {},
   "source": [
    "**A Note About Scale**\n",
    "\n",
    "The dissimilarity measures used for clustering are typically dependent on the scale of the data. Consequently, you may want to scale your data before you start clustering. The *preprocessing* library in sklearn provides a function that does this called StandardScaler."
   ]
  },
  {
   "cell_type": "code",
   "execution_count": 66,
   "id": "58fe5dba-3424-4db7-a1a5-c6f0048ab903",
   "metadata": {},
   "outputs": [],
   "source": [
    "from sklearn.preprocessing import StandardScaler"
   ]
  }
 ],
 "metadata": {
  "kernelspec": {
   "display_name": "anaconda-2022.05-py39",
   "language": "python",
   "name": "conda-env-anaconda-2022.05-py39-py"
  },
  "language_info": {
   "codemirror_mode": {
    "name": "ipython",
    "version": 3
   },
   "file_extension": ".py",
   "mimetype": "text/x-python",
   "name": "python",
   "nbconvert_exporter": "python",
   "pygments_lexer": "ipython3",
   "version": "3.9.12"
  }
 },
 "nbformat": 4,
 "nbformat_minor": 5
}

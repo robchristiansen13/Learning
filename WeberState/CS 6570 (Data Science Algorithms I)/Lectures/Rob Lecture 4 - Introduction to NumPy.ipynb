{
  "cells": [
    {
      "cell_type": "markdown",
      "id": "1ed5facf-e943-465f-ad0e-b39775b6417f",
      "metadata": {
        "id": "1ed5facf-e943-465f-ad0e-b39775b6417f"
      },
      "source": [
        "# CS-6570 Lecture 4 - An Intro to NumPy\n",
        "\n",
        "**Dylan Zwick**\n",
        "\n",
        "*Weber State University*"
      ]
    },
    {
      "cell_type": "markdown",
      "id": "38ea4e3f-241e-451b-8b11-6b310d4e35d1",
      "metadata": {
        "id": "38ea4e3f-241e-451b-8b11-6b310d4e35d1"
      },
      "source": [
        "Today, we're going to go over the basics of NumPy, which is short for \"Numerical Python\". Honestly, it probably would have made more sense for us to discuss NumPy before Pandas, but it's not that critical.\n",
        "\n",
        "Like the basic object of interest in Pandas is the dataframe, the basic object of interest in NumPy is the array, or the *ndarray*, which is an efficient, multidimensional array optimized for storage and computation. NumPy also comes with tools for reading/writing array data to disk and some nice built-in math functions, plus tools for integrating with C libraries.\n",
        "\n",
        "The basic idea behind NumPy is that, while Python is great for doing many things, it's not an inherently optimized language for handling large-scale numeric computations or storing large data files. Instead of requiring that data analysts needing to work with such things do so using a different language, NumPy provides tools that, essentially, translate basic numeric analysis needs into much more efficient, lower-level (C-style) implementations.\n",
        "\n",
        "To give you an idea of the performance difference, check out the following:"
      ]
    },
    {
      "cell_type": "code",
      "execution_count": 5,
      "id": "6329aa09-1cd2-4c13-bf1d-4a07f776a171",
      "metadata": {
        "id": "6329aa09-1cd2-4c13-bf1d-4a07f776a171"
      },
      "outputs": [],
      "source": [
        "import numpy as np # Numpy is almost always abbreviated as np"
      ]
    },
    {
      "cell_type": "code",
      "execution_count": 6,
      "id": "480ed1ab-5b61-4178-9e41-df18255addb0",
      "metadata": {
        "id": "480ed1ab-5b61-4178-9e41-df18255addb0"
      },
      "outputs": [],
      "source": [
        "my_arr = np.arange(1000000)\n",
        "my_list = list(range(1000000))"
      ]
    },
    {
      "cell_type": "code",
      "execution_count": 9,
      "id": "d5e6cc8f-2df5-4502-baf5-75af34ad8360",
      "metadata": {
        "colab": {
          "base_uri": "https://localhost:8080/"
        },
        "id": "d5e6cc8f-2df5-4502-baf5-75af34ad8360",
        "outputId": "79fd88da-ccee-4723-add7-d648cc6abacd"
      },
      "outputs": [
        {
          "name": "stdout",
          "output_type": "stream",
          "text": [
            "1.3 ms ± 129 µs per loop (mean ± std. dev. of 7 runs, 1000 loops each)\n"
          ]
        }
      ],
      "source": [
        "%timeit my_arr2 = my_arr*2"
      ]
    },
    {
      "cell_type": "code",
      "execution_count": 10,
      "id": "d9f65bb1-af45-44b7-935a-76001562bb65",
      "metadata": {
        "colab": {
          "base_uri": "https://localhost:8080/"
        },
        "id": "d9f65bb1-af45-44b7-935a-76001562bb65",
        "outputId": "0d4ea089-7635-451b-db89-f42a7d6ba23b"
      },
      "outputs": [
        {
          "name": "stdout",
          "output_type": "stream",
          "text": [
            "87.2 ms ± 22.7 ms per loop (mean ± std. dev. of 7 runs, 10 loops each)\n"
          ]
        }
      ],
      "source": [
        "%timeit my_list2 = [x * 2 for x in my_list]"
      ]
    },
    {
      "cell_type": "markdown",
      "id": "11faa1ae-104c-462a-a4a4-d27c7940426b",
      "metadata": {
        "id": "11faa1ae-104c-462a-a4a4-d27c7940426b"
      },
      "source": [
        "That's quite the difference! Generally, NumPy-based algorithms are 10 to 100 times faster (or more!) than their pure Python counterparts and use significantly less memory. So, if you're writing for loops to go through lists for large numeric computations - you're probably doing it wrong."
      ]
    },
    {
      "cell_type": "markdown",
      "id": "35dc2e45-257a-4df3-8bce-b1e99dece4df",
      "metadata": {
        "id": "35dc2e45-257a-4df3-8bce-b1e99dece4df"
      },
      "source": [
        "### The NumPy ndarray: A Multidimensional Array Object"
      ]
    },
    {
      "cell_type": "markdown",
      "id": "3352c8e9-cf39-4553-aaa1-8be9d1de381c",
      "metadata": {
        "id": "3352c8e9-cf39-4553-aaa1-8be9d1de381c"
      },
      "source": [
        "The basic data object in NumPy is the *ndarray*, and applying standard arithmetic operations to these arrays uses syntax very similar to standard arithmetic.\n",
        "\n",
        "For example, let's create and array:"
      ]
    },
    {
      "cell_type": "code",
      "execution_count": 11,
      "id": "b33dc053-7c45-49ee-b49c-79b9b75419db",
      "metadata": {
        "colab": {
          "base_uri": "https://localhost:8080/"
        },
        "id": "b33dc053-7c45-49ee-b49c-79b9b75419db",
        "outputId": "c80eebd8-91c3-4a79-f459-233a61f673e2"
      },
      "outputs": [
        {
          "data": {
            "text/plain": [
              "array([[1.  , 4.2 , 7.  ],\n",
              "       [5.  , 8.  , 2.71]])"
            ]
          },
          "execution_count": 11,
          "metadata": {},
          "output_type": "execute_result"
        }
      ],
      "source": [
        "data = np.array([[1, 4.2, 7], [5, 8, 2.71]])\n",
        "data"
      ]
    },
    {
      "cell_type": "markdown",
      "id": "0a295064-19e7-431d-ab4e-768e06a9155d",
      "metadata": {
        "id": "0a295064-19e7-431d-ab4e-768e06a9155d"
      },
      "source": [
        "We can multiply every element in the array by 2 with the following:"
      ]
    },
    {
      "cell_type": "code",
      "execution_count": 12,
      "id": "a4679606-2b6e-4a81-a1f8-5454641ee922",
      "metadata": {
        "colab": {
          "base_uri": "https://localhost:8080/"
        },
        "id": "a4679606-2b6e-4a81-a1f8-5454641ee922",
        "outputId": "4c249f1d-5884-4de1-a80d-bf365d5493f3"
      },
      "outputs": [
        {
          "data": {
            "text/plain": [
              "array([[ 2.  ,  8.4 , 14.  ],\n",
              "       [10.  , 16.  ,  5.42]])"
            ]
          },
          "execution_count": 12,
          "metadata": {},
          "output_type": "execute_result"
        }
      ],
      "source": [
        "data * 2"
      ]
    },
    {
      "cell_type": "markdown",
      "id": "cc165a44-7930-44b5-87db-98afaaddd1fd",
      "metadata": {
        "id": "cc165a44-7930-44b5-87db-98afaaddd1fd"
      },
      "source": [
        "Or, we can get the same result by adding the array to itself:"
      ]
    },
    {
      "cell_type": "code",
      "execution_count": 13,
      "id": "f3517124-f1de-485e-b607-acc491f73606",
      "metadata": {
        "colab": {
          "base_uri": "https://localhost:8080/"
        },
        "id": "f3517124-f1de-485e-b607-acc491f73606",
        "outputId": "616659c4-42f0-4384-d641-9adba7351b5c"
      },
      "outputs": [
        {
          "data": {
            "text/plain": [
              "array([[ 2.  ,  8.4 , 14.  ],\n",
              "       [10.  , 16.  ,  5.42]])"
            ]
          },
          "execution_count": 13,
          "metadata": {},
          "output_type": "execute_result"
        }
      ],
      "source": [
        "data + data"
      ]
    },
    {
      "cell_type": "markdown",
      "id": "9e653962-2daa-41aa-bbec-0403c9d4c416",
      "metadata": {
        "id": "9e653962-2daa-41aa-bbec-0403c9d4c416"
      },
      "source": [
        "We could even square every element in the array:\n",
        "\n",
        "*Rob: Note how to square the values*"
      ]
    },
    {
      "cell_type": "code",
      "execution_count": 15,
      "id": "38a232ae-df2b-4e3c-8102-8fb446790e15",
      "metadata": {
        "colab": {
          "base_uri": "https://localhost:8080/"
        },
        "id": "38a232ae-df2b-4e3c-8102-8fb446790e15",
        "outputId": "0661c15f-506b-4f3e-ec5c-88493dc4e9f7"
      },
      "outputs": [
        {
          "data": {
            "text/plain": [
              "array([[ 1.    , 17.64  , 49.    ],\n",
              "       [25.    , 64.    ,  7.3441]])"
            ]
          },
          "execution_count": 15,
          "metadata": {},
          "output_type": "execute_result"
        }
      ],
      "source": [
        "data ** 2"
      ]
    },
    {
      "cell_type": "markdown",
      "id": "6ff898f3-ac97-4d55-b7cd-6f75cee03f7e",
      "metadata": {
        "id": "6ff898f3-ac97-4d55-b7cd-6f75cee03f7e"
      },
      "source": [
        "Again, these operations are generally quite fast relative to trying to implement them with a for loop."
      ]
    },
    {
      "cell_type": "markdown",
      "id": "958a781f-b3e6-46e6-8acd-f2ae3a9ec296",
      "metadata": {
        "id": "958a781f-b3e6-46e6-8acd-f2ae3a9ec296"
      },
      "source": [
        "#### Data Types for ndarrays"
      ]
    },
    {
      "cell_type": "markdown",
      "id": "5b5d47bf-c270-4231-9686-dbd363394e4d",
      "metadata": {
        "id": "5b5d47bf-c270-4231-9686-dbd363394e4d"
      },
      "source": [
        "In general, an array is  for homogeneous data; in other words, all the elements must be the same type. Every array also has a *shape*, which is a tuple indicating the size of each dimension, and a *dtype*, which describes the data type of the array."
      ]
    },
    {
      "cell_type": "code",
      "execution_count": 16,
      "id": "57853a26-c98c-469f-b739-11f2f97a4067",
      "metadata": {
        "colab": {
          "base_uri": "https://localhost:8080/"
        },
        "id": "57853a26-c98c-469f-b739-11f2f97a4067",
        "outputId": "4268e605-6c39-45d9-b4f3-2679e2af780c"
      },
      "outputs": [
        {
          "data": {
            "text/plain": [
              "(2, 3)"
            ]
          },
          "execution_count": 16,
          "metadata": {},
          "output_type": "execute_result"
        }
      ],
      "source": [
        "data.shape"
      ]
    },
    {
      "cell_type": "code",
      "execution_count": 17,
      "id": "a6394533-8b13-4c6c-a0a5-025f995e58a0",
      "metadata": {
        "colab": {
          "base_uri": "https://localhost:8080/"
        },
        "id": "a6394533-8b13-4c6c-a0a5-025f995e58a0",
        "outputId": "d65e2411-d2b6-41be-a48f-219b1056b2f6"
      },
      "outputs": [
        {
          "data": {
            "text/plain": [
              "dtype('float64')"
            ]
          },
          "execution_count": 17,
          "metadata": {},
          "output_type": "execute_result"
        }
      ],
      "source": [
        "data.dtype"
      ]
    },
    {
      "cell_type": "markdown",
      "id": "282080f8-24f6-4c39-8a52-964d129a95d1",
      "metadata": {
        "id": "282080f8-24f6-4c39-8a52-964d129a95d1"
      },
      "source": [
        "How do we create ndarrays? The easiest way is with the *array* function used above, where we just specify the elements in a list or nested lists. Unless explicitly told otherwise, the array function will try to infer a good data type for the array based upon its inputs."
      ]
    },
    {
      "cell_type": "markdown",
      "id": "9b71ad7e-f789-4231-8669-e48012fd3f0f",
      "metadata": {
        "id": "9b71ad7e-f789-4231-8669-e48012fd3f0f"
      },
      "source": [
        "In addition to the *array* function, there are a number of other functions for creating new arrays. For example:"
      ]
    },
    {
      "cell_type": "code",
      "execution_count": null,
      "id": "2635f7e7-5849-4625-97f1-13dc2d23ecc8",
      "metadata": {
        "id": "2635f7e7-5849-4625-97f1-13dc2d23ecc8",
        "outputId": "b546799d-9274-48aa-cc6c-cea1bb0985ec"
      },
      "outputs": [
        {
          "data": {
            "text/plain": [
              "array([0., 0., 0., 0., 0., 0., 0., 0., 0., 0.])"
            ]
          },
          "execution_count": 23,
          "metadata": {},
          "output_type": "execute_result"
        }
      ],
      "source": [
        "np.zeros(10)"
      ]
    },
    {
      "cell_type": "code",
      "execution_count": null,
      "id": "0805202e-27f7-4f57-af4c-2ce4c4ec7317",
      "metadata": {
        "id": "0805202e-27f7-4f57-af4c-2ce4c4ec7317",
        "outputId": "c65ffe7f-dd4d-4c8c-9f70-835e993b6c57"
      },
      "outputs": [
        {
          "data": {
            "text/plain": [
              "array([[0., 0., 0.],\n",
              "       [0., 0., 0.]])"
            ]
          },
          "execution_count": 24,
          "metadata": {},
          "output_type": "execute_result"
        }
      ],
      "source": [
        "np.zeros((2,3))"
      ]
    },
    {
      "cell_type": "code",
      "execution_count": null,
      "id": "3b580bd6-986f-41ab-accb-b57d5ea74b06",
      "metadata": {
        "id": "3b580bd6-986f-41ab-accb-b57d5ea74b06",
        "outputId": "d8ddd66e-dafd-4041-a86d-be95d60b5d81"
      },
      "outputs": [
        {
          "data": {
            "text/plain": [
              "array([[1., 1., 1.],\n",
              "       [1., 1., 1.],\n",
              "       [1., 1., 1.],\n",
              "       [1., 1., 1.]])"
            ]
          },
          "execution_count": 25,
          "metadata": {},
          "output_type": "execute_result"
        }
      ],
      "source": [
        "np.ones((4,3))"
      ]
    },
    {
      "cell_type": "markdown",
      "id": "000610f7-a2c3-46ec-b82c-4ddf876645e7",
      "metadata": {
        "id": "000610f7-a2c3-46ec-b82c-4ddf876645e7"
      },
      "source": [
        "The function *arange* is like the *range* function is Python, except it creates a NumPy array instead of a list.\n",
        "\n",
        "*Rob: 'arange' has NOTHING to do with sort or arrange. It just creates a range from the left value (inclusive) to the right (exclusive)"
      ]
    },
    {
      "cell_type": "code",
      "execution_count": 18,
      "id": "d8ffbef2-e00f-4bfb-898a-1a9c5d77106c",
      "metadata": {
        "colab": {
          "base_uri": "https://localhost:8080/"
        },
        "id": "d8ffbef2-e00f-4bfb-898a-1a9c5d77106c",
        "outputId": "408e47a4-bbe9-4e27-af94-5884747c13ac"
      },
      "outputs": [
        {
          "data": {
            "text/plain": [
              "array([ 0,  1,  2,  3,  4,  5,  6,  7,  8,  9, 10, 11])"
            ]
          },
          "execution_count": 18,
          "metadata": {},
          "output_type": "execute_result"
        }
      ],
      "source": [
        "np.arange(12)"
      ]
    },
    {
      "cell_type": "code",
      "execution_count": 19,
      "id": "82ee025b-83df-429c-9ccf-ae11684ff80b",
      "metadata": {
        "colab": {
          "base_uri": "https://localhost:8080/"
        },
        "id": "82ee025b-83df-429c-9ccf-ae11684ff80b",
        "outputId": "01b9d9b5-29bb-436e-a65b-dc4943ff97ef"
      },
      "outputs": [
        {
          "data": {
            "text/plain": [
              "array([ 3,  4,  5,  6,  7,  8,  9, 10])"
            ]
          },
          "execution_count": 19,
          "metadata": {},
          "output_type": "execute_result"
        }
      ],
      "source": [
        "np.arange(3,11)"
      ]
    },
    {
      "cell_type": "markdown",
      "id": "e1c90d2e-a5a5-47a3-9e8c-5a5350811604",
      "metadata": {
        "id": "e1c90d2e-a5a5-47a3-9e8c-5a5350811604"
      },
      "source": [
        "We can, if desired, explicitly convert or *cast* an array from one data type to another using the *astype* method:"
      ]
    },
    {
      "cell_type": "code",
      "execution_count": 20,
      "id": "e2bbc1c9-2b19-4152-8580-6c243236151b",
      "metadata": {
        "colab": {
          "base_uri": "https://localhost:8080/"
        },
        "id": "e2bbc1c9-2b19-4152-8580-6c243236151b",
        "outputId": "5a74aadc-fa13-4531-e067-3de2f69f2c28"
      },
      "outputs": [
        {
          "data": {
            "text/plain": [
              "dtype('int64')"
            ]
          },
          "execution_count": 20,
          "metadata": {},
          "output_type": "execute_result"
        }
      ],
      "source": [
        "arr = np.array([1,2,3,4,5])\n",
        "arr.dtype"
      ]
    },
    {
      "cell_type": "code",
      "execution_count": 21,
      "id": "31c39657-698f-465d-a6c3-b0aee763cb39",
      "metadata": {
        "colab": {
          "base_uri": "https://localhost:8080/"
        },
        "id": "31c39657-698f-465d-a6c3-b0aee763cb39",
        "outputId": "a752f2df-2645-43c2-e442-d3db29d189a6"
      },
      "outputs": [
        {
          "data": {
            "text/plain": [
              "array([1., 2., 3., 4., 5.])"
            ]
          },
          "execution_count": 21,
          "metadata": {},
          "output_type": "execute_result"
        }
      ],
      "source": [
        "float_arr = arr.astype(np.float64)\n",
        "float_arr"
      ]
    },
    {
      "cell_type": "markdown",
      "id": "ccbe5acb-29a7-4b9d-9a17-6761c1ee071d",
      "metadata": {
        "id": "ccbe5acb-29a7-4b9d-9a17-6761c1ee071d"
      },
      "source": [
        "If we go the other way, from floats to ints, that will not generate an error, but the decimal parts will be truncated."
      ]
    },
    {
      "cell_type": "code",
      "execution_count": 22,
      "id": "6f847d79-f15f-4037-b59c-42b961d7a605",
      "metadata": {
        "colab": {
          "base_uri": "https://localhost:8080/"
        },
        "id": "6f847d79-f15f-4037-b59c-42b961d7a605",
        "outputId": "d0cd0f8a-b8db-42ca-ac59-cfccec946548"
      },
      "outputs": [
        {
          "data": {
            "text/plain": [
              "dtype('float64')"
            ]
          },
          "execution_count": 22,
          "metadata": {},
          "output_type": "execute_result"
        }
      ],
      "source": [
        "arr = np.array([2.3, 5.0, 4.999, 2.71828])\n",
        "arr.dtype"
      ]
    },
    {
      "cell_type": "code",
      "execution_count": 23,
      "id": "67bc07d8-9b20-47db-bb33-2ebcb49ef2f0",
      "metadata": {
        "colab": {
          "base_uri": "https://localhost:8080/"
        },
        "id": "67bc07d8-9b20-47db-bb33-2ebcb49ef2f0",
        "outputId": "256d6999-0524-4b9f-8e1e-d79e52dfe7d3"
      },
      "outputs": [
        {
          "data": {
            "text/plain": [
              "array([2, 5, 4, 2])"
            ]
          },
          "execution_count": 23,
          "metadata": {},
          "output_type": "execute_result"
        }
      ],
      "source": [
        "int_arr = arr.astype(np.int64)\n",
        "int_arr"
      ]
    },
    {
      "cell_type": "markdown",
      "id": "f48e414a-9553-42f1-9ac1-f9be5566b3bf",
      "metadata": {
        "id": "f48e414a-9553-42f1-9ac1-f9be5566b3bf"
      },
      "source": [
        "We can convert strings that make sense as numbers to numbers:"
      ]
    },
    {
      "cell_type": "code",
      "execution_count": 24,
      "id": "2282c0d7-033c-4938-8caa-09d5b7f46bf7",
      "metadata": {
        "colab": {
          "base_uri": "https://localhost:8080/"
        },
        "id": "2282c0d7-033c-4938-8caa-09d5b7f46bf7",
        "outputId": "fc5a10d9-11ea-4dc8-e22c-c7e32dcc6ac6"
      },
      "outputs": [
        {
          "data": {
            "text/plain": [
              "dtype('<U3')"
            ]
          },
          "execution_count": 24,
          "metadata": {},
          "output_type": "execute_result"
        }
      ],
      "source": [
        "arr = np.array([\"2.3\", \"1\", \"42\"])\n",
        "arr.dtype"
      ]
    },
    {
      "cell_type": "code",
      "execution_count": 25,
      "id": "d4fc3c91-7e07-42d9-9685-beb33b0f65a5",
      "metadata": {
        "colab": {
          "base_uri": "https://localhost:8080/"
        },
        "id": "d4fc3c91-7e07-42d9-9685-beb33b0f65a5",
        "outputId": "21577d4a-6cd7-408f-8a5e-0d8499432102"
      },
      "outputs": [
        {
          "data": {
            "text/plain": [
              "array([ 2.3,  1. , 42. ])"
            ]
          },
          "execution_count": 25,
          "metadata": {},
          "output_type": "execute_result"
        }
      ],
      "source": [
        "float_arr = arr.astype(np.float64)\n",
        "float_arr"
      ]
    },
    {
      "cell_type": "markdown",
      "id": "61d6600b-02a4-410e-a8a3-05a6ef3be4f9",
      "metadata": {
        "id": "61d6600b-02a4-410e-a8a3-05a6ef3be4f9"
      },
      "source": [
        "But, this will cause an error if the strings don't make sense as numbers:"
      ]
    },
    {
      "cell_type": "code",
      "execution_count": 26,
      "id": "a66a607a-8526-4083-8fc1-fbc3f1445ba0",
      "metadata": {
        "colab": {
          "base_uri": "https://localhost:8080/"
        },
        "id": "a66a607a-8526-4083-8fc1-fbc3f1445ba0",
        "outputId": "fe10ac58-948f-4ab1-f49e-2249ef12de6f"
      },
      "outputs": [
        {
          "data": {
            "text/plain": [
              "array(['2.3', '1', '42', 'Shrubbery'], dtype='<U9')"
            ]
          },
          "execution_count": 26,
          "metadata": {},
          "output_type": "execute_result"
        }
      ],
      "source": [
        "arr = np.array([\"2.3\", \"1\", \"42\", \"Shrubbery\"])\n",
        "arr"
      ]
    },
    {
      "cell_type": "code",
      "execution_count": 27,
      "id": "0bb43ef6-5794-46f6-b832-6ed221354063",
      "metadata": {
        "colab": {
          "base_uri": "https://localhost:8080/",
          "height": 179
        },
        "id": "0bb43ef6-5794-46f6-b832-6ed221354063",
        "outputId": "6a769558-53a7-441c-dfb8-095f54ed9f6d"
      },
      "outputs": [
        {
          "ename": "ValueError",
          "evalue": "ignored",
          "output_type": "error",
          "traceback": [
            "\u001b[0;31m---------------------------------------------------------------------------\u001b[0m",
            "\u001b[0;31mValueError\u001b[0m                                Traceback (most recent call last)",
            "\u001b[0;32m<ipython-input-27-79c0def631bf>\u001b[0m in \u001b[0;36m<cell line: 1>\u001b[0;34m()\u001b[0m\n\u001b[0;32m----> 1\u001b[0;31m \u001b[0mfloat_arr\u001b[0m \u001b[0;34m=\u001b[0m \u001b[0marr\u001b[0m\u001b[0;34m.\u001b[0m\u001b[0mastype\u001b[0m\u001b[0;34m(\u001b[0m\u001b[0mnp\u001b[0m\u001b[0;34m.\u001b[0m\u001b[0mfloat64\u001b[0m\u001b[0;34m)\u001b[0m\u001b[0;34m\u001b[0m\u001b[0;34m\u001b[0m\u001b[0m\n\u001b[0m",
            "\u001b[0;31mValueError\u001b[0m: could not convert string to float: 'Shrubbery'"
          ]
        }
      ],
      "source": [
        "float_arr = arr.astype(np.float64)"
      ]
    },
    {
      "cell_type": "markdown",
      "id": "59a7f16c-d767-4d66-8469-4ffe73824930",
      "metadata": {
        "id": "59a7f16c-d767-4d66-8469-4ffe73824930"
      },
      "source": [
        "The datatype for an array can also be specified when you created it:\n"
      ]
    },
    {
      "cell_type": "code",
      "execution_count": 28,
      "id": "279fd232-15bb-4633-9013-0082f6ad6b21",
      "metadata": {
        "colab": {
          "base_uri": "https://localhost:8080/"
        },
        "id": "279fd232-15bb-4633-9013-0082f6ad6b21",
        "outputId": "75af19f6-a8cb-4270-a1e2-f6acf1b2cf0f"
      },
      "outputs": [
        {
          "data": {
            "text/plain": [
              "array([1, 2, 3])"
            ]
          },
          "execution_count": 28,
          "metadata": {},
          "output_type": "execute_result"
        }
      ],
      "source": [
        "arr = np.array([1, 2, 3])\n",
        "arr"
      ]
    },
    {
      "cell_type": "code",
      "execution_count": 29,
      "id": "0aab5d99-4fe4-48b3-96db-2a6425d8a6b1",
      "metadata": {
        "colab": {
          "base_uri": "https://localhost:8080/"
        },
        "id": "0aab5d99-4fe4-48b3-96db-2a6425d8a6b1",
        "outputId": "c9ad283b-d756-41c6-95f8-fda306b14294"
      },
      "outputs": [
        {
          "data": {
            "text/plain": [
              "array([1., 2., 3.])"
            ]
          },
          "execution_count": 29,
          "metadata": {},
          "output_type": "execute_result"
        }
      ],
      "source": [
        "arr = np.array([1, 2, 3], dtype=np.float64)\n",
        "arr"
      ]
    },
    {
      "cell_type": "markdown",
      "id": "4b17ee15-a18b-49e2-a60d-37172d8576f7",
      "metadata": {
        "id": "4b17ee15-a18b-49e2-a60d-37172d8576f7"
      },
      "source": [
        "#### Arithmetic with NumPy Arrays"
      ]
    },
    {
      "cell_type": "markdown",
      "id": "695a5f5f-5b4b-4969-9447-36cfac1b9edc",
      "metadata": {
        "id": "695a5f5f-5b4b-4969-9447-36cfac1b9edc"
      },
      "source": [
        "Arrays enable you to express batch operations on data without writing any for loops. In NumPy this is called \"vectorization\". Any arithmetic operations between equal-sized arrays apply the operation element-wise:\n",
        "\n",
        "*Rob: Doesn't do matrix multiplication by default*"
      ]
    },
    {
      "cell_type": "code",
      "execution_count": 33,
      "id": "35641203-4113-40c0-810f-a996917bcfb7",
      "metadata": {
        "colab": {
          "base_uri": "https://localhost:8080/"
        },
        "id": "35641203-4113-40c0-810f-a996917bcfb7",
        "outputId": "85a76b7c-87ca-420c-a2bb-41bff57b175e"
      },
      "outputs": [
        {
          "data": {
            "text/plain": [
              "array([[1, 2, 3],\n",
              "       [3, 2, 1]])"
            ]
          },
          "execution_count": 33,
          "metadata": {},
          "output_type": "execute_result"
        }
      ],
      "source": [
        "arr = np.array([[1,2,3],[3,2,1]])\n",
        "arr"
      ]
    },
    {
      "cell_type": "code",
      "execution_count": 34,
      "id": "529659b3-6101-4579-acfb-ae853e55ec4b",
      "metadata": {
        "colab": {
          "base_uri": "https://localhost:8080/"
        },
        "id": "529659b3-6101-4579-acfb-ae853e55ec4b",
        "outputId": "2f18933c-d0d5-448c-8a5d-3d3aaf2f0d59"
      },
      "outputs": [
        {
          "data": {
            "text/plain": [
              "array([[1, 4, 9],\n",
              "       [9, 4, 1]])"
            ]
          },
          "execution_count": 34,
          "metadata": {},
          "output_type": "execute_result"
        }
      ],
      "source": [
        "arr * arr"
      ]
    },
    {
      "cell_type": "code",
      "execution_count": 35,
      "id": "88a2f9ab-62db-4522-958f-ba16848db11e",
      "metadata": {
        "colab": {
          "base_uri": "https://localhost:8080/"
        },
        "id": "88a2f9ab-62db-4522-958f-ba16848db11e",
        "outputId": "2b8c2e3c-b842-4797-8193-d2e84586a051"
      },
      "outputs": [
        {
          "data": {
            "text/plain": [
              "array([[3, 6, 9],\n",
              "       [9, 6, 3]])"
            ]
          },
          "execution_count": 35,
          "metadata": {},
          "output_type": "execute_result"
        }
      ],
      "source": [
        "arr + 2 * arr"
      ]
    },
    {
      "cell_type": "markdown",
      "id": "2ec15817-d96b-4185-9cdc-f5e2a8b9dcbf",
      "metadata": {
        "id": "2ec15817-d96b-4185-9cdc-f5e2a8b9dcbf"
      },
      "source": [
        "#### Basic indexing and slicing"
      ]
    },
    {
      "cell_type": "markdown",
      "id": "29ed8e0d-5a26-4166-a638-b31ed42c1a76",
      "metadata": {
        "id": "29ed8e0d-5a26-4166-a638-b31ed42c1a76"
      },
      "source": [
        "Selecting a subset of an array is a somewhat deep topic that we'll only touch on here. One-dimensional arrays on the surface act similarly to Python lists:\n",
        "\n",
        "*Rob: Note that the 0th place is the \"first value\"*"
      ]
    },
    {
      "cell_type": "code",
      "execution_count": 42,
      "id": "708f7999-7494-483f-9ab7-d891da9fde62",
      "metadata": {
        "colab": {
          "base_uri": "https://localhost:8080/"
        },
        "id": "708f7999-7494-483f-9ab7-d891da9fde62",
        "outputId": "ad31720c-111d-4824-b503-8b193a4367a7"
      },
      "outputs": [
        {
          "data": {
            "text/plain": [
              "1"
            ]
          },
          "execution_count": 42,
          "metadata": {},
          "output_type": "execute_result"
        }
      ],
      "source": [
        "arr = np.arange(10)\n",
        "arr[1]"
      ]
    },
    {
      "cell_type": "code",
      "execution_count": 43,
      "id": "51220396-940d-4e4a-a9dd-aedec1992d45",
      "metadata": {
        "colab": {
          "base_uri": "https://localhost:8080/"
        },
        "id": "51220396-940d-4e4a-a9dd-aedec1992d45",
        "outputId": "699a2db4-29d6-4114-b8b7-ec35376d8506"
      },
      "outputs": [
        {
          "data": {
            "text/plain": [
              "array([5, 6, 7])"
            ]
          },
          "execution_count": 43,
          "metadata": {},
          "output_type": "execute_result"
        }
      ],
      "source": [
        "arr[5:8]"
      ]
    },
    {
      "cell_type": "markdown",
      "id": "VMaPfy7VKu4O",
      "metadata": {
        "id": "VMaPfy7VKu4O"
      },
      "source": [
        "*Rob: Note how the 5-8 postions are set to 12*"
      ]
    },
    {
      "cell_type": "code",
      "execution_count": 47,
      "id": "f8ea7617-02e5-4891-bc25-0a71cf0f0692",
      "metadata": {
        "colab": {
          "base_uri": "https://localhost:8080/"
        },
        "id": "f8ea7617-02e5-4891-bc25-0a71cf0f0692",
        "outputId": "d550e169-7f84-459c-a510-8030f65a68ad"
      },
      "outputs": [
        {
          "data": {
            "text/plain": [
              "array([ 0,  1,  2,  3,  4, 12, 12, 12,  8,  9])"
            ]
          },
          "execution_count": 47,
          "metadata": {},
          "output_type": "execute_result"
        }
      ],
      "source": [
        "arr[5:8] = 12\n",
        "arr"
      ]
    },
    {
      "cell_type": "markdown",
      "id": "248c7872-e887-4b33-98a4-89c1531528d9",
      "metadata": {
        "id": "248c7872-e887-4b33-98a4-89c1531528d9"
      },
      "source": [
        "As you can see, assigning a scalar value to a slice propagates (or *broadcasts*) the value to the entire selection.\n",
        "\n",
        "An important first  distinction here is that array slices are views **on the original array**, which means any modification to them is reflected in the source array.\n",
        "\n",
        "Rob: Actions on arrays **change the original array**\n",
        "\n",
        "For example:"
      ]
    },
    {
      "cell_type": "code",
      "execution_count": 48,
      "id": "c0167721-e602-4d80-8652-b40353710a15",
      "metadata": {
        "colab": {
          "base_uri": "https://localhost:8080/"
        },
        "id": "c0167721-e602-4d80-8652-b40353710a15",
        "outputId": "ff02948d-30df-4dba-fc8f-39a776be7cce"
      },
      "outputs": [
        {
          "data": {
            "text/plain": [
              "array([12, 12, 12])"
            ]
          },
          "execution_count": 48,
          "metadata": {},
          "output_type": "execute_result"
        }
      ],
      "source": [
        "arr_slice = arr[5:8]\n",
        "arr_slice"
      ]
    },
    {
      "cell_type": "code",
      "execution_count": 49,
      "id": "94c037ba-eac9-4c1e-8bf4-08dc5b8b45e9",
      "metadata": {
        "id": "94c037ba-eac9-4c1e-8bf4-08dc5b8b45e9"
      },
      "outputs": [],
      "source": [
        "arr_slice[1] = 42"
      ]
    },
    {
      "cell_type": "code",
      "execution_count": 50,
      "id": "4ab9d235-6f60-4607-90f7-47f2695a2716",
      "metadata": {
        "colab": {
          "base_uri": "https://localhost:8080/"
        },
        "id": "4ab9d235-6f60-4607-90f7-47f2695a2716",
        "outputId": "f2352631-2b81-4cba-f027-36a9f1212340"
      },
      "outputs": [
        {
          "data": {
            "text/plain": [
              "array([ 0,  1,  2,  3,  4, 12, 42, 12,  8,  9])"
            ]
          },
          "execution_count": 50,
          "metadata": {},
          "output_type": "execute_result"
        }
      ],
      "source": [
        "arr"
      ]
    },
    {
      "cell_type": "markdown",
      "id": "ec022c5c-7ee4-48f3-8d6a-f2b78cfa1aa3",
      "metadata": {
        "id": "ec022c5c-7ee4-48f3-8d6a-f2b78cfa1aa3"
      },
      "source": [
        "This might seem surprising. The idea behind this is that NumPy has been designed to work with very large arrays, and you can image that lots of copying of big arrays could lead to performance and memory problems.\n",
        "\n",
        "If you do want to create a copy and not just a view, you can do so with the **copy** function:\n",
        "\n",
        "Rob: **Lists and arrays in standard python do NOT change the underlying data**"
      ]
    },
    {
      "cell_type": "code",
      "execution_count": 55,
      "id": "b5da4628-78f6-4d9f-97b9-00c784bf2e5e",
      "metadata": {
        "colab": {
          "base_uri": "https://localhost:8080/"
        },
        "id": "b5da4628-78f6-4d9f-97b9-00c784bf2e5e",
        "outputId": "5a50e27c-aac0-4a05-e1f0-ec567d5b5aec"
      },
      "outputs": [
        {
          "data": {
            "text/plain": [
              "array([0, 1, 2, 3, 4, 5, 6, 7, 8, 9])"
            ]
          },
          "execution_count": 55,
          "metadata": {},
          "output_type": "execute_result"
        }
      ],
      "source": [
        "arr = np.arange(10)\n",
        "arr"
      ]
    },
    {
      "cell_type": "code",
      "execution_count": 56,
      "id": "acd668b3-9b7c-4e56-a8c9-b16178137681",
      "metadata": {
        "colab": {
          "base_uri": "https://localhost:8080/"
        },
        "id": "acd668b3-9b7c-4e56-a8c9-b16178137681",
        "outputId": "66ca2c5a-a81e-4f33-deda-ae9d67592237"
      },
      "outputs": [
        {
          "data": {
            "text/plain": [
              "array([3, 4, 5])"
            ]
          },
          "execution_count": 56,
          "metadata": {},
          "output_type": "execute_result"
        }
      ],
      "source": [
        "arr_slice = arr[3:6]\n",
        "arr_slice"
      ]
    },
    {
      "cell_type": "markdown",
      "id": "59EegSjJLq_-",
      "metadata": {
        "id": "59EegSjJLq_-"
      },
      "source": [
        "Rob: arr_slice is simply a **VIEW** on the original data"
      ]
    },
    {
      "cell_type": "code",
      "execution_count": 59,
      "id": "69f006cd-b0c3-42db-aba2-4402d00af62a",
      "metadata": {
        "colab": {
          "base_uri": "https://localhost:8080/"
        },
        "id": "69f006cd-b0c3-42db-aba2-4402d00af62a",
        "outputId": "08ed3220-4f85-4d53-b4ca-41f5366397e3"
      },
      "outputs": [
        {
          "data": {
            "text/plain": [
              "array([23,  4,  5])"
            ]
          },
          "execution_count": 59,
          "metadata": {},
          "output_type": "execute_result"
        }
      ],
      "source": [
        "arr_copy = arr[3:6].copy()\n",
        "arr_copy"
      ]
    },
    {
      "cell_type": "code",
      "execution_count": 60,
      "id": "9d6c6940-fee3-4026-8655-1449995c3bdd",
      "metadata": {
        "colab": {
          "base_uri": "https://localhost:8080/"
        },
        "id": "9d6c6940-fee3-4026-8655-1449995c3bdd",
        "outputId": "5c8fbb14-3310-4571-b667-2db24ab6f015"
      },
      "outputs": [
        {
          "data": {
            "text/plain": [
              "array([ 0,  1,  2, 23,  4,  5,  6,  7,  8,  9])"
            ]
          },
          "execution_count": 60,
          "metadata": {},
          "output_type": "execute_result"
        }
      ],
      "source": [
        "arr_slice[0] = 23\n",
        "arr_copy[1] = 42\n",
        "arr"
      ]
    },
    {
      "cell_type": "markdown",
      "id": "95277c82-c1b9-449c-a641-4a5df857663a",
      "metadata": {
        "id": "95277c82-c1b9-449c-a641-4a5df857663a"
      },
      "source": [
        "For higher dimensional arrays there are more options.\n",
        "\n",
        "I a two-dimensional array, the elements at each index are no longer scalars but rather one-dimensional arrays:"
      ]
    },
    {
      "cell_type": "code",
      "execution_count": 61,
      "id": "7bb69b7f-24e8-4d7c-b943-8b267dbc9c4e",
      "metadata": {
        "colab": {
          "base_uri": "https://localhost:8080/"
        },
        "id": "7bb69b7f-24e8-4d7c-b943-8b267dbc9c4e",
        "outputId": "ca3f5996-f3ca-49d5-a004-34601c272af1"
      },
      "outputs": [
        {
          "data": {
            "text/plain": [
              "array([7, 8, 9])"
            ]
          },
          "execution_count": 61,
          "metadata": {},
          "output_type": "execute_result"
        }
      ],
      "source": [
        "arr2d = np.array([[1,2,3],[4,5,6],[7,8,9]])\n",
        "arr2d[2]"
      ]
    },
    {
      "cell_type": "markdown",
      "id": "03bdb001-5774-4d94-a082-ab6a5b13f572",
      "metadata": {
        "id": "03bdb001-5774-4d94-a082-ab6a5b13f572"
      },
      "source": [
        "If we wanted to access the third element of the first array, we could do so either recursively:"
      ]
    },
    {
      "cell_type": "code",
      "execution_count": 62,
      "id": "d6d1654b-9793-4bc2-b5d8-1118383372cd",
      "metadata": {
        "colab": {
          "base_uri": "https://localhost:8080/"
        },
        "id": "d6d1654b-9793-4bc2-b5d8-1118383372cd",
        "outputId": "692401bc-1fa1-4146-8254-0bbd2d7a139f"
      },
      "outputs": [
        {
          "data": {
            "text/plain": [
              "3"
            ]
          },
          "execution_count": 62,
          "metadata": {},
          "output_type": "execute_result"
        }
      ],
      "source": [
        "arr2d[0][2]"
      ]
    },
    {
      "cell_type": "markdown",
      "id": "d3b1ef29-5457-413f-9221-1207dd2aff0d",
      "metadata": {
        "id": "d3b1ef29-5457-413f-9221-1207dd2aff0d"
      },
      "source": [
        "Or, using a comma-separated list:"
      ]
    },
    {
      "cell_type": "code",
      "execution_count": 63,
      "id": "018b78a0-15d6-4445-9018-4b9586bf8158",
      "metadata": {
        "colab": {
          "base_uri": "https://localhost:8080/"
        },
        "id": "018b78a0-15d6-4445-9018-4b9586bf8158",
        "outputId": "a9b64e2b-6583-48c0-b557-3a59fe6310c0"
      },
      "outputs": [
        {
          "data": {
            "text/plain": [
              "3"
            ]
          },
          "execution_count": 63,
          "metadata": {},
          "output_type": "execute_result"
        }
      ],
      "source": [
        "arr2d[0,2]"
      ]
    },
    {
      "cell_type": "markdown",
      "id": "8f9fbea7-61e7-4b06-af9d-fa8c08862835",
      "metadata": {
        "id": "8f9fbea7-61e7-4b06-af9d-fa8c08862835"
      },
      "source": [
        "If we assign a scalar value to an entire array, it broadcasts that value to every entry:"
      ]
    },
    {
      "cell_type": "code",
      "execution_count": 64,
      "id": "c857385a-e2ca-4a66-963a-5744a41c9098",
      "metadata": {
        "colab": {
          "base_uri": "https://localhost:8080/"
        },
        "id": "c857385a-e2ca-4a66-963a-5744a41c9098",
        "outputId": "ba324bb2-6a1d-4914-fad0-b9126013d101"
      },
      "outputs": [
        {
          "data": {
            "text/plain": [
              "array([1, 2, 3])"
            ]
          },
          "execution_count": 64,
          "metadata": {},
          "output_type": "execute_result"
        }
      ],
      "source": [
        "arr2d[0]"
      ]
    },
    {
      "cell_type": "markdown",
      "id": "7CMci1ZeMOAc",
      "metadata": {
        "id": "7CMci1ZeMOAc"
      },
      "source": [
        "**Rob: note how using the arr2d will set the ENTIRE ROW to 42**"
      ]
    },
    {
      "cell_type": "code",
      "execution_count": 67,
      "id": "2699ad6d-3d55-4add-97df-fc713998029e",
      "metadata": {
        "colab": {
          "base_uri": "https://localhost:8080/"
        },
        "id": "2699ad6d-3d55-4add-97df-fc713998029e",
        "outputId": "13f98863-7066-4afa-99bc-d008ca1f7573"
      },
      "outputs": [
        {
          "data": {
            "text/plain": [
              "array([[42, 42, 42],\n",
              "       [ 4,  5,  6],\n",
              "       [ 7,  8,  9]])"
            ]
          },
          "execution_count": 67,
          "metadata": {},
          "output_type": "execute_result"
        }
      ],
      "source": [
        "arr2d[0] = 42\n",
        "arr2d"
      ]
    },
    {
      "cell_type": "markdown",
      "id": "2010ce4e-8107-4521-b60b-6c180101d7fb",
      "metadata": {
        "id": "2010ce4e-8107-4521-b60b-6c180101d7fb"
      },
      "source": [
        "Multiple slices can be passed to multi-dimensional arrays just like we can pass multiple indices."
      ]
    },
    {
      "cell_type": "code",
      "execution_count": 68,
      "id": "ee2d35e6-7ebb-4efa-8609-7a4633e9e218",
      "metadata": {
        "colab": {
          "base_uri": "https://localhost:8080/"
        },
        "id": "ee2d35e6-7ebb-4efa-8609-7a4633e9e218",
        "outputId": "c241ab2f-9b1f-42b7-c4c6-0a1e0e1de318"
      },
      "outputs": [
        {
          "data": {
            "text/plain": [
              "array([[42, 42, 42],\n",
              "       [ 4,  5,  6]])"
            ]
          },
          "execution_count": 68,
          "metadata": {},
          "output_type": "execute_result"
        }
      ],
      "source": [
        "arr2d[:2]"
      ]
    },
    {
      "cell_type": "code",
      "execution_count": 69,
      "id": "789cb154-9fe9-4d32-afe8-538065ba3010",
      "metadata": {
        "colab": {
          "base_uri": "https://localhost:8080/"
        },
        "id": "789cb154-9fe9-4d32-afe8-538065ba3010",
        "outputId": "5078774c-43a2-413c-fdd2-d982eb153a76"
      },
      "outputs": [
        {
          "data": {
            "text/plain": [
              "array([[42, 42],\n",
              "       [ 5,  6]])"
            ]
          },
          "execution_count": 69,
          "metadata": {},
          "output_type": "execute_result"
        }
      ],
      "source": [
        "arr2d[:2,1:]"
      ]
    },
    {
      "cell_type": "markdown",
      "id": "a512fce5-413e-4edf-91cb-f9ce6a43d654",
      "metadata": {
        "id": "a512fce5-413e-4edf-91cb-f9ce6a43d654"
      },
      "source": [
        "**Rob: If you take slices, it doesn't change the shape, but if you add it with an index - it WILL change the underlying data**\n",
        "\n",
        "By mixing indexes and slices, you can get lower dimensional slices:"
      ]
    },
    {
      "cell_type": "code",
      "execution_count": 71,
      "id": "fd64a815-1d9d-450f-ae96-645b2285e657",
      "metadata": {
        "colab": {
          "base_uri": "https://localhost:8080/"
        },
        "id": "fd64a815-1d9d-450f-ae96-645b2285e657",
        "outputId": "7257f26d-59d3-4862-f129-ad81bc17723a"
      },
      "outputs": [
        {
          "data": {
            "text/plain": [
              "array([42,  6])"
            ]
          },
          "execution_count": 71,
          "metadata": {},
          "output_type": "execute_result"
        }
      ],
      "source": [
        "arr2d[:2,2]"
      ]
    },
    {
      "cell_type": "markdown",
      "id": "dcfaf026-5213-4249-a89a-a0f8bb341bda",
      "metadata": {
        "id": "dcfaf026-5213-4249-a89a-a0f8bb341bda"
      },
      "source": [
        "Keep in mind, these slices are **views**"
      ]
    },
    {
      "cell_type": "code",
      "execution_count": 73,
      "id": "cd04a425-3f12-497d-866e-fbe4550720cf",
      "metadata": {
        "colab": {
          "base_uri": "https://localhost:8080/"
        },
        "id": "cd04a425-3f12-497d-866e-fbe4550720cf",
        "outputId": "b39e8c45-626b-41f7-801e-6eb12afc25d2"
      },
      "outputs": [
        {
          "data": {
            "text/plain": [
              "array([[ 42,  42, 801],\n",
              "       [  4,   5, 801],\n",
              "       [  7,   8,   9]])"
            ]
          },
          "execution_count": 73,
          "metadata": {},
          "output_type": "execute_result"
        }
      ],
      "source": [
        "arr2d[:2,2] = 801\n",
        "arr2d"
      ]
    },
    {
      "cell_type": "markdown",
      "id": "f8d20e72-0f16-4f45-a6fe-fceb1084f6bb",
      "metadata": {
        "id": "f8d20e72-0f16-4f45-a6fe-fceb1084f6bb"
      },
      "source": [
        "We can index the elements in an array with **boolean indexing** much like we saw last time with Pandas. For example, suppose we have the following array of names:"
      ]
    },
    {
      "cell_type": "code",
      "execution_count": 74,
      "id": "485ec368-4519-4857-b886-60904743b349",
      "metadata": {
        "id": "485ec368-4519-4857-b886-60904743b349"
      },
      "outputs": [],
      "source": [
        "names = np.array([\"Bob\", \"Joe\", \"Will\", \"Bob\", \"Will\", \"Joe\", \"Joe\"])\n",
        "data = np.array([[4,7], [0,2], [-5,6], [0,0], [1,2], [-12,-4], [3,4]])"
      ]
    },
    {
      "cell_type": "code",
      "execution_count": 75,
      "id": "96b3a0e6-8ca3-43ac-9258-dde75ef79b8e",
      "metadata": {
        "colab": {
          "base_uri": "https://localhost:8080/"
        },
        "id": "96b3a0e6-8ca3-43ac-9258-dde75ef79b8e",
        "outputId": "db148181-1608-40f2-9f7d-de3a351d4531"
      },
      "outputs": [
        {
          "data": {
            "text/plain": [
              "array(['Bob', 'Joe', 'Will', 'Bob', 'Will', 'Joe', 'Joe'], dtype='<U4')"
            ]
          },
          "execution_count": 75,
          "metadata": {},
          "output_type": "execute_result"
        }
      ],
      "source": [
        "names"
      ]
    },
    {
      "cell_type": "code",
      "execution_count": 76,
      "id": "5eaf7a99-bae4-4328-a384-abb06dfb23e2",
      "metadata": {
        "colab": {
          "base_uri": "https://localhost:8080/"
        },
        "id": "5eaf7a99-bae4-4328-a384-abb06dfb23e2",
        "outputId": "4b30b235-461d-41b3-ad15-d180f28d255b"
      },
      "outputs": [
        {
          "data": {
            "text/plain": [
              "array([[  4,   7],\n",
              "       [  0,   2],\n",
              "       [ -5,   6],\n",
              "       [  0,   0],\n",
              "       [  1,   2],\n",
              "       [-12,  -4],\n",
              "       [  3,   4]])"
            ]
          },
          "execution_count": 76,
          "metadata": {},
          "output_type": "execute_result"
        }
      ],
      "source": [
        "data"
      ]
    },
    {
      "cell_type": "markdown",
      "id": "53055f67-bb9f-4547-bae6-7d9d8fbb3853",
      "metadata": {
        "id": "53055f67-bb9f-4547-bae6-7d9d8fbb3853"
      },
      "source": [
        "Suppose each name corresponds with a row in the *data* array and we wanted to select all the rows with the corresponding name \"Bob\". Like arithmetic operations, comparisons (like ==) with arrays are also vectorized. So, this command produces a Boolean array:\n",
        "\n",
        "Rob: **This is tricky**. Wherever in the array, it will give true where name is 'Bob'"
      ]
    },
    {
      "cell_type": "code",
      "execution_count": 78,
      "id": "3ef0d686-242e-41e6-82a3-d22a84bc400f",
      "metadata": {
        "colab": {
          "base_uri": "https://localhost:8080/"
        },
        "id": "3ef0d686-242e-41e6-82a3-d22a84bc400f",
        "outputId": "19117232-4d56-4762-9c37-feb045aabcae"
      },
      "outputs": [
        {
          "data": {
            "text/plain": [
              "array([ True, False, False,  True, False, False, False])"
            ]
          },
          "execution_count": 78,
          "metadata": {},
          "output_type": "execute_result"
        }
      ],
      "source": [
        "names == \"Bob\""
      ]
    },
    {
      "cell_type": "markdown",
      "id": "dee74e60-75a2-4756-817c-d3dde96e897b",
      "metadata": {
        "id": "dee74e60-75a2-4756-817c-d3dde96e897b"
      },
      "source": [
        "If we pass this as an index to our array we get:"
      ]
    },
    {
      "cell_type": "code",
      "execution_count": 79,
      "id": "0c6e69a2-4b2d-4bac-8235-e66b7ce16247",
      "metadata": {
        "colab": {
          "base_uri": "https://localhost:8080/"
        },
        "id": "0c6e69a2-4b2d-4bac-8235-e66b7ce16247",
        "outputId": "32afa344-09dd-4106-fb6f-eac5acfd6ccd"
      },
      "outputs": [
        {
          "data": {
            "text/plain": [
              "array([[4, 7],\n",
              "       [0, 0]])"
            ]
          },
          "execution_count": 79,
          "metadata": {},
          "output_type": "execute_result"
        }
      ],
      "source": [
        "data[names==\"Bob\"]"
      ]
    },
    {
      "cell_type": "markdown",
      "id": "2dc06d05-1f90-48d5-bef1-30f655b96c3a",
      "metadata": {
        "id": "2dc06d05-1f90-48d5-bef1-30f655b96c3a"
      },
      "source": [
        "Note of course the Boolean array must be of the same length as the array axis it's indexing.\n",
        "\n",
        "You can even mix and match Boolean arrays with slices:\n",
        "\n",
        "**Rob: the first operator is basically the row slice **"
      ]
    },
    {
      "cell_type": "code",
      "execution_count": 83,
      "id": "c2f0316e-c75b-41c6-9554-ecad218e3395",
      "metadata": {
        "colab": {
          "base_uri": "https://localhost:8080/"
        },
        "id": "c2f0316e-c75b-41c6-9554-ecad218e3395",
        "outputId": "2ce5a7a5-b4bd-49b6-e750-8b503503fa63"
      },
      "outputs": [
        {
          "data": {
            "text/plain": [
              "array([[7],\n",
              "       [0]])"
            ]
          },
          "execution_count": 83,
          "metadata": {},
          "output_type": "execute_result"
        }
      ],
      "source": [
        "data[names == \"Bob\", 1:]"
      ]
    },
    {
      "cell_type": "code",
      "execution_count": 84,
      "id": "ypEOdSuVNwPk",
      "metadata": {
        "colab": {
          "base_uri": "https://localhost:8080/"
        },
        "id": "ypEOdSuVNwPk",
        "outputId": "186cdce1-508c-48cb-bdff-391353f5be0e"
      },
      "outputs": [
        {
          "data": {
            "text/plain": [
              "array([[4],\n",
              "       [0]])"
            ]
          },
          "execution_count": 84,
          "metadata": {},
          "output_type": "execute_result"
        }
      ],
      "source": [
        "data[names == \"Bob\", :1]"
      ]
    },
    {
      "cell_type": "markdown",
      "id": "RkOsDxNyRIoY",
      "metadata": {
        "id": "RkOsDxNyRIoY"
      },
      "source": [
        "This is an index because it has reduced the size"
      ]
    },
    {
      "cell_type": "code",
      "execution_count": 104,
      "id": "fe44408c-b8ad-4b6c-b508-cf861ede831c",
      "metadata": {
        "colab": {
          "base_uri": "https://localhost:8080/"
        },
        "id": "fe44408c-b8ad-4b6c-b508-cf861ede831c",
        "outputId": "0e9b1235-fa4a-4ca3-fc1b-3730ffbb972b"
      },
      "outputs": [
        {
          "data": {
            "text/plain": [
              "array([7, 0])"
            ]
          },
          "execution_count": 104,
          "metadata": {},
          "output_type": "execute_result"
        }
      ],
      "source": [
        "data[names == \"Bob\", 1]"
      ]
    },
    {
      "cell_type": "markdown",
      "id": "76feae9c-e951-4cc6-8d23-170f524d0335",
      "metadata": {
        "id": "76feae9c-e951-4cc6-8d23-170f524d0335"
      },
      "source": [
        "We can also use the standard *and* (&), *or* (|), and *not* (~) operations."
      ]
    },
    {
      "cell_type": "code",
      "execution_count": 86,
      "id": "9c4bda3a-b572-4008-b80a-d50652c7b124",
      "metadata": {
        "colab": {
          "base_uri": "https://localhost:8080/"
        },
        "id": "9c4bda3a-b572-4008-b80a-d50652c7b124",
        "outputId": "82be6452-208a-4a32-f00b-7efb8cb8ffea"
      },
      "outputs": [
        {
          "data": {
            "text/plain": [
              "array([[  0,   2],\n",
              "       [ -5,   6],\n",
              "       [  1,   2],\n",
              "       [-12,  -4],\n",
              "       [  3,   4]])"
            ]
          },
          "execution_count": 86,
          "metadata": {},
          "output_type": "execute_result"
        }
      ],
      "source": [
        "data[names != \"Bob\"]"
      ]
    },
    {
      "cell_type": "code",
      "execution_count": 87,
      "id": "40052817-0621-41a6-95f4-9f3ef134dc5b",
      "metadata": {
        "colab": {
          "base_uri": "https://localhost:8080/"
        },
        "id": "40052817-0621-41a6-95f4-9f3ef134dc5b",
        "outputId": "a111e39b-4e20-45cb-9418-eef9e53cd756"
      },
      "outputs": [
        {
          "data": {
            "text/plain": [
              "array([[  0,   2],\n",
              "       [ -5,   6],\n",
              "       [  1,   2],\n",
              "       [-12,  -4],\n",
              "       [  3,   4]])"
            ]
          },
          "execution_count": 87,
          "metadata": {},
          "output_type": "execute_result"
        }
      ],
      "source": [
        "data[~(names == \"Bob\")]"
      ]
    },
    {
      "cell_type": "markdown",
      "id": "T0WnO0qgOYtA",
      "metadata": {
        "id": "T0WnO0qgOYtA"
      },
      "source": [
        "**Rob: There are two Bobs and two Wills**"
      ]
    },
    {
      "cell_type": "code",
      "execution_count": 89,
      "id": "8fabe818-190c-47df-b7b7-c401e883b1e4",
      "metadata": {
        "colab": {
          "base_uri": "https://localhost:8080/"
        },
        "id": "8fabe818-190c-47df-b7b7-c401e883b1e4",
        "outputId": "2a8e921b-b585-4b12-c681-5e87c287fbd0"
      },
      "outputs": [
        {
          "data": {
            "text/plain": [
              "array([[ 4,  7],\n",
              "       [-5,  6],\n",
              "       [ 0,  0],\n",
              "       [ 1,  2]])"
            ]
          },
          "execution_count": 89,
          "metadata": {},
          "output_type": "execute_result"
        }
      ],
      "source": [
        "data[(names == \"Bob\") | (names == \"Will\")]"
      ]
    },
    {
      "cell_type": "markdown",
      "id": "546daba0-fbc4-40ba-aaea-6c4da1db2ce6",
      "metadata": {
        "id": "546daba0-fbc4-40ba-aaea-6c4da1db2ce6"
      },
      "source": [
        "Note selecting data from an array by Boolean indexing and assigning the results to a new variable creates a *copy* of the data. I know it's a bit confusing when a copy is created and when it's not. Sorry, I didn't make the rules."
      ]
    },
    {
      "cell_type": "code",
      "execution_count": 91,
      "id": "f7EbncaqOwBh",
      "metadata": {
        "colab": {
          "base_uri": "https://localhost:8080/"
        },
        "id": "f7EbncaqOwBh",
        "outputId": "c8a56783-59cc-4548-91fa-292dc3a3f686"
      },
      "outputs": [
        {
          "data": {
            "text/plain": [
              "array([[  4,   7],\n",
              "       [  0,   2],\n",
              "       [ -5,   6],\n",
              "       [  0,   0],\n",
              "       [  1,   2],\n",
              "       [-12,  -4],\n",
              "       [  3,   4]])"
            ]
          },
          "execution_count": 91,
          "metadata": {},
          "output_type": "execute_result"
        }
      ],
      "source": [
        "data"
      ]
    },
    {
      "cell_type": "markdown",
      "id": "4bedb4a2-69ee-49bc-8f90-7c729bee01ee",
      "metadata": {
        "id": "4bedb4a2-69ee-49bc-8f90-7c729bee01ee"
      },
      "source": [
        "Fancy indexing is a term adopted by NumPy to describe indexing using integer arrays. Sorry, I didn't make the terminology either. For example:\n",
        "\n",
        "Define a 4 row by 3 column array"
      ]
    },
    {
      "cell_type": "code",
      "execution_count": 93,
      "id": "b42aa594-6df3-4f54-bb8d-a3999f2341d2",
      "metadata": {
        "colab": {
          "base_uri": "https://localhost:8080/"
        },
        "id": "b42aa594-6df3-4f54-bb8d-a3999f2341d2",
        "outputId": "a0b1f8ae-b117-44e3-aacb-8fbe15ac421c"
      },
      "outputs": [
        {
          "data": {
            "text/plain": [
              "array([[ 1,  2,  3],\n",
              "       [ 4,  5,  6],\n",
              "       [ 7,  8,  9],\n",
              "       [10, 11, 12]])"
            ]
          },
          "execution_count": 93,
          "metadata": {},
          "output_type": "execute_result"
        }
      ],
      "source": [
        "arr = np.array([[1,2,3],[4,5,6],[7,8,9],[10,11,12]])\n",
        "arr"
      ]
    },
    {
      "cell_type": "markdown",
      "id": "nZO7CW22PBMs",
      "metadata": {
        "id": "nZO7CW22PBMs"
      },
      "source": [
        "Rob: The following will return row 1, row 0, and row 2 in that order"
      ]
    },
    {
      "cell_type": "code",
      "execution_count": 94,
      "id": "2176e4da-1111-4fdb-b4ff-6e895e0c26dd",
      "metadata": {
        "colab": {
          "base_uri": "https://localhost:8080/"
        },
        "id": "2176e4da-1111-4fdb-b4ff-6e895e0c26dd",
        "outputId": "712650ea-27d4-4337-f177-8978669ab7d3"
      },
      "outputs": [
        {
          "data": {
            "text/plain": [
              "array([[4, 5, 6],\n",
              "       [1, 2, 3],\n",
              "       [7, 8, 9]])"
            ]
          },
          "execution_count": 94,
          "metadata": {},
          "output_type": "execute_result"
        }
      ],
      "source": [
        "arr[[1,0,2]]"
      ]
    },
    {
      "cell_type": "markdown",
      "id": "d91bfd32-d7d5-4fad-8824-cd054b7368cc",
      "metadata": {
        "id": "d91bfd32-d7d5-4fad-8824-cd054b7368cc"
      },
      "source": [
        "Using negative indices selects rows from the end:"
      ]
    },
    {
      "cell_type": "code",
      "execution_count": 96,
      "id": "7e0ac038-73dc-4f49-aedc-5f2859f975f2",
      "metadata": {
        "colab": {
          "base_uri": "https://localhost:8080/"
        },
        "id": "7e0ac038-73dc-4f49-aedc-5f2859f975f2",
        "outputId": "183b76b5-6036-409c-bdc4-5b9f42a2aa5d"
      },
      "outputs": [
        {
          "data": {
            "text/plain": [
              "array([[10, 11, 12],\n",
              "       [ 7,  8,  9]])"
            ]
          },
          "execution_count": 96,
          "metadata": {},
          "output_type": "execute_result"
        }
      ],
      "source": [
        "arr[[-1,-2]]"
      ]
    },
    {
      "cell_type": "markdown",
      "id": "ecaade1c-ffc2-478a-8621-53a0e62437fa",
      "metadata": {
        "id": "ecaade1c-ffc2-478a-8621-53a0e62437fa"
      },
      "source": [
        "Passing multiple index arrays selects an array of elements corresponding to each tuple of indices:"
      ]
    },
    {
      "cell_type": "markdown",
      "id": "lAlfz-XtPOWD",
      "metadata": {
        "id": "lAlfz-XtPOWD"
      },
      "source": [
        "First select row 1 and then select column 2, then row 0 column 0 and so on"
      ]
    },
    {
      "cell_type": "code",
      "execution_count": 101,
      "id": "f21a41c3-1275-4c99-b42d-b254f015184b",
      "metadata": {
        "colab": {
          "base_uri": "https://localhost:8080/"
        },
        "id": "f21a41c3-1275-4c99-b42d-b254f015184b",
        "outputId": "8473c4c8-fb9a-433e-8135-a07ea0a22249"
      },
      "outputs": [
        {
          "data": {
            "text/plain": [
              "array([6, 1, 8])"
            ]
          },
          "execution_count": 101,
          "metadata": {},
          "output_type": "execute_result"
        }
      ],
      "source": [
        "arr[[1,0,2],[2,0,1]]"
      ]
    },
    {
      "cell_type": "markdown",
      "id": "c727d11f-8fdc-48c3-853d-34bb5e81420c",
      "metadata": {
        "id": "c727d11f-8fdc-48c3-853d-34bb5e81420c"
      },
      "source": [
        "Fancy indexing, unlike slicing, always copies the data into a new array when assigning the results to a new variable. Again, not my rules."
      ]
    },
    {
      "cell_type": "markdown",
      "id": "250e2ed3-a876-4833-abe8-a987388808b6",
      "metadata": {
        "id": "250e2ed3-a876-4833-abe8-a987388808b6"
      },
      "source": [
        "Finally, like with Pandas dataframes, we can transpose an array with the *T* method:"
      ]
    },
    {
      "cell_type": "code",
      "execution_count": 102,
      "id": "e55e5098-d9c5-49ce-abc2-4311ae07b9e0",
      "metadata": {
        "colab": {
          "base_uri": "https://localhost:8080/"
        },
        "id": "e55e5098-d9c5-49ce-abc2-4311ae07b9e0",
        "outputId": "5e1464ce-639e-4baa-d5ce-25ae7ab5cdde"
      },
      "outputs": [
        {
          "data": {
            "text/plain": [
              "array([[ 1,  2,  3],\n",
              "       [ 4,  5,  6],\n",
              "       [ 7,  8,  9],\n",
              "       [10, 11, 12]])"
            ]
          },
          "execution_count": 102,
          "metadata": {},
          "output_type": "execute_result"
        }
      ],
      "source": [
        "arr"
      ]
    },
    {
      "cell_type": "code",
      "execution_count": 103,
      "id": "ad198571-46c9-4a29-bba6-4e274617f5c9",
      "metadata": {
        "colab": {
          "base_uri": "https://localhost:8080/"
        },
        "id": "ad198571-46c9-4a29-bba6-4e274617f5c9",
        "outputId": "eb7efc34-78cd-457d-dfc0-59b2ebfac0a2"
      },
      "outputs": [
        {
          "data": {
            "text/plain": [
              "array([[ 1,  4,  7, 10],\n",
              "       [ 2,  5,  8, 11],\n",
              "       [ 3,  6,  9, 12]])"
            ]
          },
          "execution_count": 103,
          "metadata": {},
          "output_type": "execute_result"
        }
      ],
      "source": [
        "arr.T"
      ]
    },
    {
      "cell_type": "code",
      "execution_count": null,
      "id": "T0GZJODEPmv6",
      "metadata": {
        "id": "T0GZJODEPmv6"
      },
      "outputs": [],
      "source": []
    },
    {
      "cell_type": "markdown",
      "id": "a5Ju7nc3P5Ir",
      "metadata": {
        "id": "a5Ju7nc3P5Ir"
      },
      "source": [
        "Rob: Arrays can be more than two dimensional, but takes more thought. Can tell it to interchange rows 2 and 5"
      ]
    },
    {
      "cell_type": "markdown",
      "id": "xAEApOXaQNaK",
      "metadata": {
        "id": "xAEApOXaQNaK"
      },
      "source": [
        "Slicing means taking a range of values. Indexing means you're taking a single value\n",
        "\n",
        "Indexing decreases the number of dimensions."
      ]
    },
    {
      "cell_type": "markdown",
      "id": "OXQbKZBlRTlM",
      "metadata": {
        "id": "OXQbKZBlRTlM"
      },
      "source": [
        "Rob: Review matrix multiplication and linear transformations"
      ]
    },
    {
      "cell_type": "code",
      "execution_count": 103,
      "id": "im8Xas_zQDo3",
      "metadata": {
        "id": "im8Xas_zQDo3"
      },
      "outputs": [],
      "source": []
    }
  ],
  "metadata": {
    "colab": {
      "provenance": []
    },
    "kernelspec": {
      "display_name": "anaconda-panel-2023.05-py310",
      "language": "python",
      "name": "conda-env-anaconda-panel-2023.05-py310-py"
    },
    "language_info": {
      "codemirror_mode": {
        "name": "ipython",
        "version": 3
      },
      "file_extension": ".py",
      "mimetype": "text/x-python",
      "name": "python",
      "nbconvert_exporter": "python",
      "pygments_lexer": "ipython3",
      "version": "3.11.4"
    }
  },
  "nbformat": 4,
  "nbformat_minor": 5
}

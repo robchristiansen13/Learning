{
 "cells": [
  {
   "cell_type": "markdown",
   "id": "a3f1c05e",
   "metadata": {},
   "source": [
    "# CS-6570 Lecture 21 - Training Neural Networks\n",
    "\n",
    "**Dylan Zwick**\n",
    "\n",
    "*Weber State University*"
   ]
  },
  {
   "cell_type": "markdown",
   "id": "5ae6675f",
   "metadata": {},
   "source": [
    "In our last class, we introduced the idea of a neural network, and we went through an example of a neural network in action, without concerning ourselves about the particulars of the math or the particulars of the code. Today, we'll dive into those particulars, both for the math and for the code that implements it."
   ]
  },
  {
   "cell_type": "markdown",
   "id": "90f631db",
   "metadata": {},
   "source": [
    "**Gradient Descent and the Perceptron**\n",
    "\n",
    "First, we'll look at the simplest example of a neural network - the perceptron - which is a neural network with a single output node, no hidden nodes, and a sigmoid activation function.\n",
    "\n",
    "![Perceptron](Perceptron.png)\n",
    "\n",
    "If the inputs are $X = (x_{1},x_{2},\\ldots,x_{m})$, then these inputs are combined into the net input function through a weighted linear combination:\n",
    "\n",
    "$\\displaystyle z(X) = w_{0} + w_{1}x_{1} + w_{2}x_{2} + \\cdots + w_{m}x_{m}$.\n",
    "<br>\n",
    "This linear combination is then sent to an activation function, in this case the sigmoid:\n",
    "<center>\n",
    "    <br>\n",
    "    $\\displaystyle \\sigma(z) = \\frac{1}{1+e^{-z}} = \\frac{1}{1+e^{-(w_{0}+w_{1}x_{1}+w_{2}x_{2}+\\cdots+w_{m}x_{m})}}$\n",
    "    <br>\n",
    "</center>\n",
    "<br>\n",
    "The sigmoid function goes from 0 to 1 and provides a number we can interpret as a probability.\n",
    "\n",
    "![Sigmoid](Sigmoid.png)\n",
    "\n",
    "We then get our final prediction by sending the output of the sigmoid to a unit step function, which predicts a $1$ if the value is above a given threshold (frequently $.5$), and $0$ otherwise."
   ]
  },
  {
   "cell_type": "markdown",
   "id": "71a550a9",
   "metadata": {},
   "source": [
    "Suppose we have an observation $X$ with output $y$. We want to choose our weights so as to maximize the likelihood of the observed outcome, which is given by:\n",
    "\n",
    "$\\displaystyle \\sigma(z)^{y}(1-\\sigma(z))^{1-y}$.\n",
    "\n",
    "Here, we're using that $y$ is either $0$ or $1$. Now, typically instead of maximizing a function, we define a *loss function*, and seek to minimize it. Also, we can note the logarithm is an increasing function, so the input that maximizes / minimizes a function will also maximize / minimize its logarithm. Using these observations, we define our loss function:\n",
    "\n",
    "$\\displaystyle J = -\\left(y\\log{\\sigma(z(X))} + (1-y)\\log{(1-\\sigma(z(X)))}\\right)$.\n",
    "\n",
    "We want to find the values of the weights $w_{0},w_{1},\\ldots,w_{m}$ that minimize this function, and to do this we'll want to find the function's gradient. This means finding the partial derivatives with respect to each weight. We can get the partial derivative of this function with respect to the weight $w_{j}$ using the chain rule:\n",
    "\n",
    "$\\displaystyle \\frac{\\partial J}{\\partial w_{j}} = \\frac{\\partial J}{\\partial z}\\frac{\\partial z}{\\partial w_{j}}$.\n",
    "\n",
    "This will require a bit of calculus, but the derivative of the sigmoid function is:\n",
    "\n",
    "$\\displaystyle \\frac{d\\sigma}{dz} = \\frac{d}{dz}\\left(\\frac{1}{1+e^{-z}}\\right) = \\frac{e^{-z}}{(1+e^{-z})^{2}} = \\left(\\frac{1}{1+e^{-z}}\\right)\\left(1-\\frac{1}{1+e^{-z}}\\right) = \\sigma(z)(1-\\sigma(z))$\n",
    "\n",
    "From this we get that the derivative of the loss function:\n",
    "\n",
    "$\\displaystyle \\frac{\\partial J}{\\partial w_{j}} = \\left(-y\\left(\\frac{1}{\\sigma(z)}\\right)\\sigma(z)(1-\\sigma(z)) + (1-y)\\left(\\frac{1}{1-\\sigma(z)}\\right)\\sigma(z)(1-\\sigma(z))\\right)\\frac{\\partial z}{\\partial w_{j}} = (\\sigma(z)-y)x_{j}$\n",
    "\n",
    "We express as $\\delta$ the partial derivative $\\displaystyle \\frac{\\partial J}{\\partial z}$, and so from this we get $\\delta = \\sigma(z)-y$. This value is typically called the *error* of the output node.\n",
    "\n",
    "From this we can see our gradient is $\\nabla J = \\delta X$."
   ]
  },
  {
   "cell_type": "markdown",
   "id": "ab1572c8",
   "metadata": {},
   "source": [
    "**Gradient Descend and the Neural Network**\n",
    "\n",
    "Suppose now instead of a simple perceptron, we've got a neural network with $t$ output nodes, and $d$ hidden nodes.\n",
    "\n",
    "![Multi-Layer Neural Network](Multi-Layer.png)\n",
    "\n",
    "At each non-input node there is a net input function, which we denote by $z_{j}^{(l)}$, where $l \\in \\{in,h,out\\}$. So, for example, the net input to the index $1$ node in the hidden layer is:\n",
    "\n",
    "\n",
    "$\\displaystyle z_{1}^{(h)} = w_{0,1}^{(h)}a_{0}^{(in)} + w_{1,1}^{(h)}a_{1}^{(in)} + \\cdots w_{m,1}^{(h)}a_{m}^{(in)}$\n",
    "\n",
    "The output value of each node is the sigmoid of its inputs, so for example the output of the index $1$ node in the hidden layer is:\n",
    "\n",
    "$\\displaystyle a_{1}^{(h)} = \\sigma(z_{1}^{(d)})$\n",
    "\n",
    "Note that we can view the set of inputs to the hidden layer as a row vector $\\textbf{z}^{(h)}$, with values given by:\n",
    "\n",
    "$\\displaystyle \\textbf{z}^{(h)} = \\left(\\begin{array}{cccc} z_{1}^{(h)} & z_{2}^{(h)} & \\cdots & z_{d}^{(h)}\\end{array}\\right) = \\left(\\begin{array}{cccc} a_{0}^{(in)} & a_{1}^{(in)} & \\cdots & a_{m}^{(in)}\\end{array}\\right)\\left(\\begin{array}{cccc} w_{0,1}^{(h)} & w_{0,2}^{(h)} & \\cdots & w_{0,d}^{(h)} \\\\ w_{1,1}^{(h)} & w_{1,2}^{(h)} & \\cdots & w_{1,d}^{(h)} \\\\ \\vdots & \\vdots & \\ddots & \\vdots \\\\ w_{m,1}^{(h)} & w_{m,2}^{(h)} & \\cdots & w_{m,d}^{(h)}\\end{array}\\right) = \\textbf{a}^{(in)}\\textbf{W}^{(h)}$\n"
   ]
  },
  {
   "cell_type": "markdown",
   "id": "779d298f",
   "metadata": {},
   "source": [
    "For any given input $X$, the output will be one of the categories $1,\\ldots,t$. We can encode this as a \"onehot\" vector, in which every element is zero except the one corresponding to the output category, which is $1$. So, for example, if the output is the third category, the output vector $\\textbf{y}$ will be:\n",
    "$\\displaystyle \\textbf{y} = \\left(\\begin{array}{cccccc} 0 & 0 & 1 & 0 & \\cdots & 0\\end{array}\\right)$\n",
    "\n",
    "In this case, the likelihood of an observation will be:\n",
    "\n",
    "$\\displaystyle \\prod_{i = 1}^{t}\\sigma(z_{i}^{(out)})^{y_{i}}(1-\\sigma(z_{i}^{(out)}))^{1-y_{i}}$,\n",
    "\n",
    "and the loss function will be:\n",
    "\n",
    "$\\displaystyle J = -\\sum_{i = 1}^{t}\\left(y_{i}\\log{\\sigma(z_{i}^{(out)})} + (1-y_{i})\\log{(1-\\sigma(z_{i}^{(out)}))}\\right)$.\n"
   ]
  },
  {
   "cell_type": "markdown",
   "id": "51cec08b",
   "metadata": {},
   "source": [
    "We define $\\delta_{j}^{(l)}$ to be the rate of change of the loss function with respect to the input to node $j$ of layer $l$. For example:\n",
    "\n",
    "\n",
    "$\\displaystyle \\delta_{1}^{(h)} = \\frac{\\partial J}{\\partial z_{1}^{(h)}}.$\n",
    "\n",
    "From the chain rule, we know this will be:\n",
    "\n",
    "$\\displaystyle \\frac{\\partial J}{\\partial z_{1}^{(h)}} = \\sum_{i = 1}^{t}\\frac{\\partial J}{\\partial z_{i}^{(out)}}\\frac{\\partial z_{i}^{(out)}}{\\partial z_{1}^{(h)}}$.\n",
    "\n",
    "Now, by definition we have:\n",
    "\n",
    "$\\displaystyle z_{i}^{(out)} = \\sum_{j = 1}^{d}w_{j,i}^{(out)}\\sigma(z_{j}^{(h)})$.\n",
    "\n",
    "Taking the partial derivative of this with respect to $z_{1}^{(h)}$ we have:\n",
    "\n",
    "$\\displaystyle \\frac{\\partial z_{i}^{(out)}}{\\partial z_{1}^{(h)}} = w_{1,i}^{(out)}\\sigma'(z_{1}^{(h)}) = w_{1,i}^{(out)}\\sigma(z_{1}^{(h)})(1-\\sigma(z_{1}^{(h)}))$\n"
   ]
  },
  {
   "cell_type": "markdown",
   "id": "d4fa0664",
   "metadata": {},
   "source": [
    "Using this to calculate $\\delta_{1}^{(h)}$, and noting that $\\displaystyle \\delta_{i}^{(out)} = \\frac{\\partial J}{\\partial z_{i}^{(out)}}$, we get:\n",
    "\n",
    "$\\displaystyle \\delta_{1}^{(h)} = \\sum_{i = 1}^{t}\\delta_{i}^{(out)}w_{1,i}^{(out)}\\sigma(z_{1}^{(h)})(1-\\sigma(z_{1}^{(h)}))$\n"
   ]
  },
  {
   "cell_type": "markdown",
   "id": "41f1d641",
   "metadata": {},
   "source": [
    "Writing\n",
    "\n",
    "$\\displaystyle \\delta^{(h)} = \\left(\\begin{array}{cccc} \\delta_{1}^{(h)} & \\delta_{2}^{(h)} & \\cdots && \\delta_{d}^{(h)}\\end{array}\\right)$\n",
    "\n",
    "we have more generally that\n",
    "\n",
    "$\\displaystyle \\delta^{(h)} = \\delta^{(out)}(\\textbf{W}^{(out)})^{T} \\odot (a^{(h)} \\odot (1-a^{(h)}))$,\n",
    "\n",
    "where $\\odot$ is element-wise multiplication. In an identical fashion we can get:\n",
    "\n",
    "$\\displaystyle \\delta^{(in)} = \\delta^{(h)}(\\textbf{W}^{(h)})^{T} \\odot (a^{(in)} \\odot (1-a^{(in)}))$.\n",
    "\n",
    "This idea of propagating these $\\delta$ terms, as mentioned earlier known as *error* terms, backwards through the network is the reason for the term backpropagation. Once we have these taking the partial derivatives is easy. For any weight in $\\textbf{W}^{(out)}$ (the weights connecting the hidden layer and the output layer) we have:\n",
    "\n",
    "$\\displaystyle \\frac{\\partial J}{\\partial w_{i,j}^{(out)}} = a_{j}^{(h)}\\delta_{i}^{(out)}$,\n",
    "\n",
    "and for any weight in $\\textbf{W}^{(h)}$ (the weights connecting the input layer and the hidden layer) we have:\n",
    "\n",
    "$\\displaystyle \\frac{\\partial J}{\\partial w_{i,j}^{(h)}} = a_{j}^{(in)}\\delta_{i}^{(h)}$.\n",
    "\n",
    "Using these, we can calculate our updates for gradient descent."
   ]
  },
  {
   "cell_type": "markdown",
   "id": "8a6994c0",
   "metadata": {},
   "source": [
    "Note throughout we've assumed we're doing stochastic gradient descent - updating just based upon one observation. This is what we'll do in our program too, but to do this for batch stochastic gradient descent, or just standard gradient descent, the math is almost identical - just with even more summations and indices to keep straight!"
   ]
  },
  {
   "cell_type": "markdown",
   "id": "fd4063cc",
   "metadata": {},
   "source": [
    "**Implementing the Neural Network**\n",
    "\n",
    "Today we'll step through the code we rushed through last time. I've broken up the neural network class into a number of separate functions so we can better understand how they work together, although to be clear keeping them all within a class is definitely the better way to do it!"
   ]
  },
  {
   "cell_type": "markdown",
   "id": "3fd42673",
   "metadata": {},
   "source": [
    "First, you should make sure you've got the handwritten digits data we went through last class unzipped and in the same directory as this Jupyter notebook. If you don't you'll want to download the zip files from http://yann.lecun.com/exdb/mnist/. It consists of the following parts:\n",
    "\n",
    "* Training set images: train-images-idx3-ubyte.gz (9.9 MB, 47 MB unzipped, 60,000 examples)\n",
    "* Training set labels: train-labels-idx1-ubyte.gz (29 KB, 60 KB unzipped, 60,000 labels)\n",
    "* Test set images: t10k-images-idx3-ubyte.gz (1.6 MB, 7.8 MB, 10,000 examples)\n",
    "* Test set labels: t10k-labels-idx1-ubyte.gz (5 KB, 10 KB unzipped, 10,000 labels)"
   ]
  },
  {
   "cell_type": "markdown",
   "id": "5459c891",
   "metadata": {},
   "source": [
    "You can unzip these files by uncommenting and running the code below."
   ]
  },
  {
   "cell_type": "code",
   "execution_count": 14,
   "id": "a8147471",
   "metadata": {},
   "outputs": [],
   "source": [
    "#Uncomment and run the code below to unzip the files.\n",
    "\"\"\"\n",
    "import sys\n",
    "import gzip\n",
    "import shutil\n",
    "import os\n",
    "\n",
    "zipped_mnist = [f for f in os.listdir() if f.endswith('ubyte.gz')]\n",
    "for z in zipped_mnist:\n",
    "    with gzip.GzipFile(z, mode='rb') as decompressed, open(z[:-3], 'wb') as outfile:\n",
    "        outfile.write(decompressed.read())\n",
    "\"\"\";"
   ]
  },
  {
   "cell_type": "markdown",
   "id": "4dadcaf4",
   "metadata": {},
   "source": [
    "Next we'll load and process the data. Like last time, the details here aren't important."
   ]
  },
  {
   "cell_type": "code",
   "execution_count": 16,
   "id": "94d959d5",
   "metadata": {},
   "outputs": [],
   "source": [
    "import sys\n",
    "import os\n",
    "import struct\n",
    "import numpy as np\n",
    "import warnings\n",
    "warnings.filterwarnings(\"ignore\")\n",
    " \n",
    "def load_mnist(path, kind='train'):\n",
    "    \"\"\"Load MNIST data from `path`\"\"\"\n",
    "    labels_path = os.path.join(path, \n",
    "                               '%s-labels-idx1-ubyte' % kind)\n",
    "    images_path = os.path.join(path, \n",
    "                               '%s-images-idx3-ubyte' % kind)\n",
    "        \n",
    "    with open(labels_path, 'rb') as lbpath:\n",
    "        magic, n = struct.unpack('>II', \n",
    "                                 lbpath.read(8))\n",
    "        labels = np.fromfile(lbpath, \n",
    "                             dtype=np.uint8)\n",
    "\n",
    "    with open(images_path, 'rb') as imgpath:\n",
    "        magic, num, rows, cols = struct.unpack(\">IIII\", \n",
    "                                               imgpath.read(16))\n",
    "        images = np.fromfile(imgpath, \n",
    "                             dtype=np.uint8).reshape(len(labels), 784)\n",
    "        images = ((images / 255.) - .5) * 2\n",
    " \n",
    "    return images, labels"
   ]
  },
  {
   "cell_type": "markdown",
   "id": "0e41ccd3",
   "metadata": {},
   "source": [
    "We'll create our training data and test data, and take a look at the first digits of each type in our training data."
   ]
  },
  {
   "cell_type": "code",
   "execution_count": 18,
   "id": "527647bf",
   "metadata": {},
   "outputs": [
    {
     "data": {
      "image/png": "[encoded data removed]",
      "text/plain": [
       "<Figure size 432x288 with 10 Axes>"
      ]
     },
     "metadata": {},
     "output_type": "display_data"
    }
   ],
   "source": [
    "X_train, y_train = load_mnist('', kind='train')\n",
    "\n",
    "X_test, y_test = load_mnist('', kind='t10k')\n",
    "\n",
    "import matplotlib.pyplot as plt\n",
    "\n",
    "fig, ax = plt.subplots(nrows=2, ncols=5, sharex=True, sharey=True)\n",
    "ax = ax.flatten()\n",
    "for i in range(10):\n",
    "    img = X_train[y_train == i][0].reshape(28, 28)\n",
    "    ax[i].imshow(img, cmap='Greys')\n",
    "\n",
    "ax[0].set_xticks([])\n",
    "ax[0].set_yticks([])\n",
    "plt.tight_layout()\n",
    "plt.show()"
   ]
  },
  {
   "cell_type": "markdown",
   "id": "ba79b222",
   "metadata": {},
   "source": [
    "OK. Now that we've got our data ready to go, we'll want to code the neural network. The first thing we'll create is a function for turning a set of data into a \"onehot\" encoding."
   ]
  },
  {
   "cell_type": "code",
   "execution_count": 20,
   "id": "6e9eea8c",
   "metadata": {},
   "outputs": [],
   "source": [
    "def onehot(y, n_classes):\n",
    "    onehot = np.zeros((y.shape[0], n_classes))\n",
    "    for idx, val in enumerate(y.astype(int)):\n",
    "        onehot[idx, val] = 1.\n",
    "    return onehot"
   ]
  },
  {
   "cell_type": "markdown",
   "id": "b7db725c",
   "metadata": {},
   "source": [
    "So, for example, if I created a very simple dataset (0,1,1,0,1,0,0) it can read that in and encode it as follows: "
   ]
  },
  {
   "cell_type": "code",
   "execution_count": 22,
   "id": "3d443e77",
   "metadata": {},
   "outputs": [
    {
     "data": {
      "text/plain": [
       "array([[1., 0.],\n",
       "       [0., 1.],\n",
       "       [0., 1.],\n",
       "       [1., 0.],\n",
       "       [0., 1.],\n",
       "       [1., 0.],\n",
       "       [1., 0.]])"
      ]
     },
     "execution_count": 22,
     "metadata": {},
     "output_type": "execute_result"
    }
   ],
   "source": [
    "example = np.array([0,1,1,0,1,0,0])\n",
    "onehot(example,2)"
   ]
  },
  {
   "cell_type": "markdown",
   "id": "6e7ca8d6",
   "metadata": {},
   "source": [
    "Next we'll define the sigmoid function."
   ]
  },
  {
   "cell_type": "code",
   "execution_count": 24,
   "id": "4602b49f",
   "metadata": {},
   "outputs": [],
   "source": [
    "def sigmoid(z):\n",
    "    return 1. / (1. + np.exp(-z))"
   ]
  },
  {
   "cell_type": "code",
   "execution_count": 25,
   "id": "3d6cb0e5",
   "metadata": {},
   "outputs": [
    {
     "name": "stdout",
     "output_type": "stream",
     "text": [
      "4.1399375473943306e-08\n",
      "5e-01\n",
      "7.310585786300049e-01\n",
      "1e+00\n"
     ]
    }
   ],
   "source": [
    "print(sigmoid(-17))\n",
    "print(sigmoid(0))\n",
    "print(sigmoid(1))\n",
    "print(sigmoid(6000))"
   ]
  },
  {
   "cell_type": "markdown",
   "id": "7e2cf6fa",
   "metadata": {},
   "source": [
    "Alright, so now we'll want to start actually creating functions specific to a neural network. First, we'll define a function that, given our weights and an input, will calculate the inputs to and outputs from the nodes with the network."
   ]
  },
  {
   "cell_type": "code",
   "execution_count": 27,
   "id": "6d851fe0",
   "metadata": {},
   "outputs": [],
   "source": [
    "def forward(X,W_h,b_h,W_out,b_out):\n",
    "    \n",
    "    z_h = np.dot(X, W_h) + b_h\n",
    "\n",
    "    a_h = sigmoid(z_h)\n",
    "\n",
    "    z_out = np.dot(a_h, W_out) + b_out\n",
    "\n",
    "    a_out = sigmoid(z_out)\n",
    "\n",
    "    return z_h, a_h, z_out, a_out"
   ]
  },
  {
   "cell_type": "markdown",
   "id": "09a07edb",
   "metadata": {},
   "source": [
    "Next, we'll define our back-propagation function. This will return the modified weights after back propagation with a learning rate $\\eta$ (eta). Note that we separate out the bias terms from the rest of the weights."
   ]
  },
  {
   "cell_type": "code",
   "execution_count": 29,
   "id": "36cb12a4",
   "metadata": {},
   "outputs": [],
   "source": [
    "def back(X,y,W_h,b_h,W_out,b_out,eta):\n",
    "    \n",
    "    z_h,a_h,z_out,a_out = forward(X,W_h,b_h,W_out,b_out)\n",
    "    \n",
    "    delta_out = a_out - y\n",
    "\n",
    "    sigmoid_derivative_h = a_h * (1. - a_h)\n",
    "\n",
    "    delta_h = (np.dot(delta_out, W_out.T) * sigmoid_derivative_h)\n",
    "    \n",
    "    grad_W_h = np.dot(X.T, delta_h)\n",
    "    grad_b_h = np.sum(delta_h, axis=0)\n",
    "\n",
    "    grad_W_out = np.dot(a_h.T, delta_out)\n",
    "    grad_b_out = np.sum(delta_out, axis=0)\n",
    "\n",
    "    W_h -= eta * grad_W_h\n",
    "    b_h -= eta * grad_b_h\n",
    "\n",
    "    W_out -= eta * grad_W_out\n",
    "    b_out -= eta * grad_b_out\n",
    "    return W_h,b_h,W_out,b_out"
   ]
  },
  {
   "cell_type": "markdown",
   "id": "e2100e69",
   "metadata": {},
   "source": [
    "Finally, we'll define our fit function. We provide this function with our training data, the number of epochs (passes through the training data) we want, the number of hidden nodes in our hidden layer, the learinng rate eta, and a random seed that is initialized to 1 if not specified.\n",
    "\n",
    "Within this code it also initializes some starting weights. The bias weights are all initially set to 0, while the other weights are sampled from a normal distribution."
   ]
  },
  {
   "cell_type": "code",
   "execution_count": 31,
   "id": "724c8154",
   "metadata": {},
   "outputs": [],
   "source": [
    "def fit(X_train, y_train, epochs, n_hidden, eta, seed=1):\n",
    "    \n",
    "    random = np.random.RandomState(seed)\n",
    "   \n",
    "    n_output = np.unique(y_train).shape[0]  # number of class labels\n",
    "    n_features = X_train.shape[1]\n",
    "\n",
    "    # weights for input -> hidden\n",
    "    b_h = np.zeros(n_hidden)\n",
    "    W_h = random.normal(loc=0.0, scale=0.1,size=(n_features,n_hidden))\n",
    "\n",
    "    # weights for hidden -> output\n",
    "    b_out = np.zeros(n_output)\n",
    "    W_out = random.normal(loc=0.0, scale=0.1,size=(n_hidden, n_output))\n",
    "\n",
    "    y_train_enc = onehot(y_train, n_output)\n",
    "\n",
    "    # iterate over training epochs\n",
    "    for i in range(epochs):\n",
    "\n",
    "        indices = np.arange(X_train.shape[0])\n",
    "\n",
    "        random.shuffle(indices)\n",
    "\n",
    "        for idx in range(indices.shape[0]):\n",
    "            W_h,b_h,W_out,b_out = back(X_train[[idx]],y_train_enc[[idx]],W_h,b_h,W_out,b_out,eta)\n",
    "\n",
    "        # Evaluation after each epoch during training\n",
    "        z_h, a_h, z_out, a_out = forward(X_train,W_h,b_h,W_out,b_out)\n",
    "        cost = np.sum(-y_train_enc * (np.log(a_out)) - (1. - y_train_enc) * np.log(1. - a_out))\n",
    "\n",
    "        y_train_pred = np.argmax(z_out, axis=1)\n",
    "\n",
    "        train_acc = ((np.sum(y_train == y_train_pred)).astype(np.float) / X_train.shape[0])\n",
    "\n",
    "        sys.stderr.write('\\r%d/%d | Cost: %.2f '\n",
    "                             '| Train Acc.: %.2f%% ' %\n",
    "                             (i+1, epochs, cost,train_acc*100))\n",
    "        sys.stderr.flush()"
   ]
  },
  {
   "cell_type": "markdown",
   "id": "87ea8521",
   "metadata": {},
   "source": [
    "Finally, we'll run our optimization function about 10 times, using a neural network with 30 hidden notes, a learning rate of $.001$, and an initial random seed of $42$."
   ]
  },
  {
   "cell_type": "code",
   "execution_count": 33,
   "id": "b7f0942f",
   "metadata": {},
   "outputs": [
    {
     "name": "stderr",
     "output_type": "stream",
     "text": [
      "10/10 | Cost: 26954.38 | Train Acc.: 93.26% "
     ]
    }
   ],
   "source": [
    "#hyperparameters\n",
    "\n",
    "epochs = 10\n",
    "n_hidden = 30\n",
    "eta = .001\n",
    "seed = 42\n",
    "\n",
    "fit(X_train, y_train, epochs, n_hidden, eta, seed)"
   ]
  },
  {
   "cell_type": "markdown",
   "id": "0ca77728",
   "metadata": {},
   "source": [
    "Not bad! Note that in the code from last time, we wrapped all these functions up as methods within a neural net class. To be clear, that is absolutely a better way to do it! We broke things out above so we could walk through it, but the implementation from last time is suprior, and what you should try to emulate.\n",
    "\n",
    "Also, the code from last time included some regularization parameters that we haven't discussed, and the ability to do batched gradient descent, which is important stuff but beyond what we have time to cover. Finally, it breaks out a training set and a validation set for the fit, which is important for monitoring overfitting. In other words, a generally superior implementation all around. :)"
   ]
  }
 ],
 "metadata": {
  "kernelspec": {
   "display_name": "anaconda-2022.05-py39",
   "language": "python",
   "name": "conda-env-anaconda-2022.05-py39-py"
  },
  "language_info": {
   "codemirror_mode": {
    "name": "ipython",
    "version": 3
   },
   "file_extension": ".py",
   "mimetype": "text/x-python",
   "name": "python",
   "nbconvert_exporter": "python",
   "pygments_lexer": "ipython3",
   "version": "3.9.12"
  }
 },
 "nbformat": 4,
 "nbformat_minor": 5
}

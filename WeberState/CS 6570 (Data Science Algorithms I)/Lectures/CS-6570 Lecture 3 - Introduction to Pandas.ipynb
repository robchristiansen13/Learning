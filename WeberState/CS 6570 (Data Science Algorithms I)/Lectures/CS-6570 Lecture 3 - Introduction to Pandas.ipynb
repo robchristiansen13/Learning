{
  "cells": [
    {
      "cell_type": "markdown",
      "id": "19c95f59-6231-43aa-ac9e-d276980b1fcf",
      "metadata": {
        "id": "19c95f59-6231-43aa-ac9e-d276980b1fcf"
      },
      "source": [
        "# CS-6570 Lecture 3\n",
        "\n",
        "**Dylan Zwick**\n",
        "\n",
        "*Weber State University*"
      ]
    },
    {
      "cell_type": "markdown",
      "id": "a078e87b-984f-41ae-ba17-cf9146f65200",
      "metadata": {
        "id": "a078e87b-984f-41ae-ba17-cf9146f65200"
      },
      "source": [
        "In this lecture, we'll go through a whirlwind introduction to Pandas, the most commonly used data management library in Python. We will not cover, or even come close to covering, the entire library. Also, there are many aspects and facets of Pandas that you'll learn and internalize only by using it. However, the lecture should - ideally - give you a starting point."
      ]
    },
    {
      "cell_type": "markdown",
      "id": "832954c2-e03b-476c-9454-5ac5834ae8ab",
      "metadata": {
        "id": "832954c2-e03b-476c-9454-5ac5834ae8ab"
      },
      "source": [
        "First, some notational conventions. Almost always the name of the library \"pandas\" is abbreviated as pd when it's imported, and pd is used to reference it afterwards. The same idea applies, mutatis mutandis, with NumPy, PyPlot, Seaborn, and Statsmodel:"
      ]
    },
    {
      "cell_type": "code",
      "execution_count": 1,
      "id": "1619b21b-4dcc-4045-986e-58047a153b7c",
      "metadata": {
        "id": "1619b21b-4dcc-4045-986e-58047a153b7c"
      },
      "outputs": [
        {
          "ename": "ModuleNotFoundError",
          "evalue": "No module named 'seaborn'",
          "output_type": "error",
          "traceback": [
            "\u001b[0;31m---------------------------------------------------------------------------\u001b[0m",
            "\u001b[0;31mModuleNotFoundError\u001b[0m                       Traceback (most recent call last)",
            "\u001b[1;32m/Users/robchristiansen/Documents/Code/Learning/WeberState/CS 6570 (Data Science Algorithms I)/Lectures/CS-6570 Lecture 3 - Introduction to Pandas.ipynb Cell 4\u001b[0m in \u001b[0;36m4\n\u001b[1;32m      <a href='vscode-notebook-cell:/Users/robchristiansen/Documents/Code/Learning/WeberState/CS%206570%20%28Data%20Science%20Algorithms%20I%29/Lectures/CS-6570%20Lecture%203%20-%20Introduction%20to%20Pandas.ipynb#W3sZmlsZQ%3D%3D?line=1'>2</a>\u001b[0m \u001b[39mimport\u001b[39;00m \u001b[39mmatplotlib\u001b[39;00m\u001b[39m.\u001b[39;00m\u001b[39mpyplot\u001b[39;00m \u001b[39mas\u001b[39;00m \u001b[39mplt\u001b[39;00m\n\u001b[1;32m      <a href='vscode-notebook-cell:/Users/robchristiansen/Documents/Code/Learning/WeberState/CS%206570%20%28Data%20Science%20Algorithms%20I%29/Lectures/CS-6570%20Lecture%203%20-%20Introduction%20to%20Pandas.ipynb#W3sZmlsZQ%3D%3D?line=2'>3</a>\u001b[0m \u001b[39mimport\u001b[39;00m \u001b[39mpandas\u001b[39;00m \u001b[39mas\u001b[39;00m \u001b[39mpd\u001b[39;00m\n\u001b[0;32m----> <a href='vscode-notebook-cell:/Users/robchristiansen/Documents/Code/Learning/WeberState/CS%206570%20%28Data%20Science%20Algorithms%20I%29/Lectures/CS-6570%20Lecture%203%20-%20Introduction%20to%20Pandas.ipynb#W3sZmlsZQ%3D%3D?line=3'>4</a>\u001b[0m \u001b[39mimport\u001b[39;00m \u001b[39mseaborn\u001b[39;00m \u001b[39mas\u001b[39;00m \u001b[39msns\u001b[39;00m\n\u001b[1;32m      <a href='vscode-notebook-cell:/Users/robchristiansen/Documents/Code/Learning/WeberState/CS%206570%20%28Data%20Science%20Algorithms%20I%29/Lectures/CS-6570%20Lecture%203%20-%20Introduction%20to%20Pandas.ipynb#W3sZmlsZQ%3D%3D?line=4'>5</a>\u001b[0m \u001b[39mimport\u001b[39;00m \u001b[39mstatsmodels\u001b[39;00m \u001b[39mas\u001b[39;00m \u001b[39msm\u001b[39;00m\n",
            "\u001b[0;31mModuleNotFoundError\u001b[0m: No module named 'seaborn'"
          ]
        }
      ],
      "source": [
        "import numpy as np\n",
        "import matplotlib.pyplot as plt\n",
        "import pandas as pd\n",
        "import seaborn as sns\n",
        "import statsmodels as sm"
      ]
    },
    {
      "cell_type": "markdown",
      "id": "c7743bcd-2e67-45a0-bf29-4fcf98634178",
      "metadata": {
        "id": "c7743bcd-2e67-45a0-bf29-4fcf98634178"
      },
      "source": [
        "### Pandas Basics"
      ]
    },
    {
      "cell_type": "markdown",
      "id": "8e04d40c-fc34-4bfe-8553-cd61ad64f8cf",
      "metadata": {
        "id": "8e04d40c-fc34-4bfe-8553-cd61ad64f8cf"
      },
      "source": [
        "The dataset with which we'll play around is the \"royal line\" dataset, which was created from public sources and contains family history information about Elizabeth II, the Queen of England at the time the dataset was compiled. Note a few things about the command below:\n",
        "* It uses the read_csv command from pandas, which is used to read in \"comma separated value\" files. This is a very common format for storing tabular data, as it's not tied to a particular program like, for example, Excel files are. However, Pandas also has functionality for reading in pretty much any type of data format commonly found in practice.\n",
        "* Currently, I'm in a folder called \"Lecture Notes\", which is a subfolder of the folder \"CS-6570\". Another subfolder of \"CS-6570\" is \"Datasets\", where the royal_line.csv data file can be found. My command starts in the \"Lecture Notes\" folder, goes one up, then goes into the \"Datasets\" folder, then accesses the data file. Your command may be different depending on where you decide to place your data file.\n",
        "* The basic data object is Pandas is a \"dataframe\", which is created by the read_csv command. Typically, a dataframe is denoted with the abbreviation \"df\", which we do here."
      ]
    },
    {
      "cell_type": "code",
      "execution_count": 2,
      "id": "5b654ef4-d06d-47ad-b29b-dba2d6ee568a",
      "metadata": {
        "colab": {
          "base_uri": "https://localhost:8080/",
          "height": 346
        },
        "id": "5b654ef4-d06d-47ad-b29b-dba2d6ee568a",
        "outputId": "62e73d28-ae10-4db3-efee-a11c71576b6a"
      },
      "outputs": [],
      "source": [
        "df = pd.read_csv('Datasets/royal_line.csv')"
      ]
    },
    {
      "cell_type": "markdown",
      "id": "1ddf6766-0af1-4058-acd1-e16db226f438",
      "metadata": {
        "id": "1ddf6766-0af1-4058-acd1-e16db226f438"
      },
      "source": [
        "We can then take a look at this dataframe using the \"print\" command, which will be default print the first five and last five rows of the dataframe."
      ]
    },
    {
      "cell_type": "code",
      "execution_count": 3,
      "id": "9b6e2f3e-0326-469d-9080-0ac13057e3a3",
      "metadata": {
        "id": "9b6e2f3e-0326-469d-9080-0ac13057e3a3",
        "outputId": "5fca5518-008e-4afc-8cea-3bd711d5abc2"
      },
      "outputs": [
        {
          "name": "stdout",
          "output_type": "stream",
          "text": [
            "        ID               first_name last_name sex             title  \\\n",
            "0        1                 Victoria   Hanover   F  Queen of England   \n",
            "1        2  Albert Augustus Charles       NaN   M            Prince   \n",
            "2        3   Victoria Adelaide Mary       NaN   F    Princess Royal   \n",
            "3        4               Edward_VII    Wettin   M   King of England   \n",
            "4        5          Alice Maud Mary       NaN   F          Princess   \n",
            "...    ...                      ...       ...  ..               ...   \n",
            "3004  3005                    Emily   Scobell   F               NaN   \n",
            "3005  3006             John Sanford   Scobell   M               Sir   \n",
            "3006  3007                    James  Cartland   M               NaN   \n",
            "3007  3008                    Flora       NaN   F               NaN   \n",
            "3008  3009                      NaN  Cartland   F               NaN   \n",
            "\n",
            "       birth_date                          birth_place   death_date  \\\n",
            "0     24 MAY 1819     Kensington,Palace,London,England  22 JAN 1901   \n",
            "1     26 AUG 1819  Schloss Rosenau,Near Coburg,Germany  14 DEC 1861   \n",
            "2     21 NOV 1840     Buckingham,Palace,London,England   5 AUG 1901   \n",
            "3      9 NOV 1841     Buckingham,Palace,London,England   6 MAY 1910   \n",
            "4     25 APR 1843     Buckingham,Palace,London,England  14 DEC 1878   \n",
            "...           ...                                  ...          ...   \n",
            "3004          NaN                                  NaN          NaN   \n",
            "3005         1879                                  NaN          NaN   \n",
            "3006          NaN                                  NaN          NaN   \n",
            "3007          NaN                                  NaN          NaN   \n",
            "3008          NaN                                  NaN  ABT    1911   \n",
            "\n",
            "                              death_place  \n",
            "0     Osborne House,Isle of Wight,England  \n",
            "1        Windsor Castle,Berkshire,England  \n",
            "2      Friedrichshof,Near,Kronberg,Taunus  \n",
            "3        Buckingham,Palace,London,England  \n",
            "4                     Darmstadt,,,Germany  \n",
            "...                                   ...  \n",
            "3004                                  NaN  \n",
            "3005                                  NaN  \n",
            "3006                                  NaN  \n",
            "3007                                  NaN  \n",
            "3008                                  NaN  \n",
            "\n",
            "[3009 rows x 9 columns]\n"
          ]
        }
      ],
      "source": [
        "print(df)"
      ]
    },
    {
      "cell_type": "markdown",
      "id": "379d6271-ef99-4c6a-ba8d-64383f2242d8",
      "metadata": {
        "id": "379d6271-ef99-4c6a-ba8d-64383f2242d8"
      },
      "source": [
        "If we just want to check out the first $n$ values, we can use the \"head\" function:"
      ]
    },
    {
      "cell_type": "code",
      "execution_count": 4,
      "id": "b5a2ce89-8c3a-4b2b-b92a-2ad06f43c401",
      "metadata": {
        "id": "b5a2ce89-8c3a-4b2b-b92a-2ad06f43c401",
        "outputId": "2a47a984-aceb-4dfb-d350-d6aa47397900"
      },
      "outputs": [
        {
          "name": "stdout",
          "output_type": "stream",
          "text": [
            "   ID               first_name last_name sex             title   birth_date  \\\n",
            "0   1                 Victoria   Hanover   F  Queen of England  24 MAY 1819   \n",
            "1   2  Albert Augustus Charles       NaN   M            Prince  26 AUG 1819   \n",
            "2   3   Victoria Adelaide Mary       NaN   F    Princess Royal  21 NOV 1840   \n",
            "3   4               Edward_VII    Wettin   M   King of England   9 NOV 1841   \n",
            "4   5          Alice Maud Mary       NaN   F          Princess  25 APR 1843   \n",
            "\n",
            "                           birth_place   death_date  \\\n",
            "0     Kensington,Palace,London,England  22 JAN 1901   \n",
            "1  Schloss Rosenau,Near Coburg,Germany  14 DEC 1861   \n",
            "2     Buckingham,Palace,London,England   5 AUG 1901   \n",
            "3     Buckingham,Palace,London,England   6 MAY 1910   \n",
            "4     Buckingham,Palace,London,England  14 DEC 1878   \n",
            "\n",
            "                           death_place  \n",
            "0  Osborne House,Isle of Wight,England  \n",
            "1     Windsor Castle,Berkshire,England  \n",
            "2   Friedrichshof,Near,Kronberg,Taunus  \n",
            "3     Buckingham,Palace,London,England  \n",
            "4                  Darmstadt,,,Germany  \n",
            "    ID                   first_name last_name sex             title  \\\n",
            "0    1                     Victoria   Hanover   F  Queen of England   \n",
            "1    2      Albert Augustus Charles       NaN   M            Prince   \n",
            "2    3       Victoria Adelaide Mary       NaN   F    Princess Royal   \n",
            "3    4                   Edward_VII    Wettin   M   King of England   \n",
            "4    5              Alice Maud Mary       NaN   F          Princess   \n",
            "5    6         Alfred Ernest Albert       NaN   M            Prince   \n",
            "6    7      Helena Augusta Victoria       NaN   F          Princess   \n",
            "7    8      Louise Caroline Alberta       NaN   F          Princess   \n",
            "8    9       Arthur William Patrick       NaN   M            Prince   \n",
            "9   10        Leopold George Duncan       NaN   M            Prince   \n",
            "10  11       Beatrice Mary Victoria       NaN   F          Princess   \n",
            "11  12  Alexandra of_Denmark Alix\"\"       NaN   F          Princess   \n",
            "\n",
            "     birth_date                          birth_place   death_date  \\\n",
            "0   24 MAY 1819     Kensington,Palace,London,England  22 JAN 1901   \n",
            "1   26 AUG 1819  Schloss Rosenau,Near Coburg,Germany  14 DEC 1861   \n",
            "2   21 NOV 1840     Buckingham,Palace,London,England   5 AUG 1901   \n",
            "3    9 NOV 1841     Buckingham,Palace,London,England   6 MAY 1910   \n",
            "4   25 APR 1843     Buckingham,Palace,London,England  14 DEC 1878   \n",
            "5    6 AUG 1844     Windsor Castle,Berkshire,England  30 JUL 1900   \n",
            "6   25 MAY 1846     Buckingham,Palace,London,England   9 JUN 1923   \n",
            "7   18 MAR 1848     Buckingham,Palace,London,England   3 DEC 1939   \n",
            "8    1 MAY 1850     Buckingham,Palace,London,England  16 JAN 1942   \n",
            "9    7 APR 1853     Buckingham,Palace,London,England  28 MAR 1884   \n",
            "10  14 APR 1857     Buckingham,Palace,London,England  26 OCT 1944   \n",
            "11   1 DEC 1844     Yellow Palace,Copenhagen,Denmark  20 NOV 1925   \n",
            "\n",
            "                                 death_place  \n",
            "0        Osborne House,Isle of Wight,England  \n",
            "1           Windsor Castle,Berkshire,England  \n",
            "2         Friedrichshof,Near,Kronberg,Taunus  \n",
            "3           Buckingham,Palace,London,England  \n",
            "4                        Darmstadt,,,Germany  \n",
            "5                Schloss Rosenau,Near Coburg  \n",
            "6   Schomberg House,Pall Mall,London,England  \n",
            "7           Kensington,Palace,London,England  \n",
            "8                        Bagshot Park,Surrey  \n",
            "9                                     Cannes  \n",
            "10    Bantridge Park,Balcombe,Sussex,England  \n",
            "11              Sandringham,,Norfolk,England  \n"
          ]
        }
      ],
      "source": [
        "print(df.head())\n",
        "print(df.head(12))"
      ]
    },
    {
      "cell_type": "markdown",
      "id": "7bb24c84-99be-4ca5-8157-8474886bbd8c",
      "metadata": {
        "id": "7bb24c84-99be-4ca5-8157-8474886bbd8c"
      },
      "source": [
        "And similarly the \"tail\" function returns the last $n$ values:"
      ]
    },
    {
      "cell_type": "code",
      "execution_count": 5,
      "id": "9f91fcc5-8337-44dd-8e00-6ce4db819a4e",
      "metadata": {
        "id": "9f91fcc5-8337-44dd-8e00-6ce4db819a4e",
        "outputId": "bf2c83de-b0d3-4256-94f4-51652485e109"
      },
      "outputs": [
        {
          "name": "stdout",
          "output_type": "stream",
          "text": [
            "        ID             first_name last_name sex  title  birth_date  \\\n",
            "2994  2995       Bertram (Bertie)  Cartland   M  Major         NaN   \n",
            "2995  2996  Mary Hamilton (Polly)   Scobell   F    NaN  5 SEP 1877   \n",
            "2996  2997                 Ronald  Cartland   M    NaN  3 JAN 1907   \n",
            "2997  2998         Anthony (Tony)  Cartland   M    NaN  4 JAN 1912   \n",
            "2998  2999                  Edith  Palairet   F    NaN         NaN   \n",
            "2999  3000              Mary Anne  Hamilton   F    NaN         NaN   \n",
            "3000  3001                 Andrew  Hamilton   M    NaN         NaN   \n",
            "3001  3002                 George   Scobell   M    NaN         NaN   \n",
            "3002  3003               Melloney   Scobell   F    NaN         NaN   \n",
            "3003  3004                    NaN   Scobell   M    NaN         NaN   \n",
            "3004  3005                  Emily   Scobell   F    NaN         NaN   \n",
            "3005  3006           John Sanford   Scobell   M    Sir        1879   \n",
            "3006  3007                  James  Cartland   M    NaN         NaN   \n",
            "3007  3008                  Flora       NaN   F    NaN         NaN   \n",
            "3008  3009                    NaN  Cartland   F    NaN         NaN   \n",
            "\n",
            "         birth_place   death_date       death_place  \n",
            "2994             NaN  27 MAY 1917               NaN  \n",
            "2995             NaN          NaN               NaN  \n",
            "2996             NaN  30 MAY 1940  Nr Cassel,France  \n",
            "2997             NaN  29 MAY 1940               NaN  \n",
            "2998             NaN          NaN               NaN  \n",
            "2999             NaN          NaN               NaN  \n",
            "3000             NaN          NaN               NaN  \n",
            "3001             NaN          NaN               NaN  \n",
            "3002             NaN          NaN               NaN  \n",
            "3003  Florence,Italy  BEF    1877               NaN  \n",
            "3004             NaN          NaN               NaN  \n",
            "3005             NaN          NaN               NaN  \n",
            "3006             NaN          NaN               NaN  \n",
            "3007             NaN          NaN               NaN  \n",
            "3008             NaN  ABT    1911               NaN  \n"
          ]
        }
      ],
      "source": [
        "print(df.tail(15))"
      ]
    },
    {
      "cell_type": "markdown",
      "id": "273a2b8f-b570-4f61-930d-0263965e1672",
      "metadata": {
        "id": "273a2b8f-b570-4f61-930d-0263965e1672"
      },
      "source": [
        "You may have noticed in the printed dataframe an additional column of numbers located to the far left of the data. For instance, if we just call df.head() with the default option (which is 5), we get:"
      ]
    },
    {
      "cell_type": "code",
      "execution_count": 6,
      "id": "3a0a8352-6670-4ebe-ad85-5536b69abf5b",
      "metadata": {
        "id": "3a0a8352-6670-4ebe-ad85-5536b69abf5b",
        "outputId": "741edd09-d095-4a0b-e831-d4604ace9274"
      },
      "outputs": [
        {
          "data": {
            "text/html": [
              "<div>\n",
              "<style scoped>\n",
              "    .dataframe tbody tr th:only-of-type {\n",
              "        vertical-align: middle;\n",
              "    }\n",
              "\n",
              "    .dataframe tbody tr th {\n",
              "        vertical-align: top;\n",
              "    }\n",
              "\n",
              "    .dataframe thead th {\n",
              "        text-align: right;\n",
              "    }\n",
              "</style>\n",
              "<table border=\"1\" class=\"dataframe\">\n",
              "  <thead>\n",
              "    <tr style=\"text-align: right;\">\n",
              "      <th></th>\n",
              "      <th>ID</th>\n",
              "      <th>first_name</th>\n",
              "      <th>last_name</th>\n",
              "      <th>sex</th>\n",
              "      <th>title</th>\n",
              "      <th>birth_date</th>\n",
              "      <th>birth_place</th>\n",
              "      <th>death_date</th>\n",
              "      <th>death_place</th>\n",
              "    </tr>\n",
              "  </thead>\n",
              "  <tbody>\n",
              "    <tr>\n",
              "      <th>0</th>\n",
              "      <td>1</td>\n",
              "      <td>Victoria</td>\n",
              "      <td>Hanover</td>\n",
              "      <td>F</td>\n",
              "      <td>Queen of England</td>\n",
              "      <td>24 MAY 1819</td>\n",
              "      <td>Kensington,Palace,London,England</td>\n",
              "      <td>22 JAN 1901</td>\n",
              "      <td>Osborne House,Isle of Wight,England</td>\n",
              "    </tr>\n",
              "    <tr>\n",
              "      <th>1</th>\n",
              "      <td>2</td>\n",
              "      <td>Albert Augustus Charles</td>\n",
              "      <td>NaN</td>\n",
              "      <td>M</td>\n",
              "      <td>Prince</td>\n",
              "      <td>26 AUG 1819</td>\n",
              "      <td>Schloss Rosenau,Near Coburg,Germany</td>\n",
              "      <td>14 DEC 1861</td>\n",
              "      <td>Windsor Castle,Berkshire,England</td>\n",
              "    </tr>\n",
              "    <tr>\n",
              "      <th>2</th>\n",
              "      <td>3</td>\n",
              "      <td>Victoria Adelaide Mary</td>\n",
              "      <td>NaN</td>\n",
              "      <td>F</td>\n",
              "      <td>Princess Royal</td>\n",
              "      <td>21 NOV 1840</td>\n",
              "      <td>Buckingham,Palace,London,England</td>\n",
              "      <td>5 AUG 1901</td>\n",
              "      <td>Friedrichshof,Near,Kronberg,Taunus</td>\n",
              "    </tr>\n",
              "    <tr>\n",
              "      <th>3</th>\n",
              "      <td>4</td>\n",
              "      <td>Edward_VII</td>\n",
              "      <td>Wettin</td>\n",
              "      <td>M</td>\n",
              "      <td>King of England</td>\n",
              "      <td>9 NOV 1841</td>\n",
              "      <td>Buckingham,Palace,London,England</td>\n",
              "      <td>6 MAY 1910</td>\n",
              "      <td>Buckingham,Palace,London,England</td>\n",
              "    </tr>\n",
              "    <tr>\n",
              "      <th>4</th>\n",
              "      <td>5</td>\n",
              "      <td>Alice Maud Mary</td>\n",
              "      <td>NaN</td>\n",
              "      <td>F</td>\n",
              "      <td>Princess</td>\n",
              "      <td>25 APR 1843</td>\n",
              "      <td>Buckingham,Palace,London,England</td>\n",
              "      <td>14 DEC 1878</td>\n",
              "      <td>Darmstadt,,,Germany</td>\n",
              "    </tr>\n",
              "  </tbody>\n",
              "</table>\n",
              "</div>"
            ],
            "text/plain": [
              "   ID               first_name last_name sex             title   birth_date  \\\n",
              "0   1                 Victoria   Hanover   F  Queen of England  24 MAY 1819   \n",
              "1   2  Albert Augustus Charles       NaN   M            Prince  26 AUG 1819   \n",
              "2   3   Victoria Adelaide Mary       NaN   F    Princess Royal  21 NOV 1840   \n",
              "3   4               Edward_VII    Wettin   M   King of England   9 NOV 1841   \n",
              "4   5          Alice Maud Mary       NaN   F          Princess  25 APR 1843   \n",
              "\n",
              "                           birth_place   death_date  \\\n",
              "0     Kensington,Palace,London,England  22 JAN 1901   \n",
              "1  Schloss Rosenau,Near Coburg,Germany  14 DEC 1861   \n",
              "2     Buckingham,Palace,London,England   5 AUG 1901   \n",
              "3     Buckingham,Palace,London,England   6 MAY 1910   \n",
              "4     Buckingham,Palace,London,England  14 DEC 1878   \n",
              "\n",
              "                           death_place  \n",
              "0  Osborne House,Isle of Wight,England  \n",
              "1     Windsor Castle,Berkshire,England  \n",
              "2   Friedrichshof,Near,Kronberg,Taunus  \n",
              "3     Buckingham,Palace,London,England  \n",
              "4                  Darmstadt,,,Germany  "
            ]
          },
          "execution_count": 6,
          "metadata": {},
          "output_type": "execute_result"
        }
      ],
      "source": [
        "df.head()"
      ]
    },
    {
      "cell_type": "markdown",
      "id": "ff14535b-8db7-4c1d-abf2-380701c522ad",
      "metadata": {
        "id": "ff14535b-8db7-4c1d-abf2-380701c522ad"
      },
      "source": [
        "That first column is an index column created by Pandas for the dataframe. It starts at $0$ and enumerates from there. Note this column is *not* in our original csv, it's created.\n",
        "\n",
        "In this example, our original csv already has an index column, called ID, that starts at 1, so this additional data column is a bit redundant. We can specify an index column when we read in the data using the \"index_col\" parameter in read_csv."
      ]
    },
    {
      "cell_type": "code",
      "execution_count": 8,
      "id": "82ee6711-e489-48e2-b700-bc7a9793c25e",
      "metadata": {
        "id": "82ee6711-e489-48e2-b700-bc7a9793c25e"
      },
      "outputs": [],
      "source": [
        "df = pd.read_csv('Datasets/royal_line.csv', index_col='ID')"
      ]
    },
    {
      "cell_type": "markdown",
      "id": "9f0a2622-a410-4209-bba4-cb49be58f5ea",
      "metadata": {
        "id": "9f0a2622-a410-4209-bba4-cb49be58f5ea"
      },
      "source": [
        "Now, the index column is the \"ID\" column from the original dataset."
      ]
    },
    {
      "cell_type": "code",
      "execution_count": 9,
      "id": "3885c260-c613-4cef-8db0-bf622d854868",
      "metadata": {
        "id": "3885c260-c613-4cef-8db0-bf622d854868",
        "outputId": "936c0b5e-d6f5-4d1f-eae8-dcd9445deef4"
      },
      "outputs": [
        {
          "data": {
            "text/html": [
              "<div>\n",
              "<style scoped>\n",
              "    .dataframe tbody tr th:only-of-type {\n",
              "        vertical-align: middle;\n",
              "    }\n",
              "\n",
              "    .dataframe tbody tr th {\n",
              "        vertical-align: top;\n",
              "    }\n",
              "\n",
              "    .dataframe thead th {\n",
              "        text-align: right;\n",
              "    }\n",
              "</style>\n",
              "<table border=\"1\" class=\"dataframe\">\n",
              "  <thead>\n",
              "    <tr style=\"text-align: right;\">\n",
              "      <th></th>\n",
              "      <th>first_name</th>\n",
              "      <th>last_name</th>\n",
              "      <th>sex</th>\n",
              "      <th>title</th>\n",
              "      <th>birth_date</th>\n",
              "      <th>birth_place</th>\n",
              "      <th>death_date</th>\n",
              "      <th>death_place</th>\n",
              "    </tr>\n",
              "    <tr>\n",
              "      <th>ID</th>\n",
              "      <th></th>\n",
              "      <th></th>\n",
              "      <th></th>\n",
              "      <th></th>\n",
              "      <th></th>\n",
              "      <th></th>\n",
              "      <th></th>\n",
              "      <th></th>\n",
              "    </tr>\n",
              "  </thead>\n",
              "  <tbody>\n",
              "    <tr>\n",
              "      <th>1</th>\n",
              "      <td>Victoria</td>\n",
              "      <td>Hanover</td>\n",
              "      <td>F</td>\n",
              "      <td>Queen of England</td>\n",
              "      <td>24 MAY 1819</td>\n",
              "      <td>Kensington,Palace,London,England</td>\n",
              "      <td>22 JAN 1901</td>\n",
              "      <td>Osborne House,Isle of Wight,England</td>\n",
              "    </tr>\n",
              "    <tr>\n",
              "      <th>2</th>\n",
              "      <td>Albert Augustus Charles</td>\n",
              "      <td>NaN</td>\n",
              "      <td>M</td>\n",
              "      <td>Prince</td>\n",
              "      <td>26 AUG 1819</td>\n",
              "      <td>Schloss Rosenau,Near Coburg,Germany</td>\n",
              "      <td>14 DEC 1861</td>\n",
              "      <td>Windsor Castle,Berkshire,England</td>\n",
              "    </tr>\n",
              "    <tr>\n",
              "      <th>3</th>\n",
              "      <td>Victoria Adelaide Mary</td>\n",
              "      <td>NaN</td>\n",
              "      <td>F</td>\n",
              "      <td>Princess Royal</td>\n",
              "      <td>21 NOV 1840</td>\n",
              "      <td>Buckingham,Palace,London,England</td>\n",
              "      <td>5 AUG 1901</td>\n",
              "      <td>Friedrichshof,Near,Kronberg,Taunus</td>\n",
              "    </tr>\n",
              "    <tr>\n",
              "      <th>4</th>\n",
              "      <td>Edward_VII</td>\n",
              "      <td>Wettin</td>\n",
              "      <td>M</td>\n",
              "      <td>King of England</td>\n",
              "      <td>9 NOV 1841</td>\n",
              "      <td>Buckingham,Palace,London,England</td>\n",
              "      <td>6 MAY 1910</td>\n",
              "      <td>Buckingham,Palace,London,England</td>\n",
              "    </tr>\n",
              "    <tr>\n",
              "      <th>5</th>\n",
              "      <td>Alice Maud Mary</td>\n",
              "      <td>NaN</td>\n",
              "      <td>F</td>\n",
              "      <td>Princess</td>\n",
              "      <td>25 APR 1843</td>\n",
              "      <td>Buckingham,Palace,London,England</td>\n",
              "      <td>14 DEC 1878</td>\n",
              "      <td>Darmstadt,,,Germany</td>\n",
              "    </tr>\n",
              "  </tbody>\n",
              "</table>\n",
              "</div>"
            ],
            "text/plain": [
              "                 first_name last_name sex             title   birth_date  \\\n",
              "ID                                                                         \n",
              "1                  Victoria   Hanover   F  Queen of England  24 MAY 1819   \n",
              "2   Albert Augustus Charles       NaN   M            Prince  26 AUG 1819   \n",
              "3    Victoria Adelaide Mary       NaN   F    Princess Royal  21 NOV 1840   \n",
              "4                Edward_VII    Wettin   M   King of England   9 NOV 1841   \n",
              "5           Alice Maud Mary       NaN   F          Princess  25 APR 1843   \n",
              "\n",
              "                            birth_place   death_date  \\\n",
              "ID                                                     \n",
              "1      Kensington,Palace,London,England  22 JAN 1901   \n",
              "2   Schloss Rosenau,Near Coburg,Germany  14 DEC 1861   \n",
              "3      Buckingham,Palace,London,England   5 AUG 1901   \n",
              "4      Buckingham,Palace,London,England   6 MAY 1910   \n",
              "5      Buckingham,Palace,London,England  14 DEC 1878   \n",
              "\n",
              "                            death_place  \n",
              "ID                                       \n",
              "1   Osborne House,Isle of Wight,England  \n",
              "2      Windsor Castle,Berkshire,England  \n",
              "3    Friedrichshof,Near,Kronberg,Taunus  \n",
              "4      Buckingham,Palace,London,England  \n",
              "5                   Darmstadt,,,Germany  "
            ]
          },
          "execution_count": 9,
          "metadata": {},
          "output_type": "execute_result"
        }
      ],
      "source": [
        "df.head()"
      ]
    },
    {
      "cell_type": "markdown",
      "id": "7ff3cb33-06f0-40ee-af16-6e2ff34eeeba",
      "metadata": {
        "id": "7ff3cb33-06f0-40ee-af16-6e2ff34eeeba"
      },
      "source": [
        "If we only wanted to see the \"title\" column, we could restrict our investigation to that as follows:"
      ]
    },
    {
      "cell_type": "code",
      "execution_count": 10,
      "id": "050dff20-40c8-4317-9043-fd6ba84678d7",
      "metadata": {
        "id": "050dff20-40c8-4317-9043-fd6ba84678d7",
        "outputId": "3fe8e32c-1c90-4dcc-97d6-738303588b22"
      },
      "outputs": [
        {
          "data": {
            "text/plain": [
              "ID\n",
              "1    Queen of England\n",
              "2              Prince\n",
              "3      Princess Royal\n",
              "4     King of England\n",
              "5            Princess\n",
              "Name: title, dtype: object"
            ]
          },
          "execution_count": 10,
          "metadata": {},
          "output_type": "execute_result"
        }
      ],
      "source": [
        "df['title'].head()"
      ]
    },
    {
      "cell_type": "markdown",
      "id": "e730a088-78be-414b-af2a-5cbc266ba35b",
      "metadata": {
        "id": "e730a088-78be-414b-af2a-5cbc266ba35b"
      },
      "source": [
        "We can specify more than one column as follows. Note the *double brackets*. Think of this as the outer brackets accessing the dataframe, while the inner brackets specify a list."
      ]
    },
    {
      "cell_type": "code",
      "execution_count": 11,
      "id": "75790c6e-3620-44e3-8c43-7e63a7a82f46",
      "metadata": {
        "id": "75790c6e-3620-44e3-8c43-7e63a7a82f46",
        "outputId": "5d2b3954-b7f5-4251-b179-d5ae0d79fbb1"
      },
      "outputs": [
        {
          "data": {
            "text/html": [
              "<div>\n",
              "<style scoped>\n",
              "    .dataframe tbody tr th:only-of-type {\n",
              "        vertical-align: middle;\n",
              "    }\n",
              "\n",
              "    .dataframe tbody tr th {\n",
              "        vertical-align: top;\n",
              "    }\n",
              "\n",
              "    .dataframe thead th {\n",
              "        text-align: right;\n",
              "    }\n",
              "</style>\n",
              "<table border=\"1\" class=\"dataframe\">\n",
              "  <thead>\n",
              "    <tr style=\"text-align: right;\">\n",
              "      <th></th>\n",
              "      <th>title</th>\n",
              "      <th>first_name</th>\n",
              "    </tr>\n",
              "    <tr>\n",
              "      <th>ID</th>\n",
              "      <th></th>\n",
              "      <th></th>\n",
              "    </tr>\n",
              "  </thead>\n",
              "  <tbody>\n",
              "    <tr>\n",
              "      <th>3005</th>\n",
              "      <td>NaN</td>\n",
              "      <td>Emily</td>\n",
              "    </tr>\n",
              "    <tr>\n",
              "      <th>3006</th>\n",
              "      <td>Sir</td>\n",
              "      <td>John Sanford</td>\n",
              "    </tr>\n",
              "    <tr>\n",
              "      <th>3007</th>\n",
              "      <td>NaN</td>\n",
              "      <td>James</td>\n",
              "    </tr>\n",
              "    <tr>\n",
              "      <th>3008</th>\n",
              "      <td>NaN</td>\n",
              "      <td>Flora</td>\n",
              "    </tr>\n",
              "    <tr>\n",
              "      <th>3009</th>\n",
              "      <td>NaN</td>\n",
              "      <td>NaN</td>\n",
              "    </tr>\n",
              "  </tbody>\n",
              "</table>\n",
              "</div>"
            ],
            "text/plain": [
              "     title    first_name\n",
              "ID                      \n",
              "3005   NaN         Emily\n",
              "3006   Sir  John Sanford\n",
              "3007   NaN         James\n",
              "3008   NaN         Flora\n",
              "3009   NaN           NaN"
            ]
          },
          "execution_count": 11,
          "metadata": {},
          "output_type": "execute_result"
        }
      ],
      "source": [
        "df[['title', 'first_name']].tail()"
      ]
    },
    {
      "cell_type": "code",
      "execution_count": 12,
      "id": "ae2c04ae-80b7-42cc-9745-9c4aca791d15",
      "metadata": {
        "id": "ae2c04ae-80b7-42cc-9745-9c4aca791d15",
        "outputId": "91fadbd8-17a5-4d1d-cad6-1de80f42ee88"
      },
      "outputs": [
        {
          "data": {
            "text/plain": [
              "Index(['first_name', 'last_name', 'sex', 'title', 'birth_date', 'birth_place',\n",
              "       'death_date', 'death_place'],\n",
              "      dtype='object')"
            ]
          },
          "execution_count": 12,
          "metadata": {},
          "output_type": "execute_result"
        }
      ],
      "source": [
        "df.columns"
      ]
    },
    {
      "cell_type": "markdown",
      "id": "de4b6432-1c34-483e-91eb-8d93e8bad22d",
      "metadata": {
        "id": "de4b6432-1c34-483e-91eb-8d93e8bad22d"
      },
      "source": [
        "Note this returns an index objects that behaves as an iterable list, so you could, for example, go through the colums with a for loop.\n",
        "\n",
        "You can also find out more information about a dataframe using the \"info\" function:"
      ]
    },
    {
      "cell_type": "code",
      "execution_count": 13,
      "id": "d1feccfe-818e-4173-a22c-d8092847f337",
      "metadata": {
        "id": "d1feccfe-818e-4173-a22c-d8092847f337",
        "outputId": "a57c40e7-0686-420f-c718-dc7bf4814844"
      },
      "outputs": [
        {
          "name": "stdout",
          "output_type": "stream",
          "text": [
            "<class 'pandas.core.frame.DataFrame'>\n",
            "Int64Index: 3009 entries, 1 to 3009\n",
            "Data columns (total 8 columns):\n",
            " #   Column       Non-Null Count  Dtype \n",
            "---  ------       --------------  ----- \n",
            " 0   first_name   2984 non-null   object\n",
            " 1   last_name    1142 non-null   object\n",
            " 2   sex          2996 non-null   object\n",
            " 3   title        1398 non-null   object\n",
            " 4   birth_date   1734 non-null   object\n",
            " 5   birth_place  486 non-null    object\n",
            " 6   death_date   1692 non-null   object\n",
            " 7   death_place  449 non-null    object\n",
            "dtypes: object(8)\n",
            "memory usage: 211.6+ KB\n"
          ]
        }
      ],
      "source": [
        "df.info()"
      ]
    },
    {
      "cell_type": "markdown",
      "id": "75fca811-b1f7-4292-8e32-d7c49210dbb4",
      "metadata": {
        "id": "75fca811-b1f7-4292-8e32-d7c49210dbb4"
      },
      "source": [
        "### Dropping or Removing Data"
      ]
    },
    {
      "cell_type": "markdown",
      "id": "95012357-e987-480b-bd9c-05ba496f2f49",
      "metadata": {
        "id": "95012357-e987-480b-bd9c-05ba496f2f49"
      },
      "source": [
        "There are many reasons why you might want to drop or remove data. For example, it could be that only some data is relevant to your analysis. Or, it could be that some data is insufficient or corrupt, and leaving it in would lead to incorrect conclusions. Also, sometimes certain columns aren't of interest to the analysis in question.\n",
        "\n",
        "If we want do drop entire columns, we can use the \"drop\" function:"
      ]
    },
    {
      "cell_type": "code",
      "execution_count": null,
      "id": "c889c77e-8d6b-498c-81d9-bcf4afc6a645",
      "metadata": {
        "id": "c889c77e-8d6b-498c-81d9-bcf4afc6a645",
        "outputId": "96b18050-aaa3-4c7d-89d4-1ca7afc5674d"
      },
      "outputs": [
        {
          "data": {
            "text/html": [
              "<div>\n",
              "<style scoped>\n",
              "    .dataframe tbody tr th:only-of-type {\n",
              "        vertical-align: middle;\n",
              "    }\n",
              "\n",
              "    .dataframe tbody tr th {\n",
              "        vertical-align: top;\n",
              "    }\n",
              "\n",
              "    .dataframe thead th {\n",
              "        text-align: right;\n",
              "    }\n",
              "</style>\n",
              "<table border=\"1\" class=\"dataframe\">\n",
              "  <thead>\n",
              "    <tr style=\"text-align: right;\">\n",
              "      <th></th>\n",
              "      <th>first_name</th>\n",
              "      <th>last_name</th>\n",
              "      <th>sex</th>\n",
              "      <th>title</th>\n",
              "      <th>birth_date</th>\n",
              "      <th>death_date</th>\n",
              "    </tr>\n",
              "    <tr>\n",
              "      <th>ID</th>\n",
              "      <th></th>\n",
              "      <th></th>\n",
              "      <th></th>\n",
              "      <th></th>\n",
              "      <th></th>\n",
              "      <th></th>\n",
              "    </tr>\n",
              "  </thead>\n",
              "  <tbody>\n",
              "    <tr>\n",
              "      <th>1</th>\n",
              "      <td>Victoria</td>\n",
              "      <td>Hanover</td>\n",
              "      <td>F</td>\n",
              "      <td>Queen of England</td>\n",
              "      <td>24 MAY 1819</td>\n",
              "      <td>22 JAN 1901</td>\n",
              "    </tr>\n",
              "    <tr>\n",
              "      <th>2</th>\n",
              "      <td>Albert Augustus Charles</td>\n",
              "      <td>NaN</td>\n",
              "      <td>M</td>\n",
              "      <td>Prince</td>\n",
              "      <td>26 AUG 1819</td>\n",
              "      <td>14 DEC 1861</td>\n",
              "    </tr>\n",
              "    <tr>\n",
              "      <th>3</th>\n",
              "      <td>Victoria Adelaide Mary</td>\n",
              "      <td>NaN</td>\n",
              "      <td>F</td>\n",
              "      <td>Princess Royal</td>\n",
              "      <td>21 NOV 1840</td>\n",
              "      <td>5 AUG 1901</td>\n",
              "    </tr>\n",
              "    <tr>\n",
              "      <th>4</th>\n",
              "      <td>Edward_VII</td>\n",
              "      <td>Wettin</td>\n",
              "      <td>M</td>\n",
              "      <td>King of England</td>\n",
              "      <td>9 NOV 1841</td>\n",
              "      <td>6 MAY 1910</td>\n",
              "    </tr>\n",
              "    <tr>\n",
              "      <th>5</th>\n",
              "      <td>Alice Maud Mary</td>\n",
              "      <td>NaN</td>\n",
              "      <td>F</td>\n",
              "      <td>Princess</td>\n",
              "      <td>25 APR 1843</td>\n",
              "      <td>14 DEC 1878</td>\n",
              "    </tr>\n",
              "    <tr>\n",
              "      <th>...</th>\n",
              "      <td>...</td>\n",
              "      <td>...</td>\n",
              "      <td>...</td>\n",
              "      <td>...</td>\n",
              "      <td>...</td>\n",
              "      <td>...</td>\n",
              "    </tr>\n",
              "    <tr>\n",
              "      <th>3005</th>\n",
              "      <td>Emily</td>\n",
              "      <td>Scobell</td>\n",
              "      <td>F</td>\n",
              "      <td>NaN</td>\n",
              "      <td>NaN</td>\n",
              "      <td>NaN</td>\n",
              "    </tr>\n",
              "    <tr>\n",
              "      <th>3006</th>\n",
              "      <td>John Sanford</td>\n",
              "      <td>Scobell</td>\n",
              "      <td>M</td>\n",
              "      <td>Sir</td>\n",
              "      <td>1879</td>\n",
              "      <td>NaN</td>\n",
              "    </tr>\n",
              "    <tr>\n",
              "      <th>3007</th>\n",
              "      <td>James</td>\n",
              "      <td>Cartland</td>\n",
              "      <td>M</td>\n",
              "      <td>NaN</td>\n",
              "      <td>NaN</td>\n",
              "      <td>NaN</td>\n",
              "    </tr>\n",
              "    <tr>\n",
              "      <th>3008</th>\n",
              "      <td>Flora</td>\n",
              "      <td>NaN</td>\n",
              "      <td>F</td>\n",
              "      <td>NaN</td>\n",
              "      <td>NaN</td>\n",
              "      <td>NaN</td>\n",
              "    </tr>\n",
              "    <tr>\n",
              "      <th>3009</th>\n",
              "      <td>NaN</td>\n",
              "      <td>Cartland</td>\n",
              "      <td>F</td>\n",
              "      <td>NaN</td>\n",
              "      <td>NaN</td>\n",
              "      <td>ABT    1911</td>\n",
              "    </tr>\n",
              "  </tbody>\n",
              "</table>\n",
              "<p>3009 rows × 6 columns</p>\n",
              "</div>"
            ],
            "text/plain": [
              "                   first_name last_name sex             title   birth_date  \\\n",
              "ID                                                                           \n",
              "1                    Victoria   Hanover   F  Queen of England  24 MAY 1819   \n",
              "2     Albert Augustus Charles       NaN   M            Prince  26 AUG 1819   \n",
              "3      Victoria Adelaide Mary       NaN   F    Princess Royal  21 NOV 1840   \n",
              "4                  Edward_VII    Wettin   M   King of England   9 NOV 1841   \n",
              "5             Alice Maud Mary       NaN   F          Princess  25 APR 1843   \n",
              "...                       ...       ...  ..               ...          ...   \n",
              "3005                    Emily   Scobell   F               NaN          NaN   \n",
              "3006             John Sanford   Scobell   M               Sir         1879   \n",
              "3007                    James  Cartland   M               NaN          NaN   \n",
              "3008                    Flora       NaN   F               NaN          NaN   \n",
              "3009                      NaN  Cartland   F               NaN          NaN   \n",
              "\n",
              "       death_date  \n",
              "ID                 \n",
              "1     22 JAN 1901  \n",
              "2     14 DEC 1861  \n",
              "3      5 AUG 1901  \n",
              "4      6 MAY 1910  \n",
              "5     14 DEC 1878  \n",
              "...           ...  \n",
              "3005          NaN  \n",
              "3006          NaN  \n",
              "3007          NaN  \n",
              "3008          NaN  \n",
              "3009  ABT    1911  \n",
              "\n",
              "[3009 rows x 6 columns]"
            ]
          },
          "execution_count": 29,
          "metadata": {},
          "output_type": "execute_result"
        }
      ],
      "source": [
        "df.drop(columns = ['birth_place', 'death_place'])"
      ]
    },
    {
      "cell_type": "markdown",
      "id": "26609b10-405b-4a64-a22b-d81485ea2945",
      "metadata": {
        "id": "26609b10-405b-4a64-a22b-d81485ea2945"
      },
      "source": [
        "However, while the dataframe above only has six columns, if we call it again we get:"
      ]
    },
    {
      "cell_type": "code",
      "execution_count": null,
      "id": "a0427866-039b-4527-a97d-467b26455230",
      "metadata": {
        "id": "a0427866-039b-4527-a97d-467b26455230",
        "outputId": "9dfd4496-3874-42b7-d917-7906314aa4df"
      },
      "outputs": [
        {
          "data": {
            "text/html": [
              "<div>\n",
              "<style scoped>\n",
              "    .dataframe tbody tr th:only-of-type {\n",
              "        vertical-align: middle;\n",
              "    }\n",
              "\n",
              "    .dataframe tbody tr th {\n",
              "        vertical-align: top;\n",
              "    }\n",
              "\n",
              "    .dataframe thead th {\n",
              "        text-align: right;\n",
              "    }\n",
              "</style>\n",
              "<table border=\"1\" class=\"dataframe\">\n",
              "  <thead>\n",
              "    <tr style=\"text-align: right;\">\n",
              "      <th></th>\n",
              "      <th>first_name</th>\n",
              "      <th>last_name</th>\n",
              "      <th>sex</th>\n",
              "      <th>title</th>\n",
              "      <th>birth_date</th>\n",
              "      <th>birth_place</th>\n",
              "      <th>death_date</th>\n",
              "      <th>death_place</th>\n",
              "    </tr>\n",
              "    <tr>\n",
              "      <th>ID</th>\n",
              "      <th></th>\n",
              "      <th></th>\n",
              "      <th></th>\n",
              "      <th></th>\n",
              "      <th></th>\n",
              "      <th></th>\n",
              "      <th></th>\n",
              "      <th></th>\n",
              "    </tr>\n",
              "  </thead>\n",
              "  <tbody>\n",
              "    <tr>\n",
              "      <th>1</th>\n",
              "      <td>Victoria</td>\n",
              "      <td>Hanover</td>\n",
              "      <td>F</td>\n",
              "      <td>Queen of England</td>\n",
              "      <td>24 MAY 1819</td>\n",
              "      <td>Kensington,Palace,London,England</td>\n",
              "      <td>22 JAN 1901</td>\n",
              "      <td>Osborne House,Isle of Wight,England</td>\n",
              "    </tr>\n",
              "    <tr>\n",
              "      <th>2</th>\n",
              "      <td>Albert Augustus Charles</td>\n",
              "      <td>NaN</td>\n",
              "      <td>M</td>\n",
              "      <td>Prince</td>\n",
              "      <td>26 AUG 1819</td>\n",
              "      <td>Schloss Rosenau,Near Coburg,Germany</td>\n",
              "      <td>14 DEC 1861</td>\n",
              "      <td>Windsor Castle,Berkshire,England</td>\n",
              "    </tr>\n",
              "    <tr>\n",
              "      <th>3</th>\n",
              "      <td>Victoria Adelaide Mary</td>\n",
              "      <td>NaN</td>\n",
              "      <td>F</td>\n",
              "      <td>Princess Royal</td>\n",
              "      <td>21 NOV 1840</td>\n",
              "      <td>Buckingham,Palace,London,England</td>\n",
              "      <td>5 AUG 1901</td>\n",
              "      <td>Friedrichshof,Near,Kronberg,Taunus</td>\n",
              "    </tr>\n",
              "    <tr>\n",
              "      <th>4</th>\n",
              "      <td>Edward_VII</td>\n",
              "      <td>Wettin</td>\n",
              "      <td>M</td>\n",
              "      <td>King of England</td>\n",
              "      <td>9 NOV 1841</td>\n",
              "      <td>Buckingham,Palace,London,England</td>\n",
              "      <td>6 MAY 1910</td>\n",
              "      <td>Buckingham,Palace,London,England</td>\n",
              "    </tr>\n",
              "    <tr>\n",
              "      <th>5</th>\n",
              "      <td>Alice Maud Mary</td>\n",
              "      <td>NaN</td>\n",
              "      <td>F</td>\n",
              "      <td>Princess</td>\n",
              "      <td>25 APR 1843</td>\n",
              "      <td>Buckingham,Palace,London,England</td>\n",
              "      <td>14 DEC 1878</td>\n",
              "      <td>Darmstadt,,,Germany</td>\n",
              "    </tr>\n",
              "    <tr>\n",
              "      <th>...</th>\n",
              "      <td>...</td>\n",
              "      <td>...</td>\n",
              "      <td>...</td>\n",
              "      <td>...</td>\n",
              "      <td>...</td>\n",
              "      <td>...</td>\n",
              "      <td>...</td>\n",
              "      <td>...</td>\n",
              "    </tr>\n",
              "    <tr>\n",
              "      <th>3005</th>\n",
              "      <td>Emily</td>\n",
              "      <td>Scobell</td>\n",
              "      <td>F</td>\n",
              "      <td>NaN</td>\n",
              "      <td>NaN</td>\n",
              "      <td>NaN</td>\n",
              "      <td>NaN</td>\n",
              "      <td>NaN</td>\n",
              "    </tr>\n",
              "    <tr>\n",
              "      <th>3006</th>\n",
              "      <td>John Sanford</td>\n",
              "      <td>Scobell</td>\n",
              "      <td>M</td>\n",
              "      <td>Sir</td>\n",
              "      <td>1879</td>\n",
              "      <td>NaN</td>\n",
              "      <td>NaN</td>\n",
              "      <td>NaN</td>\n",
              "    </tr>\n",
              "    <tr>\n",
              "      <th>3007</th>\n",
              "      <td>James</td>\n",
              "      <td>Cartland</td>\n",
              "      <td>M</td>\n",
              "      <td>NaN</td>\n",
              "      <td>NaN</td>\n",
              "      <td>NaN</td>\n",
              "      <td>NaN</td>\n",
              "      <td>NaN</td>\n",
              "    </tr>\n",
              "    <tr>\n",
              "      <th>3008</th>\n",
              "      <td>Flora</td>\n",
              "      <td>NaN</td>\n",
              "      <td>F</td>\n",
              "      <td>NaN</td>\n",
              "      <td>NaN</td>\n",
              "      <td>NaN</td>\n",
              "      <td>NaN</td>\n",
              "      <td>NaN</td>\n",
              "    </tr>\n",
              "    <tr>\n",
              "      <th>3009</th>\n",
              "      <td>NaN</td>\n",
              "      <td>Cartland</td>\n",
              "      <td>F</td>\n",
              "      <td>NaN</td>\n",
              "      <td>NaN</td>\n",
              "      <td>NaN</td>\n",
              "      <td>ABT    1911</td>\n",
              "      <td>NaN</td>\n",
              "    </tr>\n",
              "  </tbody>\n",
              "</table>\n",
              "<p>3009 rows × 8 columns</p>\n",
              "</div>"
            ],
            "text/plain": [
              "                   first_name last_name sex             title   birth_date  \\\n",
              "ID                                                                           \n",
              "1                    Victoria   Hanover   F  Queen of England  24 MAY 1819   \n",
              "2     Albert Augustus Charles       NaN   M            Prince  26 AUG 1819   \n",
              "3      Victoria Adelaide Mary       NaN   F    Princess Royal  21 NOV 1840   \n",
              "4                  Edward_VII    Wettin   M   King of England   9 NOV 1841   \n",
              "5             Alice Maud Mary       NaN   F          Princess  25 APR 1843   \n",
              "...                       ...       ...  ..               ...          ...   \n",
              "3005                    Emily   Scobell   F               NaN          NaN   \n",
              "3006             John Sanford   Scobell   M               Sir         1879   \n",
              "3007                    James  Cartland   M               NaN          NaN   \n",
              "3008                    Flora       NaN   F               NaN          NaN   \n",
              "3009                      NaN  Cartland   F               NaN          NaN   \n",
              "\n",
              "                              birth_place   death_date  \\\n",
              "ID                                                       \n",
              "1        Kensington,Palace,London,England  22 JAN 1901   \n",
              "2     Schloss Rosenau,Near Coburg,Germany  14 DEC 1861   \n",
              "3        Buckingham,Palace,London,England   5 AUG 1901   \n",
              "4        Buckingham,Palace,London,England   6 MAY 1910   \n",
              "5        Buckingham,Palace,London,England  14 DEC 1878   \n",
              "...                                   ...          ...   \n",
              "3005                                  NaN          NaN   \n",
              "3006                                  NaN          NaN   \n",
              "3007                                  NaN          NaN   \n",
              "3008                                  NaN          NaN   \n",
              "3009                                  NaN  ABT    1911   \n",
              "\n",
              "                              death_place  \n",
              "ID                                         \n",
              "1     Osborne House,Isle of Wight,England  \n",
              "2        Windsor Castle,Berkshire,England  \n",
              "3      Friedrichshof,Near,Kronberg,Taunus  \n",
              "4        Buckingham,Palace,London,England  \n",
              "5                     Darmstadt,,,Germany  \n",
              "...                                   ...  \n",
              "3005                                  NaN  \n",
              "3006                                  NaN  \n",
              "3007                                  NaN  \n",
              "3008                                  NaN  \n",
              "3009                                  NaN  \n",
              "\n",
              "[3009 rows x 8 columns]"
            ]
          },
          "execution_count": 31,
          "metadata": {},
          "output_type": "execute_result"
        }
      ],
      "source": [
        "df"
      ]
    },
    {
      "cell_type": "markdown",
      "id": "120c0217-59de-422b-a0bd-e302e1a18290",
      "metadata": {
        "id": "120c0217-59de-422b-a0bd-e302e1a18290"
      },
      "source": [
        "What?!? I thought we dropped two!\n",
        "\n",
        "What's going on here is that the drop command creates a new dataframe as its output. It *does not* modify the original dataframe. So, for example, we could say:"
      ]
    },
    {
      "cell_type": "code",
      "execution_count": null,
      "id": "52a96faf-0653-47df-8731-925e03e5bad0",
      "metadata": {
        "id": "52a96faf-0653-47df-8731-925e03e5bad0",
        "outputId": "ccad2ee1-1b38-40a4-cd48-bd7560fea563"
      },
      "outputs": [
        {
          "data": {
            "text/html": [
              "<div>\n",
              "<style scoped>\n",
              "    .dataframe tbody tr th:only-of-type {\n",
              "        vertical-align: middle;\n",
              "    }\n",
              "\n",
              "    .dataframe tbody tr th {\n",
              "        vertical-align: top;\n",
              "    }\n",
              "\n",
              "    .dataframe thead th {\n",
              "        text-align: right;\n",
              "    }\n",
              "</style>\n",
              "<table border=\"1\" class=\"dataframe\">\n",
              "  <thead>\n",
              "    <tr style=\"text-align: right;\">\n",
              "      <th></th>\n",
              "      <th>first_name</th>\n",
              "      <th>last_name</th>\n",
              "      <th>sex</th>\n",
              "      <th>title</th>\n",
              "      <th>birth_date</th>\n",
              "      <th>death_date</th>\n",
              "    </tr>\n",
              "    <tr>\n",
              "      <th>ID</th>\n",
              "      <th></th>\n",
              "      <th></th>\n",
              "      <th></th>\n",
              "      <th></th>\n",
              "      <th></th>\n",
              "      <th></th>\n",
              "    </tr>\n",
              "  </thead>\n",
              "  <tbody>\n",
              "    <tr>\n",
              "      <th>1</th>\n",
              "      <td>Victoria</td>\n",
              "      <td>Hanover</td>\n",
              "      <td>F</td>\n",
              "      <td>Queen of England</td>\n",
              "      <td>24 MAY 1819</td>\n",
              "      <td>22 JAN 1901</td>\n",
              "    </tr>\n",
              "    <tr>\n",
              "      <th>2</th>\n",
              "      <td>Albert Augustus Charles</td>\n",
              "      <td>NaN</td>\n",
              "      <td>M</td>\n",
              "      <td>Prince</td>\n",
              "      <td>26 AUG 1819</td>\n",
              "      <td>14 DEC 1861</td>\n",
              "    </tr>\n",
              "    <tr>\n",
              "      <th>3</th>\n",
              "      <td>Victoria Adelaide Mary</td>\n",
              "      <td>NaN</td>\n",
              "      <td>F</td>\n",
              "      <td>Princess Royal</td>\n",
              "      <td>21 NOV 1840</td>\n",
              "      <td>5 AUG 1901</td>\n",
              "    </tr>\n",
              "    <tr>\n",
              "      <th>4</th>\n",
              "      <td>Edward_VII</td>\n",
              "      <td>Wettin</td>\n",
              "      <td>M</td>\n",
              "      <td>King of England</td>\n",
              "      <td>9 NOV 1841</td>\n",
              "      <td>6 MAY 1910</td>\n",
              "    </tr>\n",
              "    <tr>\n",
              "      <th>5</th>\n",
              "      <td>Alice Maud Mary</td>\n",
              "      <td>NaN</td>\n",
              "      <td>F</td>\n",
              "      <td>Princess</td>\n",
              "      <td>25 APR 1843</td>\n",
              "      <td>14 DEC 1878</td>\n",
              "    </tr>\n",
              "    <tr>\n",
              "      <th>...</th>\n",
              "      <td>...</td>\n",
              "      <td>...</td>\n",
              "      <td>...</td>\n",
              "      <td>...</td>\n",
              "      <td>...</td>\n",
              "      <td>...</td>\n",
              "    </tr>\n",
              "    <tr>\n",
              "      <th>3005</th>\n",
              "      <td>Emily</td>\n",
              "      <td>Scobell</td>\n",
              "      <td>F</td>\n",
              "      <td>NaN</td>\n",
              "      <td>NaN</td>\n",
              "      <td>NaN</td>\n",
              "    </tr>\n",
              "    <tr>\n",
              "      <th>3006</th>\n",
              "      <td>John Sanford</td>\n",
              "      <td>Scobell</td>\n",
              "      <td>M</td>\n",
              "      <td>Sir</td>\n",
              "      <td>1879</td>\n",
              "      <td>NaN</td>\n",
              "    </tr>\n",
              "    <tr>\n",
              "      <th>3007</th>\n",
              "      <td>James</td>\n",
              "      <td>Cartland</td>\n",
              "      <td>M</td>\n",
              "      <td>NaN</td>\n",
              "      <td>NaN</td>\n",
              "      <td>NaN</td>\n",
              "    </tr>\n",
              "    <tr>\n",
              "      <th>3008</th>\n",
              "      <td>Flora</td>\n",
              "      <td>NaN</td>\n",
              "      <td>F</td>\n",
              "      <td>NaN</td>\n",
              "      <td>NaN</td>\n",
              "      <td>NaN</td>\n",
              "    </tr>\n",
              "    <tr>\n",
              "      <th>3009</th>\n",
              "      <td>NaN</td>\n",
              "      <td>Cartland</td>\n",
              "      <td>F</td>\n",
              "      <td>NaN</td>\n",
              "      <td>NaN</td>\n",
              "      <td>ABT    1911</td>\n",
              "    </tr>\n",
              "  </tbody>\n",
              "</table>\n",
              "<p>3009 rows × 6 columns</p>\n",
              "</div>"
            ],
            "text/plain": [
              "                   first_name last_name sex             title   birth_date  \\\n",
              "ID                                                                           \n",
              "1                    Victoria   Hanover   F  Queen of England  24 MAY 1819   \n",
              "2     Albert Augustus Charles       NaN   M            Prince  26 AUG 1819   \n",
              "3      Victoria Adelaide Mary       NaN   F    Princess Royal  21 NOV 1840   \n",
              "4                  Edward_VII    Wettin   M   King of England   9 NOV 1841   \n",
              "5             Alice Maud Mary       NaN   F          Princess  25 APR 1843   \n",
              "...                       ...       ...  ..               ...          ...   \n",
              "3005                    Emily   Scobell   F               NaN          NaN   \n",
              "3006             John Sanford   Scobell   M               Sir         1879   \n",
              "3007                    James  Cartland   M               NaN          NaN   \n",
              "3008                    Flora       NaN   F               NaN          NaN   \n",
              "3009                      NaN  Cartland   F               NaN          NaN   \n",
              "\n",
              "       death_date  \n",
              "ID                 \n",
              "1     22 JAN 1901  \n",
              "2     14 DEC 1861  \n",
              "3      5 AUG 1901  \n",
              "4      6 MAY 1910  \n",
              "5     14 DEC 1878  \n",
              "...           ...  \n",
              "3005          NaN  \n",
              "3006          NaN  \n",
              "3007          NaN  \n",
              "3008          NaN  \n",
              "3009  ABT    1911  \n",
              "\n",
              "[3009 rows x 6 columns]"
            ]
          },
          "execution_count": 33,
          "metadata": {},
          "output_type": "execute_result"
        }
      ],
      "source": [
        "df2 = df.drop(columns = ['birth_place', 'death_place'])\n",
        "df2"
      ]
    },
    {
      "cell_type": "markdown",
      "id": "7fa429fd-7949-4936-9189-8851c7cf101d",
      "metadata": {
        "id": "7fa429fd-7949-4936-9189-8851c7cf101d"
      },
      "source": [
        "Here, df2 is the dataframe with those two columns dropped, while df is the original, unchanged dataframe.\n",
        "\n",
        "If we want to actually make the change to the original dataframe, we can do this with the \"inplace\" parameter."
      ]
    },
    {
      "cell_type": "code",
      "execution_count": null,
      "id": "63878a6b-6510-4670-a470-4698ded367b7",
      "metadata": {
        "id": "63878a6b-6510-4670-a470-4698ded367b7",
        "outputId": "d06a18d8-5b47-4d80-baff-d239ce13f9ad"
      },
      "outputs": [
        {
          "data": {
            "text/html": [
              "<div>\n",
              "<style scoped>\n",
              "    .dataframe tbody tr th:only-of-type {\n",
              "        vertical-align: middle;\n",
              "    }\n",
              "\n",
              "    .dataframe tbody tr th {\n",
              "        vertical-align: top;\n",
              "    }\n",
              "\n",
              "    .dataframe thead th {\n",
              "        text-align: right;\n",
              "    }\n",
              "</style>\n",
              "<table border=\"1\" class=\"dataframe\">\n",
              "  <thead>\n",
              "    <tr style=\"text-align: right;\">\n",
              "      <th></th>\n",
              "      <th>first_name</th>\n",
              "      <th>last_name</th>\n",
              "      <th>sex</th>\n",
              "      <th>title</th>\n",
              "      <th>birth_date</th>\n",
              "      <th>death_date</th>\n",
              "    </tr>\n",
              "    <tr>\n",
              "      <th>ID</th>\n",
              "      <th></th>\n",
              "      <th></th>\n",
              "      <th></th>\n",
              "      <th></th>\n",
              "      <th></th>\n",
              "      <th></th>\n",
              "    </tr>\n",
              "  </thead>\n",
              "  <tbody>\n",
              "    <tr>\n",
              "      <th>1</th>\n",
              "      <td>Victoria</td>\n",
              "      <td>Hanover</td>\n",
              "      <td>F</td>\n",
              "      <td>Queen of England</td>\n",
              "      <td>24 MAY 1819</td>\n",
              "      <td>22 JAN 1901</td>\n",
              "    </tr>\n",
              "    <tr>\n",
              "      <th>2</th>\n",
              "      <td>Albert Augustus Charles</td>\n",
              "      <td>NaN</td>\n",
              "      <td>M</td>\n",
              "      <td>Prince</td>\n",
              "      <td>26 AUG 1819</td>\n",
              "      <td>14 DEC 1861</td>\n",
              "    </tr>\n",
              "    <tr>\n",
              "      <th>3</th>\n",
              "      <td>Victoria Adelaide Mary</td>\n",
              "      <td>NaN</td>\n",
              "      <td>F</td>\n",
              "      <td>Princess Royal</td>\n",
              "      <td>21 NOV 1840</td>\n",
              "      <td>5 AUG 1901</td>\n",
              "    </tr>\n",
              "    <tr>\n",
              "      <th>4</th>\n",
              "      <td>Edward_VII</td>\n",
              "      <td>Wettin</td>\n",
              "      <td>M</td>\n",
              "      <td>King of England</td>\n",
              "      <td>9 NOV 1841</td>\n",
              "      <td>6 MAY 1910</td>\n",
              "    </tr>\n",
              "    <tr>\n",
              "      <th>5</th>\n",
              "      <td>Alice Maud Mary</td>\n",
              "      <td>NaN</td>\n",
              "      <td>F</td>\n",
              "      <td>Princess</td>\n",
              "      <td>25 APR 1843</td>\n",
              "      <td>14 DEC 1878</td>\n",
              "    </tr>\n",
              "    <tr>\n",
              "      <th>...</th>\n",
              "      <td>...</td>\n",
              "      <td>...</td>\n",
              "      <td>...</td>\n",
              "      <td>...</td>\n",
              "      <td>...</td>\n",
              "      <td>...</td>\n",
              "    </tr>\n",
              "    <tr>\n",
              "      <th>3005</th>\n",
              "      <td>Emily</td>\n",
              "      <td>Scobell</td>\n",
              "      <td>F</td>\n",
              "      <td>NaN</td>\n",
              "      <td>NaN</td>\n",
              "      <td>NaN</td>\n",
              "    </tr>\n",
              "    <tr>\n",
              "      <th>3006</th>\n",
              "      <td>John Sanford</td>\n",
              "      <td>Scobell</td>\n",
              "      <td>M</td>\n",
              "      <td>Sir</td>\n",
              "      <td>1879</td>\n",
              "      <td>NaN</td>\n",
              "    </tr>\n",
              "    <tr>\n",
              "      <th>3007</th>\n",
              "      <td>James</td>\n",
              "      <td>Cartland</td>\n",
              "      <td>M</td>\n",
              "      <td>NaN</td>\n",
              "      <td>NaN</td>\n",
              "      <td>NaN</td>\n",
              "    </tr>\n",
              "    <tr>\n",
              "      <th>3008</th>\n",
              "      <td>Flora</td>\n",
              "      <td>NaN</td>\n",
              "      <td>F</td>\n",
              "      <td>NaN</td>\n",
              "      <td>NaN</td>\n",
              "      <td>NaN</td>\n",
              "    </tr>\n",
              "    <tr>\n",
              "      <th>3009</th>\n",
              "      <td>NaN</td>\n",
              "      <td>Cartland</td>\n",
              "      <td>F</td>\n",
              "      <td>NaN</td>\n",
              "      <td>NaN</td>\n",
              "      <td>ABT    1911</td>\n",
              "    </tr>\n",
              "  </tbody>\n",
              "</table>\n",
              "<p>3009 rows × 6 columns</p>\n",
              "</div>"
            ],
            "text/plain": [
              "                   first_name last_name sex             title   birth_date  \\\n",
              "ID                                                                           \n",
              "1                    Victoria   Hanover   F  Queen of England  24 MAY 1819   \n",
              "2     Albert Augustus Charles       NaN   M            Prince  26 AUG 1819   \n",
              "3      Victoria Adelaide Mary       NaN   F    Princess Royal  21 NOV 1840   \n",
              "4                  Edward_VII    Wettin   M   King of England   9 NOV 1841   \n",
              "5             Alice Maud Mary       NaN   F          Princess  25 APR 1843   \n",
              "...                       ...       ...  ..               ...          ...   \n",
              "3005                    Emily   Scobell   F               NaN          NaN   \n",
              "3006             John Sanford   Scobell   M               Sir         1879   \n",
              "3007                    James  Cartland   M               NaN          NaN   \n",
              "3008                    Flora       NaN   F               NaN          NaN   \n",
              "3009                      NaN  Cartland   F               NaN          NaN   \n",
              "\n",
              "       death_date  \n",
              "ID                 \n",
              "1     22 JAN 1901  \n",
              "2     14 DEC 1861  \n",
              "3      5 AUG 1901  \n",
              "4      6 MAY 1910  \n",
              "5     14 DEC 1878  \n",
              "...           ...  \n",
              "3005          NaN  \n",
              "3006          NaN  \n",
              "3007          NaN  \n",
              "3008          NaN  \n",
              "3009  ABT    1911  \n",
              "\n",
              "[3009 rows x 6 columns]"
            ]
          },
          "execution_count": 35,
          "metadata": {},
          "output_type": "execute_result"
        }
      ],
      "source": [
        "df.drop(columns = ['birth_place', 'death_place'], inplace = True)\n",
        "df"
      ]
    },
    {
      "cell_type": "markdown",
      "id": "bad50605-58d4-4919-b5f3-3fe0a0867b0d",
      "metadata": {
        "id": "bad50605-58d4-4919-b5f3-3fe0a0867b0d"
      },
      "source": [
        "This is the same as:"
      ]
    },
    {
      "cell_type": "code",
      "execution_count": null,
      "id": "f9cdc1af-5344-4053-973b-ef661396ba8c",
      "metadata": {
        "id": "f9cdc1af-5344-4053-973b-ef661396ba8c",
        "outputId": "3c47625b-2260-4f59-944c-85e73d0cd074"
      },
      "outputs": [
        {
          "data": {
            "text/html": [
              "<div>\n",
              "<style scoped>\n",
              "    .dataframe tbody tr th:only-of-type {\n",
              "        vertical-align: middle;\n",
              "    }\n",
              "\n",
              "    .dataframe tbody tr th {\n",
              "        vertical-align: top;\n",
              "    }\n",
              "\n",
              "    .dataframe thead th {\n",
              "        text-align: right;\n",
              "    }\n",
              "</style>\n",
              "<table border=\"1\" class=\"dataframe\">\n",
              "  <thead>\n",
              "    <tr style=\"text-align: right;\">\n",
              "      <th></th>\n",
              "      <th>first_name</th>\n",
              "      <th>last_name</th>\n",
              "      <th>sex</th>\n",
              "      <th>title</th>\n",
              "      <th>birth_date</th>\n",
              "      <th>death_date</th>\n",
              "    </tr>\n",
              "    <tr>\n",
              "      <th>ID</th>\n",
              "      <th></th>\n",
              "      <th></th>\n",
              "      <th></th>\n",
              "      <th></th>\n",
              "      <th></th>\n",
              "      <th></th>\n",
              "    </tr>\n",
              "  </thead>\n",
              "  <tbody>\n",
              "    <tr>\n",
              "      <th>1</th>\n",
              "      <td>Victoria</td>\n",
              "      <td>Hanover</td>\n",
              "      <td>F</td>\n",
              "      <td>Queen of England</td>\n",
              "      <td>24 MAY 1819</td>\n",
              "      <td>22 JAN 1901</td>\n",
              "    </tr>\n",
              "    <tr>\n",
              "      <th>2</th>\n",
              "      <td>Albert Augustus Charles</td>\n",
              "      <td>NaN</td>\n",
              "      <td>M</td>\n",
              "      <td>Prince</td>\n",
              "      <td>26 AUG 1819</td>\n",
              "      <td>14 DEC 1861</td>\n",
              "    </tr>\n",
              "    <tr>\n",
              "      <th>3</th>\n",
              "      <td>Victoria Adelaide Mary</td>\n",
              "      <td>NaN</td>\n",
              "      <td>F</td>\n",
              "      <td>Princess Royal</td>\n",
              "      <td>21 NOV 1840</td>\n",
              "      <td>5 AUG 1901</td>\n",
              "    </tr>\n",
              "    <tr>\n",
              "      <th>4</th>\n",
              "      <td>Edward_VII</td>\n",
              "      <td>Wettin</td>\n",
              "      <td>M</td>\n",
              "      <td>King of England</td>\n",
              "      <td>9 NOV 1841</td>\n",
              "      <td>6 MAY 1910</td>\n",
              "    </tr>\n",
              "    <tr>\n",
              "      <th>5</th>\n",
              "      <td>Alice Maud Mary</td>\n",
              "      <td>NaN</td>\n",
              "      <td>F</td>\n",
              "      <td>Princess</td>\n",
              "      <td>25 APR 1843</td>\n",
              "      <td>14 DEC 1878</td>\n",
              "    </tr>\n",
              "    <tr>\n",
              "      <th>...</th>\n",
              "      <td>...</td>\n",
              "      <td>...</td>\n",
              "      <td>...</td>\n",
              "      <td>...</td>\n",
              "      <td>...</td>\n",
              "      <td>...</td>\n",
              "    </tr>\n",
              "    <tr>\n",
              "      <th>3005</th>\n",
              "      <td>Emily</td>\n",
              "      <td>Scobell</td>\n",
              "      <td>F</td>\n",
              "      <td>NaN</td>\n",
              "      <td>NaN</td>\n",
              "      <td>NaN</td>\n",
              "    </tr>\n",
              "    <tr>\n",
              "      <th>3006</th>\n",
              "      <td>John Sanford</td>\n",
              "      <td>Scobell</td>\n",
              "      <td>M</td>\n",
              "      <td>Sir</td>\n",
              "      <td>1879</td>\n",
              "      <td>NaN</td>\n",
              "    </tr>\n",
              "    <tr>\n",
              "      <th>3007</th>\n",
              "      <td>James</td>\n",
              "      <td>Cartland</td>\n",
              "      <td>M</td>\n",
              "      <td>NaN</td>\n",
              "      <td>NaN</td>\n",
              "      <td>NaN</td>\n",
              "    </tr>\n",
              "    <tr>\n",
              "      <th>3008</th>\n",
              "      <td>Flora</td>\n",
              "      <td>NaN</td>\n",
              "      <td>F</td>\n",
              "      <td>NaN</td>\n",
              "      <td>NaN</td>\n",
              "      <td>NaN</td>\n",
              "    </tr>\n",
              "    <tr>\n",
              "      <th>3009</th>\n",
              "      <td>NaN</td>\n",
              "      <td>Cartland</td>\n",
              "      <td>F</td>\n",
              "      <td>NaN</td>\n",
              "      <td>NaN</td>\n",
              "      <td>ABT    1911</td>\n",
              "    </tr>\n",
              "  </tbody>\n",
              "</table>\n",
              "<p>3009 rows × 6 columns</p>\n",
              "</div>"
            ],
            "text/plain": [
              "                   first_name last_name sex             title   birth_date  \\\n",
              "ID                                                                           \n",
              "1                    Victoria   Hanover   F  Queen of England  24 MAY 1819   \n",
              "2     Albert Augustus Charles       NaN   M            Prince  26 AUG 1819   \n",
              "3      Victoria Adelaide Mary       NaN   F    Princess Royal  21 NOV 1840   \n",
              "4                  Edward_VII    Wettin   M   King of England   9 NOV 1841   \n",
              "5             Alice Maud Mary       NaN   F          Princess  25 APR 1843   \n",
              "...                       ...       ...  ..               ...          ...   \n",
              "3005                    Emily   Scobell   F               NaN          NaN   \n",
              "3006             John Sanford   Scobell   M               Sir         1879   \n",
              "3007                    James  Cartland   M               NaN          NaN   \n",
              "3008                    Flora       NaN   F               NaN          NaN   \n",
              "3009                      NaN  Cartland   F               NaN          NaN   \n",
              "\n",
              "       death_date  \n",
              "ID                 \n",
              "1     22 JAN 1901  \n",
              "2     14 DEC 1861  \n",
              "3      5 AUG 1901  \n",
              "4      6 MAY 1910  \n",
              "5     14 DEC 1878  \n",
              "...           ...  \n",
              "3005          NaN  \n",
              "3006          NaN  \n",
              "3007          NaN  \n",
              "3008          NaN  \n",
              "3009  ABT    1911  \n",
              "\n",
              "[3009 rows x 6 columns]"
            ]
          },
          "execution_count": 37,
          "metadata": {},
          "output_type": "execute_result"
        }
      ],
      "source": [
        "df = pd.read_csv('../Datasets/royal_line.csv', index_col='ID')\n",
        "df = df.drop(columns = ['birth_place', 'death_place'])\n",
        "df"
      ]
    },
    {
      "cell_type": "markdown",
      "id": "9ac04471-232d-4520-a7f0-af886a0e3a52",
      "metadata": {
        "id": "9ac04471-232d-4520-a7f0-af886a0e3a52"
      },
      "source": [
        "You can also drop rows by indicating specific indices:"
      ]
    },
    {
      "cell_type": "code",
      "execution_count": null,
      "id": "0560e109-79dc-40a2-8897-27e21484bf24",
      "metadata": {
        "id": "0560e109-79dc-40a2-8897-27e21484bf24"
      },
      "outputs": [],
      "source": [
        "df.drop(index=[4,5,6], inplace=True)"
      ]
    },
    {
      "cell_type": "markdown",
      "id": "eb81377b-eb4e-4269-ae7a-1cf3c695a505",
      "metadata": {
        "id": "eb81377b-eb4e-4269-ae7a-1cf3c695a505"
      },
      "source": [
        "Or, by using df.index, which avoids potential variations in index numbering and always references the first row starting with $0$."
      ]
    },
    {
      "cell_type": "code",
      "execution_count": null,
      "id": "ab3a1093-1d93-4bcf-bf7c-85b0c455df45",
      "metadata": {
        "id": "ab3a1093-1d93-4bcf-bf7c-85b0c455df45"
      },
      "outputs": [],
      "source": [
        "df.drop(df.index[0], inplace=True)\n",
        "df.drop(df.index[0], inplace=True)"
      ]
    },
    {
      "cell_type": "markdown",
      "id": "da6596fb-e520-4697-a1cc-698369089d7b",
      "metadata": {
        "id": "da6596fb-e520-4697-a1cc-698369089d7b"
      },
      "source": [
        "Each line drops the first row on the dataframe, whatever that first row might be. So, these two lines together drop the first two rows. We can also use standard Python indexing and slicing notation to specify indices here."
      ]
    },
    {
      "cell_type": "code",
      "execution_count": null,
      "id": "3d9d056d-9a35-4480-8343-db04bb8d0f27",
      "metadata": {
        "id": "3d9d056d-9a35-4480-8343-db04bb8d0f27",
        "outputId": "2046b8c1-6753-4e08-ebaa-e53f068bd672"
      },
      "outputs": [
        {
          "data": {
            "text/html": [
              "<div>\n",
              "<style scoped>\n",
              "    .dataframe tbody tr th:only-of-type {\n",
              "        vertical-align: middle;\n",
              "    }\n",
              "\n",
              "    .dataframe tbody tr th {\n",
              "        vertical-align: top;\n",
              "    }\n",
              "\n",
              "    .dataframe thead th {\n",
              "        text-align: right;\n",
              "    }\n",
              "</style>\n",
              "<table border=\"1\" class=\"dataframe\">\n",
              "  <thead>\n",
              "    <tr style=\"text-align: right;\">\n",
              "      <th></th>\n",
              "      <th>first_name</th>\n",
              "      <th>last_name</th>\n",
              "      <th>sex</th>\n",
              "      <th>title</th>\n",
              "      <th>birth_date</th>\n",
              "      <th>death_date</th>\n",
              "    </tr>\n",
              "    <tr>\n",
              "      <th>ID</th>\n",
              "      <th></th>\n",
              "      <th></th>\n",
              "      <th></th>\n",
              "      <th></th>\n",
              "      <th></th>\n",
              "      <th></th>\n",
              "    </tr>\n",
              "  </thead>\n",
              "  <tbody>\n",
              "    <tr>\n",
              "      <th>3</th>\n",
              "      <td>Victoria Adelaide Mary</td>\n",
              "      <td>NaN</td>\n",
              "      <td>F</td>\n",
              "      <td>Princess Royal</td>\n",
              "      <td>21 NOV 1840</td>\n",
              "      <td>5 AUG 1901</td>\n",
              "    </tr>\n",
              "    <tr>\n",
              "      <th>7</th>\n",
              "      <td>Helena Augusta Victoria</td>\n",
              "      <td>NaN</td>\n",
              "      <td>F</td>\n",
              "      <td>Princess</td>\n",
              "      <td>25 MAY 1846</td>\n",
              "      <td>9 JUN 1923</td>\n",
              "    </tr>\n",
              "    <tr>\n",
              "      <th>8</th>\n",
              "      <td>Louise Caroline Alberta</td>\n",
              "      <td>NaN</td>\n",
              "      <td>F</td>\n",
              "      <td>Princess</td>\n",
              "      <td>18 MAR 1848</td>\n",
              "      <td>3 DEC 1939</td>\n",
              "    </tr>\n",
              "    <tr>\n",
              "      <th>9</th>\n",
              "      <td>Arthur William Patrick</td>\n",
              "      <td>NaN</td>\n",
              "      <td>M</td>\n",
              "      <td>Prince</td>\n",
              "      <td>1 MAY 1850</td>\n",
              "      <td>16 JAN 1942</td>\n",
              "    </tr>\n",
              "    <tr>\n",
              "      <th>10</th>\n",
              "      <td>Leopold George Duncan</td>\n",
              "      <td>NaN</td>\n",
              "      <td>M</td>\n",
              "      <td>Prince</td>\n",
              "      <td>7 APR 1853</td>\n",
              "      <td>28 MAR 1884</td>\n",
              "    </tr>\n",
              "    <tr>\n",
              "      <th>...</th>\n",
              "      <td>...</td>\n",
              "      <td>...</td>\n",
              "      <td>...</td>\n",
              "      <td>...</td>\n",
              "      <td>...</td>\n",
              "      <td>...</td>\n",
              "    </tr>\n",
              "    <tr>\n",
              "      <th>3005</th>\n",
              "      <td>Emily</td>\n",
              "      <td>Scobell</td>\n",
              "      <td>F</td>\n",
              "      <td>NaN</td>\n",
              "      <td>NaN</td>\n",
              "      <td>NaN</td>\n",
              "    </tr>\n",
              "    <tr>\n",
              "      <th>3006</th>\n",
              "      <td>John Sanford</td>\n",
              "      <td>Scobell</td>\n",
              "      <td>M</td>\n",
              "      <td>Sir</td>\n",
              "      <td>1879</td>\n",
              "      <td>NaN</td>\n",
              "    </tr>\n",
              "    <tr>\n",
              "      <th>3007</th>\n",
              "      <td>James</td>\n",
              "      <td>Cartland</td>\n",
              "      <td>M</td>\n",
              "      <td>NaN</td>\n",
              "      <td>NaN</td>\n",
              "      <td>NaN</td>\n",
              "    </tr>\n",
              "    <tr>\n",
              "      <th>3008</th>\n",
              "      <td>Flora</td>\n",
              "      <td>NaN</td>\n",
              "      <td>F</td>\n",
              "      <td>NaN</td>\n",
              "      <td>NaN</td>\n",
              "      <td>NaN</td>\n",
              "    </tr>\n",
              "    <tr>\n",
              "      <th>3009</th>\n",
              "      <td>NaN</td>\n",
              "      <td>Cartland</td>\n",
              "      <td>F</td>\n",
              "      <td>NaN</td>\n",
              "      <td>NaN</td>\n",
              "      <td>ABT    1911</td>\n",
              "    </tr>\n",
              "  </tbody>\n",
              "</table>\n",
              "<p>3004 rows × 6 columns</p>\n",
              "</div>"
            ],
            "text/plain": [
              "                   first_name last_name sex           title   birth_date  \\\n",
              "ID                                                                         \n",
              "3      Victoria Adelaide Mary       NaN   F  Princess Royal  21 NOV 1840   \n",
              "7     Helena Augusta Victoria       NaN   F        Princess  25 MAY 1846   \n",
              "8     Louise Caroline Alberta       NaN   F        Princess  18 MAR 1848   \n",
              "9      Arthur William Patrick       NaN   M          Prince   1 MAY 1850   \n",
              "10      Leopold George Duncan       NaN   M          Prince   7 APR 1853   \n",
              "...                       ...       ...  ..             ...          ...   \n",
              "3005                    Emily   Scobell   F             NaN          NaN   \n",
              "3006             John Sanford   Scobell   M             Sir         1879   \n",
              "3007                    James  Cartland   M             NaN          NaN   \n",
              "3008                    Flora       NaN   F             NaN          NaN   \n",
              "3009                      NaN  Cartland   F             NaN          NaN   \n",
              "\n",
              "       death_date  \n",
              "ID                 \n",
              "3      5 AUG 1901  \n",
              "7      9 JUN 1923  \n",
              "8      3 DEC 1939  \n",
              "9     16 JAN 1942  \n",
              "10    28 MAR 1884  \n",
              "...           ...  \n",
              "3005          NaN  \n",
              "3006          NaN  \n",
              "3007          NaN  \n",
              "3008          NaN  \n",
              "3009  ABT    1911  \n",
              "\n",
              "[3004 rows x 6 columns]"
            ]
          },
          "execution_count": 43,
          "metadata": {},
          "output_type": "execute_result"
        }
      ],
      "source": [
        "df"
      ]
    },
    {
      "cell_type": "markdown",
      "id": "79d096b8-66c3-4a78-85f2-feaf0ec09f48",
      "metadata": {
        "id": "79d096b8-66c3-4a78-85f2-feaf0ec09f48"
      },
      "source": [
        "The \"drop_duplicates\" function can be used to drop duplicate rows, while the \"dropna\" function drops every row that includes at least one NA entry. Be careful with this one, as it could potentially drop a lot of rows!"
      ]
    },
    {
      "cell_type": "code",
      "execution_count": null,
      "id": "fcb8ea07-b205-4564-a4a2-2e85646cd2d3",
      "metadata": {
        "id": "fcb8ea07-b205-4564-a4a2-2e85646cd2d3"
      },
      "outputs": [],
      "source": [
        "df.dropna(inplace=True)"
      ]
    },
    {
      "cell_type": "markdown",
      "id": "df555446-a12d-4742-b757-863d6c37d731",
      "metadata": {
        "id": "df555446-a12d-4742-b757-863d6c37d731"
      },
      "source": [
        "### Adding, Modifying Data, and Mapping"
      ]
    },
    {
      "cell_type": "markdown",
      "id": "ea77d54b-881c-4084-a32a-c7873bd85629",
      "metadata": {
        "id": "ea77d54b-881c-4084-a32a-c7873bd85629"
      },
      "source": [
        "Suppose we have a dataframe with NA values, and instead of dropping them we want to fill them with some values we determine. Here are a few ways to do that:"
      ]
    },
    {
      "cell_type": "code",
      "execution_count": null,
      "id": "6e853119-f6cc-4023-80f9-b3276e16c3ea",
      "metadata": {
        "id": "6e853119-f6cc-4023-80f9-b3276e16c3ea",
        "outputId": "00bc83b1-7119-4513-92f0-9a54adaf1b80"
      },
      "outputs": [
        {
          "data": {
            "text/html": [
              "<div>\n",
              "<style scoped>\n",
              "    .dataframe tbody tr th:only-of-type {\n",
              "        vertical-align: middle;\n",
              "    }\n",
              "\n",
              "    .dataframe tbody tr th {\n",
              "        vertical-align: top;\n",
              "    }\n",
              "\n",
              "    .dataframe thead th {\n",
              "        text-align: right;\n",
              "    }\n",
              "</style>\n",
              "<table border=\"1\" class=\"dataframe\">\n",
              "  <thead>\n",
              "    <tr style=\"text-align: right;\">\n",
              "      <th></th>\n",
              "      <th>first_name</th>\n",
              "      <th>last_name</th>\n",
              "      <th>sex</th>\n",
              "      <th>title</th>\n",
              "      <th>birth_date</th>\n",
              "      <th>birth_place</th>\n",
              "      <th>death_date</th>\n",
              "      <th>death_place</th>\n",
              "    </tr>\n",
              "    <tr>\n",
              "      <th>ID</th>\n",
              "      <th></th>\n",
              "      <th></th>\n",
              "      <th></th>\n",
              "      <th></th>\n",
              "      <th></th>\n",
              "      <th></th>\n",
              "      <th></th>\n",
              "      <th></th>\n",
              "    </tr>\n",
              "  </thead>\n",
              "  <tbody>\n",
              "    <tr>\n",
              "      <th>1</th>\n",
              "      <td>Victoria</td>\n",
              "      <td>Hanover</td>\n",
              "      <td>F</td>\n",
              "      <td>Queen of England</td>\n",
              "      <td>24 MAY 1819</td>\n",
              "      <td>Kensington,Palace,London,England</td>\n",
              "      <td>22 JAN 1901</td>\n",
              "      <td>Osborne House,Isle of Wight,England</td>\n",
              "    </tr>\n",
              "    <tr>\n",
              "      <th>2</th>\n",
              "      <td>Albert Augustus Charles</td>\n",
              "      <td>0</td>\n",
              "      <td>M</td>\n",
              "      <td>Prince</td>\n",
              "      <td>26 AUG 1819</td>\n",
              "      <td>Schloss Rosenau,Near Coburg,Germany</td>\n",
              "      <td>14 DEC 1861</td>\n",
              "      <td>Windsor Castle,Berkshire,England</td>\n",
              "    </tr>\n",
              "    <tr>\n",
              "      <th>3</th>\n",
              "      <td>Victoria Adelaide Mary</td>\n",
              "      <td>0</td>\n",
              "      <td>F</td>\n",
              "      <td>Princess Royal</td>\n",
              "      <td>21 NOV 1840</td>\n",
              "      <td>Buckingham,Palace,London,England</td>\n",
              "      <td>5 AUG 1901</td>\n",
              "      <td>Friedrichshof,Near,Kronberg,Taunus</td>\n",
              "    </tr>\n",
              "    <tr>\n",
              "      <th>4</th>\n",
              "      <td>Edward_VII</td>\n",
              "      <td>Wettin</td>\n",
              "      <td>M</td>\n",
              "      <td>King of England</td>\n",
              "      <td>9 NOV 1841</td>\n",
              "      <td>Buckingham,Palace,London,England</td>\n",
              "      <td>6 MAY 1910</td>\n",
              "      <td>Buckingham,Palace,London,England</td>\n",
              "    </tr>\n",
              "    <tr>\n",
              "      <th>5</th>\n",
              "      <td>Alice Maud Mary</td>\n",
              "      <td>0</td>\n",
              "      <td>F</td>\n",
              "      <td>Princess</td>\n",
              "      <td>25 APR 1843</td>\n",
              "      <td>Buckingham,Palace,London,England</td>\n",
              "      <td>14 DEC 1878</td>\n",
              "      <td>Darmstadt,,,Germany</td>\n",
              "    </tr>\n",
              "    <tr>\n",
              "      <th>...</th>\n",
              "      <td>...</td>\n",
              "      <td>...</td>\n",
              "      <td>...</td>\n",
              "      <td>...</td>\n",
              "      <td>...</td>\n",
              "      <td>...</td>\n",
              "      <td>...</td>\n",
              "      <td>...</td>\n",
              "    </tr>\n",
              "    <tr>\n",
              "      <th>3005</th>\n",
              "      <td>Emily</td>\n",
              "      <td>Scobell</td>\n",
              "      <td>F</td>\n",
              "      <td>0</td>\n",
              "      <td>0</td>\n",
              "      <td>0</td>\n",
              "      <td>0</td>\n",
              "      <td>0</td>\n",
              "    </tr>\n",
              "    <tr>\n",
              "      <th>3006</th>\n",
              "      <td>John Sanford</td>\n",
              "      <td>Scobell</td>\n",
              "      <td>M</td>\n",
              "      <td>Sir</td>\n",
              "      <td>1879</td>\n",
              "      <td>0</td>\n",
              "      <td>0</td>\n",
              "      <td>0</td>\n",
              "    </tr>\n",
              "    <tr>\n",
              "      <th>3007</th>\n",
              "      <td>James</td>\n",
              "      <td>Cartland</td>\n",
              "      <td>M</td>\n",
              "      <td>0</td>\n",
              "      <td>0</td>\n",
              "      <td>0</td>\n",
              "      <td>0</td>\n",
              "      <td>0</td>\n",
              "    </tr>\n",
              "    <tr>\n",
              "      <th>3008</th>\n",
              "      <td>Flora</td>\n",
              "      <td>0</td>\n",
              "      <td>F</td>\n",
              "      <td>0</td>\n",
              "      <td>0</td>\n",
              "      <td>0</td>\n",
              "      <td>0</td>\n",
              "      <td>0</td>\n",
              "    </tr>\n",
              "    <tr>\n",
              "      <th>3009</th>\n",
              "      <td>0</td>\n",
              "      <td>Cartland</td>\n",
              "      <td>F</td>\n",
              "      <td>0</td>\n",
              "      <td>0</td>\n",
              "      <td>0</td>\n",
              "      <td>ABT    1911</td>\n",
              "      <td>0</td>\n",
              "    </tr>\n",
              "  </tbody>\n",
              "</table>\n",
              "<p>3009 rows × 8 columns</p>\n",
              "</div>"
            ],
            "text/plain": [
              "                   first_name last_name sex             title   birth_date  \\\n",
              "ID                                                                           \n",
              "1                    Victoria   Hanover   F  Queen of England  24 MAY 1819   \n",
              "2     Albert Augustus Charles         0   M            Prince  26 AUG 1819   \n",
              "3      Victoria Adelaide Mary         0   F    Princess Royal  21 NOV 1840   \n",
              "4                  Edward_VII    Wettin   M   King of England   9 NOV 1841   \n",
              "5             Alice Maud Mary         0   F          Princess  25 APR 1843   \n",
              "...                       ...       ...  ..               ...          ...   \n",
              "3005                    Emily   Scobell   F                 0            0   \n",
              "3006             John Sanford   Scobell   M               Sir         1879   \n",
              "3007                    James  Cartland   M                 0            0   \n",
              "3008                    Flora         0   F                 0            0   \n",
              "3009                        0  Cartland   F                 0            0   \n",
              "\n",
              "                              birth_place   death_date  \\\n",
              "ID                                                       \n",
              "1        Kensington,Palace,London,England  22 JAN 1901   \n",
              "2     Schloss Rosenau,Near Coburg,Germany  14 DEC 1861   \n",
              "3        Buckingham,Palace,London,England   5 AUG 1901   \n",
              "4        Buckingham,Palace,London,England   6 MAY 1910   \n",
              "5        Buckingham,Palace,London,England  14 DEC 1878   \n",
              "...                                   ...          ...   \n",
              "3005                                    0            0   \n",
              "3006                                    0            0   \n",
              "3007                                    0            0   \n",
              "3008                                    0            0   \n",
              "3009                                    0  ABT    1911   \n",
              "\n",
              "                              death_place  \n",
              "ID                                         \n",
              "1     Osborne House,Isle of Wight,England  \n",
              "2        Windsor Castle,Berkshire,England  \n",
              "3      Friedrichshof,Near,Kronberg,Taunus  \n",
              "4        Buckingham,Palace,London,England  \n",
              "5                     Darmstadt,,,Germany  \n",
              "...                                   ...  \n",
              "3005                                    0  \n",
              "3006                                    0  \n",
              "3007                                    0  \n",
              "3008                                    0  \n",
              "3009                                    0  \n",
              "\n",
              "[3009 rows x 8 columns]"
            ]
          },
          "execution_count": 48,
          "metadata": {},
          "output_type": "execute_result"
        }
      ],
      "source": [
        "df = pd.read_csv('../Datasets/royal_line.csv', index_col='ID')\n",
        "# replace ALL NA entries with a fixed value:\n",
        "df.fillna(0, inplace=True)\n",
        "df"
      ]
    },
    {
      "cell_type": "code",
      "execution_count": null,
      "id": "80ae1393-f72e-4225-8976-2744678cd036",
      "metadata": {
        "id": "80ae1393-f72e-4225-8976-2744678cd036",
        "outputId": "67b371f9-dbdd-4d6f-9ea0-e9b83a15d44e"
      },
      "outputs": [
        {
          "data": {
            "text/html": [
              "<div>\n",
              "<style scoped>\n",
              "    .dataframe tbody tr th:only-of-type {\n",
              "        vertical-align: middle;\n",
              "    }\n",
              "\n",
              "    .dataframe tbody tr th {\n",
              "        vertical-align: top;\n",
              "    }\n",
              "\n",
              "    .dataframe thead th {\n",
              "        text-align: right;\n",
              "    }\n",
              "</style>\n",
              "<table border=\"1\" class=\"dataframe\">\n",
              "  <thead>\n",
              "    <tr style=\"text-align: right;\">\n",
              "      <th></th>\n",
              "      <th>first_name</th>\n",
              "      <th>last_name</th>\n",
              "      <th>sex</th>\n",
              "      <th>title</th>\n",
              "      <th>birth_date</th>\n",
              "      <th>birth_place</th>\n",
              "      <th>death_date</th>\n",
              "      <th>death_place</th>\n",
              "    </tr>\n",
              "    <tr>\n",
              "      <th>ID</th>\n",
              "      <th></th>\n",
              "      <th></th>\n",
              "      <th></th>\n",
              "      <th></th>\n",
              "      <th></th>\n",
              "      <th></th>\n",
              "      <th></th>\n",
              "      <th></th>\n",
              "    </tr>\n",
              "  </thead>\n",
              "  <tbody>\n",
              "    <tr>\n",
              "      <th>1</th>\n",
              "      <td>Victoria</td>\n",
              "      <td>Hanover</td>\n",
              "      <td>F</td>\n",
              "      <td>Queen of England</td>\n",
              "      <td>24 MAY 1819</td>\n",
              "      <td>Kensington,Palace,London,England</td>\n",
              "      <td>22 JAN 1901</td>\n",
              "      <td>Osborne House,Isle of Wight,England</td>\n",
              "    </tr>\n",
              "    <tr>\n",
              "      <th>2</th>\n",
              "      <td>Albert Augustus Charles</td>\n",
              "      <td>0</td>\n",
              "      <td>M</td>\n",
              "      <td>Prince</td>\n",
              "      <td>26 AUG 1819</td>\n",
              "      <td>Schloss Rosenau,Near Coburg,Germany</td>\n",
              "      <td>14 DEC 1861</td>\n",
              "      <td>Windsor Castle,Berkshire,England</td>\n",
              "    </tr>\n",
              "    <tr>\n",
              "      <th>3</th>\n",
              "      <td>Victoria Adelaide Mary</td>\n",
              "      <td>0</td>\n",
              "      <td>F</td>\n",
              "      <td>Princess Royal</td>\n",
              "      <td>21 NOV 1840</td>\n",
              "      <td>Buckingham,Palace,London,England</td>\n",
              "      <td>5 AUG 1901</td>\n",
              "      <td>Friedrichshof,Near,Kronberg,Taunus</td>\n",
              "    </tr>\n",
              "    <tr>\n",
              "      <th>4</th>\n",
              "      <td>Edward_VII</td>\n",
              "      <td>Wettin</td>\n",
              "      <td>M</td>\n",
              "      <td>King of England</td>\n",
              "      <td>9 NOV 1841</td>\n",
              "      <td>Buckingham,Palace,London,England</td>\n",
              "      <td>6 MAY 1910</td>\n",
              "      <td>Buckingham,Palace,London,England</td>\n",
              "    </tr>\n",
              "    <tr>\n",
              "      <th>5</th>\n",
              "      <td>Alice Maud Mary</td>\n",
              "      <td>NaN</td>\n",
              "      <td>F</td>\n",
              "      <td>Princess</td>\n",
              "      <td>25 APR 1843</td>\n",
              "      <td>Buckingham,Palace,London,England</td>\n",
              "      <td>14 DEC 1878</td>\n",
              "      <td>Darmstadt,,,Germany</td>\n",
              "    </tr>\n",
              "    <tr>\n",
              "      <th>...</th>\n",
              "      <td>...</td>\n",
              "      <td>...</td>\n",
              "      <td>...</td>\n",
              "      <td>...</td>\n",
              "      <td>...</td>\n",
              "      <td>...</td>\n",
              "      <td>...</td>\n",
              "      <td>...</td>\n",
              "    </tr>\n",
              "    <tr>\n",
              "      <th>3005</th>\n",
              "      <td>Emily</td>\n",
              "      <td>Scobell</td>\n",
              "      <td>F</td>\n",
              "      <td>NaN</td>\n",
              "      <td>NaN</td>\n",
              "      <td>NaN</td>\n",
              "      <td>NaN</td>\n",
              "      <td>NaN</td>\n",
              "    </tr>\n",
              "    <tr>\n",
              "      <th>3006</th>\n",
              "      <td>John Sanford</td>\n",
              "      <td>Scobell</td>\n",
              "      <td>M</td>\n",
              "      <td>Sir</td>\n",
              "      <td>1879</td>\n",
              "      <td>NaN</td>\n",
              "      <td>NaN</td>\n",
              "      <td>NaN</td>\n",
              "    </tr>\n",
              "    <tr>\n",
              "      <th>3007</th>\n",
              "      <td>James</td>\n",
              "      <td>Cartland</td>\n",
              "      <td>M</td>\n",
              "      <td>NaN</td>\n",
              "      <td>NaN</td>\n",
              "      <td>NaN</td>\n",
              "      <td>NaN</td>\n",
              "      <td>NaN</td>\n",
              "    </tr>\n",
              "    <tr>\n",
              "      <th>3008</th>\n",
              "      <td>Flora</td>\n",
              "      <td>NaN</td>\n",
              "      <td>F</td>\n",
              "      <td>NaN</td>\n",
              "      <td>NaN</td>\n",
              "      <td>NaN</td>\n",
              "      <td>NaN</td>\n",
              "      <td>NaN</td>\n",
              "    </tr>\n",
              "    <tr>\n",
              "      <th>3009</th>\n",
              "      <td>NaN</td>\n",
              "      <td>Cartland</td>\n",
              "      <td>F</td>\n",
              "      <td>NaN</td>\n",
              "      <td>NaN</td>\n",
              "      <td>NaN</td>\n",
              "      <td>ABT    1911</td>\n",
              "      <td>NaN</td>\n",
              "    </tr>\n",
              "  </tbody>\n",
              "</table>\n",
              "<p>3009 rows × 8 columns</p>\n",
              "</div>"
            ],
            "text/plain": [
              "                   first_name last_name sex             title   birth_date  \\\n",
              "ID                                                                           \n",
              "1                    Victoria   Hanover   F  Queen of England  24 MAY 1819   \n",
              "2     Albert Augustus Charles         0   M            Prince  26 AUG 1819   \n",
              "3      Victoria Adelaide Mary         0   F    Princess Royal  21 NOV 1840   \n",
              "4                  Edward_VII    Wettin   M   King of England   9 NOV 1841   \n",
              "5             Alice Maud Mary       NaN   F          Princess  25 APR 1843   \n",
              "...                       ...       ...  ..               ...          ...   \n",
              "3005                    Emily   Scobell   F               NaN          NaN   \n",
              "3006             John Sanford   Scobell   M               Sir         1879   \n",
              "3007                    James  Cartland   M               NaN          NaN   \n",
              "3008                    Flora       NaN   F               NaN          NaN   \n",
              "3009                      NaN  Cartland   F               NaN          NaN   \n",
              "\n",
              "                              birth_place   death_date  \\\n",
              "ID                                                       \n",
              "1        Kensington,Palace,London,England  22 JAN 1901   \n",
              "2     Schloss Rosenau,Near Coburg,Germany  14 DEC 1861   \n",
              "3        Buckingham,Palace,London,England   5 AUG 1901   \n",
              "4        Buckingham,Palace,London,England   6 MAY 1910   \n",
              "5        Buckingham,Palace,London,England  14 DEC 1878   \n",
              "...                                   ...          ...   \n",
              "3005                                  NaN          NaN   \n",
              "3006                                  NaN          NaN   \n",
              "3007                                  NaN          NaN   \n",
              "3008                                  NaN          NaN   \n",
              "3009                                  NaN  ABT    1911   \n",
              "\n",
              "                              death_place  \n",
              "ID                                         \n",
              "1     Osborne House,Isle of Wight,England  \n",
              "2        Windsor Castle,Berkshire,England  \n",
              "3      Friedrichshof,Near,Kronberg,Taunus  \n",
              "4        Buckingham,Palace,London,England  \n",
              "5                     Darmstadt,,,Germany  \n",
              "...                                   ...  \n",
              "3005                                  NaN  \n",
              "3006                                  NaN  \n",
              "3007                                  NaN  \n",
              "3008                                  NaN  \n",
              "3009                                  NaN  \n",
              "\n",
              "[3009 rows x 8 columns]"
            ]
          },
          "execution_count": 49,
          "metadata": {},
          "output_type": "execute_result"
        }
      ],
      "source": [
        "df = pd.read_csv('../Datasets/royal_line.csv', index_col='ID')\n",
        "# replace the first 2 NA entries in each column with a fixed value:\n",
        "df.fillna(0, limit=2, inplace=True)\n",
        "df"
      ]
    },
    {
      "cell_type": "code",
      "execution_count": null,
      "id": "02bc6a29-05f3-4943-a8c1-8b7bb193e1bc",
      "metadata": {
        "id": "02bc6a29-05f3-4943-a8c1-8b7bb193e1bc",
        "outputId": "b5fa88ae-0f22-49ca-f5c2-fa7b97ef69a2"
      },
      "outputs": [
        {
          "data": {
            "text/html": [
              "<div>\n",
              "<style scoped>\n",
              "    .dataframe tbody tr th:only-of-type {\n",
              "        vertical-align: middle;\n",
              "    }\n",
              "\n",
              "    .dataframe tbody tr th {\n",
              "        vertical-align: top;\n",
              "    }\n",
              "\n",
              "    .dataframe thead th {\n",
              "        text-align: right;\n",
              "    }\n",
              "</style>\n",
              "<table border=\"1\" class=\"dataframe\">\n",
              "  <thead>\n",
              "    <tr style=\"text-align: right;\">\n",
              "      <th></th>\n",
              "      <th>first_name</th>\n",
              "      <th>last_name</th>\n",
              "      <th>sex</th>\n",
              "      <th>title</th>\n",
              "      <th>birth_date</th>\n",
              "      <th>birth_place</th>\n",
              "      <th>death_date</th>\n",
              "      <th>death_place</th>\n",
              "    </tr>\n",
              "    <tr>\n",
              "      <th>ID</th>\n",
              "      <th></th>\n",
              "      <th></th>\n",
              "      <th></th>\n",
              "      <th></th>\n",
              "      <th></th>\n",
              "      <th></th>\n",
              "      <th></th>\n",
              "      <th></th>\n",
              "    </tr>\n",
              "  </thead>\n",
              "  <tbody>\n",
              "    <tr>\n",
              "      <th>1</th>\n",
              "      <td>Victoria</td>\n",
              "      <td>Hanover</td>\n",
              "      <td>F</td>\n",
              "      <td>Queen of England</td>\n",
              "      <td>24 MAY 1819</td>\n",
              "      <td>Kensington,Palace,London,England</td>\n",
              "      <td>22 JAN 1901</td>\n",
              "      <td>Osborne House,Isle of Wight,England</td>\n",
              "    </tr>\n",
              "    <tr>\n",
              "      <th>2</th>\n",
              "      <td>Albert Augustus Charles</td>\n",
              "      <td>NaN</td>\n",
              "      <td>M</td>\n",
              "      <td>Prince</td>\n",
              "      <td>26 AUG 1819</td>\n",
              "      <td>Schloss Rosenau,Near Coburg,Germany</td>\n",
              "      <td>14 DEC 1861</td>\n",
              "      <td>Windsor Castle,Berkshire,England</td>\n",
              "    </tr>\n",
              "    <tr>\n",
              "      <th>3</th>\n",
              "      <td>Victoria Adelaide Mary</td>\n",
              "      <td>NaN</td>\n",
              "      <td>F</td>\n",
              "      <td>Princess Royal</td>\n",
              "      <td>21 NOV 1840</td>\n",
              "      <td>Buckingham,Palace,London,England</td>\n",
              "      <td>5 AUG 1901</td>\n",
              "      <td>Friedrichshof,Near,Kronberg,Taunus</td>\n",
              "    </tr>\n",
              "    <tr>\n",
              "      <th>4</th>\n",
              "      <td>Edward_VII</td>\n",
              "      <td>Wettin</td>\n",
              "      <td>M</td>\n",
              "      <td>King of England</td>\n",
              "      <td>9 NOV 1841</td>\n",
              "      <td>Buckingham,Palace,London,England</td>\n",
              "      <td>6 MAY 1910</td>\n",
              "      <td>Buckingham,Palace,London,England</td>\n",
              "    </tr>\n",
              "    <tr>\n",
              "      <th>5</th>\n",
              "      <td>Alice Maud Mary</td>\n",
              "      <td>NaN</td>\n",
              "      <td>F</td>\n",
              "      <td>Princess</td>\n",
              "      <td>25 APR 1843</td>\n",
              "      <td>Buckingham,Palace,London,England</td>\n",
              "      <td>14 DEC 1878</td>\n",
              "      <td>Darmstadt,,,Germany</td>\n",
              "    </tr>\n",
              "    <tr>\n",
              "      <th>...</th>\n",
              "      <td>...</td>\n",
              "      <td>...</td>\n",
              "      <td>...</td>\n",
              "      <td>...</td>\n",
              "      <td>...</td>\n",
              "      <td>...</td>\n",
              "      <td>...</td>\n",
              "      <td>...</td>\n",
              "    </tr>\n",
              "    <tr>\n",
              "      <th>3005</th>\n",
              "      <td>Emily</td>\n",
              "      <td>Scobell</td>\n",
              "      <td>F</td>\n",
              "      <td>NaN</td>\n",
              "      <td>NaN</td>\n",
              "      <td>NaN</td>\n",
              "      <td>NaN</td>\n",
              "      <td>NaN</td>\n",
              "    </tr>\n",
              "    <tr>\n",
              "      <th>3006</th>\n",
              "      <td>John Sanford</td>\n",
              "      <td>Scobell</td>\n",
              "      <td>M</td>\n",
              "      <td>Sir</td>\n",
              "      <td>1879</td>\n",
              "      <td>NaN</td>\n",
              "      <td>NaN</td>\n",
              "      <td>NaN</td>\n",
              "    </tr>\n",
              "    <tr>\n",
              "      <th>3007</th>\n",
              "      <td>James</td>\n",
              "      <td>Cartland</td>\n",
              "      <td>M</td>\n",
              "      <td>NaN</td>\n",
              "      <td>NaN</td>\n",
              "      <td>NaN</td>\n",
              "      <td>NaN</td>\n",
              "      <td>NaN</td>\n",
              "    </tr>\n",
              "    <tr>\n",
              "      <th>3008</th>\n",
              "      <td>Flora</td>\n",
              "      <td>NaN</td>\n",
              "      <td>F</td>\n",
              "      <td>NaN</td>\n",
              "      <td>NaN</td>\n",
              "      <td>NaN</td>\n",
              "      <td>NaN</td>\n",
              "      <td>NaN</td>\n",
              "    </tr>\n",
              "    <tr>\n",
              "      <th>3009</th>\n",
              "      <td>no first name</td>\n",
              "      <td>Cartland</td>\n",
              "      <td>F</td>\n",
              "      <td>NaN</td>\n",
              "      <td>NaN</td>\n",
              "      <td>NaN</td>\n",
              "      <td>ABT    1911</td>\n",
              "      <td>NaN</td>\n",
              "    </tr>\n",
              "  </tbody>\n",
              "</table>\n",
              "<p>3009 rows × 8 columns</p>\n",
              "</div>"
            ],
            "text/plain": [
              "                   first_name last_name sex             title   birth_date  \\\n",
              "ID                                                                           \n",
              "1                    Victoria   Hanover   F  Queen of England  24 MAY 1819   \n",
              "2     Albert Augustus Charles       NaN   M            Prince  26 AUG 1819   \n",
              "3      Victoria Adelaide Mary       NaN   F    Princess Royal  21 NOV 1840   \n",
              "4                  Edward_VII    Wettin   M   King of England   9 NOV 1841   \n",
              "5             Alice Maud Mary       NaN   F          Princess  25 APR 1843   \n",
              "...                       ...       ...  ..               ...          ...   \n",
              "3005                    Emily   Scobell   F               NaN          NaN   \n",
              "3006             John Sanford   Scobell   M               Sir         1879   \n",
              "3007                    James  Cartland   M               NaN          NaN   \n",
              "3008                    Flora       NaN   F               NaN          NaN   \n",
              "3009            no first name  Cartland   F               NaN          NaN   \n",
              "\n",
              "                              birth_place   death_date  \\\n",
              "ID                                                       \n",
              "1        Kensington,Palace,London,England  22 JAN 1901   \n",
              "2     Schloss Rosenau,Near Coburg,Germany  14 DEC 1861   \n",
              "3        Buckingham,Palace,London,England   5 AUG 1901   \n",
              "4        Buckingham,Palace,London,England   6 MAY 1910   \n",
              "5        Buckingham,Palace,London,England  14 DEC 1878   \n",
              "...                                   ...          ...   \n",
              "3005                                  NaN          NaN   \n",
              "3006                                  NaN          NaN   \n",
              "3007                                  NaN          NaN   \n",
              "3008                                  NaN          NaN   \n",
              "3009                                  NaN  ABT    1911   \n",
              "\n",
              "                              death_place  \n",
              "ID                                         \n",
              "1     Osborne House,Isle of Wight,England  \n",
              "2        Windsor Castle,Berkshire,England  \n",
              "3      Friedrichshof,Near,Kronberg,Taunus  \n",
              "4        Buckingham,Palace,London,England  \n",
              "5                     Darmstadt,,,Germany  \n",
              "...                                   ...  \n",
              "3005                                  NaN  \n",
              "3006                                  NaN  \n",
              "3007                                  NaN  \n",
              "3008                                  NaN  \n",
              "3009                                  NaN  \n",
              "\n",
              "[3009 rows x 8 columns]"
            ]
          },
          "execution_count": 50,
          "metadata": {},
          "output_type": "execute_result"
        }
      ],
      "source": [
        "df = pd.read_csv('../Datasets/royal_line.csv', index_col='ID')\n",
        "# replace ALL NA first names with a fixed value:\n",
        "df['first_name'].fillna('no first name', inplace=True)\n",
        "df"
      ]
    },
    {
      "cell_type": "code",
      "execution_count": null,
      "id": "e0d4c834-1b68-49a0-afc1-b679de106fb8",
      "metadata": {
        "id": "e0d4c834-1b68-49a0-afc1-b679de106fb8",
        "outputId": "4702427c-fe13-43e2-ce58-d366d115339b"
      },
      "outputs": [
        {
          "data": {
            "text/html": [
              "<div>\n",
              "<style scoped>\n",
              "    .dataframe tbody tr th:only-of-type {\n",
              "        vertical-align: middle;\n",
              "    }\n",
              "\n",
              "    .dataframe tbody tr th {\n",
              "        vertical-align: top;\n",
              "    }\n",
              "\n",
              "    .dataframe thead th {\n",
              "        text-align: right;\n",
              "    }\n",
              "</style>\n",
              "<table border=\"1\" class=\"dataframe\">\n",
              "  <thead>\n",
              "    <tr style=\"text-align: right;\">\n",
              "      <th></th>\n",
              "      <th>first_name</th>\n",
              "      <th>last_name</th>\n",
              "      <th>sex</th>\n",
              "      <th>title</th>\n",
              "      <th>birth_date</th>\n",
              "      <th>birth_place</th>\n",
              "      <th>death_date</th>\n",
              "      <th>death_place</th>\n",
              "    </tr>\n",
              "    <tr>\n",
              "      <th>ID</th>\n",
              "      <th></th>\n",
              "      <th></th>\n",
              "      <th></th>\n",
              "      <th></th>\n",
              "      <th></th>\n",
              "      <th></th>\n",
              "      <th></th>\n",
              "      <th></th>\n",
              "    </tr>\n",
              "  </thead>\n",
              "  <tbody>\n",
              "    <tr>\n",
              "      <th>1</th>\n",
              "      <td>Victoria</td>\n",
              "      <td>Hanover</td>\n",
              "      <td>F</td>\n",
              "      <td>Queen of England</td>\n",
              "      <td>24 MAY 1819</td>\n",
              "      <td>Kensington,Palace,London,England</td>\n",
              "      <td>22 JAN 1901</td>\n",
              "      <td>Osborne House,Isle of Wight,England</td>\n",
              "    </tr>\n",
              "    <tr>\n",
              "      <th>2</th>\n",
              "      <td>Albert Augustus Charles</td>\n",
              "      <td>no_last_name</td>\n",
              "      <td>M</td>\n",
              "      <td>Prince</td>\n",
              "      <td>26 AUG 1819</td>\n",
              "      <td>Schloss Rosenau,Near Coburg,Germany</td>\n",
              "      <td>14 DEC 1861</td>\n",
              "      <td>Windsor Castle,Berkshire,England</td>\n",
              "    </tr>\n",
              "    <tr>\n",
              "      <th>3</th>\n",
              "      <td>Victoria Adelaide Mary</td>\n",
              "      <td>no_last_name</td>\n",
              "      <td>F</td>\n",
              "      <td>Princess Royal</td>\n",
              "      <td>21 NOV 1840</td>\n",
              "      <td>Buckingham,Palace,London,England</td>\n",
              "      <td>5 AUG 1901</td>\n",
              "      <td>Friedrichshof,Near,Kronberg,Taunus</td>\n",
              "    </tr>\n",
              "    <tr>\n",
              "      <th>4</th>\n",
              "      <td>Edward_VII</td>\n",
              "      <td>Wettin</td>\n",
              "      <td>M</td>\n",
              "      <td>King of England</td>\n",
              "      <td>9 NOV 1841</td>\n",
              "      <td>Buckingham,Palace,London,England</td>\n",
              "      <td>6 MAY 1910</td>\n",
              "      <td>Buckingham,Palace,London,England</td>\n",
              "    </tr>\n",
              "    <tr>\n",
              "      <th>5</th>\n",
              "      <td>Alice Maud Mary</td>\n",
              "      <td>no_last_name</td>\n",
              "      <td>F</td>\n",
              "      <td>Princess</td>\n",
              "      <td>25 APR 1843</td>\n",
              "      <td>Buckingham,Palace,London,England</td>\n",
              "      <td>14 DEC 1878</td>\n",
              "      <td>Darmstadt,,,Germany</td>\n",
              "    </tr>\n",
              "    <tr>\n",
              "      <th>...</th>\n",
              "      <td>...</td>\n",
              "      <td>...</td>\n",
              "      <td>...</td>\n",
              "      <td>...</td>\n",
              "      <td>...</td>\n",
              "      <td>...</td>\n",
              "      <td>...</td>\n",
              "      <td>...</td>\n",
              "    </tr>\n",
              "    <tr>\n",
              "      <th>3005</th>\n",
              "      <td>Emily</td>\n",
              "      <td>Scobell</td>\n",
              "      <td>F</td>\n",
              "      <td>no_title</td>\n",
              "      <td>no_birth_date</td>\n",
              "      <td>no_birth_place</td>\n",
              "      <td>no_death_date</td>\n",
              "      <td>no_death_place</td>\n",
              "    </tr>\n",
              "    <tr>\n",
              "      <th>3006</th>\n",
              "      <td>John Sanford</td>\n",
              "      <td>Scobell</td>\n",
              "      <td>M</td>\n",
              "      <td>Sir</td>\n",
              "      <td>1879</td>\n",
              "      <td>no_birth_place</td>\n",
              "      <td>no_death_date</td>\n",
              "      <td>no_death_place</td>\n",
              "    </tr>\n",
              "    <tr>\n",
              "      <th>3007</th>\n",
              "      <td>James</td>\n",
              "      <td>Cartland</td>\n",
              "      <td>M</td>\n",
              "      <td>no_title</td>\n",
              "      <td>no_birth_date</td>\n",
              "      <td>no_birth_place</td>\n",
              "      <td>no_death_date</td>\n",
              "      <td>no_death_place</td>\n",
              "    </tr>\n",
              "    <tr>\n",
              "      <th>3008</th>\n",
              "      <td>Flora</td>\n",
              "      <td>no_last_name</td>\n",
              "      <td>F</td>\n",
              "      <td>no_title</td>\n",
              "      <td>no_birth_date</td>\n",
              "      <td>no_birth_place</td>\n",
              "      <td>no_death_date</td>\n",
              "      <td>no_death_place</td>\n",
              "    </tr>\n",
              "    <tr>\n",
              "      <th>3009</th>\n",
              "      <td>no_first_name</td>\n",
              "      <td>Cartland</td>\n",
              "      <td>F</td>\n",
              "      <td>no_title</td>\n",
              "      <td>no_birth_date</td>\n",
              "      <td>no_birth_place</td>\n",
              "      <td>ABT    1911</td>\n",
              "      <td>no_death_place</td>\n",
              "    </tr>\n",
              "  </tbody>\n",
              "</table>\n",
              "<p>3009 rows × 8 columns</p>\n",
              "</div>"
            ],
            "text/plain": [
              "                   first_name     last_name sex             title  \\\n",
              "ID                                                                  \n",
              "1                    Victoria       Hanover   F  Queen of England   \n",
              "2     Albert Augustus Charles  no_last_name   M            Prince   \n",
              "3      Victoria Adelaide Mary  no_last_name   F    Princess Royal   \n",
              "4                  Edward_VII        Wettin   M   King of England   \n",
              "5             Alice Maud Mary  no_last_name   F          Princess   \n",
              "...                       ...           ...  ..               ...   \n",
              "3005                    Emily       Scobell   F          no_title   \n",
              "3006             John Sanford       Scobell   M               Sir   \n",
              "3007                    James      Cartland   M          no_title   \n",
              "3008                    Flora  no_last_name   F          no_title   \n",
              "3009            no_first_name      Cartland   F          no_title   \n",
              "\n",
              "         birth_date                          birth_place     death_date  \\\n",
              "ID                                                                        \n",
              "1       24 MAY 1819     Kensington,Palace,London,England    22 JAN 1901   \n",
              "2       26 AUG 1819  Schloss Rosenau,Near Coburg,Germany    14 DEC 1861   \n",
              "3       21 NOV 1840     Buckingham,Palace,London,England     5 AUG 1901   \n",
              "4        9 NOV 1841     Buckingham,Palace,London,England     6 MAY 1910   \n",
              "5       25 APR 1843     Buckingham,Palace,London,England    14 DEC 1878   \n",
              "...             ...                                  ...            ...   \n",
              "3005  no_birth_date                       no_birth_place  no_death_date   \n",
              "3006           1879                       no_birth_place  no_death_date   \n",
              "3007  no_birth_date                       no_birth_place  no_death_date   \n",
              "3008  no_birth_date                       no_birth_place  no_death_date   \n",
              "3009  no_birth_date                       no_birth_place    ABT    1911   \n",
              "\n",
              "                              death_place  \n",
              "ID                                         \n",
              "1     Osborne House,Isle of Wight,England  \n",
              "2        Windsor Castle,Berkshire,England  \n",
              "3      Friedrichshof,Near,Kronberg,Taunus  \n",
              "4        Buckingham,Palace,London,England  \n",
              "5                     Darmstadt,,,Germany  \n",
              "...                                   ...  \n",
              "3005                       no_death_place  \n",
              "3006                       no_death_place  \n",
              "3007                       no_death_place  \n",
              "3008                       no_death_place  \n",
              "3009                       no_death_place  \n",
              "\n",
              "[3009 rows x 8 columns]"
            ]
          },
          "execution_count": 51,
          "metadata": {},
          "output_type": "execute_result"
        }
      ],
      "source": [
        "df = pd.read_csv('../Datasets/royal_line.csv', index_col='ID')\n",
        "# replace specific columns with specific values:\n",
        "values = {'first_name': 'no_first_name', 'last_name': 'no_last_name', 'sex': 'no_sex', 'title': 'no_title', 'birth_date': 'no_birth_date', 'birth_place': 'no_birth_place', 'death_date': 'no_death_date', 'death_place': 'no_death_place'}\n",
        "df.fillna(value=values, inplace=True)\n",
        "df"
      ]
    },
    {
      "cell_type": "code",
      "execution_count": null,
      "id": "3723f77a-c590-4b09-8498-d93e1943aac3",
      "metadata": {
        "id": "3723f77a-c590-4b09-8498-d93e1943aac3",
        "outputId": "d7c65c03-9f63-47d5-898e-6f2f84021009"
      },
      "outputs": [
        {
          "data": {
            "text/html": [
              "<div>\n",
              "<style scoped>\n",
              "    .dataframe tbody tr th:only-of-type {\n",
              "        vertical-align: middle;\n",
              "    }\n",
              "\n",
              "    .dataframe tbody tr th {\n",
              "        vertical-align: top;\n",
              "    }\n",
              "\n",
              "    .dataframe thead th {\n",
              "        text-align: right;\n",
              "    }\n",
              "</style>\n",
              "<table border=\"1\" class=\"dataframe\">\n",
              "  <thead>\n",
              "    <tr style=\"text-align: right;\">\n",
              "      <th></th>\n",
              "      <th>first_name</th>\n",
              "      <th>last_name</th>\n",
              "      <th>sex</th>\n",
              "      <th>title</th>\n",
              "      <th>birth_date</th>\n",
              "      <th>birth_place</th>\n",
              "      <th>death_date</th>\n",
              "      <th>death_place</th>\n",
              "    </tr>\n",
              "    <tr>\n",
              "      <th>ID</th>\n",
              "      <th></th>\n",
              "      <th></th>\n",
              "      <th></th>\n",
              "      <th></th>\n",
              "      <th></th>\n",
              "      <th></th>\n",
              "      <th></th>\n",
              "      <th></th>\n",
              "    </tr>\n",
              "  </thead>\n",
              "  <tbody>\n",
              "    <tr>\n",
              "      <th>1</th>\n",
              "      <td>Victoria</td>\n",
              "      <td>Hanover</td>\n",
              "      <td>F</td>\n",
              "      <td>Queen of England</td>\n",
              "      <td>24 MAY 1819</td>\n",
              "      <td>Kensington,Palace,London,England</td>\n",
              "      <td>22 JAN 1901</td>\n",
              "      <td>Osborne House,Isle of Wight,England</td>\n",
              "    </tr>\n",
              "    <tr>\n",
              "      <th>2</th>\n",
              "      <td>Albert Augustus Charles</td>\n",
              "      <td>Hanover</td>\n",
              "      <td>M</td>\n",
              "      <td>Prince</td>\n",
              "      <td>26 AUG 1819</td>\n",
              "      <td>Schloss Rosenau,Near Coburg,Germany</td>\n",
              "      <td>14 DEC 1861</td>\n",
              "      <td>Windsor Castle,Berkshire,England</td>\n",
              "    </tr>\n",
              "    <tr>\n",
              "      <th>3</th>\n",
              "      <td>Victoria Adelaide Mary</td>\n",
              "      <td>Hanover</td>\n",
              "      <td>F</td>\n",
              "      <td>Princess Royal</td>\n",
              "      <td>21 NOV 1840</td>\n",
              "      <td>Buckingham,Palace,London,England</td>\n",
              "      <td>5 AUG 1901</td>\n",
              "      <td>Friedrichshof,Near,Kronberg,Taunus</td>\n",
              "    </tr>\n",
              "    <tr>\n",
              "      <th>4</th>\n",
              "      <td>Edward_VII</td>\n",
              "      <td>Wettin</td>\n",
              "      <td>M</td>\n",
              "      <td>King of England</td>\n",
              "      <td>9 NOV 1841</td>\n",
              "      <td>Buckingham,Palace,London,England</td>\n",
              "      <td>6 MAY 1910</td>\n",
              "      <td>Buckingham,Palace,London,England</td>\n",
              "    </tr>\n",
              "    <tr>\n",
              "      <th>5</th>\n",
              "      <td>Alice Maud Mary</td>\n",
              "      <td>Wettin</td>\n",
              "      <td>F</td>\n",
              "      <td>Princess</td>\n",
              "      <td>25 APR 1843</td>\n",
              "      <td>Buckingham,Palace,London,England</td>\n",
              "      <td>14 DEC 1878</td>\n",
              "      <td>Darmstadt,,,Germany</td>\n",
              "    </tr>\n",
              "    <tr>\n",
              "      <th>...</th>\n",
              "      <td>...</td>\n",
              "      <td>...</td>\n",
              "      <td>...</td>\n",
              "      <td>...</td>\n",
              "      <td>...</td>\n",
              "      <td>...</td>\n",
              "      <td>...</td>\n",
              "      <td>...</td>\n",
              "    </tr>\n",
              "    <tr>\n",
              "      <th>3005</th>\n",
              "      <td>Emily</td>\n",
              "      <td>Scobell</td>\n",
              "      <td>F</td>\n",
              "      <td>Major</td>\n",
              "      <td>4 JAN 1912</td>\n",
              "      <td>Florence,Italy</td>\n",
              "      <td>BEF    1877</td>\n",
              "      <td>Nr Cassel,France</td>\n",
              "    </tr>\n",
              "    <tr>\n",
              "      <th>3006</th>\n",
              "      <td>John Sanford</td>\n",
              "      <td>Scobell</td>\n",
              "      <td>M</td>\n",
              "      <td>Sir</td>\n",
              "      <td>1879</td>\n",
              "      <td>Florence,Italy</td>\n",
              "      <td>BEF    1877</td>\n",
              "      <td>Nr Cassel,France</td>\n",
              "    </tr>\n",
              "    <tr>\n",
              "      <th>3007</th>\n",
              "      <td>James</td>\n",
              "      <td>Cartland</td>\n",
              "      <td>M</td>\n",
              "      <td>Sir</td>\n",
              "      <td>1879</td>\n",
              "      <td>Florence,Italy</td>\n",
              "      <td>BEF    1877</td>\n",
              "      <td>Nr Cassel,France</td>\n",
              "    </tr>\n",
              "    <tr>\n",
              "      <th>3008</th>\n",
              "      <td>Flora</td>\n",
              "      <td>Cartland</td>\n",
              "      <td>F</td>\n",
              "      <td>Sir</td>\n",
              "      <td>1879</td>\n",
              "      <td>Florence,Italy</td>\n",
              "      <td>BEF    1877</td>\n",
              "      <td>Nr Cassel,France</td>\n",
              "    </tr>\n",
              "    <tr>\n",
              "      <th>3009</th>\n",
              "      <td>Flora</td>\n",
              "      <td>Cartland</td>\n",
              "      <td>F</td>\n",
              "      <td>Sir</td>\n",
              "      <td>1879</td>\n",
              "      <td>Florence,Italy</td>\n",
              "      <td>ABT    1911</td>\n",
              "      <td>Nr Cassel,France</td>\n",
              "    </tr>\n",
              "  </tbody>\n",
              "</table>\n",
              "<p>3009 rows × 8 columns</p>\n",
              "</div>"
            ],
            "text/plain": [
              "                   first_name last_name sex             title   birth_date  \\\n",
              "ID                                                                           \n",
              "1                    Victoria   Hanover   F  Queen of England  24 MAY 1819   \n",
              "2     Albert Augustus Charles   Hanover   M            Prince  26 AUG 1819   \n",
              "3      Victoria Adelaide Mary   Hanover   F    Princess Royal  21 NOV 1840   \n",
              "4                  Edward_VII    Wettin   M   King of England   9 NOV 1841   \n",
              "5             Alice Maud Mary    Wettin   F          Princess  25 APR 1843   \n",
              "...                       ...       ...  ..               ...          ...   \n",
              "3005                    Emily   Scobell   F             Major   4 JAN 1912   \n",
              "3006             John Sanford   Scobell   M               Sir         1879   \n",
              "3007                    James  Cartland   M               Sir         1879   \n",
              "3008                    Flora  Cartland   F               Sir         1879   \n",
              "3009                    Flora  Cartland   F               Sir         1879   \n",
              "\n",
              "                              birth_place   death_date  \\\n",
              "ID                                                       \n",
              "1        Kensington,Palace,London,England  22 JAN 1901   \n",
              "2     Schloss Rosenau,Near Coburg,Germany  14 DEC 1861   \n",
              "3        Buckingham,Palace,London,England   5 AUG 1901   \n",
              "4        Buckingham,Palace,London,England   6 MAY 1910   \n",
              "5        Buckingham,Palace,London,England  14 DEC 1878   \n",
              "...                                   ...          ...   \n",
              "3005                       Florence,Italy  BEF    1877   \n",
              "3006                       Florence,Italy  BEF    1877   \n",
              "3007                       Florence,Italy  BEF    1877   \n",
              "3008                       Florence,Italy  BEF    1877   \n",
              "3009                       Florence,Italy  ABT    1911   \n",
              "\n",
              "                              death_place  \n",
              "ID                                         \n",
              "1     Osborne House,Isle of Wight,England  \n",
              "2        Windsor Castle,Berkshire,England  \n",
              "3      Friedrichshof,Near,Kronberg,Taunus  \n",
              "4        Buckingham,Palace,London,England  \n",
              "5                     Darmstadt,,,Germany  \n",
              "...                                   ...  \n",
              "3005                     Nr Cassel,France  \n",
              "3006                     Nr Cassel,France  \n",
              "3007                     Nr Cassel,France  \n",
              "3008                     Nr Cassel,France  \n",
              "3009                     Nr Cassel,France  \n",
              "\n",
              "[3009 rows x 8 columns]"
            ]
          },
          "execution_count": 52,
          "metadata": {},
          "output_type": "execute_result"
        }
      ],
      "source": [
        "df = pd.read_csv('../Datasets/royal_line.csv', index_col='ID')\n",
        "# ffill and pad: from first row to last row, propagate the most recent row that # is not an NA forward until next valid row\n",
        "df.fillna(method='ffill', inplace=True)\n",
        "df"
      ]
    },
    {
      "cell_type": "code",
      "execution_count": null,
      "id": "4ce784cd-1220-49fb-914d-27e9db304852",
      "metadata": {
        "id": "4ce784cd-1220-49fb-914d-27e9db304852",
        "outputId": "2d844fee-af01-4769-d8ea-ee7e4c68d81f"
      },
      "outputs": [
        {
          "data": {
            "text/html": [
              "<div>\n",
              "<style scoped>\n",
              "    .dataframe tbody tr th:only-of-type {\n",
              "        vertical-align: middle;\n",
              "    }\n",
              "\n",
              "    .dataframe tbody tr th {\n",
              "        vertical-align: top;\n",
              "    }\n",
              "\n",
              "    .dataframe thead th {\n",
              "        text-align: right;\n",
              "    }\n",
              "</style>\n",
              "<table border=\"1\" class=\"dataframe\">\n",
              "  <thead>\n",
              "    <tr style=\"text-align: right;\">\n",
              "      <th></th>\n",
              "      <th>first_name</th>\n",
              "      <th>last_name</th>\n",
              "      <th>sex</th>\n",
              "      <th>title</th>\n",
              "      <th>birth_date</th>\n",
              "      <th>birth_place</th>\n",
              "      <th>death_date</th>\n",
              "      <th>death_place</th>\n",
              "    </tr>\n",
              "    <tr>\n",
              "      <th>ID</th>\n",
              "      <th></th>\n",
              "      <th></th>\n",
              "      <th></th>\n",
              "      <th></th>\n",
              "      <th></th>\n",
              "      <th></th>\n",
              "      <th></th>\n",
              "      <th></th>\n",
              "    </tr>\n",
              "  </thead>\n",
              "  <tbody>\n",
              "    <tr>\n",
              "      <th>1</th>\n",
              "      <td>Victoria</td>\n",
              "      <td>Hanover</td>\n",
              "      <td>F</td>\n",
              "      <td>Queen of England</td>\n",
              "      <td>24 MAY 1819</td>\n",
              "      <td>Kensington,Palace,London,England</td>\n",
              "      <td>22 JAN 1901</td>\n",
              "      <td>Osborne House,Isle of Wight,England</td>\n",
              "    </tr>\n",
              "    <tr>\n",
              "      <th>2</th>\n",
              "      <td>Albert Augustus Charles</td>\n",
              "      <td>Wettin</td>\n",
              "      <td>M</td>\n",
              "      <td>Prince</td>\n",
              "      <td>26 AUG 1819</td>\n",
              "      <td>Schloss Rosenau,Near Coburg,Germany</td>\n",
              "      <td>14 DEC 1861</td>\n",
              "      <td>Windsor Castle,Berkshire,England</td>\n",
              "    </tr>\n",
              "    <tr>\n",
              "      <th>3</th>\n",
              "      <td>Victoria Adelaide Mary</td>\n",
              "      <td>Wettin</td>\n",
              "      <td>F</td>\n",
              "      <td>Princess Royal</td>\n",
              "      <td>21 NOV 1840</td>\n",
              "      <td>Buckingham,Palace,London,England</td>\n",
              "      <td>5 AUG 1901</td>\n",
              "      <td>Friedrichshof,Near,Kronberg,Taunus</td>\n",
              "    </tr>\n",
              "    <tr>\n",
              "      <th>4</th>\n",
              "      <td>Edward_VII</td>\n",
              "      <td>Wettin</td>\n",
              "      <td>M</td>\n",
              "      <td>King of England</td>\n",
              "      <td>9 NOV 1841</td>\n",
              "      <td>Buckingham,Palace,London,England</td>\n",
              "      <td>6 MAY 1910</td>\n",
              "      <td>Buckingham,Palace,London,England</td>\n",
              "    </tr>\n",
              "    <tr>\n",
              "      <th>5</th>\n",
              "      <td>Alice Maud Mary</td>\n",
              "      <td>Windsor</td>\n",
              "      <td>F</td>\n",
              "      <td>Princess</td>\n",
              "      <td>25 APR 1843</td>\n",
              "      <td>Buckingham,Palace,London,England</td>\n",
              "      <td>14 DEC 1878</td>\n",
              "      <td>Darmstadt,,,Germany</td>\n",
              "    </tr>\n",
              "    <tr>\n",
              "      <th>...</th>\n",
              "      <td>...</td>\n",
              "      <td>...</td>\n",
              "      <td>...</td>\n",
              "      <td>...</td>\n",
              "      <td>...</td>\n",
              "      <td>...</td>\n",
              "      <td>...</td>\n",
              "      <td>...</td>\n",
              "    </tr>\n",
              "    <tr>\n",
              "      <th>3005</th>\n",
              "      <td>Emily</td>\n",
              "      <td>Scobell</td>\n",
              "      <td>F</td>\n",
              "      <td>Sir</td>\n",
              "      <td>1879</td>\n",
              "      <td>NaN</td>\n",
              "      <td>ABT    1911</td>\n",
              "      <td>NaN</td>\n",
              "    </tr>\n",
              "    <tr>\n",
              "      <th>3006</th>\n",
              "      <td>John Sanford</td>\n",
              "      <td>Scobell</td>\n",
              "      <td>M</td>\n",
              "      <td>Sir</td>\n",
              "      <td>1879</td>\n",
              "      <td>NaN</td>\n",
              "      <td>ABT    1911</td>\n",
              "      <td>NaN</td>\n",
              "    </tr>\n",
              "    <tr>\n",
              "      <th>3007</th>\n",
              "      <td>James</td>\n",
              "      <td>Cartland</td>\n",
              "      <td>M</td>\n",
              "      <td>NaN</td>\n",
              "      <td>NaN</td>\n",
              "      <td>NaN</td>\n",
              "      <td>ABT    1911</td>\n",
              "      <td>NaN</td>\n",
              "    </tr>\n",
              "    <tr>\n",
              "      <th>3008</th>\n",
              "      <td>Flora</td>\n",
              "      <td>Cartland</td>\n",
              "      <td>F</td>\n",
              "      <td>NaN</td>\n",
              "      <td>NaN</td>\n",
              "      <td>NaN</td>\n",
              "      <td>ABT    1911</td>\n",
              "      <td>NaN</td>\n",
              "    </tr>\n",
              "    <tr>\n",
              "      <th>3009</th>\n",
              "      <td>NaN</td>\n",
              "      <td>Cartland</td>\n",
              "      <td>F</td>\n",
              "      <td>NaN</td>\n",
              "      <td>NaN</td>\n",
              "      <td>NaN</td>\n",
              "      <td>ABT    1911</td>\n",
              "      <td>NaN</td>\n",
              "    </tr>\n",
              "  </tbody>\n",
              "</table>\n",
              "<p>3009 rows × 8 columns</p>\n",
              "</div>"
            ],
            "text/plain": [
              "                   first_name last_name sex             title   birth_date  \\\n",
              "ID                                                                           \n",
              "1                    Victoria   Hanover   F  Queen of England  24 MAY 1819   \n",
              "2     Albert Augustus Charles    Wettin   M            Prince  26 AUG 1819   \n",
              "3      Victoria Adelaide Mary    Wettin   F    Princess Royal  21 NOV 1840   \n",
              "4                  Edward_VII    Wettin   M   King of England   9 NOV 1841   \n",
              "5             Alice Maud Mary   Windsor   F          Princess  25 APR 1843   \n",
              "...                       ...       ...  ..               ...          ...   \n",
              "3005                    Emily   Scobell   F               Sir         1879   \n",
              "3006             John Sanford   Scobell   M               Sir         1879   \n",
              "3007                    James  Cartland   M               NaN          NaN   \n",
              "3008                    Flora  Cartland   F               NaN          NaN   \n",
              "3009                      NaN  Cartland   F               NaN          NaN   \n",
              "\n",
              "                              birth_place   death_date  \\\n",
              "ID                                                       \n",
              "1        Kensington,Palace,London,England  22 JAN 1901   \n",
              "2     Schloss Rosenau,Near Coburg,Germany  14 DEC 1861   \n",
              "3        Buckingham,Palace,London,England   5 AUG 1901   \n",
              "4        Buckingham,Palace,London,England   6 MAY 1910   \n",
              "5        Buckingham,Palace,London,England  14 DEC 1878   \n",
              "...                                   ...          ...   \n",
              "3005                                  NaN  ABT    1911   \n",
              "3006                                  NaN  ABT    1911   \n",
              "3007                                  NaN  ABT    1911   \n",
              "3008                                  NaN  ABT    1911   \n",
              "3009                                  NaN  ABT    1911   \n",
              "\n",
              "                              death_place  \n",
              "ID                                         \n",
              "1     Osborne House,Isle of Wight,England  \n",
              "2        Windsor Castle,Berkshire,England  \n",
              "3      Friedrichshof,Near,Kronberg,Taunus  \n",
              "4        Buckingham,Palace,London,England  \n",
              "5                     Darmstadt,,,Germany  \n",
              "...                                   ...  \n",
              "3005                                  NaN  \n",
              "3006                                  NaN  \n",
              "3007                                  NaN  \n",
              "3008                                  NaN  \n",
              "3009                                  NaN  \n",
              "\n",
              "[3009 rows x 8 columns]"
            ]
          },
          "execution_count": 53,
          "metadata": {},
          "output_type": "execute_result"
        }
      ],
      "source": [
        "df = pd.read_csv('../Datasets/royal_line.csv', index_col='ID')\n",
        "# bfill and backfill: like ffill, except from last row to first row\n",
        "df.fillna(method='bfill', inplace=True)\n",
        "df"
      ]
    },
    {
      "cell_type": "markdown",
      "id": "fcadf24b-fc15-4385-893e-ca66818332e0",
      "metadata": {
        "id": "fcadf24b-fc15-4385-893e-ca66818332e0"
      },
      "source": [
        "We can also create new columns from existing ones. For example:"
      ]
    },
    {
      "cell_type": "code",
      "execution_count": null,
      "id": "4c470389-3fb9-411c-b7e8-25bb09899a13",
      "metadata": {
        "id": "4c470389-3fb9-411c-b7e8-25bb09899a13",
        "outputId": "462334c5-46ce-4dd6-d456-b76dc59fe24a"
      },
      "outputs": [
        {
          "data": {
            "text/html": [
              "<div>\n",
              "<style scoped>\n",
              "    .dataframe tbody tr th:only-of-type {\n",
              "        vertical-align: middle;\n",
              "    }\n",
              "\n",
              "    .dataframe tbody tr th {\n",
              "        vertical-align: top;\n",
              "    }\n",
              "\n",
              "    .dataframe thead th {\n",
              "        text-align: right;\n",
              "    }\n",
              "</style>\n",
              "<table border=\"1\" class=\"dataframe\">\n",
              "  <thead>\n",
              "    <tr style=\"text-align: right;\">\n",
              "      <th></th>\n",
              "      <th>first_name</th>\n",
              "      <th>last_name</th>\n",
              "      <th>sex</th>\n",
              "      <th>title</th>\n",
              "      <th>birth_date</th>\n",
              "      <th>birth_place</th>\n",
              "      <th>death_date</th>\n",
              "      <th>death_place</th>\n",
              "      <th>full_name</th>\n",
              "    </tr>\n",
              "    <tr>\n",
              "      <th>ID</th>\n",
              "      <th></th>\n",
              "      <th></th>\n",
              "      <th></th>\n",
              "      <th></th>\n",
              "      <th></th>\n",
              "      <th></th>\n",
              "      <th></th>\n",
              "      <th></th>\n",
              "      <th></th>\n",
              "    </tr>\n",
              "  </thead>\n",
              "  <tbody>\n",
              "    <tr>\n",
              "      <th>1</th>\n",
              "      <td>Victoria</td>\n",
              "      <td>Hanover</td>\n",
              "      <td>F</td>\n",
              "      <td>Queen of England</td>\n",
              "      <td>24 MAY 1819</td>\n",
              "      <td>Kensington,Palace,London,England</td>\n",
              "      <td>22 JAN 1901</td>\n",
              "      <td>Osborne House,Isle of Wight,England</td>\n",
              "      <td>Victoria Hanover</td>\n",
              "    </tr>\n",
              "    <tr>\n",
              "      <th>2</th>\n",
              "      <td>Albert Augustus Charles</td>\n",
              "      <td>NaN</td>\n",
              "      <td>M</td>\n",
              "      <td>Prince</td>\n",
              "      <td>26 AUG 1819</td>\n",
              "      <td>Schloss Rosenau,Near Coburg,Germany</td>\n",
              "      <td>14 DEC 1861</td>\n",
              "      <td>Windsor Castle,Berkshire,England</td>\n",
              "      <td>NaN</td>\n",
              "    </tr>\n",
              "    <tr>\n",
              "      <th>3</th>\n",
              "      <td>Victoria Adelaide Mary</td>\n",
              "      <td>NaN</td>\n",
              "      <td>F</td>\n",
              "      <td>Princess Royal</td>\n",
              "      <td>21 NOV 1840</td>\n",
              "      <td>Buckingham,Palace,London,England</td>\n",
              "      <td>5 AUG 1901</td>\n",
              "      <td>Friedrichshof,Near,Kronberg,Taunus</td>\n",
              "      <td>NaN</td>\n",
              "    </tr>\n",
              "    <tr>\n",
              "      <th>4</th>\n",
              "      <td>Edward_VII</td>\n",
              "      <td>Wettin</td>\n",
              "      <td>M</td>\n",
              "      <td>King of England</td>\n",
              "      <td>9 NOV 1841</td>\n",
              "      <td>Buckingham,Palace,London,England</td>\n",
              "      <td>6 MAY 1910</td>\n",
              "      <td>Buckingham,Palace,London,England</td>\n",
              "      <td>Edward_VII Wettin</td>\n",
              "    </tr>\n",
              "    <tr>\n",
              "      <th>5</th>\n",
              "      <td>Alice Maud Mary</td>\n",
              "      <td>NaN</td>\n",
              "      <td>F</td>\n",
              "      <td>Princess</td>\n",
              "      <td>25 APR 1843</td>\n",
              "      <td>Buckingham,Palace,London,England</td>\n",
              "      <td>14 DEC 1878</td>\n",
              "      <td>Darmstadt,,,Germany</td>\n",
              "      <td>NaN</td>\n",
              "    </tr>\n",
              "    <tr>\n",
              "      <th>...</th>\n",
              "      <td>...</td>\n",
              "      <td>...</td>\n",
              "      <td>...</td>\n",
              "      <td>...</td>\n",
              "      <td>...</td>\n",
              "      <td>...</td>\n",
              "      <td>...</td>\n",
              "      <td>...</td>\n",
              "      <td>...</td>\n",
              "    </tr>\n",
              "    <tr>\n",
              "      <th>3005</th>\n",
              "      <td>Emily</td>\n",
              "      <td>Scobell</td>\n",
              "      <td>F</td>\n",
              "      <td>NaN</td>\n",
              "      <td>NaN</td>\n",
              "      <td>NaN</td>\n",
              "      <td>NaN</td>\n",
              "      <td>NaN</td>\n",
              "      <td>Emily Scobell</td>\n",
              "    </tr>\n",
              "    <tr>\n",
              "      <th>3006</th>\n",
              "      <td>John Sanford</td>\n",
              "      <td>Scobell</td>\n",
              "      <td>M</td>\n",
              "      <td>Sir</td>\n",
              "      <td>1879</td>\n",
              "      <td>NaN</td>\n",
              "      <td>NaN</td>\n",
              "      <td>NaN</td>\n",
              "      <td>John Sanford Scobell</td>\n",
              "    </tr>\n",
              "    <tr>\n",
              "      <th>3007</th>\n",
              "      <td>James</td>\n",
              "      <td>Cartland</td>\n",
              "      <td>M</td>\n",
              "      <td>NaN</td>\n",
              "      <td>NaN</td>\n",
              "      <td>NaN</td>\n",
              "      <td>NaN</td>\n",
              "      <td>NaN</td>\n",
              "      <td>James Cartland</td>\n",
              "    </tr>\n",
              "    <tr>\n",
              "      <th>3008</th>\n",
              "      <td>Flora</td>\n",
              "      <td>NaN</td>\n",
              "      <td>F</td>\n",
              "      <td>NaN</td>\n",
              "      <td>NaN</td>\n",
              "      <td>NaN</td>\n",
              "      <td>NaN</td>\n",
              "      <td>NaN</td>\n",
              "      <td>NaN</td>\n",
              "    </tr>\n",
              "    <tr>\n",
              "      <th>3009</th>\n",
              "      <td>NaN</td>\n",
              "      <td>Cartland</td>\n",
              "      <td>F</td>\n",
              "      <td>NaN</td>\n",
              "      <td>NaN</td>\n",
              "      <td>NaN</td>\n",
              "      <td>ABT    1911</td>\n",
              "      <td>NaN</td>\n",
              "      <td>NaN</td>\n",
              "    </tr>\n",
              "  </tbody>\n",
              "</table>\n",
              "<p>3009 rows × 9 columns</p>\n",
              "</div>"
            ],
            "text/plain": [
              "                   first_name last_name sex             title   birth_date  \\\n",
              "ID                                                                           \n",
              "1                    Victoria   Hanover   F  Queen of England  24 MAY 1819   \n",
              "2     Albert Augustus Charles       NaN   M            Prince  26 AUG 1819   \n",
              "3      Victoria Adelaide Mary       NaN   F    Princess Royal  21 NOV 1840   \n",
              "4                  Edward_VII    Wettin   M   King of England   9 NOV 1841   \n",
              "5             Alice Maud Mary       NaN   F          Princess  25 APR 1843   \n",
              "...                       ...       ...  ..               ...          ...   \n",
              "3005                    Emily   Scobell   F               NaN          NaN   \n",
              "3006             John Sanford   Scobell   M               Sir         1879   \n",
              "3007                    James  Cartland   M               NaN          NaN   \n",
              "3008                    Flora       NaN   F               NaN          NaN   \n",
              "3009                      NaN  Cartland   F               NaN          NaN   \n",
              "\n",
              "                              birth_place   death_date  \\\n",
              "ID                                                       \n",
              "1        Kensington,Palace,London,England  22 JAN 1901   \n",
              "2     Schloss Rosenau,Near Coburg,Germany  14 DEC 1861   \n",
              "3        Buckingham,Palace,London,England   5 AUG 1901   \n",
              "4        Buckingham,Palace,London,England   6 MAY 1910   \n",
              "5        Buckingham,Palace,London,England  14 DEC 1878   \n",
              "...                                   ...          ...   \n",
              "3005                                  NaN          NaN   \n",
              "3006                                  NaN          NaN   \n",
              "3007                                  NaN          NaN   \n",
              "3008                                  NaN          NaN   \n",
              "3009                                  NaN  ABT    1911   \n",
              "\n",
              "                              death_place             full_name  \n",
              "ID                                                               \n",
              "1     Osborne House,Isle of Wight,England      Victoria Hanover  \n",
              "2        Windsor Castle,Berkshire,England                   NaN  \n",
              "3      Friedrichshof,Near,Kronberg,Taunus                   NaN  \n",
              "4        Buckingham,Palace,London,England     Edward_VII Wettin  \n",
              "5                     Darmstadt,,,Germany                   NaN  \n",
              "...                                   ...                   ...  \n",
              "3005                                  NaN         Emily Scobell  \n",
              "3006                                  NaN  John Sanford Scobell  \n",
              "3007                                  NaN        James Cartland  \n",
              "3008                                  NaN                   NaN  \n",
              "3009                                  NaN                   NaN  \n",
              "\n",
              "[3009 rows x 9 columns]"
            ]
          },
          "execution_count": 55,
          "metadata": {},
          "output_type": "execute_result"
        }
      ],
      "source": [
        "df = pd.read_csv('../Datasets/royal_line.csv', index_col='ID')\n",
        "df['full_name'] = df['first_name'] + ' ' + df['last_name']\n",
        "df"
      ]
    },
    {
      "cell_type": "markdown",
      "id": "25f4479a-72d6-4984-9b65-9c55063c130a",
      "metadata": {
        "id": "25f4479a-72d6-4984-9b65-9c55063c130a"
      },
      "source": [
        "This illustrates a problem. Anytime we have an NaN value, the string concatenation is also NaN. How could we get around this? Well, we could create our own specific function that handles this, and then apply that to our dataframe:"
      ]
    },
    {
      "cell_type": "code",
      "execution_count": null,
      "id": "eabbdfde-574e-43de-831a-75d37fe41f1a",
      "metadata": {
        "id": "eabbdfde-574e-43de-831a-75d37fe41f1a",
        "outputId": "b1f9381a-d64f-4ec8-fbde-b5b30e6ecb98"
      },
      "outputs": [
        {
          "data": {
            "text/html": [
              "<div>\n",
              "<style scoped>\n",
              "    .dataframe tbody tr th:only-of-type {\n",
              "        vertical-align: middle;\n",
              "    }\n",
              "\n",
              "    .dataframe tbody tr th {\n",
              "        vertical-align: top;\n",
              "    }\n",
              "\n",
              "    .dataframe thead th {\n",
              "        text-align: right;\n",
              "    }\n",
              "</style>\n",
              "<table border=\"1\" class=\"dataframe\">\n",
              "  <thead>\n",
              "    <tr style=\"text-align: right;\">\n",
              "      <th></th>\n",
              "      <th>first_name</th>\n",
              "      <th>last_name</th>\n",
              "      <th>sex</th>\n",
              "      <th>title</th>\n",
              "      <th>birth_date</th>\n",
              "      <th>birth_place</th>\n",
              "      <th>death_date</th>\n",
              "      <th>death_place</th>\n",
              "      <th>full_name</th>\n",
              "    </tr>\n",
              "    <tr>\n",
              "      <th>ID</th>\n",
              "      <th></th>\n",
              "      <th></th>\n",
              "      <th></th>\n",
              "      <th></th>\n",
              "      <th></th>\n",
              "      <th></th>\n",
              "      <th></th>\n",
              "      <th></th>\n",
              "      <th></th>\n",
              "    </tr>\n",
              "  </thead>\n",
              "  <tbody>\n",
              "    <tr>\n",
              "      <th>1</th>\n",
              "      <td>Victoria</td>\n",
              "      <td>Hanover</td>\n",
              "      <td>F</td>\n",
              "      <td>Queen of England</td>\n",
              "      <td>24 MAY 1819</td>\n",
              "      <td>Kensington,Palace,London,England</td>\n",
              "      <td>22 JAN 1901</td>\n",
              "      <td>Osborne House,Isle of Wight,England</td>\n",
              "      <td>Victoria Hanover</td>\n",
              "    </tr>\n",
              "    <tr>\n",
              "      <th>2</th>\n",
              "      <td>Albert Augustus Charles</td>\n",
              "      <td>NaN</td>\n",
              "      <td>M</td>\n",
              "      <td>Prince</td>\n",
              "      <td>26 AUG 1819</td>\n",
              "      <td>Schloss Rosenau,Near Coburg,Germany</td>\n",
              "      <td>14 DEC 1861</td>\n",
              "      <td>Windsor Castle,Berkshire,England</td>\n",
              "      <td>Albert Augustus Charles</td>\n",
              "    </tr>\n",
              "    <tr>\n",
              "      <th>3</th>\n",
              "      <td>Victoria Adelaide Mary</td>\n",
              "      <td>NaN</td>\n",
              "      <td>F</td>\n",
              "      <td>Princess Royal</td>\n",
              "      <td>21 NOV 1840</td>\n",
              "      <td>Buckingham,Palace,London,England</td>\n",
              "      <td>5 AUG 1901</td>\n",
              "      <td>Friedrichshof,Near,Kronberg,Taunus</td>\n",
              "      <td>Victoria Adelaide Mary</td>\n",
              "    </tr>\n",
              "    <tr>\n",
              "      <th>4</th>\n",
              "      <td>Edward_VII</td>\n",
              "      <td>Wettin</td>\n",
              "      <td>M</td>\n",
              "      <td>King of England</td>\n",
              "      <td>9 NOV 1841</td>\n",
              "      <td>Buckingham,Palace,London,England</td>\n",
              "      <td>6 MAY 1910</td>\n",
              "      <td>Buckingham,Palace,London,England</td>\n",
              "      <td>Edward_VII Wettin</td>\n",
              "    </tr>\n",
              "    <tr>\n",
              "      <th>5</th>\n",
              "      <td>Alice Maud Mary</td>\n",
              "      <td>NaN</td>\n",
              "      <td>F</td>\n",
              "      <td>Princess</td>\n",
              "      <td>25 APR 1843</td>\n",
              "      <td>Buckingham,Palace,London,England</td>\n",
              "      <td>14 DEC 1878</td>\n",
              "      <td>Darmstadt,,,Germany</td>\n",
              "      <td>Alice Maud Mary</td>\n",
              "    </tr>\n",
              "    <tr>\n",
              "      <th>...</th>\n",
              "      <td>...</td>\n",
              "      <td>...</td>\n",
              "      <td>...</td>\n",
              "      <td>...</td>\n",
              "      <td>...</td>\n",
              "      <td>...</td>\n",
              "      <td>...</td>\n",
              "      <td>...</td>\n",
              "      <td>...</td>\n",
              "    </tr>\n",
              "    <tr>\n",
              "      <th>3005</th>\n",
              "      <td>Emily</td>\n",
              "      <td>Scobell</td>\n",
              "      <td>F</td>\n",
              "      <td>NaN</td>\n",
              "      <td>NaN</td>\n",
              "      <td>NaN</td>\n",
              "      <td>NaN</td>\n",
              "      <td>NaN</td>\n",
              "      <td>Emily Scobell</td>\n",
              "    </tr>\n",
              "    <tr>\n",
              "      <th>3006</th>\n",
              "      <td>John Sanford</td>\n",
              "      <td>Scobell</td>\n",
              "      <td>M</td>\n",
              "      <td>Sir</td>\n",
              "      <td>1879</td>\n",
              "      <td>NaN</td>\n",
              "      <td>NaN</td>\n",
              "      <td>NaN</td>\n",
              "      <td>John Sanford Scobell</td>\n",
              "    </tr>\n",
              "    <tr>\n",
              "      <th>3007</th>\n",
              "      <td>James</td>\n",
              "      <td>Cartland</td>\n",
              "      <td>M</td>\n",
              "      <td>NaN</td>\n",
              "      <td>NaN</td>\n",
              "      <td>NaN</td>\n",
              "      <td>NaN</td>\n",
              "      <td>NaN</td>\n",
              "      <td>James Cartland</td>\n",
              "    </tr>\n",
              "    <tr>\n",
              "      <th>3008</th>\n",
              "      <td>Flora</td>\n",
              "      <td>NaN</td>\n",
              "      <td>F</td>\n",
              "      <td>NaN</td>\n",
              "      <td>NaN</td>\n",
              "      <td>NaN</td>\n",
              "      <td>NaN</td>\n",
              "      <td>NaN</td>\n",
              "      <td>Flora</td>\n",
              "    </tr>\n",
              "    <tr>\n",
              "      <th>3009</th>\n",
              "      <td>NaN</td>\n",
              "      <td>Cartland</td>\n",
              "      <td>F</td>\n",
              "      <td>NaN</td>\n",
              "      <td>NaN</td>\n",
              "      <td>NaN</td>\n",
              "      <td>ABT    1911</td>\n",
              "      <td>NaN</td>\n",
              "      <td>Cartland</td>\n",
              "    </tr>\n",
              "  </tbody>\n",
              "</table>\n",
              "<p>3009 rows × 9 columns</p>\n",
              "</div>"
            ],
            "text/plain": [
              "                   first_name last_name sex             title   birth_date  \\\n",
              "ID                                                                           \n",
              "1                    Victoria   Hanover   F  Queen of England  24 MAY 1819   \n",
              "2     Albert Augustus Charles       NaN   M            Prince  26 AUG 1819   \n",
              "3      Victoria Adelaide Mary       NaN   F    Princess Royal  21 NOV 1840   \n",
              "4                  Edward_VII    Wettin   M   King of England   9 NOV 1841   \n",
              "5             Alice Maud Mary       NaN   F          Princess  25 APR 1843   \n",
              "...                       ...       ...  ..               ...          ...   \n",
              "3005                    Emily   Scobell   F               NaN          NaN   \n",
              "3006             John Sanford   Scobell   M               Sir         1879   \n",
              "3007                    James  Cartland   M               NaN          NaN   \n",
              "3008                    Flora       NaN   F               NaN          NaN   \n",
              "3009                      NaN  Cartland   F               NaN          NaN   \n",
              "\n",
              "                              birth_place   death_date  \\\n",
              "ID                                                       \n",
              "1        Kensington,Palace,London,England  22 JAN 1901   \n",
              "2     Schloss Rosenau,Near Coburg,Germany  14 DEC 1861   \n",
              "3        Buckingham,Palace,London,England   5 AUG 1901   \n",
              "4        Buckingham,Palace,London,England   6 MAY 1910   \n",
              "5        Buckingham,Palace,London,England  14 DEC 1878   \n",
              "...                                   ...          ...   \n",
              "3005                                  NaN          NaN   \n",
              "3006                                  NaN          NaN   \n",
              "3007                                  NaN          NaN   \n",
              "3008                                  NaN          NaN   \n",
              "3009                                  NaN  ABT    1911   \n",
              "\n",
              "                              death_place                full_name  \n",
              "ID                                                                  \n",
              "1     Osborne House,Isle of Wight,England         Victoria Hanover  \n",
              "2        Windsor Castle,Berkshire,England  Albert Augustus Charles  \n",
              "3      Friedrichshof,Near,Kronberg,Taunus   Victoria Adelaide Mary  \n",
              "4        Buckingham,Palace,London,England        Edward_VII Wettin  \n",
              "5                     Darmstadt,,,Germany          Alice Maud Mary  \n",
              "...                                   ...                      ...  \n",
              "3005                                  NaN            Emily Scobell  \n",
              "3006                                  NaN     John Sanford Scobell  \n",
              "3007                                  NaN           James Cartland  \n",
              "3008                                  NaN                    Flora  \n",
              "3009                                  NaN                 Cartland  \n",
              "\n",
              "[3009 rows x 9 columns]"
            ]
          },
          "execution_count": 57,
          "metadata": {},
          "output_type": "execute_result"
        }
      ],
      "source": [
        "def create_full_name(row):\n",
        "    if isinstance(row['first_name'], str) and isinstance(row['last_name'], str):  # both first_name and last_name are strings\n",
        "        result = row['first_name'] + ' ' + row['last_name']\n",
        "    elif isinstance(row['first_name'], str):  # only first_name is a string\n",
        "        result = row['first_name']\n",
        "    elif isinstance(row['last_name'], str):  # only last_name is a string\n",
        "        result = row['last_name']\n",
        "    else:  # neither first_name nor last_name are strings, they are both NaN\n",
        "        result = np.nan\n",
        "    return result\n",
        "\n",
        "df = pd.read_csv('../Datasets/royal_line.csv', index_col='ID')\n",
        "\n",
        "df['full_name'] = df.apply(create_full_name, axis=1)\n",
        "df"
      ]
    },
    {
      "cell_type": "markdown",
      "id": "62ca2580-8a6b-41fb-a0ad-fd7f0e5f0197",
      "metadata": {
        "id": "62ca2580-8a6b-41fb-a0ad-fd7f0e5f0197"
      },
      "source": [
        "This \"apply\" operation applies the specified function. You could also use Python lambda functions to create a function inline if needed. Note the option \"axis = 1\" means to process the data row by row. The option \"axis = 0\" would process the data column by column. For example:"
      ]
    },
    {
      "cell_type": "code",
      "execution_count": null,
      "id": "4b0b2f46-361c-43a6-8591-ed30eba26290",
      "metadata": {
        "id": "4b0b2f46-361c-43a6-8591-ed30eba26290",
        "outputId": "2d056166-7d64-4fe0-d56b-941cfc21936e"
      },
      "outputs": [
        {
          "name": "stdout",
          "output_type": "stream",
          "text": [
            "   column 1  column 2\n",
            "0         0         1\n",
            "1         2         3\n",
            "2         4         5\n",
            "3         6         7\n",
            "4         8         9\n",
            "5        10        11\n"
          ]
        }
      ],
      "source": [
        "# Create a dataframe that is a 6 x 2 array formed from a list of 12 numbers ordered from 0 to 11.\n",
        "df = pd.DataFrame(np.arange(12).reshape(6,2), columns = ['column 1', 'column 2'])\n",
        "print(df)"
      ]
    },
    {
      "cell_type": "code",
      "execution_count": null,
      "id": "61e299f2-6c20-44ce-af30-b83df2157fe3",
      "metadata": {
        "id": "61e299f2-6c20-44ce-af30-b83df2157fe3",
        "outputId": "60b0b436-e841-4700-e24d-3ef343f8a9e0"
      },
      "outputs": [
        {
          "name": "stdout",
          "output_type": "stream",
          "text": [
            "column 1    10\n",
            "column 2    11\n",
            "dtype: int64\n"
          ]
        }
      ],
      "source": [
        "# Create a new dataframe that takes the maximum value of each column in the dataframe we just created.\n",
        "new_df = df.apply(lambda column: column.max())\n",
        "print(new_df)"
      ]
    },
    {
      "cell_type": "markdown",
      "id": "2cb14ac9-b8df-4817-a825-5f9a19066ae4",
      "metadata": {
        "id": "2cb14ac9-b8df-4817-a825-5f9a19066ae4"
      },
      "source": [
        "There are three main functions used to create or change data in dataframes: apply, map, and applymap."
      ]
    },
    {
      "cell_type": "code",
      "execution_count": null,
      "id": "ee2931ae-fe6c-4ab3-8f56-c5390f757710",
      "metadata": {
        "id": "ee2931ae-fe6c-4ab3-8f56-c5390f757710",
        "outputId": "3cb5610c-a10d-4b6d-dd1c-78911d3a8559"
      },
      "outputs": [
        {
          "name": "stdout",
          "output_type": "stream",
          "text": [
            "   column 1  column 2\n",
            "0         0         1\n",
            "1         2         3\n",
            "2         4         5\n",
            "3         6         7\n"
          ]
        }
      ],
      "source": [
        "df = pd.DataFrame(np.arange(8).reshape(4,2), columns = ['column 1', 'column 2'])\n",
        "print(df)"
      ]
    },
    {
      "cell_type": "code",
      "execution_count": null,
      "id": "2a98b426-d1c2-49ed-8f0d-2df4483c439a",
      "metadata": {
        "id": "2a98b426-d1c2-49ed-8f0d-2df4483c439a",
        "outputId": "de3f975a-021f-4ec9-f364-9946f3471178"
      },
      "outputs": [
        {
          "name": "stdout",
          "output_type": "stream",
          "text": [
            "column 1    6\n",
            "column 2    7\n",
            "dtype: int64\n"
          ]
        }
      ],
      "source": [
        "print(df.apply(np.max))"
      ]
    },
    {
      "cell_type": "code",
      "execution_count": null,
      "id": "2795f539-800e-4238-971c-abb0815db548",
      "metadata": {
        "id": "2795f539-800e-4238-971c-abb0815db548",
        "outputId": "af887cf4-e533-4a2f-b8fb-bce8623ed28f"
      },
      "outputs": [
        {
          "name": "stdout",
          "output_type": "stream",
          "text": [
            "0    1\n",
            "1    3\n",
            "2    5\n",
            "3    7\n",
            "dtype: int64\n"
          ]
        }
      ],
      "source": [
        "print(df.apply(np.max, axis = 1))"
      ]
    },
    {
      "cell_type": "code",
      "execution_count": null,
      "id": "c6eb233d-6efd-4314-80ce-6e60bb115f64",
      "metadata": {
        "id": "c6eb233d-6efd-4314-80ce-6e60bb115f64",
        "outputId": "c2d7b5d7-247c-456e-c321-1e229818cf03"
      },
      "outputs": [
        {
          "name": "stdout",
          "output_type": "stream",
          "text": [
            "0     0\n",
            "1     4\n",
            "2     8\n",
            "3    12\n",
            "Name: column 1, dtype: int64\n"
          ]
        }
      ],
      "source": [
        "print(df['column 1'].map(lambda x: x*2))"
      ]
    },
    {
      "cell_type": "code",
      "execution_count": null,
      "id": "e537aba3-5649-4c76-acac-ee3f84925a50",
      "metadata": {
        "id": "e537aba3-5649-4c76-acac-ee3f84925a50",
        "outputId": "a74eb281-ffef-445d-8d47-68d9c62b0496"
      },
      "outputs": [
        {
          "name": "stdout",
          "output_type": "stream",
          "text": [
            "   column 1  column 2\n",
            "0         0         2\n",
            "1         4         6\n",
            "2         8        10\n",
            "3        12        14\n"
          ]
        }
      ],
      "source": [
        "print(df.applymap(lambda x: x*2))"
      ]
    },
    {
      "cell_type": "markdown",
      "id": "f30070a0-2f01-47c4-b09e-efa38cae0b24",
      "metadata": {
        "id": "f30070a0-2f01-47c4-b09e-efa38cae0b24"
      },
      "source": [
        "### Changing Datatypes of Series or Columns"
      ]
    },
    {
      "cell_type": "markdown",
      "id": "5a6ccb6d-271c-472f-ad09-f3178205d482",
      "metadata": {
        "id": "5a6ccb6d-271c-472f-ad09-f3178205d482"
      },
      "source": [
        "The datatypes for our \"royal_line\" examples have all been 'objects' because every column has had data that's been interpreted as a string. This is a general, default datatype that is quite encompassing in what it can handle. However, there are some functions, like maximum or average, that make sense for certain types of numeric data, but not for general data, and if we try to apply these functions to objects we'll have a bad time."
      ]
    },
    {
      "cell_type": "code",
      "execution_count": null,
      "id": "519bd940-bb43-496e-9f59-93bb695c1781",
      "metadata": {
        "id": "519bd940-bb43-496e-9f59-93bb695c1781",
        "outputId": "6aac7654-e6ce-469f-bec1-478423e275d8"
      },
      "outputs": [
        {
          "name": "stdout",
          "output_type": "stream",
          "text": [
            "   ints strings floats\n",
            "0     1       a    1.1\n",
            "1     2       b    2.2\n",
            "2     3       c    3.3\n",
            "3     4       d      4\n",
            "ints        int64\n",
            "strings    object\n",
            "floats     object\n",
            "dtype: object\n"
          ]
        }
      ],
      "source": [
        "# Let's create a simple dataframe with three columns containing different types of data:\n",
        "df = pd.DataFrame({'ints': [1,2,3,4], 'strings': ['a','b','c','d'], 'floats': [1.1, '2.2', '3.3', 4]})\n",
        "print(df)\n",
        "print(df.dtypes)"
      ]
    },
    {
      "cell_type": "markdown",
      "id": "a5ddf3da-b2c2-4790-ad49-b9b4c130554b",
      "metadata": {
        "id": "a5ddf3da-b2c2-4790-ad49-b9b4c130554b"
      },
      "source": [
        "Here, the second and third column are interpreted as objects because both contained strings (the values 2.2 and 3.3 in the floats column were entered as strings).\n",
        "\n",
        "To convert these to a different datatype, we can convert a single column, or multiple columns using a dictionary."
      ]
    },
    {
      "cell_type": "code",
      "execution_count": null,
      "id": "a6890b9c-8178-41f2-a7b7-f65ecb49e628",
      "metadata": {
        "id": "a6890b9c-8178-41f2-a7b7-f65ecb49e628",
        "outputId": "17980736-fa0c-4988-f969-2fe7b2f0b5bb"
      },
      "outputs": [
        {
          "name": "stdout",
          "output_type": "stream",
          "text": [
            "ints         int64\n",
            "strings     object\n",
            "floats     float64\n",
            "dtype: object\n"
          ]
        }
      ],
      "source": [
        "df['floats'] = df['floats'].astype(float)\n",
        "print(df.dtypes)"
      ]
    },
    {
      "cell_type": "code",
      "execution_count": null,
      "id": "c9820c35-2fcc-4fa0-9aeb-743764cd1788",
      "metadata": {
        "id": "c9820c35-2fcc-4fa0-9aeb-743764cd1788",
        "outputId": "19124c70-18a9-4d7d-afe3-fb99a6acd67c"
      },
      "outputs": [
        {
          "name": "stdout",
          "output_type": "stream",
          "text": [
            "ints         int64\n",
            "strings     object\n",
            "floats     float64\n",
            "dtype: object\n"
          ]
        }
      ],
      "source": [
        "convert_dict = {'ints': int, 'strings': str, 'floats': float}\n",
        "df = df.astype(convert_dict)\n",
        "print(df.dtypes)"
      ]
    },
    {
      "cell_type": "code",
      "execution_count": null,
      "id": "bcc7104e-5a9f-40cf-8ebf-a9ce40238615",
      "metadata": {
        "id": "bcc7104e-5a9f-40cf-8ebf-a9ce40238615",
        "outputId": "5194145e-112f-4c8a-cf35-8dfbf23a718d"
      },
      "outputs": [
        {
          "name": "stdout",
          "output_type": "stream",
          "text": [
            "   ints strings  floats\n",
            "0   1.0       a     1.1\n",
            "1   2.0       b     2.2\n",
            "2   3.0       c     3.3\n",
            "3   4.0       d     4.0\n",
            "ints       float64\n",
            "strings     object\n",
            "floats     float64\n",
            "dtype: object\n"
          ]
        }
      ],
      "source": [
        "# The following command would also work:\n",
        "df['ints'] = df['ints'].astype(float)\n",
        "print(df)\n",
        "print(df.dtypes)"
      ]
    },
    {
      "cell_type": "code",
      "execution_count": 14,
      "id": "dbab0f98-2c1e-471e-964a-d02203de8274",
      "metadata": {
        "id": "dbab0f98-2c1e-471e-964a-d02203de8274",
        "outputId": "78ae570f-e83c-4961-a5ff-5e8cb3c90b05"
      },
      "outputs": [
        {
          "ename": "KeyError",
          "evalue": "'strings'",
          "output_type": "error",
          "traceback": [
            "\u001b[0;31m---------------------------------------------------------------------------\u001b[0m",
            "\u001b[0;31mKeyError\u001b[0m                                  Traceback (most recent call last)",
            "File \u001b[0;32m/Library/Frameworks/Python.framework/Versions/3.10/lib/python3.10/site-packages/pandas/core/indexes/base.py:3802\u001b[0m, in \u001b[0;36mIndex.get_loc\u001b[0;34m(self, key, method, tolerance)\u001b[0m\n\u001b[1;32m   3801\u001b[0m \u001b[39mtry\u001b[39;00m:\n\u001b[0;32m-> 3802\u001b[0m     \u001b[39mreturn\u001b[39;00m \u001b[39mself\u001b[39;49m\u001b[39m.\u001b[39;49m_engine\u001b[39m.\u001b[39;49mget_loc(casted_key)\n\u001b[1;32m   3803\u001b[0m \u001b[39mexcept\u001b[39;00m \u001b[39mKeyError\u001b[39;00m \u001b[39mas\u001b[39;00m err:\n",
            "File \u001b[0;32m/Library/Frameworks/Python.framework/Versions/3.10/lib/python3.10/site-packages/pandas/_libs/index.pyx:138\u001b[0m, in \u001b[0;36mpandas._libs.index.IndexEngine.get_loc\u001b[0;34m()\u001b[0m\n",
            "File \u001b[0;32m/Library/Frameworks/Python.framework/Versions/3.10/lib/python3.10/site-packages/pandas/_libs/index.pyx:165\u001b[0m, in \u001b[0;36mpandas._libs.index.IndexEngine.get_loc\u001b[0;34m()\u001b[0m\n",
            "File \u001b[0;32mpandas/_libs/hashtable_class_helper.pxi:5745\u001b[0m, in \u001b[0;36mpandas._libs.hashtable.PyObjectHashTable.get_item\u001b[0;34m()\u001b[0m\n",
            "File \u001b[0;32mpandas/_libs/hashtable_class_helper.pxi:5753\u001b[0m, in \u001b[0;36mpandas._libs.hashtable.PyObjectHashTable.get_item\u001b[0;34m()\u001b[0m\n",
            "\u001b[0;31mKeyError\u001b[0m: 'strings'",
            "\nThe above exception was the direct cause of the following exception:\n",
            "\u001b[0;31mKeyError\u001b[0m                                  Traceback (most recent call last)",
            "\u001b[1;32m/Users/robchristiansen/Documents/Code/Learning/WeberState/CS 6570 (Data Science Algorithms I)/Lectures/CS-6570 Lecture 3 - Introduction to Pandas.ipynb Cell 74\u001b[0m in \u001b[0;36m2\n\u001b[1;32m      <a href='vscode-notebook-cell:/Users/robchristiansen/Documents/Code/Learning/WeberState/CS%206570%20%28Data%20Science%20Algorithms%20I%29/Lectures/CS-6570%20Lecture%203%20-%20Introduction%20to%20Pandas.ipynb#Y133sZmlsZQ%3D%3D?line=0'>1</a>\u001b[0m \u001b[39m# But this one won't:\u001b[39;00m\n\u001b[0;32m----> <a href='vscode-notebook-cell:/Users/robchristiansen/Documents/Code/Learning/WeberState/CS%206570%20%28Data%20Science%20Algorithms%20I%29/Lectures/CS-6570%20Lecture%203%20-%20Introduction%20to%20Pandas.ipynb#Y133sZmlsZQ%3D%3D?line=1'>2</a>\u001b[0m df[\u001b[39m'\u001b[39m\u001b[39mstrings\u001b[39m\u001b[39m'\u001b[39m] \u001b[39m=\u001b[39m df[\u001b[39m'\u001b[39;49m\u001b[39mstrings\u001b[39;49m\u001b[39m'\u001b[39;49m]\u001b[39m.\u001b[39mastype(\u001b[39mint\u001b[39m)\n",
            "File \u001b[0;32m/Library/Frameworks/Python.framework/Versions/3.10/lib/python3.10/site-packages/pandas/core/frame.py:3807\u001b[0m, in \u001b[0;36mDataFrame.__getitem__\u001b[0;34m(self, key)\u001b[0m\n\u001b[1;32m   3805\u001b[0m \u001b[39mif\u001b[39;00m \u001b[39mself\u001b[39m\u001b[39m.\u001b[39mcolumns\u001b[39m.\u001b[39mnlevels \u001b[39m>\u001b[39m \u001b[39m1\u001b[39m:\n\u001b[1;32m   3806\u001b[0m     \u001b[39mreturn\u001b[39;00m \u001b[39mself\u001b[39m\u001b[39m.\u001b[39m_getitem_multilevel(key)\n\u001b[0;32m-> 3807\u001b[0m indexer \u001b[39m=\u001b[39m \u001b[39mself\u001b[39;49m\u001b[39m.\u001b[39;49mcolumns\u001b[39m.\u001b[39;49mget_loc(key)\n\u001b[1;32m   3808\u001b[0m \u001b[39mif\u001b[39;00m is_integer(indexer):\n\u001b[1;32m   3809\u001b[0m     indexer \u001b[39m=\u001b[39m [indexer]\n",
            "File \u001b[0;32m/Library/Frameworks/Python.framework/Versions/3.10/lib/python3.10/site-packages/pandas/core/indexes/base.py:3804\u001b[0m, in \u001b[0;36mIndex.get_loc\u001b[0;34m(self, key, method, tolerance)\u001b[0m\n\u001b[1;32m   3802\u001b[0m     \u001b[39mreturn\u001b[39;00m \u001b[39mself\u001b[39m\u001b[39m.\u001b[39m_engine\u001b[39m.\u001b[39mget_loc(casted_key)\n\u001b[1;32m   3803\u001b[0m \u001b[39mexcept\u001b[39;00m \u001b[39mKeyError\u001b[39;00m \u001b[39mas\u001b[39;00m err:\n\u001b[0;32m-> 3804\u001b[0m     \u001b[39mraise\u001b[39;00m \u001b[39mKeyError\u001b[39;00m(key) \u001b[39mfrom\u001b[39;00m \u001b[39merr\u001b[39;00m\n\u001b[1;32m   3805\u001b[0m \u001b[39mexcept\u001b[39;00m \u001b[39mTypeError\u001b[39;00m:\n\u001b[1;32m   3806\u001b[0m     \u001b[39m# If we have a listlike key, _check_indexing_error will raise\u001b[39;00m\n\u001b[1;32m   3807\u001b[0m     \u001b[39m#  InvalidIndexError. Otherwise we fall through and re-raise\u001b[39;00m\n\u001b[1;32m   3808\u001b[0m     \u001b[39m#  the TypeError.\u001b[39;00m\n\u001b[1;32m   3809\u001b[0m     \u001b[39mself\u001b[39m\u001b[39m.\u001b[39m_check_indexing_error(key)\n",
            "\u001b[0;31mKeyError\u001b[0m: 'strings'"
          ]
        }
      ],
      "source": [
        "# But this one won't:\n",
        "df['strings'] = df['strings'].astype(int)"
      ]
    },
    {
      "cell_type": "markdown",
      "id": "a4aec381-2539-4374-b675-d0045e17dcc8",
      "metadata": {
        "id": "a4aec381-2539-4374-b675-d0045e17dcc8"
      },
      "source": [
        "Pandas has many builtin conversion functions (to_datetime, to_timedelta, to_numeric, etc...) but you'll sometimes encounter data that's formatted in such a way that it's not possible to immediately convert it to the format you want using one of the builtin functions. To deal with this, sometimes you need to write your own conversion function.\n",
        "\n",
        "For example, if we check out the 'birth_date' column in our royal_line dataset, we see:"
      ]
    },
    {
      "cell_type": "code",
      "execution_count": 15,
      "id": "8a4138d8-46a4-4961-88be-4f7c9781b43c",
      "metadata": {
        "id": "8a4138d8-46a4-4961-88be-4f7c9781b43c",
        "outputId": "931d6da9-b692-4447-9f1a-dc7b6dbbf695"
      },
      "outputs": [
        {
          "ename": "FileNotFoundError",
          "evalue": "[Errno 2] No such file or directory: '../Datasets/royal_line.csv'",
          "output_type": "error",
          "traceback": [
            "\u001b[0;31m---------------------------------------------------------------------------\u001b[0m",
            "\u001b[0;31mFileNotFoundError\u001b[0m                         Traceback (most recent call last)",
            "\u001b[1;32m/Users/robchristiansen/Documents/Code/Learning/WeberState/CS 6570 (Data Science Algorithms I)/Lectures/CS-6570 Lecture 3 - Introduction to Pandas.ipynb Cell 76\u001b[0m in \u001b[0;36m1\n\u001b[0;32m----> <a href='vscode-notebook-cell:/Users/robchristiansen/Documents/Code/Learning/WeberState/CS%206570%20%28Data%20Science%20Algorithms%20I%29/Lectures/CS-6570%20Lecture%203%20-%20Introduction%20to%20Pandas.ipynb#Y135sZmlsZQ%3D%3D?line=0'>1</a>\u001b[0m df \u001b[39m=\u001b[39m pd\u001b[39m.\u001b[39;49mread_csv(\u001b[39m'\u001b[39;49m\u001b[39m../Datasets/royal_line.csv\u001b[39;49m\u001b[39m'\u001b[39;49m, index_col\u001b[39m=\u001b[39;49m\u001b[39m'\u001b[39;49m\u001b[39mID\u001b[39;49m\u001b[39m'\u001b[39;49m)\n\u001b[1;32m      <a href='vscode-notebook-cell:/Users/robchristiansen/Documents/Code/Learning/WeberState/CS%206570%20%28Data%20Science%20Algorithms%20I%29/Lectures/CS-6570%20Lecture%203%20-%20Introduction%20to%20Pandas.ipynb#Y135sZmlsZQ%3D%3D?line=1'>2</a>\u001b[0m \u001b[39mprint\u001b[39m(df[\u001b[39m'\u001b[39m\u001b[39mbirth_date\u001b[39m\u001b[39m'\u001b[39m])\n",
            "File \u001b[0;32m/Library/Frameworks/Python.framework/Versions/3.10/lib/python3.10/site-packages/pandas/util/_decorators.py:211\u001b[0m, in \u001b[0;36mdeprecate_kwarg.<locals>._deprecate_kwarg.<locals>.wrapper\u001b[0;34m(*args, **kwargs)\u001b[0m\n\u001b[1;32m    209\u001b[0m     \u001b[39melse\u001b[39;00m:\n\u001b[1;32m    210\u001b[0m         kwargs[new_arg_name] \u001b[39m=\u001b[39m new_arg_value\n\u001b[0;32m--> 211\u001b[0m \u001b[39mreturn\u001b[39;00m func(\u001b[39m*\u001b[39;49margs, \u001b[39m*\u001b[39;49m\u001b[39m*\u001b[39;49mkwargs)\n",
            "File \u001b[0;32m/Library/Frameworks/Python.framework/Versions/3.10/lib/python3.10/site-packages/pandas/util/_decorators.py:331\u001b[0m, in \u001b[0;36mdeprecate_nonkeyword_arguments.<locals>.decorate.<locals>.wrapper\u001b[0;34m(*args, **kwargs)\u001b[0m\n\u001b[1;32m    325\u001b[0m \u001b[39mif\u001b[39;00m \u001b[39mlen\u001b[39m(args) \u001b[39m>\u001b[39m num_allow_args:\n\u001b[1;32m    326\u001b[0m     warnings\u001b[39m.\u001b[39mwarn(\n\u001b[1;32m    327\u001b[0m         msg\u001b[39m.\u001b[39mformat(arguments\u001b[39m=\u001b[39m_format_argument_list(allow_args)),\n\u001b[1;32m    328\u001b[0m         \u001b[39mFutureWarning\u001b[39;00m,\n\u001b[1;32m    329\u001b[0m         stacklevel\u001b[39m=\u001b[39mfind_stack_level(),\n\u001b[1;32m    330\u001b[0m     )\n\u001b[0;32m--> 331\u001b[0m \u001b[39mreturn\u001b[39;00m func(\u001b[39m*\u001b[39;49margs, \u001b[39m*\u001b[39;49m\u001b[39m*\u001b[39;49mkwargs)\n",
            "File \u001b[0;32m/Library/Frameworks/Python.framework/Versions/3.10/lib/python3.10/site-packages/pandas/io/parsers/readers.py:950\u001b[0m, in \u001b[0;36mread_csv\u001b[0;34m(filepath_or_buffer, sep, delimiter, header, names, index_col, usecols, squeeze, prefix, mangle_dupe_cols, dtype, engine, converters, true_values, false_values, skipinitialspace, skiprows, skipfooter, nrows, na_values, keep_default_na, na_filter, verbose, skip_blank_lines, parse_dates, infer_datetime_format, keep_date_col, date_parser, dayfirst, cache_dates, iterator, chunksize, compression, thousands, decimal, lineterminator, quotechar, quoting, doublequote, escapechar, comment, encoding, encoding_errors, dialect, error_bad_lines, warn_bad_lines, on_bad_lines, delim_whitespace, low_memory, memory_map, float_precision, storage_options)\u001b[0m\n\u001b[1;32m    935\u001b[0m kwds_defaults \u001b[39m=\u001b[39m _refine_defaults_read(\n\u001b[1;32m    936\u001b[0m     dialect,\n\u001b[1;32m    937\u001b[0m     delimiter,\n\u001b[0;32m   (...)\u001b[0m\n\u001b[1;32m    946\u001b[0m     defaults\u001b[39m=\u001b[39m{\u001b[39m\"\u001b[39m\u001b[39mdelimiter\u001b[39m\u001b[39m\"\u001b[39m: \u001b[39m\"\u001b[39m\u001b[39m,\u001b[39m\u001b[39m\"\u001b[39m},\n\u001b[1;32m    947\u001b[0m )\n\u001b[1;32m    948\u001b[0m kwds\u001b[39m.\u001b[39mupdate(kwds_defaults)\n\u001b[0;32m--> 950\u001b[0m \u001b[39mreturn\u001b[39;00m _read(filepath_or_buffer, kwds)\n",
            "File \u001b[0;32m/Library/Frameworks/Python.framework/Versions/3.10/lib/python3.10/site-packages/pandas/io/parsers/readers.py:605\u001b[0m, in \u001b[0;36m_read\u001b[0;34m(filepath_or_buffer, kwds)\u001b[0m\n\u001b[1;32m    602\u001b[0m _validate_names(kwds\u001b[39m.\u001b[39mget(\u001b[39m\"\u001b[39m\u001b[39mnames\u001b[39m\u001b[39m\"\u001b[39m, \u001b[39mNone\u001b[39;00m))\n\u001b[1;32m    604\u001b[0m \u001b[39m# Create the parser.\u001b[39;00m\n\u001b[0;32m--> 605\u001b[0m parser \u001b[39m=\u001b[39m TextFileReader(filepath_or_buffer, \u001b[39m*\u001b[39;49m\u001b[39m*\u001b[39;49mkwds)\n\u001b[1;32m    607\u001b[0m \u001b[39mif\u001b[39;00m chunksize \u001b[39mor\u001b[39;00m iterator:\n\u001b[1;32m    608\u001b[0m     \u001b[39mreturn\u001b[39;00m parser\n",
            "File \u001b[0;32m/Library/Frameworks/Python.framework/Versions/3.10/lib/python3.10/site-packages/pandas/io/parsers/readers.py:1442\u001b[0m, in \u001b[0;36mTextFileReader.__init__\u001b[0;34m(self, f, engine, **kwds)\u001b[0m\n\u001b[1;32m   1439\u001b[0m     \u001b[39mself\u001b[39m\u001b[39m.\u001b[39moptions[\u001b[39m\"\u001b[39m\u001b[39mhas_index_names\u001b[39m\u001b[39m\"\u001b[39m] \u001b[39m=\u001b[39m kwds[\u001b[39m\"\u001b[39m\u001b[39mhas_index_names\u001b[39m\u001b[39m\"\u001b[39m]\n\u001b[1;32m   1441\u001b[0m \u001b[39mself\u001b[39m\u001b[39m.\u001b[39mhandles: IOHandles \u001b[39m|\u001b[39m \u001b[39mNone\u001b[39;00m \u001b[39m=\u001b[39m \u001b[39mNone\u001b[39;00m\n\u001b[0;32m-> 1442\u001b[0m \u001b[39mself\u001b[39m\u001b[39m.\u001b[39m_engine \u001b[39m=\u001b[39m \u001b[39mself\u001b[39;49m\u001b[39m.\u001b[39;49m_make_engine(f, \u001b[39mself\u001b[39;49m\u001b[39m.\u001b[39;49mengine)\n",
            "File \u001b[0;32m/Library/Frameworks/Python.framework/Versions/3.10/lib/python3.10/site-packages/pandas/io/parsers/readers.py:1735\u001b[0m, in \u001b[0;36mTextFileReader._make_engine\u001b[0;34m(self, f, engine)\u001b[0m\n\u001b[1;32m   1733\u001b[0m     \u001b[39mif\u001b[39;00m \u001b[39m\"\u001b[39m\u001b[39mb\u001b[39m\u001b[39m\"\u001b[39m \u001b[39mnot\u001b[39;00m \u001b[39min\u001b[39;00m mode:\n\u001b[1;32m   1734\u001b[0m         mode \u001b[39m+\u001b[39m\u001b[39m=\u001b[39m \u001b[39m\"\u001b[39m\u001b[39mb\u001b[39m\u001b[39m\"\u001b[39m\n\u001b[0;32m-> 1735\u001b[0m \u001b[39mself\u001b[39m\u001b[39m.\u001b[39mhandles \u001b[39m=\u001b[39m get_handle(\n\u001b[1;32m   1736\u001b[0m     f,\n\u001b[1;32m   1737\u001b[0m     mode,\n\u001b[1;32m   1738\u001b[0m     encoding\u001b[39m=\u001b[39;49m\u001b[39mself\u001b[39;49m\u001b[39m.\u001b[39;49moptions\u001b[39m.\u001b[39;49mget(\u001b[39m\"\u001b[39;49m\u001b[39mencoding\u001b[39;49m\u001b[39m\"\u001b[39;49m, \u001b[39mNone\u001b[39;49;00m),\n\u001b[1;32m   1739\u001b[0m     compression\u001b[39m=\u001b[39;49m\u001b[39mself\u001b[39;49m\u001b[39m.\u001b[39;49moptions\u001b[39m.\u001b[39;49mget(\u001b[39m\"\u001b[39;49m\u001b[39mcompression\u001b[39;49m\u001b[39m\"\u001b[39;49m, \u001b[39mNone\u001b[39;49;00m),\n\u001b[1;32m   1740\u001b[0m     memory_map\u001b[39m=\u001b[39;49m\u001b[39mself\u001b[39;49m\u001b[39m.\u001b[39;49moptions\u001b[39m.\u001b[39;49mget(\u001b[39m\"\u001b[39;49m\u001b[39mmemory_map\u001b[39;49m\u001b[39m\"\u001b[39;49m, \u001b[39mFalse\u001b[39;49;00m),\n\u001b[1;32m   1741\u001b[0m     is_text\u001b[39m=\u001b[39;49mis_text,\n\u001b[1;32m   1742\u001b[0m     errors\u001b[39m=\u001b[39;49m\u001b[39mself\u001b[39;49m\u001b[39m.\u001b[39;49moptions\u001b[39m.\u001b[39;49mget(\u001b[39m\"\u001b[39;49m\u001b[39mencoding_errors\u001b[39;49m\u001b[39m\"\u001b[39;49m, \u001b[39m\"\u001b[39;49m\u001b[39mstrict\u001b[39;49m\u001b[39m\"\u001b[39;49m),\n\u001b[1;32m   1743\u001b[0m     storage_options\u001b[39m=\u001b[39;49m\u001b[39mself\u001b[39;49m\u001b[39m.\u001b[39;49moptions\u001b[39m.\u001b[39;49mget(\u001b[39m\"\u001b[39;49m\u001b[39mstorage_options\u001b[39;49m\u001b[39m\"\u001b[39;49m, \u001b[39mNone\u001b[39;49;00m),\n\u001b[1;32m   1744\u001b[0m )\n\u001b[1;32m   1745\u001b[0m \u001b[39massert\u001b[39;00m \u001b[39mself\u001b[39m\u001b[39m.\u001b[39mhandles \u001b[39mis\u001b[39;00m \u001b[39mnot\u001b[39;00m \u001b[39mNone\u001b[39;00m\n\u001b[1;32m   1746\u001b[0m f \u001b[39m=\u001b[39m \u001b[39mself\u001b[39m\u001b[39m.\u001b[39mhandles\u001b[39m.\u001b[39mhandle\n",
            "File \u001b[0;32m/Library/Frameworks/Python.framework/Versions/3.10/lib/python3.10/site-packages/pandas/io/common.py:856\u001b[0m, in \u001b[0;36mget_handle\u001b[0;34m(path_or_buf, mode, encoding, compression, memory_map, is_text, errors, storage_options)\u001b[0m\n\u001b[1;32m    851\u001b[0m \u001b[39melif\u001b[39;00m \u001b[39misinstance\u001b[39m(handle, \u001b[39mstr\u001b[39m):\n\u001b[1;32m    852\u001b[0m     \u001b[39m# Check whether the filename is to be opened in binary mode.\u001b[39;00m\n\u001b[1;32m    853\u001b[0m     \u001b[39m# Binary mode does not support 'encoding' and 'newline'.\u001b[39;00m\n\u001b[1;32m    854\u001b[0m     \u001b[39mif\u001b[39;00m ioargs\u001b[39m.\u001b[39mencoding \u001b[39mand\u001b[39;00m \u001b[39m\"\u001b[39m\u001b[39mb\u001b[39m\u001b[39m\"\u001b[39m \u001b[39mnot\u001b[39;00m \u001b[39min\u001b[39;00m ioargs\u001b[39m.\u001b[39mmode:\n\u001b[1;32m    855\u001b[0m         \u001b[39m# Encoding\u001b[39;00m\n\u001b[0;32m--> 856\u001b[0m         handle \u001b[39m=\u001b[39m \u001b[39mopen\u001b[39;49m(\n\u001b[1;32m    857\u001b[0m             handle,\n\u001b[1;32m    858\u001b[0m             ioargs\u001b[39m.\u001b[39;49mmode,\n\u001b[1;32m    859\u001b[0m             encoding\u001b[39m=\u001b[39;49mioargs\u001b[39m.\u001b[39;49mencoding,\n\u001b[1;32m    860\u001b[0m             errors\u001b[39m=\u001b[39;49merrors,\n\u001b[1;32m    861\u001b[0m             newline\u001b[39m=\u001b[39;49m\u001b[39m\"\u001b[39;49m\u001b[39m\"\u001b[39;49m,\n\u001b[1;32m    862\u001b[0m         )\n\u001b[1;32m    863\u001b[0m     \u001b[39melse\u001b[39;00m:\n\u001b[1;32m    864\u001b[0m         \u001b[39m# Binary mode\u001b[39;00m\n\u001b[1;32m    865\u001b[0m         handle \u001b[39m=\u001b[39m \u001b[39mopen\u001b[39m(handle, ioargs\u001b[39m.\u001b[39mmode)\n",
            "\u001b[0;31mFileNotFoundError\u001b[0m: [Errno 2] No such file or directory: '../Datasets/royal_line.csv'"
          ]
        }
      ],
      "source": [
        "df = pd.read_csv('../Datasets/royal_line.csv', index_col='ID')\n",
        "print(df['birth_date'])"
      ]
    },
    {
      "cell_type": "markdown",
      "id": "4cfcde0c-8970-49bd-8e7d-5a735401d8c9",
      "metadata": {
        "id": "4cfcde0c-8970-49bd-8e7d-5a735401d8c9"
      },
      "source": [
        "A lot of NaN. OK, let's remove these and see what we get:"
      ]
    },
    {
      "cell_type": "code",
      "execution_count": null,
      "id": "c4e45386-b275-46b0-a55a-e323db423f0f",
      "metadata": {
        "id": "c4e45386-b275-46b0-a55a-e323db423f0f",
        "outputId": "5bde57d7-2913-4631-d961-120e5a81120d"
      },
      "outputs": [
        {
          "name": "stdout",
          "output_type": "stream",
          "text": [
            "ID\n",
            "1       24 MAY 1819\n",
            "2       26 AUG 1819\n",
            "3       21 NOV 1840\n",
            "4        9 NOV 1841\n",
            "5       25 APR 1843\n",
            "           ...     \n",
            "2989    11 OCT 1937\n",
            "2996     5 SEP 1877\n",
            "2997     3 JAN 1907\n",
            "2998     4 JAN 1912\n",
            "3006           1879\n",
            "Name: birth_date, Length: 1734, dtype: object\n"
          ]
        }
      ],
      "source": [
        "df.dropna(subset = ['birth_date'], inplace=True)\n",
        "print(df['birth_date'])"
      ]
    },
    {
      "cell_type": "markdown",
      "id": "c80ea057-3a0b-4270-b162-963690201063",
      "metadata": {
        "id": "c80ea057-3a0b-4270-b162-963690201063"
      },
      "source": [
        "If we then try to convert these values to datetimes we get:"
      ]
    },
    {
      "cell_type": "code",
      "execution_count": null,
      "id": "1fd6623b-8a79-4db1-9c3c-5b800cb85921",
      "metadata": {
        "id": "1fd6623b-8a79-4db1-9c3c-5b800cb85921",
        "outputId": "20462240-4f8d-4cdf-98e5-45a71663699b"
      },
      "outputs": [
        {
          "ename": "OutOfBoundsDatetime",
          "evalue": "Out of bounds nanosecond timestamp: 1292-01-01 00:00:00 present at position 123",
          "output_type": "error",
          "traceback": [
            "\u001b[0;31m---------------------------------------------------------------------------\u001b[0m",
            "\u001b[0;31mOutOfBoundsDatetime\u001b[0m                       Traceback (most recent call last)",
            "Cell \u001b[0;32mIn[117], line 1\u001b[0m\n\u001b[0;32m----> 1\u001b[0m df[\u001b[38;5;124m'\u001b[39m\u001b[38;5;124mbirth_date\u001b[39m\u001b[38;5;124m'\u001b[39m] \u001b[38;5;241m=\u001b[39m pd\u001b[38;5;241m.\u001b[39mto_datetime(df[\u001b[38;5;124m'\u001b[39m\u001b[38;5;124mbirth_date\u001b[39m\u001b[38;5;124m'\u001b[39m])\n",
            "File \u001b[0;32m/opt/conda/envs/anaconda-panel-2023.05-py310/lib/python3.11/site-packages/pandas/core/tools/datetimes.py:1068\u001b[0m, in \u001b[0;36mto_datetime\u001b[0;34m(arg, errors, dayfirst, yearfirst, utc, format, exact, unit, infer_datetime_format, origin, cache)\u001b[0m\n\u001b[1;32m   1066\u001b[0m         result \u001b[38;5;241m=\u001b[39m arg\u001b[38;5;241m.\u001b[39mmap(cache_array)\n\u001b[1;32m   1067\u001b[0m     \u001b[38;5;28;01melse\u001b[39;00m:\n\u001b[0;32m-> 1068\u001b[0m         values \u001b[38;5;241m=\u001b[39m convert_listlike(arg\u001b[38;5;241m.\u001b[39m_values, \u001b[38;5;28mformat\u001b[39m)\n\u001b[1;32m   1069\u001b[0m         result \u001b[38;5;241m=\u001b[39m arg\u001b[38;5;241m.\u001b[39m_constructor(values, index\u001b[38;5;241m=\u001b[39marg\u001b[38;5;241m.\u001b[39mindex, name\u001b[38;5;241m=\u001b[39marg\u001b[38;5;241m.\u001b[39mname)\n\u001b[1;32m   1070\u001b[0m \u001b[38;5;28;01melif\u001b[39;00m \u001b[38;5;28misinstance\u001b[39m(arg, (ABCDataFrame, abc\u001b[38;5;241m.\u001b[39mMutableMapping)):\n",
            "File \u001b[0;32m/opt/conda/envs/anaconda-panel-2023.05-py310/lib/python3.11/site-packages/pandas/core/tools/datetimes.py:438\u001b[0m, in \u001b[0;36m_convert_listlike_datetimes\u001b[0;34m(arg, format, name, tz, unit, errors, infer_datetime_format, dayfirst, yearfirst, exact)\u001b[0m\n\u001b[1;32m    436\u001b[0m \u001b[38;5;28;01massert\u001b[39;00m \u001b[38;5;28mformat\u001b[39m \u001b[38;5;129;01mis\u001b[39;00m \u001b[38;5;28;01mNone\u001b[39;00m \u001b[38;5;129;01mor\u001b[39;00m infer_datetime_format\n\u001b[1;32m    437\u001b[0m utc \u001b[38;5;241m=\u001b[39m tz \u001b[38;5;241m==\u001b[39m \u001b[38;5;124m\"\u001b[39m\u001b[38;5;124mutc\u001b[39m\u001b[38;5;124m\"\u001b[39m\n\u001b[0;32m--> 438\u001b[0m result, tz_parsed \u001b[38;5;241m=\u001b[39m objects_to_datetime64ns(\n\u001b[1;32m    439\u001b[0m     arg,\n\u001b[1;32m    440\u001b[0m     dayfirst\u001b[38;5;241m=\u001b[39mdayfirst,\n\u001b[1;32m    441\u001b[0m     yearfirst\u001b[38;5;241m=\u001b[39myearfirst,\n\u001b[1;32m    442\u001b[0m     utc\u001b[38;5;241m=\u001b[39mutc,\n\u001b[1;32m    443\u001b[0m     errors\u001b[38;5;241m=\u001b[39merrors,\n\u001b[1;32m    444\u001b[0m     require_iso8601\u001b[38;5;241m=\u001b[39mrequire_iso8601,\n\u001b[1;32m    445\u001b[0m     allow_object\u001b[38;5;241m=\u001b[39m\u001b[38;5;28;01mTrue\u001b[39;00m,\n\u001b[1;32m    446\u001b[0m )\n\u001b[1;32m    448\u001b[0m \u001b[38;5;28;01mif\u001b[39;00m tz_parsed \u001b[38;5;129;01mis\u001b[39;00m \u001b[38;5;129;01mnot\u001b[39;00m \u001b[38;5;28;01mNone\u001b[39;00m:\n\u001b[1;32m    449\u001b[0m     \u001b[38;5;66;03m# We can take a shortcut since the datetime64 numpy array\u001b[39;00m\n\u001b[1;32m    450\u001b[0m     \u001b[38;5;66;03m# is in UTC\u001b[39;00m\n\u001b[1;32m    451\u001b[0m     dta \u001b[38;5;241m=\u001b[39m DatetimeArray(result, dtype\u001b[38;5;241m=\u001b[39mtz_to_dtype(tz_parsed))\n",
            "File \u001b[0;32m/opt/conda/envs/anaconda-panel-2023.05-py310/lib/python3.11/site-packages/pandas/core/arrays/datetimes.py:2177\u001b[0m, in \u001b[0;36mobjects_to_datetime64ns\u001b[0;34m(data, dayfirst, yearfirst, utc, errors, require_iso8601, allow_object, allow_mixed)\u001b[0m\n\u001b[1;32m   2175\u001b[0m order: Literal[\u001b[38;5;124m\"\u001b[39m\u001b[38;5;124mF\u001b[39m\u001b[38;5;124m\"\u001b[39m, \u001b[38;5;124m\"\u001b[39m\u001b[38;5;124mC\u001b[39m\u001b[38;5;124m\"\u001b[39m] \u001b[38;5;241m=\u001b[39m \u001b[38;5;124m\"\u001b[39m\u001b[38;5;124mF\u001b[39m\u001b[38;5;124m\"\u001b[39m \u001b[38;5;28;01mif\u001b[39;00m flags\u001b[38;5;241m.\u001b[39mf_contiguous \u001b[38;5;28;01melse\u001b[39;00m \u001b[38;5;124m\"\u001b[39m\u001b[38;5;124mC\u001b[39m\u001b[38;5;124m\"\u001b[39m\n\u001b[1;32m   2176\u001b[0m \u001b[38;5;28;01mtry\u001b[39;00m:\n\u001b[0;32m-> 2177\u001b[0m     result, tz_parsed \u001b[38;5;241m=\u001b[39m tslib\u001b[38;5;241m.\u001b[39marray_to_datetime(\n\u001b[1;32m   2178\u001b[0m         data\u001b[38;5;241m.\u001b[39mravel(\u001b[38;5;124m\"\u001b[39m\u001b[38;5;124mK\u001b[39m\u001b[38;5;124m\"\u001b[39m),\n\u001b[1;32m   2179\u001b[0m         errors\u001b[38;5;241m=\u001b[39merrors,\n\u001b[1;32m   2180\u001b[0m         utc\u001b[38;5;241m=\u001b[39mutc,\n\u001b[1;32m   2181\u001b[0m         dayfirst\u001b[38;5;241m=\u001b[39mdayfirst,\n\u001b[1;32m   2182\u001b[0m         yearfirst\u001b[38;5;241m=\u001b[39myearfirst,\n\u001b[1;32m   2183\u001b[0m         require_iso8601\u001b[38;5;241m=\u001b[39mrequire_iso8601,\n\u001b[1;32m   2184\u001b[0m         allow_mixed\u001b[38;5;241m=\u001b[39mallow_mixed,\n\u001b[1;32m   2185\u001b[0m     )\n\u001b[1;32m   2186\u001b[0m     result \u001b[38;5;241m=\u001b[39m result\u001b[38;5;241m.\u001b[39mreshape(data\u001b[38;5;241m.\u001b[39mshape, order\u001b[38;5;241m=\u001b[39morder)\n\u001b[1;32m   2187\u001b[0m \u001b[38;5;28;01mexcept\u001b[39;00m \u001b[38;5;167;01mOverflowError\u001b[39;00m \u001b[38;5;28;01mas\u001b[39;00m err:\n\u001b[1;32m   2188\u001b[0m     \u001b[38;5;66;03m# Exception is raised when a part of date is greater than 32 bit signed int\u001b[39;00m\n",
            "File \u001b[0;32m/opt/conda/envs/anaconda-panel-2023.05-py310/lib/python3.11/site-packages/pandas/_libs/tslib.pyx:427\u001b[0m, in \u001b[0;36mpandas._libs.tslib.array_to_datetime\u001b[0;34m()\u001b[0m\n",
            "File \u001b[0;32m/opt/conda/envs/anaconda-panel-2023.05-py310/lib/python3.11/site-packages/pandas/_libs/tslib.pyx:678\u001b[0m, in \u001b[0;36mpandas._libs.tslib.array_to_datetime\u001b[0;34m()\u001b[0m\n",
            "File \u001b[0;32m/opt/conda/envs/anaconda-panel-2023.05-py310/lib/python3.11/site-packages/pandas/_libs/tslib.pyx:674\u001b[0m, in \u001b[0;36mpandas._libs.tslib.array_to_datetime\u001b[0;34m()\u001b[0m\n",
            "File \u001b[0;32m/opt/conda/envs/anaconda-panel-2023.05-py310/lib/python3.11/site-packages/pandas/_libs/tslib.pyx:649\u001b[0m, in \u001b[0;36mpandas._libs.tslib.array_to_datetime\u001b[0;34m()\u001b[0m\n",
            "File \u001b[0;32m/opt/conda/envs/anaconda-panel-2023.05-py310/lib/python3.11/site-packages/pandas/_libs/tslibs/np_datetime.pyx:212\u001b[0m, in \u001b[0;36mpandas._libs.tslibs.np_datetime.check_dts_bounds\u001b[0;34m()\u001b[0m\n",
            "\u001b[0;31mOutOfBoundsDatetime\u001b[0m: Out of bounds nanosecond timestamp: 1292-01-01 00:00:00 present at position 123"
          ]
        }
      ],
      "source": [
        "df['birth_date'] = pd.to_datetime(df['birth_date']) # This fails"
      ]
    },
    {
      "cell_type": "markdown",
      "id": "ebf58be3-7345-426b-b6da-4eb4122babc0",
      "metadata": {
        "id": "ebf58be3-7345-426b-b6da-4eb4122babc0"
      },
      "source": [
        "This generates errors due to several issues. First, there are entries in the dataset formatted like the following: ABT 751. This notation means that the family history experts believe the person was born about (ABT) 751. the second is related to an out of bounds nanosecond timestamp error relating to Pandas only supporting approximately 580 years in the range from around 1677 to 2262.\n",
        "\n",
        "To get around these issue, we'll write and then apply our own function. Note we're not dropping the NaN values here."
      ]
    },
    {
      "cell_type": "code",
      "execution_count": null,
      "id": "9331569f-e76a-4627-b28a-606d939f178e",
      "metadata": {
        "id": "9331569f-e76a-4627-b28a-606d939f178e",
        "outputId": "5b70c3b3-d305-4890-ddee-2a0bbd372c22"
      },
      "outputs": [
        {
          "name": "stdout",
          "output_type": "stream",
          "text": [
            "ID\n",
            "1       1819.0\n",
            "2       1819.0\n",
            "3       1840.0\n",
            "4       1841.0\n",
            "5       1843.0\n",
            "         ...  \n",
            "2989    1937.0\n",
            "2996    1877.0\n",
            "2997    1907.0\n",
            "2998    1912.0\n",
            "3006    1879.0\n",
            "Name: birth_year, Length: 1734, dtype: float64\n"
          ]
        }
      ],
      "source": [
        "def get_year(x):\n",
        "    if pd.isna(x):\n",
        "        year_result = np.nan  # if the birth_year is nan then return nan\n",
        "    else:  # checking a number of edge cases in the data and stripping it out:\n",
        "        if \"ABT\" in x:  # for example: ABT  1775\n",
        "            x = x[3:]\n",
        "            x = x.strip()\n",
        "        if \"/\" in x:  #  For example: 1775/1776\n",
        "            x = x[:x.find('/')]\n",
        "        num_spaces = x.count(' ')\n",
        "        if num_spaces == 0:  # only has the year\n",
        "            year_result = int(x)\n",
        "        elif num_spaces == 1:  # example: FEB 1337\n",
        "            x = x[x.rfind(' ') + 1:]  # 'rfind' finds the last space. The 'r' stands for 'reverse.'\n",
        "            if x.isnumeric():\n",
        "                year_result = int(x)\n",
        "            else:  # This could happen if there is only a day and month, like '10 JAN'\n",
        "                year_result = np.nan\n",
        "        elif num_spaces == 2:  # example: 16 FEB 1337\n",
        "            x = x[x.rfind(' ') + 1:]  # 'rfind' finds the last space. The 'r' stands for 'reverse.'\n",
        "            year_result = int(x)\n",
        "        else:\n",
        "            year_result = np.nan  # There are a few other strange dates that aren't worth our time to fix, so just return nan for those.\n",
        "    return year_result\n",
        "\n",
        "df['birth_year'] = df['birth_date'].map(get_year)\n",
        "\n",
        "print(df['birth_year'])"
      ]
    },
    {
      "cell_type": "markdown",
      "id": "a9874cbe-98da-43cc-b683-cceda54e2f25",
      "metadata": {
        "id": "a9874cbe-98da-43cc-b683-cceda54e2f25"
      },
      "source": [
        "### Conditionals in Dataframes and Series"
      ]
    },
    {
      "cell_type": "markdown",
      "id": "d83ad58c-ddd0-45de-af0e-0ab6d4fc4364",
      "metadata": {
        "id": "d83ad58c-ddd0-45de-af0e-0ab6d4fc4364"
      },
      "source": [
        "Conditionals are a very useful feature of Pandas which typically produce a Numpy array of Booleans or a Pandas Boolean series.\n",
        "\n",
        "For example, consider the following code that produces True if the birth_year column (calculated above) is greater than or equal to 1990, and False otherwise."
      ]
    },
    {
      "cell_type": "code",
      "execution_count": null,
      "id": "f284c3f3-44e5-4c02-9092-8358591fade5",
      "metadata": {
        "id": "f284c3f3-44e5-4c02-9092-8358591fade5",
        "outputId": "648aae40-dc5c-4f3d-c558-d224f18d0235"
      },
      "outputs": [
        {
          "name": "stdout",
          "output_type": "stream",
          "text": [
            "ID\n",
            "1       False\n",
            "2       False\n",
            "3       False\n",
            "4       False\n",
            "5       False\n",
            "        ...  \n",
            "2989    False\n",
            "2996    False\n",
            "2997    False\n",
            "2998    False\n",
            "3006    False\n",
            "Name: birth_year, Length: 1734, dtype: bool\n"
          ]
        }
      ],
      "source": [
        "boolean_mask = (df.birth_year >= 1990)\n",
        "print(boolean_mask)"
      ]
    },
    {
      "cell_type": "markdown",
      "id": "887524ad-cfb3-408b-8721-7809cd4aeca5",
      "metadata": {
        "id": "887524ad-cfb3-408b-8721-7809cd4aeca5"
      },
      "source": [
        "We can then use this to, for example, only print the entries for which the boolean is True."
      ]
    },
    {
      "cell_type": "code",
      "execution_count": null,
      "id": "3d98cbd8-ecf1-42c8-96a8-c6d29f810a9f",
      "metadata": {
        "id": "3d98cbd8-ecf1-42c8-96a8-c6d29f810a9f",
        "outputId": "bce6db0a-7c18-4e2e-8d3a-2798a20bf42d"
      },
      "outputs": [
        {
          "name": "stdout",
          "output_type": "stream",
          "text": [
            "                   first_name last_name  birth_year\n",
            "ID                                                 \n",
            "2958  Eugenie Victoria Helena   Windsor      1990.0\n",
            "2961                      NaN    Mowatt      1990.0\n",
            "2963                    Kitty       NaN      1991.0\n"
          ]
        }
      ],
      "source": [
        "print(df[boolean_mask][['first_name', 'last_name', 'birth_year']])"
      ]
    },
    {
      "cell_type": "markdown",
      "id": "0b27ad5f-eba7-48f9-9269-c3aa268db111",
      "metadata": {
        "id": "0b27ad5f-eba7-48f9-9269-c3aa268db111"
      },
      "source": [
        "We can combine Boolean expressions using the logical operators & (\"and\"), | (\"or\"), and ~ (\"not\"). For example:"
      ]
    },
    {
      "cell_type": "code",
      "execution_count": null,
      "id": "5072497e-b16f-4209-a9bc-099a1b35c4e2",
      "metadata": {
        "id": "5072497e-b16f-4209-a9bc-099a1b35c4e2",
        "outputId": "e1065f9d-a12a-4f6c-f73e-7e51ae0565d7"
      },
      "outputs": [
        {
          "name": "stdout",
          "output_type": "stream",
          "text": [
            "                          first_name             title  birth_year\n",
            "ID                                                                \n",
            "1                           Victoria  Queen of England      1819.0\n",
            "27            Victoria Eugenie Ena\"\"    Queen of Spain      1887.0\n",
            "30                Mary_of_Teck (May)             Queen      1867.0\n",
            "52       Elizabeth_II Alexandra Mary  Queen of England      1926.0\n",
            "76                 Sophie of_Prussia   Queen of Greece      1870.0\n",
            "96    Marie of_Saxe-Coburg and_Gotha  Queen of Romania      1875.0\n",
            "610                     Mergrethe_II  Queen of Denmark      1940.0\n",
            "656              Emma of_Netherlands      Queen Regent      1858.0\n",
            "657        Wilhelmina of_Netherlands             Queen      1880.0\n",
            "659           Juliana of_Netherlands             Queen      1909.0\n",
            "661           Beatrix of_Netherlands             Queen      1938.0\n",
            "682        Maria Cristina of_Austria    Queen of Spain      1858.0\n",
            "693                             Anne  Queen of England      1665.0\n",
            "709                          Mary_II  Queen of England      1662.0\n",
            "846                           Mary_I  Queen of England      1516.0\n",
            "849                      Elizabeth_I  Queen of England      1533.0\n",
            "868                             Jane  Queen of England      1537.0\n",
            "1244                     Isabella_II    Queen of Spain      1830.0\n",
            "1247                            Mary    Queen of Scots      1542.0\n",
            "1705         Marie Amelie of_Bourbon   Queen of France      1782.0\n"
          ]
        }
      ],
      "source": [
        "print(df[(df.birth_year >= 1500) & (df.title.str.contains('Queen'))][['first_name', 'title', 'birth_year']])"
      ]
    },
    {
      "cell_type": "markdown",
      "id": "65223f3d-26df-42bb-8b37-2739eff4496a",
      "metadata": {
        "id": "65223f3d-26df-42bb-8b37-2739eff4496a"
      },
      "source": [
        "### loc and iloc Functions"
      ]
    },
    {
      "cell_type": "markdown",
      "id": "5d28ffab-caaf-40a5-85a7-e018097f79c0",
      "metadata": {
        "id": "5d28ffab-caaf-40a5-85a7-e018097f79c0"
      },
      "source": [
        "One of the most common tasks for data scientists is filtering the information to more efficiently derive actionable insights about the data. We've seen the \"head\" and \"tail\" functions, which provide a quick, truncated view of the beginning or end, respectively, of the dataframe or series. But what if you're interested in examining results that are not necessarily at the very beginning or end of the dataset.\n",
        "\n",
        "For this purpose, the loc function is designed to access rows and columns by label. In contrast, the iloc function is used to access rows and columns by integer value - the \"i\" stands for \"integer\".\n",
        "\n",
        "A quick example of the difference is illustrated below, where both commands do the same thing:"
      ]
    },
    {
      "cell_type": "code",
      "execution_count": null,
      "id": "319b2da6-b061-463b-afb1-d7cccfee40e2",
      "metadata": {
        "id": "319b2da6-b061-463b-afb1-d7cccfee40e2",
        "outputId": "7e45d2ef-da04-420d-968d-3af842483b5a"
      },
      "outputs": [
        {
          "name": "stdout",
          "output_type": "stream",
          "text": [
            "first_name                                Victoria\n",
            "last_name                                  Hanover\n",
            "sex                                              F\n",
            "title                             Queen of England\n",
            "birth_date                             24 MAY 1819\n",
            "birth_place       Kensington,Palace,London,England\n",
            "death_date                             22 JAN 1901\n",
            "death_place    Osborne House,Isle of Wight,England\n",
            "birth_year                                  1819.0\n",
            "Name: 1, dtype: object\n"
          ]
        }
      ],
      "source": [
        "print(df.loc[1])"
      ]
    },
    {
      "cell_type": "code",
      "execution_count": null,
      "id": "b0379c05-3a0b-4a9b-acb2-2b681e5857ff",
      "metadata": {
        "id": "b0379c05-3a0b-4a9b-acb2-2b681e5857ff",
        "outputId": "716cf2ca-0bcb-43cf-fa67-a29d0eddd7cb"
      },
      "outputs": [
        {
          "name": "stdout",
          "output_type": "stream",
          "text": [
            "first_name                                Victoria\n",
            "last_name                                  Hanover\n",
            "sex                                              F\n",
            "title                             Queen of England\n",
            "birth_date                             24 MAY 1819\n",
            "birth_place       Kensington,Palace,London,England\n",
            "death_date                             22 JAN 1901\n",
            "death_place    Osborne House,Isle of Wight,England\n",
            "birth_year                                  1819.0\n",
            "Name: 1, dtype: object\n"
          ]
        }
      ],
      "source": [
        "print(df.iloc[0])"
      ]
    },
    {
      "cell_type": "markdown",
      "id": "77b533f4-7b8d-4319-97a4-34bb363c199c",
      "metadata": {
        "id": "77b533f4-7b8d-4319-97a4-34bb363c199c"
      },
      "source": [
        "However, the following will produce an error:"
      ]
    },
    {
      "cell_type": "code",
      "execution_count": null,
      "id": "9f968edf-6c88-4025-bea2-9fb153afe95f",
      "metadata": {
        "id": "9f968edf-6c88-4025-bea2-9fb153afe95f",
        "outputId": "54a68cef-524d-464d-f6b1-931ec3807f07"
      },
      "outputs": [
        {
          "ename": "KeyError",
          "evalue": "0",
          "output_type": "error",
          "traceback": [
            "\u001b[0;31m---------------------------------------------------------------------------\u001b[0m",
            "\u001b[0;31mKeyError\u001b[0m                                  Traceback (most recent call last)",
            "File \u001b[0;32m/opt/conda/envs/anaconda-panel-2023.05-py310/lib/python3.11/site-packages/pandas/core/indexes/base.py:3802\u001b[0m, in \u001b[0;36mIndex.get_loc\u001b[0;34m(self, key, method, tolerance)\u001b[0m\n\u001b[1;32m   3801\u001b[0m \u001b[38;5;28;01mtry\u001b[39;00m:\n\u001b[0;32m-> 3802\u001b[0m     \u001b[38;5;28;01mreturn\u001b[39;00m \u001b[38;5;28mself\u001b[39m\u001b[38;5;241m.\u001b[39m_engine\u001b[38;5;241m.\u001b[39mget_loc(casted_key)\n\u001b[1;32m   3803\u001b[0m \u001b[38;5;28;01mexcept\u001b[39;00m \u001b[38;5;167;01mKeyError\u001b[39;00m \u001b[38;5;28;01mas\u001b[39;00m err:\n",
            "File \u001b[0;32m/opt/conda/envs/anaconda-panel-2023.05-py310/lib/python3.11/site-packages/pandas/_libs/index.pyx:138\u001b[0m, in \u001b[0;36mpandas._libs.index.IndexEngine.get_loc\u001b[0;34m()\u001b[0m\n",
            "File \u001b[0;32m/opt/conda/envs/anaconda-panel-2023.05-py310/lib/python3.11/site-packages/pandas/_libs/index.pyx:165\u001b[0m, in \u001b[0;36mpandas._libs.index.IndexEngine.get_loc\u001b[0;34m()\u001b[0m\n",
            "File \u001b[0;32mpandas/_libs/hashtable_class_helper.pxi:2263\u001b[0m, in \u001b[0;36mpandas._libs.hashtable.Int64HashTable.get_item\u001b[0;34m()\u001b[0m\n",
            "File \u001b[0;32mpandas/_libs/hashtable_class_helper.pxi:2273\u001b[0m, in \u001b[0;36mpandas._libs.hashtable.Int64HashTable.get_item\u001b[0;34m()\u001b[0m\n",
            "\u001b[0;31mKeyError\u001b[0m: 0",
            "\nThe above exception was the direct cause of the following exception:\n",
            "\u001b[0;31mKeyError\u001b[0m                                  Traceback (most recent call last)",
            "Cell \u001b[0;32mIn[170], line 1\u001b[0m\n\u001b[0;32m----> 1\u001b[0m \u001b[38;5;28mprint\u001b[39m(df\u001b[38;5;241m.\u001b[39mloc[\u001b[38;5;241m0\u001b[39m])\n",
            "File \u001b[0;32m/opt/conda/envs/anaconda-panel-2023.05-py310/lib/python3.11/site-packages/pandas/core/indexing.py:1073\u001b[0m, in \u001b[0;36m_LocationIndexer.__getitem__\u001b[0;34m(self, key)\u001b[0m\n\u001b[1;32m   1070\u001b[0m axis \u001b[38;5;241m=\u001b[39m \u001b[38;5;28mself\u001b[39m\u001b[38;5;241m.\u001b[39maxis \u001b[38;5;129;01mor\u001b[39;00m \u001b[38;5;241m0\u001b[39m\n\u001b[1;32m   1072\u001b[0m maybe_callable \u001b[38;5;241m=\u001b[39m com\u001b[38;5;241m.\u001b[39mapply_if_callable(key, \u001b[38;5;28mself\u001b[39m\u001b[38;5;241m.\u001b[39mobj)\n\u001b[0;32m-> 1073\u001b[0m \u001b[38;5;28;01mreturn\u001b[39;00m \u001b[38;5;28mself\u001b[39m\u001b[38;5;241m.\u001b[39m_getitem_axis(maybe_callable, axis\u001b[38;5;241m=\u001b[39maxis)\n",
            "File \u001b[0;32m/opt/conda/envs/anaconda-panel-2023.05-py310/lib/python3.11/site-packages/pandas/core/indexing.py:1312\u001b[0m, in \u001b[0;36m_LocIndexer._getitem_axis\u001b[0;34m(self, key, axis)\u001b[0m\n\u001b[1;32m   1310\u001b[0m \u001b[38;5;66;03m# fall thru to straight lookup\u001b[39;00m\n\u001b[1;32m   1311\u001b[0m \u001b[38;5;28mself\u001b[39m\u001b[38;5;241m.\u001b[39m_validate_key(key, axis)\n\u001b[0;32m-> 1312\u001b[0m \u001b[38;5;28;01mreturn\u001b[39;00m \u001b[38;5;28mself\u001b[39m\u001b[38;5;241m.\u001b[39m_get_label(key, axis\u001b[38;5;241m=\u001b[39maxis)\n",
            "File \u001b[0;32m/opt/conda/envs/anaconda-panel-2023.05-py310/lib/python3.11/site-packages/pandas/core/indexing.py:1260\u001b[0m, in \u001b[0;36m_LocIndexer._get_label\u001b[0;34m(self, label, axis)\u001b[0m\n\u001b[1;32m   1258\u001b[0m \u001b[38;5;28;01mdef\u001b[39;00m \u001b[38;5;21m_get_label\u001b[39m(\u001b[38;5;28mself\u001b[39m, label, axis: \u001b[38;5;28mint\u001b[39m):\n\u001b[1;32m   1259\u001b[0m     \u001b[38;5;66;03m# GH#5567 this will fail if the label is not present in the axis.\u001b[39;00m\n\u001b[0;32m-> 1260\u001b[0m     \u001b[38;5;28;01mreturn\u001b[39;00m \u001b[38;5;28mself\u001b[39m\u001b[38;5;241m.\u001b[39mobj\u001b[38;5;241m.\u001b[39mxs(label, axis\u001b[38;5;241m=\u001b[39maxis)\n",
            "File \u001b[0;32m/opt/conda/envs/anaconda-panel-2023.05-py310/lib/python3.11/site-packages/pandas/core/generic.py:4056\u001b[0m, in \u001b[0;36mNDFrame.xs\u001b[0;34m(self, key, axis, level, drop_level)\u001b[0m\n\u001b[1;32m   4054\u001b[0m             new_index \u001b[38;5;241m=\u001b[39m index[loc]\n\u001b[1;32m   4055\u001b[0m \u001b[38;5;28;01melse\u001b[39;00m:\n\u001b[0;32m-> 4056\u001b[0m     loc \u001b[38;5;241m=\u001b[39m index\u001b[38;5;241m.\u001b[39mget_loc(key)\n\u001b[1;32m   4058\u001b[0m     \u001b[38;5;28;01mif\u001b[39;00m \u001b[38;5;28misinstance\u001b[39m(loc, np\u001b[38;5;241m.\u001b[39mndarray):\n\u001b[1;32m   4059\u001b[0m         \u001b[38;5;28;01mif\u001b[39;00m loc\u001b[38;5;241m.\u001b[39mdtype \u001b[38;5;241m==\u001b[39m np\u001b[38;5;241m.\u001b[39mbool_:\n",
            "File \u001b[0;32m/opt/conda/envs/anaconda-panel-2023.05-py310/lib/python3.11/site-packages/pandas/core/indexes/base.py:3804\u001b[0m, in \u001b[0;36mIndex.get_loc\u001b[0;34m(self, key, method, tolerance)\u001b[0m\n\u001b[1;32m   3802\u001b[0m     \u001b[38;5;28;01mreturn\u001b[39;00m \u001b[38;5;28mself\u001b[39m\u001b[38;5;241m.\u001b[39m_engine\u001b[38;5;241m.\u001b[39mget_loc(casted_key)\n\u001b[1;32m   3803\u001b[0m \u001b[38;5;28;01mexcept\u001b[39;00m \u001b[38;5;167;01mKeyError\u001b[39;00m \u001b[38;5;28;01mas\u001b[39;00m err:\n\u001b[0;32m-> 3804\u001b[0m     \u001b[38;5;28;01mraise\u001b[39;00m \u001b[38;5;167;01mKeyError\u001b[39;00m(key) \u001b[38;5;28;01mfrom\u001b[39;00m \u001b[38;5;21;01merr\u001b[39;00m\n\u001b[1;32m   3805\u001b[0m \u001b[38;5;28;01mexcept\u001b[39;00m \u001b[38;5;167;01mTypeError\u001b[39;00m:\n\u001b[1;32m   3806\u001b[0m     \u001b[38;5;66;03m# If we have a listlike key, _check_indexing_error will raise\u001b[39;00m\n\u001b[1;32m   3807\u001b[0m     \u001b[38;5;66;03m#  InvalidIndexError. Otherwise we fall through and re-raise\u001b[39;00m\n\u001b[1;32m   3808\u001b[0m     \u001b[38;5;66;03m#  the TypeError.\u001b[39;00m\n\u001b[1;32m   3809\u001b[0m     \u001b[38;5;28mself\u001b[39m\u001b[38;5;241m.\u001b[39m_check_indexing_error(key)\n",
            "\u001b[0;31mKeyError\u001b[0m: 0"
          ]
        }
      ],
      "source": [
        "print(df.loc[0])"
      ]
    },
    {
      "cell_type": "markdown",
      "id": "7089a36e-0975-444a-aabc-681345bbef34",
      "metadata": {
        "id": "7089a36e-0975-444a-aabc-681345bbef34"
      },
      "source": [
        "Because there is no row with label 0."
      ]
    },
    {
      "cell_type": "markdown",
      "id": "d8ae7c61-e041-4945-ad75-48878aa18397",
      "metadata": {
        "id": "d8ae7c61-e041-4945-ad75-48878aa18397"
      },
      "source": [
        "Now, row indices (labels) don't need to be unique. For example:"
      ]
    },
    {
      "cell_type": "code",
      "execution_count": null,
      "id": "d795d66a-7d1f-482d-b87f-d2c78476913b",
      "metadata": {
        "id": "d795d66a-7d1f-482d-b87f-d2c78476913b",
        "outputId": "0fb9a170-24fb-4a2f-c6f7-55a2ac546ba3"
      },
      "outputs": [
        {
          "name": "stdout",
          "output_type": "stream",
          "text": [
            "       A  B\n",
            "cat    0  1\n",
            "42     2  3\n",
            "stone  4  5\n",
            "42     6  7\n",
            "12345  8  9\n"
          ]
        }
      ],
      "source": [
        "df = pd.DataFrame(np.arange(10).reshape(5, 2), columns=['A', 'B'], index=['cat', 42, 'stone', 42, 12345])# Five rows each with an associated index\n",
        "print(df)"
      ]
    },
    {
      "cell_type": "markdown",
      "id": "bea90b54-d3e1-423c-8e15-cfab251fa88a",
      "metadata": {
        "id": "bea90b54-d3e1-423c-8e15-cfab251fa88a"
      },
      "source": [
        "The index \"42\" appears twice, and some indices are numbers, while some are strings. Let's look at some examples:"
      ]
    },
    {
      "cell_type": "code",
      "execution_count": null,
      "id": "faa1ed1f-4f5e-4e39-8e62-585e58953c8a",
      "metadata": {
        "id": "faa1ed1f-4f5e-4e39-8e62-585e58953c8a",
        "outputId": "fb15f8ef-4f77-4f06-f740-3d13e58c3e16"
      },
      "outputs": [
        {
          "name": "stdout",
          "output_type": "stream",
          "text": [
            "A    8\n",
            "B    9\n",
            "Name: 12345, dtype: int64\n"
          ]
        }
      ],
      "source": [
        "print(df.loc[12345])"
      ]
    },
    {
      "cell_type": "code",
      "execution_count": null,
      "id": "3b357af6-dc91-4acb-a3c6-fb2d1c282a2a",
      "metadata": {
        "id": "3b357af6-dc91-4acb-a3c6-fb2d1c282a2a",
        "outputId": "744d7fa8-bcb3-4ddf-a646-590a8b840d12"
      },
      "outputs": [
        {
          "name": "stdout",
          "output_type": "stream",
          "text": [
            "A    4\n",
            "B    5\n",
            "Name: stone, dtype: int64\n"
          ]
        }
      ],
      "source": [
        "print(df.loc['stone'])"
      ]
    },
    {
      "cell_type": "code",
      "execution_count": null,
      "id": "7d39c236-b1c2-4d71-8f0d-a205a3def9eb",
      "metadata": {
        "id": "7d39c236-b1c2-4d71-8f0d-a205a3def9eb",
        "outputId": "cfe52bd3-468a-424e-ba3b-d968efb3d386"
      },
      "outputs": [
        {
          "name": "stdout",
          "output_type": "stream",
          "text": [
            "    A  B\n",
            "42  2  3\n",
            "42  6  7\n"
          ]
        }
      ],
      "source": [
        "print(df.loc[42])"
      ]
    },
    {
      "cell_type": "code",
      "execution_count": null,
      "id": "0068e31a-5b7d-4ea0-9aa6-810a06aed3c2",
      "metadata": {
        "id": "0068e31a-5b7d-4ea0-9aa6-810a06aed3c2",
        "outputId": "9f73a6b1-34ea-4ba5-9c9c-f94a746a3ed5"
      },
      "outputs": [
        {
          "ename": "KeyError",
          "evalue": "'A'",
          "output_type": "error",
          "traceback": [
            "\u001b[0;31m---------------------------------------------------------------------------\u001b[0m",
            "\u001b[0;31mKeyError\u001b[0m                                  Traceback (most recent call last)",
            "File \u001b[0;32m/opt/conda/envs/anaconda-panel-2023.05-py310/lib/python3.11/site-packages/pandas/core/indexes/base.py:3802\u001b[0m, in \u001b[0;36mIndex.get_loc\u001b[0;34m(self, key, method, tolerance)\u001b[0m\n\u001b[1;32m   3801\u001b[0m \u001b[38;5;28;01mtry\u001b[39;00m:\n\u001b[0;32m-> 3802\u001b[0m     \u001b[38;5;28;01mreturn\u001b[39;00m \u001b[38;5;28mself\u001b[39m\u001b[38;5;241m.\u001b[39m_engine\u001b[38;5;241m.\u001b[39mget_loc(casted_key)\n\u001b[1;32m   3803\u001b[0m \u001b[38;5;28;01mexcept\u001b[39;00m \u001b[38;5;167;01mKeyError\u001b[39;00m \u001b[38;5;28;01mas\u001b[39;00m err:\n",
            "File \u001b[0;32m/opt/conda/envs/anaconda-panel-2023.05-py310/lib/python3.11/site-packages/pandas/_libs/index.pyx:138\u001b[0m, in \u001b[0;36mpandas._libs.index.IndexEngine.get_loc\u001b[0;34m()\u001b[0m\n",
            "File \u001b[0;32m/opt/conda/envs/anaconda-panel-2023.05-py310/lib/python3.11/site-packages/pandas/_libs/index.pyx:162\u001b[0m, in \u001b[0;36mpandas._libs.index.IndexEngine.get_loc\u001b[0;34m()\u001b[0m\n",
            "File \u001b[0;32m/opt/conda/envs/anaconda-panel-2023.05-py310/lib/python3.11/site-packages/pandas/_libs/index.pyx:203\u001b[0m, in \u001b[0;36mpandas._libs.index.IndexEngine._get_loc_duplicates\u001b[0;34m()\u001b[0m\n",
            "File \u001b[0;32m/opt/conda/envs/anaconda-panel-2023.05-py310/lib/python3.11/site-packages/pandas/_libs/index.pyx:211\u001b[0m, in \u001b[0;36mpandas._libs.index.IndexEngine._maybe_get_bool_indexer\u001b[0;34m()\u001b[0m\n",
            "File \u001b[0;32m/opt/conda/envs/anaconda-panel-2023.05-py310/lib/python3.11/site-packages/pandas/_libs/index.pyx:107\u001b[0m, in \u001b[0;36mpandas._libs.index._unpack_bool_indexer\u001b[0;34m()\u001b[0m\n",
            "\u001b[0;31mKeyError\u001b[0m: 'A'",
            "\nThe above exception was the direct cause of the following exception:\n",
            "\u001b[0;31mKeyError\u001b[0m                                  Traceback (most recent call last)",
            "Cell \u001b[0;32mIn[208], line 1\u001b[0m\n\u001b[0;32m----> 1\u001b[0m \u001b[38;5;28mprint\u001b[39m(df\u001b[38;5;241m.\u001b[39mloc[\u001b[38;5;124m'\u001b[39m\u001b[38;5;124mA\u001b[39m\u001b[38;5;124m'\u001b[39m])\n",
            "File \u001b[0;32m/opt/conda/envs/anaconda-panel-2023.05-py310/lib/python3.11/site-packages/pandas/core/indexing.py:1073\u001b[0m, in \u001b[0;36m_LocationIndexer.__getitem__\u001b[0;34m(self, key)\u001b[0m\n\u001b[1;32m   1070\u001b[0m axis \u001b[38;5;241m=\u001b[39m \u001b[38;5;28mself\u001b[39m\u001b[38;5;241m.\u001b[39maxis \u001b[38;5;129;01mor\u001b[39;00m \u001b[38;5;241m0\u001b[39m\n\u001b[1;32m   1072\u001b[0m maybe_callable \u001b[38;5;241m=\u001b[39m com\u001b[38;5;241m.\u001b[39mapply_if_callable(key, \u001b[38;5;28mself\u001b[39m\u001b[38;5;241m.\u001b[39mobj)\n\u001b[0;32m-> 1073\u001b[0m \u001b[38;5;28;01mreturn\u001b[39;00m \u001b[38;5;28mself\u001b[39m\u001b[38;5;241m.\u001b[39m_getitem_axis(maybe_callable, axis\u001b[38;5;241m=\u001b[39maxis)\n",
            "File \u001b[0;32m/opt/conda/envs/anaconda-panel-2023.05-py310/lib/python3.11/site-packages/pandas/core/indexing.py:1312\u001b[0m, in \u001b[0;36m_LocIndexer._getitem_axis\u001b[0;34m(self, key, axis)\u001b[0m\n\u001b[1;32m   1310\u001b[0m \u001b[38;5;66;03m# fall thru to straight lookup\u001b[39;00m\n\u001b[1;32m   1311\u001b[0m \u001b[38;5;28mself\u001b[39m\u001b[38;5;241m.\u001b[39m_validate_key(key, axis)\n\u001b[0;32m-> 1312\u001b[0m \u001b[38;5;28;01mreturn\u001b[39;00m \u001b[38;5;28mself\u001b[39m\u001b[38;5;241m.\u001b[39m_get_label(key, axis\u001b[38;5;241m=\u001b[39maxis)\n",
            "File \u001b[0;32m/opt/conda/envs/anaconda-panel-2023.05-py310/lib/python3.11/site-packages/pandas/core/indexing.py:1260\u001b[0m, in \u001b[0;36m_LocIndexer._get_label\u001b[0;34m(self, label, axis)\u001b[0m\n\u001b[1;32m   1258\u001b[0m \u001b[38;5;28;01mdef\u001b[39;00m \u001b[38;5;21m_get_label\u001b[39m(\u001b[38;5;28mself\u001b[39m, label, axis: \u001b[38;5;28mint\u001b[39m):\n\u001b[1;32m   1259\u001b[0m     \u001b[38;5;66;03m# GH#5567 this will fail if the label is not present in the axis.\u001b[39;00m\n\u001b[0;32m-> 1260\u001b[0m     \u001b[38;5;28;01mreturn\u001b[39;00m \u001b[38;5;28mself\u001b[39m\u001b[38;5;241m.\u001b[39mobj\u001b[38;5;241m.\u001b[39mxs(label, axis\u001b[38;5;241m=\u001b[39maxis)\n",
            "File \u001b[0;32m/opt/conda/envs/anaconda-panel-2023.05-py310/lib/python3.11/site-packages/pandas/core/generic.py:4056\u001b[0m, in \u001b[0;36mNDFrame.xs\u001b[0;34m(self, key, axis, level, drop_level)\u001b[0m\n\u001b[1;32m   4054\u001b[0m             new_index \u001b[38;5;241m=\u001b[39m index[loc]\n\u001b[1;32m   4055\u001b[0m \u001b[38;5;28;01melse\u001b[39;00m:\n\u001b[0;32m-> 4056\u001b[0m     loc \u001b[38;5;241m=\u001b[39m index\u001b[38;5;241m.\u001b[39mget_loc(key)\n\u001b[1;32m   4058\u001b[0m     \u001b[38;5;28;01mif\u001b[39;00m \u001b[38;5;28misinstance\u001b[39m(loc, np\u001b[38;5;241m.\u001b[39mndarray):\n\u001b[1;32m   4059\u001b[0m         \u001b[38;5;28;01mif\u001b[39;00m loc\u001b[38;5;241m.\u001b[39mdtype \u001b[38;5;241m==\u001b[39m np\u001b[38;5;241m.\u001b[39mbool_:\n",
            "File \u001b[0;32m/opt/conda/envs/anaconda-panel-2023.05-py310/lib/python3.11/site-packages/pandas/core/indexes/base.py:3804\u001b[0m, in \u001b[0;36mIndex.get_loc\u001b[0;34m(self, key, method, tolerance)\u001b[0m\n\u001b[1;32m   3802\u001b[0m     \u001b[38;5;28;01mreturn\u001b[39;00m \u001b[38;5;28mself\u001b[39m\u001b[38;5;241m.\u001b[39m_engine\u001b[38;5;241m.\u001b[39mget_loc(casted_key)\n\u001b[1;32m   3803\u001b[0m \u001b[38;5;28;01mexcept\u001b[39;00m \u001b[38;5;167;01mKeyError\u001b[39;00m \u001b[38;5;28;01mas\u001b[39;00m err:\n\u001b[0;32m-> 3804\u001b[0m     \u001b[38;5;28;01mraise\u001b[39;00m \u001b[38;5;167;01mKeyError\u001b[39;00m(key) \u001b[38;5;28;01mfrom\u001b[39;00m \u001b[38;5;21;01merr\u001b[39;00m\n\u001b[1;32m   3805\u001b[0m \u001b[38;5;28;01mexcept\u001b[39;00m \u001b[38;5;167;01mTypeError\u001b[39;00m:\n\u001b[1;32m   3806\u001b[0m     \u001b[38;5;66;03m# If we have a listlike key, _check_indexing_error will raise\u001b[39;00m\n\u001b[1;32m   3807\u001b[0m     \u001b[38;5;66;03m#  InvalidIndexError. Otherwise we fall through and re-raise\u001b[39;00m\n\u001b[1;32m   3808\u001b[0m     \u001b[38;5;66;03m#  the TypeError.\u001b[39;00m\n\u001b[1;32m   3809\u001b[0m     \u001b[38;5;28mself\u001b[39m\u001b[38;5;241m.\u001b[39m_check_indexing_error(key)\n",
            "\u001b[0;31mKeyError\u001b[0m: 'A'"
          ]
        }
      ],
      "source": [
        "print(df.loc['A'])"
      ]
    },
    {
      "cell_type": "code",
      "execution_count": null,
      "id": "461c326d-edc3-4dfc-aa94-54b1b132e103",
      "metadata": {
        "id": "461c326d-edc3-4dfc-aa94-54b1b132e103",
        "outputId": "5d81c8cf-de80-4d15-e107-84515c07751b"
      },
      "outputs": [
        {
          "name": "stdout",
          "output_type": "stream",
          "text": [
            "       A  B\n",
            "cat    0  1\n",
            "42     2  3\n",
            "stone  4  5\n"
          ]
        }
      ],
      "source": [
        "print(df.loc['cat':'stone'])"
      ]
    },
    {
      "cell_type": "code",
      "execution_count": null,
      "id": "9bcaea12-7f75-4970-989c-fe66aa2d9908",
      "metadata": {
        "id": "9bcaea12-7f75-4970-989c-fe66aa2d9908",
        "outputId": "9664666d-6860-4d10-9d45-510b8c91ee0e"
      },
      "outputs": [
        {
          "name": "stdout",
          "output_type": "stream",
          "text": [
            "       A  B\n",
            "cat    0  1\n",
            "stone  4  5\n"
          ]
        }
      ],
      "source": [
        "print(df.loc[['cat','stone']])"
      ]
    },
    {
      "cell_type": "code",
      "execution_count": null,
      "id": "854ce347-18c8-443a-bbb3-b0a463cedcc8",
      "metadata": {
        "id": "854ce347-18c8-443a-bbb3-b0a463cedcc8",
        "outputId": "3ceb350e-efad-4235-8f51-9851bcceb174"
      },
      "outputs": [
        {
          "name": "stdout",
          "output_type": "stream",
          "text": [
            "5\n"
          ]
        }
      ],
      "source": [
        "print(df.loc['stone', 'B'])"
      ]
    },
    {
      "cell_type": "code",
      "execution_count": null,
      "id": "067bf67c-561e-459b-ba9e-0954304eba0a",
      "metadata": {
        "id": "067bf67c-561e-459b-ba9e-0954304eba0a",
        "outputId": "73ec28d9-be84-49d2-e834-547836003b64"
      },
      "outputs": [
        {
          "name": "stdout",
          "output_type": "stream",
          "text": [
            "       A  B\n",
            "stone  4  5\n",
            "42     6  7\n",
            "12345  8  9\n"
          ]
        }
      ],
      "source": [
        "print(df.loc[df['A'] > 3])"
      ]
    },
    {
      "cell_type": "markdown",
      "id": "7bc6b9cd-fa6b-415b-91f1-46fc6e92c75f",
      "metadata": {
        "id": "7bc6b9cd-fa6b-415b-91f1-46fc6e92c75f"
      },
      "source": [
        "Now let's take a look at some iloc examples:"
      ]
    },
    {
      "cell_type": "code",
      "execution_count": null,
      "id": "92ecf740-998a-4b97-a835-a461717302ff",
      "metadata": {
        "id": "92ecf740-998a-4b97-a835-a461717302ff",
        "outputId": "afe4ce61-fc4c-4c57-d477-e5d53ac8aa37"
      },
      "outputs": [
        {
          "name": "stdout",
          "output_type": "stream",
          "text": [
            "A    0\n",
            "B    1\n",
            "Name: cat, dtype: int64\n"
          ]
        }
      ],
      "source": [
        "print(df.iloc[0])"
      ]
    },
    {
      "cell_type": "code",
      "execution_count": null,
      "id": "7600da8f-87ee-46ca-99b8-4134c018f206",
      "metadata": {
        "id": "7600da8f-87ee-46ca-99b8-4134c018f206",
        "outputId": "50eba348-a039-46b4-d532-3766f0b4a133"
      },
      "outputs": [
        {
          "name": "stdout",
          "output_type": "stream",
          "text": [
            "       A  B\n",
            "cat    0  1\n",
            "42     2  3\n",
            "stone  4  5\n"
          ]
        }
      ],
      "source": [
        "print(df.iloc[0:3])"
      ]
    },
    {
      "cell_type": "code",
      "execution_count": null,
      "id": "c3ae548e-b769-4039-9067-79c1464fcace",
      "metadata": {
        "id": "c3ae548e-b769-4039-9067-79c1464fcace",
        "outputId": "f5720928-44e1-427e-8118-ddaf9ed181ca"
      },
      "outputs": [
        {
          "name": "stdout",
          "output_type": "stream",
          "text": [
            "       A  B\n",
            "cat    0  1\n",
            "stone  4  5\n",
            "12345  8  9\n"
          ]
        }
      ],
      "source": [
        "print(df.iloc[[0,2,4]])"
      ]
    },
    {
      "cell_type": "code",
      "execution_count": null,
      "id": "113c4b23-4641-4a76-b630-f895968eec0e",
      "metadata": {
        "id": "113c4b23-4641-4a76-b630-f895968eec0e",
        "outputId": "e83cfeb2-9ce1-43d8-eb45-ad5311c4a3a0"
      },
      "outputs": [
        {
          "name": "stdout",
          "output_type": "stream",
          "text": [
            "1\n"
          ]
        }
      ],
      "source": [
        "print(df.iloc[0,1])"
      ]
    },
    {
      "cell_type": "code",
      "execution_count": null,
      "id": "84851fa7-8695-4926-a0b7-331af4f42aad",
      "metadata": {
        "id": "84851fa7-8695-4926-a0b7-331af4f42aad",
        "outputId": "e8c1cd42-0ef1-4cb3-8a5c-01cb737e9fb9"
      },
      "outputs": [
        {
          "name": "stdout",
          "output_type": "stream",
          "text": [
            "cat      1\n",
            "42       3\n",
            "stone    5\n",
            "Name: B, dtype: int64\n"
          ]
        }
      ],
      "source": [
        "print(df.iloc[0:3,1])"
      ]
    },
    {
      "cell_type": "markdown",
      "id": "7b7543b0-2786-4e49-aee5-36d664874643",
      "metadata": {
        "id": "7b7543b0-2786-4e49-aee5-36d664874643"
      },
      "source": [
        "Returning to the royal family history data as an example, let's create a new column named \"era\". The \"era\" column signifies if a person was born in one of three distinct time periods: 'ancient', 'middle_years', or 'modern'. The following creates a new column and initially assigns the value 'unknown' to every entry within it:"
      ]
    },
    {
      "cell_type": "code",
      "execution_count": null,
      "id": "d81bf457-469b-472d-9be9-ece9a9584b25",
      "metadata": {
        "id": "d81bf457-469b-472d-9be9-ece9a9584b25"
      },
      "outputs": [],
      "source": [
        "df = pd.read_csv('../Datasets/royal_line.csv', index_col='ID')\n",
        "df['birth_year'] = df['birth_date'].map(get_year)\n",
        "df['era'] = 'unknown'"
      ]
    },
    {
      "cell_type": "code",
      "execution_count": null,
      "id": "167a9716-28bd-439a-bdee-90a03282eb00",
      "metadata": {
        "id": "167a9716-28bd-439a-bdee-90a03282eb00",
        "outputId": "d2dcdb80-12e7-48fd-e05c-bb6cfa2330e2"
      },
      "outputs": [
        {
          "name": "stdout",
          "output_type": "stream",
          "text": [
            "                   first_name last_name sex             title   birth_date  \\\n",
            "ID                                                                           \n",
            "1                    Victoria   Hanover   F  Queen of England  24 MAY 1819   \n",
            "2     Albert Augustus Charles       NaN   M            Prince  26 AUG 1819   \n",
            "3      Victoria Adelaide Mary       NaN   F    Princess Royal  21 NOV 1840   \n",
            "4                  Edward_VII    Wettin   M   King of England   9 NOV 1841   \n",
            "5             Alice Maud Mary       NaN   F          Princess  25 APR 1843   \n",
            "...                       ...       ...  ..               ...          ...   \n",
            "3005                    Emily   Scobell   F               NaN          NaN   \n",
            "3006             John Sanford   Scobell   M               Sir         1879   \n",
            "3007                    James  Cartland   M               NaN          NaN   \n",
            "3008                    Flora       NaN   F               NaN          NaN   \n",
            "3009                      NaN  Cartland   F               NaN          NaN   \n",
            "\n",
            "                              birth_place   death_date  \\\n",
            "ID                                                       \n",
            "1        Kensington,Palace,London,England  22 JAN 1901   \n",
            "2     Schloss Rosenau,Near Coburg,Germany  14 DEC 1861   \n",
            "3        Buckingham,Palace,London,England   5 AUG 1901   \n",
            "4        Buckingham,Palace,London,England   6 MAY 1910   \n",
            "5        Buckingham,Palace,London,England  14 DEC 1878   \n",
            "...                                   ...          ...   \n",
            "3005                                  NaN          NaN   \n",
            "3006                                  NaN          NaN   \n",
            "3007                                  NaN          NaN   \n",
            "3008                                  NaN          NaN   \n",
            "3009                                  NaN  ABT    1911   \n",
            "\n",
            "                              death_place  birth_year      era  \n",
            "ID                                                              \n",
            "1     Osborne House,Isle of Wight,England      1819.0  unknown  \n",
            "2        Windsor Castle,Berkshire,England      1819.0  unknown  \n",
            "3      Friedrichshof,Near,Kronberg,Taunus      1840.0  unknown  \n",
            "4        Buckingham,Palace,London,England      1841.0  unknown  \n",
            "5                     Darmstadt,,,Germany      1843.0  unknown  \n",
            "...                                   ...         ...      ...  \n",
            "3005                                  NaN         NaN  unknown  \n",
            "3006                                  NaN      1879.0  unknown  \n",
            "3007                                  NaN         NaN  unknown  \n",
            "3008                                  NaN         NaN  unknown  \n",
            "3009                                  NaN         NaN  unknown  \n",
            "\n",
            "[3009 rows x 10 columns]\n"
          ]
        }
      ],
      "source": [
        "print(df)"
      ]
    },
    {
      "cell_type": "markdown",
      "id": "327c8a9a-a070-45c3-90a9-13460be2f0ea",
      "metadata": {
        "id": "327c8a9a-a070-45c3-90a9-13460be2f0ea"
      },
      "source": [
        "The next question is how to divide the birth years. If we check out their maximum and minimum values, we get:"
      ]
    },
    {
      "cell_type": "code",
      "execution_count": null,
      "id": "573260ad-ff91-4ad9-b27a-76d98fbcdce3",
      "metadata": {
        "id": "573260ad-ff91-4ad9-b27a-76d98fbcdce3",
        "outputId": "402199c6-c494-41f3-aace-fc50d5e68b74"
      },
      "outputs": [
        {
          "name": "stdout",
          "output_type": "stream",
          "text": [
            "The earlier year = 686.0 and the latest year = 1991.0.\n"
          ]
        }
      ],
      "source": [
        "print(f\"The earlier year = {df['birth_year'].min()} and the latest year = {df['birth_year'].max()}.\")"
      ]
    },
    {
      "cell_type": "markdown",
      "id": "94cfa7ed-5d78-47f7-aeca-67e63ac771d8",
      "metadata": {
        "id": "94cfa7ed-5d78-47f7-aeca-67e63ac771d8"
      },
      "source": [
        "So, 686 is the earliest year, and 1991 is the latest. This is a difference of 1991 - 656 = 1305 years, which if we divide by 3 this gives us 435 years per era. So, the \"ancient\" royals are those born between 686 and 1121, the \"middle_years\" royals are those born between 1121 and 1555, and the \"modern\" royals are those born after 1555. (Not all that modern!) We can assign these three eras with the following code:"
      ]
    },
    {
      "cell_type": "code",
      "execution_count": null,
      "id": "0068ddf2-0f86-467c-8296-cd4f80d92c25",
      "metadata": {
        "id": "0068ddf2-0f86-467c-8296-cd4f80d92c25",
        "outputId": "86e46b38-bb08-400c-90f5-f369a5e23e1d"
      },
      "outputs": [
        {
          "name": "stdout",
          "output_type": "stream",
          "text": [
            "                   first_name last_name sex             title   birth_date  \\\n",
            "ID                                                                           \n",
            "1                    Victoria   Hanover   F  Queen of England  24 MAY 1819   \n",
            "2     Albert Augustus Charles       NaN   M            Prince  26 AUG 1819   \n",
            "3      Victoria Adelaide Mary       NaN   F    Princess Royal  21 NOV 1840   \n",
            "4                  Edward_VII    Wettin   M   King of England   9 NOV 1841   \n",
            "5             Alice Maud Mary       NaN   F          Princess  25 APR 1843   \n",
            "...                       ...       ...  ..               ...          ...   \n",
            "3005                    Emily   Scobell   F               NaN          NaN   \n",
            "3006             John Sanford   Scobell   M               Sir         1879   \n",
            "3007                    James  Cartland   M               NaN          NaN   \n",
            "3008                    Flora       NaN   F               NaN          NaN   \n",
            "3009                      NaN  Cartland   F               NaN          NaN   \n",
            "\n",
            "                              birth_place   death_date  \\\n",
            "ID                                                       \n",
            "1        Kensington,Palace,London,England  22 JAN 1901   \n",
            "2     Schloss Rosenau,Near Coburg,Germany  14 DEC 1861   \n",
            "3        Buckingham,Palace,London,England   5 AUG 1901   \n",
            "4        Buckingham,Palace,London,England   6 MAY 1910   \n",
            "5        Buckingham,Palace,London,England  14 DEC 1878   \n",
            "...                                   ...          ...   \n",
            "3005                                  NaN          NaN   \n",
            "3006                                  NaN          NaN   \n",
            "3007                                  NaN          NaN   \n",
            "3008                                  NaN          NaN   \n",
            "3009                                  NaN  ABT    1911   \n",
            "\n",
            "                              death_place  birth_year      era  \n",
            "ID                                                              \n",
            "1     Osborne House,Isle of Wight,England      1819.0   modern  \n",
            "2        Windsor Castle,Berkshire,England      1819.0   modern  \n",
            "3      Friedrichshof,Near,Kronberg,Taunus      1840.0   modern  \n",
            "4        Buckingham,Palace,London,England      1841.0   modern  \n",
            "5                     Darmstadt,,,Germany      1843.0   modern  \n",
            "...                                   ...         ...      ...  \n",
            "3005                                  NaN         NaN  unknown  \n",
            "3006                                  NaN      1879.0   modern  \n",
            "3007                                  NaN         NaN  unknown  \n",
            "3008                                  NaN         NaN  unknown  \n",
            "3009                                  NaN         NaN  unknown  \n",
            "\n",
            "[3009 rows x 10 columns]\n"
          ]
        }
      ],
      "source": [
        "df.loc[df['birth_year'] < 1122, 'era'] = 'ancient'  # 686 – 1121\n",
        "df.loc[(df['birth_year'] >= 1122) & (df['birth_year'] <= 1555), 'era'] = 'middle_years'  # 1122 – 1555\n",
        "df.loc[df['birth_year'] > 1555, 'era'] = 'modern'  # after 1555\n",
        "print(df)"
      ]
    },
    {
      "cell_type": "markdown",
      "id": "6ceba278-db49-45b1-897f-b6086da1a254",
      "metadata": {
        "id": "6ceba278-db49-45b1-897f-b6086da1a254"
      },
      "source": [
        "We could have also done this using a custom function and the \"map\" utility."
      ]
    },
    {
      "cell_type": "markdown",
      "id": "d5cb2f42-9cd2-4ee3-acd7-6a256a071696",
      "metadata": {
        "id": "d5cb2f42-9cd2-4ee3-acd7-6a256a071696"
      },
      "source": [
        "### Reshaping with Pivot, Pivot_Table, Groupby, and Transpose"
      ]
    },
    {
      "cell_type": "markdown",
      "id": "756b6461-07b4-4d8d-bdff-8929618869ff",
      "metadata": {
        "id": "756b6461-07b4-4d8d-bdff-8929618869ff"
      },
      "source": [
        "Frequently it is convenient or informative to restructure data contained in a dataframe, effectively organizing the data into a different shape or format. This section will cover the most common reshaping functions provided by Pandas.\n",
        "\n",
        "The pivot function addresses the situation in which separate categories of a dataset feature are enumerated and highlighted using a cross tabular format. For example:"
      ]
    },
    {
      "cell_type": "code",
      "execution_count": 3,
      "id": "ace91f6c-37ad-4512-8a51-cb58c106ceb9",
      "metadata": {
        "colab": {
          "base_uri": "https://localhost:8080/"
        },
        "id": "ace91f6c-37ad-4512-8a51-cb58c106ceb9",
        "outputId": "89a560df-fff8-438b-ad22-e4ddcff973ed"
      },
      "outputs": [
        {
          "name": "stdout",
          "output_type": "stream",
          "text": [
            "   Car  Type  Price\n",
            "0    1   new     10\n",
            "1    1  used      5\n",
            "2    2   new     12\n",
            "3    2  used      7\n"
          ]
        }
      ],
      "source": [
        "df = pd.DataFrame({'Car': [1, 1, 2, 2],\n",
        "                   'Type': ['new', 'used', 'new', 'used'],\n",
        "                   'Price': [10, 5, 12, 7]})\n",
        "print(df)"
      ]
    },
    {
      "cell_type": "markdown",
      "id": "dd19ee9b-3c66-4c23-9d6c-d3c293de8123",
      "metadata": {
        "id": "dd19ee9b-3c66-4c23-9d6c-d3c293de8123"
      },
      "source": [
        "Calling the pivot function on this dataframe will reword the data into a more compact and usable format. In the example above, we want to reshape the data such that each car brand is represented on a single row. A use use case for this particular reorganization would be a care salesperson who needs to quickly view all the prices of a given car brand for the different 'Type' categories."
      ]
    },
    {
      "cell_type": "code",
      "execution_count": 4,
      "id": "ef132774-64d0-451a-95aa-2163987debe3",
      "metadata": {
        "colab": {
          "base_uri": "https://localhost:8080/"
        },
        "id": "ef132774-64d0-451a-95aa-2163987debe3",
        "outputId": "8662d17d-a920-48fb-f09e-a20344a2e7b6"
      },
      "outputs": [
        {
          "name": "stdout",
          "output_type": "stream",
          "text": [
            "Type  new  used\n",
            "Car            \n",
            "1      10     5\n",
            "2      12     7\n"
          ]
        }
      ],
      "source": [
        "p = df.pivot(index='Car', columns='Type', values='Price')\n",
        "print(p)"
      ]
    },
    {
      "cell_type": "markdown",
      "id": "868611f7-6fb4-44ce-9abe-d5f717601e49",
      "metadata": {
        "id": "868611f7-6fb4-44ce-9abe-d5f717601e49"
      },
      "source": [
        "The pivot function only works if there is either zero or one entries per cell in the result. Suppose we have the following dataframe:"
      ]
    },
    {
      "cell_type": "code",
      "execution_count": 6,
      "id": "9306a1d9-6a6e-4080-881d-1e282a42242e",
      "metadata": {
        "colab": {
          "base_uri": "https://localhost:8080/"
        },
        "id": "9306a1d9-6a6e-4080-881d-1e282a42242e",
        "outputId": "6c01c8b5-d5f5-4dac-8da7-0effbc07c56d"
      },
      "outputs": [
        {
          "name": "stdout",
          "output_type": "stream",
          "text": [
            "   Car  Type  Price\n",
            "0    1   new     10\n",
            "1    1  used      5\n",
            "2    2   new     12\n",
            "3    2  used      7\n",
            "4    2  used      6\n"
          ]
        }
      ],
      "source": [
        "df = pd.DataFrame({'Car': [1, 1, 2, 2, 2],\n",
        "                   'Type': ['new', 'used', 'new', 'used', 'used'],\n",
        "                   'Price': [10, 5, 12, 7, 6]})\n",
        "print(df)"
      ]
    },
    {
      "cell_type": "markdown",
      "id": "e3ceb0a4-6648-44db-a401-a2dbde89ef59",
      "metadata": {
        "id": "e3ceb0a4-6648-44db-a401-a2dbde89ef59"
      },
      "source": [
        "Invoking the pivot function on this dataframe will generate an error:\n",
        "\n",
        "Rob: because there are two rows with 2-used"
      ]
    },
    {
      "cell_type": "code",
      "execution_count": 7,
      "id": "e4447587-e73d-41a9-8099-a200cecf99e6",
      "metadata": {
        "colab": {
          "base_uri": "https://localhost:8080/",
          "height": 328
        },
        "id": "e4447587-e73d-41a9-8099-a200cecf99e6",
        "outputId": "5f9d9a09-af89-473a-eb04-fff5eb29ed25"
      },
      "outputs": [
        {
          "ename": "ValueError",
          "evalue": "ignored",
          "output_type": "error",
          "traceback": [
            "\u001b[0;31m---------------------------------------------------------------------------\u001b[0m",
            "\u001b[0;31mValueError\u001b[0m                                Traceback (most recent call last)",
            "\u001b[0;32m<ipython-input-7-1883db366158>\u001b[0m in \u001b[0;36m<cell line: 1>\u001b[0;34m()\u001b[0m\n\u001b[0;32m----> 1\u001b[0;31m \u001b[0mp\u001b[0m \u001b[0;34m=\u001b[0m \u001b[0mdf\u001b[0m\u001b[0;34m.\u001b[0m\u001b[0mpivot\u001b[0m\u001b[0;34m(\u001b[0m\u001b[0mindex\u001b[0m\u001b[0;34m=\u001b[0m\u001b[0;34m'Car'\u001b[0m\u001b[0;34m,\u001b[0m \u001b[0mcolumns\u001b[0m\u001b[0;34m=\u001b[0m\u001b[0;34m'Type'\u001b[0m\u001b[0;34m,\u001b[0m \u001b[0mvalues\u001b[0m\u001b[0;34m=\u001b[0m\u001b[0;34m'Price'\u001b[0m\u001b[0;34m)\u001b[0m\u001b[0;34m\u001b[0m\u001b[0;34m\u001b[0m\u001b[0m\n\u001b[0m",
            "\u001b[0;32m/usr/local/lib/python3.10/dist-packages/pandas/util/_decorators.py\u001b[0m in \u001b[0;36mwrapper\u001b[0;34m(*args, **kwargs)\u001b[0m\n\u001b[1;32m    329\u001b[0m                     \u001b[0mstacklevel\u001b[0m\u001b[0;34m=\u001b[0m\u001b[0mfind_stack_level\u001b[0m\u001b[0;34m(\u001b[0m\u001b[0;34m)\u001b[0m\u001b[0;34m,\u001b[0m\u001b[0;34m\u001b[0m\u001b[0;34m\u001b[0m\u001b[0m\n\u001b[1;32m    330\u001b[0m                 )\n\u001b[0;32m--> 331\u001b[0;31m             \u001b[0;32mreturn\u001b[0m \u001b[0mfunc\u001b[0m\u001b[0;34m(\u001b[0m\u001b[0;34m*\u001b[0m\u001b[0margs\u001b[0m\u001b[0;34m,\u001b[0m \u001b[0;34m**\u001b[0m\u001b[0mkwargs\u001b[0m\u001b[0;34m)\u001b[0m\u001b[0;34m\u001b[0m\u001b[0;34m\u001b[0m\u001b[0m\n\u001b[0m\u001b[1;32m    332\u001b[0m \u001b[0;34m\u001b[0m\u001b[0m\n\u001b[1;32m    333\u001b[0m         \u001b[0;31m# error: \"Callable[[VarArg(Any), KwArg(Any)], Any]\" has no\u001b[0m\u001b[0;34m\u001b[0m\u001b[0;34m\u001b[0m\u001b[0m\n",
            "\u001b[0;32m/usr/local/lib/python3.10/dist-packages/pandas/core/frame.py\u001b[0m in \u001b[0;36mpivot\u001b[0;34m(self, index, columns, values)\u001b[0m\n\u001b[1;32m   8565\u001b[0m         \u001b[0;32mfrom\u001b[0m \u001b[0mpandas\u001b[0m\u001b[0;34m.\u001b[0m\u001b[0mcore\u001b[0m\u001b[0;34m.\u001b[0m\u001b[0mreshape\u001b[0m\u001b[0;34m.\u001b[0m\u001b[0mpivot\u001b[0m \u001b[0;32mimport\u001b[0m \u001b[0mpivot\u001b[0m\u001b[0;34m\u001b[0m\u001b[0;34m\u001b[0m\u001b[0m\n\u001b[1;32m   8566\u001b[0m \u001b[0;34m\u001b[0m\u001b[0m\n\u001b[0;32m-> 8567\u001b[0;31m         \u001b[0;32mreturn\u001b[0m \u001b[0mpivot\u001b[0m\u001b[0;34m(\u001b[0m\u001b[0mself\u001b[0m\u001b[0;34m,\u001b[0m \u001b[0mindex\u001b[0m\u001b[0;34m=\u001b[0m\u001b[0mindex\u001b[0m\u001b[0;34m,\u001b[0m \u001b[0mcolumns\u001b[0m\u001b[0;34m=\u001b[0m\u001b[0mcolumns\u001b[0m\u001b[0;34m,\u001b[0m \u001b[0mvalues\u001b[0m\u001b[0;34m=\u001b[0m\u001b[0mvalues\u001b[0m\u001b[0;34m)\u001b[0m\u001b[0;34m\u001b[0m\u001b[0;34m\u001b[0m\u001b[0m\n\u001b[0m\u001b[1;32m   8568\u001b[0m \u001b[0;34m\u001b[0m\u001b[0m\n\u001b[1;32m   8569\u001b[0m     _shared_docs[\n",
            "\u001b[0;32m/usr/local/lib/python3.10/dist-packages/pandas/util/_decorators.py\u001b[0m in \u001b[0;36mwrapper\u001b[0;34m(*args, **kwargs)\u001b[0m\n\u001b[1;32m    329\u001b[0m                     \u001b[0mstacklevel\u001b[0m\u001b[0;34m=\u001b[0m\u001b[0mfind_stack_level\u001b[0m\u001b[0;34m(\u001b[0m\u001b[0;34m)\u001b[0m\u001b[0;34m,\u001b[0m\u001b[0;34m\u001b[0m\u001b[0;34m\u001b[0m\u001b[0m\n\u001b[1;32m    330\u001b[0m                 )\n\u001b[0;32m--> 331\u001b[0;31m             \u001b[0;32mreturn\u001b[0m \u001b[0mfunc\u001b[0m\u001b[0;34m(\u001b[0m\u001b[0;34m*\u001b[0m\u001b[0margs\u001b[0m\u001b[0;34m,\u001b[0m \u001b[0;34m**\u001b[0m\u001b[0mkwargs\u001b[0m\u001b[0;34m)\u001b[0m\u001b[0;34m\u001b[0m\u001b[0;34m\u001b[0m\u001b[0m\n\u001b[0m\u001b[1;32m    332\u001b[0m \u001b[0;34m\u001b[0m\u001b[0m\n\u001b[1;32m    333\u001b[0m         \u001b[0;31m# error: \"Callable[[VarArg(Any), KwArg(Any)], Any]\" has no\u001b[0m\u001b[0;34m\u001b[0m\u001b[0;34m\u001b[0m\u001b[0m\n",
            "\u001b[0;32m/usr/local/lib/python3.10/dist-packages/pandas/core/reshape/pivot.py\u001b[0m in \u001b[0;36mpivot\u001b[0;34m(data, index, columns, values)\u001b[0m\n\u001b[1;32m    538\u001b[0m     \u001b[0;31m# [List[Any], ExtensionArray, ndarray[Any, Any], Index, Series]\"; expected\u001b[0m\u001b[0;34m\u001b[0m\u001b[0;34m\u001b[0m\u001b[0m\n\u001b[1;32m    539\u001b[0m     \u001b[0;31m# \"Hashable\"\u001b[0m\u001b[0;34m\u001b[0m\u001b[0;34m\u001b[0m\u001b[0m\n\u001b[0;32m--> 540\u001b[0;31m     \u001b[0;32mreturn\u001b[0m \u001b[0mindexed\u001b[0m\u001b[0;34m.\u001b[0m\u001b[0munstack\u001b[0m\u001b[0;34m(\u001b[0m\u001b[0mcolumns_listlike\u001b[0m\u001b[0;34m)\u001b[0m  \u001b[0;31m# type: ignore[arg-type]\u001b[0m\u001b[0;34m\u001b[0m\u001b[0;34m\u001b[0m\u001b[0m\n\u001b[0m\u001b[1;32m    541\u001b[0m \u001b[0;34m\u001b[0m\u001b[0m\n\u001b[1;32m    542\u001b[0m \u001b[0;34m\u001b[0m\u001b[0m\n",
            "\u001b[0;32m/usr/local/lib/python3.10/dist-packages/pandas/core/series.py\u001b[0m in \u001b[0;36munstack\u001b[0;34m(self, level, fill_value)\u001b[0m\n\u001b[1;32m   4453\u001b[0m         \u001b[0;32mfrom\u001b[0m \u001b[0mpandas\u001b[0m\u001b[0;34m.\u001b[0m\u001b[0mcore\u001b[0m\u001b[0;34m.\u001b[0m\u001b[0mreshape\u001b[0m\u001b[0;34m.\u001b[0m\u001b[0mreshape\u001b[0m \u001b[0;32mimport\u001b[0m \u001b[0munstack\u001b[0m\u001b[0;34m\u001b[0m\u001b[0;34m\u001b[0m\u001b[0m\n\u001b[1;32m   4454\u001b[0m \u001b[0;34m\u001b[0m\u001b[0m\n\u001b[0;32m-> 4455\u001b[0;31m         \u001b[0;32mreturn\u001b[0m \u001b[0munstack\u001b[0m\u001b[0;34m(\u001b[0m\u001b[0mself\u001b[0m\u001b[0;34m,\u001b[0m \u001b[0mlevel\u001b[0m\u001b[0;34m,\u001b[0m \u001b[0mfill_value\u001b[0m\u001b[0;34m)\u001b[0m\u001b[0;34m\u001b[0m\u001b[0;34m\u001b[0m\u001b[0m\n\u001b[0m\u001b[1;32m   4456\u001b[0m \u001b[0;34m\u001b[0m\u001b[0m\n\u001b[1;32m   4457\u001b[0m     \u001b[0;31m# ----------------------------------------------------------------------\u001b[0m\u001b[0;34m\u001b[0m\u001b[0;34m\u001b[0m\u001b[0m\n",
            "\u001b[0;32m/usr/local/lib/python3.10/dist-packages/pandas/core/reshape/reshape.py\u001b[0m in \u001b[0;36munstack\u001b[0;34m(obj, level, fill_value)\u001b[0m\n\u001b[1;32m    487\u001b[0m         \u001b[0;32mif\u001b[0m \u001b[0mis_1d_only_ea_dtype\u001b[0m\u001b[0;34m(\u001b[0m\u001b[0mobj\u001b[0m\u001b[0;34m.\u001b[0m\u001b[0mdtype\u001b[0m\u001b[0;34m)\u001b[0m\u001b[0;34m:\u001b[0m\u001b[0;34m\u001b[0m\u001b[0;34m\u001b[0m\u001b[0m\n\u001b[1;32m    488\u001b[0m             \u001b[0;32mreturn\u001b[0m \u001b[0m_unstack_extension_series\u001b[0m\u001b[0;34m(\u001b[0m\u001b[0mobj\u001b[0m\u001b[0;34m,\u001b[0m \u001b[0mlevel\u001b[0m\u001b[0;34m,\u001b[0m \u001b[0mfill_value\u001b[0m\u001b[0;34m)\u001b[0m\u001b[0;34m\u001b[0m\u001b[0;34m\u001b[0m\u001b[0m\n\u001b[0;32m--> 489\u001b[0;31m         unstacker = _Unstacker(\n\u001b[0m\u001b[1;32m    490\u001b[0m             \u001b[0mobj\u001b[0m\u001b[0;34m.\u001b[0m\u001b[0mindex\u001b[0m\u001b[0;34m,\u001b[0m \u001b[0mlevel\u001b[0m\u001b[0;34m=\u001b[0m\u001b[0mlevel\u001b[0m\u001b[0;34m,\u001b[0m \u001b[0mconstructor\u001b[0m\u001b[0;34m=\u001b[0m\u001b[0mobj\u001b[0m\u001b[0;34m.\u001b[0m\u001b[0m_constructor_expanddim\u001b[0m\u001b[0;34m\u001b[0m\u001b[0;34m\u001b[0m\u001b[0m\n\u001b[1;32m    491\u001b[0m         )\n",
            "\u001b[0;32m/usr/local/lib/python3.10/dist-packages/pandas/core/reshape/reshape.py\u001b[0m in \u001b[0;36m__init__\u001b[0;34m(self, index, level, constructor)\u001b[0m\n\u001b[1;32m    135\u001b[0m             )\n\u001b[1;32m    136\u001b[0m \u001b[0;34m\u001b[0m\u001b[0m\n\u001b[0;32m--> 137\u001b[0;31m         \u001b[0mself\u001b[0m\u001b[0;34m.\u001b[0m\u001b[0m_make_selectors\u001b[0m\u001b[0;34m(\u001b[0m\u001b[0;34m)\u001b[0m\u001b[0;34m\u001b[0m\u001b[0;34m\u001b[0m\u001b[0m\n\u001b[0m\u001b[1;32m    138\u001b[0m \u001b[0;34m\u001b[0m\u001b[0m\n\u001b[1;32m    139\u001b[0m     \u001b[0;34m@\u001b[0m\u001b[0mcache_readonly\u001b[0m\u001b[0;34m\u001b[0m\u001b[0;34m\u001b[0m\u001b[0m\n",
            "\u001b[0;32m/usr/local/lib/python3.10/dist-packages/pandas/core/reshape/reshape.py\u001b[0m in \u001b[0;36m_make_selectors\u001b[0;34m(self)\u001b[0m\n\u001b[1;32m    187\u001b[0m \u001b[0;34m\u001b[0m\u001b[0m\n\u001b[1;32m    188\u001b[0m         \u001b[0;32mif\u001b[0m \u001b[0mmask\u001b[0m\u001b[0;34m.\u001b[0m\u001b[0msum\u001b[0m\u001b[0;34m(\u001b[0m\u001b[0;34m)\u001b[0m \u001b[0;34m<\u001b[0m \u001b[0mlen\u001b[0m\u001b[0;34m(\u001b[0m\u001b[0mself\u001b[0m\u001b[0;34m.\u001b[0m\u001b[0mindex\u001b[0m\u001b[0;34m)\u001b[0m\u001b[0;34m:\u001b[0m\u001b[0;34m\u001b[0m\u001b[0;34m\u001b[0m\u001b[0m\n\u001b[0;32m--> 189\u001b[0;31m             \u001b[0;32mraise\u001b[0m \u001b[0mValueError\u001b[0m\u001b[0;34m(\u001b[0m\u001b[0;34m\"Index contains duplicate entries, cannot reshape\"\u001b[0m\u001b[0;34m)\u001b[0m\u001b[0;34m\u001b[0m\u001b[0;34m\u001b[0m\u001b[0m\n\u001b[0m\u001b[1;32m    190\u001b[0m \u001b[0;34m\u001b[0m\u001b[0m\n\u001b[1;32m    191\u001b[0m         \u001b[0mself\u001b[0m\u001b[0;34m.\u001b[0m\u001b[0mgroup_index\u001b[0m \u001b[0;34m=\u001b[0m \u001b[0mcomp_index\u001b[0m\u001b[0;34m\u001b[0m\u001b[0;34m\u001b[0m\u001b[0m\n",
            "\u001b[0;31mValueError\u001b[0m: Index contains duplicate entries, cannot reshape"
          ]
        }
      ],
      "source": [
        "p = df.pivot(index='Car', columns='Type', values='Price')"
      ]
    },
    {
      "cell_type": "markdown",
      "id": "e81e495e-a25a-42c8-8d12-58c37a69a80a",
      "metadata": {
        "id": "e81e495e-a25a-42c8-8d12-58c37a69a80a"
      },
      "source": [
        "The reason for this is there are two price entries for the used version of car 2. In this case what we could do is use the \"pivot_table\" function with an aggregator, which specifies how to combine values when more than 1 occurs."
      ]
    },
    {
      "cell_type": "code",
      "execution_count": 12,
      "id": "38956dc7-1293-4af9-b72d-a6bd2cf4342a",
      "metadata": {
        "colab": {
          "base_uri": "https://localhost:8080/"
        },
        "id": "38956dc7-1293-4af9-b72d-a6bd2cf4342a",
        "outputId": "1da4b721-7393-422f-871f-8b829451ec83"
      },
      "outputs": [
        {
          "name": "stdout",
          "output_type": "stream",
          "text": [
            "Type   new  used\n",
            "Car             \n",
            "1     10.0   5.0\n",
            "2     12.0   6.5\n"
          ]
        }
      ],
      "source": [
        "p = df.pivot_table(index='Car', columns='Type', values='Price', aggfunc=np.mean)\n",
        "print(p)"
      ]
    },
    {
      "cell_type": "markdown",
      "id": "e3637a44-ff6f-43ac-8c48-df8d561f37a1",
      "metadata": {
        "id": "e3637a44-ff6f-43ac-8c48-df8d561f37a1"
      },
      "source": [
        "Pivot tables can result in immensely complex tabular formats with multiple indexes, multiple columns, and various aggregation functions specified. Today, we demonstrate only the basic single-index, single-column case."
      ]
    },
    {
      "cell_type": "markdown",
      "id": "ec939a61-a9a6-491f-b1db-b9fbdb7d3c49",
      "metadata": {
        "id": "ec939a61-a9a6-491f-b1db-b9fbdb7d3c49"
      },
      "source": [
        "Here's another example of a pivot_table using our royal family history dataset:"
      ]
    },
    {
      "cell_type": "code",
      "execution_count": 13,
      "id": "eac1a6b0-526c-4b45-8618-cbb610625c93",
      "metadata": {
        "colab": {
          "base_uri": "https://localhost:8080/",
          "height": 417
        },
        "id": "eac1a6b0-526c-4b45-8618-cbb610625c93",
        "outputId": "93b59834-9f0b-434c-a32e-7017cb486194"
      },
      "outputs": [
        {
          "ename": "FileNotFoundError",
          "evalue": "ignored",
          "output_type": "error",
          "traceback": [
            "\u001b[0;31m---------------------------------------------------------------------------\u001b[0m",
            "\u001b[0;31mFileNotFoundError\u001b[0m                         Traceback (most recent call last)",
            "\u001b[0;32m<ipython-input-13-52677ead3182>\u001b[0m in \u001b[0;36m<cell line: 1>\u001b[0;34m()\u001b[0m\n\u001b[0;32m----> 1\u001b[0;31m \u001b[0mdf\u001b[0m \u001b[0;34m=\u001b[0m \u001b[0mpd\u001b[0m\u001b[0;34m.\u001b[0m\u001b[0mread_csv\u001b[0m\u001b[0;34m(\u001b[0m\u001b[0;34m'../Datasets/royal_line.csv'\u001b[0m\u001b[0;34m,\u001b[0m \u001b[0mindex_col\u001b[0m\u001b[0;34m=\u001b[0m\u001b[0;34m'ID'\u001b[0m\u001b[0;34m)\u001b[0m\u001b[0;34m\u001b[0m\u001b[0;34m\u001b[0m\u001b[0m\n\u001b[0m\u001b[1;32m      2\u001b[0m \u001b[0mdf\u001b[0m\u001b[0;34m[\u001b[0m\u001b[0;34m'birth_year'\u001b[0m\u001b[0;34m]\u001b[0m \u001b[0;34m=\u001b[0m \u001b[0mdf\u001b[0m\u001b[0;34m[\u001b[0m\u001b[0;34m'birth_date'\u001b[0m\u001b[0;34m]\u001b[0m\u001b[0;34m.\u001b[0m\u001b[0mmap\u001b[0m\u001b[0;34m(\u001b[0m\u001b[0mget_year\u001b[0m\u001b[0;34m)\u001b[0m\u001b[0;34m\u001b[0m\u001b[0;34m\u001b[0m\u001b[0m\n\u001b[1;32m      3\u001b[0m \u001b[0;34m\u001b[0m\u001b[0m\n\u001b[1;32m      4\u001b[0m \u001b[0mdf\u001b[0m\u001b[0;34m.\u001b[0m\u001b[0mdropna\u001b[0m\u001b[0;34m(\u001b[0m\u001b[0minplace\u001b[0m\u001b[0;34m=\u001b[0m\u001b[0;32mTrue\u001b[0m\u001b[0;34m,\u001b[0m \u001b[0msubset\u001b[0m\u001b[0;34m=\u001b[0m\u001b[0;34m[\u001b[0m\u001b[0;34m'title'\u001b[0m\u001b[0;34m,\u001b[0m \u001b[0;34m'sex'\u001b[0m\u001b[0;34m,\u001b[0m \u001b[0;34m'birth_year'\u001b[0m\u001b[0;34m]\u001b[0m\u001b[0;34m)\u001b[0m\u001b[0;34m\u001b[0m\u001b[0;34m\u001b[0m\u001b[0m\n\u001b[1;32m      5\u001b[0m \u001b[0mp\u001b[0m \u001b[0;34m=\u001b[0m \u001b[0mdf\u001b[0m\u001b[0;34m.\u001b[0m\u001b[0mpivot_table\u001b[0m\u001b[0;34m(\u001b[0m\u001b[0mindex\u001b[0m\u001b[0;34m=\u001b[0m\u001b[0;34m'title'\u001b[0m\u001b[0;34m,\u001b[0m \u001b[0mcolumns\u001b[0m\u001b[0;34m=\u001b[0m\u001b[0;34m'sex'\u001b[0m\u001b[0;34m,\u001b[0m \u001b[0mvalues\u001b[0m\u001b[0;34m=\u001b[0m\u001b[0;34m'birth_year'\u001b[0m\u001b[0;34m,\u001b[0m \u001b[0maggfunc\u001b[0m\u001b[0;34m=\u001b[0m\u001b[0;34m'mean'\u001b[0m\u001b[0;34m)\u001b[0m\u001b[0;34m\u001b[0m\u001b[0;34m\u001b[0m\u001b[0m\n",
            "\u001b[0;32m/usr/local/lib/python3.10/dist-packages/pandas/util/_decorators.py\u001b[0m in \u001b[0;36mwrapper\u001b[0;34m(*args, **kwargs)\u001b[0m\n\u001b[1;32m    209\u001b[0m                 \u001b[0;32melse\u001b[0m\u001b[0;34m:\u001b[0m\u001b[0;34m\u001b[0m\u001b[0;34m\u001b[0m\u001b[0m\n\u001b[1;32m    210\u001b[0m                     \u001b[0mkwargs\u001b[0m\u001b[0;34m[\u001b[0m\u001b[0mnew_arg_name\u001b[0m\u001b[0;34m]\u001b[0m \u001b[0;34m=\u001b[0m \u001b[0mnew_arg_value\u001b[0m\u001b[0;34m\u001b[0m\u001b[0;34m\u001b[0m\u001b[0m\n\u001b[0;32m--> 211\u001b[0;31m             \u001b[0;32mreturn\u001b[0m \u001b[0mfunc\u001b[0m\u001b[0;34m(\u001b[0m\u001b[0;34m*\u001b[0m\u001b[0margs\u001b[0m\u001b[0;34m,\u001b[0m \u001b[0;34m**\u001b[0m\u001b[0mkwargs\u001b[0m\u001b[0;34m)\u001b[0m\u001b[0;34m\u001b[0m\u001b[0;34m\u001b[0m\u001b[0m\n\u001b[0m\u001b[1;32m    212\u001b[0m \u001b[0;34m\u001b[0m\u001b[0m\n\u001b[1;32m    213\u001b[0m         \u001b[0;32mreturn\u001b[0m \u001b[0mcast\u001b[0m\u001b[0;34m(\u001b[0m\u001b[0mF\u001b[0m\u001b[0;34m,\u001b[0m \u001b[0mwrapper\u001b[0m\u001b[0;34m)\u001b[0m\u001b[0;34m\u001b[0m\u001b[0;34m\u001b[0m\u001b[0m\n",
            "\u001b[0;32m/usr/local/lib/python3.10/dist-packages/pandas/util/_decorators.py\u001b[0m in \u001b[0;36mwrapper\u001b[0;34m(*args, **kwargs)\u001b[0m\n\u001b[1;32m    329\u001b[0m                     \u001b[0mstacklevel\u001b[0m\u001b[0;34m=\u001b[0m\u001b[0mfind_stack_level\u001b[0m\u001b[0;34m(\u001b[0m\u001b[0;34m)\u001b[0m\u001b[0;34m,\u001b[0m\u001b[0;34m\u001b[0m\u001b[0;34m\u001b[0m\u001b[0m\n\u001b[1;32m    330\u001b[0m                 )\n\u001b[0;32m--> 331\u001b[0;31m             \u001b[0;32mreturn\u001b[0m \u001b[0mfunc\u001b[0m\u001b[0;34m(\u001b[0m\u001b[0;34m*\u001b[0m\u001b[0margs\u001b[0m\u001b[0;34m,\u001b[0m \u001b[0;34m**\u001b[0m\u001b[0mkwargs\u001b[0m\u001b[0;34m)\u001b[0m\u001b[0;34m\u001b[0m\u001b[0;34m\u001b[0m\u001b[0m\n\u001b[0m\u001b[1;32m    332\u001b[0m \u001b[0;34m\u001b[0m\u001b[0m\n\u001b[1;32m    333\u001b[0m         \u001b[0;31m# error: \"Callable[[VarArg(Any), KwArg(Any)], Any]\" has no\u001b[0m\u001b[0;34m\u001b[0m\u001b[0;34m\u001b[0m\u001b[0m\n",
            "\u001b[0;32m/usr/local/lib/python3.10/dist-packages/pandas/io/parsers/readers.py\u001b[0m in \u001b[0;36mread_csv\u001b[0;34m(filepath_or_buffer, sep, delimiter, header, names, index_col, usecols, squeeze, prefix, mangle_dupe_cols, dtype, engine, converters, true_values, false_values, skipinitialspace, skiprows, skipfooter, nrows, na_values, keep_default_na, na_filter, verbose, skip_blank_lines, parse_dates, infer_datetime_format, keep_date_col, date_parser, dayfirst, cache_dates, iterator, chunksize, compression, thousands, decimal, lineterminator, quotechar, quoting, doublequote, escapechar, comment, encoding, encoding_errors, dialect, error_bad_lines, warn_bad_lines, on_bad_lines, delim_whitespace, low_memory, memory_map, float_precision, storage_options)\u001b[0m\n\u001b[1;32m    948\u001b[0m     \u001b[0mkwds\u001b[0m\u001b[0;34m.\u001b[0m\u001b[0mupdate\u001b[0m\u001b[0;34m(\u001b[0m\u001b[0mkwds_defaults\u001b[0m\u001b[0;34m)\u001b[0m\u001b[0;34m\u001b[0m\u001b[0;34m\u001b[0m\u001b[0m\n\u001b[1;32m    949\u001b[0m \u001b[0;34m\u001b[0m\u001b[0m\n\u001b[0;32m--> 950\u001b[0;31m     \u001b[0;32mreturn\u001b[0m \u001b[0m_read\u001b[0m\u001b[0;34m(\u001b[0m\u001b[0mfilepath_or_buffer\u001b[0m\u001b[0;34m,\u001b[0m \u001b[0mkwds\u001b[0m\u001b[0;34m)\u001b[0m\u001b[0;34m\u001b[0m\u001b[0;34m\u001b[0m\u001b[0m\n\u001b[0m\u001b[1;32m    951\u001b[0m \u001b[0;34m\u001b[0m\u001b[0m\n\u001b[1;32m    952\u001b[0m \u001b[0;34m\u001b[0m\u001b[0m\n",
            "\u001b[0;32m/usr/local/lib/python3.10/dist-packages/pandas/io/parsers/readers.py\u001b[0m in \u001b[0;36m_read\u001b[0;34m(filepath_or_buffer, kwds)\u001b[0m\n\u001b[1;32m    603\u001b[0m \u001b[0;34m\u001b[0m\u001b[0m\n\u001b[1;32m    604\u001b[0m     \u001b[0;31m# Create the parser.\u001b[0m\u001b[0;34m\u001b[0m\u001b[0;34m\u001b[0m\u001b[0m\n\u001b[0;32m--> 605\u001b[0;31m     \u001b[0mparser\u001b[0m \u001b[0;34m=\u001b[0m \u001b[0mTextFileReader\u001b[0m\u001b[0;34m(\u001b[0m\u001b[0mfilepath_or_buffer\u001b[0m\u001b[0;34m,\u001b[0m \u001b[0;34m**\u001b[0m\u001b[0mkwds\u001b[0m\u001b[0;34m)\u001b[0m\u001b[0;34m\u001b[0m\u001b[0;34m\u001b[0m\u001b[0m\n\u001b[0m\u001b[1;32m    606\u001b[0m \u001b[0;34m\u001b[0m\u001b[0m\n\u001b[1;32m    607\u001b[0m     \u001b[0;32mif\u001b[0m \u001b[0mchunksize\u001b[0m \u001b[0;32mor\u001b[0m \u001b[0miterator\u001b[0m\u001b[0;34m:\u001b[0m\u001b[0;34m\u001b[0m\u001b[0;34m\u001b[0m\u001b[0m\n",
            "\u001b[0;32m/usr/local/lib/python3.10/dist-packages/pandas/io/parsers/readers.py\u001b[0m in \u001b[0;36m__init__\u001b[0;34m(self, f, engine, **kwds)\u001b[0m\n\u001b[1;32m   1440\u001b[0m \u001b[0;34m\u001b[0m\u001b[0m\n\u001b[1;32m   1441\u001b[0m         \u001b[0mself\u001b[0m\u001b[0;34m.\u001b[0m\u001b[0mhandles\u001b[0m\u001b[0;34m:\u001b[0m \u001b[0mIOHandles\u001b[0m \u001b[0;34m|\u001b[0m \u001b[0;32mNone\u001b[0m \u001b[0;34m=\u001b[0m \u001b[0;32mNone\u001b[0m\u001b[0;34m\u001b[0m\u001b[0;34m\u001b[0m\u001b[0m\n\u001b[0;32m-> 1442\u001b[0;31m         \u001b[0mself\u001b[0m\u001b[0;34m.\u001b[0m\u001b[0m_engine\u001b[0m \u001b[0;34m=\u001b[0m \u001b[0mself\u001b[0m\u001b[0;34m.\u001b[0m\u001b[0m_make_engine\u001b[0m\u001b[0;34m(\u001b[0m\u001b[0mf\u001b[0m\u001b[0;34m,\u001b[0m \u001b[0mself\u001b[0m\u001b[0;34m.\u001b[0m\u001b[0mengine\u001b[0m\u001b[0;34m)\u001b[0m\u001b[0;34m\u001b[0m\u001b[0;34m\u001b[0m\u001b[0m\n\u001b[0m\u001b[1;32m   1443\u001b[0m \u001b[0;34m\u001b[0m\u001b[0m\n\u001b[1;32m   1444\u001b[0m     \u001b[0;32mdef\u001b[0m \u001b[0mclose\u001b[0m\u001b[0;34m(\u001b[0m\u001b[0mself\u001b[0m\u001b[0;34m)\u001b[0m \u001b[0;34m->\u001b[0m \u001b[0;32mNone\u001b[0m\u001b[0;34m:\u001b[0m\u001b[0;34m\u001b[0m\u001b[0;34m\u001b[0m\u001b[0m\n",
            "\u001b[0;32m/usr/local/lib/python3.10/dist-packages/pandas/io/parsers/readers.py\u001b[0m in \u001b[0;36m_make_engine\u001b[0;34m(self, f, engine)\u001b[0m\n\u001b[1;32m   1733\u001b[0m                 \u001b[0;32mif\u001b[0m \u001b[0;34m\"b\"\u001b[0m \u001b[0;32mnot\u001b[0m \u001b[0;32min\u001b[0m \u001b[0mmode\u001b[0m\u001b[0;34m:\u001b[0m\u001b[0;34m\u001b[0m\u001b[0;34m\u001b[0m\u001b[0m\n\u001b[1;32m   1734\u001b[0m                     \u001b[0mmode\u001b[0m \u001b[0;34m+=\u001b[0m \u001b[0;34m\"b\"\u001b[0m\u001b[0;34m\u001b[0m\u001b[0;34m\u001b[0m\u001b[0m\n\u001b[0;32m-> 1735\u001b[0;31m             self.handles = get_handle(\n\u001b[0m\u001b[1;32m   1736\u001b[0m                 \u001b[0mf\u001b[0m\u001b[0;34m,\u001b[0m\u001b[0;34m\u001b[0m\u001b[0;34m\u001b[0m\u001b[0m\n\u001b[1;32m   1737\u001b[0m                 \u001b[0mmode\u001b[0m\u001b[0;34m,\u001b[0m\u001b[0;34m\u001b[0m\u001b[0;34m\u001b[0m\u001b[0m\n",
            "\u001b[0;32m/usr/local/lib/python3.10/dist-packages/pandas/io/common.py\u001b[0m in \u001b[0;36mget_handle\u001b[0;34m(path_or_buf, mode, encoding, compression, memory_map, is_text, errors, storage_options)\u001b[0m\n\u001b[1;32m    854\u001b[0m         \u001b[0;32mif\u001b[0m \u001b[0mioargs\u001b[0m\u001b[0;34m.\u001b[0m\u001b[0mencoding\u001b[0m \u001b[0;32mand\u001b[0m \u001b[0;34m\"b\"\u001b[0m \u001b[0;32mnot\u001b[0m \u001b[0;32min\u001b[0m \u001b[0mioargs\u001b[0m\u001b[0;34m.\u001b[0m\u001b[0mmode\u001b[0m\u001b[0;34m:\u001b[0m\u001b[0;34m\u001b[0m\u001b[0;34m\u001b[0m\u001b[0m\n\u001b[1;32m    855\u001b[0m             \u001b[0;31m# Encoding\u001b[0m\u001b[0;34m\u001b[0m\u001b[0;34m\u001b[0m\u001b[0m\n\u001b[0;32m--> 856\u001b[0;31m             handle = open(\n\u001b[0m\u001b[1;32m    857\u001b[0m                 \u001b[0mhandle\u001b[0m\u001b[0;34m,\u001b[0m\u001b[0;34m\u001b[0m\u001b[0;34m\u001b[0m\u001b[0m\n\u001b[1;32m    858\u001b[0m                 \u001b[0mioargs\u001b[0m\u001b[0;34m.\u001b[0m\u001b[0mmode\u001b[0m\u001b[0;34m,\u001b[0m\u001b[0;34m\u001b[0m\u001b[0;34m\u001b[0m\u001b[0m\n",
            "\u001b[0;31mFileNotFoundError\u001b[0m: [Errno 2] No such file or directory: '../Datasets/royal_line.csv'"
          ]
        }
      ],
      "source": [
        "df = pd.read_csv('../Datasets/royal_line.csv', index_col='ID')\n",
        "df['birth_year'] = df['birth_date'].map(get_year)\n",
        "\n",
        "df.dropna(inplace=True, subset=['title', 'sex', 'birth_year'])\n",
        "p = df.pivot_table(index='title', columns='sex', values='birth_year', aggfunc='mean')\n",
        "print(p)"
      ]
    },
    {
      "cell_type": "markdown",
      "id": "66a2aedc-a075-4c95-8716-bca21ed7542a",
      "metadata": {
        "id": "66a2aedc-a075-4c95-8716-bca21ed7542a"
      },
      "source": [
        "Here are two more examples. The first fills blank entries in the resulting pivot table after aggregation with $0$ instead of NaN, and uses two aggregate functions, mean and count."
      ]
    },
    {
      "cell_type": "code",
      "execution_count": 14,
      "id": "f0701ade-9595-40f7-ada7-a730a5191edd",
      "metadata": {
        "colab": {
          "base_uri": "https://localhost:8080/",
          "height": 363
        },
        "id": "f0701ade-9595-40f7-ada7-a730a5191edd",
        "outputId": "114dec76-cdaf-4036-eff8-92f6ba65a255"
      },
      "outputs": [
        {
          "ename": "KeyError",
          "evalue": "ignored",
          "output_type": "error",
          "traceback": [
            "\u001b[0;31m---------------------------------------------------------------------------\u001b[0m",
            "\u001b[0;31mKeyError\u001b[0m                                  Traceback (most recent call last)",
            "\u001b[0;32m<ipython-input-14-f94a7ee4840b>\u001b[0m in \u001b[0;36m<cell line: 1>\u001b[0;34m()\u001b[0m\n\u001b[0;32m----> 1\u001b[0;31m \u001b[0mp\u001b[0m \u001b[0;34m=\u001b[0m \u001b[0mdf\u001b[0m\u001b[0;34m.\u001b[0m\u001b[0mpivot_table\u001b[0m\u001b[0;34m(\u001b[0m\u001b[0mindex\u001b[0m\u001b[0;34m=\u001b[0m\u001b[0;34m'title'\u001b[0m\u001b[0;34m,\u001b[0m \u001b[0mcolumns\u001b[0m\u001b[0;34m=\u001b[0m\u001b[0;34m'sex'\u001b[0m\u001b[0;34m,\u001b[0m \u001b[0mvalues\u001b[0m\u001b[0;34m=\u001b[0m\u001b[0;34m'birth_year'\u001b[0m\u001b[0;34m,\u001b[0m \u001b[0maggfunc\u001b[0m\u001b[0;34m=\u001b[0m\u001b[0;34m[\u001b[0m\u001b[0;34m'mean'\u001b[0m\u001b[0;34m,\u001b[0m \u001b[0;34m'count'\u001b[0m\u001b[0;34m]\u001b[0m\u001b[0;34m,\u001b[0m \u001b[0mfill_value\u001b[0m\u001b[0;34m=\u001b[0m\u001b[0;36m0\u001b[0m\u001b[0;34m)\u001b[0m\u001b[0;34m\u001b[0m\u001b[0;34m\u001b[0m\u001b[0m\n\u001b[0m\u001b[1;32m      2\u001b[0m \u001b[0mprint\u001b[0m\u001b[0;34m(\u001b[0m\u001b[0mp\u001b[0m\u001b[0;34m)\u001b[0m\u001b[0;34m\u001b[0m\u001b[0;34m\u001b[0m\u001b[0m\n",
            "\u001b[0;32m/usr/local/lib/python3.10/dist-packages/pandas/core/frame.py\u001b[0m in \u001b[0;36mpivot_table\u001b[0;34m(self, values, index, columns, aggfunc, fill_value, margins, dropna, margins_name, observed, sort)\u001b[0m\n\u001b[1;32m   8729\u001b[0m         \u001b[0;32mfrom\u001b[0m \u001b[0mpandas\u001b[0m\u001b[0;34m.\u001b[0m\u001b[0mcore\u001b[0m\u001b[0;34m.\u001b[0m\u001b[0mreshape\u001b[0m\u001b[0;34m.\u001b[0m\u001b[0mpivot\u001b[0m \u001b[0;32mimport\u001b[0m \u001b[0mpivot_table\u001b[0m\u001b[0;34m\u001b[0m\u001b[0;34m\u001b[0m\u001b[0m\n\u001b[1;32m   8730\u001b[0m \u001b[0;34m\u001b[0m\u001b[0m\n\u001b[0;32m-> 8731\u001b[0;31m         return pivot_table(\n\u001b[0m\u001b[1;32m   8732\u001b[0m             \u001b[0mself\u001b[0m\u001b[0;34m,\u001b[0m\u001b[0;34m\u001b[0m\u001b[0;34m\u001b[0m\u001b[0m\n\u001b[1;32m   8733\u001b[0m             \u001b[0mvalues\u001b[0m\u001b[0;34m=\u001b[0m\u001b[0mvalues\u001b[0m\u001b[0;34m,\u001b[0m\u001b[0;34m\u001b[0m\u001b[0;34m\u001b[0m\u001b[0m\n",
            "\u001b[0;32m/usr/local/lib/python3.10/dist-packages/pandas/core/reshape/pivot.py\u001b[0m in \u001b[0;36mpivot_table\u001b[0;34m(data, values, index, columns, aggfunc, fill_value, margins, dropna, margins_name, observed, sort)\u001b[0m\n\u001b[1;32m     76\u001b[0m         \u001b[0mkeys\u001b[0m \u001b[0;34m=\u001b[0m \u001b[0;34m[\u001b[0m\u001b[0;34m]\u001b[0m\u001b[0;34m\u001b[0m\u001b[0;34m\u001b[0m\u001b[0m\n\u001b[1;32m     77\u001b[0m         \u001b[0;32mfor\u001b[0m \u001b[0mfunc\u001b[0m \u001b[0;32min\u001b[0m \u001b[0maggfunc\u001b[0m\u001b[0;34m:\u001b[0m\u001b[0;34m\u001b[0m\u001b[0;34m\u001b[0m\u001b[0m\n\u001b[0;32m---> 78\u001b[0;31m             _table = __internal_pivot_table(\n\u001b[0m\u001b[1;32m     79\u001b[0m                 \u001b[0mdata\u001b[0m\u001b[0;34m,\u001b[0m\u001b[0;34m\u001b[0m\u001b[0;34m\u001b[0m\u001b[0m\n\u001b[1;32m     80\u001b[0m                 \u001b[0mvalues\u001b[0m\u001b[0;34m=\u001b[0m\u001b[0mvalues\u001b[0m\u001b[0;34m,\u001b[0m\u001b[0;34m\u001b[0m\u001b[0;34m\u001b[0m\u001b[0m\n",
            "\u001b[0;32m/usr/local/lib/python3.10/dist-packages/pandas/core/reshape/pivot.py\u001b[0m in \u001b[0;36m__internal_pivot_table\u001b[0;34m(data, values, index, columns, aggfunc, fill_value, margins, dropna, margins_name, observed, sort)\u001b[0m\n\u001b[1;32m    141\u001b[0m         \u001b[0;32mfor\u001b[0m \u001b[0mi\u001b[0m \u001b[0;32min\u001b[0m \u001b[0mvalues\u001b[0m\u001b[0;34m:\u001b[0m\u001b[0;34m\u001b[0m\u001b[0;34m\u001b[0m\u001b[0m\n\u001b[1;32m    142\u001b[0m             \u001b[0;32mif\u001b[0m \u001b[0mi\u001b[0m \u001b[0;32mnot\u001b[0m \u001b[0;32min\u001b[0m \u001b[0mdata\u001b[0m\u001b[0;34m:\u001b[0m\u001b[0;34m\u001b[0m\u001b[0;34m\u001b[0m\u001b[0m\n\u001b[0;32m--> 143\u001b[0;31m                 \u001b[0;32mraise\u001b[0m \u001b[0mKeyError\u001b[0m\u001b[0;34m(\u001b[0m\u001b[0mi\u001b[0m\u001b[0;34m)\u001b[0m\u001b[0;34m\u001b[0m\u001b[0;34m\u001b[0m\u001b[0m\n\u001b[0m\u001b[1;32m    144\u001b[0m \u001b[0;34m\u001b[0m\u001b[0m\n\u001b[1;32m    145\u001b[0m         \u001b[0mto_filter\u001b[0m \u001b[0;34m=\u001b[0m \u001b[0;34m[\u001b[0m\u001b[0;34m]\u001b[0m\u001b[0;34m\u001b[0m\u001b[0;34m\u001b[0m\u001b[0m\n",
            "\u001b[0;31mKeyError\u001b[0m: 'birth_year'"
          ]
        }
      ],
      "source": [
        "p = df.pivot_table(index='title', columns='sex', values='birth_year', aggfunc=['mean', 'count'], fill_value=0)\n",
        "print(p)"
      ]
    },
    {
      "cell_type": "markdown",
      "id": "dff160ec-5473-4f0a-bf31-798f6908b3f3",
      "metadata": {
        "id": "dff160ec-5473-4f0a-bf31-798f6908b3f3"
      },
      "source": [
        "The second is similar to the first, but instead declares two indexes and two columns producing a much more complicated, nested output result."
      ]
    },
    {
      "cell_type": "code",
      "execution_count": 11,
      "id": "0c2e14b5-7f09-4aa5-8cf9-ec225eb8dec5",
      "metadata": {
        "colab": {
          "base_uri": "https://localhost:8080/",
          "height": 363
        },
        "id": "0c2e14b5-7f09-4aa5-8cf9-ec225eb8dec5",
        "outputId": "ed6ab67b-9a71-4e47-d067-174ccf94090c"
      },
      "outputs": [
        {
          "ename": "KeyError",
          "evalue": "ignored",
          "output_type": "error",
          "traceback": [
            "\u001b[0;31m---------------------------------------------------------------------------\u001b[0m",
            "\u001b[0;31mKeyError\u001b[0m                                  Traceback (most recent call last)",
            "\u001b[0;32m<ipython-input-11-0e580c73cff4>\u001b[0m in \u001b[0;36m<cell line: 1>\u001b[0;34m()\u001b[0m\n\u001b[0;32m----> 1\u001b[0;31m \u001b[0mp\u001b[0m \u001b[0;34m=\u001b[0m \u001b[0mdf\u001b[0m\u001b[0;34m.\u001b[0m\u001b[0mpivot_table\u001b[0m\u001b[0;34m(\u001b[0m\u001b[0mindex\u001b[0m\u001b[0;34m=\u001b[0m\u001b[0;34m[\u001b[0m\u001b[0;34m'title'\u001b[0m\u001b[0;34m,\u001b[0m \u001b[0;34m'first_name'\u001b[0m\u001b[0;34m]\u001b[0m\u001b[0;34m,\u001b[0m \u001b[0mcolumns\u001b[0m\u001b[0;34m=\u001b[0m\u001b[0;34m[\u001b[0m\u001b[0;34m'sex'\u001b[0m\u001b[0;34m,\u001b[0m \u001b[0;34m'last_name'\u001b[0m\u001b[0;34m]\u001b[0m\u001b[0;34m,\u001b[0m \u001b[0mvalues\u001b[0m\u001b[0;34m=\u001b[0m\u001b[0;34m'birth_year'\u001b[0m\u001b[0;34m,\u001b[0m \u001b[0maggfunc\u001b[0m\u001b[0;34m=\u001b[0m\u001b[0;34m[\u001b[0m\u001b[0;34m'mean'\u001b[0m\u001b[0;34m,\u001b[0m \u001b[0;34m'count'\u001b[0m\u001b[0;34m]\u001b[0m\u001b[0;34m,\u001b[0m \u001b[0mfill_value\u001b[0m\u001b[0;34m=\u001b[0m\u001b[0;36m0\u001b[0m\u001b[0;34m)\u001b[0m\u001b[0;34m\u001b[0m\u001b[0;34m\u001b[0m\u001b[0m\n\u001b[0m\u001b[1;32m      2\u001b[0m \u001b[0mprint\u001b[0m\u001b[0;34m(\u001b[0m\u001b[0mp\u001b[0m\u001b[0;34m)\u001b[0m\u001b[0;34m\u001b[0m\u001b[0;34m\u001b[0m\u001b[0m\n",
            "\u001b[0;32m/usr/local/lib/python3.10/dist-packages/pandas/core/frame.py\u001b[0m in \u001b[0;36mpivot_table\u001b[0;34m(self, values, index, columns, aggfunc, fill_value, margins, dropna, margins_name, observed, sort)\u001b[0m\n\u001b[1;32m   8729\u001b[0m         \u001b[0;32mfrom\u001b[0m \u001b[0mpandas\u001b[0m\u001b[0;34m.\u001b[0m\u001b[0mcore\u001b[0m\u001b[0;34m.\u001b[0m\u001b[0mreshape\u001b[0m\u001b[0;34m.\u001b[0m\u001b[0mpivot\u001b[0m \u001b[0;32mimport\u001b[0m \u001b[0mpivot_table\u001b[0m\u001b[0;34m\u001b[0m\u001b[0;34m\u001b[0m\u001b[0m\n\u001b[1;32m   8730\u001b[0m \u001b[0;34m\u001b[0m\u001b[0m\n\u001b[0;32m-> 8731\u001b[0;31m         return pivot_table(\n\u001b[0m\u001b[1;32m   8732\u001b[0m             \u001b[0mself\u001b[0m\u001b[0;34m,\u001b[0m\u001b[0;34m\u001b[0m\u001b[0;34m\u001b[0m\u001b[0m\n\u001b[1;32m   8733\u001b[0m             \u001b[0mvalues\u001b[0m\u001b[0;34m=\u001b[0m\u001b[0mvalues\u001b[0m\u001b[0;34m,\u001b[0m\u001b[0;34m\u001b[0m\u001b[0;34m\u001b[0m\u001b[0m\n",
            "\u001b[0;32m/usr/local/lib/python3.10/dist-packages/pandas/core/reshape/pivot.py\u001b[0m in \u001b[0;36mpivot_table\u001b[0;34m(data, values, index, columns, aggfunc, fill_value, margins, dropna, margins_name, observed, sort)\u001b[0m\n\u001b[1;32m     76\u001b[0m         \u001b[0mkeys\u001b[0m \u001b[0;34m=\u001b[0m \u001b[0;34m[\u001b[0m\u001b[0;34m]\u001b[0m\u001b[0;34m\u001b[0m\u001b[0;34m\u001b[0m\u001b[0m\n\u001b[1;32m     77\u001b[0m         \u001b[0;32mfor\u001b[0m \u001b[0mfunc\u001b[0m \u001b[0;32min\u001b[0m \u001b[0maggfunc\u001b[0m\u001b[0;34m:\u001b[0m\u001b[0;34m\u001b[0m\u001b[0;34m\u001b[0m\u001b[0m\n\u001b[0;32m---> 78\u001b[0;31m             _table = __internal_pivot_table(\n\u001b[0m\u001b[1;32m     79\u001b[0m                 \u001b[0mdata\u001b[0m\u001b[0;34m,\u001b[0m\u001b[0;34m\u001b[0m\u001b[0;34m\u001b[0m\u001b[0m\n\u001b[1;32m     80\u001b[0m                 \u001b[0mvalues\u001b[0m\u001b[0;34m=\u001b[0m\u001b[0mvalues\u001b[0m\u001b[0;34m,\u001b[0m\u001b[0;34m\u001b[0m\u001b[0;34m\u001b[0m\u001b[0m\n",
            "\u001b[0;32m/usr/local/lib/python3.10/dist-packages/pandas/core/reshape/pivot.py\u001b[0m in \u001b[0;36m__internal_pivot_table\u001b[0;34m(data, values, index, columns, aggfunc, fill_value, margins, dropna, margins_name, observed, sort)\u001b[0m\n\u001b[1;32m    141\u001b[0m         \u001b[0;32mfor\u001b[0m \u001b[0mi\u001b[0m \u001b[0;32min\u001b[0m \u001b[0mvalues\u001b[0m\u001b[0;34m:\u001b[0m\u001b[0;34m\u001b[0m\u001b[0;34m\u001b[0m\u001b[0m\n\u001b[1;32m    142\u001b[0m             \u001b[0;32mif\u001b[0m \u001b[0mi\u001b[0m \u001b[0;32mnot\u001b[0m \u001b[0;32min\u001b[0m \u001b[0mdata\u001b[0m\u001b[0;34m:\u001b[0m\u001b[0;34m\u001b[0m\u001b[0;34m\u001b[0m\u001b[0m\n\u001b[0;32m--> 143\u001b[0;31m                 \u001b[0;32mraise\u001b[0m \u001b[0mKeyError\u001b[0m\u001b[0;34m(\u001b[0m\u001b[0mi\u001b[0m\u001b[0;34m)\u001b[0m\u001b[0;34m\u001b[0m\u001b[0;34m\u001b[0m\u001b[0m\n\u001b[0m\u001b[1;32m    144\u001b[0m \u001b[0;34m\u001b[0m\u001b[0m\n\u001b[1;32m    145\u001b[0m         \u001b[0mto_filter\u001b[0m \u001b[0;34m=\u001b[0m \u001b[0;34m[\u001b[0m\u001b[0;34m]\u001b[0m\u001b[0;34m\u001b[0m\u001b[0;34m\u001b[0m\u001b[0m\n",
            "\u001b[0;31mKeyError\u001b[0m: 'birth_year'"
          ]
        }
      ],
      "source": [
        "p = df.pivot_table(index=['title', 'first_name'], columns=['sex', 'last_name'], values='birth_year', aggfunc=['mean', 'count'], fill_value=0)\n",
        "print(p)"
      ]
    },
    {
      "cell_type": "markdown",
      "id": "bde3f764-e02d-4289-9267-b22b7b3b8e57",
      "metadata": {
        "id": "bde3f764-e02d-4289-9267-b22b7b3b8e57"
      },
      "source": [
        "The groupby function's recasting of information is very similar to that of the pivot_table function. In general, the main difference is how the resulting output is shaped.\n",
        "\n",
        "Rob: *Note it's a common mistake to create a group object without specifying an aggregating function like mean, sum, or std.*\n",
        "\n",
        "Consider the following:"
      ]
    },
    {
      "cell_type": "code",
      "execution_count": null,
      "id": "14213b7b-daca-4e93-88d5-83ed7b150bad",
      "metadata": {
        "id": "14213b7b-daca-4e93-88d5-83ed7b150bad",
        "outputId": "84320209-0055-4ea2-fcfa-bac40ad675d2"
      },
      "outputs": [
        {
          "name": "stdout",
          "output_type": "stream",
          "text": [
            "<pandas.core.groupby.generic.DataFrameGroupBy object at 0x7fd0b6b0b010>\n"
          ]
        }
      ],
      "source": [
        "df = pd.DataFrame({'Car': [1, 1, 2, 2, 2],\n",
        "                   'Type': ['new', 'used', 'new', 'used', 'used'],\n",
        "                   'Price': [10, 5, 12, 7, 6]})\n",
        "\n",
        "g = df.groupby(by='Car')\n",
        "print(g)"
      ]
    },
    {
      "cell_type": "markdown",
      "id": "441819a3-b014-41d2-a386-b51f7ddf12ae",
      "metadata": {
        "id": "441819a3-b014-41d2-a386-b51f7ddf12ae"
      },
      "source": [
        "That's not particularly helpful. However, if we group by 'Car' and invoke the 'mean' function, we obtain a more useful result."
      ]
    },
    {
      "cell_type": "code",
      "execution_count": null,
      "id": "978c04b3-45a2-4598-accd-618b31a1917a",
      "metadata": {
        "id": "978c04b3-45a2-4598-accd-618b31a1917a",
        "outputId": "11c91f06-0f12-4586-a3c9-978f2ed96411"
      },
      "outputs": [
        {
          "name": "stdout",
          "output_type": "stream",
          "text": [
            "        Price\n",
            "Car          \n",
            "1    7.500000\n",
            "2    8.333333\n"
          ]
        },
        {
          "name": "stderr",
          "output_type": "stream",
          "text": [
            "/tmp/ipykernel_694/4121060130.py:1: FutureWarning: The default value of numeric_only in DataFrameGroupBy.mean is deprecated. In a future version, numeric_only will default to False. Either specify numeric_only or select only columns which should be valid for the function.\n",
            "  g = df.groupby(by='Car').mean()\n"
          ]
        }
      ],
      "source": [
        "g = df.groupby(by='Car').mean()\n",
        "print(g)"
      ]
    },
    {
      "cell_type": "markdown",
      "id": "74dec7c6-a91d-42c5-ab9f-d22fafc62598",
      "metadata": {
        "id": "74dec7c6-a91d-42c5-ab9f-d22fafc62598"
      },
      "source": [
        "That warning basically tells us that we tried to take the mean of \"type\", which doesn't make sense, so it was tossed out. If instead of mean we wanted to use the more robust count we'd get:"
      ]
    },
    {
      "cell_type": "code",
      "execution_count": null,
      "id": "65f9fd99-6504-4e9f-9223-b000ccf94118",
      "metadata": {
        "id": "65f9fd99-6504-4e9f-9223-b000ccf94118",
        "outputId": "ecad7107-9633-42d7-9480-3c4f0463f0b0"
      },
      "outputs": [
        {
          "name": "stdout",
          "output_type": "stream",
          "text": [
            "     Type  Price\n",
            "Car             \n",
            "1       2      2\n",
            "2       3      3\n"
          ]
        }
      ],
      "source": [
        "g = df.groupby(by='Car').count()\n",
        "print(g)"
      ]
    },
    {
      "cell_type": "markdown",
      "id": "1b2ea6ce-11cd-4fda-b0d2-ed70b2d5f6f0",
      "metadata": {
        "id": "1b2ea6ce-11cd-4fda-b0d2-ed70b2d5f6f0"
      },
      "source": [
        "If we wanted to group by both 'Car' and 'Type', and use two different aggregation function, we could do that:"
      ]
    },
    {
      "cell_type": "markdown",
      "id": "jWdZA0aKEwKO",
      "metadata": {
        "id": "jWdZA0aKEwKO"
      },
      "source": [
        "Rob: nunique is like SQL Count Distinct"
      ]
    },
    {
      "cell_type": "code",
      "execution_count": null,
      "id": "bb46c83a-9d69-4fcf-b7e0-a671fc187c28",
      "metadata": {
        "id": "bb46c83a-9d69-4fcf-b7e0-a671fc187c28",
        "outputId": "6dd3da26-76a8-4af1-ff23-4ad5202761dc"
      },
      "outputs": [
        {
          "name": "stdout",
          "output_type": "stream",
          "text": [
            "         Price      \n",
            "          mean count\n",
            "Car Type            \n",
            "1   new   10.0     1\n",
            "    used   5.0     1\n",
            "2   new   12.0     1\n",
            "    used   6.5     2\n"
          ]
        }
      ],
      "source": [
        "  g = df.groupby(by=['Car','Type']).agg(['mean','count'])\n",
        "print(g)"
      ]
    },
    {
      "cell_type": "markdown",
      "id": "418f6c3e-0347-4dfb-99ab-8a1785f16809",
      "metadata": {
        "id": "418f6c3e-0347-4dfb-99ab-8a1785f16809"
      },
      "source": [
        "The transpose function (or simply T) transposes a dataframe. For example:"
      ]
    },
    {
      "cell_type": "code",
      "execution_count": 17,
      "id": "f2814ac4-c10f-4c0f-8f1b-af8aca43ae2c",
      "metadata": {
        "colab": {
          "base_uri": "https://localhost:8080/"
        },
        "id": "f2814ac4-c10f-4c0f-8f1b-af8aca43ae2c",
        "outputId": "21ec8bd9-a4a7-489d-edbd-3eba3d1ec489"
      },
      "outputs": [
        {
          "name": "stdout",
          "output_type": "stream",
          "text": [
            "Original\n",
            "   A  B\n",
            "0  0  1\n",
            "1  2  3\n",
            "2  4  5\n",
            "\n",
            "Transposed:\n",
            "   0  1  2\n",
            "A  0  2  4\n",
            "B  1  3  5\n"
          ]
        }
      ],
      "source": [
        "df = pd.DataFrame(np.arange(6).reshape(3, 2), columns=['A', 'B'])\n",
        "print(f'Original\\n{df}')\n",
        "\n",
        "df = df.transpose()  # or df.T\n",
        "\n",
        "print(f'\\nTransposed:\\n{df}')"
      ]
    },
    {
      "cell_type": "code",
      "execution_count": null,
      "id": "BmMyD4UKFBD7",
      "metadata": {
        "id": "BmMyD4UKFBD7"
      },
      "outputs": [],
      "source": []
    }
  ],
  "metadata": {
    "colab": {
      "provenance": []
    },
    "kernelspec": {
      "display_name": "Python 3",
      "language": "python",
      "name": "python3"
    },
    "language_info": {
      "codemirror_mode": {
        "name": "ipython",
        "version": 3
      },
      "file_extension": ".py",
      "mimetype": "text/x-python",
      "name": "python",
      "nbconvert_exporter": "python",
      "pygments_lexer": "ipython3",
      "version": "3.10.5"
    }
  },
  "nbformat": 4,
  "nbformat_minor": 5
}

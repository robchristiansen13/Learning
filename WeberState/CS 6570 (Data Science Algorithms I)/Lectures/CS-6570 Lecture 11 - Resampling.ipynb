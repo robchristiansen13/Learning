{
 "cells": [
  {
   "cell_type": "markdown",
   "id": "03d93527-8471-4ffa-b81d-f1071bf5d833",
   "metadata": {},
   "source": [
    "# CS-6570 Lecture 11 - Resampling\n",
    "\n",
    "**Dylan Zwick**\n",
    "\n",
    "*Weber State University*"
   ]
  },
  {
   "cell_type": "markdown",
   "id": "8b538533-7a82-4eb6-927d-b5b6badcfd51",
   "metadata": {},
   "source": [
    "Today, we're going to talk about resampling, and in particular bootstrapping. Bootstrapping is a technique that is extremely widely used in machine learning and statistical analysis, and honestly seems like cheating. But it's not. There are sound mathematical reasons behind it, it can be used in a huge number of situations, it's straightforward (if you've got enough computation power), and it works."
   ]
  },
  {
   "cell_type": "markdown",
   "id": "b67bfc19-33b5-47db-bd3f-49d033ad572b",
   "metadata": {},
   "source": [
    "The idea behind the bootstrap is that when we take a sample of our population, we can then make estimates about certain characteristics of our population. To get a better idea of what those characteristics are, we'd like to be able to take a bunch of samples, and look at how those estimates change from sample to sample. The problem is, sampling can be expensive and time consuming, and so we've usually only got one dataset. Is there anything we can do to get an estimate for how robust our estimates are, and what the actual population values might be?"
   ]
  },
  {
   "cell_type": "markdown",
   "id": "6d6af00f-179e-41e4-bf9d-5ed97fbe3580",
   "metadata": {},
   "source": [
    "Turns out, there is. It's called \"bootstrapping\", and the name is based upon the notion of \"pulling yourself up by your own bootstraps\", an impossibility that more broadly means doing what you can to improve yourself with the only resources you have available."
   ]
  },
  {
   "cell_type": "markdown",
   "id": "fa6f5315-066d-4784-be2f-4a07803d1fbc",
   "metadata": {},
   "source": [
    "Alright, so what is bootstrapping? The idea behind bootstrapping is that you build a different sample from the one and only sample that you have. What? How in the world do you do that? Well, you do it through resampling *with replacement*. So, you resamble from your existing sample, but you allow for the possibility for a given value to be chosen more than once."
   ]
  },
  {
   "cell_type": "markdown",
   "id": "3ec90ae0-7e1b-4a7e-ada0-f42135501eac",
   "metadata": {},
   "source": [
    "Let's first take a look at this using some simulated data."
   ]
  },
  {
   "cell_type": "code",
   "execution_count": 12,
   "id": "5e6d8cfc-c793-4d9e-91c6-c36a7d297e24",
   "metadata": {},
   "outputs": [
    {
     "data": {
      "text/plain": [
       "9.567729011266215"
      ]
     },
     "execution_count": 12,
     "metadata": {},
     "output_type": "execute_result"
    }
   ],
   "source": [
    "#We'll import our favorite libraries.\n",
    "import pandas as pd\n",
    "import numpy as np\n",
    "from matplotlib import pyplot as plt\n",
    "\n",
    "#We'll import the random number genearting library \"random\". We'll also import a library with standard statistical functions.\n",
    "import random\n",
    "import statistics\n",
    "\n",
    "#We'll set a random \"seed\" so that we'll get the same \"random\" numbers generated every time we run this code.\n",
    "random.seed(42)\n",
    "\n",
    "#The function random.gauss returns a random number from a Gaussian (a.ka.a normal) distribution\n",
    "#with mean mu and standand deviation sigma.\n",
    "random.gauss(mu = 10, sigma = 3)"
   ]
  },
  {
   "cell_type": "markdown",
   "id": "09d0fda4-7ebd-4102-8b9a-44558c74d448",
   "metadata": {},
   "source": [
    "We'll grab 1000 random samples from a Gaussian distribution, and then we'll repeat this 1000 times. (1000^1000)"
   ]
  },
  {
   "cell_type": "markdown",
   "id": "7a2f10b9",
   "metadata": {},
   "source": []
  },
  {
   "cell_type": "code",
   "execution_count": 13,
   "id": "150cb840-b6a4-470d-939d-d5d2f42fedd3",
   "metadata": {},
   "outputs": [],
   "source": [
    "avg = 10\n",
    "stdev = 3\n",
    "\n",
    "samples = []\n",
    "\n",
    "for i in range(1000):\n",
    "    sample = []\n",
    "    for j in range(1000):\n",
    "        sample.append(random.gauss(mu = avg, sigma = stdev))\n",
    "    samples.append(sample)\n",
    "    \n",
    "sample_averages = []\n",
    "for i in range(0,1000):\n",
    "    sample_averages.append(statistics.mean(samples[i]))"
   ]
  },
  {
   "cell_type": "code",
   "execution_count": 14,
   "id": "ab88cbc6-6bd1-4375-9906-89f8285b2348",
   "metadata": {},
   "outputs": [
    {
     "name": "stdout",
     "output_type": "stream",
     "text": [
      "9.995356941043026\n"
     ]
    },
    {
     "data": {
      "image/png": "[encoded data removed]",
      "text/plain": [
       "<Figure size 640x480 with 1 Axes>"
      ]
     },
     "metadata": {},
     "output_type": "display_data"
    }
   ],
   "source": [
    "def plot_hist(x, p=5):\n",
    "    # Plot the distribution and mark the mean\n",
    "    plt.hist(x, alpha=.5)\n",
    "    plt.axvline(statistics.mean(x))\n",
    "    # 95% confidence interval \n",
    "    plt.axvline(np.percentile(x, p/2.), color='red', linewidth=3)\n",
    "    plt.axvline(np.percentile(x, 100-p/2.), color='red', linewidth=3)\n",
    "\n",
    "plot_hist(sample_averages)\n",
    "print(statistics.mean(sample_averages))"
   ]
  },
  {
   "cell_type": "markdown",
   "id": "6a273957-6d36-48b5-a4c1-d5e06aeb5d5e",
   "metadata": {},
   "source": [
    "In bootstrapping, what we do instead is start with a single sample, and we resamble from that with replacement."
   ]
  },
  {
   "cell_type": "code",
   "execution_count": 15,
   "id": "3622b059-393d-4356-854a-eb46e0ba16c0",
   "metadata": {},
   "outputs": [
    {
     "name": "stdout",
     "output_type": "stream",
     "text": [
      "9.972020422292013\n"
     ]
    },
    {
     "data": {
      "image/png": "[encoded data removed]",
      "text/plain": [
       "<Figure size 640x480 with 1 Axes>"
      ]
     },
     "metadata": {},
     "output_type": "display_data"
    }
   ],
   "source": [
    "rand_sample = samples[random.randint(0,999)]\n",
    "\n",
    "samples = []\n",
    "\n",
    "for i in range(1000):\n",
    "    sample = []\n",
    "    for j in range(1000):\n",
    "        sample.append(rand_sample[random.randint(0,999)])\n",
    "    samples.append(sample)\n",
    "    \n",
    "sample_averages = []\n",
    "for i in range(0,1000):\n",
    "    sample_averages.append(statistics.mean(samples[i]))\n",
    "    \n",
    "plot_hist(sample_averages)\n",
    "print(statistics.mean(sample_averages))"
   ]
  },
  {
   "cell_type": "markdown",
   "id": "0b08a3cb-72a6-4f2b-9b9f-87ba6b928266",
   "metadata": {},
   "source": [
    "OK, let's take a look at using Bootstrapping with an actual dataset, and not one synthetically generated. We'll use Galton's height dataset, famous for giving us the term \"regression to the mean\"."
   ]
  },
  {
   "cell_type": "code",
   "execution_count": 16,
   "id": "a20c5fbd-bb22-4857-ab7c-f9ae14b70a2b",
   "metadata": {},
   "outputs": [
    {
     "data": {
      "text/html": [
       "<div>\n",
       "<style scoped>\n",
       "    .dataframe tbody tr th:only-of-type {\n",
       "        vertical-align: middle;\n",
       "    }\n",
       "\n",
       "    .dataframe tbody tr th {\n",
       "        vertical-align: top;\n",
       "    }\n",
       "\n",
       "    .dataframe thead th {\n",
       "        text-align: right;\n",
       "    }\n",
       "</style>\n",
       "<table border=\"1\" class=\"dataframe\">\n",
       "  <thead>\n",
       "    <tr style=\"text-align: right;\">\n",
       "      <th></th>\n",
       "      <th>gender</th>\n",
       "      <th>height</th>\n",
       "    </tr>\n",
       "  </thead>\n",
       "  <tbody>\n",
       "    <tr>\n",
       "      <th>0</th>\n",
       "      <td>M</td>\n",
       "      <td>73.2</td>\n",
       "    </tr>\n",
       "    <tr>\n",
       "      <th>1</th>\n",
       "      <td>F</td>\n",
       "      <td>69.2</td>\n",
       "    </tr>\n",
       "    <tr>\n",
       "      <th>2</th>\n",
       "      <td>F</td>\n",
       "      <td>69.0</td>\n",
       "    </tr>\n",
       "    <tr>\n",
       "      <th>3</th>\n",
       "      <td>F</td>\n",
       "      <td>69.0</td>\n",
       "    </tr>\n",
       "    <tr>\n",
       "      <th>4</th>\n",
       "      <td>M</td>\n",
       "      <td>73.5</td>\n",
       "    </tr>\n",
       "  </tbody>\n",
       "</table>\n",
       "</div>"
      ],
      "text/plain": [
       "  gender  height\n",
       "0      M    73.2\n",
       "1      F    69.2\n",
       "2      F    69.0\n",
       "3      F    69.0\n",
       "4      M    73.5"
      ]
     },
     "execution_count": 16,
     "metadata": {},
     "output_type": "execute_result"
    }
   ],
   "source": [
    "galton = pd.read_csv('Datasets/galton.tab', sep='\\t')[['gender','height']]\n",
    "galton.head()"
   ]
  },
  {
   "cell_type": "markdown",
   "id": "300946e6-83b8-4b5e-96f6-3f15cc12caf5",
   "metadata": {},
   "source": [
    "We can subset the dataframe by gender to get the number of men and women in the dataset. This will create two data sets, one called male and one called female."
   ]
  },
  {
   "cell_type": "code",
   "execution_count": 17,
   "id": "fcfce96e-028f-46f7-a68e-003388bdb12c",
   "metadata": {},
   "outputs": [
    {
     "data": {
      "text/plain": [
       "(465, 433)"
      ]
     },
     "execution_count": 17,
     "metadata": {},
     "output_type": "execute_result"
    }
   ],
   "source": [
    "male = galton[galton.gender == 'M']\n",
    "female = galton[galton.gender == 'F']\n",
    "len(male),len(female)"
   ]
  },
  {
   "cell_type": "markdown",
   "id": "f36cad26-3148-4457-9092-2ad2af51dcf8",
   "metadata": {},
   "source": [
    "Now, we can plot these histograms:"
   ]
  },
  {
   "cell_type": "code",
   "execution_count": 18,
   "id": "ff0bb12f-56e4-4fcb-9e3b-51f9e91cecdd",
   "metadata": {},
   "outputs": [
    {
     "data": {
      "image/png": "[encoded data removed]",
      "text/plain": [
       "<Figure size 640x480 with 2 Axes>"
      ]
     },
     "metadata": {},
     "output_type": "display_data"
    }
   ],
   "source": [
    "def plot_dists(a, b, nbins=20, a_label='pop_A', b_label='pop_B', p=5):\n",
    " # Create a single sequence of bins to be shared across both\n",
    " # distribution plots for visualization consistency.\n",
    " combined = pd.concat([a, b])\n",
    " breaks = np.linspace(\n",
    "     combined.min(), \n",
    "     combined.max(), \n",
    "     num=nbins+1)\n",
    " plt.subplot(2, 1, 1)\n",
    " plot_hist(a)\n",
    " plt.title(a_label)\n",
    " \n",
    " plt.subplot(2, 1, 2)\n",
    " plot_hist(b)\n",
    " plt.title(b_label)\n",
    " \n",
    " plt.tight_layout()\n",
    " \n",
    "plot_dists(male.height, female.height, a_label='sons', b_label='daughters')\n",
    "plt.show()"
   ]
  },
  {
   "cell_type": "markdown",
   "id": "235d05f7-0fae-4b44-a62c-dd1d981d1e19",
   "metadata": {},
   "source": [
    "The thing to note here is there is significant overlap between sons and daughters. We can see that the daughters are on average smaller than the sons, but is this overlap significant? We can use the bootstrap to investigate."
   ]
  },
  {
   "cell_type": "code",
   "execution_count": 19,
   "id": "ffb186e0-5f8e-4e98-97ed-4aafd6358619",
   "metadata": {},
   "outputs": [
    {
     "data": {
      "image/png": "[encoded data removed]",
      "text/plain": [
       "<Figure size 640x480 with 2 Axes>"
      ]
     },
     "metadata": {},
     "output_type": "display_data"
    }
   ],
   "source": [
    "n_replicas = 1000\n",
    "\n",
    "female_bootstrap_means = pd.Series([\n",
    "    female.sample(frac=1, replace=True).height.mean()\n",
    "    for i in range(n_replicas)])\n",
    "male_bootstrap_means = pd.Series([\n",
    "    male.sample(frac=1, replace=True).height.mean()\n",
    "    for i in range(n_replicas)])\n",
    "plot_dists(male_bootstrap_means, female_bootstrap_means, a_label='sons', b_label='daughters')\n",
    "plt.show()"
   ]
  },
  {
   "cell_type": "markdown",
   "id": "289be8bd-c4a3-4042-8e2e-84d54867df5c",
   "metadata": {},
   "source": [
    "The distribution of the bootstrap means does not overlap at all! So, we can be much more confident that our means are significantly different."
   ]
  }
 ],
 "metadata": {
  "kernelspec": {
   "display_name": "Python 3",
   "language": "python",
   "name": "python3"
  },
  "language_info": {
   "codemirror_mode": {
    "name": "ipython",
    "version": 3
   },
   "file_extension": ".py",
   "mimetype": "text/x-python",
   "name": "python",
   "nbconvert_exporter": "python",
   "pygments_lexer": "ipython3",
   "version": "3.11.5"
  }
 },
 "nbformat": 4,
 "nbformat_minor": 5
}

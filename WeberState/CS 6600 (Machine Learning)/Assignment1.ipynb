{
  "nbformat": 4,
  "nbformat_minor": 0,
  "metadata": {
    "colab": {
      "provenance": [],
      "include_colab_link": true
    },
    "kernelspec": {
      "name": "python3",
      "display_name": "Python 3"
    },
    "language_info": {
      "name": "python"
    }
  },
  "cells": [
    {
      "cell_type": "markdown",
      "metadata": {
        "id": "view-in-github",
        "colab_type": "text"
      },
      "source": [
        "<a href=\"https://colab.research.google.com/github/robchristiansen13/Learning/blob/main/WeberState/CS%206600%20(Machine%20Learning)/Assignment1.ipynb\" target=\"_parent\"><img src=\"https://colab.research.google.com/assets/colab-badge.svg\" alt=\"Open In Colab\"/></a>"
      ]
    },
    {
      "cell_type": "markdown",
      "source": [
        "Calculate the following metrics for each confustion matrix\n"
      ],
      "metadata": {
        "id": "B_Sdvg5vlWoV"
      }
    },
    {
      "cell_type": "markdown",
      "source": [
        "Confusion Matrix A\n",
        "\n",
        "| | + | - |\n",
        "|---|---|---|\n",
        "|+| 263 | 25 |\n",
        "|-| 8 | 271|\n",
        "\n",
        "Accuracy:\n",
        "\n",
        "Sensitiviy/Recall:\n",
        "\n",
        "Specificity:\n",
        "\n",
        "Precision:\n",
        "\n",
        "F1 Measure:\n",
        "\n",
        "MCC:"
      ],
      "metadata": {
        "id": "kbJg1pRimyQw"
      }
    },
    {
      "cell_type": "markdown",
      "source": [
        "Confusion Matrix B\n",
        "\n",
        "| | + | - |\n",
        "|---|---|---|\n",
        "|+| 176 | 112 |\n",
        "|-| 33 | 246|\n",
        "\n",
        "Accuracy:\n",
        "\n",
        "Sensitiviy/Recall:\n",
        "\n",
        "Specificity:\n",
        "\n",
        "Precision:\n",
        "\n",
        "F1 Measure:\n",
        "\n",
        "MCC:"
      ],
      "metadata": {
        "id": "8XHfRGyAnJuK"
      }
    },
    {
      "cell_type": "markdown",
      "source": [
        "Confusion Matrix C\n",
        "\n",
        "| | + | - |\n",
        "|---|---|---|\n",
        "|+| 18 | 42 |\n",
        "|-| 3 | 271|\n",
        "\n",
        "Accuracy:\n",
        "\n",
        "Sensitiviy/Recall:\n",
        "\n",
        "Specificity:\n",
        "\n",
        "Precision:\n",
        "\n",
        "F1 Measure:\n",
        "\n",
        "MCC:"
      ],
      "metadata": {
        "id": "HwZ427B7nJ6q"
      }
    },
    {
      "cell_type": "markdown",
      "source": [
        "Confusion Matrix D\n",
        "\n",
        "| | + | - |\n",
        "|---|---|---|\n",
        "|+| 35 | 25 |\n",
        "|-| 20 | 254|\n",
        "\n",
        "Accuracy:\n",
        "\n",
        "Sensitiviy/Recall:\n",
        "\n",
        "Specificity:\n",
        "\n",
        "Precision:\n",
        "\n",
        "F1 Measure:\n",
        "\n",
        "MCC:"
      ],
      "metadata": {
        "id": "209wqIM1nKLk"
      }
    },
    {
      "cell_type": "markdown",
      "source": [
        "Use the sklearn algorithms and builtin datasets to answer the following questions"
      ],
      "metadata": {
        "id": "6_qpdOwjnqTz"
      }
    },
    {
      "cell_type": "markdown",
      "source": [
        "How many instances are in the diabetes dataset?  Use code to show your answer"
      ],
      "metadata": {
        "id": "hYnFD7w_n19I"
      }
    },
    {
      "cell_type": "code",
      "source": [],
      "metadata": {
        "id": "JuCPbPnZoApy"
      },
      "execution_count": null,
      "outputs": []
    },
    {
      "cell_type": "markdown",
      "source": [
        "How many instances are in the iris dataset? Use code to show your answer"
      ],
      "metadata": {
        "id": "vFfHH0YdoBF8"
      }
    },
    {
      "cell_type": "code",
      "source": [],
      "metadata": {
        "id": "uVGARKw0oHcw"
      },
      "execution_count": null,
      "outputs": []
    },
    {
      "cell_type": "markdown",
      "source": [
        "Use the iris dataset and the digits dataset in conjuction with the DecisionTreeClassifier, the GuassianNB, and the KNeighborsClassifier to train and test each classifier on each dataset.  Report the accuracy, precision, recall, and F1 scores.\n"
      ],
      "metadata": {
        "id": "eTsVIjM0oH6s"
      }
    },
    {
      "cell_type": "code",
      "source": [
        "from sklearn.datasets import load_iris, load_digits\n",
        "from sklearn.model_selection import train_test_split\n",
        "from sklearn.metrics import accuracy_score, precision_score, recall_score, f1_score\n",
        "\n",
        "# load the iris dataset and split it into train and test sets\n",
        "X, y = load_iris(return_X_y=True)\n",
        "\n"
      ],
      "metadata": {
        "id": "HckvxA-JkQKV"
      },
      "execution_count": null,
      "outputs": []
    }
  ]
}
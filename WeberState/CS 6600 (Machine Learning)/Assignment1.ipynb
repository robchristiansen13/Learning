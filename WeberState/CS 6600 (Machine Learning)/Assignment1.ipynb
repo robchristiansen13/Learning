{
  "nbformat": 4,
  "nbformat_minor": 0,
  "metadata": {
    "colab": {
      "provenance": [],
      "include_colab_link": true
    },
    "kernelspec": {
      "name": "python3",
      "display_name": "Python 3"
    },
    "language_info": {
      "name": "python"
    }
  },
  "cells": [
    {
      "cell_type": "markdown",
      "metadata": {
        "id": "view-in-github",
        "colab_type": "text"
      },
      "source": [
        "<a href=\"https://colab.research.google.com/github/robchristiansen13/Learning/blob/main/WeberState/CS%206600%20(Machine%20Learning)/Assignment1.ipynb\" target=\"_parent\"><img src=\"https://colab.research.google.com/assets/colab-badge.svg\" alt=\"Open In Colab\"/></a>"
      ]
    },
    {
      "cell_type": "markdown",
      "source": [
        "Calculate the following metrics for each confustion matrix\n"
      ],
      "metadata": {
        "id": "B_Sdvg5vlWoV"
      }
    },
    {
      "cell_type": "markdown",
      "source": [
        "Confusion Matrix A\n",
        "\n",
        "| | + | - |\n",
        "|---|---|---|\n",
        "|+| 263 | 25 |\n",
        "|-| 8 | 271|\n",
        "\n",
        "Accuracy:\n",
        "\n",
        "Sensitiviy/Recall:\n",
        "\n",
        "Specificity:\n",
        "\n",
        "Precision:\n",
        "\n",
        "F1 Measure:\n",
        "\n",
        "MCC:"
      ],
      "metadata": {
        "id": "kbJg1pRimyQw"
      }
    },
    {
      "cell_type": "code",
      "source": [
        "import array as arr\n",
        "from sklearn.metrics import precision_score, recall_score\n",
        "\n",
        "y_train = arr.array('i',[53892, 687])\n",
        "y_train_pred = arr.array('i',[1891, 3530])\n",
        "\n",
        "ps = precision_score(y_train, y_train_pred)\n",
        "# == 3530 / (687 + 3530) 0.8370879772350012\n",
        "\n",
        "rs = recall_score(y_train, y_train_pred)\n",
        "# == 3530 / (1891 + 3530) 0.6511713705958311\n",
        "\n",
        "cm = confusion_matrix(y_train_5, y_train_pred)\n"
      ],
      "metadata": {
        "id": "bYfeuVeBaRrG",
        "outputId": "90c1a96f-abd1-4b1c-8305-af5700a95981",
        "colab": {
          "base_uri": "https://localhost:8080/",
          "height": 399
        }
      },
      "execution_count": 10,
      "outputs": [
        {
          "output_type": "error",
          "ename": "ValueError",
          "evalue": "ignored",
          "traceback": [
            "\u001b[0;31m---------------------------------------------------------------------------\u001b[0m",
            "\u001b[0;31mValueError\u001b[0m                                Traceback (most recent call last)",
            "\u001b[0;32m<ipython-input-10-41f44320cf25>\u001b[0m in \u001b[0;36m<cell line: 7>\u001b[0;34m()\u001b[0m\n\u001b[1;32m      5\u001b[0m \u001b[0my_train_pred\u001b[0m \u001b[0;34m=\u001b[0m \u001b[0marr\u001b[0m\u001b[0;34m.\u001b[0m\u001b[0marray\u001b[0m\u001b[0;34m(\u001b[0m\u001b[0;34m'i'\u001b[0m\u001b[0;34m,\u001b[0m\u001b[0;34m[\u001b[0m\u001b[0;36m1891\u001b[0m\u001b[0;34m,\u001b[0m \u001b[0;36m3530\u001b[0m\u001b[0;34m]\u001b[0m\u001b[0;34m)\u001b[0m\u001b[0;34m\u001b[0m\u001b[0;34m\u001b[0m\u001b[0m\n\u001b[1;32m      6\u001b[0m \u001b[0;34m\u001b[0m\u001b[0m\n\u001b[0;32m----> 7\u001b[0;31m \u001b[0mps\u001b[0m \u001b[0;34m=\u001b[0m \u001b[0mprecision_score\u001b[0m\u001b[0;34m(\u001b[0m\u001b[0my_train\u001b[0m\u001b[0;34m,\u001b[0m \u001b[0my_train_pred\u001b[0m\u001b[0;34m)\u001b[0m\u001b[0;34m\u001b[0m\u001b[0;34m\u001b[0m\u001b[0m\n\u001b[0m\u001b[1;32m      8\u001b[0m \u001b[0;31m# == 3530 / (687 + 3530) 0.8370879772350012\u001b[0m\u001b[0;34m\u001b[0m\u001b[0;34m\u001b[0m\u001b[0m\n\u001b[1;32m      9\u001b[0m \u001b[0;34m\u001b[0m\u001b[0m\n",
            "\u001b[0;32m/usr/local/lib/python3.10/dist-packages/sklearn/metrics/_classification.py\u001b[0m in \u001b[0;36mprecision_score\u001b[0;34m(y_true, y_pred, labels, pos_label, average, sample_weight, zero_division)\u001b[0m\n\u001b[1;32m   1952\u001b[0m     \u001b[0marray\u001b[0m\u001b[0;34m(\u001b[0m\u001b[0;34m[\u001b[0m\u001b[0;36m0.5\u001b[0m\u001b[0;34m,\u001b[0m \u001b[0;36m1.\u001b[0m \u001b[0;34m,\u001b[0m \u001b[0;36m1.\u001b[0m \u001b[0;34m]\u001b[0m\u001b[0;34m)\u001b[0m\u001b[0;34m\u001b[0m\u001b[0;34m\u001b[0m\u001b[0m\n\u001b[1;32m   1953\u001b[0m     \"\"\"\n\u001b[0;32m-> 1954\u001b[0;31m     p, _, _, _ = precision_recall_fscore_support(\n\u001b[0m\u001b[1;32m   1955\u001b[0m         \u001b[0my_true\u001b[0m\u001b[0;34m,\u001b[0m\u001b[0;34m\u001b[0m\u001b[0;34m\u001b[0m\u001b[0m\n\u001b[1;32m   1956\u001b[0m         \u001b[0my_pred\u001b[0m\u001b[0;34m,\u001b[0m\u001b[0;34m\u001b[0m\u001b[0;34m\u001b[0m\u001b[0m\n",
            "\u001b[0;32m/usr/local/lib/python3.10/dist-packages/sklearn/metrics/_classification.py\u001b[0m in \u001b[0;36mprecision_recall_fscore_support\u001b[0;34m(y_true, y_pred, beta, labels, pos_label, average, warn_for, sample_weight, zero_division)\u001b[0m\n\u001b[1;32m   1571\u001b[0m     \u001b[0;32mif\u001b[0m \u001b[0mbeta\u001b[0m \u001b[0;34m<\u001b[0m \u001b[0;36m0\u001b[0m\u001b[0;34m:\u001b[0m\u001b[0;34m\u001b[0m\u001b[0;34m\u001b[0m\u001b[0m\n\u001b[1;32m   1572\u001b[0m         \u001b[0;32mraise\u001b[0m \u001b[0mValueError\u001b[0m\u001b[0;34m(\u001b[0m\u001b[0;34m\"beta should be >=0 in the F-beta score\"\u001b[0m\u001b[0;34m)\u001b[0m\u001b[0;34m\u001b[0m\u001b[0;34m\u001b[0m\u001b[0m\n\u001b[0;32m-> 1573\u001b[0;31m     \u001b[0mlabels\u001b[0m \u001b[0;34m=\u001b[0m \u001b[0m_check_set_wise_labels\u001b[0m\u001b[0;34m(\u001b[0m\u001b[0my_true\u001b[0m\u001b[0;34m,\u001b[0m \u001b[0my_pred\u001b[0m\u001b[0;34m,\u001b[0m \u001b[0maverage\u001b[0m\u001b[0;34m,\u001b[0m \u001b[0mlabels\u001b[0m\u001b[0;34m,\u001b[0m \u001b[0mpos_label\u001b[0m\u001b[0;34m)\u001b[0m\u001b[0;34m\u001b[0m\u001b[0;34m\u001b[0m\u001b[0m\n\u001b[0m\u001b[1;32m   1574\u001b[0m \u001b[0;34m\u001b[0m\u001b[0m\n\u001b[1;32m   1575\u001b[0m     \u001b[0;31m# Calculate tp_sum, pred_sum, true_sum ###\u001b[0m\u001b[0;34m\u001b[0m\u001b[0;34m\u001b[0m\u001b[0m\n",
            "\u001b[0;32m/usr/local/lib/python3.10/dist-packages/sklearn/metrics/_classification.py\u001b[0m in \u001b[0;36m_check_set_wise_labels\u001b[0;34m(y_true, y_pred, average, labels, pos_label)\u001b[0m\n\u001b[1;32m   1389\u001b[0m             \u001b[0;32mif\u001b[0m \u001b[0my_type\u001b[0m \u001b[0;34m==\u001b[0m \u001b[0;34m\"multiclass\"\u001b[0m\u001b[0;34m:\u001b[0m\u001b[0;34m\u001b[0m\u001b[0;34m\u001b[0m\u001b[0m\n\u001b[1;32m   1390\u001b[0m                 \u001b[0maverage_options\u001b[0m\u001b[0;34m.\u001b[0m\u001b[0mremove\u001b[0m\u001b[0;34m(\u001b[0m\u001b[0;34m\"samples\"\u001b[0m\u001b[0;34m)\u001b[0m\u001b[0;34m\u001b[0m\u001b[0;34m\u001b[0m\u001b[0m\n\u001b[0;32m-> 1391\u001b[0;31m             raise ValueError(\n\u001b[0m\u001b[1;32m   1392\u001b[0m                 \u001b[0;34m\"Target is %s but average='binary'. Please \"\u001b[0m\u001b[0;34m\u001b[0m\u001b[0;34m\u001b[0m\u001b[0m\n\u001b[1;32m   1393\u001b[0m                 \u001b[0;34m\"choose another average setting, one of %r.\"\u001b[0m \u001b[0;34m%\u001b[0m \u001b[0;34m(\u001b[0m\u001b[0my_type\u001b[0m\u001b[0;34m,\u001b[0m \u001b[0maverage_options\u001b[0m\u001b[0;34m)\u001b[0m\u001b[0;34m\u001b[0m\u001b[0;34m\u001b[0m\u001b[0m\n",
            "\u001b[0;31mValueError\u001b[0m: Target is multiclass but average='binary'. Please choose another average setting, one of [None, 'micro', 'macro', 'weighted']."
          ]
        }
      ]
    },
    {
      "cell_type": "markdown",
      "source": [
        "Confusion Matrix B\n",
        "\n",
        "| | + | - |\n",
        "|---|---|---|\n",
        "|+| 176 | 112 |\n",
        "|-| 33 | 246|\n",
        "\n",
        "Accuracy:\n",
        "\n",
        "Sensitiviy/Recall:\n",
        "\n",
        "Specificity:\n",
        "\n",
        "Precision:\n",
        "\n",
        "F1 Measure:\n",
        "\n",
        "MCC:"
      ],
      "metadata": {
        "id": "8XHfRGyAnJuK"
      }
    },
    {
      "cell_type": "markdown",
      "source": [
        "Confusion Matrix C\n",
        "\n",
        "| | + | - |\n",
        "|---|---|---|\n",
        "|+| 18 | 42 |\n",
        "|-| 3 | 271|\n",
        "\n",
        "Accuracy:\n",
        "\n",
        "Sensitiviy/Recall:\n",
        "\n",
        "Specificity:\n",
        "\n",
        "Precision:\n",
        "\n",
        "F1 Measure:\n",
        "\n",
        "MCC:"
      ],
      "metadata": {
        "id": "HwZ427B7nJ6q"
      }
    },
    {
      "cell_type": "markdown",
      "source": [
        "Confusion Matrix D\n",
        "\n",
        "| | + | - |\n",
        "|---|---|---|\n",
        "|+| 35 | 25 |\n",
        "|-| 20 | 254|\n",
        "\n",
        "Accuracy:\n",
        "\n",
        "Sensitiviy/Recall:\n",
        "\n",
        "Specificity:\n",
        "\n",
        "Precision:\n",
        "\n",
        "F1 Measure:\n",
        "\n",
        "MCC:"
      ],
      "metadata": {
        "id": "209wqIM1nKLk"
      }
    },
    {
      "cell_type": "markdown",
      "source": [
        "Use the sklearn algorithms and builtin datasets to answer the following questions"
      ],
      "metadata": {
        "id": "6_qpdOwjnqTz"
      }
    },
    {
      "cell_type": "markdown",
      "source": [
        "How many instances are in the diabetes dataset?  Use code to show your answer"
      ],
      "metadata": {
        "id": "hYnFD7w_n19I"
      }
    },
    {
      "cell_type": "code",
      "source": [],
      "metadata": {
        "id": "JuCPbPnZoApy"
      },
      "execution_count": null,
      "outputs": []
    },
    {
      "cell_type": "markdown",
      "source": [
        "How many instances are in the iris dataset? Use code to show your answer"
      ],
      "metadata": {
        "id": "vFfHH0YdoBF8"
      }
    },
    {
      "cell_type": "code",
      "source": [],
      "metadata": {
        "id": "uVGARKw0oHcw"
      },
      "execution_count": null,
      "outputs": []
    },
    {
      "cell_type": "markdown",
      "source": [
        "Use the iris dataset and the digits dataset in conjuction with the DecisionTreeClassifier, the GuassianNB, and the KNeighborsClassifier to train and test each classifier on each dataset.  Report the accuracy, precision, recall, and F1 scores.\n"
      ],
      "metadata": {
        "id": "eTsVIjM0oH6s"
      }
    },
    {
      "cell_type": "code",
      "source": [
        "from sklearn.datasets import load_iris, load_digits\n",
        "from sklearn.model_selection import train_test_split\n",
        "from sklearn.metrics import accuracy_score, precision_score, recall_score, f1_score\n",
        "\n",
        "# load the iris dataset and split it into train and test sets\n",
        "X, y = load_iris(return_X_y=True)\n",
        "\n"
      ],
      "metadata": {
        "id": "HckvxA-JkQKV"
      },
      "execution_count": null,
      "outputs": []
    }
  ]
}
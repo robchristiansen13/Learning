{
  "nbformat": 4,
  "nbformat_minor": 0,
  "metadata": {
    "colab": {
      "provenance": []
    },
    "kernelspec": {
      "name": "python3",
      "display_name": "Python 3"
    },
    "language_info": {
      "name": "python"
    }
  },
  "cells": [
    {
      "cell_type": "markdown",
      "source": [
        "Calculate the following metrics for each confustion matrix\n"
      ],
      "metadata": {
        "id": "B_Sdvg5vlWoV"
      }
    },
    {
      "cell_type": "markdown",
      "source": [
        "Confusion Matrix A\n",
        "\n",
        "| | + | - |\n",
        "|---|---|---|\n",
        "|+| 263 | 25 |\n",
        "|-| 8 | 271|\n",
        "\n",
        "Accuracy: 0.9417989417989417\n",
        "\n",
        "Sensitivity: 0.9704797047970479\n",
        "\n",
        "Specificity: 0.9155405405405406\n",
        "\n",
        "Precision: 0.9131944444444444\n",
        "\n",
        "F1: 0.9409660107334525\n",
        "\n",
        "MCC: 0.8852701097828677"
      ],
      "metadata": {
        "id": "kbJg1pRimyQw"
      }
    },
    {
      "cell_type": "code",
      "source": [
        "import numpy as np\n",
        "\n",
        "def confusion_matrix_metrics(true_positives: int, false_positives: int, false_negatives: int, true_negatives: int):\n",
        "  \"\"\"Calculates metrics from a confusion matrix.\n",
        "\n",
        "  Args:\n",
        "    The four parameters associated with a confusion matrix\n",
        "\n",
        "  Returns:\n",
        "    Common metrics for evaluating a model\n",
        "  \"\"\"\n",
        "\n",
        "  accuracy = (true_positives + true_negatives) / (true_positives + true_negatives + false_positives + false_negatives)\n",
        "  sensitivity = (true_positives) / (true_positives + false_negatives)\n",
        "  specificity = (true_negatives) / (true_negatives + false_positives)\n",
        "  f1 = (2 * true_positives) / (2 * true_positives + false_positives + false_negatives)\n",
        "  mcc = ((true_positives * true_negatives) - (false_positives * false_negatives)) / np.sqrt((true_positives + false_positives)*(true_positives + false_negatives)*(true_negatives + false_positives) *(true_negatives + false_negatives))\n",
        "  precision = true_positives / (true_positives + false_positives)\n",
        "  recall = true_positives / (true_positives + false_negatives)\n",
        "\n",
        "  return accuracy, sensitivity, specificity, precision, f1, mcc\n",
        "\n",
        "# Calculate precision and recall.\n",
        "accuracy, sensitivity, specificity, precision, f1, mcc = confusion_matrix_metrics(263, 25, 8, 271)\n",
        "\n",
        "# Print precision and recall.\n",
        "print(\"Accuracy:\", accuracy)\n",
        "print(\"Sensitivity:\", sensitivity)\n",
        "print(\"Specificity:\", specificity)\n",
        "print(\"Precision:\",precision)\n",
        "print(\"F1:\", f1)\n",
        "print(\"MCC:\", mcc)"
      ],
      "metadata": {
        "id": "gWE8gRpVYuux",
        "outputId": "689bfa7a-f1e7-4ded-cd67-76a3e3e6d216",
        "colab": {
          "base_uri": "https://localhost:8080/"
        }
      },
      "execution_count": 1,
      "outputs": [
        {
          "output_type": "stream",
          "name": "stdout",
          "text": [
            "Accuracy: 0.9417989417989417\n",
            "Sensitivity: 0.9704797047970479\n",
            "Specificity: 0.9155405405405406\n",
            "Precision: 0.9131944444444444\n",
            "F1: 0.9409660107334525\n",
            "MCC: 0.8852701097828677\n"
          ]
        }
      ]
    },
    {
      "cell_type": "markdown",
      "source": [
        "Confusion Matrix B\n",
        "\n",
        "| | + | - |\n",
        "|---|---|---|\n",
        "|+| 176 | 112 |\n",
        "|-| 33 | 246|\n",
        "\n",
        "Accuracy: 0.7442680776014109\n",
        "\n",
        "Sensitivity: 0.8421052631578947\n",
        "\n",
        "Specificity: 0.6871508379888268\n",
        "\n",
        "Precision: 0.6111111111111112\n",
        "\n",
        "F1: 0.7082494969818913\n",
        "\n",
        "MCC: 0.5107191988044958\n",
        "\n",
        "\n"
      ],
      "metadata": {
        "id": "8XHfRGyAnJuK"
      }
    },
    {
      "cell_type": "code",
      "source": [
        "# Calculate precision and recall.\n",
        "accuracy, sensitivity, specificity, precision, f1, mcc = confusion_matrix_metrics(176, 112, 33, 246)\n",
        "\n",
        "# Print precision and recall.\n",
        "print(\"Accuracy:\", accuracy)\n",
        "print(\"Sensitivity:\", sensitivity)\n",
        "print(\"Specificity:\", specificity)\n",
        "print(\"Precision:\",precision)\n",
        "print(\"F1:\", f1)\n",
        "print(\"MCC:\", mcc)"
      ],
      "metadata": {
        "outputId": "b947ece2-4d43-430e-f84f-1b9663a0cc39",
        "colab": {
          "base_uri": "https://localhost:8080/"
        },
        "id": "nwiCCR9apIyY"
      },
      "execution_count": 2,
      "outputs": [
        {
          "output_type": "stream",
          "name": "stdout",
          "text": [
            "Accuracy: 0.7442680776014109\n",
            "Sensitivity: 0.8421052631578947\n",
            "Specificity: 0.6871508379888268\n",
            "Precision: 0.6111111111111112\n",
            "F1: 0.7082494969818913\n",
            "MCC: 0.5107191988044958\n"
          ]
        }
      ]
    },
    {
      "cell_type": "markdown",
      "source": [
        "Confusion Matrix C\n",
        "\n",
        "| | + | - |\n",
        "|---|---|---|\n",
        "|+| 18 | 42 |\n",
        "|-| 3 | 271|\n",
        "\n",
        "Accuracy: 0.8652694610778443\n",
        "\n",
        "Sensitivity: 0.8571428571428571\n",
        "\n",
        "Specificity: 0.865814696485623\n",
        "\n",
        "Precision: 0.3\n",
        "\n",
        "F1: 0.4444444444444444\n",
        "\n",
        "MCC: 0.45713419521588783\n"
      ],
      "metadata": {
        "id": "HwZ427B7nJ6q"
      }
    },
    {
      "cell_type": "code",
      "source": [
        "# Calculate precision and recall.\n",
        "accuracy, sensitivity, specificity, precision, f1, mcc = confusion_matrix_metrics(18, 42, 3, 271)\n",
        "\n",
        "# Print precision and recall.\n",
        "print(\"Accuracy:\", accuracy)\n",
        "print(\"Sensitivity:\", sensitivity)\n",
        "print(\"Specificity:\", specificity)\n",
        "print(\"Precision:\",precision)\n",
        "print(\"F1:\", f1)\n",
        "print(\"MCC:\", mcc)"
      ],
      "metadata": {
        "outputId": "57336d43-6c2c-4c99-a32c-dc11ba1042fe",
        "colab": {
          "base_uri": "https://localhost:8080/"
        },
        "id": "x5B2hPuQpz8B"
      },
      "execution_count": 3,
      "outputs": [
        {
          "output_type": "stream",
          "name": "stdout",
          "text": [
            "Accuracy: 0.8652694610778443\n",
            "Sensitivity: 0.8571428571428571\n",
            "Specificity: 0.865814696485623\n",
            "Precision: 0.3\n",
            "F1: 0.4444444444444444\n",
            "MCC: 0.45713419521588783\n"
          ]
        }
      ]
    },
    {
      "cell_type": "markdown",
      "source": [
        "Confusion Matrix D\n",
        "\n",
        "| | + | - |\n",
        "|---|---|---|\n",
        "|+| 35 | 25 |\n",
        "|-| 20 | 254|\n",
        "\n",
        "Accuracy: 0.8652694610778443\n",
        "\n",
        "Sensitivity: 0.6363636363636364\n",
        "\n",
        "Specificity: 0.910394265232975\n",
        "\n",
        "Precision: 0.5833333333333334\n",
        "\n",
        "F1: 0.6086956521739131\n",
        "\n",
        "MCC: 0.5282355283220976\n"
      ],
      "metadata": {
        "id": "209wqIM1nKLk"
      }
    },
    {
      "cell_type": "code",
      "source": [
        "# Calculate precision and recall.\n",
        "accuracy, sensitivity, specificity, precision, f1, mcc = confusion_matrix_metrics(35, 25, 20, 254)\n",
        "\n",
        "# Print precision and recall.\n",
        "print(\"Accuracy:\", accuracy)\n",
        "print(\"Sensitivity:\", sensitivity)\n",
        "print(\"Specificity:\", specificity)\n",
        "print(\"Precision:\",precision)\n",
        "print(\"F1:\", f1)\n",
        "print(\"MCC:\", mcc)"
      ],
      "metadata": {
        "outputId": "854c8821-a982-4ac3-e365-177e7ebc1aa2",
        "colab": {
          "base_uri": "https://localhost:8080/"
        },
        "id": "nkpTdcGyqBb7"
      },
      "execution_count": 4,
      "outputs": [
        {
          "output_type": "stream",
          "name": "stdout",
          "text": [
            "Accuracy: 0.8652694610778443\n",
            "Sensitivity: 0.6363636363636364\n",
            "Specificity: 0.910394265232975\n",
            "Precision: 0.5833333333333334\n",
            "F1: 0.6086956521739131\n",
            "MCC: 0.5282355283220976\n"
          ]
        }
      ]
    },
    {
      "cell_type": "markdown",
      "source": [
        "Use the sklearn algorithms and builtin datasets to answer the following questions"
      ],
      "metadata": {
        "id": "6_qpdOwjnqTz"
      }
    },
    {
      "cell_type": "markdown",
      "source": [
        "How many instances are in the diabetes dataset?  Use code to show your answer\n",
        "442"
      ],
      "metadata": {
        "id": "hYnFD7w_n19I"
      }
    },
    {
      "cell_type": "code",
      "source": [
        "import pandas as pd\n",
        "from sklearn.datasets import load_diabetes\n",
        "\n",
        "diabetes_data = load_diabetes()\n",
        "\n",
        "df = pd.DataFrame(data=diabetes_data.data, columns=diabetes_data.feature_names)\n",
        "# df.info()\n",
        "print(\"Number of instances:\", len(df))"
      ],
      "metadata": {
        "id": "JuCPbPnZoApy",
        "colab": {
          "base_uri": "https://localhost:8080/"
        },
        "outputId": "a7ed6bcb-3376-4b0d-969e-d2036d435596"
      },
      "execution_count": null,
      "outputs": [
        {
          "output_type": "stream",
          "name": "stdout",
          "text": [
            "Number of instances: 442\n"
          ]
        }
      ]
    },
    {
      "cell_type": "markdown",
      "source": [
        "How many instances are in the iris dataset? Use code to show your answer\n",
        "150"
      ],
      "metadata": {
        "id": "vFfHH0YdoBF8"
      }
    },
    {
      "cell_type": "code",
      "source": [
        "import pandas as pd\n",
        "from sklearn.datasets import load_iris\n",
        "\n",
        "iris_data = load_iris()\n",
        "\n",
        "df = pd.DataFrame(data=iris_data.data, columns=iris_data.feature_names)\n",
        "# df.info()\n",
        "print(\"Number of instances:\", len(df))"
      ],
      "metadata": {
        "colab": {
          "base_uri": "https://localhost:8080/"
        },
        "outputId": "4faa95ec-7a9f-4664-8f00-7c7abe72f6f0",
        "id": "eeVxu23Vr4WN"
      },
      "execution_count": null,
      "outputs": [
        {
          "output_type": "stream",
          "name": "stdout",
          "text": [
            "Number of instances: 150\n"
          ]
        }
      ]
    },
    {
      "cell_type": "code",
      "source": [],
      "metadata": {
        "id": "uVGARKw0oHcw"
      },
      "execution_count": null,
      "outputs": []
    },
    {
      "cell_type": "markdown",
      "source": [
        "Use the iris dataset and the digits dataset in conjuction with the DecisionTreeClassifier, the GuassianNB, and the KNeighborsClassifier to train and test each classifier on each dataset.  Report the accuracy, precision, recall, and F1 scores.\n"
      ],
      "metadata": {
        "id": "eTsVIjM0oH6s"
      }
    },
    {
      "cell_type": "code",
      "source": [
        "from sklearn.datasets import load_iris, load_digits\n",
        "from sklearn.model_selection import train_test_split\n",
        "from sklearn.tree import DecisionTreeClassifier\n",
        "from sklearn.naive_bayes import GaussianNB\n",
        "from sklearn.neighbors import KNeighborsClassifier\n",
        "from sklearn.metrics import accuracy_score, precision_score, recall_score, f1_score\n",
        "import pandas as pd\n",
        "\n",
        "def process_models(x, y):\n",
        "  # Split the data into training and test\n",
        "  x_train,x_test,y_train,y_test=train_test_split(x,y,test_size=0.2,random_state=13)\n",
        "\n",
        "  # Train DescisionTreeClassifier\n",
        "  model = DecisionTreeClassifier()\n",
        "  model.fit(x_train, y_train)\n",
        "  predictions = model.predict(x_test)\n",
        "  print(\"DescisionTreeClassifier\")\n",
        "  print_metrics(y_test, predictions)\n",
        "\n",
        "  # Train GaussianNB\n",
        "  model = GaussianNB()\n",
        "  model.fit(x_train, y_train)\n",
        "  predictions = model.predict(x_test)\n",
        "  print(\"GaussianNB\")\n",
        "  print_metrics(y_test, predictions)\n",
        "\n",
        "  # Train KNeighborsClassifier\n",
        "  model = KNeighborsClassifier()\n",
        "  model.fit(x_train, y_train)\n",
        "  predictions = model.predict(x_test)\n",
        "  print(\"KNeighborsClassifier\")\n",
        "  print_metrics(y_test, predictions)\n",
        "\n",
        "def print_metrics(y_test, predictions):\n",
        "  print(\"Accuracy:\", accuracy_score(y_test, predictions))\n",
        "  print(\"Sensitivity/Recall:\", recall_score(y_test, predictions, average='weighted'))\n",
        "  print(\"Precision:\", precision_score(y_test, predictions, average='weighted'))\n",
        "  print(\"F1:\", f1_score(y_test, predictions, average='weighted'))\n",
        "  print(\"\\n\")\n",
        "\n",
        "\n",
        "# Load Data\n",
        "toydata = load_iris()\n",
        "x, y = toydata.data, toydata.target\n",
        "print(\"**IRIS MODELS**\")\n",
        "process_models(x, y)\n",
        "\n",
        "# Load Data\n",
        "toydata = load_digits()\n",
        "x, y = toydata.data, toydata.target\n",
        "print(\"**DIGITS MODELS**\")\n",
        "process_models(x, y)"
      ],
      "metadata": {
        "id": "HckvxA-JkQKV",
        "colab": {
          "base_uri": "https://localhost:8080/"
        },
        "outputId": "ae10d5ff-b8a9-40dd-dba0-eee340ce977f"
      },
      "execution_count": 27,
      "outputs": [
        {
          "output_type": "stream",
          "name": "stdout",
          "text": [
            "**IRIS MODELS**\n",
            "DescisionTreeClassifier\n",
            "Accuracy: 0.9333333333333333\n",
            "Sensitivity/Recall: 0.9333333333333333\n",
            "Precision: 0.9466666666666667\n",
            "F1: 0.9342592592592592\n",
            "\n",
            "\n",
            "GaussianNB\n",
            "Accuracy: 0.9666666666666667\n",
            "Sensitivity/Recall: 0.9666666666666667\n",
            "Precision: 0.9703703703703703\n",
            "F1: 0.9669803921568628\n",
            "\n",
            "\n",
            "KNeighborsClassifier\n",
            "Accuracy: 0.9\n",
            "Sensitivity/Recall: 0.9\n",
            "Precision: 0.9272727272727274\n",
            "F1: 0.9013729977116705\n",
            "\n",
            "\n",
            "**DIGITS MODELS**\n",
            "DescisionTreeClassifier\n",
            "Accuracy: 0.8833333333333333\n",
            "Sensitivity/Recall: 0.8833333333333333\n",
            "Precision: 0.8873229491128701\n",
            "F1: 0.8841906730445793\n",
            "\n",
            "\n",
            "GaussianNB\n",
            "Accuracy: 0.8472222222222222\n",
            "Sensitivity/Recall: 0.8472222222222222\n",
            "Precision: 0.8698056241176428\n",
            "F1: 0.8500110465276695\n",
            "\n",
            "\n",
            "KNeighborsClassifier\n",
            "Accuracy: 0.9833333333333333\n",
            "Sensitivity/Recall: 0.9833333333333333\n",
            "Precision: 0.9842757936507937\n",
            "F1: 0.9833504312814445\n",
            "\n",
            "\n"
          ]
        }
      ]
    },
    {
      "cell_type": "markdown",
      "source": [
        "**IRIS MODELS**\n",
        "\n",
        "DescisionTreeClassifier\n",
        "\n",
        "Accuracy: 0.9333333333333333\n",
        "\n",
        "Sensitivity/Recall: 0.9333333333333333\n",
        "\n",
        "Precision: 0.9466666666666667\n",
        "\n",
        "F1: 0.9342592592592592\n",
        "\n",
        "\n",
        "\n",
        "\n",
        "GaussianNB\n",
        "\n",
        "Accuracy: 0.9666666666666667\n",
        "\n",
        "Sensitivity/Recall: 0.9666666666666667\n",
        "\n",
        "Precision: 0.9703703703703703\n",
        "\n",
        "F1: 0.9669803921568628\n",
        "\n",
        "\n",
        "\n",
        "KNeighborsClassifier\n",
        "\n",
        "Accuracy: 0.9\n",
        "\n",
        "Sensitivity/Recall: 0.9\n",
        "\n",
        "Precision: 0.9272727272727274\n",
        "\n",
        "F1: 0.9013729977116705\n",
        "\n",
        "\n",
        "\n",
        "\n",
        "**DIGITS MODELS**\n",
        "\n",
        "DescisionTreeClassifier\n",
        "\n",
        "Accuracy: 0.8833333333333333\n",
        "\n",
        "Sensitivity/Recall: 0.8833333333333333\n",
        "\n",
        "Precision: 0.8873229491128701\n",
        "\n",
        "F1: 0.8841906730445793\n",
        "\n",
        "\n",
        "\n",
        "\n",
        "GaussianNB\n",
        "\n",
        "Accuracy: 0.8472222222222222\n",
        "\n",
        "Sensitivity/Recall: 0.8472222222222222\n",
        "\n",
        "Precision: 0.8698056241176428\n",
        "\n",
        "F1: 0.8500110465276695\n",
        "\n",
        "\n",
        "\n",
        "\n",
        "KNeighborsClassifier\n",
        "\n",
        "Accuracy: 0.9833333333333333\n",
        "\n",
        "Sensitivity/Recall: 0.9833333333333333\n",
        "\n",
        "Precision: 0.9842757936507937\n",
        "\n",
        "F1: 0.9833504312814445\n",
        "\n",
        "\n"
      ],
      "metadata": {
        "id": "JNlx1nNs_FPm"
      }
    },
    {
      "cell_type": "code",
      "source": [],
      "metadata": {
        "id": "l6GQKXNtyf5o"
      },
      "execution_count": null,
      "outputs": []
    }
  ]
}
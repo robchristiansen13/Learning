{
  "nbformat": 4,
  "nbformat_minor": 0,
  "metadata": {
    "colab": {
      "provenance": []
    },
    "kernelspec": {
      "name": "python3",
      "display_name": "Python 3"
    },
    "language_info": {
      "name": "python"
    }
  },
  "cells": [
    {
      "cell_type": "markdown",
      "source": [
        "For this assignment you will be implementing your own verision of the perceptron algorithm.  Similar to the Naive Bayes assignment your Percptron class should be built to be compatible with the sklearn framework.  You can use the sklearn library and other python libraries to help with your implementation but you must implement the actual percpetron algorithm using your own code."
      ],
      "metadata": {
        "id": "c6GaaBjFPmns"
      }
    },
    {
      "cell_type": "code",
      "execution_count": null,
      "metadata": {
        "id": "SLRLL7L0PYJ0"
      },
      "outputs": [],
      "source": [
        "#TODO: put your perceptron implemenation here"
      ]
    },
    {
      "cell_type": "markdown",
      "source": [
        "Split the diabetes data into and 80/20 train/test split.\n"
      ],
      "metadata": {
        "id": "3pdClma2RGpf"
      }
    },
    {
      "cell_type": "code",
      "source": [
        "#TODO: split the diabetes data into training/test data"
      ],
      "metadata": {
        "id": "-VnlgTV_SodE"
      },
      "execution_count": null,
      "outputs": []
    },
    {
      "cell_type": "markdown",
      "source": [
        "Using the diabetes training data with k-fold cross-validation (you choose the value for k) plot your perceptron's cross-validation accuracy and MCC as a function of the number of training epochs.  Use a learning rate of 0.10."
      ],
      "metadata": {
        "id": "aGgFkk-zS6iu"
      }
    },
    {
      "cell_type": "code",
      "source": [
        "#TODO: k-fold cross validation with a learning rate of 0.10"
      ],
      "metadata": {
        "id": "O3e2jeSrUWZ_"
      },
      "execution_count": null,
      "outputs": []
    },
    {
      "cell_type": "markdown",
      "source": [
        "Choose a normalization/standardization strategy to apply to the diabetes training data. Using k-fold cross validation and plot the cross validation accuracy and MCC as a function of the number of training epochs.  Repeat for learning rates of 0.90, 0.50, 0.10, 0.01, and 0.0001."
      ],
      "metadata": {
        "id": "lLyn_YOiU5gR"
      }
    },
    {
      "cell_type": "code",
      "source": [
        "#TODO: k-fold cross validation on normalized/standardized data"
      ],
      "metadata": {
        "id": "Xhd_xx5iYKMa"
      },
      "execution_count": null,
      "outputs": []
    },
    {
      "cell_type": "markdown",
      "source": [
        "How does the normalization/standardization affect the accuracy and MCC scores and number of training epochs?"
      ],
      "metadata": {
        "id": "anoQ-Q0CYWZH"
      }
    },
    {
      "cell_type": "markdown",
      "source": [
        "Answer in this text box"
      ],
      "metadata": {
        "id": "F9L9BztuYsz0"
      }
    },
    {
      "cell_type": "markdown",
      "source": [
        "On the scaled data, for each learning rate, how many training epochs are needed to acheive maximize the accuracy and MCC scores?"
      ],
      "metadata": {
        "id": "JdPcCan-YzYP"
      }
    },
    {
      "cell_type": "markdown",
      "source": [
        "Answer in this text box"
      ],
      "metadata": {
        "id": "5kxB29z1ZGhV"
      }
    },
    {
      "cell_type": "markdown",
      "source": [
        "Is there a correlation between learning rates and the number of training epochs needed to acheive the optimal results?  If so, what is the correlation?  If not, why not?"
      ],
      "metadata": {
        "id": "H7VgxFqSZIrS"
      }
    },
    {
      "cell_type": "markdown",
      "source": [
        "Answer in this text box"
      ],
      "metadata": {
        "id": "qH9-eXOYZx78"
      }
    }
  ]
}
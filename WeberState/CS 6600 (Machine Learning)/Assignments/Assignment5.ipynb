{
 "cells": [
  {
   "cell_type": "code",
   "execution_count": 2,
   "metadata": {},
   "outputs": [],
   "source": [
    "import numpy as np\n",
    "import pandas as pd\n",
    "import matplotlib.pyplot as plt"
   ]
  },
  {
   "cell_type": "code",
   "execution_count": 5,
   "metadata": {},
   "outputs": [],
   "source": [
    "df = pd.read_csv('Datasets for Assignment 4/diabetes.csv')\n",
    "X = df.drop(columns='class')\n",
    "y = df['class']\n",
    "\n",
    "from sklearn.model_selection import train_test_split\n",
    "X_train, X_test, y_train, y_test = train_test_split(X, y, test_size = 0.20)\n"
   ]
  },
  {
   "cell_type": "code",
   "execution_count": 6,
   "metadata": {},
   "outputs": [],
   "source": [
    "from sklearn.preprocessing import scale \n",
    "# Run standardization on X variables\n",
    "X_train_scaled = scale(X_train)\n",
    "X_test_scaled = scale(X_test)"
   ]
  },
  {
   "cell_type": "code",
   "execution_count": 12,
   "metadata": {},
   "outputs": [
    {
     "name": "stdout",
     "output_type": "stream",
     "text": [
      "[[-0.19068998 -0.41015958 -0.37107491 -0.42078787 -0.42249273 -0.4324061\n",
      "  -0.23646503 -0.24342673]\n",
      " [ 0.58360903  0.13434241  0.14017428 -0.37285813 -0.28206294 -0.14367159\n",
      "  -0.11833718  0.60702215]\n",
      " [-0.02455126  0.38359609 -0.52990425 -0.17722775  0.29340458 -0.37380241\n",
      "   0.55018885  0.10733516]\n",
      " [-0.07706317  0.42500655 -0.10134347 -0.04478515  0.41308333 -0.20614607\n",
      "  -0.76622628 -0.03029427]\n",
      " [-0.4798951   0.504465    0.37004309 -0.49387435 -0.2834108   0.17196119\n",
      "   0.11321719 -0.10798859]\n",
      " [ 0.13245287  0.19202887 -0.62661003 -0.04366856 -0.25273359  0.68289016\n",
      "  -0.13996924 -0.03506347]\n",
      " [-0.60716127 -0.17028818 -0.14342277  0.16449613 -0.03105944  0.05364162\n",
      "  -0.08436565  0.73740652]\n",
      " [-0.00290847  0.40692336 -0.03799295  0.61450891 -0.58314292 -0.33372436\n",
      "  -0.02725882 -0.05629914]]\n",
      "<bound method ClassNamePrefixFeaturesOutMixin.get_feature_names_out of PCA()>\n"
     ]
    }
   ],
   "source": [
    "from sklearn.decomposition import PCA\n",
    "# Generate all the principal components\n",
    "pca = PCA() # Default n_components = min(n_samples, n_features)\n",
    "#The fit_transform returns a numpy array of each data point expressed in terms of the principle components\n",
    "X_train_pc = pca.fit_transform(X_train_scaled)\n",
    "# View the principle components\n",
    "print(pca.components_)\n",
    "print(pca.get_feature_names_out)"
   ]
  },
  {
   "cell_type": "code",
   "execution_count": 8,
   "metadata": {},
   "outputs": [
    {
     "name": "stdout",
     "output_type": "stream",
     "text": [
      "For component 1 the percentage of the variance explained is: 26.95%\n",
      "For component 2 the percentage of the variance explained is: 21.09%\n",
      "For component 3 the percentage of the variance explained is: 12.56%\n",
      "For component 4 the percentage of the variance explained is: 11.18%\n",
      "For component 5 the percentage of the variance explained is: 9.51%\n",
      "For component 6 the percentage of the variance explained is: 8.44%\n",
      "For component 7 the percentage of the variance explained is: 5.22%\n",
      "For component 8 the percentage of the variance explained is: 5.04%\n"
     ]
    }
   ],
   "source": [
    "i = 0\n",
    "for c in pca.explained_variance_ratio_:\n",
    "    i = i+1\n",
    "    print(\"For component \" + str(i) + \" the percentage of the variance explained is: {:.2%}\".format(c))"
   ]
  },
  {
   "cell_type": "code",
   "execution_count": null,
   "metadata": {},
   "outputs": [],
   "source": []
  }
 ],
 "metadata": {
  "kernelspec": {
   "display_name": "Python 3",
   "language": "python",
   "name": "python3"
  },
  "language_info": {
   "codemirror_mode": {
    "name": "ipython",
    "version": 3
   },
   "file_extension": ".py",
   "mimetype": "text/x-python",
   "name": "python",
   "nbconvert_exporter": "python",
   "pygments_lexer": "ipython3",
   "version": "3.11.5"
  }
 },
 "nbformat": 4,
 "nbformat_minor": 2
}

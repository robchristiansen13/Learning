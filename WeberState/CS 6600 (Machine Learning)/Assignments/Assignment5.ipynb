{
 "cells": [
  {
   "cell_type": "code",
   "execution_count": 14,
   "metadata": {},
   "outputs": [],
   "source": [
    "import numpy as np\n",
    "import pandas as pd\n",
    "import matplotlib.pyplot as plt"
   ]
  },
  {
   "cell_type": "code",
   "execution_count": 29,
   "metadata": {},
   "outputs": [
    {
     "data": {
      "text/plain": [
       "Index(['preg', 'plas', 'pres', 'skin', 'insu', 'mass', 'pedi', 'age'], dtype='object')"
      ]
     },
     "execution_count": 29,
     "metadata": {},
     "output_type": "execute_result"
    }
   ],
   "source": [
    "df = pd.read_csv('Datasets for Assignment 4/diabetes.csv')\n",
    "X = df.drop(columns='class')\n",
    "y = df['class']\n",
    "\n",
    "from sklearn.model_selection import train_test_split\n",
    "X_train, X_test, y_train, y_test = train_test_split(X, y, test_size = 0.20)\n",
    "X_train.columns\n"
   ]
  },
  {
   "cell_type": "code",
   "execution_count": 16,
   "metadata": {},
   "outputs": [],
   "source": [
    "from sklearn.preprocessing import scale \n",
    "# Run standardization on X variables\n",
    "X_train_scaled = scale(X_train)\n",
    "X_test_scaled = scale(X_test)"
   ]
  },
  {
   "cell_type": "code",
   "execution_count": 39,
   "metadata": {},
   "outputs": [
    {
     "name": "stdout",
     "output_type": "stream",
     "text": [
      "********************************\n",
      "Here are the top 2 components of the Diabetes data set after applying PCA\n",
      "          preg      plas      pres      skin      insu      mass      pedi  \\\n",
      "PC-1  0.158623  0.413639  0.360606  0.414481  0.417776  0.438821  0.282369   \n",
      "PC-2  0.587944  0.153843  0.168699 -0.356126 -0.263273 -0.115672 -0.178338   \n",
      "\n",
      "           age  \n",
      "PC-1  0.234687  \n",
      "PC-2  0.600727  \n"
     ]
    }
   ],
   "source": [
    "from sklearn.decomposition import PCA\n",
    "# Generate all the principal components\n",
    "pca = PCA(n_components=2) # Default n_components = min(n_samples, n_features)\n",
    "#The fit_transform returns a numpy array of each data point expressed in terms of the principle components\n",
    "X_train_pc = pca.fit_transform(X_train_scaled)\n",
    "# View the principle components\n",
    "\n",
    "print(\"********************************\")\n",
    "print(\"Here are the top 2 components of the Diabetes data set after applying PCA\")\n",
    "\n",
    "print(pd.DataFrame(pca.components_,columns=X_train.columns,index = ['PC-1','PC-2']))\n"
   ]
  },
  {
   "cell_type": "code",
   "execution_count": 34,
   "metadata": {},
   "outputs": [
    {
     "name": "stdout",
     "output_type": "stream",
     "text": [
      "For component 1 the percentage of the variance explained is: 72.96%\n",
      "For component 2 the percentage of the variance explained is: 22.85%\n"
     ]
    }
   ],
   "source": [
    "i = 0\n",
    "for c in pca.explained_variance_ratio_[:2]:\n",
    "    i = i+1\n",
    "    print(\"For component \" + str(i) + \" the percentage of the variance explained is: {:.2%}\".format(c))"
   ]
  },
  {
   "cell_type": "code",
   "execution_count": 36,
   "metadata": {},
   "outputs": [
    {
     "name": "stdout",
     "output_type": "stream",
     "text": [
      "Iris columns: Index(['sepal length (cm)', 'sepal width (cm)', 'petal length (cm)',\n",
      "       'petal width (cm)'],\n",
      "      dtype='object')\n",
      "      sepal length (cm)  sepal width (cm)  petal length (cm)  petal width (cm)\n",
      "PC-1           0.521066         -0.269347           0.580413          0.564857\n",
      "PC-2           0.377418          0.923296           0.024492          0.066942\n"
     ]
    }
   ],
   "source": [
    "import pandas as pd\n",
    "import pylab as pl\n",
    "from sklearn import datasets\n",
    "from sklearn.decomposition import PCA\n",
    "\n",
    "# load dataset\n",
    "iris = datasets.load_iris()\n",
    "df = pd.DataFrame(iris.data, columns=iris.feature_names)\n",
    "print(f\"Iris columns: {df.columns}\")\n",
    "\n",
    "# normalize data\n",
    "from sklearn import preprocessing\n",
    "data_scaled = pd.DataFrame(preprocessing.scale(df),columns = df.columns) \n",
    "\n",
    "# PCA\n",
    "pca = PCA(n_components=2)\n",
    "pca.fit_transform(data_scaled)\n",
    "\n",
    "# Dump components relations with features:\n",
    "print(pd.DataFrame(pca.components_,columns=data_scaled.columns,index = ['PC-1','PC-2']))"
   ]
  },
  {
   "cell_type": "code",
   "execution_count": null,
   "metadata": {},
   "outputs": [],
   "source": []
  },
  {
   "cell_type": "code",
   "execution_count": null,
   "metadata": {},
   "outputs": [],
   "source": []
  }
 ],
 "metadata": {
  "kernelspec": {
   "display_name": "Python 3",
   "language": "python",
   "name": "python3"
  },
  "language_info": {
   "codemirror_mode": {
    "name": "ipython",
    "version": 3
   },
   "file_extension": ".py",
   "mimetype": "text/x-python",
   "name": "python",
   "nbconvert_exporter": "python",
   "pygments_lexer": "ipython3",
   "version": "3.11.5"
  }
 },
 "nbformat": 4,
 "nbformat_minor": 2
}

{
 "cells": [
  {
   "cell_type": "markdown",
   "id": "4e5e9b72-3048-4f17-8417-4b89a39308f7",
   "metadata": {},
   "source": [
    "# CS-6570 Lecture 4 - Introduction to Numpy and Pandas\n",
    "\n",
    "**Dylan Zwick**\n",
    "\n",
    "*Weber State University*"
   ]
  },
  {
   "cell_type": "markdown",
   "id": "6b0785fa-3bdd-4832-aca1-46b5975f48f2",
   "metadata": {},
   "source": [
    "I decided we shouldn't get too far in our class without a quick review of the two great data science workhorse Python libraries - NumPy (which is short for \"Numerical Python\") and Pandas (which is technically short for \"panel data\", but that's more an artifact of history). NumPy is a library for numerical computation, and Pandas is a library for data management.\n",
    "\n",
    "These are very important libraries, and becoming comfortable with them is a major sign of maturity as a professional data scientist. We will not have the time to dive into them deeply, and this will just be an intro.\n",
    "\n",
    "We'll start by importing the two libraries. They are almost *always* abbreviated an \"np\" and \"pd\", respectively."
   ]
  },
  {
   "cell_type": "code",
   "execution_count": 1,
   "id": "b8784fac-9985-4323-9c96-5b29e8801862",
   "metadata": {},
   "outputs": [],
   "source": [
    "import numpy as np # Numpy is almost always abbreviated \"np\"\n",
    "import pandas as pd # Pandas is almost always abbreviated \"pd\""
   ]
  },
  {
   "cell_type": "markdown",
   "id": "bd97c09d-8efe-48a4-a0c7-f47666c1867c",
   "metadata": {},
   "source": [
    "## Numpy"
   ]
  },
  {
   "cell_type": "markdown",
   "id": "f9b46aab-4045-49e5-9ee8-ea15686470ab",
   "metadata": {},
   "source": [
    "The basic object of interest in NumPy is the array, or the *ndarray*, which is an efficient, multidimensional array optimized for storage and computation. NumPy also comes with tools for reading/writing array data to disk and some nice built-in math functions, plus tools for integrating with C libraries.\n",
    "\n",
    "The basic idea behind NumPy is that, while Python is great for doing many things, it's not an inherently optimized language for handling large-scale numeric computations or storing large data files. Instead of requiring that data analysts needing to work with such things do so using a different language, NumPy provides tools that, essentially, translate basic numeric analysis needs into much more efficient, lower-level (C-style) implementations.\n",
    "\n",
    "To give you an idea of the performance difference, check out the following:"
   ]
  },
  {
   "cell_type": "code",
   "execution_count": 2,
   "id": "76ce3c9d-fa28-45e6-85a3-6c9af12aadb0",
   "metadata": {},
   "outputs": [],
   "source": [
    "my_arr = np.arange(1000000)\n",
    "my_list = list(range(1000000))"
   ]
  },
  {
   "cell_type": "code",
   "execution_count": 3,
   "id": "b0671ff9-01e9-44ec-bb64-929938f0bd5a",
   "metadata": {},
   "outputs": [
    {
     "name": "stdout",
     "output_type": "stream",
     "text": [
      "657 µs ± 54.7 µs per loop (mean ± std. dev. of 7 runs, 1,000 loops each)\n"
     ]
    }
   ],
   "source": [
    "%timeit my_arr2 = my_arr*2"
   ]
  },
  {
   "cell_type": "code",
   "execution_count": 4,
   "id": "a594a79d-0d93-474f-9b02-ae89bbc41df5",
   "metadata": {},
   "outputs": [
    {
     "name": "stdout",
     "output_type": "stream",
     "text": [
      "21.6 ms ± 422 µs per loop (mean ± std. dev. of 7 runs, 10 loops each)\n"
     ]
    }
   ],
   "source": [
    "%timeit my_list2 = [x * 2 for x in my_list]"
   ]
  },
  {
   "cell_type": "markdown",
   "id": "c700304f-31ba-461d-8d48-ca9b8876391f",
   "metadata": {},
   "source": [
    "That's quite the difference! Generally, NumPy-based algorithms are 10 to 100 times faster (or more!) than their pure Python counterparts and use significantly less memory. So, if you're writing for loops to go through lists for large numeric computations - you're probably doing it wrong."
   ]
  },
  {
   "cell_type": "markdown",
   "id": "f484a007-7697-4355-a532-2ba2845a1f7b",
   "metadata": {},
   "source": [
    "### The NumPy ndarray: A Multidimensional Array Object"
   ]
  },
  {
   "cell_type": "markdown",
   "id": "d4a89c40-7b64-4314-ad71-1e1e07468ef9",
   "metadata": {},
   "source": [
    "The basic data object in NumPy is the *ndarray* ($n$-dimensional array), and applying standard arithmetic operations to these arrays uses syntax very similar to standard arithmetic.\n",
    "\n",
    "For example, let's create and array:"
   ]
  },
  {
   "cell_type": "code",
   "execution_count": 5,
   "id": "378cc796-5fe4-45e3-bdfe-b8cda036e95e",
   "metadata": {},
   "outputs": [
    {
     "data": {
      "text/plain": [
       "array([[1.  , 4.2 , 7.  ],\n",
       "       [5.  , 8.  , 2.71]])"
      ]
     },
     "execution_count": 5,
     "metadata": {},
     "output_type": "execute_result"
    }
   ],
   "source": [
    "data = np.array([[1, 4.2, 7], [5, 8, 2.71]])\n",
    "data"
   ]
  },
  {
   "cell_type": "markdown",
   "id": "51b82471-47de-4f51-a19a-822d5d5e8f96",
   "metadata": {},
   "source": [
    "We can multiply every element in the array by 2 with the following:"
   ]
  },
  {
   "cell_type": "code",
   "execution_count": 6,
   "id": "8368a95b-b490-44e5-9f51-63ad08109951",
   "metadata": {},
   "outputs": [
    {
     "data": {
      "text/plain": [
       "array([[ 2.  ,  8.4 , 14.  ],\n",
       "       [10.  , 16.  ,  5.42]])"
      ]
     },
     "execution_count": 6,
     "metadata": {},
     "output_type": "execute_result"
    }
   ],
   "source": [
    "data * 2"
   ]
  },
  {
   "cell_type": "markdown",
   "id": "f0c732e8-3a7e-4472-9b9c-88188a3d413f",
   "metadata": {},
   "source": [
    "Or, we can get the same result by adding the array to itself:"
   ]
  },
  {
   "cell_type": "code",
   "execution_count": 7,
   "id": "48ad0183-0654-49a3-80de-f96ad276367c",
   "metadata": {},
   "outputs": [
    {
     "data": {
      "text/plain": [
       "array([[ 2.  ,  8.4 , 14.  ],\n",
       "       [10.  , 16.  ,  5.42]])"
      ]
     },
     "execution_count": 7,
     "metadata": {},
     "output_type": "execute_result"
    }
   ],
   "source": [
    "data + data"
   ]
  },
  {
   "cell_type": "markdown",
   "id": "92aade04-2588-4a73-89f1-defc54929ab3",
   "metadata": {},
   "source": [
    "We could even square every element in the array:"
   ]
  },
  {
   "cell_type": "code",
   "execution_count": 8,
   "id": "5433f820-1c61-42fe-b1b1-a3c3ccadff9f",
   "metadata": {},
   "outputs": [
    {
     "data": {
      "text/plain": [
       "array([[ 1.    , 17.64  , 49.    ],\n",
       "       [25.    , 64.    ,  7.3441]])"
      ]
     },
     "execution_count": 8,
     "metadata": {},
     "output_type": "execute_result"
    }
   ],
   "source": [
    "data ** 2"
   ]
  },
  {
   "cell_type": "markdown",
   "id": "e62ef92b-b109-4360-9f98-d18e254169e0",
   "metadata": {},
   "source": [
    "Again, these operations are generally quite fast relative to trying to implement them with a for loop."
   ]
  },
  {
   "cell_type": "markdown",
   "id": "c26edc23-373d-487a-8664-648a62098b67",
   "metadata": {},
   "source": [
    "#### Data Types for ndarrays"
   ]
  },
  {
   "cell_type": "markdown",
   "id": "84fa29a7-73a7-476e-9178-6d7de6923bcc",
   "metadata": {},
   "source": [
    "In general, an ndarray is  for homogeneous data; in other words, all the elements must be the same type. Every array also has a *shape*, which is a tuple indicating the size of each dimension, and a *dtype*, which describes the data type of the array."
   ]
  },
  {
   "cell_type": "code",
   "execution_count": 9,
   "id": "523cbfac-c0f4-401a-8147-7d739a3b8d33",
   "metadata": {},
   "outputs": [
    {
     "data": {
      "text/plain": [
       "(2, 3)"
      ]
     },
     "execution_count": 9,
     "metadata": {},
     "output_type": "execute_result"
    }
   ],
   "source": [
    "data.shape"
   ]
  },
  {
   "cell_type": "code",
   "execution_count": 10,
   "id": "74f74814-5ebd-4d1a-91c9-40d23af2a097",
   "metadata": {},
   "outputs": [
    {
     "data": {
      "text/plain": [
       "dtype('float64')"
      ]
     },
     "execution_count": 10,
     "metadata": {},
     "output_type": "execute_result"
    }
   ],
   "source": [
    "data.dtype"
   ]
  },
  {
   "cell_type": "markdown",
   "id": "03747210-9292-4578-89a6-8ebfe0699378",
   "metadata": {},
   "source": [
    "How do we create ndarrays? The easiest way is with the *array* function used above, where we just specify the elements in a list or nested lists. Unless explicitly told otherwise, the array function will try to infer a good data type for the array based upon its inputs."
   ]
  },
  {
   "cell_type": "markdown",
   "id": "4cc9359a-8f85-4033-bb3e-a2c89fef8c76",
   "metadata": {},
   "source": [
    "In addition to the *array* function, there are a number of other functions for creating new arrays. For example:"
   ]
  },
  {
   "cell_type": "code",
   "execution_count": 11,
   "id": "8f1f0caa-9ea9-457c-807f-1688fde21f64",
   "metadata": {},
   "outputs": [
    {
     "data": {
      "text/plain": [
       "array([0., 0., 0., 0., 0., 0., 0., 0., 0., 0.])"
      ]
     },
     "execution_count": 11,
     "metadata": {},
     "output_type": "execute_result"
    }
   ],
   "source": [
    "np.zeros(10)"
   ]
  },
  {
   "cell_type": "code",
   "execution_count": 12,
   "id": "cb823c3c-22ae-4f03-b14b-f02366066c8b",
   "metadata": {},
   "outputs": [
    {
     "data": {
      "text/plain": [
       "array([[0., 0., 0.],\n",
       "       [0., 0., 0.]])"
      ]
     },
     "execution_count": 12,
     "metadata": {},
     "output_type": "execute_result"
    }
   ],
   "source": [
    "np.zeros((2,3))"
   ]
  },
  {
   "cell_type": "code",
   "execution_count": 13,
   "id": "343566b4-fa0c-4720-be89-5aeedfaab7a1",
   "metadata": {},
   "outputs": [
    {
     "data": {
      "text/plain": [
       "array([[1., 1., 1.],\n",
       "       [1., 1., 1.],\n",
       "       [1., 1., 1.],\n",
       "       [1., 1., 1.]])"
      ]
     },
     "execution_count": 13,
     "metadata": {},
     "output_type": "execute_result"
    }
   ],
   "source": [
    "np.ones((4,3))"
   ]
  },
  {
   "cell_type": "markdown",
   "id": "0d996ce8-addf-4abf-afae-bbe39f0c80c1",
   "metadata": {},
   "source": [
    "The function *arange* is like the *range* function is Python, except it creates a NumPy array instead of a list."
   ]
  },
  {
   "cell_type": "code",
   "execution_count": 14,
   "id": "b02b6130-f31f-4455-82cb-69294f327937",
   "metadata": {},
   "outputs": [
    {
     "data": {
      "text/plain": [
       "array([ 0,  1,  2,  3,  4,  5,  6,  7,  8,  9, 10, 11])"
      ]
     },
     "execution_count": 14,
     "metadata": {},
     "output_type": "execute_result"
    }
   ],
   "source": [
    "np.arange(12)"
   ]
  },
  {
   "cell_type": "code",
   "execution_count": 31,
   "id": "99277617-78d6-4368-b9a4-70dd9970d7b0",
   "metadata": {},
   "outputs": [
    {
     "data": {
      "text/plain": [
       "array([ 3,  4,  5,  6,  7,  8,  9, 10])"
      ]
     },
     "execution_count": 31,
     "metadata": {},
     "output_type": "execute_result"
    }
   ],
   "source": [
    "np.arange(3,11)"
   ]
  },
  {
   "cell_type": "code",
   "execution_count": 32,
   "id": "2d97211d-6172-4a0e-8747-9dee931e8f49",
   "metadata": {},
   "outputs": [
    {
     "data": {
      "text/plain": [
       "array([3, 6, 9])"
      ]
     },
     "execution_count": 32,
     "metadata": {},
     "output_type": "execute_result"
    }
   ],
   "source": [
    "np.arange(3,11,3)"
   ]
  },
  {
   "cell_type": "markdown",
   "id": "2405be96-6936-4e8a-bcf0-fb91a039b04d",
   "metadata": {},
   "source": [
    "We can, if desired, explicitly convert or *cast* an array from one data type to another using the *astype* method:"
   ]
  },
  {
   "cell_type": "code",
   "execution_count": 34,
   "id": "1d8290ac-f877-48e1-b97e-8e3d5b040700",
   "metadata": {},
   "outputs": [
    {
     "data": {
      "text/plain": [
       "dtype('int64')"
      ]
     },
     "execution_count": 34,
     "metadata": {},
     "output_type": "execute_result"
    }
   ],
   "source": [
    "arr = np.array([1,2,3,4,5])\n",
    "arr.dtype"
   ]
  },
  {
   "cell_type": "code",
   "execution_count": 35,
   "id": "9529d1f5-96f9-48e1-8aba-6697236e4dbc",
   "metadata": {},
   "outputs": [
    {
     "data": {
      "text/plain": [
       "array([1., 2., 3., 4., 5.])"
      ]
     },
     "execution_count": 35,
     "metadata": {},
     "output_type": "execute_result"
    }
   ],
   "source": [
    "float_arr = arr.astype(np.float64)\n",
    "float_arr"
   ]
  },
  {
   "cell_type": "markdown",
   "id": "7754fc68-6e31-4572-a09a-aa751dd6dea6",
   "metadata": {},
   "source": [
    "If we go the other way, from floats to ints, that will not generate an error, but the decimal parts will be truncated."
   ]
  },
  {
   "cell_type": "code",
   "execution_count": 37,
   "id": "15a61371-e20d-4d9f-aa7d-2c7efb28b224",
   "metadata": {},
   "outputs": [
    {
     "data": {
      "text/plain": [
       "dtype('float64')"
      ]
     },
     "execution_count": 37,
     "metadata": {},
     "output_type": "execute_result"
    }
   ],
   "source": [
    "arr = np.array([2.3, 5.0, 4.999, 2.71828])\n",
    "arr.dtype"
   ]
  },
  {
   "cell_type": "code",
   "execution_count": 38,
   "id": "82234921-e815-42cf-9f59-2a10d425c5b2",
   "metadata": {},
   "outputs": [
    {
     "data": {
      "text/plain": [
       "array([2, 5, 4, 2])"
      ]
     },
     "execution_count": 38,
     "metadata": {},
     "output_type": "execute_result"
    }
   ],
   "source": [
    "int_arr = arr.astype(np.int64)\n",
    "int_arr"
   ]
  },
  {
   "cell_type": "markdown",
   "id": "7b89f429-be44-4be4-8b77-b4b4f0470ca3",
   "metadata": {},
   "source": [
    "We can convert strings that make sense as numbers to numbers:"
   ]
  },
  {
   "cell_type": "code",
   "execution_count": 40,
   "id": "712b2ebf-e3cd-4530-899d-b67e49236667",
   "metadata": {},
   "outputs": [
    {
     "data": {
      "text/plain": [
       "dtype('<U3')"
      ]
     },
     "execution_count": 40,
     "metadata": {},
     "output_type": "execute_result"
    }
   ],
   "source": [
    "arr = np.array([\"2.3\", \"1\", \"42\"])\n",
    "arr.dtype"
   ]
  },
  {
   "cell_type": "code",
   "execution_count": 41,
   "id": "cf17d005-15e1-4db6-a446-a1d49e2b50f9",
   "metadata": {},
   "outputs": [
    {
     "data": {
      "text/plain": [
       "array([ 2.3,  1. , 42. ])"
      ]
     },
     "execution_count": 41,
     "metadata": {},
     "output_type": "execute_result"
    }
   ],
   "source": [
    "float_arr = arr.astype(np.float64)\n",
    "float_arr"
   ]
  },
  {
   "cell_type": "markdown",
   "id": "a64c5c4d-5734-4e8a-8663-7b5327306fd2",
   "metadata": {},
   "source": [
    "But, this will cause an error if the strings don't make sense as numbers:"
   ]
  },
  {
   "cell_type": "code",
   "execution_count": 16,
   "id": "5f5fbecf-eeeb-49b3-a5f0-1d2c9c12f4c8",
   "metadata": {},
   "outputs": [
    {
     "data": {
      "text/plain": [
       "array(['2.3', '1', '42', 'Shrubbery'], dtype='<U9')"
      ]
     },
     "execution_count": 16,
     "metadata": {},
     "output_type": "execute_result"
    }
   ],
   "source": [
    "arr = np.array([\"2.3\", \"1\", \"42\", \"Shrubbery\"])\n",
    "arr"
   ]
  },
  {
   "cell_type": "code",
   "execution_count": 17,
   "id": "37ae9a13-a46a-4870-bb50-dd8c877b28a4",
   "metadata": {},
   "outputs": [
    {
     "ename": "ValueError",
     "evalue": "could not convert string to float: 'Shrubbery'",
     "output_type": "error",
     "traceback": [
      "\u001b[0;31m---------------------------------------------------------------------------\u001b[0m",
      "\u001b[0;31mValueError\u001b[0m                                Traceback (most recent call last)",
      "Cell \u001b[0;32mIn[17], line 1\u001b[0m\n\u001b[0;32m----> 1\u001b[0m float_arr \u001b[38;5;241m=\u001b[39m \u001b[43marr\u001b[49m\u001b[38;5;241;43m.\u001b[39;49m\u001b[43mastype\u001b[49m\u001b[43m(\u001b[49m\u001b[43mnp\u001b[49m\u001b[38;5;241;43m.\u001b[39;49m\u001b[43mfloat64\u001b[49m\u001b[43m)\u001b[49m\n",
      "\u001b[0;31mValueError\u001b[0m: could not convert string to float: 'Shrubbery'"
     ]
    }
   ],
   "source": [
    "float_arr = arr.astype(np.float64)"
   ]
  },
  {
   "cell_type": "markdown",
   "id": "a4936796-0756-44ee-b633-9d78302c3d2b",
   "metadata": {},
   "source": [
    "The datatype for an array can also be specified when you created it:\n"
   ]
  },
  {
   "cell_type": "code",
   "execution_count": 18,
   "id": "1533ba15-ce22-46c2-bae4-bee8f3b7dde8",
   "metadata": {},
   "outputs": [
    {
     "data": {
      "text/plain": [
       "array([1, 2, 3])"
      ]
     },
     "execution_count": 18,
     "metadata": {},
     "output_type": "execute_result"
    }
   ],
   "source": [
    "arr = np.array([1, 2, 3])\n",
    "arr"
   ]
  },
  {
   "cell_type": "code",
   "execution_count": 19,
   "id": "7d779ecb-2b15-4011-b4d3-aef9fb77a57f",
   "metadata": {},
   "outputs": [
    {
     "data": {
      "text/plain": [
       "array([1., 2., 3.])"
      ]
     },
     "execution_count": 19,
     "metadata": {},
     "output_type": "execute_result"
    }
   ],
   "source": [
    "arr = np.array([1, 2, 3], dtype=np.float64)\n",
    "arr"
   ]
  },
  {
   "cell_type": "markdown",
   "id": "439053c9-9b0d-49fc-b73f-66e36cf4f44e",
   "metadata": {},
   "source": [
    "#### Arithmetic with NumPy Arrays"
   ]
  },
  {
   "cell_type": "markdown",
   "id": "378b6f37-ad64-4bc6-82ac-9b228c3aeddd",
   "metadata": {},
   "source": [
    "Arrays enable you to express batch operations on data without writing any for loops. In NumPy this is called \"vectorization\". Any arithmetic operations between equal-sized arrays apply the operation element-wise:"
   ]
  },
  {
   "cell_type": "code",
   "execution_count": 20,
   "id": "d3f6c547-a8be-4332-b2ea-508f00caf3b2",
   "metadata": {},
   "outputs": [
    {
     "data": {
      "text/plain": [
       "array([[1, 2, 3],\n",
       "       [3, 2, 1]])"
      ]
     },
     "execution_count": 20,
     "metadata": {},
     "output_type": "execute_result"
    }
   ],
   "source": [
    "arr = np.array([[1,2,3],[3,2,1]])\n",
    "arr"
   ]
  },
  {
   "cell_type": "code",
   "execution_count": 21,
   "id": "30709440-4a74-449a-a5ff-2a10c41947c3",
   "metadata": {},
   "outputs": [
    {
     "data": {
      "text/plain": [
       "array([[1, 4, 9],\n",
       "       [9, 4, 1]])"
      ]
     },
     "execution_count": 21,
     "metadata": {},
     "output_type": "execute_result"
    }
   ],
   "source": [
    "arr * arr"
   ]
  },
  {
   "cell_type": "code",
   "execution_count": 22,
   "id": "bc7ffa7d-66c2-40c1-b3d8-5e442c6793ed",
   "metadata": {},
   "outputs": [
    {
     "data": {
      "text/plain": [
       "array([[3, 6, 9],\n",
       "       [9, 6, 3]])"
      ]
     },
     "execution_count": 22,
     "metadata": {},
     "output_type": "execute_result"
    }
   ],
   "source": [
    "arr + 2 * arr"
   ]
  },
  {
   "cell_type": "markdown",
   "id": "fcd189bd-e806-4519-8187-25c591e0851e",
   "metadata": {},
   "source": [
    "#### Basic indexing and slicing"
   ]
  },
  {
   "cell_type": "markdown",
   "id": "86c2d045-cbbb-4fd6-b630-f27526f009c7",
   "metadata": {},
   "source": [
    "Selecting a subset of an array is a somewhat deep topic that we'll only touch on here. One-dimensional arrays on the surface act similarly to Python lists:"
   ]
  },
  {
   "cell_type": "code",
   "execution_count": 23,
   "id": "f795c16c-b846-4f63-94f9-b84960b6267c",
   "metadata": {},
   "outputs": [
    {
     "data": {
      "text/plain": [
       "array([3, 4, 5, 6, 7, 8, 9])"
      ]
     },
     "execution_count": 23,
     "metadata": {},
     "output_type": "execute_result"
    }
   ],
   "source": [
    "arr = np.arange(3,10)\n",
    "arr"
   ]
  },
  {
   "cell_type": "code",
   "execution_count": 24,
   "id": "68c69197-c7b5-48df-933b-449868324d2e",
   "metadata": {},
   "outputs": [
    {
     "data": {
      "text/plain": [
       "4"
      ]
     },
     "execution_count": 24,
     "metadata": {},
     "output_type": "execute_result"
    }
   ],
   "source": [
    "arr[1]"
   ]
  },
  {
   "cell_type": "code",
   "execution_count": 25,
   "id": "dd63b2d7-7692-4bd6-90e9-584760041dad",
   "metadata": {},
   "outputs": [
    {
     "data": {
      "text/plain": [
       "array([5, 6, 7])"
      ]
     },
     "execution_count": 25,
     "metadata": {},
     "output_type": "execute_result"
    }
   ],
   "source": [
    "arr[2:5]"
   ]
  },
  {
   "cell_type": "code",
   "execution_count": 26,
   "id": "5dc75121-4d67-41e1-9129-d3d4a3c57043",
   "metadata": {},
   "outputs": [
    {
     "data": {
      "text/plain": [
       "array([ 3,  4, 12, 12, 12,  8,  9])"
      ]
     },
     "execution_count": 26,
     "metadata": {},
     "output_type": "execute_result"
    }
   ],
   "source": [
    "arr[2:5] = 12\n",
    "arr"
   ]
  },
  {
   "cell_type": "markdown",
   "id": "9f372222-9441-4e69-a8d7-9c96a0f959f7",
   "metadata": {},
   "source": [
    "As you can see, assigning a scalar value to a slice propagates (or *broadcasts*) the value to the entire selection.\n",
    "\n",
    "An important first  distinction here is that array slices are views **on the original array**, which means any modification to them is reflected in the source array.\n",
    "\n",
    "For example:"
   ]
  },
  {
   "cell_type": "code",
   "execution_count": 27,
   "id": "69d11e23-3643-46ac-856d-76bddd7af5bc",
   "metadata": {},
   "outputs": [
    {
     "data": {
      "text/plain": [
       "array([12, 12, 12])"
      ]
     },
     "execution_count": 27,
     "metadata": {},
     "output_type": "execute_result"
    }
   ],
   "source": [
    "arr_slice = arr[2:5]\n",
    "arr_slice"
   ]
  },
  {
   "cell_type": "code",
   "execution_count": 28,
   "id": "89eb7775-7937-4ae4-97f4-0bf3de8c9d08",
   "metadata": {},
   "outputs": [],
   "source": [
    "arr_slice[1] = 42"
   ]
  },
  {
   "cell_type": "code",
   "execution_count": 29,
   "id": "a4965b3b-0f60-4aa7-814e-d03ab24d92ae",
   "metadata": {},
   "outputs": [
    {
     "data": {
      "text/plain": [
       "array([ 3,  4, 12, 42, 12,  8,  9])"
      ]
     },
     "execution_count": 29,
     "metadata": {},
     "output_type": "execute_result"
    }
   ],
   "source": [
    "arr"
   ]
  },
  {
   "cell_type": "markdown",
   "id": "f9e653f3-8312-44d5-94c4-f34e28f66f6c",
   "metadata": {},
   "source": [
    "This might seem surprising. The idea behind this is that NumPy has been designed to work with very large arrays, and you can image that lots of copying of big arrays could lead to performance and memory problems.\n",
    "\n",
    "If you do want to create a copy and not just a view, you can do so with the *copy* function:"
   ]
  },
  {
   "cell_type": "code",
   "execution_count": 157,
   "id": "58ea6c73-50a0-4c09-b69d-fc32b0982ff1",
   "metadata": {},
   "outputs": [
    {
     "data": {
      "text/plain": [
       "array([0, 1, 2, 3, 4, 5, 6, 7, 8, 9])"
      ]
     },
     "execution_count": 157,
     "metadata": {},
     "output_type": "execute_result"
    }
   ],
   "source": [
    "arr = np.arange(10)\n",
    "arr"
   ]
  },
  {
   "cell_type": "code",
   "execution_count": 158,
   "id": "f18184b9-2ab4-4624-bdd4-4f6fa55c6fc2",
   "metadata": {},
   "outputs": [
    {
     "data": {
      "text/plain": [
       "array([3, 4, 5])"
      ]
     },
     "execution_count": 158,
     "metadata": {},
     "output_type": "execute_result"
    }
   ],
   "source": [
    "arr_slice = arr[3:6]\n",
    "arr_slice"
   ]
  },
  {
   "cell_type": "code",
   "execution_count": 159,
   "id": "7e1b5a53-6d3c-4abb-89fd-9f790250e23e",
   "metadata": {},
   "outputs": [
    {
     "data": {
      "text/plain": [
       "array([3, 4, 5])"
      ]
     },
     "execution_count": 159,
     "metadata": {},
     "output_type": "execute_result"
    }
   ],
   "source": [
    "arr_copy = arr[3:6].copy()\n",
    "arr_copy"
   ]
  },
  {
   "cell_type": "code",
   "execution_count": 160,
   "id": "d1710acf-5a70-4e16-aa05-e46ef0e1625f",
   "metadata": {},
   "outputs": [
    {
     "data": {
      "text/plain": [
       "array([ 0,  1,  2, 23,  4,  5,  6,  7,  8,  9])"
      ]
     },
     "execution_count": 160,
     "metadata": {},
     "output_type": "execute_result"
    }
   ],
   "source": [
    "arr_slice[0] = 23\n",
    "arr_copy[1] = 42\n",
    "arr"
   ]
  },
  {
   "cell_type": "markdown",
   "id": "2b7da318-ff6b-44f2-b76d-eac67283e1e0",
   "metadata": {},
   "source": [
    "For higher dimensional arrays there are more options.\n",
    "\n",
    "I a two-dimensional array, the elements at each index are no longer scalars but rather one-dimensional arrays:"
   ]
  },
  {
   "cell_type": "code",
   "execution_count": 162,
   "id": "42474ddf-474b-4c47-92bb-5ee89f3857ea",
   "metadata": {},
   "outputs": [
    {
     "data": {
      "text/plain": [
       "array([7, 8, 9])"
      ]
     },
     "execution_count": 162,
     "metadata": {},
     "output_type": "execute_result"
    }
   ],
   "source": [
    "arr2d = np.array([[1,2,3],[4,5,6],[7,8,9]])\n",
    "arr2d[2]"
   ]
  },
  {
   "cell_type": "markdown",
   "id": "ccdf7d2f-61da-4044-b122-978a3b118590",
   "metadata": {},
   "source": [
    "If we wanted to access the third element of the first array, we could do so either recursively:"
   ]
  },
  {
   "cell_type": "code",
   "execution_count": 164,
   "id": "3310e020-3616-41fe-bedc-2224d5a13d41",
   "metadata": {},
   "outputs": [
    {
     "data": {
      "text/plain": [
       "3"
      ]
     },
     "execution_count": 164,
     "metadata": {},
     "output_type": "execute_result"
    }
   ],
   "source": [
    "arr2d[0][2]"
   ]
  },
  {
   "cell_type": "markdown",
   "id": "f4b3225d-e0ed-4595-947c-f510a0f5f53a",
   "metadata": {},
   "source": [
    "Or, using a comma-separated list:"
   ]
  },
  {
   "cell_type": "code",
   "execution_count": 166,
   "id": "4abcdb13-de49-4b7a-abed-dd56b0b5014c",
   "metadata": {},
   "outputs": [
    {
     "data": {
      "text/plain": [
       "3"
      ]
     },
     "execution_count": 166,
     "metadata": {},
     "output_type": "execute_result"
    }
   ],
   "source": [
    "arr2d[0,2]"
   ]
  },
  {
   "cell_type": "markdown",
   "id": "35a08335-5f9b-4213-a0dd-631cdee0e835",
   "metadata": {},
   "source": [
    "If we assign a scalar value to an entire array, it broadcasts that value to every entry:"
   ]
  },
  {
   "cell_type": "code",
   "execution_count": 168,
   "id": "2c8c5ccd-005b-45d3-92cd-c9085586961d",
   "metadata": {},
   "outputs": [
    {
     "data": {
      "text/plain": [
       "array([1, 2, 3])"
      ]
     },
     "execution_count": 168,
     "metadata": {},
     "output_type": "execute_result"
    }
   ],
   "source": [
    "arr2d[0]"
   ]
  },
  {
   "cell_type": "code",
   "execution_count": 169,
   "id": "3d1fa07c-a3ad-4ecd-a518-dd03625824b5",
   "metadata": {},
   "outputs": [
    {
     "data": {
      "text/plain": [
       "array([[42, 42, 42],\n",
       "       [ 4,  5,  6],\n",
       "       [ 7,  8,  9]])"
      ]
     },
     "execution_count": 169,
     "metadata": {},
     "output_type": "execute_result"
    }
   ],
   "source": [
    "arr2d[0] = 42\n",
    "arr2d"
   ]
  },
  {
   "cell_type": "markdown",
   "id": "92b55fb8-e006-415f-ad39-823033e3ab66",
   "metadata": {},
   "source": [
    "Multiple slices can be passed to multi-dimensional arrays just like we can pass multiple indices."
   ]
  },
  {
   "cell_type": "code",
   "execution_count": 171,
   "id": "158b751d-f60d-4307-8281-28c022a33d86",
   "metadata": {},
   "outputs": [
    {
     "data": {
      "text/plain": [
       "array([[42, 42, 42],\n",
       "       [ 4,  5,  6]])"
      ]
     },
     "execution_count": 171,
     "metadata": {},
     "output_type": "execute_result"
    }
   ],
   "source": [
    "arr2d[:2]"
   ]
  },
  {
   "cell_type": "code",
   "execution_count": 172,
   "id": "2571dc21-fed8-411e-a7c8-2ec5fbd4c6c5",
   "metadata": {},
   "outputs": [
    {
     "data": {
      "text/plain": [
       "array([[42, 42],\n",
       "       [ 5,  6]])"
      ]
     },
     "execution_count": 172,
     "metadata": {},
     "output_type": "execute_result"
    }
   ],
   "source": [
    "arr2d[:2,1:]"
   ]
  },
  {
   "cell_type": "markdown",
   "id": "992c4a21-2edd-4bbe-9902-2ef74a9a0da6",
   "metadata": {},
   "source": [
    "By mixing indexes and slices, you can get lower dimensional slices:"
   ]
  },
  {
   "cell_type": "code",
   "execution_count": 174,
   "id": "231b6797-7e8f-420d-97e7-3a09728b5287",
   "metadata": {},
   "outputs": [
    {
     "data": {
      "text/plain": [
       "array([42,  6])"
      ]
     },
     "execution_count": 174,
     "metadata": {},
     "output_type": "execute_result"
    }
   ],
   "source": [
    "arr2d[:2,2]"
   ]
  },
  {
   "cell_type": "markdown",
   "id": "85f78ef2-32b6-41aa-9e72-d4be0a74a691",
   "metadata": {},
   "source": [
    "Keep in mind, these slices are *views*"
   ]
  },
  {
   "cell_type": "code",
   "execution_count": 176,
   "id": "e0cf99c1-b23e-498a-9e97-7ec90fe32fa1",
   "metadata": {},
   "outputs": [
    {
     "data": {
      "text/plain": [
       "array([[ 42,  42, 801],\n",
       "       [  4,   5, 801],\n",
       "       [  7,   8,   9]])"
      ]
     },
     "execution_count": 176,
     "metadata": {},
     "output_type": "execute_result"
    }
   ],
   "source": [
    "arr2d[:2,2] = 801\n",
    "arr2d"
   ]
  },
  {
   "cell_type": "markdown",
   "id": "c66d8294-4851-4acf-8ad8-9d87216d541e",
   "metadata": {},
   "source": [
    "We can index the elements in an array with **boolean indexing**. For example, suppose we have the following array of names:"
   ]
  },
  {
   "cell_type": "code",
   "execution_count": 178,
   "id": "a20518ff-750b-4899-a4ec-491d085e8f60",
   "metadata": {},
   "outputs": [],
   "source": [
    "names = np.array([\"Bob\", \"Joe\", \"Will\", \"Bob\", \"Will\", \"Joe\", \"Joe\"])\n",
    "data = np.array([[4,7], [0,2], [-5,6], [0,0], [1,2], [-12,-4], [3,4]])"
   ]
  },
  {
   "cell_type": "code",
   "execution_count": 179,
   "id": "454d08cb-9efa-489e-b139-f51fa2f0f3b2",
   "metadata": {},
   "outputs": [
    {
     "data": {
      "text/plain": [
       "array(['Bob', 'Joe', 'Will', 'Bob', 'Will', 'Joe', 'Joe'], dtype='<U4')"
      ]
     },
     "execution_count": 179,
     "metadata": {},
     "output_type": "execute_result"
    }
   ],
   "source": [
    "names"
   ]
  },
  {
   "cell_type": "code",
   "execution_count": 180,
   "id": "b54b6f68-dddd-43d9-aaa4-f3be70978e51",
   "metadata": {},
   "outputs": [
    {
     "data": {
      "text/plain": [
       "array([[  4,   7],\n",
       "       [  0,   2],\n",
       "       [ -5,   6],\n",
       "       [  0,   0],\n",
       "       [  1,   2],\n",
       "       [-12,  -4],\n",
       "       [  3,   4]])"
      ]
     },
     "execution_count": 180,
     "metadata": {},
     "output_type": "execute_result"
    }
   ],
   "source": [
    "data"
   ]
  },
  {
   "cell_type": "markdown",
   "id": "37ed1f2a-bc19-4915-a941-ea2dbfe93b98",
   "metadata": {},
   "source": [
    "Suppose each name corresponds with a row in the *data* array and we wanted to select all the rows with the corresponding name \"Bob\". Like arithmetic operations, comparisons (like ==) with arrays are also vectorized. So, this command produces a Boolean array:"
   ]
  },
  {
   "cell_type": "code",
   "execution_count": 182,
   "id": "447c7659-ab78-485c-af1e-fb2becc132cf",
   "metadata": {},
   "outputs": [
    {
     "data": {
      "text/plain": [
       "array([ True, False, False,  True, False, False, False])"
      ]
     },
     "execution_count": 182,
     "metadata": {},
     "output_type": "execute_result"
    }
   ],
   "source": [
    "names == \"Bob\""
   ]
  },
  {
   "cell_type": "markdown",
   "id": "54abd18c-5156-4faf-991c-4a19876fc25c",
   "metadata": {},
   "source": [
    "If we pass this as an index to our array we get:"
   ]
  },
  {
   "cell_type": "code",
   "execution_count": 184,
   "id": "c45a1bf0-f3f8-4d3c-8808-120a9cc28922",
   "metadata": {},
   "outputs": [
    {
     "data": {
      "text/plain": [
       "array([[4, 7],\n",
       "       [0, 0]])"
      ]
     },
     "execution_count": 184,
     "metadata": {},
     "output_type": "execute_result"
    }
   ],
   "source": [
    "data[names==\"Bob\"]"
   ]
  },
  {
   "cell_type": "markdown",
   "id": "b26afac8-e655-4224-9b47-7c2aabdd05b6",
   "metadata": {},
   "source": [
    "Note the Boolean array must be of the same length as the array axis it's indexing.\n",
    "\n",
    "You can even mix and match Boolean arrays with slices:"
   ]
  },
  {
   "cell_type": "code",
   "execution_count": 186,
   "id": "152a9d34-bbce-4d69-9ff8-99a24bf80243",
   "metadata": {},
   "outputs": [
    {
     "data": {
      "text/plain": [
       "array([[7],\n",
       "       [0]])"
      ]
     },
     "execution_count": 186,
     "metadata": {},
     "output_type": "execute_result"
    }
   ],
   "source": [
    "data[names == \"Bob\", 1:]"
   ]
  },
  {
   "cell_type": "code",
   "execution_count": 187,
   "id": "9e126b32-aec4-4c9f-94ea-ea977fafbd5b",
   "metadata": {},
   "outputs": [
    {
     "data": {
      "text/plain": [
       "array([7, 0])"
      ]
     },
     "execution_count": 187,
     "metadata": {},
     "output_type": "execute_result"
    }
   ],
   "source": [
    "data[names == \"Bob\", 1]"
   ]
  },
  {
   "cell_type": "markdown",
   "id": "6944d3aa-adfd-45df-8f26-180178dc5ff9",
   "metadata": {},
   "source": [
    "We can also use the standard *and* (&), *or* (|), and *not* (~) operations."
   ]
  },
  {
   "cell_type": "code",
   "execution_count": 189,
   "id": "41e99d75-66c4-4917-92b4-77d8ec70c9be",
   "metadata": {},
   "outputs": [
    {
     "data": {
      "text/plain": [
       "array([[  0,   2],\n",
       "       [ -5,   6],\n",
       "       [  1,   2],\n",
       "       [-12,  -4],\n",
       "       [  3,   4]])"
      ]
     },
     "execution_count": 189,
     "metadata": {},
     "output_type": "execute_result"
    }
   ],
   "source": [
    "data[names != \"Bob\"]"
   ]
  },
  {
   "cell_type": "code",
   "execution_count": 190,
   "id": "aebddc19-32f6-4c9d-af2f-8c6b781463d1",
   "metadata": {},
   "outputs": [
    {
     "data": {
      "text/plain": [
       "array([[  0,   2],\n",
       "       [ -5,   6],\n",
       "       [  1,   2],\n",
       "       [-12,  -4],\n",
       "       [  3,   4]])"
      ]
     },
     "execution_count": 190,
     "metadata": {},
     "output_type": "execute_result"
    }
   ],
   "source": [
    "data[~(names == \"Bob\")]"
   ]
  },
  {
   "cell_type": "code",
   "execution_count": 191,
   "id": "863ca765-00b7-4e9f-9461-35236bfd6159",
   "metadata": {},
   "outputs": [
    {
     "data": {
      "text/plain": [
       "array([[ 4,  7],\n",
       "       [-5,  6],\n",
       "       [ 0,  0],\n",
       "       [ 1,  2]])"
      ]
     },
     "execution_count": 191,
     "metadata": {},
     "output_type": "execute_result"
    }
   ],
   "source": [
    "data[(names == \"Bob\") | (names == \"Will\")]"
   ]
  },
  {
   "cell_type": "markdown",
   "id": "89c5e344-64de-4112-a400-7cd73b25e56c",
   "metadata": {},
   "source": [
    "Note selecting data from an array by Boolean indexing and assigning the results to a new variable creates a *copy* of the data. I know it's a bit confusing when a copy is created and when it's not. Sorry, I didn't make the rules."
   ]
  },
  {
   "cell_type": "markdown",
   "id": "096aecf3-d8a9-483f-9a60-83cf4ebb5e44",
   "metadata": {},
   "source": [
    "Fancy indexing is a term adopted by NumPy to describe indexing using integer arrays. Sorry, I didn't make the terminology either. For example:"
   ]
  },
  {
   "cell_type": "code",
   "execution_count": 194,
   "id": "d0460a67-c1ca-405c-a469-89b1047edc6a",
   "metadata": {},
   "outputs": [
    {
     "data": {
      "text/plain": [
       "array([[ 1,  2,  3],\n",
       "       [ 4,  5,  6],\n",
       "       [ 7,  8,  9],\n",
       "       [10, 11, 12]])"
      ]
     },
     "execution_count": 194,
     "metadata": {},
     "output_type": "execute_result"
    }
   ],
   "source": [
    "arr = np.array([[1,2,3],[4,5,6],[7,8,9],[10,11,12]])\n",
    "arr"
   ]
  },
  {
   "cell_type": "code",
   "execution_count": 195,
   "id": "9353076c-f23c-4c36-96e4-ae720db1d6c5",
   "metadata": {},
   "outputs": [
    {
     "data": {
      "text/plain": [
       "array([[4, 5, 6],\n",
       "       [1, 2, 3],\n",
       "       [7, 8, 9]])"
      ]
     },
     "execution_count": 195,
     "metadata": {},
     "output_type": "execute_result"
    }
   ],
   "source": [
    "arr[[1,0,2]]"
   ]
  },
  {
   "cell_type": "markdown",
   "id": "c1b45ae8-af4c-4d75-b733-e86ba7e47b77",
   "metadata": {},
   "source": [
    "Using negative indices selects rows from the end:"
   ]
  },
  {
   "cell_type": "code",
   "execution_count": 197,
   "id": "a6594f19-7f6e-463d-a9e9-75cfdfd95358",
   "metadata": {},
   "outputs": [
    {
     "data": {
      "text/plain": [
       "array([[10, 11, 12],\n",
       "       [ 7,  8,  9]])"
      ]
     },
     "execution_count": 197,
     "metadata": {},
     "output_type": "execute_result"
    }
   ],
   "source": [
    "arr[[-1,-2]]"
   ]
  },
  {
   "cell_type": "markdown",
   "id": "89b5ff7c-ab9f-4e2a-a025-36f9388c5cff",
   "metadata": {},
   "source": [
    "Passing multiple index arrays selects an array of elements corresponding to each tuple of indices:"
   ]
  },
  {
   "cell_type": "code",
   "execution_count": 199,
   "id": "6bb97dc6-36b7-444b-8271-9ded0959e8ec",
   "metadata": {},
   "outputs": [
    {
     "data": {
      "text/plain": [
       "array([6, 1, 8])"
      ]
     },
     "execution_count": 199,
     "metadata": {},
     "output_type": "execute_result"
    }
   ],
   "source": [
    "arr[[1,0,2],[2,0,1]]"
   ]
  },
  {
   "cell_type": "markdown",
   "id": "ba79e270-92ad-4b37-9131-2ac7cabad4d6",
   "metadata": {},
   "source": [
    "Fancy indexing, unlike slicing, always copies the data into a new array when assigning the results to a new variable. Again, not my rules."
   ]
  },
  {
   "cell_type": "markdown",
   "id": "6b9abe82-337a-4265-bf7d-e4a65cb9f1f1",
   "metadata": {},
   "source": [
    "Finally, we can transpose an array with the *T* method:"
   ]
  },
  {
   "cell_type": "code",
   "execution_count": 202,
   "id": "231a645d-eae0-4060-95a8-8ed0bcede570",
   "metadata": {},
   "outputs": [
    {
     "data": {
      "text/plain": [
       "array([[ 1,  2,  3],\n",
       "       [ 4,  5,  6],\n",
       "       [ 7,  8,  9],\n",
       "       [10, 11, 12]])"
      ]
     },
     "execution_count": 202,
     "metadata": {},
     "output_type": "execute_result"
    }
   ],
   "source": [
    "arr"
   ]
  },
  {
   "cell_type": "code",
   "execution_count": 203,
   "id": "8d2061bc-6346-446d-948a-3686a8c10ce0",
   "metadata": {
    "tags": []
   },
   "outputs": [
    {
     "data": {
      "text/plain": [
       "array([[ 1,  4,  7, 10],\n",
       "       [ 2,  5,  8, 11],\n",
       "       [ 3,  6,  9, 12]])"
      ]
     },
     "execution_count": 203,
     "metadata": {},
     "output_type": "execute_result"
    }
   ],
   "source": [
    "arr.T"
   ]
  },
  {
   "cell_type": "markdown",
   "id": "0e6dce67-3e37-40af-985d-f86efef0c444",
   "metadata": {},
   "source": [
    "## Pandas"
   ]
  },
  {
   "cell_type": "markdown",
   "id": "cf5fc198-92d3-4098-978f-cfbe36c05968",
   "metadata": {},
   "source": [
    "For exploring the pandas library, we'll play around with the \"royal line\" dataset, which was created from public sources and contains family history information about Elizabeth II, the Queen of England at the time the dataset was compiled. Note a few things about the command below:\n",
    "* It uses the read_csv command from pandas, which is used to read in \"comma separated value\" files. This is a very common format for storing tabular data, as it's not tied to a particular program like, for example, Excel files are. However, Pandas also has functionality for reading in pretty much any type of data format commonly found in practice.\n",
    "* I'm accessing the .csv file from my Google drive. This means you all don't need to download it to access it.\n",
    "* The basic data object in Pandas is a \"dataframe\", which is created by the read_csv command. Typically, a dataframe is denoted with the abbreviation \"df\", which we do here."
   ]
  },
  {
   "cell_type": "code",
   "execution_count": 30,
   "id": "a6082dfd-6481-4032-b6d1-1399a45e804e",
   "metadata": {},
   "outputs": [],
   "source": [
    "# This reads in the data from a .csv file on Google Drive\n",
    "url = 'https://drive.google.com/file/d/1hLUH7s5WPJUfWQrAWQmGeyST4wvTnn7m/view?usp=sharing'\n",
    "path = 'https://drive.google.com/uc?export=download&id='+url.split('/')[-2]\n",
    "df = pd.read_csv(path)"
   ]
  },
  {
   "cell_type": "markdown",
   "id": "cdd43f53-2812-407f-9969-06f04a871503",
   "metadata": {},
   "source": [
    "We can then take a look at this dataframe using the \"print\" command, which will by default print the first five and last five rows of the dataframe."
   ]
  },
  {
   "cell_type": "code",
   "execution_count": 31,
   "id": "69ebd4ee-4b05-4614-91ac-22b7fe8fe57f",
   "metadata": {},
   "outputs": [
    {
     "name": "stdout",
     "output_type": "stream",
     "text": [
      "        ID               first_name last_name sex             title  \\\n",
      "0        1                 Victoria   Hanover   F  Queen of England   \n",
      "1        2  Albert Augustus Charles       NaN   M            Prince   \n",
      "2        3   Victoria Adelaide Mary       NaN   F    Princess Royal   \n",
      "3        4               Edward_VII    Wettin   M   King of England   \n",
      "4        5          Alice Maud Mary       NaN   F          Princess   \n",
      "...    ...                      ...       ...  ..               ...   \n",
      "3004  3005                    Emily   Scobell   F               NaN   \n",
      "3005  3006             John Sanford   Scobell   M               Sir   \n",
      "3006  3007                    James  Cartland   M               NaN   \n",
      "3007  3008                    Flora       NaN   F               NaN   \n",
      "3008  3009                      NaN  Cartland   F               NaN   \n",
      "\n",
      "       birth_date                          birth_place   death_date  \\\n",
      "0     24 MAY 1819     Kensington,Palace,London,England  22 JAN 1901   \n",
      "1     26 AUG 1819  Schloss Rosenau,Near Coburg,Germany  14 DEC 1861   \n",
      "2     21 NOV 1840     Buckingham,Palace,London,England   5 AUG 1901   \n",
      "3      9 NOV 1841     Buckingham,Palace,London,England   6 MAY 1910   \n",
      "4     25 APR 1843     Buckingham,Palace,London,England  14 DEC 1878   \n",
      "...           ...                                  ...          ...   \n",
      "3004          NaN                                  NaN          NaN   \n",
      "3005         1879                                  NaN          NaN   \n",
      "3006          NaN                                  NaN          NaN   \n",
      "3007          NaN                                  NaN          NaN   \n",
      "3008          NaN                                  NaN  ABT    1911   \n",
      "\n",
      "                              death_place  \n",
      "0     Osborne House,Isle of Wight,England  \n",
      "1        Windsor Castle,Berkshire,England  \n",
      "2      Friedrichshof,Near,Kronberg,Taunus  \n",
      "3        Buckingham,Palace,London,England  \n",
      "4                     Darmstadt,,,Germany  \n",
      "...                                   ...  \n",
      "3004                                  NaN  \n",
      "3005                                  NaN  \n",
      "3006                                  NaN  \n",
      "3007                                  NaN  \n",
      "3008                                  NaN  \n",
      "\n",
      "[3009 rows x 9 columns]\n"
     ]
    }
   ],
   "source": [
    "print(df)"
   ]
  },
  {
   "cell_type": "markdown",
   "id": "a73324a2-c70c-4660-8971-b8db72632f92",
   "metadata": {},
   "source": [
    "If we just want to check out the first $n$ values, we can use the \"head\" function:"
   ]
  },
  {
   "cell_type": "code",
   "execution_count": 32,
   "id": "f2288154-b928-4c2c-a2c7-0308e046d382",
   "metadata": {},
   "outputs": [
    {
     "name": "stdout",
     "output_type": "stream",
     "text": [
      "   ID               first_name last_name sex             title   birth_date  \\\n",
      "0   1                 Victoria   Hanover   F  Queen of England  24 MAY 1819   \n",
      "1   2  Albert Augustus Charles       NaN   M            Prince  26 AUG 1819   \n",
      "2   3   Victoria Adelaide Mary       NaN   F    Princess Royal  21 NOV 1840   \n",
      "3   4               Edward_VII    Wettin   M   King of England   9 NOV 1841   \n",
      "4   5          Alice Maud Mary       NaN   F          Princess  25 APR 1843   \n",
      "\n",
      "                           birth_place   death_date  \\\n",
      "0     Kensington,Palace,London,England  22 JAN 1901   \n",
      "1  Schloss Rosenau,Near Coburg,Germany  14 DEC 1861   \n",
      "2     Buckingham,Palace,London,England   5 AUG 1901   \n",
      "3     Buckingham,Palace,London,England   6 MAY 1910   \n",
      "4     Buckingham,Palace,London,England  14 DEC 1878   \n",
      "\n",
      "                           death_place  \n",
      "0  Osborne House,Isle of Wight,England  \n",
      "1     Windsor Castle,Berkshire,England  \n",
      "2   Friedrichshof,Near,Kronberg,Taunus  \n",
      "3     Buckingham,Palace,London,England  \n",
      "4                  Darmstadt,,,Germany  \n",
      "    ID                   first_name last_name sex             title  \\\n",
      "0    1                     Victoria   Hanover   F  Queen of England   \n",
      "1    2      Albert Augustus Charles       NaN   M            Prince   \n",
      "2    3       Victoria Adelaide Mary       NaN   F    Princess Royal   \n",
      "3    4                   Edward_VII    Wettin   M   King of England   \n",
      "4    5              Alice Maud Mary       NaN   F          Princess   \n",
      "5    6         Alfred Ernest Albert       NaN   M            Prince   \n",
      "6    7      Helena Augusta Victoria       NaN   F          Princess   \n",
      "7    8      Louise Caroline Alberta       NaN   F          Princess   \n",
      "8    9       Arthur William Patrick       NaN   M            Prince   \n",
      "9   10        Leopold George Duncan       NaN   M            Prince   \n",
      "10  11       Beatrice Mary Victoria       NaN   F          Princess   \n",
      "11  12  Alexandra of_Denmark Alix\"\"       NaN   F          Princess   \n",
      "\n",
      "     birth_date                          birth_place   death_date  \\\n",
      "0   24 MAY 1819     Kensington,Palace,London,England  22 JAN 1901   \n",
      "1   26 AUG 1819  Schloss Rosenau,Near Coburg,Germany  14 DEC 1861   \n",
      "2   21 NOV 1840     Buckingham,Palace,London,England   5 AUG 1901   \n",
      "3    9 NOV 1841     Buckingham,Palace,London,England   6 MAY 1910   \n",
      "4   25 APR 1843     Buckingham,Palace,London,England  14 DEC 1878   \n",
      "5    6 AUG 1844     Windsor Castle,Berkshire,England  30 JUL 1900   \n",
      "6   25 MAY 1846     Buckingham,Palace,London,England   9 JUN 1923   \n",
      "7   18 MAR 1848     Buckingham,Palace,London,England   3 DEC 1939   \n",
      "8    1 MAY 1850     Buckingham,Palace,London,England  16 JAN 1942   \n",
      "9    7 APR 1853     Buckingham,Palace,London,England  28 MAR 1884   \n",
      "10  14 APR 1857     Buckingham,Palace,London,England  26 OCT 1944   \n",
      "11   1 DEC 1844     Yellow Palace,Copenhagen,Denmark  20 NOV 1925   \n",
      "\n",
      "                                 death_place  \n",
      "0        Osborne House,Isle of Wight,England  \n",
      "1           Windsor Castle,Berkshire,England  \n",
      "2         Friedrichshof,Near,Kronberg,Taunus  \n",
      "3           Buckingham,Palace,London,England  \n",
      "4                        Darmstadt,,,Germany  \n",
      "5                Schloss Rosenau,Near Coburg  \n",
      "6   Schomberg House,Pall Mall,London,England  \n",
      "7           Kensington,Palace,London,England  \n",
      "8                        Bagshot Park,Surrey  \n",
      "9                                     Cannes  \n",
      "10    Bantridge Park,Balcombe,Sussex,England  \n",
      "11              Sandringham,,Norfolk,England  \n"
     ]
    }
   ],
   "source": [
    "print(df.head())\n",
    "print(df.head(12))"
   ]
  },
  {
   "cell_type": "markdown",
   "id": "d7d2c222-5eed-41de-853a-d8cc64c95ca9",
   "metadata": {},
   "source": [
    "And similarly the \"tail\" function returns the last $n$ values:"
   ]
  },
  {
   "cell_type": "code",
   "execution_count": 212,
   "id": "a1ce55e7-ceda-4b40-844b-edd1f3c5ef1c",
   "metadata": {},
   "outputs": [
    {
     "name": "stdout",
     "output_type": "stream",
     "text": [
      "        ID             first_name last_name sex  title  birth_date  \\\n",
      "2994  2995       Bertram (Bertie)  Cartland   M  Major         NaN   \n",
      "2995  2996  Mary Hamilton (Polly)   Scobell   F    NaN  5 SEP 1877   \n",
      "2996  2997                 Ronald  Cartland   M    NaN  3 JAN 1907   \n",
      "2997  2998         Anthony (Tony)  Cartland   M    NaN  4 JAN 1912   \n",
      "2998  2999                  Edith  Palairet   F    NaN         NaN   \n",
      "2999  3000              Mary Anne  Hamilton   F    NaN         NaN   \n",
      "3000  3001                 Andrew  Hamilton   M    NaN         NaN   \n",
      "3001  3002                 George   Scobell   M    NaN         NaN   \n",
      "3002  3003               Melloney   Scobell   F    NaN         NaN   \n",
      "3003  3004                    NaN   Scobell   M    NaN         NaN   \n",
      "3004  3005                  Emily   Scobell   F    NaN         NaN   \n",
      "3005  3006           John Sanford   Scobell   M    Sir        1879   \n",
      "3006  3007                  James  Cartland   M    NaN         NaN   \n",
      "3007  3008                  Flora       NaN   F    NaN         NaN   \n",
      "3008  3009                    NaN  Cartland   F    NaN         NaN   \n",
      "\n",
      "         birth_place   death_date       death_place  \n",
      "2994             NaN  27 MAY 1917               NaN  \n",
      "2995             NaN          NaN               NaN  \n",
      "2996             NaN  30 MAY 1940  Nr Cassel,France  \n",
      "2997             NaN  29 MAY 1940               NaN  \n",
      "2998             NaN          NaN               NaN  \n",
      "2999             NaN          NaN               NaN  \n",
      "3000             NaN          NaN               NaN  \n",
      "3001             NaN          NaN               NaN  \n",
      "3002             NaN          NaN               NaN  \n",
      "3003  Florence,Italy  BEF    1877               NaN  \n",
      "3004             NaN          NaN               NaN  \n",
      "3005             NaN          NaN               NaN  \n",
      "3006             NaN          NaN               NaN  \n",
      "3007             NaN          NaN               NaN  \n",
      "3008             NaN  ABT    1911               NaN  \n"
     ]
    }
   ],
   "source": [
    "print(df.tail(15))"
   ]
  },
  {
   "cell_type": "markdown",
   "id": "434b7263-6189-44ac-8aad-44831c367935",
   "metadata": {},
   "source": [
    "You may have noticed in the printed dataframe an additional column of numbers located to the far left of the data. For instance, if we just call df.head() with the default option (which is 5), we get:"
   ]
  },
  {
   "cell_type": "code",
   "execution_count": 214,
   "id": "ad740e67-6bb3-472c-9206-e984083d16fb",
   "metadata": {},
   "outputs": [
    {
     "name": "stdout",
     "output_type": "stream",
     "text": [
      "   ID               first_name last_name sex             title   birth_date  \\\n",
      "0   1                 Victoria   Hanover   F  Queen of England  24 MAY 1819   \n",
      "1   2  Albert Augustus Charles       NaN   M            Prince  26 AUG 1819   \n",
      "2   3   Victoria Adelaide Mary       NaN   F    Princess Royal  21 NOV 1840   \n",
      "3   4               Edward_VII    Wettin   M   King of England   9 NOV 1841   \n",
      "4   5          Alice Maud Mary       NaN   F          Princess  25 APR 1843   \n",
      "\n",
      "                           birth_place   death_date  \\\n",
      "0     Kensington,Palace,London,England  22 JAN 1901   \n",
      "1  Schloss Rosenau,Near Coburg,Germany  14 DEC 1861   \n",
      "2     Buckingham,Palace,London,England   5 AUG 1901   \n",
      "3     Buckingham,Palace,London,England   6 MAY 1910   \n",
      "4     Buckingham,Palace,London,England  14 DEC 1878   \n",
      "\n",
      "                           death_place  \n",
      "0  Osborne House,Isle of Wight,England  \n",
      "1     Windsor Castle,Berkshire,England  \n",
      "2   Friedrichshof,Near,Kronberg,Taunus  \n",
      "3     Buckingham,Palace,London,England  \n",
      "4                  Darmstadt,,,Germany  \n"
     ]
    },
    {
     "data": {
      "text/html": [
       "<div>\n",
       "<style scoped>\n",
       "    .dataframe tbody tr th:only-of-type {\n",
       "        vertical-align: middle;\n",
       "    }\n",
       "\n",
       "    .dataframe tbody tr th {\n",
       "        vertical-align: top;\n",
       "    }\n",
       "\n",
       "    .dataframe thead th {\n",
       "        text-align: right;\n",
       "    }\n",
       "</style>\n",
       "<table border=\"1\" class=\"dataframe\">\n",
       "  <thead>\n",
       "    <tr style=\"text-align: right;\">\n",
       "      <th></th>\n",
       "      <th>ID</th>\n",
       "      <th>first_name</th>\n",
       "      <th>last_name</th>\n",
       "      <th>sex</th>\n",
       "      <th>title</th>\n",
       "      <th>birth_date</th>\n",
       "      <th>birth_place</th>\n",
       "      <th>death_date</th>\n",
       "      <th>death_place</th>\n",
       "    </tr>\n",
       "  </thead>\n",
       "  <tbody>\n",
       "    <tr>\n",
       "      <th>0</th>\n",
       "      <td>1</td>\n",
       "      <td>Victoria</td>\n",
       "      <td>Hanover</td>\n",
       "      <td>F</td>\n",
       "      <td>Queen of England</td>\n",
       "      <td>24 MAY 1819</td>\n",
       "      <td>Kensington,Palace,London,England</td>\n",
       "      <td>22 JAN 1901</td>\n",
       "      <td>Osborne House,Isle of Wight,England</td>\n",
       "    </tr>\n",
       "    <tr>\n",
       "      <th>1</th>\n",
       "      <td>2</td>\n",
       "      <td>Albert Augustus Charles</td>\n",
       "      <td>NaN</td>\n",
       "      <td>M</td>\n",
       "      <td>Prince</td>\n",
       "      <td>26 AUG 1819</td>\n",
       "      <td>Schloss Rosenau,Near Coburg,Germany</td>\n",
       "      <td>14 DEC 1861</td>\n",
       "      <td>Windsor Castle,Berkshire,England</td>\n",
       "    </tr>\n",
       "    <tr>\n",
       "      <th>2</th>\n",
       "      <td>3</td>\n",
       "      <td>Victoria Adelaide Mary</td>\n",
       "      <td>NaN</td>\n",
       "      <td>F</td>\n",
       "      <td>Princess Royal</td>\n",
       "      <td>21 NOV 1840</td>\n",
       "      <td>Buckingham,Palace,London,England</td>\n",
       "      <td>5 AUG 1901</td>\n",
       "      <td>Friedrichshof,Near,Kronberg,Taunus</td>\n",
       "    </tr>\n",
       "    <tr>\n",
       "      <th>3</th>\n",
       "      <td>4</td>\n",
       "      <td>Edward_VII</td>\n",
       "      <td>Wettin</td>\n",
       "      <td>M</td>\n",
       "      <td>King of England</td>\n",
       "      <td>9 NOV 1841</td>\n",
       "      <td>Buckingham,Palace,London,England</td>\n",
       "      <td>6 MAY 1910</td>\n",
       "      <td>Buckingham,Palace,London,England</td>\n",
       "    </tr>\n",
       "    <tr>\n",
       "      <th>4</th>\n",
       "      <td>5</td>\n",
       "      <td>Alice Maud Mary</td>\n",
       "      <td>NaN</td>\n",
       "      <td>F</td>\n",
       "      <td>Princess</td>\n",
       "      <td>25 APR 1843</td>\n",
       "      <td>Buckingham,Palace,London,England</td>\n",
       "      <td>14 DEC 1878</td>\n",
       "      <td>Darmstadt,,,Germany</td>\n",
       "    </tr>\n",
       "  </tbody>\n",
       "</table>\n",
       "</div>"
      ],
      "text/plain": [
       "   ID               first_name last_name sex             title   birth_date  \\\n",
       "0   1                 Victoria   Hanover   F  Queen of England  24 MAY 1819   \n",
       "1   2  Albert Augustus Charles       NaN   M            Prince  26 AUG 1819   \n",
       "2   3   Victoria Adelaide Mary       NaN   F    Princess Royal  21 NOV 1840   \n",
       "3   4               Edward_VII    Wettin   M   King of England   9 NOV 1841   \n",
       "4   5          Alice Maud Mary       NaN   F          Princess  25 APR 1843   \n",
       "\n",
       "                           birth_place   death_date  \\\n",
       "0     Kensington,Palace,London,England  22 JAN 1901   \n",
       "1  Schloss Rosenau,Near Coburg,Germany  14 DEC 1861   \n",
       "2     Buckingham,Palace,London,England   5 AUG 1901   \n",
       "3     Buckingham,Palace,London,England   6 MAY 1910   \n",
       "4     Buckingham,Palace,London,England  14 DEC 1878   \n",
       "\n",
       "                           death_place  \n",
       "0  Osborne House,Isle of Wight,England  \n",
       "1     Windsor Castle,Berkshire,England  \n",
       "2   Friedrichshof,Near,Kronberg,Taunus  \n",
       "3     Buckingham,Palace,London,England  \n",
       "4                  Darmstadt,,,Germany  "
      ]
     },
     "execution_count": 214,
     "metadata": {},
     "output_type": "execute_result"
    }
   ],
   "source": [
    "print(df.head())\n",
    "df.head()"
   ]
  },
  {
   "cell_type": "markdown",
   "id": "aa03eb3d-5786-458f-91fd-01909f997940",
   "metadata": {},
   "source": [
    "That first column is an index column created by Pandas for the dataframe. It starts at $0$ and enumerates from there. Note this column is *not* in our original csv, it's created.\n",
    "\n",
    "In this example, our original csv already has an index column, called ID, that starts at 1, so this additional data column is a bit redundant. We can specify an index column when we read in the data using the \"index_col\" parameter in read_csv."
   ]
  },
  {
   "cell_type": "code",
   "execution_count": 216,
   "id": "d4c789e6-596d-4208-8a32-32229de08fdb",
   "metadata": {},
   "outputs": [],
   "source": [
    "df = pd.read_csv(path, index_col='ID')"
   ]
  },
  {
   "cell_type": "markdown",
   "id": "ba988e88-f27c-434d-b7a4-78418e08103c",
   "metadata": {},
   "source": [
    "Now, the index column is the \"ID\" column from the original dataset."
   ]
  },
  {
   "cell_type": "code",
   "execution_count": 218,
   "id": "eaa14b35-4bcf-4ec6-96cb-0014b5954fa3",
   "metadata": {},
   "outputs": [
    {
     "data": {
      "text/html": [
       "<div>\n",
       "<style scoped>\n",
       "    .dataframe tbody tr th:only-of-type {\n",
       "        vertical-align: middle;\n",
       "    }\n",
       "\n",
       "    .dataframe tbody tr th {\n",
       "        vertical-align: top;\n",
       "    }\n",
       "\n",
       "    .dataframe thead th {\n",
       "        text-align: right;\n",
       "    }\n",
       "</style>\n",
       "<table border=\"1\" class=\"dataframe\">\n",
       "  <thead>\n",
       "    <tr style=\"text-align: right;\">\n",
       "      <th></th>\n",
       "      <th>first_name</th>\n",
       "      <th>last_name</th>\n",
       "      <th>sex</th>\n",
       "      <th>title</th>\n",
       "      <th>birth_date</th>\n",
       "      <th>birth_place</th>\n",
       "      <th>death_date</th>\n",
       "      <th>death_place</th>\n",
       "    </tr>\n",
       "    <tr>\n",
       "      <th>ID</th>\n",
       "      <th></th>\n",
       "      <th></th>\n",
       "      <th></th>\n",
       "      <th></th>\n",
       "      <th></th>\n",
       "      <th></th>\n",
       "      <th></th>\n",
       "      <th></th>\n",
       "    </tr>\n",
       "  </thead>\n",
       "  <tbody>\n",
       "    <tr>\n",
       "      <th>1</th>\n",
       "      <td>Victoria</td>\n",
       "      <td>Hanover</td>\n",
       "      <td>F</td>\n",
       "      <td>Queen of England</td>\n",
       "      <td>24 MAY 1819</td>\n",
       "      <td>Kensington,Palace,London,England</td>\n",
       "      <td>22 JAN 1901</td>\n",
       "      <td>Osborne House,Isle of Wight,England</td>\n",
       "    </tr>\n",
       "    <tr>\n",
       "      <th>2</th>\n",
       "      <td>Albert Augustus Charles</td>\n",
       "      <td>NaN</td>\n",
       "      <td>M</td>\n",
       "      <td>Prince</td>\n",
       "      <td>26 AUG 1819</td>\n",
       "      <td>Schloss Rosenau,Near Coburg,Germany</td>\n",
       "      <td>14 DEC 1861</td>\n",
       "      <td>Windsor Castle,Berkshire,England</td>\n",
       "    </tr>\n",
       "    <tr>\n",
       "      <th>3</th>\n",
       "      <td>Victoria Adelaide Mary</td>\n",
       "      <td>NaN</td>\n",
       "      <td>F</td>\n",
       "      <td>Princess Royal</td>\n",
       "      <td>21 NOV 1840</td>\n",
       "      <td>Buckingham,Palace,London,England</td>\n",
       "      <td>5 AUG 1901</td>\n",
       "      <td>Friedrichshof,Near,Kronberg,Taunus</td>\n",
       "    </tr>\n",
       "    <tr>\n",
       "      <th>4</th>\n",
       "      <td>Edward_VII</td>\n",
       "      <td>Wettin</td>\n",
       "      <td>M</td>\n",
       "      <td>King of England</td>\n",
       "      <td>9 NOV 1841</td>\n",
       "      <td>Buckingham,Palace,London,England</td>\n",
       "      <td>6 MAY 1910</td>\n",
       "      <td>Buckingham,Palace,London,England</td>\n",
       "    </tr>\n",
       "    <tr>\n",
       "      <th>5</th>\n",
       "      <td>Alice Maud Mary</td>\n",
       "      <td>NaN</td>\n",
       "      <td>F</td>\n",
       "      <td>Princess</td>\n",
       "      <td>25 APR 1843</td>\n",
       "      <td>Buckingham,Palace,London,England</td>\n",
       "      <td>14 DEC 1878</td>\n",
       "      <td>Darmstadt,,,Germany</td>\n",
       "    </tr>\n",
       "  </tbody>\n",
       "</table>\n",
       "</div>"
      ],
      "text/plain": [
       "                 first_name last_name sex             title   birth_date  \\\n",
       "ID                                                                         \n",
       "1                  Victoria   Hanover   F  Queen of England  24 MAY 1819   \n",
       "2   Albert Augustus Charles       NaN   M            Prince  26 AUG 1819   \n",
       "3    Victoria Adelaide Mary       NaN   F    Princess Royal  21 NOV 1840   \n",
       "4                Edward_VII    Wettin   M   King of England   9 NOV 1841   \n",
       "5           Alice Maud Mary       NaN   F          Princess  25 APR 1843   \n",
       "\n",
       "                            birth_place   death_date  \\\n",
       "ID                                                     \n",
       "1      Kensington,Palace,London,England  22 JAN 1901   \n",
       "2   Schloss Rosenau,Near Coburg,Germany  14 DEC 1861   \n",
       "3      Buckingham,Palace,London,England   5 AUG 1901   \n",
       "4      Buckingham,Palace,London,England   6 MAY 1910   \n",
       "5      Buckingham,Palace,London,England  14 DEC 1878   \n",
       "\n",
       "                            death_place  \n",
       "ID                                       \n",
       "1   Osborne House,Isle of Wight,England  \n",
       "2      Windsor Castle,Berkshire,England  \n",
       "3    Friedrichshof,Near,Kronberg,Taunus  \n",
       "4      Buckingham,Palace,London,England  \n",
       "5                   Darmstadt,,,Germany  "
      ]
     },
     "execution_count": 218,
     "metadata": {},
     "output_type": "execute_result"
    }
   ],
   "source": [
    "df.head()"
   ]
  },
  {
   "cell_type": "markdown",
   "id": "369e3754-e12b-445e-887b-cc1eae116b0e",
   "metadata": {},
   "source": [
    "If we only wanted to see the \"title\" column, we could restrict our investigation to that as follows:"
   ]
  },
  {
   "cell_type": "code",
   "execution_count": 220,
   "id": "b2e2c9f0-1fa0-4892-94fe-3ae433d3dd79",
   "metadata": {},
   "outputs": [
    {
     "data": {
      "text/plain": [
       "ID\n",
       "1    Queen of England\n",
       "2              Prince\n",
       "3      Princess Royal\n",
       "4     King of England\n",
       "5            Princess\n",
       "Name: title, dtype: object"
      ]
     },
     "execution_count": 220,
     "metadata": {},
     "output_type": "execute_result"
    }
   ],
   "source": [
    "df['title'].head()"
   ]
  },
  {
   "cell_type": "markdown",
   "id": "4ac2cfb3-b39e-4e36-add6-d8d32d66a8d7",
   "metadata": {},
   "source": [
    "We can specify more than one column as follows. Note the *double brackets*. Think of this as the outer brackets accessing the dataframe, while the inner brackets specify a list."
   ]
  },
  {
   "cell_type": "code",
   "execution_count": 222,
   "id": "62d750d0-e57a-4893-8a41-d6f39cc48a2b",
   "metadata": {},
   "outputs": [
    {
     "data": {
      "text/html": [
       "<div>\n",
       "<style scoped>\n",
       "    .dataframe tbody tr th:only-of-type {\n",
       "        vertical-align: middle;\n",
       "    }\n",
       "\n",
       "    .dataframe tbody tr th {\n",
       "        vertical-align: top;\n",
       "    }\n",
       "\n",
       "    .dataframe thead th {\n",
       "        text-align: right;\n",
       "    }\n",
       "</style>\n",
       "<table border=\"1\" class=\"dataframe\">\n",
       "  <thead>\n",
       "    <tr style=\"text-align: right;\">\n",
       "      <th></th>\n",
       "      <th>title</th>\n",
       "      <th>first_name</th>\n",
       "    </tr>\n",
       "    <tr>\n",
       "      <th>ID</th>\n",
       "      <th></th>\n",
       "      <th></th>\n",
       "    </tr>\n",
       "  </thead>\n",
       "  <tbody>\n",
       "    <tr>\n",
       "      <th>3005</th>\n",
       "      <td>NaN</td>\n",
       "      <td>Emily</td>\n",
       "    </tr>\n",
       "    <tr>\n",
       "      <th>3006</th>\n",
       "      <td>Sir</td>\n",
       "      <td>John Sanford</td>\n",
       "    </tr>\n",
       "    <tr>\n",
       "      <th>3007</th>\n",
       "      <td>NaN</td>\n",
       "      <td>James</td>\n",
       "    </tr>\n",
       "    <tr>\n",
       "      <th>3008</th>\n",
       "      <td>NaN</td>\n",
       "      <td>Flora</td>\n",
       "    </tr>\n",
       "    <tr>\n",
       "      <th>3009</th>\n",
       "      <td>NaN</td>\n",
       "      <td>NaN</td>\n",
       "    </tr>\n",
       "  </tbody>\n",
       "</table>\n",
       "</div>"
      ],
      "text/plain": [
       "     title    first_name\n",
       "ID                      \n",
       "3005   NaN         Emily\n",
       "3006   Sir  John Sanford\n",
       "3007   NaN         James\n",
       "3008   NaN         Flora\n",
       "3009   NaN           NaN"
      ]
     },
     "execution_count": 222,
     "metadata": {},
     "output_type": "execute_result"
    }
   ],
   "source": [
    "df[['title', 'first_name']].tail()"
   ]
  },
  {
   "cell_type": "code",
   "execution_count": 223,
   "id": "1d36e096-e628-4410-8816-94bb4f84d11e",
   "metadata": {},
   "outputs": [
    {
     "data": {
      "text/plain": [
       "Index(['first_name', 'last_name', 'sex', 'title', 'birth_date', 'birth_place',\n",
       "       'death_date', 'death_place'],\n",
       "      dtype='object')"
      ]
     },
     "execution_count": 223,
     "metadata": {},
     "output_type": "execute_result"
    }
   ],
   "source": [
    "df.columns"
   ]
  },
  {
   "cell_type": "markdown",
   "id": "093a74e8-2dc3-43b4-bbca-8ca6beb315a0",
   "metadata": {},
   "source": [
    "Note this returns an index objects that behaves as an iterable list, so you could, for example, go through the colums with a for loop.\n",
    "\n",
    "You can also find out more information about a dataframe using the \"info\" function:"
   ]
  },
  {
   "cell_type": "code",
   "execution_count": 225,
   "id": "7f0202d5-d07e-43f9-bd46-9a1bdc29eda1",
   "metadata": {},
   "outputs": [
    {
     "name": "stdout",
     "output_type": "stream",
     "text": [
      "<class 'pandas.core.frame.DataFrame'>\n",
      "Int64Index: 3009 entries, 1 to 3009\n",
      "Data columns (total 8 columns):\n",
      " #   Column       Non-Null Count  Dtype \n",
      "---  ------       --------------  ----- \n",
      " 0   first_name   2984 non-null   object\n",
      " 1   last_name    1142 non-null   object\n",
      " 2   sex          2996 non-null   object\n",
      " 3   title        1398 non-null   object\n",
      " 4   birth_date   1734 non-null   object\n",
      " 5   birth_place  486 non-null    object\n",
      " 6   death_date   1692 non-null   object\n",
      " 7   death_place  449 non-null    object\n",
      "dtypes: object(8)\n",
      "memory usage: 211.6+ KB\n"
     ]
    }
   ],
   "source": [
    "df.info()"
   ]
  },
  {
   "cell_type": "markdown",
   "id": "15a0504e-2420-4f5d-8f3b-5cf42c7bb006",
   "metadata": {},
   "source": [
    "### Dropping or Removing Data"
   ]
  },
  {
   "cell_type": "markdown",
   "id": "c77cabb3-896d-4392-b53f-0bb0fc3d6ad7",
   "metadata": {},
   "source": [
    "There are many reasons why you might want to drop or remove data. For example, it could be that only some data is relevant to your analysis. Or, it could be that some data is insufficient or corrupt, and leaving it in would lead to incorrect conclusions. Also, sometimes certain columns aren't of interest to the analysis in question.\n",
    "\n",
    "If we want to drop entire columns, we can use the \"drop\" function:"
   ]
  },
  {
   "cell_type": "code",
   "execution_count": 228,
   "id": "6b5dea34-8c68-4071-8655-14e28bfa1b83",
   "metadata": {},
   "outputs": [
    {
     "data": {
      "text/html": [
       "<div>\n",
       "<style scoped>\n",
       "    .dataframe tbody tr th:only-of-type {\n",
       "        vertical-align: middle;\n",
       "    }\n",
       "\n",
       "    .dataframe tbody tr th {\n",
       "        vertical-align: top;\n",
       "    }\n",
       "\n",
       "    .dataframe thead th {\n",
       "        text-align: right;\n",
       "    }\n",
       "</style>\n",
       "<table border=\"1\" class=\"dataframe\">\n",
       "  <thead>\n",
       "    <tr style=\"text-align: right;\">\n",
       "      <th></th>\n",
       "      <th>first_name</th>\n",
       "      <th>last_name</th>\n",
       "      <th>sex</th>\n",
       "      <th>title</th>\n",
       "      <th>birth_date</th>\n",
       "      <th>death_date</th>\n",
       "    </tr>\n",
       "    <tr>\n",
       "      <th>ID</th>\n",
       "      <th></th>\n",
       "      <th></th>\n",
       "      <th></th>\n",
       "      <th></th>\n",
       "      <th></th>\n",
       "      <th></th>\n",
       "    </tr>\n",
       "  </thead>\n",
       "  <tbody>\n",
       "    <tr>\n",
       "      <th>1</th>\n",
       "      <td>Victoria</td>\n",
       "      <td>Hanover</td>\n",
       "      <td>F</td>\n",
       "      <td>Queen of England</td>\n",
       "      <td>24 MAY 1819</td>\n",
       "      <td>22 JAN 1901</td>\n",
       "    </tr>\n",
       "    <tr>\n",
       "      <th>2</th>\n",
       "      <td>Albert Augustus Charles</td>\n",
       "      <td>NaN</td>\n",
       "      <td>M</td>\n",
       "      <td>Prince</td>\n",
       "      <td>26 AUG 1819</td>\n",
       "      <td>14 DEC 1861</td>\n",
       "    </tr>\n",
       "    <tr>\n",
       "      <th>3</th>\n",
       "      <td>Victoria Adelaide Mary</td>\n",
       "      <td>NaN</td>\n",
       "      <td>F</td>\n",
       "      <td>Princess Royal</td>\n",
       "      <td>21 NOV 1840</td>\n",
       "      <td>5 AUG 1901</td>\n",
       "    </tr>\n",
       "    <tr>\n",
       "      <th>4</th>\n",
       "      <td>Edward_VII</td>\n",
       "      <td>Wettin</td>\n",
       "      <td>M</td>\n",
       "      <td>King of England</td>\n",
       "      <td>9 NOV 1841</td>\n",
       "      <td>6 MAY 1910</td>\n",
       "    </tr>\n",
       "    <tr>\n",
       "      <th>5</th>\n",
       "      <td>Alice Maud Mary</td>\n",
       "      <td>NaN</td>\n",
       "      <td>F</td>\n",
       "      <td>Princess</td>\n",
       "      <td>25 APR 1843</td>\n",
       "      <td>14 DEC 1878</td>\n",
       "    </tr>\n",
       "    <tr>\n",
       "      <th>...</th>\n",
       "      <td>...</td>\n",
       "      <td>...</td>\n",
       "      <td>...</td>\n",
       "      <td>...</td>\n",
       "      <td>...</td>\n",
       "      <td>...</td>\n",
       "    </tr>\n",
       "    <tr>\n",
       "      <th>3005</th>\n",
       "      <td>Emily</td>\n",
       "      <td>Scobell</td>\n",
       "      <td>F</td>\n",
       "      <td>NaN</td>\n",
       "      <td>NaN</td>\n",
       "      <td>NaN</td>\n",
       "    </tr>\n",
       "    <tr>\n",
       "      <th>3006</th>\n",
       "      <td>John Sanford</td>\n",
       "      <td>Scobell</td>\n",
       "      <td>M</td>\n",
       "      <td>Sir</td>\n",
       "      <td>1879</td>\n",
       "      <td>NaN</td>\n",
       "    </tr>\n",
       "    <tr>\n",
       "      <th>3007</th>\n",
       "      <td>James</td>\n",
       "      <td>Cartland</td>\n",
       "      <td>M</td>\n",
       "      <td>NaN</td>\n",
       "      <td>NaN</td>\n",
       "      <td>NaN</td>\n",
       "    </tr>\n",
       "    <tr>\n",
       "      <th>3008</th>\n",
       "      <td>Flora</td>\n",
       "      <td>NaN</td>\n",
       "      <td>F</td>\n",
       "      <td>NaN</td>\n",
       "      <td>NaN</td>\n",
       "      <td>NaN</td>\n",
       "    </tr>\n",
       "    <tr>\n",
       "      <th>3009</th>\n",
       "      <td>NaN</td>\n",
       "      <td>Cartland</td>\n",
       "      <td>F</td>\n",
       "      <td>NaN</td>\n",
       "      <td>NaN</td>\n",
       "      <td>ABT    1911</td>\n",
       "    </tr>\n",
       "  </tbody>\n",
       "</table>\n",
       "<p>3009 rows × 6 columns</p>\n",
       "</div>"
      ],
      "text/plain": [
       "                   first_name last_name sex             title   birth_date  \\\n",
       "ID                                                                           \n",
       "1                    Victoria   Hanover   F  Queen of England  24 MAY 1819   \n",
       "2     Albert Augustus Charles       NaN   M            Prince  26 AUG 1819   \n",
       "3      Victoria Adelaide Mary       NaN   F    Princess Royal  21 NOV 1840   \n",
       "4                  Edward_VII    Wettin   M   King of England   9 NOV 1841   \n",
       "5             Alice Maud Mary       NaN   F          Princess  25 APR 1843   \n",
       "...                       ...       ...  ..               ...          ...   \n",
       "3005                    Emily   Scobell   F               NaN          NaN   \n",
       "3006             John Sanford   Scobell   M               Sir         1879   \n",
       "3007                    James  Cartland   M               NaN          NaN   \n",
       "3008                    Flora       NaN   F               NaN          NaN   \n",
       "3009                      NaN  Cartland   F               NaN          NaN   \n",
       "\n",
       "       death_date  \n",
       "ID                 \n",
       "1     22 JAN 1901  \n",
       "2     14 DEC 1861  \n",
       "3      5 AUG 1901  \n",
       "4      6 MAY 1910  \n",
       "5     14 DEC 1878  \n",
       "...           ...  \n",
       "3005          NaN  \n",
       "3006          NaN  \n",
       "3007          NaN  \n",
       "3008          NaN  \n",
       "3009  ABT    1911  \n",
       "\n",
       "[3009 rows x 6 columns]"
      ]
     },
     "execution_count": 228,
     "metadata": {},
     "output_type": "execute_result"
    }
   ],
   "source": [
    "df.drop(columns = ['birth_place', 'death_place'])"
   ]
  },
  {
   "cell_type": "markdown",
   "id": "e4d34ee4-3e7e-45c8-9acf-d95322ea8060",
   "metadata": {},
   "source": [
    "However, while the dataframe above only has six columns, if we call it again we get:"
   ]
  },
  {
   "cell_type": "code",
   "execution_count": 230,
   "id": "c709de56-5024-4e99-81ed-5201004b50e7",
   "metadata": {},
   "outputs": [
    {
     "data": {
      "text/html": [
       "<div>\n",
       "<style scoped>\n",
       "    .dataframe tbody tr th:only-of-type {\n",
       "        vertical-align: middle;\n",
       "    }\n",
       "\n",
       "    .dataframe tbody tr th {\n",
       "        vertical-align: top;\n",
       "    }\n",
       "\n",
       "    .dataframe thead th {\n",
       "        text-align: right;\n",
       "    }\n",
       "</style>\n",
       "<table border=\"1\" class=\"dataframe\">\n",
       "  <thead>\n",
       "    <tr style=\"text-align: right;\">\n",
       "      <th></th>\n",
       "      <th>first_name</th>\n",
       "      <th>last_name</th>\n",
       "      <th>sex</th>\n",
       "      <th>title</th>\n",
       "      <th>birth_date</th>\n",
       "      <th>birth_place</th>\n",
       "      <th>death_date</th>\n",
       "      <th>death_place</th>\n",
       "    </tr>\n",
       "    <tr>\n",
       "      <th>ID</th>\n",
       "      <th></th>\n",
       "      <th></th>\n",
       "      <th></th>\n",
       "      <th></th>\n",
       "      <th></th>\n",
       "      <th></th>\n",
       "      <th></th>\n",
       "      <th></th>\n",
       "    </tr>\n",
       "  </thead>\n",
       "  <tbody>\n",
       "    <tr>\n",
       "      <th>1</th>\n",
       "      <td>Victoria</td>\n",
       "      <td>Hanover</td>\n",
       "      <td>F</td>\n",
       "      <td>Queen of England</td>\n",
       "      <td>24 MAY 1819</td>\n",
       "      <td>Kensington,Palace,London,England</td>\n",
       "      <td>22 JAN 1901</td>\n",
       "      <td>Osborne House,Isle of Wight,England</td>\n",
       "    </tr>\n",
       "    <tr>\n",
       "      <th>2</th>\n",
       "      <td>Albert Augustus Charles</td>\n",
       "      <td>NaN</td>\n",
       "      <td>M</td>\n",
       "      <td>Prince</td>\n",
       "      <td>26 AUG 1819</td>\n",
       "      <td>Schloss Rosenau,Near Coburg,Germany</td>\n",
       "      <td>14 DEC 1861</td>\n",
       "      <td>Windsor Castle,Berkshire,England</td>\n",
       "    </tr>\n",
       "    <tr>\n",
       "      <th>3</th>\n",
       "      <td>Victoria Adelaide Mary</td>\n",
       "      <td>NaN</td>\n",
       "      <td>F</td>\n",
       "      <td>Princess Royal</td>\n",
       "      <td>21 NOV 1840</td>\n",
       "      <td>Buckingham,Palace,London,England</td>\n",
       "      <td>5 AUG 1901</td>\n",
       "      <td>Friedrichshof,Near,Kronberg,Taunus</td>\n",
       "    </tr>\n",
       "    <tr>\n",
       "      <th>4</th>\n",
       "      <td>Edward_VII</td>\n",
       "      <td>Wettin</td>\n",
       "      <td>M</td>\n",
       "      <td>King of England</td>\n",
       "      <td>9 NOV 1841</td>\n",
       "      <td>Buckingham,Palace,London,England</td>\n",
       "      <td>6 MAY 1910</td>\n",
       "      <td>Buckingham,Palace,London,England</td>\n",
       "    </tr>\n",
       "    <tr>\n",
       "      <th>5</th>\n",
       "      <td>Alice Maud Mary</td>\n",
       "      <td>NaN</td>\n",
       "      <td>F</td>\n",
       "      <td>Princess</td>\n",
       "      <td>25 APR 1843</td>\n",
       "      <td>Buckingham,Palace,London,England</td>\n",
       "      <td>14 DEC 1878</td>\n",
       "      <td>Darmstadt,,,Germany</td>\n",
       "    </tr>\n",
       "    <tr>\n",
       "      <th>...</th>\n",
       "      <td>...</td>\n",
       "      <td>...</td>\n",
       "      <td>...</td>\n",
       "      <td>...</td>\n",
       "      <td>...</td>\n",
       "      <td>...</td>\n",
       "      <td>...</td>\n",
       "      <td>...</td>\n",
       "    </tr>\n",
       "    <tr>\n",
       "      <th>3005</th>\n",
       "      <td>Emily</td>\n",
       "      <td>Scobell</td>\n",
       "      <td>F</td>\n",
       "      <td>NaN</td>\n",
       "      <td>NaN</td>\n",
       "      <td>NaN</td>\n",
       "      <td>NaN</td>\n",
       "      <td>NaN</td>\n",
       "    </tr>\n",
       "    <tr>\n",
       "      <th>3006</th>\n",
       "      <td>John Sanford</td>\n",
       "      <td>Scobell</td>\n",
       "      <td>M</td>\n",
       "      <td>Sir</td>\n",
       "      <td>1879</td>\n",
       "      <td>NaN</td>\n",
       "      <td>NaN</td>\n",
       "      <td>NaN</td>\n",
       "    </tr>\n",
       "    <tr>\n",
       "      <th>3007</th>\n",
       "      <td>James</td>\n",
       "      <td>Cartland</td>\n",
       "      <td>M</td>\n",
       "      <td>NaN</td>\n",
       "      <td>NaN</td>\n",
       "      <td>NaN</td>\n",
       "      <td>NaN</td>\n",
       "      <td>NaN</td>\n",
       "    </tr>\n",
       "    <tr>\n",
       "      <th>3008</th>\n",
       "      <td>Flora</td>\n",
       "      <td>NaN</td>\n",
       "      <td>F</td>\n",
       "      <td>NaN</td>\n",
       "      <td>NaN</td>\n",
       "      <td>NaN</td>\n",
       "      <td>NaN</td>\n",
       "      <td>NaN</td>\n",
       "    </tr>\n",
       "    <tr>\n",
       "      <th>3009</th>\n",
       "      <td>NaN</td>\n",
       "      <td>Cartland</td>\n",
       "      <td>F</td>\n",
       "      <td>NaN</td>\n",
       "      <td>NaN</td>\n",
       "      <td>NaN</td>\n",
       "      <td>ABT    1911</td>\n",
       "      <td>NaN</td>\n",
       "    </tr>\n",
       "  </tbody>\n",
       "</table>\n",
       "<p>3009 rows × 8 columns</p>\n",
       "</div>"
      ],
      "text/plain": [
       "                   first_name last_name sex             title   birth_date  \\\n",
       "ID                                                                           \n",
       "1                    Victoria   Hanover   F  Queen of England  24 MAY 1819   \n",
       "2     Albert Augustus Charles       NaN   M            Prince  26 AUG 1819   \n",
       "3      Victoria Adelaide Mary       NaN   F    Princess Royal  21 NOV 1840   \n",
       "4                  Edward_VII    Wettin   M   King of England   9 NOV 1841   \n",
       "5             Alice Maud Mary       NaN   F          Princess  25 APR 1843   \n",
       "...                       ...       ...  ..               ...          ...   \n",
       "3005                    Emily   Scobell   F               NaN          NaN   \n",
       "3006             John Sanford   Scobell   M               Sir         1879   \n",
       "3007                    James  Cartland   M               NaN          NaN   \n",
       "3008                    Flora       NaN   F               NaN          NaN   \n",
       "3009                      NaN  Cartland   F               NaN          NaN   \n",
       "\n",
       "                              birth_place   death_date  \\\n",
       "ID                                                       \n",
       "1        Kensington,Palace,London,England  22 JAN 1901   \n",
       "2     Schloss Rosenau,Near Coburg,Germany  14 DEC 1861   \n",
       "3        Buckingham,Palace,London,England   5 AUG 1901   \n",
       "4        Buckingham,Palace,London,England   6 MAY 1910   \n",
       "5        Buckingham,Palace,London,England  14 DEC 1878   \n",
       "...                                   ...          ...   \n",
       "3005                                  NaN          NaN   \n",
       "3006                                  NaN          NaN   \n",
       "3007                                  NaN          NaN   \n",
       "3008                                  NaN          NaN   \n",
       "3009                                  NaN  ABT    1911   \n",
       "\n",
       "                              death_place  \n",
       "ID                                         \n",
       "1     Osborne House,Isle of Wight,England  \n",
       "2        Windsor Castle,Berkshire,England  \n",
       "3      Friedrichshof,Near,Kronberg,Taunus  \n",
       "4        Buckingham,Palace,London,England  \n",
       "5                     Darmstadt,,,Germany  \n",
       "...                                   ...  \n",
       "3005                                  NaN  \n",
       "3006                                  NaN  \n",
       "3007                                  NaN  \n",
       "3008                                  NaN  \n",
       "3009                                  NaN  \n",
       "\n",
       "[3009 rows x 8 columns]"
      ]
     },
     "execution_count": 230,
     "metadata": {},
     "output_type": "execute_result"
    }
   ],
   "source": [
    "df"
   ]
  },
  {
   "cell_type": "markdown",
   "id": "ea64b6ea-517a-4832-bc4b-d1b1995c74dc",
   "metadata": {},
   "source": [
    "What?!? I thought we dropped two!\n",
    "\n",
    "What's going on here is that the drop command creates a new dataframe as its output. It *does not* modify the original dataframe. So, for example, we could say:"
   ]
  },
  {
   "cell_type": "code",
   "execution_count": 232,
   "id": "4812ab77-01d7-4bcd-9603-7c002e63c308",
   "metadata": {},
   "outputs": [
    {
     "data": {
      "text/html": [
       "<div>\n",
       "<style scoped>\n",
       "    .dataframe tbody tr th:only-of-type {\n",
       "        vertical-align: middle;\n",
       "    }\n",
       "\n",
       "    .dataframe tbody tr th {\n",
       "        vertical-align: top;\n",
       "    }\n",
       "\n",
       "    .dataframe thead th {\n",
       "        text-align: right;\n",
       "    }\n",
       "</style>\n",
       "<table border=\"1\" class=\"dataframe\">\n",
       "  <thead>\n",
       "    <tr style=\"text-align: right;\">\n",
       "      <th></th>\n",
       "      <th>first_name</th>\n",
       "      <th>last_name</th>\n",
       "      <th>sex</th>\n",
       "      <th>title</th>\n",
       "      <th>birth_date</th>\n",
       "      <th>death_date</th>\n",
       "    </tr>\n",
       "    <tr>\n",
       "      <th>ID</th>\n",
       "      <th></th>\n",
       "      <th></th>\n",
       "      <th></th>\n",
       "      <th></th>\n",
       "      <th></th>\n",
       "      <th></th>\n",
       "    </tr>\n",
       "  </thead>\n",
       "  <tbody>\n",
       "    <tr>\n",
       "      <th>1</th>\n",
       "      <td>Victoria</td>\n",
       "      <td>Hanover</td>\n",
       "      <td>F</td>\n",
       "      <td>Queen of England</td>\n",
       "      <td>24 MAY 1819</td>\n",
       "      <td>22 JAN 1901</td>\n",
       "    </tr>\n",
       "    <tr>\n",
       "      <th>2</th>\n",
       "      <td>Albert Augustus Charles</td>\n",
       "      <td>NaN</td>\n",
       "      <td>M</td>\n",
       "      <td>Prince</td>\n",
       "      <td>26 AUG 1819</td>\n",
       "      <td>14 DEC 1861</td>\n",
       "    </tr>\n",
       "    <tr>\n",
       "      <th>3</th>\n",
       "      <td>Victoria Adelaide Mary</td>\n",
       "      <td>NaN</td>\n",
       "      <td>F</td>\n",
       "      <td>Princess Royal</td>\n",
       "      <td>21 NOV 1840</td>\n",
       "      <td>5 AUG 1901</td>\n",
       "    </tr>\n",
       "    <tr>\n",
       "      <th>4</th>\n",
       "      <td>Edward_VII</td>\n",
       "      <td>Wettin</td>\n",
       "      <td>M</td>\n",
       "      <td>King of England</td>\n",
       "      <td>9 NOV 1841</td>\n",
       "      <td>6 MAY 1910</td>\n",
       "    </tr>\n",
       "    <tr>\n",
       "      <th>5</th>\n",
       "      <td>Alice Maud Mary</td>\n",
       "      <td>NaN</td>\n",
       "      <td>F</td>\n",
       "      <td>Princess</td>\n",
       "      <td>25 APR 1843</td>\n",
       "      <td>14 DEC 1878</td>\n",
       "    </tr>\n",
       "    <tr>\n",
       "      <th>...</th>\n",
       "      <td>...</td>\n",
       "      <td>...</td>\n",
       "      <td>...</td>\n",
       "      <td>...</td>\n",
       "      <td>...</td>\n",
       "      <td>...</td>\n",
       "    </tr>\n",
       "    <tr>\n",
       "      <th>3005</th>\n",
       "      <td>Emily</td>\n",
       "      <td>Scobell</td>\n",
       "      <td>F</td>\n",
       "      <td>NaN</td>\n",
       "      <td>NaN</td>\n",
       "      <td>NaN</td>\n",
       "    </tr>\n",
       "    <tr>\n",
       "      <th>3006</th>\n",
       "      <td>John Sanford</td>\n",
       "      <td>Scobell</td>\n",
       "      <td>M</td>\n",
       "      <td>Sir</td>\n",
       "      <td>1879</td>\n",
       "      <td>NaN</td>\n",
       "    </tr>\n",
       "    <tr>\n",
       "      <th>3007</th>\n",
       "      <td>James</td>\n",
       "      <td>Cartland</td>\n",
       "      <td>M</td>\n",
       "      <td>NaN</td>\n",
       "      <td>NaN</td>\n",
       "      <td>NaN</td>\n",
       "    </tr>\n",
       "    <tr>\n",
       "      <th>3008</th>\n",
       "      <td>Flora</td>\n",
       "      <td>NaN</td>\n",
       "      <td>F</td>\n",
       "      <td>NaN</td>\n",
       "      <td>NaN</td>\n",
       "      <td>NaN</td>\n",
       "    </tr>\n",
       "    <tr>\n",
       "      <th>3009</th>\n",
       "      <td>NaN</td>\n",
       "      <td>Cartland</td>\n",
       "      <td>F</td>\n",
       "      <td>NaN</td>\n",
       "      <td>NaN</td>\n",
       "      <td>ABT    1911</td>\n",
       "    </tr>\n",
       "  </tbody>\n",
       "</table>\n",
       "<p>3009 rows × 6 columns</p>\n",
       "</div>"
      ],
      "text/plain": [
       "                   first_name last_name sex             title   birth_date  \\\n",
       "ID                                                                           \n",
       "1                    Victoria   Hanover   F  Queen of England  24 MAY 1819   \n",
       "2     Albert Augustus Charles       NaN   M            Prince  26 AUG 1819   \n",
       "3      Victoria Adelaide Mary       NaN   F    Princess Royal  21 NOV 1840   \n",
       "4                  Edward_VII    Wettin   M   King of England   9 NOV 1841   \n",
       "5             Alice Maud Mary       NaN   F          Princess  25 APR 1843   \n",
       "...                       ...       ...  ..               ...          ...   \n",
       "3005                    Emily   Scobell   F               NaN          NaN   \n",
       "3006             John Sanford   Scobell   M               Sir         1879   \n",
       "3007                    James  Cartland   M               NaN          NaN   \n",
       "3008                    Flora       NaN   F               NaN          NaN   \n",
       "3009                      NaN  Cartland   F               NaN          NaN   \n",
       "\n",
       "       death_date  \n",
       "ID                 \n",
       "1     22 JAN 1901  \n",
       "2     14 DEC 1861  \n",
       "3      5 AUG 1901  \n",
       "4      6 MAY 1910  \n",
       "5     14 DEC 1878  \n",
       "...           ...  \n",
       "3005          NaN  \n",
       "3006          NaN  \n",
       "3007          NaN  \n",
       "3008          NaN  \n",
       "3009  ABT    1911  \n",
       "\n",
       "[3009 rows x 6 columns]"
      ]
     },
     "execution_count": 232,
     "metadata": {},
     "output_type": "execute_result"
    }
   ],
   "source": [
    "df2 = df.drop(columns = ['birth_place', 'death_place'])\n",
    "df2"
   ]
  },
  {
   "cell_type": "markdown",
   "id": "67b34786-e546-4570-b760-4543d3638dee",
   "metadata": {},
   "source": [
    "Here, df2 is the dataframe with those two columns dropped, while df is the original, unchanged dataframe.\n",
    "\n",
    "If we want to actually make the change to the original dataframe, we can do this with the \"inplace\" parameter."
   ]
  },
  {
   "cell_type": "code",
   "execution_count": 234,
   "id": "303b8a56-1ee0-4b00-aafb-b2f0af2b1da6",
   "metadata": {},
   "outputs": [
    {
     "data": {
      "text/html": [
       "<div>\n",
       "<style scoped>\n",
       "    .dataframe tbody tr th:only-of-type {\n",
       "        vertical-align: middle;\n",
       "    }\n",
       "\n",
       "    .dataframe tbody tr th {\n",
       "        vertical-align: top;\n",
       "    }\n",
       "\n",
       "    .dataframe thead th {\n",
       "        text-align: right;\n",
       "    }\n",
       "</style>\n",
       "<table border=\"1\" class=\"dataframe\">\n",
       "  <thead>\n",
       "    <tr style=\"text-align: right;\">\n",
       "      <th></th>\n",
       "      <th>first_name</th>\n",
       "      <th>last_name</th>\n",
       "      <th>sex</th>\n",
       "      <th>title</th>\n",
       "      <th>birth_date</th>\n",
       "      <th>death_date</th>\n",
       "    </tr>\n",
       "    <tr>\n",
       "      <th>ID</th>\n",
       "      <th></th>\n",
       "      <th></th>\n",
       "      <th></th>\n",
       "      <th></th>\n",
       "      <th></th>\n",
       "      <th></th>\n",
       "    </tr>\n",
       "  </thead>\n",
       "  <tbody>\n",
       "    <tr>\n",
       "      <th>1</th>\n",
       "      <td>Victoria</td>\n",
       "      <td>Hanover</td>\n",
       "      <td>F</td>\n",
       "      <td>Queen of England</td>\n",
       "      <td>24 MAY 1819</td>\n",
       "      <td>22 JAN 1901</td>\n",
       "    </tr>\n",
       "    <tr>\n",
       "      <th>2</th>\n",
       "      <td>Albert Augustus Charles</td>\n",
       "      <td>NaN</td>\n",
       "      <td>M</td>\n",
       "      <td>Prince</td>\n",
       "      <td>26 AUG 1819</td>\n",
       "      <td>14 DEC 1861</td>\n",
       "    </tr>\n",
       "    <tr>\n",
       "      <th>3</th>\n",
       "      <td>Victoria Adelaide Mary</td>\n",
       "      <td>NaN</td>\n",
       "      <td>F</td>\n",
       "      <td>Princess Royal</td>\n",
       "      <td>21 NOV 1840</td>\n",
       "      <td>5 AUG 1901</td>\n",
       "    </tr>\n",
       "    <tr>\n",
       "      <th>4</th>\n",
       "      <td>Edward_VII</td>\n",
       "      <td>Wettin</td>\n",
       "      <td>M</td>\n",
       "      <td>King of England</td>\n",
       "      <td>9 NOV 1841</td>\n",
       "      <td>6 MAY 1910</td>\n",
       "    </tr>\n",
       "    <tr>\n",
       "      <th>5</th>\n",
       "      <td>Alice Maud Mary</td>\n",
       "      <td>NaN</td>\n",
       "      <td>F</td>\n",
       "      <td>Princess</td>\n",
       "      <td>25 APR 1843</td>\n",
       "      <td>14 DEC 1878</td>\n",
       "    </tr>\n",
       "    <tr>\n",
       "      <th>...</th>\n",
       "      <td>...</td>\n",
       "      <td>...</td>\n",
       "      <td>...</td>\n",
       "      <td>...</td>\n",
       "      <td>...</td>\n",
       "      <td>...</td>\n",
       "    </tr>\n",
       "    <tr>\n",
       "      <th>3005</th>\n",
       "      <td>Emily</td>\n",
       "      <td>Scobell</td>\n",
       "      <td>F</td>\n",
       "      <td>NaN</td>\n",
       "      <td>NaN</td>\n",
       "      <td>NaN</td>\n",
       "    </tr>\n",
       "    <tr>\n",
       "      <th>3006</th>\n",
       "      <td>John Sanford</td>\n",
       "      <td>Scobell</td>\n",
       "      <td>M</td>\n",
       "      <td>Sir</td>\n",
       "      <td>1879</td>\n",
       "      <td>NaN</td>\n",
       "    </tr>\n",
       "    <tr>\n",
       "      <th>3007</th>\n",
       "      <td>James</td>\n",
       "      <td>Cartland</td>\n",
       "      <td>M</td>\n",
       "      <td>NaN</td>\n",
       "      <td>NaN</td>\n",
       "      <td>NaN</td>\n",
       "    </tr>\n",
       "    <tr>\n",
       "      <th>3008</th>\n",
       "      <td>Flora</td>\n",
       "      <td>NaN</td>\n",
       "      <td>F</td>\n",
       "      <td>NaN</td>\n",
       "      <td>NaN</td>\n",
       "      <td>NaN</td>\n",
       "    </tr>\n",
       "    <tr>\n",
       "      <th>3009</th>\n",
       "      <td>NaN</td>\n",
       "      <td>Cartland</td>\n",
       "      <td>F</td>\n",
       "      <td>NaN</td>\n",
       "      <td>NaN</td>\n",
       "      <td>ABT    1911</td>\n",
       "    </tr>\n",
       "  </tbody>\n",
       "</table>\n",
       "<p>3009 rows × 6 columns</p>\n",
       "</div>"
      ],
      "text/plain": [
       "                   first_name last_name sex             title   birth_date  \\\n",
       "ID                                                                           \n",
       "1                    Victoria   Hanover   F  Queen of England  24 MAY 1819   \n",
       "2     Albert Augustus Charles       NaN   M            Prince  26 AUG 1819   \n",
       "3      Victoria Adelaide Mary       NaN   F    Princess Royal  21 NOV 1840   \n",
       "4                  Edward_VII    Wettin   M   King of England   9 NOV 1841   \n",
       "5             Alice Maud Mary       NaN   F          Princess  25 APR 1843   \n",
       "...                       ...       ...  ..               ...          ...   \n",
       "3005                    Emily   Scobell   F               NaN          NaN   \n",
       "3006             John Sanford   Scobell   M               Sir         1879   \n",
       "3007                    James  Cartland   M               NaN          NaN   \n",
       "3008                    Flora       NaN   F               NaN          NaN   \n",
       "3009                      NaN  Cartland   F               NaN          NaN   \n",
       "\n",
       "       death_date  \n",
       "ID                 \n",
       "1     22 JAN 1901  \n",
       "2     14 DEC 1861  \n",
       "3      5 AUG 1901  \n",
       "4      6 MAY 1910  \n",
       "5     14 DEC 1878  \n",
       "...           ...  \n",
       "3005          NaN  \n",
       "3006          NaN  \n",
       "3007          NaN  \n",
       "3008          NaN  \n",
       "3009  ABT    1911  \n",
       "\n",
       "[3009 rows x 6 columns]"
      ]
     },
     "execution_count": 234,
     "metadata": {},
     "output_type": "execute_result"
    }
   ],
   "source": [
    "df.drop(columns = ['birth_place', 'death_place'], inplace = True)\n",
    "df"
   ]
  },
  {
   "cell_type": "markdown",
   "id": "31ce9ce4-105a-4bd5-ae88-65b125238e5a",
   "metadata": {},
   "source": [
    "This is the same as:"
   ]
  },
  {
   "cell_type": "code",
   "execution_count": 236,
   "id": "b9cb0f75-a386-47df-9fa6-0508dd9eeea4",
   "metadata": {},
   "outputs": [
    {
     "data": {
      "text/html": [
       "<div>\n",
       "<style scoped>\n",
       "    .dataframe tbody tr th:only-of-type {\n",
       "        vertical-align: middle;\n",
       "    }\n",
       "\n",
       "    .dataframe tbody tr th {\n",
       "        vertical-align: top;\n",
       "    }\n",
       "\n",
       "    .dataframe thead th {\n",
       "        text-align: right;\n",
       "    }\n",
       "</style>\n",
       "<table border=\"1\" class=\"dataframe\">\n",
       "  <thead>\n",
       "    <tr style=\"text-align: right;\">\n",
       "      <th></th>\n",
       "      <th>first_name</th>\n",
       "      <th>last_name</th>\n",
       "      <th>sex</th>\n",
       "      <th>title</th>\n",
       "      <th>birth_date</th>\n",
       "      <th>death_date</th>\n",
       "    </tr>\n",
       "    <tr>\n",
       "      <th>ID</th>\n",
       "      <th></th>\n",
       "      <th></th>\n",
       "      <th></th>\n",
       "      <th></th>\n",
       "      <th></th>\n",
       "      <th></th>\n",
       "    </tr>\n",
       "  </thead>\n",
       "  <tbody>\n",
       "    <tr>\n",
       "      <th>1</th>\n",
       "      <td>Victoria</td>\n",
       "      <td>Hanover</td>\n",
       "      <td>F</td>\n",
       "      <td>Queen of England</td>\n",
       "      <td>24 MAY 1819</td>\n",
       "      <td>22 JAN 1901</td>\n",
       "    </tr>\n",
       "    <tr>\n",
       "      <th>2</th>\n",
       "      <td>Albert Augustus Charles</td>\n",
       "      <td>NaN</td>\n",
       "      <td>M</td>\n",
       "      <td>Prince</td>\n",
       "      <td>26 AUG 1819</td>\n",
       "      <td>14 DEC 1861</td>\n",
       "    </tr>\n",
       "    <tr>\n",
       "      <th>3</th>\n",
       "      <td>Victoria Adelaide Mary</td>\n",
       "      <td>NaN</td>\n",
       "      <td>F</td>\n",
       "      <td>Princess Royal</td>\n",
       "      <td>21 NOV 1840</td>\n",
       "      <td>5 AUG 1901</td>\n",
       "    </tr>\n",
       "    <tr>\n",
       "      <th>4</th>\n",
       "      <td>Edward_VII</td>\n",
       "      <td>Wettin</td>\n",
       "      <td>M</td>\n",
       "      <td>King of England</td>\n",
       "      <td>9 NOV 1841</td>\n",
       "      <td>6 MAY 1910</td>\n",
       "    </tr>\n",
       "    <tr>\n",
       "      <th>5</th>\n",
       "      <td>Alice Maud Mary</td>\n",
       "      <td>NaN</td>\n",
       "      <td>F</td>\n",
       "      <td>Princess</td>\n",
       "      <td>25 APR 1843</td>\n",
       "      <td>14 DEC 1878</td>\n",
       "    </tr>\n",
       "    <tr>\n",
       "      <th>...</th>\n",
       "      <td>...</td>\n",
       "      <td>...</td>\n",
       "      <td>...</td>\n",
       "      <td>...</td>\n",
       "      <td>...</td>\n",
       "      <td>...</td>\n",
       "    </tr>\n",
       "    <tr>\n",
       "      <th>3005</th>\n",
       "      <td>Emily</td>\n",
       "      <td>Scobell</td>\n",
       "      <td>F</td>\n",
       "      <td>NaN</td>\n",
       "      <td>NaN</td>\n",
       "      <td>NaN</td>\n",
       "    </tr>\n",
       "    <tr>\n",
       "      <th>3006</th>\n",
       "      <td>John Sanford</td>\n",
       "      <td>Scobell</td>\n",
       "      <td>M</td>\n",
       "      <td>Sir</td>\n",
       "      <td>1879</td>\n",
       "      <td>NaN</td>\n",
       "    </tr>\n",
       "    <tr>\n",
       "      <th>3007</th>\n",
       "      <td>James</td>\n",
       "      <td>Cartland</td>\n",
       "      <td>M</td>\n",
       "      <td>NaN</td>\n",
       "      <td>NaN</td>\n",
       "      <td>NaN</td>\n",
       "    </tr>\n",
       "    <tr>\n",
       "      <th>3008</th>\n",
       "      <td>Flora</td>\n",
       "      <td>NaN</td>\n",
       "      <td>F</td>\n",
       "      <td>NaN</td>\n",
       "      <td>NaN</td>\n",
       "      <td>NaN</td>\n",
       "    </tr>\n",
       "    <tr>\n",
       "      <th>3009</th>\n",
       "      <td>NaN</td>\n",
       "      <td>Cartland</td>\n",
       "      <td>F</td>\n",
       "      <td>NaN</td>\n",
       "      <td>NaN</td>\n",
       "      <td>ABT    1911</td>\n",
       "    </tr>\n",
       "  </tbody>\n",
       "</table>\n",
       "<p>3009 rows × 6 columns</p>\n",
       "</div>"
      ],
      "text/plain": [
       "                   first_name last_name sex             title   birth_date  \\\n",
       "ID                                                                           \n",
       "1                    Victoria   Hanover   F  Queen of England  24 MAY 1819   \n",
       "2     Albert Augustus Charles       NaN   M            Prince  26 AUG 1819   \n",
       "3      Victoria Adelaide Mary       NaN   F    Princess Royal  21 NOV 1840   \n",
       "4                  Edward_VII    Wettin   M   King of England   9 NOV 1841   \n",
       "5             Alice Maud Mary       NaN   F          Princess  25 APR 1843   \n",
       "...                       ...       ...  ..               ...          ...   \n",
       "3005                    Emily   Scobell   F               NaN          NaN   \n",
       "3006             John Sanford   Scobell   M               Sir         1879   \n",
       "3007                    James  Cartland   M               NaN          NaN   \n",
       "3008                    Flora       NaN   F               NaN          NaN   \n",
       "3009                      NaN  Cartland   F               NaN          NaN   \n",
       "\n",
       "       death_date  \n",
       "ID                 \n",
       "1     22 JAN 1901  \n",
       "2     14 DEC 1861  \n",
       "3      5 AUG 1901  \n",
       "4      6 MAY 1910  \n",
       "5     14 DEC 1878  \n",
       "...           ...  \n",
       "3005          NaN  \n",
       "3006          NaN  \n",
       "3007          NaN  \n",
       "3008          NaN  \n",
       "3009  ABT    1911  \n",
       "\n",
       "[3009 rows x 6 columns]"
      ]
     },
     "execution_count": 236,
     "metadata": {},
     "output_type": "execute_result"
    }
   ],
   "source": [
    "df = pd.read_csv(path, index_col='ID')\n",
    "df = df.drop(columns = ['birth_place', 'death_place'])\n",
    "df"
   ]
  },
  {
   "cell_type": "markdown",
   "id": "7d3b6dae-d53a-4bcb-b6ab-376bdd01a497",
   "metadata": {},
   "source": [
    "You can also drop rows by indicating specific indices:"
   ]
  },
  {
   "cell_type": "code",
   "execution_count": 238,
   "id": "dec7a920-d649-4cec-900b-9af7d10462d8",
   "metadata": {},
   "outputs": [
    {
     "data": {
      "text/html": [
       "<div>\n",
       "<style scoped>\n",
       "    .dataframe tbody tr th:only-of-type {\n",
       "        vertical-align: middle;\n",
       "    }\n",
       "\n",
       "    .dataframe tbody tr th {\n",
       "        vertical-align: top;\n",
       "    }\n",
       "\n",
       "    .dataframe thead th {\n",
       "        text-align: right;\n",
       "    }\n",
       "</style>\n",
       "<table border=\"1\" class=\"dataframe\">\n",
       "  <thead>\n",
       "    <tr style=\"text-align: right;\">\n",
       "      <th></th>\n",
       "      <th>first_name</th>\n",
       "      <th>last_name</th>\n",
       "      <th>sex</th>\n",
       "      <th>title</th>\n",
       "      <th>birth_date</th>\n",
       "      <th>birth_place</th>\n",
       "      <th>death_date</th>\n",
       "      <th>death_place</th>\n",
       "    </tr>\n",
       "    <tr>\n",
       "      <th>ID</th>\n",
       "      <th></th>\n",
       "      <th></th>\n",
       "      <th></th>\n",
       "      <th></th>\n",
       "      <th></th>\n",
       "      <th></th>\n",
       "      <th></th>\n",
       "      <th></th>\n",
       "    </tr>\n",
       "  </thead>\n",
       "  <tbody>\n",
       "    <tr>\n",
       "      <th>1</th>\n",
       "      <td>Victoria</td>\n",
       "      <td>Hanover</td>\n",
       "      <td>F</td>\n",
       "      <td>Queen of England</td>\n",
       "      <td>24 MAY 1819</td>\n",
       "      <td>Kensington,Palace,London,England</td>\n",
       "      <td>22 JAN 1901</td>\n",
       "      <td>Osborne House,Isle of Wight,England</td>\n",
       "    </tr>\n",
       "    <tr>\n",
       "      <th>2</th>\n",
       "      <td>Albert Augustus Charles</td>\n",
       "      <td>NaN</td>\n",
       "      <td>M</td>\n",
       "      <td>Prince</td>\n",
       "      <td>26 AUG 1819</td>\n",
       "      <td>Schloss Rosenau,Near Coburg,Germany</td>\n",
       "      <td>14 DEC 1861</td>\n",
       "      <td>Windsor Castle,Berkshire,England</td>\n",
       "    </tr>\n",
       "    <tr>\n",
       "      <th>3</th>\n",
       "      <td>Victoria Adelaide Mary</td>\n",
       "      <td>NaN</td>\n",
       "      <td>F</td>\n",
       "      <td>Princess Royal</td>\n",
       "      <td>21 NOV 1840</td>\n",
       "      <td>Buckingham,Palace,London,England</td>\n",
       "      <td>5 AUG 1901</td>\n",
       "      <td>Friedrichshof,Near,Kronberg,Taunus</td>\n",
       "    </tr>\n",
       "    <tr>\n",
       "      <th>7</th>\n",
       "      <td>Helena Augusta Victoria</td>\n",
       "      <td>NaN</td>\n",
       "      <td>F</td>\n",
       "      <td>Princess</td>\n",
       "      <td>25 MAY 1846</td>\n",
       "      <td>Buckingham,Palace,London,England</td>\n",
       "      <td>9 JUN 1923</td>\n",
       "      <td>Schomberg House,Pall Mall,London,England</td>\n",
       "    </tr>\n",
       "    <tr>\n",
       "      <th>8</th>\n",
       "      <td>Louise Caroline Alberta</td>\n",
       "      <td>NaN</td>\n",
       "      <td>F</td>\n",
       "      <td>Princess</td>\n",
       "      <td>18 MAR 1848</td>\n",
       "      <td>Buckingham,Palace,London,England</td>\n",
       "      <td>3 DEC 1939</td>\n",
       "      <td>Kensington,Palace,London,England</td>\n",
       "    </tr>\n",
       "    <tr>\n",
       "      <th>...</th>\n",
       "      <td>...</td>\n",
       "      <td>...</td>\n",
       "      <td>...</td>\n",
       "      <td>...</td>\n",
       "      <td>...</td>\n",
       "      <td>...</td>\n",
       "      <td>...</td>\n",
       "      <td>...</td>\n",
       "    </tr>\n",
       "    <tr>\n",
       "      <th>3005</th>\n",
       "      <td>Emily</td>\n",
       "      <td>Scobell</td>\n",
       "      <td>F</td>\n",
       "      <td>NaN</td>\n",
       "      <td>NaN</td>\n",
       "      <td>NaN</td>\n",
       "      <td>NaN</td>\n",
       "      <td>NaN</td>\n",
       "    </tr>\n",
       "    <tr>\n",
       "      <th>3006</th>\n",
       "      <td>John Sanford</td>\n",
       "      <td>Scobell</td>\n",
       "      <td>M</td>\n",
       "      <td>Sir</td>\n",
       "      <td>1879</td>\n",
       "      <td>NaN</td>\n",
       "      <td>NaN</td>\n",
       "      <td>NaN</td>\n",
       "    </tr>\n",
       "    <tr>\n",
       "      <th>3007</th>\n",
       "      <td>James</td>\n",
       "      <td>Cartland</td>\n",
       "      <td>M</td>\n",
       "      <td>NaN</td>\n",
       "      <td>NaN</td>\n",
       "      <td>NaN</td>\n",
       "      <td>NaN</td>\n",
       "      <td>NaN</td>\n",
       "    </tr>\n",
       "    <tr>\n",
       "      <th>3008</th>\n",
       "      <td>Flora</td>\n",
       "      <td>NaN</td>\n",
       "      <td>F</td>\n",
       "      <td>NaN</td>\n",
       "      <td>NaN</td>\n",
       "      <td>NaN</td>\n",
       "      <td>NaN</td>\n",
       "      <td>NaN</td>\n",
       "    </tr>\n",
       "    <tr>\n",
       "      <th>3009</th>\n",
       "      <td>NaN</td>\n",
       "      <td>Cartland</td>\n",
       "      <td>F</td>\n",
       "      <td>NaN</td>\n",
       "      <td>NaN</td>\n",
       "      <td>NaN</td>\n",
       "      <td>ABT    1911</td>\n",
       "      <td>NaN</td>\n",
       "    </tr>\n",
       "  </tbody>\n",
       "</table>\n",
       "<p>3006 rows × 8 columns</p>\n",
       "</div>"
      ],
      "text/plain": [
       "                   first_name last_name sex             title   birth_date  \\\n",
       "ID                                                                           \n",
       "1                    Victoria   Hanover   F  Queen of England  24 MAY 1819   \n",
       "2     Albert Augustus Charles       NaN   M            Prince  26 AUG 1819   \n",
       "3      Victoria Adelaide Mary       NaN   F    Princess Royal  21 NOV 1840   \n",
       "7     Helena Augusta Victoria       NaN   F          Princess  25 MAY 1846   \n",
       "8     Louise Caroline Alberta       NaN   F          Princess  18 MAR 1848   \n",
       "...                       ...       ...  ..               ...          ...   \n",
       "3005                    Emily   Scobell   F               NaN          NaN   \n",
       "3006             John Sanford   Scobell   M               Sir         1879   \n",
       "3007                    James  Cartland   M               NaN          NaN   \n",
       "3008                    Flora       NaN   F               NaN          NaN   \n",
       "3009                      NaN  Cartland   F               NaN          NaN   \n",
       "\n",
       "                              birth_place   death_date  \\\n",
       "ID                                                       \n",
       "1        Kensington,Palace,London,England  22 JAN 1901   \n",
       "2     Schloss Rosenau,Near Coburg,Germany  14 DEC 1861   \n",
       "3        Buckingham,Palace,London,England   5 AUG 1901   \n",
       "7        Buckingham,Palace,London,England   9 JUN 1923   \n",
       "8        Buckingham,Palace,London,England   3 DEC 1939   \n",
       "...                                   ...          ...   \n",
       "3005                                  NaN          NaN   \n",
       "3006                                  NaN          NaN   \n",
       "3007                                  NaN          NaN   \n",
       "3008                                  NaN          NaN   \n",
       "3009                                  NaN  ABT    1911   \n",
       "\n",
       "                                   death_place  \n",
       "ID                                              \n",
       "1          Osborne House,Isle of Wight,England  \n",
       "2             Windsor Castle,Berkshire,England  \n",
       "3           Friedrichshof,Near,Kronberg,Taunus  \n",
       "7     Schomberg House,Pall Mall,London,England  \n",
       "8             Kensington,Palace,London,England  \n",
       "...                                        ...  \n",
       "3005                                       NaN  \n",
       "3006                                       NaN  \n",
       "3007                                       NaN  \n",
       "3008                                       NaN  \n",
       "3009                                       NaN  \n",
       "\n",
       "[3006 rows x 8 columns]"
      ]
     },
     "execution_count": 238,
     "metadata": {},
     "output_type": "execute_result"
    }
   ],
   "source": [
    "df = pd.read_csv(path, index_col='ID')\n",
    "df.drop(index=[4,5,6], inplace=True)\n",
    "df"
   ]
  },
  {
   "cell_type": "markdown",
   "id": "89adbf10-7c85-4a6b-8235-8b87109ca047",
   "metadata": {},
   "source": [
    "Or, by using df.index, which avoids potential variations in index numbering and always references the first row starting with $0$."
   ]
  },
  {
   "cell_type": "code",
   "execution_count": 240,
   "id": "b0322522-464d-41de-9807-ac89c112761b",
   "metadata": {},
   "outputs": [
    {
     "data": {
      "text/html": [
       "<div>\n",
       "<style scoped>\n",
       "    .dataframe tbody tr th:only-of-type {\n",
       "        vertical-align: middle;\n",
       "    }\n",
       "\n",
       "    .dataframe tbody tr th {\n",
       "        vertical-align: top;\n",
       "    }\n",
       "\n",
       "    .dataframe thead th {\n",
       "        text-align: right;\n",
       "    }\n",
       "</style>\n",
       "<table border=\"1\" class=\"dataframe\">\n",
       "  <thead>\n",
       "    <tr style=\"text-align: right;\">\n",
       "      <th></th>\n",
       "      <th>first_name</th>\n",
       "      <th>last_name</th>\n",
       "      <th>sex</th>\n",
       "      <th>title</th>\n",
       "      <th>birth_date</th>\n",
       "      <th>birth_place</th>\n",
       "      <th>death_date</th>\n",
       "      <th>death_place</th>\n",
       "    </tr>\n",
       "    <tr>\n",
       "      <th>ID</th>\n",
       "      <th></th>\n",
       "      <th></th>\n",
       "      <th></th>\n",
       "      <th></th>\n",
       "      <th></th>\n",
       "      <th></th>\n",
       "      <th></th>\n",
       "      <th></th>\n",
       "    </tr>\n",
       "  </thead>\n",
       "  <tbody>\n",
       "    <tr>\n",
       "      <th>3</th>\n",
       "      <td>Victoria Adelaide Mary</td>\n",
       "      <td>NaN</td>\n",
       "      <td>F</td>\n",
       "      <td>Princess Royal</td>\n",
       "      <td>21 NOV 1840</td>\n",
       "      <td>Buckingham,Palace,London,England</td>\n",
       "      <td>5 AUG 1901</td>\n",
       "      <td>Friedrichshof,Near,Kronberg,Taunus</td>\n",
       "    </tr>\n",
       "    <tr>\n",
       "      <th>7</th>\n",
       "      <td>Helena Augusta Victoria</td>\n",
       "      <td>NaN</td>\n",
       "      <td>F</td>\n",
       "      <td>Princess</td>\n",
       "      <td>25 MAY 1846</td>\n",
       "      <td>Buckingham,Palace,London,England</td>\n",
       "      <td>9 JUN 1923</td>\n",
       "      <td>Schomberg House,Pall Mall,London,England</td>\n",
       "    </tr>\n",
       "    <tr>\n",
       "      <th>8</th>\n",
       "      <td>Louise Caroline Alberta</td>\n",
       "      <td>NaN</td>\n",
       "      <td>F</td>\n",
       "      <td>Princess</td>\n",
       "      <td>18 MAR 1848</td>\n",
       "      <td>Buckingham,Palace,London,England</td>\n",
       "      <td>3 DEC 1939</td>\n",
       "      <td>Kensington,Palace,London,England</td>\n",
       "    </tr>\n",
       "    <tr>\n",
       "      <th>9</th>\n",
       "      <td>Arthur William Patrick</td>\n",
       "      <td>NaN</td>\n",
       "      <td>M</td>\n",
       "      <td>Prince</td>\n",
       "      <td>1 MAY 1850</td>\n",
       "      <td>Buckingham,Palace,London,England</td>\n",
       "      <td>16 JAN 1942</td>\n",
       "      <td>Bagshot Park,Surrey</td>\n",
       "    </tr>\n",
       "    <tr>\n",
       "      <th>10</th>\n",
       "      <td>Leopold George Duncan</td>\n",
       "      <td>NaN</td>\n",
       "      <td>M</td>\n",
       "      <td>Prince</td>\n",
       "      <td>7 APR 1853</td>\n",
       "      <td>Buckingham,Palace,London,England</td>\n",
       "      <td>28 MAR 1884</td>\n",
       "      <td>Cannes</td>\n",
       "    </tr>\n",
       "    <tr>\n",
       "      <th>...</th>\n",
       "      <td>...</td>\n",
       "      <td>...</td>\n",
       "      <td>...</td>\n",
       "      <td>...</td>\n",
       "      <td>...</td>\n",
       "      <td>...</td>\n",
       "      <td>...</td>\n",
       "      <td>...</td>\n",
       "    </tr>\n",
       "    <tr>\n",
       "      <th>3005</th>\n",
       "      <td>Emily</td>\n",
       "      <td>Scobell</td>\n",
       "      <td>F</td>\n",
       "      <td>NaN</td>\n",
       "      <td>NaN</td>\n",
       "      <td>NaN</td>\n",
       "      <td>NaN</td>\n",
       "      <td>NaN</td>\n",
       "    </tr>\n",
       "    <tr>\n",
       "      <th>3006</th>\n",
       "      <td>John Sanford</td>\n",
       "      <td>Scobell</td>\n",
       "      <td>M</td>\n",
       "      <td>Sir</td>\n",
       "      <td>1879</td>\n",
       "      <td>NaN</td>\n",
       "      <td>NaN</td>\n",
       "      <td>NaN</td>\n",
       "    </tr>\n",
       "    <tr>\n",
       "      <th>3007</th>\n",
       "      <td>James</td>\n",
       "      <td>Cartland</td>\n",
       "      <td>M</td>\n",
       "      <td>NaN</td>\n",
       "      <td>NaN</td>\n",
       "      <td>NaN</td>\n",
       "      <td>NaN</td>\n",
       "      <td>NaN</td>\n",
       "    </tr>\n",
       "    <tr>\n",
       "      <th>3008</th>\n",
       "      <td>Flora</td>\n",
       "      <td>NaN</td>\n",
       "      <td>F</td>\n",
       "      <td>NaN</td>\n",
       "      <td>NaN</td>\n",
       "      <td>NaN</td>\n",
       "      <td>NaN</td>\n",
       "      <td>NaN</td>\n",
       "    </tr>\n",
       "    <tr>\n",
       "      <th>3009</th>\n",
       "      <td>NaN</td>\n",
       "      <td>Cartland</td>\n",
       "      <td>F</td>\n",
       "      <td>NaN</td>\n",
       "      <td>NaN</td>\n",
       "      <td>NaN</td>\n",
       "      <td>ABT    1911</td>\n",
       "      <td>NaN</td>\n",
       "    </tr>\n",
       "  </tbody>\n",
       "</table>\n",
       "<p>3004 rows × 8 columns</p>\n",
       "</div>"
      ],
      "text/plain": [
       "                   first_name last_name sex           title   birth_date  \\\n",
       "ID                                                                         \n",
       "3      Victoria Adelaide Mary       NaN   F  Princess Royal  21 NOV 1840   \n",
       "7     Helena Augusta Victoria       NaN   F        Princess  25 MAY 1846   \n",
       "8     Louise Caroline Alberta       NaN   F        Princess  18 MAR 1848   \n",
       "9      Arthur William Patrick       NaN   M          Prince   1 MAY 1850   \n",
       "10      Leopold George Duncan       NaN   M          Prince   7 APR 1853   \n",
       "...                       ...       ...  ..             ...          ...   \n",
       "3005                    Emily   Scobell   F             NaN          NaN   \n",
       "3006             John Sanford   Scobell   M             Sir         1879   \n",
       "3007                    James  Cartland   M             NaN          NaN   \n",
       "3008                    Flora       NaN   F             NaN          NaN   \n",
       "3009                      NaN  Cartland   F             NaN          NaN   \n",
       "\n",
       "                           birth_place   death_date  \\\n",
       "ID                                                    \n",
       "3     Buckingham,Palace,London,England   5 AUG 1901   \n",
       "7     Buckingham,Palace,London,England   9 JUN 1923   \n",
       "8     Buckingham,Palace,London,England   3 DEC 1939   \n",
       "9     Buckingham,Palace,London,England  16 JAN 1942   \n",
       "10    Buckingham,Palace,London,England  28 MAR 1884   \n",
       "...                                ...          ...   \n",
       "3005                               NaN          NaN   \n",
       "3006                               NaN          NaN   \n",
       "3007                               NaN          NaN   \n",
       "3008                               NaN          NaN   \n",
       "3009                               NaN  ABT    1911   \n",
       "\n",
       "                                   death_place  \n",
       "ID                                              \n",
       "3           Friedrichshof,Near,Kronberg,Taunus  \n",
       "7     Schomberg House,Pall Mall,London,England  \n",
       "8             Kensington,Palace,London,England  \n",
       "9                          Bagshot Park,Surrey  \n",
       "10                                      Cannes  \n",
       "...                                        ...  \n",
       "3005                                       NaN  \n",
       "3006                                       NaN  \n",
       "3007                                       NaN  \n",
       "3008                                       NaN  \n",
       "3009                                       NaN  \n",
       "\n",
       "[3004 rows x 8 columns]"
      ]
     },
     "execution_count": 240,
     "metadata": {},
     "output_type": "execute_result"
    }
   ],
   "source": [
    "df.drop(df.index[0], inplace=True)\n",
    "df.drop(df.index[0], inplace=True)\n",
    "df"
   ]
  },
  {
   "cell_type": "markdown",
   "id": "ed39f111-888c-40ee-87c5-73d144545b94",
   "metadata": {},
   "source": [
    "Each line drops the first row on the dataframe, whatever that first row might be. So, these two lines together drop the first two rows. We can also use standard Python indexing and slicing notation to specify indices here."
   ]
  },
  {
   "cell_type": "markdown",
   "id": "b457c9ef-b21e-4f0d-939c-2572835e4630",
   "metadata": {},
   "source": [
    "The \"drop_duplicates\" function can be used to drop duplicate rows, while the \"dropna\" function drops every row that includes at least one NA entry. Be careful with this one, as it could potentially drop a lot of rows!"
   ]
  },
  {
   "cell_type": "code",
   "execution_count": 244,
   "id": "19f24e58-7000-43d4-84d3-083463688396",
   "metadata": {},
   "outputs": [
    {
     "data": {
      "text/html": [
       "<div>\n",
       "<style scoped>\n",
       "    .dataframe tbody tr th:only-of-type {\n",
       "        vertical-align: middle;\n",
       "    }\n",
       "\n",
       "    .dataframe tbody tr th {\n",
       "        vertical-align: top;\n",
       "    }\n",
       "\n",
       "    .dataframe thead th {\n",
       "        text-align: right;\n",
       "    }\n",
       "</style>\n",
       "<table border=\"1\" class=\"dataframe\">\n",
       "  <thead>\n",
       "    <tr style=\"text-align: right;\">\n",
       "      <th></th>\n",
       "      <th>first_name</th>\n",
       "      <th>last_name</th>\n",
       "      <th>sex</th>\n",
       "      <th>title</th>\n",
       "      <th>birth_date</th>\n",
       "      <th>birth_place</th>\n",
       "      <th>death_date</th>\n",
       "      <th>death_place</th>\n",
       "    </tr>\n",
       "    <tr>\n",
       "      <th>ID</th>\n",
       "      <th></th>\n",
       "      <th></th>\n",
       "      <th></th>\n",
       "      <th></th>\n",
       "      <th></th>\n",
       "      <th></th>\n",
       "      <th></th>\n",
       "      <th></th>\n",
       "    </tr>\n",
       "  </thead>\n",
       "  <tbody>\n",
       "    <tr>\n",
       "      <th>14</th>\n",
       "      <td>George_V</td>\n",
       "      <td>Windsor</td>\n",
       "      <td>M</td>\n",
       "      <td>King of England</td>\n",
       "      <td>3 JUN 1865</td>\n",
       "      <td>Marlborough Hse,London,England</td>\n",
       "      <td>20 JAN 1936</td>\n",
       "      <td>Sandringham,Norfolk,England</td>\n",
       "    </tr>\n",
       "    <tr>\n",
       "      <th>31</th>\n",
       "      <td>Edward_VIII</td>\n",
       "      <td>Windsor</td>\n",
       "      <td>M</td>\n",
       "      <td>Duke of Windsor</td>\n",
       "      <td>23 JUN 1894</td>\n",
       "      <td>White Lodge,Richmond Park,Surrey,England</td>\n",
       "      <td>28 MAY 1972</td>\n",
       "      <td>Paris,,,France</td>\n",
       "    </tr>\n",
       "    <tr>\n",
       "      <th>32</th>\n",
       "      <td>George_VI</td>\n",
       "      <td>Windsor</td>\n",
       "      <td>M</td>\n",
       "      <td>King of England</td>\n",
       "      <td>14 DEC 1895</td>\n",
       "      <td>York Cottage,Sandringham,Norfolk,England</td>\n",
       "      <td>6 FEB 1952</td>\n",
       "      <td>Sandringham,Norfolk,England</td>\n",
       "    </tr>\n",
       "    <tr>\n",
       "      <th>33</th>\n",
       "      <td>Mary</td>\n",
       "      <td>Windsor</td>\n",
       "      <td>F</td>\n",
       "      <td>Princess Royal</td>\n",
       "      <td>25 APR 1897</td>\n",
       "      <td>York Cottage,Sandringham,Norfolk,England</td>\n",
       "      <td>28 MAR 1965</td>\n",
       "      <td>Harewood House,Yorkshire,,England</td>\n",
       "    </tr>\n",
       "    <tr>\n",
       "      <th>35</th>\n",
       "      <td>George Edward Alexander</td>\n",
       "      <td>Windsor</td>\n",
       "      <td>M</td>\n",
       "      <td>Duke of Kent</td>\n",
       "      <td>20 DEC 1902</td>\n",
       "      <td>York Cottage,Sandringham,Norfolk,England</td>\n",
       "      <td>25 AUG 1942</td>\n",
       "      <td>Morven,,,Scotland</td>\n",
       "    </tr>\n",
       "    <tr>\n",
       "      <th>...</th>\n",
       "      <td>...</td>\n",
       "      <td>...</td>\n",
       "      <td>...</td>\n",
       "      <td>...</td>\n",
       "      <td>...</td>\n",
       "      <td>...</td>\n",
       "      <td>...</td>\n",
       "      <td>...</td>\n",
       "    </tr>\n",
       "    <tr>\n",
       "      <th>1146</th>\n",
       "      <td>Otto_I</td>\n",
       "      <td>Wittelsbach</td>\n",
       "      <td>M</td>\n",
       "      <td>King of Bavaria</td>\n",
       "      <td>27 APR 1848</td>\n",
       "      <td>Munich</td>\n",
       "      <td>11 OCT 1916</td>\n",
       "      <td>Near,Munich</td>\n",
       "    </tr>\n",
       "    <tr>\n",
       "      <th>1148</th>\n",
       "      <td>Otto_I Friedrich Ludwig</td>\n",
       "      <td>Wittelsbach</td>\n",
       "      <td>M</td>\n",
       "      <td>King of Greece</td>\n",
       "      <td>1 JUN 1815</td>\n",
       "      <td>Salzburg,Austria</td>\n",
       "      <td>26 JUL 1867</td>\n",
       "      <td>Bamberg,Germany</td>\n",
       "    </tr>\n",
       "    <tr>\n",
       "      <th>1247</th>\n",
       "      <td>Mary</td>\n",
       "      <td>Stuart</td>\n",
       "      <td>F</td>\n",
       "      <td>Queen of Scots</td>\n",
       "      <td>7 DEC 1542</td>\n",
       "      <td>Linlithgow,Scotland</td>\n",
       "      <td>8 FEB 1587</td>\n",
       "      <td>,England</td>\n",
       "    </tr>\n",
       "    <tr>\n",
       "      <th>1652</th>\n",
       "      <td>Louise</td>\n",
       "      <td>Rasmussen</td>\n",
       "      <td>F</td>\n",
       "      <td>Countess</td>\n",
       "      <td>21 APR 1815</td>\n",
       "      <td>Copenhagen</td>\n",
       "      <td>6 MAR 1874</td>\n",
       "      <td>Cannes</td>\n",
       "    </tr>\n",
       "    <tr>\n",
       "      <th>2138</th>\n",
       "      <td>John_III</td>\n",
       "      <td>Sobieski</td>\n",
       "      <td>M</td>\n",
       "      <td>King of Poland</td>\n",
       "      <td>9 JUN 1624</td>\n",
       "      <td>Olesko,Now:,Ukraine,SSR</td>\n",
       "      <td>17 JUN 1696</td>\n",
       "      <td>Wilanow,Nr.,Warsaw,Poland</td>\n",
       "    </tr>\n",
       "  </tbody>\n",
       "</table>\n",
       "<p>75 rows × 8 columns</p>\n",
       "</div>"
      ],
      "text/plain": [
       "                   first_name    last_name sex            title   birth_date  \\\n",
       "ID                                                                             \n",
       "14                   George_V      Windsor   M  King of England   3 JUN 1865   \n",
       "31                Edward_VIII      Windsor   M  Duke of Windsor  23 JUN 1894   \n",
       "32                  George_VI      Windsor   M  King of England  14 DEC 1895   \n",
       "33                       Mary      Windsor   F   Princess Royal  25 APR 1897   \n",
       "35    George Edward Alexander      Windsor   M     Duke of Kent  20 DEC 1902   \n",
       "...                       ...          ...  ..              ...          ...   \n",
       "1146                   Otto_I  Wittelsbach   M  King of Bavaria  27 APR 1848   \n",
       "1148  Otto_I Friedrich Ludwig  Wittelsbach   M   King of Greece   1 JUN 1815   \n",
       "1247                     Mary       Stuart   F   Queen of Scots   7 DEC 1542   \n",
       "1652                   Louise    Rasmussen   F         Countess  21 APR 1815   \n",
       "2138                 John_III     Sobieski   M   King of Poland   9 JUN 1624   \n",
       "\n",
       "                                   birth_place   death_date  \\\n",
       "ID                                                            \n",
       "14              Marlborough Hse,London,England  20 JAN 1936   \n",
       "31    White Lodge,Richmond Park,Surrey,England  28 MAY 1972   \n",
       "32    York Cottage,Sandringham,Norfolk,England   6 FEB 1952   \n",
       "33    York Cottage,Sandringham,Norfolk,England  28 MAR 1965   \n",
       "35    York Cottage,Sandringham,Norfolk,England  25 AUG 1942   \n",
       "...                                        ...          ...   \n",
       "1146                                    Munich  11 OCT 1916   \n",
       "1148                          Salzburg,Austria  26 JUL 1867   \n",
       "1247                       Linlithgow,Scotland   8 FEB 1587   \n",
       "1652                                Copenhagen   6 MAR 1874   \n",
       "2138                   Olesko,Now:,Ukraine,SSR  17 JUN 1696   \n",
       "\n",
       "                            death_place  \n",
       "ID                                       \n",
       "14          Sandringham,Norfolk,England  \n",
       "31                       Paris,,,France  \n",
       "32          Sandringham,Norfolk,England  \n",
       "33    Harewood House,Yorkshire,,England  \n",
       "35                    Morven,,,Scotland  \n",
       "...                                 ...  \n",
       "1146                        Near,Munich  \n",
       "1148                    Bamberg,Germany  \n",
       "1247                           ,England  \n",
       "1652                             Cannes  \n",
       "2138          Wilanow,Nr.,Warsaw,Poland  \n",
       "\n",
       "[75 rows x 8 columns]"
      ]
     },
     "execution_count": 244,
     "metadata": {},
     "output_type": "execute_result"
    }
   ],
   "source": [
    "df.dropna(inplace=True)\n",
    "df"
   ]
  },
  {
   "cell_type": "markdown",
   "id": "cac9e628-62fd-4dde-8ec3-d32627a15217",
   "metadata": {},
   "source": [
    "### Adding, Modifying Data, and Mapping"
   ]
  },
  {
   "cell_type": "markdown",
   "id": "d856b0f1-b06d-4de0-89dd-d8613e23d615",
   "metadata": {},
   "source": [
    "Suppose we have a dataframe with NA values, and instead of dropping them we want to fill them with some values we determine. Here are a few ways to do that:"
   ]
  },
  {
   "cell_type": "code",
   "execution_count": 247,
   "id": "20e12470-203e-4bc8-8ff0-d7c6b1c69fbf",
   "metadata": {},
   "outputs": [
    {
     "data": {
      "text/html": [
       "<div>\n",
       "<style scoped>\n",
       "    .dataframe tbody tr th:only-of-type {\n",
       "        vertical-align: middle;\n",
       "    }\n",
       "\n",
       "    .dataframe tbody tr th {\n",
       "        vertical-align: top;\n",
       "    }\n",
       "\n",
       "    .dataframe thead th {\n",
       "        text-align: right;\n",
       "    }\n",
       "</style>\n",
       "<table border=\"1\" class=\"dataframe\">\n",
       "  <thead>\n",
       "    <tr style=\"text-align: right;\">\n",
       "      <th></th>\n",
       "      <th>first_name</th>\n",
       "      <th>last_name</th>\n",
       "      <th>sex</th>\n",
       "      <th>title</th>\n",
       "      <th>birth_date</th>\n",
       "      <th>birth_place</th>\n",
       "      <th>death_date</th>\n",
       "      <th>death_place</th>\n",
       "    </tr>\n",
       "    <tr>\n",
       "      <th>ID</th>\n",
       "      <th></th>\n",
       "      <th></th>\n",
       "      <th></th>\n",
       "      <th></th>\n",
       "      <th></th>\n",
       "      <th></th>\n",
       "      <th></th>\n",
       "      <th></th>\n",
       "    </tr>\n",
       "  </thead>\n",
       "  <tbody>\n",
       "    <tr>\n",
       "      <th>1</th>\n",
       "      <td>Victoria</td>\n",
       "      <td>Hanover</td>\n",
       "      <td>F</td>\n",
       "      <td>Queen of England</td>\n",
       "      <td>24 MAY 1819</td>\n",
       "      <td>Kensington,Palace,London,England</td>\n",
       "      <td>22 JAN 1901</td>\n",
       "      <td>Osborne House,Isle of Wight,England</td>\n",
       "    </tr>\n",
       "    <tr>\n",
       "      <th>2</th>\n",
       "      <td>Albert Augustus Charles</td>\n",
       "      <td>0</td>\n",
       "      <td>M</td>\n",
       "      <td>Prince</td>\n",
       "      <td>26 AUG 1819</td>\n",
       "      <td>Schloss Rosenau,Near Coburg,Germany</td>\n",
       "      <td>14 DEC 1861</td>\n",
       "      <td>Windsor Castle,Berkshire,England</td>\n",
       "    </tr>\n",
       "    <tr>\n",
       "      <th>3</th>\n",
       "      <td>Victoria Adelaide Mary</td>\n",
       "      <td>0</td>\n",
       "      <td>F</td>\n",
       "      <td>Princess Royal</td>\n",
       "      <td>21 NOV 1840</td>\n",
       "      <td>Buckingham,Palace,London,England</td>\n",
       "      <td>5 AUG 1901</td>\n",
       "      <td>Friedrichshof,Near,Kronberg,Taunus</td>\n",
       "    </tr>\n",
       "    <tr>\n",
       "      <th>4</th>\n",
       "      <td>Edward_VII</td>\n",
       "      <td>Wettin</td>\n",
       "      <td>M</td>\n",
       "      <td>King of England</td>\n",
       "      <td>9 NOV 1841</td>\n",
       "      <td>Buckingham,Palace,London,England</td>\n",
       "      <td>6 MAY 1910</td>\n",
       "      <td>Buckingham,Palace,London,England</td>\n",
       "    </tr>\n",
       "    <tr>\n",
       "      <th>5</th>\n",
       "      <td>Alice Maud Mary</td>\n",
       "      <td>0</td>\n",
       "      <td>F</td>\n",
       "      <td>Princess</td>\n",
       "      <td>25 APR 1843</td>\n",
       "      <td>Buckingham,Palace,London,England</td>\n",
       "      <td>14 DEC 1878</td>\n",
       "      <td>Darmstadt,,,Germany</td>\n",
       "    </tr>\n",
       "    <tr>\n",
       "      <th>...</th>\n",
       "      <td>...</td>\n",
       "      <td>...</td>\n",
       "      <td>...</td>\n",
       "      <td>...</td>\n",
       "      <td>...</td>\n",
       "      <td>...</td>\n",
       "      <td>...</td>\n",
       "      <td>...</td>\n",
       "    </tr>\n",
       "    <tr>\n",
       "      <th>3005</th>\n",
       "      <td>Emily</td>\n",
       "      <td>Scobell</td>\n",
       "      <td>F</td>\n",
       "      <td>0</td>\n",
       "      <td>0</td>\n",
       "      <td>0</td>\n",
       "      <td>0</td>\n",
       "      <td>0</td>\n",
       "    </tr>\n",
       "    <tr>\n",
       "      <th>3006</th>\n",
       "      <td>John Sanford</td>\n",
       "      <td>Scobell</td>\n",
       "      <td>M</td>\n",
       "      <td>Sir</td>\n",
       "      <td>1879</td>\n",
       "      <td>0</td>\n",
       "      <td>0</td>\n",
       "      <td>0</td>\n",
       "    </tr>\n",
       "    <tr>\n",
       "      <th>3007</th>\n",
       "      <td>James</td>\n",
       "      <td>Cartland</td>\n",
       "      <td>M</td>\n",
       "      <td>0</td>\n",
       "      <td>0</td>\n",
       "      <td>0</td>\n",
       "      <td>0</td>\n",
       "      <td>0</td>\n",
       "    </tr>\n",
       "    <tr>\n",
       "      <th>3008</th>\n",
       "      <td>Flora</td>\n",
       "      <td>0</td>\n",
       "      <td>F</td>\n",
       "      <td>0</td>\n",
       "      <td>0</td>\n",
       "      <td>0</td>\n",
       "      <td>0</td>\n",
       "      <td>0</td>\n",
       "    </tr>\n",
       "    <tr>\n",
       "      <th>3009</th>\n",
       "      <td>0</td>\n",
       "      <td>Cartland</td>\n",
       "      <td>F</td>\n",
       "      <td>0</td>\n",
       "      <td>0</td>\n",
       "      <td>0</td>\n",
       "      <td>ABT    1911</td>\n",
       "      <td>0</td>\n",
       "    </tr>\n",
       "  </tbody>\n",
       "</table>\n",
       "<p>3009 rows × 8 columns</p>\n",
       "</div>"
      ],
      "text/plain": [
       "                   first_name last_name sex             title   birth_date  \\\n",
       "ID                                                                           \n",
       "1                    Victoria   Hanover   F  Queen of England  24 MAY 1819   \n",
       "2     Albert Augustus Charles         0   M            Prince  26 AUG 1819   \n",
       "3      Victoria Adelaide Mary         0   F    Princess Royal  21 NOV 1840   \n",
       "4                  Edward_VII    Wettin   M   King of England   9 NOV 1841   \n",
       "5             Alice Maud Mary         0   F          Princess  25 APR 1843   \n",
       "...                       ...       ...  ..               ...          ...   \n",
       "3005                    Emily   Scobell   F                 0            0   \n",
       "3006             John Sanford   Scobell   M               Sir         1879   \n",
       "3007                    James  Cartland   M                 0            0   \n",
       "3008                    Flora         0   F                 0            0   \n",
       "3009                        0  Cartland   F                 0            0   \n",
       "\n",
       "                              birth_place   death_date  \\\n",
       "ID                                                       \n",
       "1        Kensington,Palace,London,England  22 JAN 1901   \n",
       "2     Schloss Rosenau,Near Coburg,Germany  14 DEC 1861   \n",
       "3        Buckingham,Palace,London,England   5 AUG 1901   \n",
       "4        Buckingham,Palace,London,England   6 MAY 1910   \n",
       "5        Buckingham,Palace,London,England  14 DEC 1878   \n",
       "...                                   ...          ...   \n",
       "3005                                    0            0   \n",
       "3006                                    0            0   \n",
       "3007                                    0            0   \n",
       "3008                                    0            0   \n",
       "3009                                    0  ABT    1911   \n",
       "\n",
       "                              death_place  \n",
       "ID                                         \n",
       "1     Osborne House,Isle of Wight,England  \n",
       "2        Windsor Castle,Berkshire,England  \n",
       "3      Friedrichshof,Near,Kronberg,Taunus  \n",
       "4        Buckingham,Palace,London,England  \n",
       "5                     Darmstadt,,,Germany  \n",
       "...                                   ...  \n",
       "3005                                    0  \n",
       "3006                                    0  \n",
       "3007                                    0  \n",
       "3008                                    0  \n",
       "3009                                    0  \n",
       "\n",
       "[3009 rows x 8 columns]"
      ]
     },
     "execution_count": 247,
     "metadata": {},
     "output_type": "execute_result"
    }
   ],
   "source": [
    "df = pd.read_csv(path, index_col='ID')\n",
    "# replace ALL NA entries with a fixed value:\n",
    "df.fillna(0, inplace=True)\n",
    "df"
   ]
  },
  {
   "cell_type": "code",
   "execution_count": 248,
   "id": "33e5d23b-59b8-486e-81d6-8355f23f3ad1",
   "metadata": {},
   "outputs": [
    {
     "data": {
      "text/html": [
       "<div>\n",
       "<style scoped>\n",
       "    .dataframe tbody tr th:only-of-type {\n",
       "        vertical-align: middle;\n",
       "    }\n",
       "\n",
       "    .dataframe tbody tr th {\n",
       "        vertical-align: top;\n",
       "    }\n",
       "\n",
       "    .dataframe thead th {\n",
       "        text-align: right;\n",
       "    }\n",
       "</style>\n",
       "<table border=\"1\" class=\"dataframe\">\n",
       "  <thead>\n",
       "    <tr style=\"text-align: right;\">\n",
       "      <th></th>\n",
       "      <th>first_name</th>\n",
       "      <th>last_name</th>\n",
       "      <th>sex</th>\n",
       "      <th>title</th>\n",
       "      <th>birth_date</th>\n",
       "      <th>birth_place</th>\n",
       "      <th>death_date</th>\n",
       "      <th>death_place</th>\n",
       "    </tr>\n",
       "    <tr>\n",
       "      <th>ID</th>\n",
       "      <th></th>\n",
       "      <th></th>\n",
       "      <th></th>\n",
       "      <th></th>\n",
       "      <th></th>\n",
       "      <th></th>\n",
       "      <th></th>\n",
       "      <th></th>\n",
       "    </tr>\n",
       "  </thead>\n",
       "  <tbody>\n",
       "    <tr>\n",
       "      <th>1</th>\n",
       "      <td>Victoria</td>\n",
       "      <td>Hanover</td>\n",
       "      <td>F</td>\n",
       "      <td>Queen of England</td>\n",
       "      <td>24 MAY 1819</td>\n",
       "      <td>Kensington,Palace,London,England</td>\n",
       "      <td>22 JAN 1901</td>\n",
       "      <td>Osborne House,Isle of Wight,England</td>\n",
       "    </tr>\n",
       "    <tr>\n",
       "      <th>2</th>\n",
       "      <td>Albert Augustus Charles</td>\n",
       "      <td>0</td>\n",
       "      <td>M</td>\n",
       "      <td>Prince</td>\n",
       "      <td>26 AUG 1819</td>\n",
       "      <td>Schloss Rosenau,Near Coburg,Germany</td>\n",
       "      <td>14 DEC 1861</td>\n",
       "      <td>Windsor Castle,Berkshire,England</td>\n",
       "    </tr>\n",
       "    <tr>\n",
       "      <th>3</th>\n",
       "      <td>Victoria Adelaide Mary</td>\n",
       "      <td>0</td>\n",
       "      <td>F</td>\n",
       "      <td>Princess Royal</td>\n",
       "      <td>21 NOV 1840</td>\n",
       "      <td>Buckingham,Palace,London,England</td>\n",
       "      <td>5 AUG 1901</td>\n",
       "      <td>Friedrichshof,Near,Kronberg,Taunus</td>\n",
       "    </tr>\n",
       "    <tr>\n",
       "      <th>4</th>\n",
       "      <td>Edward_VII</td>\n",
       "      <td>Wettin</td>\n",
       "      <td>M</td>\n",
       "      <td>King of England</td>\n",
       "      <td>9 NOV 1841</td>\n",
       "      <td>Buckingham,Palace,London,England</td>\n",
       "      <td>6 MAY 1910</td>\n",
       "      <td>Buckingham,Palace,London,England</td>\n",
       "    </tr>\n",
       "    <tr>\n",
       "      <th>5</th>\n",
       "      <td>Alice Maud Mary</td>\n",
       "      <td>NaN</td>\n",
       "      <td>F</td>\n",
       "      <td>Princess</td>\n",
       "      <td>25 APR 1843</td>\n",
       "      <td>Buckingham,Palace,London,England</td>\n",
       "      <td>14 DEC 1878</td>\n",
       "      <td>Darmstadt,,,Germany</td>\n",
       "    </tr>\n",
       "    <tr>\n",
       "      <th>...</th>\n",
       "      <td>...</td>\n",
       "      <td>...</td>\n",
       "      <td>...</td>\n",
       "      <td>...</td>\n",
       "      <td>...</td>\n",
       "      <td>...</td>\n",
       "      <td>...</td>\n",
       "      <td>...</td>\n",
       "    </tr>\n",
       "    <tr>\n",
       "      <th>3005</th>\n",
       "      <td>Emily</td>\n",
       "      <td>Scobell</td>\n",
       "      <td>F</td>\n",
       "      <td>NaN</td>\n",
       "      <td>NaN</td>\n",
       "      <td>NaN</td>\n",
       "      <td>NaN</td>\n",
       "      <td>NaN</td>\n",
       "    </tr>\n",
       "    <tr>\n",
       "      <th>3006</th>\n",
       "      <td>John Sanford</td>\n",
       "      <td>Scobell</td>\n",
       "      <td>M</td>\n",
       "      <td>Sir</td>\n",
       "      <td>1879</td>\n",
       "      <td>NaN</td>\n",
       "      <td>NaN</td>\n",
       "      <td>NaN</td>\n",
       "    </tr>\n",
       "    <tr>\n",
       "      <th>3007</th>\n",
       "      <td>James</td>\n",
       "      <td>Cartland</td>\n",
       "      <td>M</td>\n",
       "      <td>NaN</td>\n",
       "      <td>NaN</td>\n",
       "      <td>NaN</td>\n",
       "      <td>NaN</td>\n",
       "      <td>NaN</td>\n",
       "    </tr>\n",
       "    <tr>\n",
       "      <th>3008</th>\n",
       "      <td>Flora</td>\n",
       "      <td>NaN</td>\n",
       "      <td>F</td>\n",
       "      <td>NaN</td>\n",
       "      <td>NaN</td>\n",
       "      <td>NaN</td>\n",
       "      <td>NaN</td>\n",
       "      <td>NaN</td>\n",
       "    </tr>\n",
       "    <tr>\n",
       "      <th>3009</th>\n",
       "      <td>NaN</td>\n",
       "      <td>Cartland</td>\n",
       "      <td>F</td>\n",
       "      <td>NaN</td>\n",
       "      <td>NaN</td>\n",
       "      <td>NaN</td>\n",
       "      <td>ABT    1911</td>\n",
       "      <td>NaN</td>\n",
       "    </tr>\n",
       "  </tbody>\n",
       "</table>\n",
       "<p>3009 rows × 8 columns</p>\n",
       "</div>"
      ],
      "text/plain": [
       "                   first_name last_name sex             title   birth_date  \\\n",
       "ID                                                                           \n",
       "1                    Victoria   Hanover   F  Queen of England  24 MAY 1819   \n",
       "2     Albert Augustus Charles         0   M            Prince  26 AUG 1819   \n",
       "3      Victoria Adelaide Mary         0   F    Princess Royal  21 NOV 1840   \n",
       "4                  Edward_VII    Wettin   M   King of England   9 NOV 1841   \n",
       "5             Alice Maud Mary       NaN   F          Princess  25 APR 1843   \n",
       "...                       ...       ...  ..               ...          ...   \n",
       "3005                    Emily   Scobell   F               NaN          NaN   \n",
       "3006             John Sanford   Scobell   M               Sir         1879   \n",
       "3007                    James  Cartland   M               NaN          NaN   \n",
       "3008                    Flora       NaN   F               NaN          NaN   \n",
       "3009                      NaN  Cartland   F               NaN          NaN   \n",
       "\n",
       "                              birth_place   death_date  \\\n",
       "ID                                                       \n",
       "1        Kensington,Palace,London,England  22 JAN 1901   \n",
       "2     Schloss Rosenau,Near Coburg,Germany  14 DEC 1861   \n",
       "3        Buckingham,Palace,London,England   5 AUG 1901   \n",
       "4        Buckingham,Palace,London,England   6 MAY 1910   \n",
       "5        Buckingham,Palace,London,England  14 DEC 1878   \n",
       "...                                   ...          ...   \n",
       "3005                                  NaN          NaN   \n",
       "3006                                  NaN          NaN   \n",
       "3007                                  NaN          NaN   \n",
       "3008                                  NaN          NaN   \n",
       "3009                                  NaN  ABT    1911   \n",
       "\n",
       "                              death_place  \n",
       "ID                                         \n",
       "1     Osborne House,Isle of Wight,England  \n",
       "2        Windsor Castle,Berkshire,England  \n",
       "3      Friedrichshof,Near,Kronberg,Taunus  \n",
       "4        Buckingham,Palace,London,England  \n",
       "5                     Darmstadt,,,Germany  \n",
       "...                                   ...  \n",
       "3005                                  NaN  \n",
       "3006                                  NaN  \n",
       "3007                                  NaN  \n",
       "3008                                  NaN  \n",
       "3009                                  NaN  \n",
       "\n",
       "[3009 rows x 8 columns]"
      ]
     },
     "execution_count": 248,
     "metadata": {},
     "output_type": "execute_result"
    }
   ],
   "source": [
    "df = pd.read_csv(path, index_col='ID')\n",
    "# replace the first 2 NA entries in each column with a fixed value:\n",
    "df.fillna(0, limit=2, inplace=True)\n",
    "df"
   ]
  },
  {
   "cell_type": "code",
   "execution_count": 249,
   "id": "10317219-36fa-4c31-b51b-84f12b78b674",
   "metadata": {},
   "outputs": [
    {
     "data": {
      "text/html": [
       "<div>\n",
       "<style scoped>\n",
       "    .dataframe tbody tr th:only-of-type {\n",
       "        vertical-align: middle;\n",
       "    }\n",
       "\n",
       "    .dataframe tbody tr th {\n",
       "        vertical-align: top;\n",
       "    }\n",
       "\n",
       "    .dataframe thead th {\n",
       "        text-align: right;\n",
       "    }\n",
       "</style>\n",
       "<table border=\"1\" class=\"dataframe\">\n",
       "  <thead>\n",
       "    <tr style=\"text-align: right;\">\n",
       "      <th></th>\n",
       "      <th>first_name</th>\n",
       "      <th>last_name</th>\n",
       "      <th>sex</th>\n",
       "      <th>title</th>\n",
       "      <th>birth_date</th>\n",
       "      <th>birth_place</th>\n",
       "      <th>death_date</th>\n",
       "      <th>death_place</th>\n",
       "    </tr>\n",
       "    <tr>\n",
       "      <th>ID</th>\n",
       "      <th></th>\n",
       "      <th></th>\n",
       "      <th></th>\n",
       "      <th></th>\n",
       "      <th></th>\n",
       "      <th></th>\n",
       "      <th></th>\n",
       "      <th></th>\n",
       "    </tr>\n",
       "  </thead>\n",
       "  <tbody>\n",
       "    <tr>\n",
       "      <th>1</th>\n",
       "      <td>Victoria</td>\n",
       "      <td>Hanover</td>\n",
       "      <td>F</td>\n",
       "      <td>Queen of England</td>\n",
       "      <td>24 MAY 1819</td>\n",
       "      <td>Kensington,Palace,London,England</td>\n",
       "      <td>22 JAN 1901</td>\n",
       "      <td>Osborne House,Isle of Wight,England</td>\n",
       "    </tr>\n",
       "    <tr>\n",
       "      <th>2</th>\n",
       "      <td>Albert Augustus Charles</td>\n",
       "      <td>NaN</td>\n",
       "      <td>M</td>\n",
       "      <td>Prince</td>\n",
       "      <td>26 AUG 1819</td>\n",
       "      <td>Schloss Rosenau,Near Coburg,Germany</td>\n",
       "      <td>14 DEC 1861</td>\n",
       "      <td>Windsor Castle,Berkshire,England</td>\n",
       "    </tr>\n",
       "    <tr>\n",
       "      <th>3</th>\n",
       "      <td>Victoria Adelaide Mary</td>\n",
       "      <td>NaN</td>\n",
       "      <td>F</td>\n",
       "      <td>Princess Royal</td>\n",
       "      <td>21 NOV 1840</td>\n",
       "      <td>Buckingham,Palace,London,England</td>\n",
       "      <td>5 AUG 1901</td>\n",
       "      <td>Friedrichshof,Near,Kronberg,Taunus</td>\n",
       "    </tr>\n",
       "    <tr>\n",
       "      <th>4</th>\n",
       "      <td>Edward_VII</td>\n",
       "      <td>Wettin</td>\n",
       "      <td>M</td>\n",
       "      <td>King of England</td>\n",
       "      <td>9 NOV 1841</td>\n",
       "      <td>Buckingham,Palace,London,England</td>\n",
       "      <td>6 MAY 1910</td>\n",
       "      <td>Buckingham,Palace,London,England</td>\n",
       "    </tr>\n",
       "    <tr>\n",
       "      <th>5</th>\n",
       "      <td>Alice Maud Mary</td>\n",
       "      <td>NaN</td>\n",
       "      <td>F</td>\n",
       "      <td>Princess</td>\n",
       "      <td>25 APR 1843</td>\n",
       "      <td>Buckingham,Palace,London,England</td>\n",
       "      <td>14 DEC 1878</td>\n",
       "      <td>Darmstadt,,,Germany</td>\n",
       "    </tr>\n",
       "    <tr>\n",
       "      <th>...</th>\n",
       "      <td>...</td>\n",
       "      <td>...</td>\n",
       "      <td>...</td>\n",
       "      <td>...</td>\n",
       "      <td>...</td>\n",
       "      <td>...</td>\n",
       "      <td>...</td>\n",
       "      <td>...</td>\n",
       "    </tr>\n",
       "    <tr>\n",
       "      <th>3005</th>\n",
       "      <td>Emily</td>\n",
       "      <td>Scobell</td>\n",
       "      <td>F</td>\n",
       "      <td>NaN</td>\n",
       "      <td>NaN</td>\n",
       "      <td>NaN</td>\n",
       "      <td>NaN</td>\n",
       "      <td>NaN</td>\n",
       "    </tr>\n",
       "    <tr>\n",
       "      <th>3006</th>\n",
       "      <td>John Sanford</td>\n",
       "      <td>Scobell</td>\n",
       "      <td>M</td>\n",
       "      <td>Sir</td>\n",
       "      <td>1879</td>\n",
       "      <td>NaN</td>\n",
       "      <td>NaN</td>\n",
       "      <td>NaN</td>\n",
       "    </tr>\n",
       "    <tr>\n",
       "      <th>3007</th>\n",
       "      <td>James</td>\n",
       "      <td>Cartland</td>\n",
       "      <td>M</td>\n",
       "      <td>NaN</td>\n",
       "      <td>NaN</td>\n",
       "      <td>NaN</td>\n",
       "      <td>NaN</td>\n",
       "      <td>NaN</td>\n",
       "    </tr>\n",
       "    <tr>\n",
       "      <th>3008</th>\n",
       "      <td>Flora</td>\n",
       "      <td>NaN</td>\n",
       "      <td>F</td>\n",
       "      <td>NaN</td>\n",
       "      <td>NaN</td>\n",
       "      <td>NaN</td>\n",
       "      <td>NaN</td>\n",
       "      <td>NaN</td>\n",
       "    </tr>\n",
       "    <tr>\n",
       "      <th>3009</th>\n",
       "      <td>no first name</td>\n",
       "      <td>Cartland</td>\n",
       "      <td>F</td>\n",
       "      <td>NaN</td>\n",
       "      <td>NaN</td>\n",
       "      <td>NaN</td>\n",
       "      <td>ABT    1911</td>\n",
       "      <td>NaN</td>\n",
       "    </tr>\n",
       "  </tbody>\n",
       "</table>\n",
       "<p>3009 rows × 8 columns</p>\n",
       "</div>"
      ],
      "text/plain": [
       "                   first_name last_name sex             title   birth_date  \\\n",
       "ID                                                                           \n",
       "1                    Victoria   Hanover   F  Queen of England  24 MAY 1819   \n",
       "2     Albert Augustus Charles       NaN   M            Prince  26 AUG 1819   \n",
       "3      Victoria Adelaide Mary       NaN   F    Princess Royal  21 NOV 1840   \n",
       "4                  Edward_VII    Wettin   M   King of England   9 NOV 1841   \n",
       "5             Alice Maud Mary       NaN   F          Princess  25 APR 1843   \n",
       "...                       ...       ...  ..               ...          ...   \n",
       "3005                    Emily   Scobell   F               NaN          NaN   \n",
       "3006             John Sanford   Scobell   M               Sir         1879   \n",
       "3007                    James  Cartland   M               NaN          NaN   \n",
       "3008                    Flora       NaN   F               NaN          NaN   \n",
       "3009            no first name  Cartland   F               NaN          NaN   \n",
       "\n",
       "                              birth_place   death_date  \\\n",
       "ID                                                       \n",
       "1        Kensington,Palace,London,England  22 JAN 1901   \n",
       "2     Schloss Rosenau,Near Coburg,Germany  14 DEC 1861   \n",
       "3        Buckingham,Palace,London,England   5 AUG 1901   \n",
       "4        Buckingham,Palace,London,England   6 MAY 1910   \n",
       "5        Buckingham,Palace,London,England  14 DEC 1878   \n",
       "...                                   ...          ...   \n",
       "3005                                  NaN          NaN   \n",
       "3006                                  NaN          NaN   \n",
       "3007                                  NaN          NaN   \n",
       "3008                                  NaN          NaN   \n",
       "3009                                  NaN  ABT    1911   \n",
       "\n",
       "                              death_place  \n",
       "ID                                         \n",
       "1     Osborne House,Isle of Wight,England  \n",
       "2        Windsor Castle,Berkshire,England  \n",
       "3      Friedrichshof,Near,Kronberg,Taunus  \n",
       "4        Buckingham,Palace,London,England  \n",
       "5                     Darmstadt,,,Germany  \n",
       "...                                   ...  \n",
       "3005                                  NaN  \n",
       "3006                                  NaN  \n",
       "3007                                  NaN  \n",
       "3008                                  NaN  \n",
       "3009                                  NaN  \n",
       "\n",
       "[3009 rows x 8 columns]"
      ]
     },
     "execution_count": 249,
     "metadata": {},
     "output_type": "execute_result"
    }
   ],
   "source": [
    "df = pd.read_csv(path, index_col='ID')\n",
    "# replace ALL NA first names with a fixed value:\n",
    "df['first_name'].fillna('no first name', inplace=True)  \n",
    "df"
   ]
  },
  {
   "cell_type": "code",
   "execution_count": 250,
   "id": "32cb7480-eca8-4359-8262-b9cca11cc733",
   "metadata": {},
   "outputs": [
    {
     "data": {
      "text/html": [
       "<div>\n",
       "<style scoped>\n",
       "    .dataframe tbody tr th:only-of-type {\n",
       "        vertical-align: middle;\n",
       "    }\n",
       "\n",
       "    .dataframe tbody tr th {\n",
       "        vertical-align: top;\n",
       "    }\n",
       "\n",
       "    .dataframe thead th {\n",
       "        text-align: right;\n",
       "    }\n",
       "</style>\n",
       "<table border=\"1\" class=\"dataframe\">\n",
       "  <thead>\n",
       "    <tr style=\"text-align: right;\">\n",
       "      <th></th>\n",
       "      <th>first_name</th>\n",
       "      <th>last_name</th>\n",
       "      <th>sex</th>\n",
       "      <th>title</th>\n",
       "      <th>birth_date</th>\n",
       "      <th>birth_place</th>\n",
       "      <th>death_date</th>\n",
       "      <th>death_place</th>\n",
       "    </tr>\n",
       "    <tr>\n",
       "      <th>ID</th>\n",
       "      <th></th>\n",
       "      <th></th>\n",
       "      <th></th>\n",
       "      <th></th>\n",
       "      <th></th>\n",
       "      <th></th>\n",
       "      <th></th>\n",
       "      <th></th>\n",
       "    </tr>\n",
       "  </thead>\n",
       "  <tbody>\n",
       "    <tr>\n",
       "      <th>1</th>\n",
       "      <td>Victoria</td>\n",
       "      <td>Hanover</td>\n",
       "      <td>F</td>\n",
       "      <td>Queen of England</td>\n",
       "      <td>24 MAY 1819</td>\n",
       "      <td>Kensington,Palace,London,England</td>\n",
       "      <td>22 JAN 1901</td>\n",
       "      <td>Osborne House,Isle of Wight,England</td>\n",
       "    </tr>\n",
       "    <tr>\n",
       "      <th>2</th>\n",
       "      <td>Albert Augustus Charles</td>\n",
       "      <td>no_last_name</td>\n",
       "      <td>M</td>\n",
       "      <td>Prince</td>\n",
       "      <td>26 AUG 1819</td>\n",
       "      <td>Schloss Rosenau,Near Coburg,Germany</td>\n",
       "      <td>14 DEC 1861</td>\n",
       "      <td>Windsor Castle,Berkshire,England</td>\n",
       "    </tr>\n",
       "    <tr>\n",
       "      <th>3</th>\n",
       "      <td>Victoria Adelaide Mary</td>\n",
       "      <td>no_last_name</td>\n",
       "      <td>F</td>\n",
       "      <td>Princess Royal</td>\n",
       "      <td>21 NOV 1840</td>\n",
       "      <td>Buckingham,Palace,London,England</td>\n",
       "      <td>5 AUG 1901</td>\n",
       "      <td>Friedrichshof,Near,Kronberg,Taunus</td>\n",
       "    </tr>\n",
       "    <tr>\n",
       "      <th>4</th>\n",
       "      <td>Edward_VII</td>\n",
       "      <td>Wettin</td>\n",
       "      <td>M</td>\n",
       "      <td>King of England</td>\n",
       "      <td>9 NOV 1841</td>\n",
       "      <td>Buckingham,Palace,London,England</td>\n",
       "      <td>6 MAY 1910</td>\n",
       "      <td>Buckingham,Palace,London,England</td>\n",
       "    </tr>\n",
       "    <tr>\n",
       "      <th>5</th>\n",
       "      <td>Alice Maud Mary</td>\n",
       "      <td>no_last_name</td>\n",
       "      <td>F</td>\n",
       "      <td>Princess</td>\n",
       "      <td>25 APR 1843</td>\n",
       "      <td>Buckingham,Palace,London,England</td>\n",
       "      <td>14 DEC 1878</td>\n",
       "      <td>Darmstadt,,,Germany</td>\n",
       "    </tr>\n",
       "    <tr>\n",
       "      <th>...</th>\n",
       "      <td>...</td>\n",
       "      <td>...</td>\n",
       "      <td>...</td>\n",
       "      <td>...</td>\n",
       "      <td>...</td>\n",
       "      <td>...</td>\n",
       "      <td>...</td>\n",
       "      <td>...</td>\n",
       "    </tr>\n",
       "    <tr>\n",
       "      <th>3005</th>\n",
       "      <td>Emily</td>\n",
       "      <td>Scobell</td>\n",
       "      <td>F</td>\n",
       "      <td>no_title</td>\n",
       "      <td>no_birth_date</td>\n",
       "      <td>no_birth_place</td>\n",
       "      <td>no_death_date</td>\n",
       "      <td>no_death_place</td>\n",
       "    </tr>\n",
       "    <tr>\n",
       "      <th>3006</th>\n",
       "      <td>John Sanford</td>\n",
       "      <td>Scobell</td>\n",
       "      <td>M</td>\n",
       "      <td>Sir</td>\n",
       "      <td>1879</td>\n",
       "      <td>no_birth_place</td>\n",
       "      <td>no_death_date</td>\n",
       "      <td>no_death_place</td>\n",
       "    </tr>\n",
       "    <tr>\n",
       "      <th>3007</th>\n",
       "      <td>James</td>\n",
       "      <td>Cartland</td>\n",
       "      <td>M</td>\n",
       "      <td>no_title</td>\n",
       "      <td>no_birth_date</td>\n",
       "      <td>no_birth_place</td>\n",
       "      <td>no_death_date</td>\n",
       "      <td>no_death_place</td>\n",
       "    </tr>\n",
       "    <tr>\n",
       "      <th>3008</th>\n",
       "      <td>Flora</td>\n",
       "      <td>no_last_name</td>\n",
       "      <td>F</td>\n",
       "      <td>no_title</td>\n",
       "      <td>no_birth_date</td>\n",
       "      <td>no_birth_place</td>\n",
       "      <td>no_death_date</td>\n",
       "      <td>no_death_place</td>\n",
       "    </tr>\n",
       "    <tr>\n",
       "      <th>3009</th>\n",
       "      <td>no_first_name</td>\n",
       "      <td>Cartland</td>\n",
       "      <td>F</td>\n",
       "      <td>no_title</td>\n",
       "      <td>no_birth_date</td>\n",
       "      <td>no_birth_place</td>\n",
       "      <td>ABT    1911</td>\n",
       "      <td>no_death_place</td>\n",
       "    </tr>\n",
       "  </tbody>\n",
       "</table>\n",
       "<p>3009 rows × 8 columns</p>\n",
       "</div>"
      ],
      "text/plain": [
       "                   first_name     last_name sex             title  \\\n",
       "ID                                                                  \n",
       "1                    Victoria       Hanover   F  Queen of England   \n",
       "2     Albert Augustus Charles  no_last_name   M            Prince   \n",
       "3      Victoria Adelaide Mary  no_last_name   F    Princess Royal   \n",
       "4                  Edward_VII        Wettin   M   King of England   \n",
       "5             Alice Maud Mary  no_last_name   F          Princess   \n",
       "...                       ...           ...  ..               ...   \n",
       "3005                    Emily       Scobell   F          no_title   \n",
       "3006             John Sanford       Scobell   M               Sir   \n",
       "3007                    James      Cartland   M          no_title   \n",
       "3008                    Flora  no_last_name   F          no_title   \n",
       "3009            no_first_name      Cartland   F          no_title   \n",
       "\n",
       "         birth_date                          birth_place     death_date  \\\n",
       "ID                                                                        \n",
       "1       24 MAY 1819     Kensington,Palace,London,England    22 JAN 1901   \n",
       "2       26 AUG 1819  Schloss Rosenau,Near Coburg,Germany    14 DEC 1861   \n",
       "3       21 NOV 1840     Buckingham,Palace,London,England     5 AUG 1901   \n",
       "4        9 NOV 1841     Buckingham,Palace,London,England     6 MAY 1910   \n",
       "5       25 APR 1843     Buckingham,Palace,London,England    14 DEC 1878   \n",
       "...             ...                                  ...            ...   \n",
       "3005  no_birth_date                       no_birth_place  no_death_date   \n",
       "3006           1879                       no_birth_place  no_death_date   \n",
       "3007  no_birth_date                       no_birth_place  no_death_date   \n",
       "3008  no_birth_date                       no_birth_place  no_death_date   \n",
       "3009  no_birth_date                       no_birth_place    ABT    1911   \n",
       "\n",
       "                              death_place  \n",
       "ID                                         \n",
       "1     Osborne House,Isle of Wight,England  \n",
       "2        Windsor Castle,Berkshire,England  \n",
       "3      Friedrichshof,Near,Kronberg,Taunus  \n",
       "4        Buckingham,Palace,London,England  \n",
       "5                     Darmstadt,,,Germany  \n",
       "...                                   ...  \n",
       "3005                       no_death_place  \n",
       "3006                       no_death_place  \n",
       "3007                       no_death_place  \n",
       "3008                       no_death_place  \n",
       "3009                       no_death_place  \n",
       "\n",
       "[3009 rows x 8 columns]"
      ]
     },
     "execution_count": 250,
     "metadata": {},
     "output_type": "execute_result"
    }
   ],
   "source": [
    "df = pd.read_csv(path, index_col='ID')\n",
    "# replace specific columns with specific values:\n",
    "values = {'first_name': 'no_first_name', 'last_name': 'no_last_name', 'sex': 'no_sex', 'title': 'no_title', 'birth_date': 'no_birth_date', 'birth_place': 'no_birth_place', 'death_date': 'no_death_date', 'death_place': 'no_death_place'}\n",
    "df.fillna(value=values, inplace=True)\n",
    "df"
   ]
  },
  {
   "cell_type": "code",
   "execution_count": 251,
   "id": "9654b95e-6c6f-4453-a4af-79c4e684afc7",
   "metadata": {},
   "outputs": [
    {
     "data": {
      "text/html": [
       "<div>\n",
       "<style scoped>\n",
       "    .dataframe tbody tr th:only-of-type {\n",
       "        vertical-align: middle;\n",
       "    }\n",
       "\n",
       "    .dataframe tbody tr th {\n",
       "        vertical-align: top;\n",
       "    }\n",
       "\n",
       "    .dataframe thead th {\n",
       "        text-align: right;\n",
       "    }\n",
       "</style>\n",
       "<table border=\"1\" class=\"dataframe\">\n",
       "  <thead>\n",
       "    <tr style=\"text-align: right;\">\n",
       "      <th></th>\n",
       "      <th>first_name</th>\n",
       "      <th>last_name</th>\n",
       "      <th>sex</th>\n",
       "      <th>title</th>\n",
       "      <th>birth_date</th>\n",
       "      <th>birth_place</th>\n",
       "      <th>death_date</th>\n",
       "      <th>death_place</th>\n",
       "    </tr>\n",
       "    <tr>\n",
       "      <th>ID</th>\n",
       "      <th></th>\n",
       "      <th></th>\n",
       "      <th></th>\n",
       "      <th></th>\n",
       "      <th></th>\n",
       "      <th></th>\n",
       "      <th></th>\n",
       "      <th></th>\n",
       "    </tr>\n",
       "  </thead>\n",
       "  <tbody>\n",
       "    <tr>\n",
       "      <th>1</th>\n",
       "      <td>Victoria</td>\n",
       "      <td>Hanover</td>\n",
       "      <td>F</td>\n",
       "      <td>Queen of England</td>\n",
       "      <td>24 MAY 1819</td>\n",
       "      <td>Kensington,Palace,London,England</td>\n",
       "      <td>22 JAN 1901</td>\n",
       "      <td>Osborne House,Isle of Wight,England</td>\n",
       "    </tr>\n",
       "    <tr>\n",
       "      <th>2</th>\n",
       "      <td>Albert Augustus Charles</td>\n",
       "      <td>Hanover</td>\n",
       "      <td>M</td>\n",
       "      <td>Prince</td>\n",
       "      <td>26 AUG 1819</td>\n",
       "      <td>Schloss Rosenau,Near Coburg,Germany</td>\n",
       "      <td>14 DEC 1861</td>\n",
       "      <td>Windsor Castle,Berkshire,England</td>\n",
       "    </tr>\n",
       "    <tr>\n",
       "      <th>3</th>\n",
       "      <td>Victoria Adelaide Mary</td>\n",
       "      <td>Hanover</td>\n",
       "      <td>F</td>\n",
       "      <td>Princess Royal</td>\n",
       "      <td>21 NOV 1840</td>\n",
       "      <td>Buckingham,Palace,London,England</td>\n",
       "      <td>5 AUG 1901</td>\n",
       "      <td>Friedrichshof,Near,Kronberg,Taunus</td>\n",
       "    </tr>\n",
       "    <tr>\n",
       "      <th>4</th>\n",
       "      <td>Edward_VII</td>\n",
       "      <td>Wettin</td>\n",
       "      <td>M</td>\n",
       "      <td>King of England</td>\n",
       "      <td>9 NOV 1841</td>\n",
       "      <td>Buckingham,Palace,London,England</td>\n",
       "      <td>6 MAY 1910</td>\n",
       "      <td>Buckingham,Palace,London,England</td>\n",
       "    </tr>\n",
       "    <tr>\n",
       "      <th>5</th>\n",
       "      <td>Alice Maud Mary</td>\n",
       "      <td>Wettin</td>\n",
       "      <td>F</td>\n",
       "      <td>Princess</td>\n",
       "      <td>25 APR 1843</td>\n",
       "      <td>Buckingham,Palace,London,England</td>\n",
       "      <td>14 DEC 1878</td>\n",
       "      <td>Darmstadt,,,Germany</td>\n",
       "    </tr>\n",
       "    <tr>\n",
       "      <th>...</th>\n",
       "      <td>...</td>\n",
       "      <td>...</td>\n",
       "      <td>...</td>\n",
       "      <td>...</td>\n",
       "      <td>...</td>\n",
       "      <td>...</td>\n",
       "      <td>...</td>\n",
       "      <td>...</td>\n",
       "    </tr>\n",
       "    <tr>\n",
       "      <th>3005</th>\n",
       "      <td>Emily</td>\n",
       "      <td>Scobell</td>\n",
       "      <td>F</td>\n",
       "      <td>Major</td>\n",
       "      <td>4 JAN 1912</td>\n",
       "      <td>Florence,Italy</td>\n",
       "      <td>BEF    1877</td>\n",
       "      <td>Nr Cassel,France</td>\n",
       "    </tr>\n",
       "    <tr>\n",
       "      <th>3006</th>\n",
       "      <td>John Sanford</td>\n",
       "      <td>Scobell</td>\n",
       "      <td>M</td>\n",
       "      <td>Sir</td>\n",
       "      <td>1879</td>\n",
       "      <td>Florence,Italy</td>\n",
       "      <td>BEF    1877</td>\n",
       "      <td>Nr Cassel,France</td>\n",
       "    </tr>\n",
       "    <tr>\n",
       "      <th>3007</th>\n",
       "      <td>James</td>\n",
       "      <td>Cartland</td>\n",
       "      <td>M</td>\n",
       "      <td>Sir</td>\n",
       "      <td>1879</td>\n",
       "      <td>Florence,Italy</td>\n",
       "      <td>BEF    1877</td>\n",
       "      <td>Nr Cassel,France</td>\n",
       "    </tr>\n",
       "    <tr>\n",
       "      <th>3008</th>\n",
       "      <td>Flora</td>\n",
       "      <td>Cartland</td>\n",
       "      <td>F</td>\n",
       "      <td>Sir</td>\n",
       "      <td>1879</td>\n",
       "      <td>Florence,Italy</td>\n",
       "      <td>BEF    1877</td>\n",
       "      <td>Nr Cassel,France</td>\n",
       "    </tr>\n",
       "    <tr>\n",
       "      <th>3009</th>\n",
       "      <td>Flora</td>\n",
       "      <td>Cartland</td>\n",
       "      <td>F</td>\n",
       "      <td>Sir</td>\n",
       "      <td>1879</td>\n",
       "      <td>Florence,Italy</td>\n",
       "      <td>ABT    1911</td>\n",
       "      <td>Nr Cassel,France</td>\n",
       "    </tr>\n",
       "  </tbody>\n",
       "</table>\n",
       "<p>3009 rows × 8 columns</p>\n",
       "</div>"
      ],
      "text/plain": [
       "                   first_name last_name sex             title   birth_date  \\\n",
       "ID                                                                           \n",
       "1                    Victoria   Hanover   F  Queen of England  24 MAY 1819   \n",
       "2     Albert Augustus Charles   Hanover   M            Prince  26 AUG 1819   \n",
       "3      Victoria Adelaide Mary   Hanover   F    Princess Royal  21 NOV 1840   \n",
       "4                  Edward_VII    Wettin   M   King of England   9 NOV 1841   \n",
       "5             Alice Maud Mary    Wettin   F          Princess  25 APR 1843   \n",
       "...                       ...       ...  ..               ...          ...   \n",
       "3005                    Emily   Scobell   F             Major   4 JAN 1912   \n",
       "3006             John Sanford   Scobell   M               Sir         1879   \n",
       "3007                    James  Cartland   M               Sir         1879   \n",
       "3008                    Flora  Cartland   F               Sir         1879   \n",
       "3009                    Flora  Cartland   F               Sir         1879   \n",
       "\n",
       "                              birth_place   death_date  \\\n",
       "ID                                                       \n",
       "1        Kensington,Palace,London,England  22 JAN 1901   \n",
       "2     Schloss Rosenau,Near Coburg,Germany  14 DEC 1861   \n",
       "3        Buckingham,Palace,London,England   5 AUG 1901   \n",
       "4        Buckingham,Palace,London,England   6 MAY 1910   \n",
       "5        Buckingham,Palace,London,England  14 DEC 1878   \n",
       "...                                   ...          ...   \n",
       "3005                       Florence,Italy  BEF    1877   \n",
       "3006                       Florence,Italy  BEF    1877   \n",
       "3007                       Florence,Italy  BEF    1877   \n",
       "3008                       Florence,Italy  BEF    1877   \n",
       "3009                       Florence,Italy  ABT    1911   \n",
       "\n",
       "                              death_place  \n",
       "ID                                         \n",
       "1     Osborne House,Isle of Wight,England  \n",
       "2        Windsor Castle,Berkshire,England  \n",
       "3      Friedrichshof,Near,Kronberg,Taunus  \n",
       "4        Buckingham,Palace,London,England  \n",
       "5                     Darmstadt,,,Germany  \n",
       "...                                   ...  \n",
       "3005                     Nr Cassel,France  \n",
       "3006                     Nr Cassel,France  \n",
       "3007                     Nr Cassel,France  \n",
       "3008                     Nr Cassel,France  \n",
       "3009                     Nr Cassel,France  \n",
       "\n",
       "[3009 rows x 8 columns]"
      ]
     },
     "execution_count": 251,
     "metadata": {},
     "output_type": "execute_result"
    }
   ],
   "source": [
    "df = pd.read_csv(path, index_col='ID')\n",
    "# ffill and pad: from first row to last row, propagate the most recent row that # is not an NA forward until next valid row\n",
    "df.fillna(method='ffill', inplace=True)  \n",
    "df"
   ]
  },
  {
   "cell_type": "code",
   "execution_count": 252,
   "id": "c63c1406-c149-41d1-aff0-4b0d675fbab7",
   "metadata": {},
   "outputs": [
    {
     "data": {
      "text/html": [
       "<div>\n",
       "<style scoped>\n",
       "    .dataframe tbody tr th:only-of-type {\n",
       "        vertical-align: middle;\n",
       "    }\n",
       "\n",
       "    .dataframe tbody tr th {\n",
       "        vertical-align: top;\n",
       "    }\n",
       "\n",
       "    .dataframe thead th {\n",
       "        text-align: right;\n",
       "    }\n",
       "</style>\n",
       "<table border=\"1\" class=\"dataframe\">\n",
       "  <thead>\n",
       "    <tr style=\"text-align: right;\">\n",
       "      <th></th>\n",
       "      <th>first_name</th>\n",
       "      <th>last_name</th>\n",
       "      <th>sex</th>\n",
       "      <th>title</th>\n",
       "      <th>birth_date</th>\n",
       "      <th>birth_place</th>\n",
       "      <th>death_date</th>\n",
       "      <th>death_place</th>\n",
       "    </tr>\n",
       "    <tr>\n",
       "      <th>ID</th>\n",
       "      <th></th>\n",
       "      <th></th>\n",
       "      <th></th>\n",
       "      <th></th>\n",
       "      <th></th>\n",
       "      <th></th>\n",
       "      <th></th>\n",
       "      <th></th>\n",
       "    </tr>\n",
       "  </thead>\n",
       "  <tbody>\n",
       "    <tr>\n",
       "      <th>1</th>\n",
       "      <td>Victoria</td>\n",
       "      <td>Hanover</td>\n",
       "      <td>F</td>\n",
       "      <td>Queen of England</td>\n",
       "      <td>24 MAY 1819</td>\n",
       "      <td>Kensington,Palace,London,England</td>\n",
       "      <td>22 JAN 1901</td>\n",
       "      <td>Osborne House,Isle of Wight,England</td>\n",
       "    </tr>\n",
       "    <tr>\n",
       "      <th>2</th>\n",
       "      <td>Albert Augustus Charles</td>\n",
       "      <td>Wettin</td>\n",
       "      <td>M</td>\n",
       "      <td>Prince</td>\n",
       "      <td>26 AUG 1819</td>\n",
       "      <td>Schloss Rosenau,Near Coburg,Germany</td>\n",
       "      <td>14 DEC 1861</td>\n",
       "      <td>Windsor Castle,Berkshire,England</td>\n",
       "    </tr>\n",
       "    <tr>\n",
       "      <th>3</th>\n",
       "      <td>Victoria Adelaide Mary</td>\n",
       "      <td>Wettin</td>\n",
       "      <td>F</td>\n",
       "      <td>Princess Royal</td>\n",
       "      <td>21 NOV 1840</td>\n",
       "      <td>Buckingham,Palace,London,England</td>\n",
       "      <td>5 AUG 1901</td>\n",
       "      <td>Friedrichshof,Near,Kronberg,Taunus</td>\n",
       "    </tr>\n",
       "    <tr>\n",
       "      <th>4</th>\n",
       "      <td>Edward_VII</td>\n",
       "      <td>Wettin</td>\n",
       "      <td>M</td>\n",
       "      <td>King of England</td>\n",
       "      <td>9 NOV 1841</td>\n",
       "      <td>Buckingham,Palace,London,England</td>\n",
       "      <td>6 MAY 1910</td>\n",
       "      <td>Buckingham,Palace,London,England</td>\n",
       "    </tr>\n",
       "    <tr>\n",
       "      <th>5</th>\n",
       "      <td>Alice Maud Mary</td>\n",
       "      <td>Windsor</td>\n",
       "      <td>F</td>\n",
       "      <td>Princess</td>\n",
       "      <td>25 APR 1843</td>\n",
       "      <td>Buckingham,Palace,London,England</td>\n",
       "      <td>14 DEC 1878</td>\n",
       "      <td>Darmstadt,,,Germany</td>\n",
       "    </tr>\n",
       "    <tr>\n",
       "      <th>...</th>\n",
       "      <td>...</td>\n",
       "      <td>...</td>\n",
       "      <td>...</td>\n",
       "      <td>...</td>\n",
       "      <td>...</td>\n",
       "      <td>...</td>\n",
       "      <td>...</td>\n",
       "      <td>...</td>\n",
       "    </tr>\n",
       "    <tr>\n",
       "      <th>3005</th>\n",
       "      <td>Emily</td>\n",
       "      <td>Scobell</td>\n",
       "      <td>F</td>\n",
       "      <td>Sir</td>\n",
       "      <td>1879</td>\n",
       "      <td>NaN</td>\n",
       "      <td>ABT    1911</td>\n",
       "      <td>NaN</td>\n",
       "    </tr>\n",
       "    <tr>\n",
       "      <th>3006</th>\n",
       "      <td>John Sanford</td>\n",
       "      <td>Scobell</td>\n",
       "      <td>M</td>\n",
       "      <td>Sir</td>\n",
       "      <td>1879</td>\n",
       "      <td>NaN</td>\n",
       "      <td>ABT    1911</td>\n",
       "      <td>NaN</td>\n",
       "    </tr>\n",
       "    <tr>\n",
       "      <th>3007</th>\n",
       "      <td>James</td>\n",
       "      <td>Cartland</td>\n",
       "      <td>M</td>\n",
       "      <td>NaN</td>\n",
       "      <td>NaN</td>\n",
       "      <td>NaN</td>\n",
       "      <td>ABT    1911</td>\n",
       "      <td>NaN</td>\n",
       "    </tr>\n",
       "    <tr>\n",
       "      <th>3008</th>\n",
       "      <td>Flora</td>\n",
       "      <td>Cartland</td>\n",
       "      <td>F</td>\n",
       "      <td>NaN</td>\n",
       "      <td>NaN</td>\n",
       "      <td>NaN</td>\n",
       "      <td>ABT    1911</td>\n",
       "      <td>NaN</td>\n",
       "    </tr>\n",
       "    <tr>\n",
       "      <th>3009</th>\n",
       "      <td>NaN</td>\n",
       "      <td>Cartland</td>\n",
       "      <td>F</td>\n",
       "      <td>NaN</td>\n",
       "      <td>NaN</td>\n",
       "      <td>NaN</td>\n",
       "      <td>ABT    1911</td>\n",
       "      <td>NaN</td>\n",
       "    </tr>\n",
       "  </tbody>\n",
       "</table>\n",
       "<p>3009 rows × 8 columns</p>\n",
       "</div>"
      ],
      "text/plain": [
       "                   first_name last_name sex             title   birth_date  \\\n",
       "ID                                                                           \n",
       "1                    Victoria   Hanover   F  Queen of England  24 MAY 1819   \n",
       "2     Albert Augustus Charles    Wettin   M            Prince  26 AUG 1819   \n",
       "3      Victoria Adelaide Mary    Wettin   F    Princess Royal  21 NOV 1840   \n",
       "4                  Edward_VII    Wettin   M   King of England   9 NOV 1841   \n",
       "5             Alice Maud Mary   Windsor   F          Princess  25 APR 1843   \n",
       "...                       ...       ...  ..               ...          ...   \n",
       "3005                    Emily   Scobell   F               Sir         1879   \n",
       "3006             John Sanford   Scobell   M               Sir         1879   \n",
       "3007                    James  Cartland   M               NaN          NaN   \n",
       "3008                    Flora  Cartland   F               NaN          NaN   \n",
       "3009                      NaN  Cartland   F               NaN          NaN   \n",
       "\n",
       "                              birth_place   death_date  \\\n",
       "ID                                                       \n",
       "1        Kensington,Palace,London,England  22 JAN 1901   \n",
       "2     Schloss Rosenau,Near Coburg,Germany  14 DEC 1861   \n",
       "3        Buckingham,Palace,London,England   5 AUG 1901   \n",
       "4        Buckingham,Palace,London,England   6 MAY 1910   \n",
       "5        Buckingham,Palace,London,England  14 DEC 1878   \n",
       "...                                   ...          ...   \n",
       "3005                                  NaN  ABT    1911   \n",
       "3006                                  NaN  ABT    1911   \n",
       "3007                                  NaN  ABT    1911   \n",
       "3008                                  NaN  ABT    1911   \n",
       "3009                                  NaN  ABT    1911   \n",
       "\n",
       "                              death_place  \n",
       "ID                                         \n",
       "1     Osborne House,Isle of Wight,England  \n",
       "2        Windsor Castle,Berkshire,England  \n",
       "3      Friedrichshof,Near,Kronberg,Taunus  \n",
       "4        Buckingham,Palace,London,England  \n",
       "5                     Darmstadt,,,Germany  \n",
       "...                                   ...  \n",
       "3005                                  NaN  \n",
       "3006                                  NaN  \n",
       "3007                                  NaN  \n",
       "3008                                  NaN  \n",
       "3009                                  NaN  \n",
       "\n",
       "[3009 rows x 8 columns]"
      ]
     },
     "execution_count": 252,
     "metadata": {},
     "output_type": "execute_result"
    }
   ],
   "source": [
    "df = pd.read_csv(path, index_col='ID')\n",
    "# bfill and backfill: like ffill, except from last row to first row\n",
    "df.fillna(method='bfill', inplace=True)\n",
    "df"
   ]
  },
  {
   "cell_type": "markdown",
   "id": "c1364412-cf74-47d4-89c8-18790060e977",
   "metadata": {},
   "source": [
    "We can also create new columns from existing ones. For example:"
   ]
  },
  {
   "cell_type": "code",
   "execution_count": 254,
   "id": "c0b6b864-730f-4b24-8784-3d9c476f9474",
   "metadata": {},
   "outputs": [
    {
     "data": {
      "text/html": [
       "<div>\n",
       "<style scoped>\n",
       "    .dataframe tbody tr th:only-of-type {\n",
       "        vertical-align: middle;\n",
       "    }\n",
       "\n",
       "    .dataframe tbody tr th {\n",
       "        vertical-align: top;\n",
       "    }\n",
       "\n",
       "    .dataframe thead th {\n",
       "        text-align: right;\n",
       "    }\n",
       "</style>\n",
       "<table border=\"1\" class=\"dataframe\">\n",
       "  <thead>\n",
       "    <tr style=\"text-align: right;\">\n",
       "      <th></th>\n",
       "      <th>first_name</th>\n",
       "      <th>last_name</th>\n",
       "      <th>sex</th>\n",
       "      <th>title</th>\n",
       "      <th>birth_date</th>\n",
       "      <th>birth_place</th>\n",
       "      <th>death_date</th>\n",
       "      <th>death_place</th>\n",
       "      <th>full_name</th>\n",
       "    </tr>\n",
       "    <tr>\n",
       "      <th>ID</th>\n",
       "      <th></th>\n",
       "      <th></th>\n",
       "      <th></th>\n",
       "      <th></th>\n",
       "      <th></th>\n",
       "      <th></th>\n",
       "      <th></th>\n",
       "      <th></th>\n",
       "      <th></th>\n",
       "    </tr>\n",
       "  </thead>\n",
       "  <tbody>\n",
       "    <tr>\n",
       "      <th>1</th>\n",
       "      <td>Victoria</td>\n",
       "      <td>Hanover</td>\n",
       "      <td>F</td>\n",
       "      <td>Queen of England</td>\n",
       "      <td>24 MAY 1819</td>\n",
       "      <td>Kensington,Palace,London,England</td>\n",
       "      <td>22 JAN 1901</td>\n",
       "      <td>Osborne House,Isle of Wight,England</td>\n",
       "      <td>Victoria Hanover</td>\n",
       "    </tr>\n",
       "    <tr>\n",
       "      <th>2</th>\n",
       "      <td>Albert Augustus Charles</td>\n",
       "      <td>NaN</td>\n",
       "      <td>M</td>\n",
       "      <td>Prince</td>\n",
       "      <td>26 AUG 1819</td>\n",
       "      <td>Schloss Rosenau,Near Coburg,Germany</td>\n",
       "      <td>14 DEC 1861</td>\n",
       "      <td>Windsor Castle,Berkshire,England</td>\n",
       "      <td>NaN</td>\n",
       "    </tr>\n",
       "    <tr>\n",
       "      <th>3</th>\n",
       "      <td>Victoria Adelaide Mary</td>\n",
       "      <td>NaN</td>\n",
       "      <td>F</td>\n",
       "      <td>Princess Royal</td>\n",
       "      <td>21 NOV 1840</td>\n",
       "      <td>Buckingham,Palace,London,England</td>\n",
       "      <td>5 AUG 1901</td>\n",
       "      <td>Friedrichshof,Near,Kronberg,Taunus</td>\n",
       "      <td>NaN</td>\n",
       "    </tr>\n",
       "    <tr>\n",
       "      <th>4</th>\n",
       "      <td>Edward_VII</td>\n",
       "      <td>Wettin</td>\n",
       "      <td>M</td>\n",
       "      <td>King of England</td>\n",
       "      <td>9 NOV 1841</td>\n",
       "      <td>Buckingham,Palace,London,England</td>\n",
       "      <td>6 MAY 1910</td>\n",
       "      <td>Buckingham,Palace,London,England</td>\n",
       "      <td>Edward_VII Wettin</td>\n",
       "    </tr>\n",
       "    <tr>\n",
       "      <th>5</th>\n",
       "      <td>Alice Maud Mary</td>\n",
       "      <td>NaN</td>\n",
       "      <td>F</td>\n",
       "      <td>Princess</td>\n",
       "      <td>25 APR 1843</td>\n",
       "      <td>Buckingham,Palace,London,England</td>\n",
       "      <td>14 DEC 1878</td>\n",
       "      <td>Darmstadt,,,Germany</td>\n",
       "      <td>NaN</td>\n",
       "    </tr>\n",
       "    <tr>\n",
       "      <th>...</th>\n",
       "      <td>...</td>\n",
       "      <td>...</td>\n",
       "      <td>...</td>\n",
       "      <td>...</td>\n",
       "      <td>...</td>\n",
       "      <td>...</td>\n",
       "      <td>...</td>\n",
       "      <td>...</td>\n",
       "      <td>...</td>\n",
       "    </tr>\n",
       "    <tr>\n",
       "      <th>3005</th>\n",
       "      <td>Emily</td>\n",
       "      <td>Scobell</td>\n",
       "      <td>F</td>\n",
       "      <td>NaN</td>\n",
       "      <td>NaN</td>\n",
       "      <td>NaN</td>\n",
       "      <td>NaN</td>\n",
       "      <td>NaN</td>\n",
       "      <td>Emily Scobell</td>\n",
       "    </tr>\n",
       "    <tr>\n",
       "      <th>3006</th>\n",
       "      <td>John Sanford</td>\n",
       "      <td>Scobell</td>\n",
       "      <td>M</td>\n",
       "      <td>Sir</td>\n",
       "      <td>1879</td>\n",
       "      <td>NaN</td>\n",
       "      <td>NaN</td>\n",
       "      <td>NaN</td>\n",
       "      <td>John Sanford Scobell</td>\n",
       "    </tr>\n",
       "    <tr>\n",
       "      <th>3007</th>\n",
       "      <td>James</td>\n",
       "      <td>Cartland</td>\n",
       "      <td>M</td>\n",
       "      <td>NaN</td>\n",
       "      <td>NaN</td>\n",
       "      <td>NaN</td>\n",
       "      <td>NaN</td>\n",
       "      <td>NaN</td>\n",
       "      <td>James Cartland</td>\n",
       "    </tr>\n",
       "    <tr>\n",
       "      <th>3008</th>\n",
       "      <td>Flora</td>\n",
       "      <td>NaN</td>\n",
       "      <td>F</td>\n",
       "      <td>NaN</td>\n",
       "      <td>NaN</td>\n",
       "      <td>NaN</td>\n",
       "      <td>NaN</td>\n",
       "      <td>NaN</td>\n",
       "      <td>NaN</td>\n",
       "    </tr>\n",
       "    <tr>\n",
       "      <th>3009</th>\n",
       "      <td>NaN</td>\n",
       "      <td>Cartland</td>\n",
       "      <td>F</td>\n",
       "      <td>NaN</td>\n",
       "      <td>NaN</td>\n",
       "      <td>NaN</td>\n",
       "      <td>ABT    1911</td>\n",
       "      <td>NaN</td>\n",
       "      <td>NaN</td>\n",
       "    </tr>\n",
       "  </tbody>\n",
       "</table>\n",
       "<p>3009 rows × 9 columns</p>\n",
       "</div>"
      ],
      "text/plain": [
       "                   first_name last_name sex             title   birth_date  \\\n",
       "ID                                                                           \n",
       "1                    Victoria   Hanover   F  Queen of England  24 MAY 1819   \n",
       "2     Albert Augustus Charles       NaN   M            Prince  26 AUG 1819   \n",
       "3      Victoria Adelaide Mary       NaN   F    Princess Royal  21 NOV 1840   \n",
       "4                  Edward_VII    Wettin   M   King of England   9 NOV 1841   \n",
       "5             Alice Maud Mary       NaN   F          Princess  25 APR 1843   \n",
       "...                       ...       ...  ..               ...          ...   \n",
       "3005                    Emily   Scobell   F               NaN          NaN   \n",
       "3006             John Sanford   Scobell   M               Sir         1879   \n",
       "3007                    James  Cartland   M               NaN          NaN   \n",
       "3008                    Flora       NaN   F               NaN          NaN   \n",
       "3009                      NaN  Cartland   F               NaN          NaN   \n",
       "\n",
       "                              birth_place   death_date  \\\n",
       "ID                                                       \n",
       "1        Kensington,Palace,London,England  22 JAN 1901   \n",
       "2     Schloss Rosenau,Near Coburg,Germany  14 DEC 1861   \n",
       "3        Buckingham,Palace,London,England   5 AUG 1901   \n",
       "4        Buckingham,Palace,London,England   6 MAY 1910   \n",
       "5        Buckingham,Palace,London,England  14 DEC 1878   \n",
       "...                                   ...          ...   \n",
       "3005                                  NaN          NaN   \n",
       "3006                                  NaN          NaN   \n",
       "3007                                  NaN          NaN   \n",
       "3008                                  NaN          NaN   \n",
       "3009                                  NaN  ABT    1911   \n",
       "\n",
       "                              death_place             full_name  \n",
       "ID                                                               \n",
       "1     Osborne House,Isle of Wight,England      Victoria Hanover  \n",
       "2        Windsor Castle,Berkshire,England                   NaN  \n",
       "3      Friedrichshof,Near,Kronberg,Taunus                   NaN  \n",
       "4        Buckingham,Palace,London,England     Edward_VII Wettin  \n",
       "5                     Darmstadt,,,Germany                   NaN  \n",
       "...                                   ...                   ...  \n",
       "3005                                  NaN         Emily Scobell  \n",
       "3006                                  NaN  John Sanford Scobell  \n",
       "3007                                  NaN        James Cartland  \n",
       "3008                                  NaN                   NaN  \n",
       "3009                                  NaN                   NaN  \n",
       "\n",
       "[3009 rows x 9 columns]"
      ]
     },
     "execution_count": 254,
     "metadata": {},
     "output_type": "execute_result"
    }
   ],
   "source": [
    "df = pd.read_csv(path, index_col='ID')\n",
    "df['full_name'] = df['first_name'] + ' ' + df['last_name']\n",
    "df"
   ]
  },
  {
   "cell_type": "markdown",
   "id": "0966b38a-b9b0-4538-858a-2ebb87ac7cce",
   "metadata": {},
   "source": [
    "This illustrates a problem. Anytime we have an NaN value, the string concatenation is also NaN. How could we get around this? Well, we could create our own specific function that handles this, and then apply that to our dataframe:"
   ]
  },
  {
   "cell_type": "code",
   "execution_count": 256,
   "id": "bb6e6c2f-8ec7-4476-89b4-8f738307d067",
   "metadata": {},
   "outputs": [
    {
     "data": {
      "text/html": [
       "<div>\n",
       "<style scoped>\n",
       "    .dataframe tbody tr th:only-of-type {\n",
       "        vertical-align: middle;\n",
       "    }\n",
       "\n",
       "    .dataframe tbody tr th {\n",
       "        vertical-align: top;\n",
       "    }\n",
       "\n",
       "    .dataframe thead th {\n",
       "        text-align: right;\n",
       "    }\n",
       "</style>\n",
       "<table border=\"1\" class=\"dataframe\">\n",
       "  <thead>\n",
       "    <tr style=\"text-align: right;\">\n",
       "      <th></th>\n",
       "      <th>first_name</th>\n",
       "      <th>last_name</th>\n",
       "      <th>sex</th>\n",
       "      <th>title</th>\n",
       "      <th>birth_date</th>\n",
       "      <th>birth_place</th>\n",
       "      <th>death_date</th>\n",
       "      <th>death_place</th>\n",
       "      <th>full_name</th>\n",
       "    </tr>\n",
       "    <tr>\n",
       "      <th>ID</th>\n",
       "      <th></th>\n",
       "      <th></th>\n",
       "      <th></th>\n",
       "      <th></th>\n",
       "      <th></th>\n",
       "      <th></th>\n",
       "      <th></th>\n",
       "      <th></th>\n",
       "      <th></th>\n",
       "    </tr>\n",
       "  </thead>\n",
       "  <tbody>\n",
       "    <tr>\n",
       "      <th>1</th>\n",
       "      <td>Victoria</td>\n",
       "      <td>Hanover</td>\n",
       "      <td>F</td>\n",
       "      <td>Queen of England</td>\n",
       "      <td>24 MAY 1819</td>\n",
       "      <td>Kensington,Palace,London,England</td>\n",
       "      <td>22 JAN 1901</td>\n",
       "      <td>Osborne House,Isle of Wight,England</td>\n",
       "      <td>Victoria Hanover</td>\n",
       "    </tr>\n",
       "    <tr>\n",
       "      <th>2</th>\n",
       "      <td>Albert Augustus Charles</td>\n",
       "      <td>NaN</td>\n",
       "      <td>M</td>\n",
       "      <td>Prince</td>\n",
       "      <td>26 AUG 1819</td>\n",
       "      <td>Schloss Rosenau,Near Coburg,Germany</td>\n",
       "      <td>14 DEC 1861</td>\n",
       "      <td>Windsor Castle,Berkshire,England</td>\n",
       "      <td>Albert Augustus Charles</td>\n",
       "    </tr>\n",
       "    <tr>\n",
       "      <th>3</th>\n",
       "      <td>Victoria Adelaide Mary</td>\n",
       "      <td>NaN</td>\n",
       "      <td>F</td>\n",
       "      <td>Princess Royal</td>\n",
       "      <td>21 NOV 1840</td>\n",
       "      <td>Buckingham,Palace,London,England</td>\n",
       "      <td>5 AUG 1901</td>\n",
       "      <td>Friedrichshof,Near,Kronberg,Taunus</td>\n",
       "      <td>Victoria Adelaide Mary</td>\n",
       "    </tr>\n",
       "    <tr>\n",
       "      <th>4</th>\n",
       "      <td>Edward_VII</td>\n",
       "      <td>Wettin</td>\n",
       "      <td>M</td>\n",
       "      <td>King of England</td>\n",
       "      <td>9 NOV 1841</td>\n",
       "      <td>Buckingham,Palace,London,England</td>\n",
       "      <td>6 MAY 1910</td>\n",
       "      <td>Buckingham,Palace,London,England</td>\n",
       "      <td>Edward_VII Wettin</td>\n",
       "    </tr>\n",
       "    <tr>\n",
       "      <th>5</th>\n",
       "      <td>Alice Maud Mary</td>\n",
       "      <td>NaN</td>\n",
       "      <td>F</td>\n",
       "      <td>Princess</td>\n",
       "      <td>25 APR 1843</td>\n",
       "      <td>Buckingham,Palace,London,England</td>\n",
       "      <td>14 DEC 1878</td>\n",
       "      <td>Darmstadt,,,Germany</td>\n",
       "      <td>Alice Maud Mary</td>\n",
       "    </tr>\n",
       "    <tr>\n",
       "      <th>...</th>\n",
       "      <td>...</td>\n",
       "      <td>...</td>\n",
       "      <td>...</td>\n",
       "      <td>...</td>\n",
       "      <td>...</td>\n",
       "      <td>...</td>\n",
       "      <td>...</td>\n",
       "      <td>...</td>\n",
       "      <td>...</td>\n",
       "    </tr>\n",
       "    <tr>\n",
       "      <th>3005</th>\n",
       "      <td>Emily</td>\n",
       "      <td>Scobell</td>\n",
       "      <td>F</td>\n",
       "      <td>NaN</td>\n",
       "      <td>NaN</td>\n",
       "      <td>NaN</td>\n",
       "      <td>NaN</td>\n",
       "      <td>NaN</td>\n",
       "      <td>Emily Scobell</td>\n",
       "    </tr>\n",
       "    <tr>\n",
       "      <th>3006</th>\n",
       "      <td>John Sanford</td>\n",
       "      <td>Scobell</td>\n",
       "      <td>M</td>\n",
       "      <td>Sir</td>\n",
       "      <td>1879</td>\n",
       "      <td>NaN</td>\n",
       "      <td>NaN</td>\n",
       "      <td>NaN</td>\n",
       "      <td>John Sanford Scobell</td>\n",
       "    </tr>\n",
       "    <tr>\n",
       "      <th>3007</th>\n",
       "      <td>James</td>\n",
       "      <td>Cartland</td>\n",
       "      <td>M</td>\n",
       "      <td>NaN</td>\n",
       "      <td>NaN</td>\n",
       "      <td>NaN</td>\n",
       "      <td>NaN</td>\n",
       "      <td>NaN</td>\n",
       "      <td>James Cartland</td>\n",
       "    </tr>\n",
       "    <tr>\n",
       "      <th>3008</th>\n",
       "      <td>Flora</td>\n",
       "      <td>NaN</td>\n",
       "      <td>F</td>\n",
       "      <td>NaN</td>\n",
       "      <td>NaN</td>\n",
       "      <td>NaN</td>\n",
       "      <td>NaN</td>\n",
       "      <td>NaN</td>\n",
       "      <td>Flora</td>\n",
       "    </tr>\n",
       "    <tr>\n",
       "      <th>3009</th>\n",
       "      <td>NaN</td>\n",
       "      <td>Cartland</td>\n",
       "      <td>F</td>\n",
       "      <td>NaN</td>\n",
       "      <td>NaN</td>\n",
       "      <td>NaN</td>\n",
       "      <td>ABT    1911</td>\n",
       "      <td>NaN</td>\n",
       "      <td>Cartland</td>\n",
       "    </tr>\n",
       "  </tbody>\n",
       "</table>\n",
       "<p>3009 rows × 9 columns</p>\n",
       "</div>"
      ],
      "text/plain": [
       "                   first_name last_name sex             title   birth_date  \\\n",
       "ID                                                                           \n",
       "1                    Victoria   Hanover   F  Queen of England  24 MAY 1819   \n",
       "2     Albert Augustus Charles       NaN   M            Prince  26 AUG 1819   \n",
       "3      Victoria Adelaide Mary       NaN   F    Princess Royal  21 NOV 1840   \n",
       "4                  Edward_VII    Wettin   M   King of England   9 NOV 1841   \n",
       "5             Alice Maud Mary       NaN   F          Princess  25 APR 1843   \n",
       "...                       ...       ...  ..               ...          ...   \n",
       "3005                    Emily   Scobell   F               NaN          NaN   \n",
       "3006             John Sanford   Scobell   M               Sir         1879   \n",
       "3007                    James  Cartland   M               NaN          NaN   \n",
       "3008                    Flora       NaN   F               NaN          NaN   \n",
       "3009                      NaN  Cartland   F               NaN          NaN   \n",
       "\n",
       "                              birth_place   death_date  \\\n",
       "ID                                                       \n",
       "1        Kensington,Palace,London,England  22 JAN 1901   \n",
       "2     Schloss Rosenau,Near Coburg,Germany  14 DEC 1861   \n",
       "3        Buckingham,Palace,London,England   5 AUG 1901   \n",
       "4        Buckingham,Palace,London,England   6 MAY 1910   \n",
       "5        Buckingham,Palace,London,England  14 DEC 1878   \n",
       "...                                   ...          ...   \n",
       "3005                                  NaN          NaN   \n",
       "3006                                  NaN          NaN   \n",
       "3007                                  NaN          NaN   \n",
       "3008                                  NaN          NaN   \n",
       "3009                                  NaN  ABT    1911   \n",
       "\n",
       "                              death_place                full_name  \n",
       "ID                                                                  \n",
       "1     Osborne House,Isle of Wight,England         Victoria Hanover  \n",
       "2        Windsor Castle,Berkshire,England  Albert Augustus Charles  \n",
       "3      Friedrichshof,Near,Kronberg,Taunus   Victoria Adelaide Mary  \n",
       "4        Buckingham,Palace,London,England        Edward_VII Wettin  \n",
       "5                     Darmstadt,,,Germany          Alice Maud Mary  \n",
       "...                                   ...                      ...  \n",
       "3005                                  NaN            Emily Scobell  \n",
       "3006                                  NaN     John Sanford Scobell  \n",
       "3007                                  NaN           James Cartland  \n",
       "3008                                  NaN                    Flora  \n",
       "3009                                  NaN                 Cartland  \n",
       "\n",
       "[3009 rows x 9 columns]"
      ]
     },
     "execution_count": 256,
     "metadata": {},
     "output_type": "execute_result"
    }
   ],
   "source": [
    "def create_full_name(row):\n",
    "    if isinstance(row['first_name'], str) and isinstance(row['last_name'], str):  # both first_name and last_name are strings\n",
    "        result = row['first_name'] + ' ' + row['last_name']\n",
    "    elif isinstance(row['first_name'], str):  # only first_name is a string\n",
    "        result = row['first_name']\n",
    "    elif isinstance(row['last_name'], str):  # only last_name is a string\n",
    "        result = row['last_name']\n",
    "    else:  # neither first_name nor last_name are strings, they are both NaN\n",
    "        result = np.nan \n",
    "    return result\n",
    "\n",
    "df = pd.read_csv(path, index_col='ID')\n",
    "\n",
    "df['full_name'] = df.apply(create_full_name, axis=1)\n",
    "df"
   ]
  },
  {
   "cell_type": "markdown",
   "id": "207f0564-e479-4014-bda3-1fbf3d1d07a3",
   "metadata": {},
   "source": [
    "This \"apply\" operation applies the specified function. You could also use Python lambda functions to create a function inline if needed. Note the option \"axis = 1\" means to process the data row by row. The option \"axis = 0\" would process the data column by column. For example:"
   ]
  },
  {
   "cell_type": "code",
   "execution_count": 258,
   "id": "b1d59763-16f6-4097-a2d7-bec83e1c54c8",
   "metadata": {},
   "outputs": [
    {
     "name": "stdout",
     "output_type": "stream",
     "text": [
      "   column 1  column 2\n",
      "0         0         1\n",
      "1         2         3\n",
      "2         4         5\n",
      "3         6         7\n",
      "4         8         9\n",
      "5        10        11\n"
     ]
    }
   ],
   "source": [
    "# Create a dataframe that is a 6 x 2 array formed from a list of 12 numbers ordered from 0 to 11.\n",
    "df = pd.DataFrame(np.arange(12).reshape(6,2), columns = ['column 1', 'column 2'])\n",
    "print(df)"
   ]
  },
  {
   "cell_type": "code",
   "execution_count": 259,
   "id": "76cc39e5-598e-4b62-a56d-a9660f729e77",
   "metadata": {},
   "outputs": [
    {
     "name": "stdout",
     "output_type": "stream",
     "text": [
      "column 1    10\n",
      "column 2    11\n",
      "dtype: int64\n"
     ]
    }
   ],
   "source": [
    "# Create a new dataframe that takes the maximum value of each column in the dataframe we just created.\n",
    "new_df = df.apply(lambda x: x.max())\n",
    "print(new_df)"
   ]
  },
  {
   "cell_type": "markdown",
   "id": "6008bf7d-101b-4bb5-96c8-9aff89ccb9d4",
   "metadata": {},
   "source": [
    "There are three main functions used to create or change data in dataframes: apply, map, and applymap."
   ]
  },
  {
   "cell_type": "code",
   "execution_count": 261,
   "id": "5540f9cb-a17e-446c-85da-2b7eb5928fa5",
   "metadata": {},
   "outputs": [
    {
     "name": "stdout",
     "output_type": "stream",
     "text": [
      "   column 1  column 2\n",
      "0         0         1\n",
      "1         2         3\n",
      "2         4         5\n",
      "3         6         7\n"
     ]
    }
   ],
   "source": [
    "df = pd.DataFrame(np.arange(8).reshape(4,2), columns = ['column 1', 'column 2'])\n",
    "print(df)"
   ]
  },
  {
   "cell_type": "code",
   "execution_count": 262,
   "id": "7aa1c8ae-1b27-42d4-8804-3c274debf300",
   "metadata": {},
   "outputs": [
    {
     "name": "stdout",
     "output_type": "stream",
     "text": [
      "column 1    6\n",
      "column 2    7\n",
      "dtype: int64\n"
     ]
    }
   ],
   "source": [
    "print(df.apply(np.max))"
   ]
  },
  {
   "cell_type": "code",
   "execution_count": 263,
   "id": "20f6659c-37a5-4a98-93a5-75cb55d82e90",
   "metadata": {},
   "outputs": [
    {
     "name": "stdout",
     "output_type": "stream",
     "text": [
      "0    1\n",
      "1    3\n",
      "2    5\n",
      "3    7\n",
      "dtype: int64\n"
     ]
    }
   ],
   "source": [
    "print(df.apply(np.max, axis = 1))"
   ]
  },
  {
   "cell_type": "code",
   "execution_count": 264,
   "id": "6fe58b22-211f-4426-aef3-16c80ae288f1",
   "metadata": {},
   "outputs": [
    {
     "name": "stdout",
     "output_type": "stream",
     "text": [
      "0     0\n",
      "1     4\n",
      "2     8\n",
      "3    12\n",
      "Name: column 1, dtype: int64\n"
     ]
    }
   ],
   "source": [
    "print(df['column 1'].map(lambda x: x*2))"
   ]
  },
  {
   "cell_type": "code",
   "execution_count": 265,
   "id": "2c58ad5f-aa8f-471e-8f2c-eff3934565bc",
   "metadata": {},
   "outputs": [
    {
     "data": {
      "text/html": [
       "<div>\n",
       "<style scoped>\n",
       "    .dataframe tbody tr th:only-of-type {\n",
       "        vertical-align: middle;\n",
       "    }\n",
       "\n",
       "    .dataframe tbody tr th {\n",
       "        vertical-align: top;\n",
       "    }\n",
       "\n",
       "    .dataframe thead th {\n",
       "        text-align: right;\n",
       "    }\n",
       "</style>\n",
       "<table border=\"1\" class=\"dataframe\">\n",
       "  <thead>\n",
       "    <tr style=\"text-align: right;\">\n",
       "      <th></th>\n",
       "      <th>column 1</th>\n",
       "      <th>column 2</th>\n",
       "    </tr>\n",
       "  </thead>\n",
       "  <tbody>\n",
       "    <tr>\n",
       "      <th>0</th>\n",
       "      <td>0</td>\n",
       "      <td>1</td>\n",
       "    </tr>\n",
       "    <tr>\n",
       "      <th>1</th>\n",
       "      <td>2</td>\n",
       "      <td>3</td>\n",
       "    </tr>\n",
       "    <tr>\n",
       "      <th>2</th>\n",
       "      <td>4</td>\n",
       "      <td>5</td>\n",
       "    </tr>\n",
       "    <tr>\n",
       "      <th>3</th>\n",
       "      <td>6</td>\n",
       "      <td>7</td>\n",
       "    </tr>\n",
       "  </tbody>\n",
       "</table>\n",
       "</div>"
      ],
      "text/plain": [
       "   column 1  column 2\n",
       "0         0         1\n",
       "1         2         3\n",
       "2         4         5\n",
       "3         6         7"
      ]
     },
     "execution_count": 265,
     "metadata": {},
     "output_type": "execute_result"
    }
   ],
   "source": [
    "df['column 1'].map(lambda x: x*2)\n",
    "df"
   ]
  },
  {
   "cell_type": "code",
   "execution_count": 266,
   "id": "b0cb942c-67b2-4d1e-9054-e9c89d8d72d9",
   "metadata": {},
   "outputs": [
    {
     "name": "stdout",
     "output_type": "stream",
     "text": [
      "   column 1  column 2\n",
      "0         0         2\n",
      "1         4         6\n",
      "2         8        10\n",
      "3        12        14\n"
     ]
    }
   ],
   "source": [
    "print(df.applymap(lambda x: x*2))"
   ]
  },
  {
   "cell_type": "markdown",
   "id": "e29b13db-b22a-409a-8ec6-a568b6ecce2d",
   "metadata": {},
   "source": [
    "### Changing Datatypes of Series or Columns"
   ]
  },
  {
   "cell_type": "markdown",
   "id": "599998ce-0fba-4b07-a429-98d510f29387",
   "metadata": {},
   "source": [
    "The datatypes for our \"royal_line\" examples have all been 'objects' because every column has had data that's been interpreted as a string. This is a general, default datatype that is quite encompassing in what it can handle. However, there are some functions, like maximum or average, that make sense for certain types of numeric data, but not for general data, and if we try to apply these functions to objects we'll have a bad time."
   ]
  },
  {
   "cell_type": "code",
   "execution_count": 269,
   "id": "7163b459-443d-4ae7-a5c4-7c7ab4f1d1d4",
   "metadata": {},
   "outputs": [
    {
     "name": "stdout",
     "output_type": "stream",
     "text": [
      "   ints strings floats\n",
      "0     1       a    1.1\n",
      "1     2       b    2.2\n",
      "2     3       c    3.3\n",
      "3     4       d      4\n",
      "ints        int64\n",
      "strings    object\n",
      "floats     object\n",
      "dtype: object\n"
     ]
    }
   ],
   "source": [
    "# Let's create a simple dataframe with three columns containing different types of data:\n",
    "df = pd.DataFrame({'ints': [1,2,3,4], 'strings': ['a','b','c','d'], 'floats': [1.1, '2.2', '3.3', 4]})\n",
    "print(df)\n",
    "print(df.dtypes)"
   ]
  },
  {
   "cell_type": "markdown",
   "id": "336c94fb-1266-41dc-abb3-ac28625b2e84",
   "metadata": {},
   "source": [
    "Here, the second and third column are interpreted as objects because both contained strings (the values 2.2 and 3.3 in the floats column were entered as strings).\n",
    "\n",
    "To convert these to a different datatype, we can convert a single column, or multiple columns using a dictionary."
   ]
  },
  {
   "cell_type": "code",
   "execution_count": 271,
   "id": "98becd49-c2d4-4881-b5e9-765db31a6b44",
   "metadata": {},
   "outputs": [
    {
     "name": "stdout",
     "output_type": "stream",
     "text": [
      "ints         int64\n",
      "strings     object\n",
      "floats     float64\n",
      "dtype: object\n"
     ]
    }
   ],
   "source": [
    "df['floats'] = df['floats'].astype(float)\n",
    "print(df.dtypes)"
   ]
  },
  {
   "cell_type": "code",
   "execution_count": 272,
   "id": "73a04fe2-5dc1-4fbe-9ed0-11729447f5a0",
   "metadata": {},
   "outputs": [
    {
     "name": "stdout",
     "output_type": "stream",
     "text": [
      "ints         int64\n",
      "strings     object\n",
      "floats     float64\n",
      "dtype: object\n"
     ]
    }
   ],
   "source": [
    "convert_dict = {'ints': int, 'strings': str, 'floats': float}\n",
    "df = df.astype(convert_dict)\n",
    "print(df.dtypes)"
   ]
  },
  {
   "cell_type": "code",
   "execution_count": 273,
   "id": "10c8dd08-2971-4b69-829c-964a3022d719",
   "metadata": {},
   "outputs": [
    {
     "name": "stdout",
     "output_type": "stream",
     "text": [
      "   ints strings  floats\n",
      "0   1.0       a     1.1\n",
      "1   2.0       b     2.2\n",
      "2   3.0       c     3.3\n",
      "3   4.0       d     4.0\n",
      "ints       float64\n",
      "strings     object\n",
      "floats     float64\n",
      "dtype: object\n"
     ]
    }
   ],
   "source": [
    "# The following command would also work:\n",
    "df['ints'] = df['ints'].astype(float)\n",
    "print(df)\n",
    "print(df.dtypes)"
   ]
  },
  {
   "cell_type": "code",
   "execution_count": 274,
   "id": "9229d82b-1071-4d33-905b-89dbe0a16455",
   "metadata": {},
   "outputs": [
    {
     "ename": "ValueError",
     "evalue": "invalid literal for int() with base 10: 'a'",
     "output_type": "error",
     "traceback": [
      "\u001b[0;31m---------------------------------------------------------------------------\u001b[0m",
      "\u001b[0;31mValueError\u001b[0m                                Traceback (most recent call last)",
      "Cell \u001b[0;32mIn[274], line 2\u001b[0m\n\u001b[1;32m      1\u001b[0m \u001b[38;5;66;03m# But this one won't:\u001b[39;00m\n\u001b[0;32m----> 2\u001b[0m df[\u001b[38;5;124m'\u001b[39m\u001b[38;5;124mstrings\u001b[39m\u001b[38;5;124m'\u001b[39m] \u001b[38;5;241m=\u001b[39m df[\u001b[38;5;124m'\u001b[39m\u001b[38;5;124mstrings\u001b[39m\u001b[38;5;124m'\u001b[39m]\u001b[38;5;241m.\u001b[39mastype(\u001b[38;5;28mint\u001b[39m)\n",
      "File \u001b[0;32m~/.local/lib/python3.11/site-packages/pandas/core/generic.py:6240\u001b[0m, in \u001b[0;36mNDFrame.astype\u001b[0;34m(self, dtype, copy, errors)\u001b[0m\n\u001b[1;32m   6233\u001b[0m     results \u001b[38;5;241m=\u001b[39m [\n\u001b[1;32m   6234\u001b[0m         \u001b[38;5;28mself\u001b[39m\u001b[38;5;241m.\u001b[39miloc[:, i]\u001b[38;5;241m.\u001b[39mastype(dtype, copy\u001b[38;5;241m=\u001b[39mcopy)\n\u001b[1;32m   6235\u001b[0m         \u001b[38;5;28;01mfor\u001b[39;00m i \u001b[38;5;129;01min\u001b[39;00m \u001b[38;5;28mrange\u001b[39m(\u001b[38;5;28mlen\u001b[39m(\u001b[38;5;28mself\u001b[39m\u001b[38;5;241m.\u001b[39mcolumns))\n\u001b[1;32m   6236\u001b[0m     ]\n\u001b[1;32m   6238\u001b[0m \u001b[38;5;28;01melse\u001b[39;00m:\n\u001b[1;32m   6239\u001b[0m     \u001b[38;5;66;03m# else, only a single dtype is given\u001b[39;00m\n\u001b[0;32m-> 6240\u001b[0m     new_data \u001b[38;5;241m=\u001b[39m \u001b[38;5;28mself\u001b[39m\u001b[38;5;241m.\u001b[39m_mgr\u001b[38;5;241m.\u001b[39mastype(dtype\u001b[38;5;241m=\u001b[39mdtype, copy\u001b[38;5;241m=\u001b[39mcopy, errors\u001b[38;5;241m=\u001b[39merrors)\n\u001b[1;32m   6241\u001b[0m     \u001b[38;5;28;01mreturn\u001b[39;00m \u001b[38;5;28mself\u001b[39m\u001b[38;5;241m.\u001b[39m_constructor(new_data)\u001b[38;5;241m.\u001b[39m__finalize__(\u001b[38;5;28mself\u001b[39m, method\u001b[38;5;241m=\u001b[39m\u001b[38;5;124m\"\u001b[39m\u001b[38;5;124mastype\u001b[39m\u001b[38;5;124m\"\u001b[39m)\n\u001b[1;32m   6243\u001b[0m \u001b[38;5;66;03m# GH 33113: handle empty frame or series\u001b[39;00m\n",
      "File \u001b[0;32m~/.local/lib/python3.11/site-packages/pandas/core/internals/managers.py:448\u001b[0m, in \u001b[0;36mBaseBlockManager.astype\u001b[0;34m(self, dtype, copy, errors)\u001b[0m\n\u001b[1;32m    447\u001b[0m \u001b[38;5;28;01mdef\u001b[39;00m \u001b[38;5;21mastype\u001b[39m(\u001b[38;5;28mself\u001b[39m: T, dtype, copy: \u001b[38;5;28mbool\u001b[39m \u001b[38;5;241m=\u001b[39m \u001b[38;5;28;01mFalse\u001b[39;00m, errors: \u001b[38;5;28mstr\u001b[39m \u001b[38;5;241m=\u001b[39m \u001b[38;5;124m\"\u001b[39m\u001b[38;5;124mraise\u001b[39m\u001b[38;5;124m\"\u001b[39m) \u001b[38;5;241m-\u001b[39m\u001b[38;5;241m>\u001b[39m T:\n\u001b[0;32m--> 448\u001b[0m     \u001b[38;5;28;01mreturn\u001b[39;00m \u001b[38;5;28mself\u001b[39m\u001b[38;5;241m.\u001b[39mapply(\u001b[38;5;124m\"\u001b[39m\u001b[38;5;124mastype\u001b[39m\u001b[38;5;124m\"\u001b[39m, dtype\u001b[38;5;241m=\u001b[39mdtype, copy\u001b[38;5;241m=\u001b[39mcopy, errors\u001b[38;5;241m=\u001b[39merrors)\n",
      "File \u001b[0;32m~/.local/lib/python3.11/site-packages/pandas/core/internals/managers.py:352\u001b[0m, in \u001b[0;36mBaseBlockManager.apply\u001b[0;34m(self, f, align_keys, ignore_failures, **kwargs)\u001b[0m\n\u001b[1;32m    350\u001b[0m         applied \u001b[38;5;241m=\u001b[39m b\u001b[38;5;241m.\u001b[39mapply(f, \u001b[38;5;241m*\u001b[39m\u001b[38;5;241m*\u001b[39mkwargs)\n\u001b[1;32m    351\u001b[0m     \u001b[38;5;28;01melse\u001b[39;00m:\n\u001b[0;32m--> 352\u001b[0m         applied \u001b[38;5;241m=\u001b[39m \u001b[38;5;28mgetattr\u001b[39m(b, f)(\u001b[38;5;241m*\u001b[39m\u001b[38;5;241m*\u001b[39mkwargs)\n\u001b[1;32m    353\u001b[0m \u001b[38;5;28;01mexcept\u001b[39;00m (\u001b[38;5;167;01mTypeError\u001b[39;00m, \u001b[38;5;167;01mNotImplementedError\u001b[39;00m):\n\u001b[1;32m    354\u001b[0m     \u001b[38;5;28;01mif\u001b[39;00m \u001b[38;5;129;01mnot\u001b[39;00m ignore_failures:\n",
      "File \u001b[0;32m~/.local/lib/python3.11/site-packages/pandas/core/internals/blocks.py:526\u001b[0m, in \u001b[0;36mBlock.astype\u001b[0;34m(self, dtype, copy, errors)\u001b[0m\n\u001b[1;32m    508\u001b[0m \u001b[38;5;250m\u001b[39m\u001b[38;5;124;03m\"\"\"\u001b[39;00m\n\u001b[1;32m    509\u001b[0m \u001b[38;5;124;03mCoerce to the new dtype.\u001b[39;00m\n\u001b[1;32m    510\u001b[0m \n\u001b[0;32m   (...)\u001b[0m\n\u001b[1;32m    522\u001b[0m \u001b[38;5;124;03mBlock\u001b[39;00m\n\u001b[1;32m    523\u001b[0m \u001b[38;5;124;03m\"\"\"\u001b[39;00m\n\u001b[1;32m    524\u001b[0m values \u001b[38;5;241m=\u001b[39m \u001b[38;5;28mself\u001b[39m\u001b[38;5;241m.\u001b[39mvalues\n\u001b[0;32m--> 526\u001b[0m new_values \u001b[38;5;241m=\u001b[39m astype_array_safe(values, dtype, copy\u001b[38;5;241m=\u001b[39mcopy, errors\u001b[38;5;241m=\u001b[39merrors)\n\u001b[1;32m    528\u001b[0m new_values \u001b[38;5;241m=\u001b[39m maybe_coerce_values(new_values)\n\u001b[1;32m    529\u001b[0m newb \u001b[38;5;241m=\u001b[39m \u001b[38;5;28mself\u001b[39m\u001b[38;5;241m.\u001b[39mmake_block(new_values)\n",
      "File \u001b[0;32m~/.local/lib/python3.11/site-packages/pandas/core/dtypes/astype.py:299\u001b[0m, in \u001b[0;36mastype_array_safe\u001b[0;34m(values, dtype, copy, errors)\u001b[0m\n\u001b[1;32m    296\u001b[0m     \u001b[38;5;28;01mreturn\u001b[39;00m values\u001b[38;5;241m.\u001b[39mcopy()\n\u001b[1;32m    298\u001b[0m \u001b[38;5;28;01mtry\u001b[39;00m:\n\u001b[0;32m--> 299\u001b[0m     new_values \u001b[38;5;241m=\u001b[39m astype_array(values, dtype, copy\u001b[38;5;241m=\u001b[39mcopy)\n\u001b[1;32m    300\u001b[0m \u001b[38;5;28;01mexcept\u001b[39;00m (\u001b[38;5;167;01mValueError\u001b[39;00m, \u001b[38;5;167;01mTypeError\u001b[39;00m):\n\u001b[1;32m    301\u001b[0m     \u001b[38;5;66;03m# e.g. astype_nansafe can fail on object-dtype of strings\u001b[39;00m\n\u001b[1;32m    302\u001b[0m     \u001b[38;5;66;03m#  trying to convert to float\u001b[39;00m\n\u001b[1;32m    303\u001b[0m     \u001b[38;5;28;01mif\u001b[39;00m errors \u001b[38;5;241m==\u001b[39m \u001b[38;5;124m\"\u001b[39m\u001b[38;5;124mignore\u001b[39m\u001b[38;5;124m\"\u001b[39m:\n",
      "File \u001b[0;32m~/.local/lib/python3.11/site-packages/pandas/core/dtypes/astype.py:230\u001b[0m, in \u001b[0;36mastype_array\u001b[0;34m(values, dtype, copy)\u001b[0m\n\u001b[1;32m    227\u001b[0m     values \u001b[38;5;241m=\u001b[39m values\u001b[38;5;241m.\u001b[39mastype(dtype, copy\u001b[38;5;241m=\u001b[39mcopy)\n\u001b[1;32m    229\u001b[0m \u001b[38;5;28;01melse\u001b[39;00m:\n\u001b[0;32m--> 230\u001b[0m     values \u001b[38;5;241m=\u001b[39m astype_nansafe(values, dtype, copy\u001b[38;5;241m=\u001b[39mcopy)\n\u001b[1;32m    232\u001b[0m \u001b[38;5;66;03m# in pandas we don't store numpy str dtypes, so convert to object\u001b[39;00m\n\u001b[1;32m    233\u001b[0m \u001b[38;5;28;01mif\u001b[39;00m \u001b[38;5;28misinstance\u001b[39m(dtype, np\u001b[38;5;241m.\u001b[39mdtype) \u001b[38;5;129;01mand\u001b[39;00m \u001b[38;5;28missubclass\u001b[39m(values\u001b[38;5;241m.\u001b[39mdtype\u001b[38;5;241m.\u001b[39mtype, \u001b[38;5;28mstr\u001b[39m):\n",
      "File \u001b[0;32m~/.local/lib/python3.11/site-packages/pandas/core/dtypes/astype.py:170\u001b[0m, in \u001b[0;36mastype_nansafe\u001b[0;34m(arr, dtype, copy, skipna)\u001b[0m\n\u001b[1;32m    166\u001b[0m     \u001b[38;5;28;01mraise\u001b[39;00m \u001b[38;5;167;01mValueError\u001b[39;00m(msg)\n\u001b[1;32m    168\u001b[0m \u001b[38;5;28;01mif\u001b[39;00m copy \u001b[38;5;129;01mor\u001b[39;00m is_object_dtype(arr\u001b[38;5;241m.\u001b[39mdtype) \u001b[38;5;129;01mor\u001b[39;00m is_object_dtype(dtype):\n\u001b[1;32m    169\u001b[0m     \u001b[38;5;66;03m# Explicit copy, or required since NumPy can't view from / to object.\u001b[39;00m\n\u001b[0;32m--> 170\u001b[0m     \u001b[38;5;28;01mreturn\u001b[39;00m arr\u001b[38;5;241m.\u001b[39mastype(dtype, copy\u001b[38;5;241m=\u001b[39m\u001b[38;5;28;01mTrue\u001b[39;00m)\n\u001b[1;32m    172\u001b[0m \u001b[38;5;28;01mreturn\u001b[39;00m arr\u001b[38;5;241m.\u001b[39mastype(dtype, copy\u001b[38;5;241m=\u001b[39mcopy)\n",
      "\u001b[0;31mValueError\u001b[0m: invalid literal for int() with base 10: 'a'"
     ]
    }
   ],
   "source": [
    "# But this one won't:\n",
    "df['strings'] = df['strings'].astype(int)"
   ]
  },
  {
   "cell_type": "markdown",
   "id": "cdb0de57-73ca-44cf-9f47-6a17ad39c0dc",
   "metadata": {},
   "source": [
    "Pandas has many builtin conversion functions (to_datetime, to_timedelta, to_numeric, etc...) but you'll sometimes encounter data that's formatted in such a way that it's not possible to immediately convert it to the format you want using one of the builtin functions. To deal with this, sometimes you need to write your own conversion function.\n",
    "\n",
    "For example, if we check out the 'birth_date' column in our royal_line dataset, we see:"
   ]
  },
  {
   "cell_type": "code",
   "execution_count": 312,
   "id": "5b052a67-ac70-467a-9815-ca9ebf10446f",
   "metadata": {},
   "outputs": [
    {
     "name": "stdout",
     "output_type": "stream",
     "text": [
      "ID\n",
      "1       24 MAY 1819\n",
      "2       26 AUG 1819\n",
      "3       21 NOV 1840\n",
      "4        9 NOV 1841\n",
      "5       25 APR 1843\n",
      "           ...     \n",
      "3005            NaN\n",
      "3006           1879\n",
      "3007            NaN\n",
      "3008            NaN\n",
      "3009            NaN\n",
      "Name: birth_date, Length: 3009, dtype: object\n"
     ]
    }
   ],
   "source": [
    "df = pd.read_csv(path, index_col='ID')\n",
    "print(df['birth_date'])"
   ]
  },
  {
   "cell_type": "markdown",
   "id": "bc469368-8b97-4cc0-86ac-fa3b62fda90b",
   "metadata": {},
   "source": [
    "A lot of NaN. OK, let's remove these and see what we get:"
   ]
  },
  {
   "cell_type": "code",
   "execution_count": 314,
   "id": "28aef2e9-e4df-48ce-bd4d-484b32fd22f4",
   "metadata": {},
   "outputs": [
    {
     "name": "stdout",
     "output_type": "stream",
     "text": [
      "ID\n",
      "1       24 MAY 1819\n",
      "2       26 AUG 1819\n",
      "3       21 NOV 1840\n",
      "4        9 NOV 1841\n",
      "5       25 APR 1843\n",
      "           ...     \n",
      "2989    11 OCT 1937\n",
      "2996     5 SEP 1877\n",
      "2997     3 JAN 1907\n",
      "2998     4 JAN 1912\n",
      "3006           1879\n",
      "Name: birth_date, Length: 1734, dtype: object\n"
     ]
    }
   ],
   "source": [
    "df.dropna(subset = ['birth_date'], inplace=True)\n",
    "print(df['birth_date'])"
   ]
  },
  {
   "cell_type": "markdown",
   "id": "85721b4f-4066-48ac-a32b-2d1becdbea5e",
   "metadata": {},
   "source": [
    "If we then try to convert these values to datetimes we get:"
   ]
  },
  {
   "cell_type": "code",
   "execution_count": 316,
   "id": "8cf630b4-5820-4f71-8d01-7a2dc00de36c",
   "metadata": {},
   "outputs": [
    {
     "ename": "OutOfBoundsDatetime",
     "evalue": "Out of bounds nanosecond timestamp: 1292-01-01 00:00:00 present at position 123",
     "output_type": "error",
     "traceback": [
      "\u001b[0;31m---------------------------------------------------------------------------\u001b[0m",
      "\u001b[0;31mOutOfBoundsDatetime\u001b[0m                       Traceback (most recent call last)",
      "Cell \u001b[0;32mIn[316], line 1\u001b[0m\n\u001b[0;32m----> 1\u001b[0m df[\u001b[38;5;124m'\u001b[39m\u001b[38;5;124mbirth_date\u001b[39m\u001b[38;5;124m'\u001b[39m] \u001b[38;5;241m=\u001b[39m pd\u001b[38;5;241m.\u001b[39mto_datetime(df[\u001b[38;5;124m'\u001b[39m\u001b[38;5;124mbirth_date\u001b[39m\u001b[38;5;124m'\u001b[39m])\n",
      "File \u001b[0;32m~/.local/lib/python3.11/site-packages/pandas/core/tools/datetimes.py:1068\u001b[0m, in \u001b[0;36mto_datetime\u001b[0;34m(arg, errors, dayfirst, yearfirst, utc, format, exact, unit, infer_datetime_format, origin, cache)\u001b[0m\n\u001b[1;32m   1066\u001b[0m         result \u001b[38;5;241m=\u001b[39m arg\u001b[38;5;241m.\u001b[39mmap(cache_array)\n\u001b[1;32m   1067\u001b[0m     \u001b[38;5;28;01melse\u001b[39;00m:\n\u001b[0;32m-> 1068\u001b[0m         values \u001b[38;5;241m=\u001b[39m convert_listlike(arg\u001b[38;5;241m.\u001b[39m_values, \u001b[38;5;28mformat\u001b[39m)\n\u001b[1;32m   1069\u001b[0m         result \u001b[38;5;241m=\u001b[39m arg\u001b[38;5;241m.\u001b[39m_constructor(values, index\u001b[38;5;241m=\u001b[39marg\u001b[38;5;241m.\u001b[39mindex, name\u001b[38;5;241m=\u001b[39marg\u001b[38;5;241m.\u001b[39mname)\n\u001b[1;32m   1070\u001b[0m \u001b[38;5;28;01melif\u001b[39;00m \u001b[38;5;28misinstance\u001b[39m(arg, (ABCDataFrame, abc\u001b[38;5;241m.\u001b[39mMutableMapping)):\n",
      "File \u001b[0;32m~/.local/lib/python3.11/site-packages/pandas/core/tools/datetimes.py:438\u001b[0m, in \u001b[0;36m_convert_listlike_datetimes\u001b[0;34m(arg, format, name, tz, unit, errors, infer_datetime_format, dayfirst, yearfirst, exact)\u001b[0m\n\u001b[1;32m    436\u001b[0m \u001b[38;5;28;01massert\u001b[39;00m \u001b[38;5;28mformat\u001b[39m \u001b[38;5;129;01mis\u001b[39;00m \u001b[38;5;28;01mNone\u001b[39;00m \u001b[38;5;129;01mor\u001b[39;00m infer_datetime_format\n\u001b[1;32m    437\u001b[0m utc \u001b[38;5;241m=\u001b[39m tz \u001b[38;5;241m==\u001b[39m \u001b[38;5;124m\"\u001b[39m\u001b[38;5;124mutc\u001b[39m\u001b[38;5;124m\"\u001b[39m\n\u001b[0;32m--> 438\u001b[0m result, tz_parsed \u001b[38;5;241m=\u001b[39m objects_to_datetime64ns(\n\u001b[1;32m    439\u001b[0m     arg,\n\u001b[1;32m    440\u001b[0m     dayfirst\u001b[38;5;241m=\u001b[39mdayfirst,\n\u001b[1;32m    441\u001b[0m     yearfirst\u001b[38;5;241m=\u001b[39myearfirst,\n\u001b[1;32m    442\u001b[0m     utc\u001b[38;5;241m=\u001b[39mutc,\n\u001b[1;32m    443\u001b[0m     errors\u001b[38;5;241m=\u001b[39merrors,\n\u001b[1;32m    444\u001b[0m     require_iso8601\u001b[38;5;241m=\u001b[39mrequire_iso8601,\n\u001b[1;32m    445\u001b[0m     allow_object\u001b[38;5;241m=\u001b[39m\u001b[38;5;28;01mTrue\u001b[39;00m,\n\u001b[1;32m    446\u001b[0m )\n\u001b[1;32m    448\u001b[0m \u001b[38;5;28;01mif\u001b[39;00m tz_parsed \u001b[38;5;129;01mis\u001b[39;00m \u001b[38;5;129;01mnot\u001b[39;00m \u001b[38;5;28;01mNone\u001b[39;00m:\n\u001b[1;32m    449\u001b[0m     \u001b[38;5;66;03m# We can take a shortcut since the datetime64 numpy array\u001b[39;00m\n\u001b[1;32m    450\u001b[0m     \u001b[38;5;66;03m# is in UTC\u001b[39;00m\n\u001b[1;32m    451\u001b[0m     dta \u001b[38;5;241m=\u001b[39m DatetimeArray(result, dtype\u001b[38;5;241m=\u001b[39mtz_to_dtype(tz_parsed))\n",
      "File \u001b[0;32m~/.local/lib/python3.11/site-packages/pandas/core/arrays/datetimes.py:2177\u001b[0m, in \u001b[0;36mobjects_to_datetime64ns\u001b[0;34m(data, dayfirst, yearfirst, utc, errors, require_iso8601, allow_object, allow_mixed)\u001b[0m\n\u001b[1;32m   2175\u001b[0m order: Literal[\u001b[38;5;124m\"\u001b[39m\u001b[38;5;124mF\u001b[39m\u001b[38;5;124m\"\u001b[39m, \u001b[38;5;124m\"\u001b[39m\u001b[38;5;124mC\u001b[39m\u001b[38;5;124m\"\u001b[39m] \u001b[38;5;241m=\u001b[39m \u001b[38;5;124m\"\u001b[39m\u001b[38;5;124mF\u001b[39m\u001b[38;5;124m\"\u001b[39m \u001b[38;5;28;01mif\u001b[39;00m flags\u001b[38;5;241m.\u001b[39mf_contiguous \u001b[38;5;28;01melse\u001b[39;00m \u001b[38;5;124m\"\u001b[39m\u001b[38;5;124mC\u001b[39m\u001b[38;5;124m\"\u001b[39m\n\u001b[1;32m   2176\u001b[0m \u001b[38;5;28;01mtry\u001b[39;00m:\n\u001b[0;32m-> 2177\u001b[0m     result, tz_parsed \u001b[38;5;241m=\u001b[39m tslib\u001b[38;5;241m.\u001b[39marray_to_datetime(\n\u001b[1;32m   2178\u001b[0m         data\u001b[38;5;241m.\u001b[39mravel(\u001b[38;5;124m\"\u001b[39m\u001b[38;5;124mK\u001b[39m\u001b[38;5;124m\"\u001b[39m),\n\u001b[1;32m   2179\u001b[0m         errors\u001b[38;5;241m=\u001b[39merrors,\n\u001b[1;32m   2180\u001b[0m         utc\u001b[38;5;241m=\u001b[39mutc,\n\u001b[1;32m   2181\u001b[0m         dayfirst\u001b[38;5;241m=\u001b[39mdayfirst,\n\u001b[1;32m   2182\u001b[0m         yearfirst\u001b[38;5;241m=\u001b[39myearfirst,\n\u001b[1;32m   2183\u001b[0m         require_iso8601\u001b[38;5;241m=\u001b[39mrequire_iso8601,\n\u001b[1;32m   2184\u001b[0m         allow_mixed\u001b[38;5;241m=\u001b[39mallow_mixed,\n\u001b[1;32m   2185\u001b[0m     )\n\u001b[1;32m   2186\u001b[0m     result \u001b[38;5;241m=\u001b[39m result\u001b[38;5;241m.\u001b[39mreshape(data\u001b[38;5;241m.\u001b[39mshape, order\u001b[38;5;241m=\u001b[39morder)\n\u001b[1;32m   2187\u001b[0m \u001b[38;5;28;01mexcept\u001b[39;00m \u001b[38;5;167;01mOverflowError\u001b[39;00m \u001b[38;5;28;01mas\u001b[39;00m err:\n\u001b[1;32m   2188\u001b[0m     \u001b[38;5;66;03m# Exception is raised when a part of date is greater than 32 bit signed int\u001b[39;00m\n",
      "File \u001b[0;32m~/.local/lib/python3.11/site-packages/pandas/_libs/tslib.pyx:427\u001b[0m, in \u001b[0;36mpandas._libs.tslib.array_to_datetime\u001b[0;34m()\u001b[0m\n",
      "File \u001b[0;32m~/.local/lib/python3.11/site-packages/pandas/_libs/tslib.pyx:678\u001b[0m, in \u001b[0;36mpandas._libs.tslib.array_to_datetime\u001b[0;34m()\u001b[0m\n",
      "File \u001b[0;32m~/.local/lib/python3.11/site-packages/pandas/_libs/tslib.pyx:674\u001b[0m, in \u001b[0;36mpandas._libs.tslib.array_to_datetime\u001b[0;34m()\u001b[0m\n",
      "File \u001b[0;32m~/.local/lib/python3.11/site-packages/pandas/_libs/tslib.pyx:649\u001b[0m, in \u001b[0;36mpandas._libs.tslib.array_to_datetime\u001b[0;34m()\u001b[0m\n",
      "File \u001b[0;32m~/.local/lib/python3.11/site-packages/pandas/_libs/tslibs/np_datetime.pyx:212\u001b[0m, in \u001b[0;36mpandas._libs.tslibs.np_datetime.check_dts_bounds\u001b[0;34m()\u001b[0m\n",
      "\u001b[0;31mOutOfBoundsDatetime\u001b[0m: Out of bounds nanosecond timestamp: 1292-01-01 00:00:00 present at position 123"
     ]
    }
   ],
   "source": [
    "df['birth_date'] = pd.to_datetime(df['birth_date']) # This fails"
   ]
  },
  {
   "cell_type": "markdown",
   "id": "cb077924-aa42-4d6c-8920-6ed5ba5c70c8",
   "metadata": {},
   "source": [
    "This generates errors due to several issues. First, there are entries in the dataset formatted like the following: ABT 751. This notation means that the family history experts believe the person was born about (ABT) 751. the second is related to an out of bounds nanosecond timestamp error relating to Pandas only supporting approximately 580 years in the range from around 1677 to 2262.\n",
    "\n",
    "To get around these issue, we'll write and then apply our own function. Note we're not dropping the NaN values here."
   ]
  },
  {
   "cell_type": "code",
   "execution_count": 356,
   "id": "73d4fb5e-8632-4aeb-b32b-4857bad91dd1",
   "metadata": {},
   "outputs": [
    {
     "name": "stdout",
     "output_type": "stream",
     "text": [
      "ID\n",
      "1       1819.0\n",
      "2       1819.0\n",
      "3       1840.0\n",
      "4       1841.0\n",
      "5       1843.0\n",
      "         ...  \n",
      "2989    1937.0\n",
      "2996    1877.0\n",
      "2997    1907.0\n",
      "2998    1912.0\n",
      "3006    1879.0\n",
      "Name: birth_year, Length: 1734, dtype: float64\n"
     ]
    }
   ],
   "source": [
    "def get_year(x):\n",
    "    if pd.isna(x):\n",
    "        year_result = np.nan  # if the birth_year is nan then return nan\n",
    "    else:  # checking a number of edge cases in the data and stripping it out:\n",
    "        if \"ABT\" in x:  # for example: ABT  1775  \n",
    "            x = x[3:]\n",
    "            x = x.strip()\n",
    "        if \"/\" in x:  #  For example: 1775/1776\n",
    "            x = x[:x.find('/')]\n",
    "        num_spaces = x.count(' ')\n",
    "        if num_spaces == 0:  # only has the year\n",
    "            year_result = int(x)\n",
    "        elif num_spaces == 1:  # example: FEB 1337\n",
    "            x = x[x.rfind(' ') + 1:]  # 'rfind' finds the last space. The 'r' stands for 'reverse.'\n",
    "            if x.isnumeric():\n",
    "                year_result = int(x)\n",
    "            else:  # This could happen if there is only a day and month, like '10 JAN'\n",
    "                year_result = np.nan\n",
    "        elif num_spaces == 2:  # example: 16 FEB 1337\n",
    "            x = x[x.rfind(' ') + 1:]  # 'rfind' finds the last space. The 'r' stands for 'reverse.'\n",
    "            year_result = int(x)\n",
    "        else:\n",
    "            year_result = np.nan  # There are a few other strange dates that aren't worth our time to fix, so just return nan for those.\n",
    "    return year_result\n",
    "\n",
    "df['birth_year'] = df['birth_date'].map(get_year)\n",
    "\n",
    "print(df['birth_year'])"
   ]
  },
  {
   "cell_type": "markdown",
   "id": "1db287be-6ab1-4218-8c85-9db5742e62b8",
   "metadata": {},
   "source": [
    "### Conditionals in Dataframes and Series"
   ]
  },
  {
   "cell_type": "markdown",
   "id": "45dbf562-88bc-4cf1-96b9-7ad597a9b50c",
   "metadata": {},
   "source": [
    "Conditionals are a very useful feature of Pandas which typically produce a Numpy array of Booleans or a Pandas Boolean series.\n",
    "\n",
    "For example, consider the following code that produces True if the birth_year column (calculated above) is greater than or equal to 1990, and False otherwise."
   ]
  },
  {
   "cell_type": "code",
   "execution_count": 359,
   "id": "9d871730-f8cf-4365-b2ed-31c26df81d85",
   "metadata": {},
   "outputs": [
    {
     "name": "stdout",
     "output_type": "stream",
     "text": [
      "ID\n",
      "1       False\n",
      "2       False\n",
      "3       False\n",
      "4       False\n",
      "5       False\n",
      "        ...  \n",
      "2989    False\n",
      "2996    False\n",
      "2997    False\n",
      "2998    False\n",
      "3006    False\n",
      "Name: birth_year, Length: 1734, dtype: bool\n"
     ]
    }
   ],
   "source": [
    "boolean_mask = (df.birth_year >= 1990)\n",
    "print(boolean_mask)"
   ]
  },
  {
   "cell_type": "markdown",
   "id": "3ed8229e-f91e-45b5-88f1-6586bcf2ac69",
   "metadata": {},
   "source": [
    "We can then use this to, for example, only print the entries for which the boolean is True."
   ]
  },
  {
   "cell_type": "code",
   "execution_count": 361,
   "id": "f8c9cf1c-d7e8-43b9-8af4-990d282eda40",
   "metadata": {},
   "outputs": [
    {
     "name": "stdout",
     "output_type": "stream",
     "text": [
      "                   first_name last_name  birth_year\n",
      "ID                                                 \n",
      "2958  Eugenie Victoria Helena   Windsor      1990.0\n",
      "2961                      NaN    Mowatt      1990.0\n",
      "2963                    Kitty       NaN      1991.0\n"
     ]
    }
   ],
   "source": [
    "print(df[['first_name', 'last_name', 'birth_year']][boolean_mask])"
   ]
  },
  {
   "cell_type": "markdown",
   "id": "f20d226a-fed4-4b8b-bf96-6b262343443b",
   "metadata": {},
   "source": [
    "We can combine Boolean expressions using the logical operators & (\"and\"), | (\"or\"), and ~ (\"not\"). For example:"
   ]
  },
  {
   "cell_type": "code",
   "execution_count": 363,
   "id": "d1c62f00-c068-4eb9-a917-0892ee79e7ac",
   "metadata": {},
   "outputs": [
    {
     "name": "stdout",
     "output_type": "stream",
     "text": [
      "                          first_name             title  birth_year\n",
      "ID                                                                \n",
      "1                           Victoria  Queen of England      1819.0\n",
      "27            Victoria Eugenie Ena\"\"    Queen of Spain      1887.0\n",
      "30                Mary_of_Teck (May)             Queen      1867.0\n",
      "52       Elizabeth_II Alexandra Mary  Queen of England      1926.0\n",
      "76                 Sophie of_Prussia   Queen of Greece      1870.0\n",
      "96    Marie of_Saxe-Coburg and_Gotha  Queen of Romania      1875.0\n",
      "610                     Mergrethe_II  Queen of Denmark      1940.0\n",
      "656              Emma of_Netherlands      Queen Regent      1858.0\n",
      "657        Wilhelmina of_Netherlands             Queen      1880.0\n",
      "659           Juliana of_Netherlands             Queen      1909.0\n",
      "661           Beatrix of_Netherlands             Queen      1938.0\n",
      "682        Maria Cristina of_Austria    Queen of Spain      1858.0\n",
      "693                             Anne  Queen of England      1665.0\n",
      "709                          Mary_II  Queen of England      1662.0\n",
      "846                           Mary_I  Queen of England      1516.0\n",
      "849                      Elizabeth_I  Queen of England      1533.0\n",
      "868                             Jane  Queen of England      1537.0\n",
      "1244                     Isabella_II    Queen of Spain      1830.0\n",
      "1247                            Mary    Queen of Scots      1542.0\n",
      "1705         Marie Amelie of_Bourbon   Queen of France      1782.0\n"
     ]
    }
   ],
   "source": [
    "print(df[(df.birth_year >= 1500) & (df.title.str.contains('Queen'))][['first_name', 'title', 'birth_year']])"
   ]
  },
  {
   "cell_type": "markdown",
   "id": "0dc04e57-88e2-4f81-9941-c0881a0fb039",
   "metadata": {},
   "source": [
    "### loc and iloc Functions"
   ]
  },
  {
   "cell_type": "markdown",
   "id": "96d477b8-156f-4c34-8cc1-660543c16358",
   "metadata": {},
   "source": [
    "One of the most common tasks for data scientists is filtering the information to more efficiently derive actionable insights about the data. We've seen the \"head\" and \"tail\" functions, which provide a quick, truncated view of the beginning or end, respectively, of the dataframe or series. But what if you're interested in examining results that are not necessarily at the very beginning or end of the dataset.\n",
    "\n",
    "For this purpose, the loc function is designed to access rows and columns by label. In contrast, the iloc function is used to access rows and columns by integer value - the \"i\" stands for \"integer\".\n",
    "\n",
    "A quick example of the difference is illustrated below, where both commands do the same thing:"
   ]
  },
  {
   "cell_type": "code",
   "execution_count": 366,
   "id": "9f953e2f-e666-4347-9ec7-a3a2116ae7bd",
   "metadata": {},
   "outputs": [
    {
     "name": "stdout",
     "output_type": "stream",
     "text": [
      "first_name                                Victoria\n",
      "last_name                                  Hanover\n",
      "sex                                              F\n",
      "title                             Queen of England\n",
      "birth_date                             24 MAY 1819\n",
      "birth_place       Kensington,Palace,London,England\n",
      "death_date                             22 JAN 1901\n",
      "death_place    Osborne House,Isle of Wight,England\n",
      "birth_year                                  1819.0\n",
      "Name: 1, dtype: object\n"
     ]
    }
   ],
   "source": [
    "print(df.loc[1])"
   ]
  },
  {
   "cell_type": "code",
   "execution_count": 367,
   "id": "583ee3d2-33c3-4fa2-96b5-6aafdfdc1e7b",
   "metadata": {},
   "outputs": [
    {
     "name": "stdout",
     "output_type": "stream",
     "text": [
      "first_name                                Victoria\n",
      "last_name                                  Hanover\n",
      "sex                                              F\n",
      "title                             Queen of England\n",
      "birth_date                             24 MAY 1819\n",
      "birth_place       Kensington,Palace,London,England\n",
      "death_date                             22 JAN 1901\n",
      "death_place    Osborne House,Isle of Wight,England\n",
      "birth_year                                  1819.0\n",
      "Name: 1, dtype: object\n"
     ]
    }
   ],
   "source": [
    "print(df.iloc[0])"
   ]
  },
  {
   "cell_type": "markdown",
   "id": "2ce69acf-abcc-4790-9121-aa7dcf4ee4ad",
   "metadata": {},
   "source": [
    "However, the following will produce an error:"
   ]
  },
  {
   "cell_type": "code",
   "execution_count": 369,
   "id": "0ffce3cc-7fd6-4883-8342-6f7ce3b25963",
   "metadata": {},
   "outputs": [
    {
     "ename": "KeyError",
     "evalue": "0",
     "output_type": "error",
     "traceback": [
      "\u001b[0;31m---------------------------------------------------------------------------\u001b[0m",
      "\u001b[0;31mKeyError\u001b[0m                                  Traceback (most recent call last)",
      "File \u001b[0;32m~/.local/lib/python3.11/site-packages/pandas/core/indexes/base.py:3802\u001b[0m, in \u001b[0;36mIndex.get_loc\u001b[0;34m(self, key, method, tolerance)\u001b[0m\n\u001b[1;32m   3801\u001b[0m \u001b[38;5;28;01mtry\u001b[39;00m:\n\u001b[0;32m-> 3802\u001b[0m     \u001b[38;5;28;01mreturn\u001b[39;00m \u001b[38;5;28mself\u001b[39m\u001b[38;5;241m.\u001b[39m_engine\u001b[38;5;241m.\u001b[39mget_loc(casted_key)\n\u001b[1;32m   3803\u001b[0m \u001b[38;5;28;01mexcept\u001b[39;00m \u001b[38;5;167;01mKeyError\u001b[39;00m \u001b[38;5;28;01mas\u001b[39;00m err:\n",
      "File \u001b[0;32m~/.local/lib/python3.11/site-packages/pandas/_libs/index.pyx:138\u001b[0m, in \u001b[0;36mpandas._libs.index.IndexEngine.get_loc\u001b[0;34m()\u001b[0m\n",
      "File \u001b[0;32m~/.local/lib/python3.11/site-packages/pandas/_libs/index.pyx:165\u001b[0m, in \u001b[0;36mpandas._libs.index.IndexEngine.get_loc\u001b[0;34m()\u001b[0m\n",
      "File \u001b[0;32mpandas/_libs/hashtable_class_helper.pxi:2263\u001b[0m, in \u001b[0;36mpandas._libs.hashtable.Int64HashTable.get_item\u001b[0;34m()\u001b[0m\n",
      "File \u001b[0;32mpandas/_libs/hashtable_class_helper.pxi:2273\u001b[0m, in \u001b[0;36mpandas._libs.hashtable.Int64HashTable.get_item\u001b[0;34m()\u001b[0m\n",
      "\u001b[0;31mKeyError\u001b[0m: 0",
      "\nThe above exception was the direct cause of the following exception:\n",
      "\u001b[0;31mKeyError\u001b[0m                                  Traceback (most recent call last)",
      "Cell \u001b[0;32mIn[369], line 1\u001b[0m\n\u001b[0;32m----> 1\u001b[0m \u001b[38;5;28mprint\u001b[39m(df\u001b[38;5;241m.\u001b[39mloc[\u001b[38;5;241m0\u001b[39m])\n",
      "File \u001b[0;32m~/.local/lib/python3.11/site-packages/pandas/core/indexing.py:1073\u001b[0m, in \u001b[0;36m_LocationIndexer.__getitem__\u001b[0;34m(self, key)\u001b[0m\n\u001b[1;32m   1070\u001b[0m axis \u001b[38;5;241m=\u001b[39m \u001b[38;5;28mself\u001b[39m\u001b[38;5;241m.\u001b[39maxis \u001b[38;5;129;01mor\u001b[39;00m \u001b[38;5;241m0\u001b[39m\n\u001b[1;32m   1072\u001b[0m maybe_callable \u001b[38;5;241m=\u001b[39m com\u001b[38;5;241m.\u001b[39mapply_if_callable(key, \u001b[38;5;28mself\u001b[39m\u001b[38;5;241m.\u001b[39mobj)\n\u001b[0;32m-> 1073\u001b[0m \u001b[38;5;28;01mreturn\u001b[39;00m \u001b[38;5;28mself\u001b[39m\u001b[38;5;241m.\u001b[39m_getitem_axis(maybe_callable, axis\u001b[38;5;241m=\u001b[39maxis)\n",
      "File \u001b[0;32m~/.local/lib/python3.11/site-packages/pandas/core/indexing.py:1312\u001b[0m, in \u001b[0;36m_LocIndexer._getitem_axis\u001b[0;34m(self, key, axis)\u001b[0m\n\u001b[1;32m   1310\u001b[0m \u001b[38;5;66;03m# fall thru to straight lookup\u001b[39;00m\n\u001b[1;32m   1311\u001b[0m \u001b[38;5;28mself\u001b[39m\u001b[38;5;241m.\u001b[39m_validate_key(key, axis)\n\u001b[0;32m-> 1312\u001b[0m \u001b[38;5;28;01mreturn\u001b[39;00m \u001b[38;5;28mself\u001b[39m\u001b[38;5;241m.\u001b[39m_get_label(key, axis\u001b[38;5;241m=\u001b[39maxis)\n",
      "File \u001b[0;32m~/.local/lib/python3.11/site-packages/pandas/core/indexing.py:1260\u001b[0m, in \u001b[0;36m_LocIndexer._get_label\u001b[0;34m(self, label, axis)\u001b[0m\n\u001b[1;32m   1258\u001b[0m \u001b[38;5;28;01mdef\u001b[39;00m \u001b[38;5;21m_get_label\u001b[39m(\u001b[38;5;28mself\u001b[39m, label, axis: \u001b[38;5;28mint\u001b[39m):\n\u001b[1;32m   1259\u001b[0m     \u001b[38;5;66;03m# GH#5567 this will fail if the label is not present in the axis.\u001b[39;00m\n\u001b[0;32m-> 1260\u001b[0m     \u001b[38;5;28;01mreturn\u001b[39;00m \u001b[38;5;28mself\u001b[39m\u001b[38;5;241m.\u001b[39mobj\u001b[38;5;241m.\u001b[39mxs(label, axis\u001b[38;5;241m=\u001b[39maxis)\n",
      "File \u001b[0;32m~/.local/lib/python3.11/site-packages/pandas/core/generic.py:4056\u001b[0m, in \u001b[0;36mNDFrame.xs\u001b[0;34m(self, key, axis, level, drop_level)\u001b[0m\n\u001b[1;32m   4054\u001b[0m             new_index \u001b[38;5;241m=\u001b[39m index[loc]\n\u001b[1;32m   4055\u001b[0m \u001b[38;5;28;01melse\u001b[39;00m:\n\u001b[0;32m-> 4056\u001b[0m     loc \u001b[38;5;241m=\u001b[39m index\u001b[38;5;241m.\u001b[39mget_loc(key)\n\u001b[1;32m   4058\u001b[0m     \u001b[38;5;28;01mif\u001b[39;00m \u001b[38;5;28misinstance\u001b[39m(loc, np\u001b[38;5;241m.\u001b[39mndarray):\n\u001b[1;32m   4059\u001b[0m         \u001b[38;5;28;01mif\u001b[39;00m loc\u001b[38;5;241m.\u001b[39mdtype \u001b[38;5;241m==\u001b[39m np\u001b[38;5;241m.\u001b[39mbool_:\n",
      "File \u001b[0;32m~/.local/lib/python3.11/site-packages/pandas/core/indexes/base.py:3804\u001b[0m, in \u001b[0;36mIndex.get_loc\u001b[0;34m(self, key, method, tolerance)\u001b[0m\n\u001b[1;32m   3802\u001b[0m     \u001b[38;5;28;01mreturn\u001b[39;00m \u001b[38;5;28mself\u001b[39m\u001b[38;5;241m.\u001b[39m_engine\u001b[38;5;241m.\u001b[39mget_loc(casted_key)\n\u001b[1;32m   3803\u001b[0m \u001b[38;5;28;01mexcept\u001b[39;00m \u001b[38;5;167;01mKeyError\u001b[39;00m \u001b[38;5;28;01mas\u001b[39;00m err:\n\u001b[0;32m-> 3804\u001b[0m     \u001b[38;5;28;01mraise\u001b[39;00m \u001b[38;5;167;01mKeyError\u001b[39;00m(key) \u001b[38;5;28;01mfrom\u001b[39;00m \u001b[38;5;21;01merr\u001b[39;00m\n\u001b[1;32m   3805\u001b[0m \u001b[38;5;28;01mexcept\u001b[39;00m \u001b[38;5;167;01mTypeError\u001b[39;00m:\n\u001b[1;32m   3806\u001b[0m     \u001b[38;5;66;03m# If we have a listlike key, _check_indexing_error will raise\u001b[39;00m\n\u001b[1;32m   3807\u001b[0m     \u001b[38;5;66;03m#  InvalidIndexError. Otherwise we fall through and re-raise\u001b[39;00m\n\u001b[1;32m   3808\u001b[0m     \u001b[38;5;66;03m#  the TypeError.\u001b[39;00m\n\u001b[1;32m   3809\u001b[0m     \u001b[38;5;28mself\u001b[39m\u001b[38;5;241m.\u001b[39m_check_indexing_error(key)\n",
      "\u001b[0;31mKeyError\u001b[0m: 0"
     ]
    }
   ],
   "source": [
    "print(df.loc[0])"
   ]
  },
  {
   "cell_type": "markdown",
   "id": "46fe4489-81bb-4218-bb1b-c8de0e9375ea",
   "metadata": {},
   "source": [
    "Because there is no row with label 0."
   ]
  },
  {
   "cell_type": "markdown",
   "id": "0aae94e0-a01c-4cc1-9895-d38013a399ca",
   "metadata": {},
   "source": [
    "Now, row indices (labels) don't need to be unique. For example:"
   ]
  },
  {
   "cell_type": "code",
   "execution_count": 402,
   "id": "12194d5b-e44b-4bb7-b4ac-d71ce33f3c1b",
   "metadata": {},
   "outputs": [
    {
     "name": "stdout",
     "output_type": "stream",
     "text": [
      "       A  B\n",
      "cat    0  1\n",
      "42     2  3\n",
      "stone  4  5\n",
      "42     6  7\n",
      "12345  8  9\n"
     ]
    }
   ],
   "source": [
    "df = pd.DataFrame(np.arange(10).reshape(5, 2), columns=['A', 'B'], index=['cat', 42, 'stone', 42, 12345])# Five rows each with an associated index\n",
    "print(df)"
   ]
  },
  {
   "cell_type": "markdown",
   "id": "15325357-7f4a-4524-a78e-db40f92b9bd0",
   "metadata": {},
   "source": [
    "The index \"42\" appears twice, and some indices are numbers, while some are strings. Let's look at some examples:"
   ]
  },
  {
   "cell_type": "code",
   "execution_count": 404,
   "id": "1a202265-e03e-4854-8124-29db008ba151",
   "metadata": {},
   "outputs": [
    {
     "name": "stdout",
     "output_type": "stream",
     "text": [
      "A    8\n",
      "B    9\n",
      "Name: 12345, dtype: int64\n"
     ]
    }
   ],
   "source": [
    "print(df.loc[12345])"
   ]
  },
  {
   "cell_type": "code",
   "execution_count": 405,
   "id": "c7979d6b-61d4-4d55-a228-5590e3025bca",
   "metadata": {},
   "outputs": [
    {
     "name": "stdout",
     "output_type": "stream",
     "text": [
      "A    4\n",
      "B    5\n",
      "Name: stone, dtype: int64\n"
     ]
    }
   ],
   "source": [
    "print(df.loc['stone'])"
   ]
  },
  {
   "cell_type": "code",
   "execution_count": 406,
   "id": "7b9d7ff4-5d86-4238-8336-a4204f1f6a8c",
   "metadata": {},
   "outputs": [
    {
     "name": "stdout",
     "output_type": "stream",
     "text": [
      "    A  B\n",
      "42  2  3\n",
      "42  6  7\n"
     ]
    }
   ],
   "source": [
    "print(df.loc[42])"
   ]
  },
  {
   "cell_type": "code",
   "execution_count": 439,
   "id": "f6f40089-554b-44ad-ab79-89ca8f07ec9f",
   "metadata": {},
   "outputs": [
    {
     "name": "stdout",
     "output_type": "stream",
     "text": [
      "       A  B\n",
      "cat    0  1\n",
      "42     2  3\n",
      "stone  4  5\n"
     ]
    }
   ],
   "source": [
    "print(df.loc['cat':'stone'])"
   ]
  },
  {
   "cell_type": "code",
   "execution_count": 440,
   "id": "133ad13e-d113-4ca3-99f5-934ab9522ec6",
   "metadata": {},
   "outputs": [
    {
     "name": "stdout",
     "output_type": "stream",
     "text": [
      "       A  B\n",
      "cat    0  1\n",
      "stone  4  5\n"
     ]
    }
   ],
   "source": [
    "print(df.loc[['cat','stone']])"
   ]
  },
  {
   "cell_type": "code",
   "execution_count": 441,
   "id": "4affa582-fe85-4408-9469-35f6647b3d56",
   "metadata": {},
   "outputs": [
    {
     "name": "stdout",
     "output_type": "stream",
     "text": [
      "5\n"
     ]
    }
   ],
   "source": [
    "print(df.loc['stone', 'B'])"
   ]
  },
  {
   "cell_type": "code",
   "execution_count": 442,
   "id": "2d3ee14a-a239-4e29-91b9-476704667b26",
   "metadata": {},
   "outputs": [
    {
     "name": "stdout",
     "output_type": "stream",
     "text": [
      "       A  B\n",
      "stone  4  5\n",
      "42     6  7\n",
      "12345  8  9\n"
     ]
    }
   ],
   "source": [
    "print(df.loc[df['A'] > 3])"
   ]
  },
  {
   "cell_type": "markdown",
   "id": "ba4b8a03-ba95-4ac5-add6-5d9be209f8ec",
   "metadata": {},
   "source": [
    "Now let's take a look at some iloc examples:"
   ]
  },
  {
   "cell_type": "code",
   "execution_count": 444,
   "id": "7261fb23-32f8-4e0d-91a3-edc684293340",
   "metadata": {},
   "outputs": [
    {
     "name": "stdout",
     "output_type": "stream",
     "text": [
      "A    0\n",
      "B    1\n",
      "Name: cat, dtype: int64\n"
     ]
    }
   ],
   "source": [
    "print(df.iloc[0])"
   ]
  },
  {
   "cell_type": "code",
   "execution_count": 445,
   "id": "9d4dde4f-6f4b-42c7-94e7-ba0791c2891c",
   "metadata": {},
   "outputs": [
    {
     "name": "stdout",
     "output_type": "stream",
     "text": [
      "       A  B\n",
      "cat    0  1\n",
      "42     2  3\n",
      "stone  4  5\n"
     ]
    }
   ],
   "source": [
    "print(df.iloc[0:3])"
   ]
  },
  {
   "cell_type": "code",
   "execution_count": 446,
   "id": "32928a8a-562e-4c95-8044-e6daa0899c97",
   "metadata": {},
   "outputs": [
    {
     "name": "stdout",
     "output_type": "stream",
     "text": [
      "       A  B\n",
      "cat    0  1\n",
      "stone  4  5\n",
      "12345  8  9\n"
     ]
    }
   ],
   "source": [
    "print(df.iloc[[0,2,4]])"
   ]
  },
  {
   "cell_type": "code",
   "execution_count": 447,
   "id": "1fa1ef61-c7f9-4758-8d88-a94b386788dd",
   "metadata": {},
   "outputs": [
    {
     "name": "stdout",
     "output_type": "stream",
     "text": [
      "1\n"
     ]
    }
   ],
   "source": [
    "print(df.iloc[0,1])"
   ]
  },
  {
   "cell_type": "code",
   "execution_count": 448,
   "id": "58c59239-f3ff-4b9c-a596-483b2c0604fd",
   "metadata": {},
   "outputs": [
    {
     "name": "stdout",
     "output_type": "stream",
     "text": [
      "cat      1\n",
      "42       3\n",
      "stone    5\n",
      "Name: B, dtype: int64\n"
     ]
    }
   ],
   "source": [
    "print(df.iloc[0:3,1])"
   ]
  },
  {
   "cell_type": "markdown",
   "id": "4b1085a9-c0e7-42fd-8c23-870b0d809fc8",
   "metadata": {},
   "source": [
    "Returning to the royal family history data as an example, let's create a new column named \"era\". The \"era\" column signifies if a person was born in one of three distinct time periods: 'ancient', 'middle_years', or 'modern'. The following creates a new column and initially assigns the value 'unknown' to every entry within it:"
   ]
  },
  {
   "cell_type": "code",
   "execution_count": 450,
   "id": "3c54d1a8-8f44-4300-86a0-32e620740af8",
   "metadata": {},
   "outputs": [],
   "source": [
    "df = pd.read_csv(path, index_col='ID')\n",
    "df['birth_year'] = df['birth_date'].map(get_year)\n",
    "df['era'] = 'unknown'"
   ]
  },
  {
   "cell_type": "code",
   "execution_count": 451,
   "id": "f7931995-86da-4713-823e-bce6644d8efc",
   "metadata": {},
   "outputs": [
    {
     "name": "stdout",
     "output_type": "stream",
     "text": [
      "                   first_name last_name sex             title   birth_date  \\\n",
      "ID                                                                           \n",
      "1                    Victoria   Hanover   F  Queen of England  24 MAY 1819   \n",
      "2     Albert Augustus Charles       NaN   M            Prince  26 AUG 1819   \n",
      "3      Victoria Adelaide Mary       NaN   F    Princess Royal  21 NOV 1840   \n",
      "4                  Edward_VII    Wettin   M   King of England   9 NOV 1841   \n",
      "5             Alice Maud Mary       NaN   F          Princess  25 APR 1843   \n",
      "...                       ...       ...  ..               ...          ...   \n",
      "3005                    Emily   Scobell   F               NaN          NaN   \n",
      "3006             John Sanford   Scobell   M               Sir         1879   \n",
      "3007                    James  Cartland   M               NaN          NaN   \n",
      "3008                    Flora       NaN   F               NaN          NaN   \n",
      "3009                      NaN  Cartland   F               NaN          NaN   \n",
      "\n",
      "                              birth_place   death_date  \\\n",
      "ID                                                       \n",
      "1        Kensington,Palace,London,England  22 JAN 1901   \n",
      "2     Schloss Rosenau,Near Coburg,Germany  14 DEC 1861   \n",
      "3        Buckingham,Palace,London,England   5 AUG 1901   \n",
      "4        Buckingham,Palace,London,England   6 MAY 1910   \n",
      "5        Buckingham,Palace,London,England  14 DEC 1878   \n",
      "...                                   ...          ...   \n",
      "3005                                  NaN          NaN   \n",
      "3006                                  NaN          NaN   \n",
      "3007                                  NaN          NaN   \n",
      "3008                                  NaN          NaN   \n",
      "3009                                  NaN  ABT    1911   \n",
      "\n",
      "                              death_place  birth_year      era  \n",
      "ID                                                              \n",
      "1     Osborne House,Isle of Wight,England      1819.0  unknown  \n",
      "2        Windsor Castle,Berkshire,England      1819.0  unknown  \n",
      "3      Friedrichshof,Near,Kronberg,Taunus      1840.0  unknown  \n",
      "4        Buckingham,Palace,London,England      1841.0  unknown  \n",
      "5                     Darmstadt,,,Germany      1843.0  unknown  \n",
      "...                                   ...         ...      ...  \n",
      "3005                                  NaN         NaN  unknown  \n",
      "3006                                  NaN      1879.0  unknown  \n",
      "3007                                  NaN         NaN  unknown  \n",
      "3008                                  NaN         NaN  unknown  \n",
      "3009                                  NaN         NaN  unknown  \n",
      "\n",
      "[3009 rows x 10 columns]\n"
     ]
    }
   ],
   "source": [
    "print(df)"
   ]
  },
  {
   "cell_type": "markdown",
   "id": "cb584740-88bf-459a-a396-cd62f086b7b2",
   "metadata": {},
   "source": [
    "The next question is how to divide the birth years. If we check out their maximum and minimum values, we get:"
   ]
  },
  {
   "cell_type": "code",
   "execution_count": 453,
   "id": "edfe0df5-f294-4639-adae-9c35725ec2ce",
   "metadata": {},
   "outputs": [
    {
     "name": "stdout",
     "output_type": "stream",
     "text": [
      "The earlier year = 686.0 and the latest year = 1991.0.\n"
     ]
    }
   ],
   "source": [
    "print(f\"The earlier year = {df['birth_year'].min()} and the latest year = {df['birth_year'].max()}.\")"
   ]
  },
  {
   "cell_type": "markdown",
   "id": "072f7362-98c1-4e16-882c-c4d2671dc3b4",
   "metadata": {},
   "source": [
    "So, 686 is the earliest year, and 1991 is the latest. This is a difference of 1991 - 656 = 1305 years, which if we divide by 3 this gives us 435 years per era. So, the \"ancient\" royals are those born between 686 and 1121, the \"middle_years\" royals are those born between 1121 and 1555, and the \"modern\" royals are those born after 1555. (Not all that modern!) We can assign these three eras with the following code:"
   ]
  },
  {
   "cell_type": "code",
   "execution_count": 455,
   "id": "28cbf472-a087-41f4-b246-0afcf15466ca",
   "metadata": {},
   "outputs": [
    {
     "name": "stdout",
     "output_type": "stream",
     "text": [
      "                   first_name last_name sex             title   birth_date  \\\n",
      "ID                                                                           \n",
      "1                    Victoria   Hanover   F  Queen of England  24 MAY 1819   \n",
      "2     Albert Augustus Charles       NaN   M            Prince  26 AUG 1819   \n",
      "3      Victoria Adelaide Mary       NaN   F    Princess Royal  21 NOV 1840   \n",
      "4                  Edward_VII    Wettin   M   King of England   9 NOV 1841   \n",
      "5             Alice Maud Mary       NaN   F          Princess  25 APR 1843   \n",
      "...                       ...       ...  ..               ...          ...   \n",
      "3005                    Emily   Scobell   F               NaN          NaN   \n",
      "3006             John Sanford   Scobell   M               Sir         1879   \n",
      "3007                    James  Cartland   M               NaN          NaN   \n",
      "3008                    Flora       NaN   F               NaN          NaN   \n",
      "3009                      NaN  Cartland   F               NaN          NaN   \n",
      "\n",
      "                              birth_place   death_date  \\\n",
      "ID                                                       \n",
      "1        Kensington,Palace,London,England  22 JAN 1901   \n",
      "2     Schloss Rosenau,Near Coburg,Germany  14 DEC 1861   \n",
      "3        Buckingham,Palace,London,England   5 AUG 1901   \n",
      "4        Buckingham,Palace,London,England   6 MAY 1910   \n",
      "5        Buckingham,Palace,London,England  14 DEC 1878   \n",
      "...                                   ...          ...   \n",
      "3005                                  NaN          NaN   \n",
      "3006                                  NaN          NaN   \n",
      "3007                                  NaN          NaN   \n",
      "3008                                  NaN          NaN   \n",
      "3009                                  NaN  ABT    1911   \n",
      "\n",
      "                              death_place  birth_year      era  \n",
      "ID                                                              \n",
      "1     Osborne House,Isle of Wight,England      1819.0   modern  \n",
      "2        Windsor Castle,Berkshire,England      1819.0   modern  \n",
      "3      Friedrichshof,Near,Kronberg,Taunus      1840.0   modern  \n",
      "4        Buckingham,Palace,London,England      1841.0   modern  \n",
      "5                     Darmstadt,,,Germany      1843.0   modern  \n",
      "...                                   ...         ...      ...  \n",
      "3005                                  NaN         NaN  unknown  \n",
      "3006                                  NaN      1879.0   modern  \n",
      "3007                                  NaN         NaN  unknown  \n",
      "3008                                  NaN         NaN  unknown  \n",
      "3009                                  NaN         NaN  unknown  \n",
      "\n",
      "[3009 rows x 10 columns]\n"
     ]
    }
   ],
   "source": [
    "df.loc[df['birth_year'] < 1122, 'era'] = 'ancient'  # 686 – 1121\n",
    "df.loc[(df['birth_year'] >= 1122) & (df['birth_year'] <= 1555), 'era'] = 'middle_years'  # 1122 – 1555\n",
    "df.loc[df['birth_year'] > 1555, 'era'] = 'modern'  # after 1555\n",
    "print(df)"
   ]
  },
  {
   "cell_type": "markdown",
   "id": "7a4c17d6-2402-47a9-8e88-b4fc3141c7fe",
   "metadata": {},
   "source": [
    "We could have also done this using a custom function and the \"map\" utility."
   ]
  },
  {
   "cell_type": "markdown",
   "id": "81e5556c-1fa9-48bd-90f8-492e3c4ab9a3",
   "metadata": {},
   "source": [
    "### Reshaping with Pivot, Pivot_Table, Groupby, and Transpose"
   ]
  },
  {
   "cell_type": "markdown",
   "id": "6f65c64f-c6ea-409e-95e5-8bf1ae5880d3",
   "metadata": {},
   "source": [
    "Frequently it is convenient or informative to restructure data contained in a dataframe, effectively organizing the data into a different shape or format. This section will cover the most common reshaping functions provided by Pandas.\n",
    "\n",
    "The pivot function addresses the situation in which separate categories of a dataset feature are enumerated and highlighted using a cross tabular format. For example:"
   ]
  },
  {
   "cell_type": "code",
   "execution_count": 459,
   "id": "9780fe43-7b7e-46d6-9d33-7d3947ce54bd",
   "metadata": {},
   "outputs": [
    {
     "name": "stdout",
     "output_type": "stream",
     "text": [
      "   Car  Type  Price\n",
      "0    1   new     10\n",
      "1    1  used      5\n",
      "2    2   new     12\n",
      "3    2  used      7\n"
     ]
    }
   ],
   "source": [
    "df = pd.DataFrame({'Car': [1, 1, 2, 2],\n",
    "                   'Type': ['new', 'used', 'new', 'used'],\n",
    "                   'Price': [10, 5, 12, 7]})\n",
    "print(df)"
   ]
  },
  {
   "cell_type": "markdown",
   "id": "45ff2351-10be-401e-861f-8f32ac845ad2",
   "metadata": {},
   "source": [
    "Calling the pivot function on this dataframe will reframe the data into a more compact and usable format. In the example above, we want to reshape the data such that each car brand is represented on a single row. A use use case for this particular reorganization would be a care salesperson who needs to quickly view all the prices of a given car brand for the different 'Type' categories."
   ]
  },
  {
   "cell_type": "code",
   "execution_count": 461,
   "id": "5cfb988d-d313-4265-808a-2aa8017e725d",
   "metadata": {},
   "outputs": [
    {
     "name": "stdout",
     "output_type": "stream",
     "text": [
      "Type  new  used\n",
      "Car            \n",
      "1      10     5\n",
      "2      12     7\n"
     ]
    }
   ],
   "source": [
    "p = df.pivot(index='Car', columns='Type', values='Price')\n",
    "print(p)"
   ]
  },
  {
   "cell_type": "markdown",
   "id": "48b929d8-bfbc-43fb-8b7c-44419abaf8fb",
   "metadata": {},
   "source": [
    "The pivot function only works if there is either zero or one entries per cell in the result. Suppose we have the following dataframe:"
   ]
  },
  {
   "cell_type": "code",
   "execution_count": 463,
   "id": "3f28c20e-17cd-40e4-9373-f8f981f1de7a",
   "metadata": {},
   "outputs": [
    {
     "name": "stdout",
     "output_type": "stream",
     "text": [
      "   Car  Type  Price\n",
      "0    1   new     10\n",
      "1    1  used      5\n",
      "2    2   new     12\n",
      "3    2  used      7\n",
      "4    2  used      6\n"
     ]
    }
   ],
   "source": [
    "df = pd.DataFrame({'Car': [1, 1, 2, 2, 2],\n",
    "                   'Type': ['new', 'used', 'new', 'used', 'used'],\n",
    "                   'Price': [10, 5, 12, 7, 6]})\n",
    "print(df)"
   ]
  },
  {
   "cell_type": "markdown",
   "id": "3c026bd2-13aa-4695-980d-8853784b2e0b",
   "metadata": {},
   "source": [
    "Invoking the pivot function on this dataframe will generate an error:"
   ]
  },
  {
   "cell_type": "code",
   "execution_count": 465,
   "id": "a505a41c-817b-4d0f-bc3c-9bb442206569",
   "metadata": {},
   "outputs": [
    {
     "ename": "ValueError",
     "evalue": "Index contains duplicate entries, cannot reshape",
     "output_type": "error",
     "traceback": [
      "\u001b[0;31m---------------------------------------------------------------------------\u001b[0m",
      "\u001b[0;31mValueError\u001b[0m                                Traceback (most recent call last)",
      "Cell \u001b[0;32mIn[465], line 1\u001b[0m\n\u001b[0;32m----> 1\u001b[0m p \u001b[38;5;241m=\u001b[39m df\u001b[38;5;241m.\u001b[39mpivot(index\u001b[38;5;241m=\u001b[39m\u001b[38;5;124m'\u001b[39m\u001b[38;5;124mCar\u001b[39m\u001b[38;5;124m'\u001b[39m, columns\u001b[38;5;241m=\u001b[39m\u001b[38;5;124m'\u001b[39m\u001b[38;5;124mType\u001b[39m\u001b[38;5;124m'\u001b[39m, values\u001b[38;5;241m=\u001b[39m\u001b[38;5;124m'\u001b[39m\u001b[38;5;124mPrice\u001b[39m\u001b[38;5;124m'\u001b[39m)\n",
      "File \u001b[0;32m~/.local/lib/python3.11/site-packages/pandas/util/_decorators.py:331\u001b[0m, in \u001b[0;36mdeprecate_nonkeyword_arguments.<locals>.decorate.<locals>.wrapper\u001b[0;34m(*args, **kwargs)\u001b[0m\n\u001b[1;32m    325\u001b[0m \u001b[38;5;28;01mif\u001b[39;00m \u001b[38;5;28mlen\u001b[39m(args) \u001b[38;5;241m>\u001b[39m num_allow_args:\n\u001b[1;32m    326\u001b[0m     warnings\u001b[38;5;241m.\u001b[39mwarn(\n\u001b[1;32m    327\u001b[0m         msg\u001b[38;5;241m.\u001b[39mformat(arguments\u001b[38;5;241m=\u001b[39m_format_argument_list(allow_args)),\n\u001b[1;32m    328\u001b[0m         \u001b[38;5;167;01mFutureWarning\u001b[39;00m,\n\u001b[1;32m    329\u001b[0m         stacklevel\u001b[38;5;241m=\u001b[39mfind_stack_level(),\n\u001b[1;32m    330\u001b[0m     )\n\u001b[0;32m--> 331\u001b[0m \u001b[38;5;28;01mreturn\u001b[39;00m func(\u001b[38;5;241m*\u001b[39margs, \u001b[38;5;241m*\u001b[39m\u001b[38;5;241m*\u001b[39mkwargs)\n",
      "File \u001b[0;32m~/.local/lib/python3.11/site-packages/pandas/core/frame.py:8567\u001b[0m, in \u001b[0;36mDataFrame.pivot\u001b[0;34m(self, index, columns, values)\u001b[0m\n\u001b[1;32m   8561\u001b[0m \u001b[38;5;129m@Substitution\u001b[39m(\u001b[38;5;124m\"\u001b[39m\u001b[38;5;124m\"\u001b[39m)\n\u001b[1;32m   8562\u001b[0m \u001b[38;5;129m@Appender\u001b[39m(_shared_docs[\u001b[38;5;124m\"\u001b[39m\u001b[38;5;124mpivot\u001b[39m\u001b[38;5;124m\"\u001b[39m])\n\u001b[1;32m   8563\u001b[0m \u001b[38;5;129m@deprecate_nonkeyword_arguments\u001b[39m(version\u001b[38;5;241m=\u001b[39m\u001b[38;5;28;01mNone\u001b[39;00m, allowed_args\u001b[38;5;241m=\u001b[39m[\u001b[38;5;124m\"\u001b[39m\u001b[38;5;124mself\u001b[39m\u001b[38;5;124m\"\u001b[39m])\n\u001b[1;32m   8564\u001b[0m \u001b[38;5;28;01mdef\u001b[39;00m \u001b[38;5;21mpivot\u001b[39m(\u001b[38;5;28mself\u001b[39m, index\u001b[38;5;241m=\u001b[39m\u001b[38;5;28;01mNone\u001b[39;00m, columns\u001b[38;5;241m=\u001b[39m\u001b[38;5;28;01mNone\u001b[39;00m, values\u001b[38;5;241m=\u001b[39m\u001b[38;5;28;01mNone\u001b[39;00m) \u001b[38;5;241m-\u001b[39m\u001b[38;5;241m>\u001b[39m DataFrame:\n\u001b[1;32m   8565\u001b[0m     \u001b[38;5;28;01mfrom\u001b[39;00m \u001b[38;5;21;01mpandas\u001b[39;00m\u001b[38;5;21;01m.\u001b[39;00m\u001b[38;5;21;01mcore\u001b[39;00m\u001b[38;5;21;01m.\u001b[39;00m\u001b[38;5;21;01mreshape\u001b[39;00m\u001b[38;5;21;01m.\u001b[39;00m\u001b[38;5;21;01mpivot\u001b[39;00m \u001b[38;5;28;01mimport\u001b[39;00m pivot\n\u001b[0;32m-> 8567\u001b[0m     \u001b[38;5;28;01mreturn\u001b[39;00m pivot(\u001b[38;5;28mself\u001b[39m, index\u001b[38;5;241m=\u001b[39mindex, columns\u001b[38;5;241m=\u001b[39mcolumns, values\u001b[38;5;241m=\u001b[39mvalues)\n",
      "File \u001b[0;32m~/.local/lib/python3.11/site-packages/pandas/util/_decorators.py:331\u001b[0m, in \u001b[0;36mdeprecate_nonkeyword_arguments.<locals>.decorate.<locals>.wrapper\u001b[0;34m(*args, **kwargs)\u001b[0m\n\u001b[1;32m    325\u001b[0m \u001b[38;5;28;01mif\u001b[39;00m \u001b[38;5;28mlen\u001b[39m(args) \u001b[38;5;241m>\u001b[39m num_allow_args:\n\u001b[1;32m    326\u001b[0m     warnings\u001b[38;5;241m.\u001b[39mwarn(\n\u001b[1;32m    327\u001b[0m         msg\u001b[38;5;241m.\u001b[39mformat(arguments\u001b[38;5;241m=\u001b[39m_format_argument_list(allow_args)),\n\u001b[1;32m    328\u001b[0m         \u001b[38;5;167;01mFutureWarning\u001b[39;00m,\n\u001b[1;32m    329\u001b[0m         stacklevel\u001b[38;5;241m=\u001b[39mfind_stack_level(),\n\u001b[1;32m    330\u001b[0m     )\n\u001b[0;32m--> 331\u001b[0m \u001b[38;5;28;01mreturn\u001b[39;00m func(\u001b[38;5;241m*\u001b[39margs, \u001b[38;5;241m*\u001b[39m\u001b[38;5;241m*\u001b[39mkwargs)\n",
      "File \u001b[0;32m~/.local/lib/python3.11/site-packages/pandas/core/reshape/pivot.py:540\u001b[0m, in \u001b[0;36mpivot\u001b[0;34m(data, index, columns, values)\u001b[0m\n\u001b[1;32m    536\u001b[0m         indexed \u001b[38;5;241m=\u001b[39m data\u001b[38;5;241m.\u001b[39m_constructor_sliced(data[values]\u001b[38;5;241m.\u001b[39m_values, index\u001b[38;5;241m=\u001b[39mmultiindex)\n\u001b[1;32m    537\u001b[0m \u001b[38;5;66;03m# error: Argument 1 to \"unstack\" of \"DataFrame\" has incompatible type \"Union\u001b[39;00m\n\u001b[1;32m    538\u001b[0m \u001b[38;5;66;03m# [List[Any], ExtensionArray, ndarray[Any, Any], Index, Series]\"; expected\u001b[39;00m\n\u001b[1;32m    539\u001b[0m \u001b[38;5;66;03m# \"Hashable\"\u001b[39;00m\n\u001b[0;32m--> 540\u001b[0m \u001b[38;5;28;01mreturn\u001b[39;00m indexed\u001b[38;5;241m.\u001b[39munstack(columns_listlike)\n",
      "File \u001b[0;32m~/.local/lib/python3.11/site-packages/pandas/core/series.py:4455\u001b[0m, in \u001b[0;36mSeries.unstack\u001b[0;34m(self, level, fill_value)\u001b[0m\n\u001b[1;32m   4412\u001b[0m \u001b[38;5;250m\u001b[39m\u001b[38;5;124;03m\"\"\"\u001b[39;00m\n\u001b[1;32m   4413\u001b[0m \u001b[38;5;124;03mUnstack, also known as pivot, Series with MultiIndex to produce DataFrame.\u001b[39;00m\n\u001b[1;32m   4414\u001b[0m \n\u001b[0;32m   (...)\u001b[0m\n\u001b[1;32m   4451\u001b[0m \u001b[38;5;124;03mb    2    4\u001b[39;00m\n\u001b[1;32m   4452\u001b[0m \u001b[38;5;124;03m\"\"\"\u001b[39;00m\n\u001b[1;32m   4453\u001b[0m \u001b[38;5;28;01mfrom\u001b[39;00m \u001b[38;5;21;01mpandas\u001b[39;00m\u001b[38;5;21;01m.\u001b[39;00m\u001b[38;5;21;01mcore\u001b[39;00m\u001b[38;5;21;01m.\u001b[39;00m\u001b[38;5;21;01mreshape\u001b[39;00m\u001b[38;5;21;01m.\u001b[39;00m\u001b[38;5;21;01mreshape\u001b[39;00m \u001b[38;5;28;01mimport\u001b[39;00m unstack\n\u001b[0;32m-> 4455\u001b[0m \u001b[38;5;28;01mreturn\u001b[39;00m unstack(\u001b[38;5;28mself\u001b[39m, level, fill_value)\n",
      "File \u001b[0;32m~/.local/lib/python3.11/site-packages/pandas/core/reshape/reshape.py:489\u001b[0m, in \u001b[0;36munstack\u001b[0;34m(obj, level, fill_value)\u001b[0m\n\u001b[1;32m    487\u001b[0m \u001b[38;5;28;01mif\u001b[39;00m is_1d_only_ea_dtype(obj\u001b[38;5;241m.\u001b[39mdtype):\n\u001b[1;32m    488\u001b[0m     \u001b[38;5;28;01mreturn\u001b[39;00m _unstack_extension_series(obj, level, fill_value)\n\u001b[0;32m--> 489\u001b[0m unstacker \u001b[38;5;241m=\u001b[39m _Unstacker(\n\u001b[1;32m    490\u001b[0m     obj\u001b[38;5;241m.\u001b[39mindex, level\u001b[38;5;241m=\u001b[39mlevel, constructor\u001b[38;5;241m=\u001b[39mobj\u001b[38;5;241m.\u001b[39m_constructor_expanddim\n\u001b[1;32m    491\u001b[0m )\n\u001b[1;32m    492\u001b[0m \u001b[38;5;28;01mreturn\u001b[39;00m unstacker\u001b[38;5;241m.\u001b[39mget_result(\n\u001b[1;32m    493\u001b[0m     obj\u001b[38;5;241m.\u001b[39m_values, value_columns\u001b[38;5;241m=\u001b[39m\u001b[38;5;28;01mNone\u001b[39;00m, fill_value\u001b[38;5;241m=\u001b[39mfill_value\n\u001b[1;32m    494\u001b[0m )\n",
      "File \u001b[0;32m~/.local/lib/python3.11/site-packages/pandas/core/reshape/reshape.py:137\u001b[0m, in \u001b[0;36m_Unstacker.__init__\u001b[0;34m(self, index, level, constructor)\u001b[0m\n\u001b[1;32m    129\u001b[0m \u001b[38;5;28;01mif\u001b[39;00m num_cells \u001b[38;5;241m>\u001b[39m np\u001b[38;5;241m.\u001b[39miinfo(np\u001b[38;5;241m.\u001b[39mint32)\u001b[38;5;241m.\u001b[39mmax:\n\u001b[1;32m    130\u001b[0m     warnings\u001b[38;5;241m.\u001b[39mwarn(\n\u001b[1;32m    131\u001b[0m         \u001b[38;5;124mf\u001b[39m\u001b[38;5;124m\"\u001b[39m\u001b[38;5;124mThe following operation may generate \u001b[39m\u001b[38;5;132;01m{\u001b[39;00mnum_cells\u001b[38;5;132;01m}\u001b[39;00m\u001b[38;5;124m cells \u001b[39m\u001b[38;5;124m\"\u001b[39m\n\u001b[1;32m    132\u001b[0m         \u001b[38;5;124mf\u001b[39m\u001b[38;5;124m\"\u001b[39m\u001b[38;5;124min the resulting pandas object.\u001b[39m\u001b[38;5;124m\"\u001b[39m,\n\u001b[1;32m    133\u001b[0m         PerformanceWarning,\n\u001b[1;32m    134\u001b[0m         stacklevel\u001b[38;5;241m=\u001b[39mfind_stack_level(),\n\u001b[1;32m    135\u001b[0m     )\n\u001b[0;32m--> 137\u001b[0m \u001b[38;5;28mself\u001b[39m\u001b[38;5;241m.\u001b[39m_make_selectors()\n",
      "File \u001b[0;32m~/.local/lib/python3.11/site-packages/pandas/core/reshape/reshape.py:189\u001b[0m, in \u001b[0;36m_Unstacker._make_selectors\u001b[0;34m(self)\u001b[0m\n\u001b[1;32m    186\u001b[0m mask\u001b[38;5;241m.\u001b[39mput(selector, \u001b[38;5;28;01mTrue\u001b[39;00m)\n\u001b[1;32m    188\u001b[0m \u001b[38;5;28;01mif\u001b[39;00m mask\u001b[38;5;241m.\u001b[39msum() \u001b[38;5;241m<\u001b[39m \u001b[38;5;28mlen\u001b[39m(\u001b[38;5;28mself\u001b[39m\u001b[38;5;241m.\u001b[39mindex):\n\u001b[0;32m--> 189\u001b[0m     \u001b[38;5;28;01mraise\u001b[39;00m \u001b[38;5;167;01mValueError\u001b[39;00m(\u001b[38;5;124m\"\u001b[39m\u001b[38;5;124mIndex contains duplicate entries, cannot reshape\u001b[39m\u001b[38;5;124m\"\u001b[39m)\n\u001b[1;32m    191\u001b[0m \u001b[38;5;28mself\u001b[39m\u001b[38;5;241m.\u001b[39mgroup_index \u001b[38;5;241m=\u001b[39m comp_index\n\u001b[1;32m    192\u001b[0m \u001b[38;5;28mself\u001b[39m\u001b[38;5;241m.\u001b[39mmask \u001b[38;5;241m=\u001b[39m mask\n",
      "\u001b[0;31mValueError\u001b[0m: Index contains duplicate entries, cannot reshape"
     ]
    }
   ],
   "source": [
    "p = df.pivot(index='Car', columns='Type', values='Price')"
   ]
  },
  {
   "cell_type": "markdown",
   "id": "a79e5e03-9095-4230-a0f7-191389316ec4",
   "metadata": {},
   "source": [
    "The reason for this is there are two price entries for the used version of car 2. In this case what we could do is use the \"pivot_table\" function with an aggregator, which specifies how to combine values when more than 1 occurs."
   ]
  },
  {
   "cell_type": "code",
   "execution_count": 476,
   "id": "08fbb986-c85a-4999-9577-12fb0ec43ac8",
   "metadata": {},
   "outputs": [
    {
     "name": "stdout",
     "output_type": "stream",
     "text": [
      "Type   new  used\n",
      "Car             \n",
      "1     10.0   5.0\n",
      "2     12.0   6.5\n"
     ]
    }
   ],
   "source": [
    "p = df.pivot_table(index='Car', columns='Type', values='Price', aggfunc='mean')\n",
    "print(p)"
   ]
  },
  {
   "cell_type": "markdown",
   "id": "f3b6033f-6d3b-450d-82e6-5b2e5cb89f8a",
   "metadata": {},
   "source": [
    "Pivot tables can result in immensely complex tabular formats with multiple indexes, multiple columns, and various aggregation functions specified. Today, we demonstrate only the basic single-index, single-column case."
   ]
  },
  {
   "cell_type": "markdown",
   "id": "2f439f85-813b-440b-9fb4-8f789fa1a8ad",
   "metadata": {},
   "source": [
    "Here's another example of a pivot_table using our royal family history dataset:"
   ]
  },
  {
   "cell_type": "code",
   "execution_count": 479,
   "id": "28a3eb39-8b73-45ec-9e34-087712115d72",
   "metadata": {},
   "outputs": [
    {
     "name": "stdout",
     "output_type": "stream",
     "text": [
      "sex                    F       M\n",
      "title                           \n",
      "Admiral              NaN  1759.0\n",
      "Admiral Sir          NaN  1881.0\n",
      "Archduchess       1825.0     NaN\n",
      "Archduke             NaN  1844.6\n",
      "Baron                NaN  1901.0\n",
      "...                  ...     ...\n",
      "Tsarina           1859.5     NaN\n",
      "Vicount Althorp      NaN  1964.0\n",
      "Vicount Linley       NaN  1961.0\n",
      "Viscount             NaN  1913.8\n",
      "Viscount Hampden     NaN  1877.5\n",
      "\n",
      "[171 rows x 2 columns]\n"
     ]
    }
   ],
   "source": [
    "df = pd.read_csv(path, index_col='ID')\n",
    "df['birth_year'] = df['birth_date'].map(get_year)\n",
    "\n",
    "df.dropna(inplace=True, subset=['title', 'sex', 'birth_year'])\n",
    "p = df.pivot_table(index='title', columns='sex', values='birth_year', aggfunc='mean')\n",
    "print(p)"
   ]
  },
  {
   "cell_type": "markdown",
   "id": "1720ebd4-a013-476d-8ace-9fd98b4fe5b1",
   "metadata": {},
   "source": [
    "Here are two more examples. The first fills blank entries in the resulting pivot table after aggregation with $0$ instead of NaN, and uses two aggregate functions, mean and count."
   ]
  },
  {
   "cell_type": "code",
   "execution_count": 481,
   "id": "f3406126-bd5a-4b0c-8721-21b69f9fae55",
   "metadata": {},
   "outputs": [
    {
     "name": "stdout",
     "output_type": "stream",
     "text": [
      "                    mean         count   \n",
      "sex                    F       M     F  M\n",
      "title                                    \n",
      "Admiral              0.0  1759.0     0  1\n",
      "Admiral Sir          0.0  1881.0     0  1\n",
      "Archduchess       1825.0     0.0     1  0\n",
      "Archduke             0.0  1844.6     0  5\n",
      "Baron                0.0  1901.0     0  4\n",
      "...                  ...     ...   ... ..\n",
      "Tsarina           1859.5     0.0     2  0\n",
      "Vicount Althorp      0.0  1964.0     0  1\n",
      "Vicount Linley       0.0  1961.0     0  1\n",
      "Viscount             0.0  1913.8     0  5\n",
      "Viscount Hampden     0.0  1877.5     0  2\n",
      "\n",
      "[171 rows x 4 columns]\n"
     ]
    }
   ],
   "source": [
    "p = df.pivot_table(index='title', columns='sex', values='birth_year', aggfunc=['mean', 'count'], fill_value=0)\n",
    "print(p)"
   ]
  },
  {
   "cell_type": "markdown",
   "id": "53eedf26-7458-42fc-a2de-994a046dac8f",
   "metadata": {},
   "source": [
    "The second is similar to the first, but instead declares two indexes and two columns producing a much more complicated, nested output result."
   ]
  },
  {
   "cell_type": "code",
   "execution_count": 483,
   "id": "aaacca70-8f49-4133-ab42-b00fb66bc08e",
   "metadata": {},
   "outputs": [
    {
     "name": "stdout",
     "output_type": "stream",
     "text": [
      "                                                    mean                \\\n",
      "sex                                                    F                 \n",
      "last_name                                Armstrong-Jones Ashley Baring   \n",
      "title            first_name                                              \n",
      "Admiral          Hugh                                  0      0      0   \n",
      "Admiral Sir      Alexander                             0      0      0   \n",
      "Baron            Carl Marten                           0      0      0   \n",
      "                 Nicholas                              0      0      0   \n",
      "                 Paul                                  0      0      0   \n",
      "...                                                  ...    ...    ...   \n",
      "Viscount         George Earl_of_Harewood               0      0      0   \n",
      "                 Henry George Charles                  0      0      0   \n",
      "                 Louis de_la_Torre                     0      0      0   \n",
      "                 Mervyn Powerscourt                    0      0      0   \n",
      "Viscount Hampden Henry                                 0      0      0   \n",
      "\n",
      "                                                                               \\\n",
      "sex                                                                             \n",
      "last_name                                Bingham Bowes-Lyon Brand Burke_Roche   \n",
      "title            first_name                                                     \n",
      "Admiral          Hugh                          0          0     0           0   \n",
      "Admiral Sir      Alexander                     0          0     0           0   \n",
      "Baron            Carl Marten                   0          0     0           0   \n",
      "                 Nicholas                      0          0     0           0   \n",
      "                 Paul                          0          0     0           0   \n",
      "...                                          ...        ...   ...         ...   \n",
      "Viscount         George Earl_of_Harewood       0          0     0           0   \n",
      "                 Henry George Charles          0          0     0           0   \n",
      "                 Louis de_la_Torre             0          0     0           0   \n",
      "                 Mervyn Powerscourt            0          0     0           0   \n",
      "Viscount Hampden Henry                         0          0     0           0   \n",
      "\n",
      "                                                                            \\\n",
      "sex                                                                          \n",
      "last_name                                Campbell-Geddes Carnegie Cartland   \n",
      "title            first_name                                                  \n",
      "Admiral          Hugh                                  0        0        0   \n",
      "Admiral Sir      Alexander                             0        0        0   \n",
      "Baron            Carl Marten                           0        0        0   \n",
      "                 Nicholas                              0        0        0   \n",
      "                 Paul                                  0        0        0   \n",
      "...                                                  ...      ...      ...   \n",
      "Viscount         George Earl_of_Harewood               0        0        0   \n",
      "                 Henry George Charles                  0        0        0   \n",
      "                 Louis de_la_Torre                     0        0        0   \n",
      "                 Mervyn Powerscourt                    0        0        0   \n",
      "Viscount Hampden Henry                                 0        0        0   \n",
      "\n",
      "                                          ...    count                     \\\n",
      "sex                                       ...        M                      \n",
      "last_name                                 ... Torlonia Tudor Ulick Ullens   \n",
      "title            first_name               ...                               \n",
      "Admiral          Hugh                     ...        0     0     0      0   \n",
      "Admiral Sir      Alexander                ...        0     0     0      0   \n",
      "Baron            Carl Marten              ...        0     0     0      0   \n",
      "                 Nicholas                 ...        0     0     0      0   \n",
      "                 Paul                     ...        0     0     0      0   \n",
      "...                                       ...      ...   ...   ...    ...   \n",
      "Viscount         George Earl_of_Harewood  ...        0     0     0      0   \n",
      "                 Henry George Charles     ...        0     0     0      0   \n",
      "                 Louis de_la_Torre        ...        0     0     0      0   \n",
      "                 Mervyn Powerscourt       ...        0     0     0      0   \n",
      "Viscount Hampden Henry                    ...        0     0     0      0   \n",
      "\n",
      "                                                                               \\\n",
      "sex                                                                             \n",
      "last_name                                Wettin Windsor Wingfield Wittelsbach   \n",
      "title            first_name                                                     \n",
      "Admiral          Hugh                         0       0         0           0   \n",
      "Admiral Sir      Alexander                    0       0         0           0   \n",
      "Baron            Carl Marten                  0       0         0           0   \n",
      "                 Nicholas                     0       0         0           0   \n",
      "                 Paul                         0       0         0           0   \n",
      "...                                         ...     ...       ...         ...   \n",
      "Viscount         George Earl_of_Harewood      0       0         0           0   \n",
      "                 Henry George Charles         0       0         0           0   \n",
      "                 Louis de_la_Torre            0       0         0           0   \n",
      "                 Mervyn Powerscourt           0       0         1           0   \n",
      "Viscount Hampden Henry                        0       0         0           0   \n",
      "\n",
      "                                                                \n",
      "sex                                                             \n",
      "last_name                                Wurttemberg von_Hugel  \n",
      "title            first_name                                     \n",
      "Admiral          Hugh                              0         0  \n",
      "Admiral Sir      Alexander                         0         0  \n",
      "Baron            Carl Marten                       0         0  \n",
      "                 Nicholas                          0         0  \n",
      "                 Paul                              0         1  \n",
      "...                                              ...       ...  \n",
      "Viscount         George Earl_of_Harewood           0         0  \n",
      "                 Henry George Charles              0         0  \n",
      "                 Louis de_la_Torre                 0         0  \n",
      "                 Mervyn Powerscourt                0         0  \n",
      "Viscount Hampden Henry                             0         0  \n",
      "\n",
      "[301 rows x 260 columns]\n"
     ]
    }
   ],
   "source": [
    "p = df.pivot_table(index=['title', 'first_name'], columns=['sex', 'last_name'], values='birth_year', aggfunc=['mean', 'count'], fill_value=0)\n",
    "print(p)"
   ]
  },
  {
   "cell_type": "markdown",
   "id": "c5f164d0-5ad4-4338-8d1b-c8793731f37a",
   "metadata": {},
   "source": [
    "The groupby function's recasting of information is very similar to that of the pivot_table function. In general, the main difference is how the resulting output is shaped. Note it's a common mistake to create a group object without specifying an aggregating function like mean, sum, or std.\n",
    "\n",
    "Consider the following:"
   ]
  },
  {
   "cell_type": "code",
   "execution_count": 485,
   "id": "83ceb9aa-d423-492d-bf35-c5b5391b948a",
   "metadata": {},
   "outputs": [
    {
     "data": {
      "text/html": [
       "<div>\n",
       "<style scoped>\n",
       "    .dataframe tbody tr th:only-of-type {\n",
       "        vertical-align: middle;\n",
       "    }\n",
       "\n",
       "    .dataframe tbody tr th {\n",
       "        vertical-align: top;\n",
       "    }\n",
       "\n",
       "    .dataframe thead th {\n",
       "        text-align: right;\n",
       "    }\n",
       "</style>\n",
       "<table border=\"1\" class=\"dataframe\">\n",
       "  <thead>\n",
       "    <tr style=\"text-align: right;\">\n",
       "      <th></th>\n",
       "      <th>Car</th>\n",
       "      <th>Type</th>\n",
       "      <th>Price</th>\n",
       "    </tr>\n",
       "  </thead>\n",
       "  <tbody>\n",
       "    <tr>\n",
       "      <th>0</th>\n",
       "      <td>1</td>\n",
       "      <td>new</td>\n",
       "      <td>10</td>\n",
       "    </tr>\n",
       "    <tr>\n",
       "      <th>1</th>\n",
       "      <td>1</td>\n",
       "      <td>used</td>\n",
       "      <td>5</td>\n",
       "    </tr>\n",
       "    <tr>\n",
       "      <th>2</th>\n",
       "      <td>2</td>\n",
       "      <td>new</td>\n",
       "      <td>12</td>\n",
       "    </tr>\n",
       "    <tr>\n",
       "      <th>3</th>\n",
       "      <td>2</td>\n",
       "      <td>used</td>\n",
       "      <td>7</td>\n",
       "    </tr>\n",
       "    <tr>\n",
       "      <th>4</th>\n",
       "      <td>2</td>\n",
       "      <td>used</td>\n",
       "      <td>6</td>\n",
       "    </tr>\n",
       "  </tbody>\n",
       "</table>\n",
       "</div>"
      ],
      "text/plain": [
       "   Car  Type  Price\n",
       "0    1   new     10\n",
       "1    1  used      5\n",
       "2    2   new     12\n",
       "3    2  used      7\n",
       "4    2  used      6"
      ]
     },
     "execution_count": 485,
     "metadata": {},
     "output_type": "execute_result"
    }
   ],
   "source": [
    "df = pd.DataFrame({'Car': [1, 1, 2, 2, 2],\n",
    "                   'Type': ['new', 'used', 'new', 'used', 'used'],\n",
    "                   'Price': [10, 5, 12, 7, 6]})\n",
    "\n",
    "df"
   ]
  },
  {
   "cell_type": "code",
   "execution_count": 486,
   "id": "35f27122-da9d-4f50-9537-e5a31d5b980f",
   "metadata": {},
   "outputs": [
    {
     "name": "stdout",
     "output_type": "stream",
     "text": [
      "<pandas.core.groupby.generic.DataFrameGroupBy object at 0x7f44dd368210>\n"
     ]
    }
   ],
   "source": [
    "g = df.groupby(by='Car')\n",
    "print(g)"
   ]
  },
  {
   "cell_type": "markdown",
   "id": "c69ff0c7-d0e4-468e-beb2-25570a1c3e84",
   "metadata": {
    "tags": []
   },
   "source": [
    "That's not particularly helpful. However, if we group by 'Car' and invoke the 'mean' function, we obtain a more useful result."
   ]
  },
  {
   "cell_type": "code",
   "execution_count": 488,
   "id": "c57d97c7-9bcc-4ddf-95b2-3f33f9d89042",
   "metadata": {},
   "outputs": [
    {
     "name": "stdout",
     "output_type": "stream",
     "text": [
      "        Price\n",
      "Car          \n",
      "1    7.500000\n",
      "2    8.333333\n"
     ]
    },
    {
     "name": "stderr",
     "output_type": "stream",
     "text": [
      "/tmp/ipykernel_546/4121060130.py:1: FutureWarning: The default value of numeric_only in DataFrameGroupBy.mean is deprecated. In a future version, numeric_only will default to False. Either specify numeric_only or select only columns which should be valid for the function.\n",
      "  g = df.groupby(by='Car').mean()\n"
     ]
    }
   ],
   "source": [
    "g = df.groupby(by='Car').mean()\n",
    "print(g)"
   ]
  },
  {
   "cell_type": "markdown",
   "id": "73d9a257-b072-46a3-92ad-a33a2c99b391",
   "metadata": {},
   "source": [
    "That warning basically tells us that we tried to take the mean of \"type\", which doesn't make sense, so it was tossed out. If instead of mean we wanted to use the more robust nunique (a count of the distinct values) we'd get:"
   ]
  },
  {
   "cell_type": "code",
   "execution_count": 490,
   "id": "35761a17-48c2-4e2b-95b9-1eca79be5050",
   "metadata": {},
   "outputs": [
    {
     "name": "stdout",
     "output_type": "stream",
     "text": [
      "     Type  Price\n",
      "Car             \n",
      "1       2      2\n",
      "2       2      3\n"
     ]
    }
   ],
   "source": [
    "g = df.groupby(by='Car').nunique()\n",
    "print(g)"
   ]
  },
  {
   "cell_type": "markdown",
   "id": "81e234e7-70a1-420e-9d6c-779649b99e39",
   "metadata": {},
   "source": [
    "If we wanted to group by both 'Car' and 'Type', and use two different aggregation function, we could do that:"
   ]
  },
  {
   "cell_type": "code",
   "execution_count": 492,
   "id": "02c1291a-c995-4856-b08b-4b290f420a3f",
   "metadata": {
    "jupyter": {
     "source_hidden": true
    },
    "tags": []
   },
   "outputs": [
    {
     "name": "stdout",
     "output_type": "stream",
     "text": [
      "         Price        \n",
      "          mean nunique\n",
      "Car Type              \n",
      "1   new   10.0       1\n",
      "    used   5.0       1\n",
      "2   new   12.0       1\n",
      "    used   6.5       2\n"
     ]
    }
   ],
   "source": [
    "g = df.groupby(by=['Car','Type']).agg(['mean','nunique'])\n",
    "print(g)"
   ]
  },
  {
   "cell_type": "markdown",
   "id": "b3a548dd-031b-4572-ba55-dbfcc85b2e49",
   "metadata": {},
   "source": [
    "The transpose function (or simply T) transposes a dataframe. For example:"
   ]
  }
 ],
 "metadata": {
  "kernelspec": {
   "display_name": "Python 3",
   "language": "python",
   "name": "python3"
  },
  "language_info": {
   "codemirror_mode": {
    "name": "ipython",
    "version": 3
   },
   "file_extension": ".py",
   "mimetype": "text/x-python",
   "name": "python",
   "nbconvert_exporter": "python",
   "pygments_lexer": "ipython3",
   "version": "3.11.7"
  }
 },
 "nbformat": 4,
 "nbformat_minor": 5
}

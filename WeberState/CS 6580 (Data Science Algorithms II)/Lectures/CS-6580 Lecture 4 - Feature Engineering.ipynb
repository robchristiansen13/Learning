{
 "cells": [
  {
   "cell_type": "markdown",
   "id": "4e5e9b72-3048-4f17-8417-4b89a39308f7",
   "metadata": {},
   "source": [
    "# CS-6570 Lecture 4 - Feature Engineering\n",
    "\n",
    "**Dylan Zwick**\n",
    "\n",
    "*Weber State University*"
   ]
  },
  {
   "cell_type": "markdown",
   "id": "6b0785fa-3bdd-4832-aca1-46b5975f48f2",
   "metadata": {},
   "source": [
    "Much of the study of data science and machine learning is devoted to algorithms - how they work and how they're implemented. One could call this the \"science\" part of data science. Much of the actual practice of data science and machine learning is devoted to the \"data\" part of machine learning, and one of the most important aspects of the data part is feature engineering.\n",
    "\n",
    "Feature engineering is, essentially, preparing the raw data for use by machine learning models. We'll make the (fairly large) assumption here that our raw data has been gathered, cleaned, and organized is an accessible format. What we want to do is take this raw data and convert it into a format that is more usable by our models. This is the practice of feature engineering. The basic idea is to make the data you have more useful with respect to the problem at hand. Note domain knowledge can be very useful here.\n",
    "\n",
    "Broadly speaking, we can break feature engineering into two categories:\n",
    "\n",
    "* **Feature Preprocessing** - This is the practice of updating or transforming the existing features. (Processes like shifting and scaling)\n",
    "* **Feature Generation** - The process of creating new features from the existing features. (Processes like combining variables)\n",
    "\n",
    "As with so many things, this is a big topic, and we'll only be able to cover some of it in this lecture. In particular, a *huge* area of feature engineering is figuring out how to transform data that is fundamentally non-numeric - like texts and images - into numeric data upon which the math of machine learning can be applied. We won't talk about that today, and will instead limit ourselves to numeric data."
   ]
  },
  {
   "cell_type": "markdown",
   "id": "ba916791-a9da-4a6c-b20b-214c222ddef6",
   "metadata": {},
   "source": [
    "As usual, we'll first want to import our favorite libraries."
   ]
  },
  {
   "cell_type": "code",
   "execution_count": 1,
   "id": "b8784fac-9985-4323-9c96-5b29e8801862",
   "metadata": {},
   "outputs": [],
   "source": [
    "import numpy as np\n",
    "import pandas as pd\n",
    "import matplotlib.pyplot as plt"
   ]
  },
  {
   "cell_type": "markdown",
   "id": "56502684-f945-4636-8e0b-d6ec222cac0e",
   "metadata": {},
   "source": [
    "## Numeric Feature Preprocessing"
   ]
  },
  {
   "cell_type": "markdown",
   "id": "1c888be1-d22d-469b-a5bf-b76692a1c705",
   "metadata": {},
   "source": [
    "Sometimes you might have numeric data where whatever insight you're attempting to extract from it doesn't scale linearly with the size of the data. One example could be you're trying to build a model of human behavior and one of your variables is income. If a person's net income changes by \\\\$50,000 from \\\\$40,000 to \\\\$90,000 that's a huge (more than double) change in their income. That might seriously change their behavior. On the other hand, if a person's annual income changes by \\\\$50,000 from \\\\$550,000 to \\\\$600,000 then while the change would be noticeably, it probably wouldn't modify their behavior by that much. So, for income, it might make sense to view things on a non-linear magnitude scale, a.k.a a logarithmic scale."
   ]
  },
  {
   "cell_type": "markdown",
   "id": "9a0d21c7-0cfa-4927-be74-e51cbf130228",
   "metadata": {},
   "source": [
    "### Logarithmic Transforms"
   ]
  },
  {
   "cell_type": "markdown",
   "id": "3ebdcbb1-d0b2-4dc7-9639-dcf15db361f7",
   "metadata": {},
   "source": [
    "Let's take a look at a logarithmic transformation on some actual data. Specifically, we'll take a look at the \"Online News Popularity\" dataset, which includes 60 features of a set of 39,797 news articles published by Mashable over a period of 2 years."
   ]
  },
  {
   "cell_type": "code",
   "execution_count": 3,
   "id": "6e8e27b3-a647-4ab3-863d-65d01639e0dd",
   "metadata": {},
   "outputs": [
    {
     "data": {
      "text/html": [
       "<div>\n",
       "<style scoped>\n",
       "    .dataframe tbody tr th:only-of-type {\n",
       "        vertical-align: middle;\n",
       "    }\n",
       "\n",
       "    .dataframe tbody tr th {\n",
       "        vertical-align: top;\n",
       "    }\n",
       "\n",
       "    .dataframe thead th {\n",
       "        text-align: right;\n",
       "    }\n",
       "</style>\n",
       "<table border=\"1\" class=\"dataframe\">\n",
       "  <thead>\n",
       "    <tr style=\"text-align: right;\">\n",
       "      <th></th>\n",
       "      <th>url</th>\n",
       "      <th>timedelta</th>\n",
       "      <th>n_tokens_title</th>\n",
       "      <th>n_tokens_content</th>\n",
       "      <th>n_unique_tokens</th>\n",
       "      <th>n_non_stop_words</th>\n",
       "      <th>n_non_stop_unique_tokens</th>\n",
       "      <th>num_hrefs</th>\n",
       "      <th>num_self_hrefs</th>\n",
       "      <th>num_imgs</th>\n",
       "      <th>...</th>\n",
       "      <th>min_positive_polarity</th>\n",
       "      <th>max_positive_polarity</th>\n",
       "      <th>avg_negative_polarity</th>\n",
       "      <th>min_negative_polarity</th>\n",
       "      <th>max_negative_polarity</th>\n",
       "      <th>title_subjectivity</th>\n",
       "      <th>title_sentiment_polarity</th>\n",
       "      <th>abs_title_subjectivity</th>\n",
       "      <th>abs_title_sentiment_polarity</th>\n",
       "      <th>shares</th>\n",
       "    </tr>\n",
       "  </thead>\n",
       "  <tbody>\n",
       "    <tr>\n",
       "      <th>0</th>\n",
       "      <td>http://mashable.com/2013/01/07/amazon-instant-...</td>\n",
       "      <td>731.0</td>\n",
       "      <td>12.0</td>\n",
       "      <td>219.0</td>\n",
       "      <td>0.663594</td>\n",
       "      <td>1.0</td>\n",
       "      <td>0.815385</td>\n",
       "      <td>4.0</td>\n",
       "      <td>2.0</td>\n",
       "      <td>1.0</td>\n",
       "      <td>...</td>\n",
       "      <td>0.100000</td>\n",
       "      <td>0.70</td>\n",
       "      <td>-0.350000</td>\n",
       "      <td>-0.600</td>\n",
       "      <td>-0.200000</td>\n",
       "      <td>0.500000</td>\n",
       "      <td>-0.187500</td>\n",
       "      <td>0.000000</td>\n",
       "      <td>0.187500</td>\n",
       "      <td>593</td>\n",
       "    </tr>\n",
       "    <tr>\n",
       "      <th>1</th>\n",
       "      <td>http://mashable.com/2013/01/07/ap-samsung-spon...</td>\n",
       "      <td>731.0</td>\n",
       "      <td>9.0</td>\n",
       "      <td>255.0</td>\n",
       "      <td>0.604743</td>\n",
       "      <td>1.0</td>\n",
       "      <td>0.791946</td>\n",
       "      <td>3.0</td>\n",
       "      <td>1.0</td>\n",
       "      <td>1.0</td>\n",
       "      <td>...</td>\n",
       "      <td>0.033333</td>\n",
       "      <td>0.70</td>\n",
       "      <td>-0.118750</td>\n",
       "      <td>-0.125</td>\n",
       "      <td>-0.100000</td>\n",
       "      <td>0.000000</td>\n",
       "      <td>0.000000</td>\n",
       "      <td>0.500000</td>\n",
       "      <td>0.000000</td>\n",
       "      <td>711</td>\n",
       "    </tr>\n",
       "    <tr>\n",
       "      <th>2</th>\n",
       "      <td>http://mashable.com/2013/01/07/apple-40-billio...</td>\n",
       "      <td>731.0</td>\n",
       "      <td>9.0</td>\n",
       "      <td>211.0</td>\n",
       "      <td>0.575130</td>\n",
       "      <td>1.0</td>\n",
       "      <td>0.663866</td>\n",
       "      <td>3.0</td>\n",
       "      <td>1.0</td>\n",
       "      <td>1.0</td>\n",
       "      <td>...</td>\n",
       "      <td>0.100000</td>\n",
       "      <td>1.00</td>\n",
       "      <td>-0.466667</td>\n",
       "      <td>-0.800</td>\n",
       "      <td>-0.133333</td>\n",
       "      <td>0.000000</td>\n",
       "      <td>0.000000</td>\n",
       "      <td>0.500000</td>\n",
       "      <td>0.000000</td>\n",
       "      <td>1500</td>\n",
       "    </tr>\n",
       "    <tr>\n",
       "      <th>3</th>\n",
       "      <td>http://mashable.com/2013/01/07/astronaut-notre...</td>\n",
       "      <td>731.0</td>\n",
       "      <td>9.0</td>\n",
       "      <td>531.0</td>\n",
       "      <td>0.503788</td>\n",
       "      <td>1.0</td>\n",
       "      <td>0.665635</td>\n",
       "      <td>9.0</td>\n",
       "      <td>0.0</td>\n",
       "      <td>1.0</td>\n",
       "      <td>...</td>\n",
       "      <td>0.136364</td>\n",
       "      <td>0.80</td>\n",
       "      <td>-0.369697</td>\n",
       "      <td>-0.600</td>\n",
       "      <td>-0.166667</td>\n",
       "      <td>0.000000</td>\n",
       "      <td>0.000000</td>\n",
       "      <td>0.500000</td>\n",
       "      <td>0.000000</td>\n",
       "      <td>1200</td>\n",
       "    </tr>\n",
       "    <tr>\n",
       "      <th>4</th>\n",
       "      <td>http://mashable.com/2013/01/07/att-u-verse-apps/</td>\n",
       "      <td>731.0</td>\n",
       "      <td>13.0</td>\n",
       "      <td>1072.0</td>\n",
       "      <td>0.415646</td>\n",
       "      <td>1.0</td>\n",
       "      <td>0.540890</td>\n",
       "      <td>19.0</td>\n",
       "      <td>19.0</td>\n",
       "      <td>20.0</td>\n",
       "      <td>...</td>\n",
       "      <td>0.033333</td>\n",
       "      <td>1.00</td>\n",
       "      <td>-0.220192</td>\n",
       "      <td>-0.500</td>\n",
       "      <td>-0.050000</td>\n",
       "      <td>0.454545</td>\n",
       "      <td>0.136364</td>\n",
       "      <td>0.045455</td>\n",
       "      <td>0.136364</td>\n",
       "      <td>505</td>\n",
       "    </tr>\n",
       "    <tr>\n",
       "      <th>...</th>\n",
       "      <td>...</td>\n",
       "      <td>...</td>\n",
       "      <td>...</td>\n",
       "      <td>...</td>\n",
       "      <td>...</td>\n",
       "      <td>...</td>\n",
       "      <td>...</td>\n",
       "      <td>...</td>\n",
       "      <td>...</td>\n",
       "      <td>...</td>\n",
       "      <td>...</td>\n",
       "      <td>...</td>\n",
       "      <td>...</td>\n",
       "      <td>...</td>\n",
       "      <td>...</td>\n",
       "      <td>...</td>\n",
       "      <td>...</td>\n",
       "      <td>...</td>\n",
       "      <td>...</td>\n",
       "      <td>...</td>\n",
       "      <td>...</td>\n",
       "    </tr>\n",
       "    <tr>\n",
       "      <th>39639</th>\n",
       "      <td>http://mashable.com/2014/12/27/samsung-app-aut...</td>\n",
       "      <td>8.0</td>\n",
       "      <td>11.0</td>\n",
       "      <td>346.0</td>\n",
       "      <td>0.529052</td>\n",
       "      <td>1.0</td>\n",
       "      <td>0.684783</td>\n",
       "      <td>9.0</td>\n",
       "      <td>7.0</td>\n",
       "      <td>1.0</td>\n",
       "      <td>...</td>\n",
       "      <td>0.100000</td>\n",
       "      <td>0.75</td>\n",
       "      <td>-0.260000</td>\n",
       "      <td>-0.500</td>\n",
       "      <td>-0.125000</td>\n",
       "      <td>0.100000</td>\n",
       "      <td>0.000000</td>\n",
       "      <td>0.400000</td>\n",
       "      <td>0.000000</td>\n",
       "      <td>1800</td>\n",
       "    </tr>\n",
       "    <tr>\n",
       "      <th>39640</th>\n",
       "      <td>http://mashable.com/2014/12/27/seth-rogen-jame...</td>\n",
       "      <td>8.0</td>\n",
       "      <td>12.0</td>\n",
       "      <td>328.0</td>\n",
       "      <td>0.696296</td>\n",
       "      <td>1.0</td>\n",
       "      <td>0.885057</td>\n",
       "      <td>9.0</td>\n",
       "      <td>7.0</td>\n",
       "      <td>3.0</td>\n",
       "      <td>...</td>\n",
       "      <td>0.136364</td>\n",
       "      <td>0.70</td>\n",
       "      <td>-0.211111</td>\n",
       "      <td>-0.400</td>\n",
       "      <td>-0.100000</td>\n",
       "      <td>0.300000</td>\n",
       "      <td>1.000000</td>\n",
       "      <td>0.200000</td>\n",
       "      <td>1.000000</td>\n",
       "      <td>1900</td>\n",
       "    </tr>\n",
       "    <tr>\n",
       "      <th>39641</th>\n",
       "      <td>http://mashable.com/2014/12/27/son-pays-off-mo...</td>\n",
       "      <td>8.0</td>\n",
       "      <td>10.0</td>\n",
       "      <td>442.0</td>\n",
       "      <td>0.516355</td>\n",
       "      <td>1.0</td>\n",
       "      <td>0.644128</td>\n",
       "      <td>24.0</td>\n",
       "      <td>1.0</td>\n",
       "      <td>12.0</td>\n",
       "      <td>...</td>\n",
       "      <td>0.136364</td>\n",
       "      <td>0.50</td>\n",
       "      <td>-0.356439</td>\n",
       "      <td>-0.800</td>\n",
       "      <td>-0.166667</td>\n",
       "      <td>0.454545</td>\n",
       "      <td>0.136364</td>\n",
       "      <td>0.045455</td>\n",
       "      <td>0.136364</td>\n",
       "      <td>1900</td>\n",
       "    </tr>\n",
       "    <tr>\n",
       "      <th>39642</th>\n",
       "      <td>http://mashable.com/2014/12/27/ukraine-blasts/</td>\n",
       "      <td>8.0</td>\n",
       "      <td>6.0</td>\n",
       "      <td>682.0</td>\n",
       "      <td>0.539493</td>\n",
       "      <td>1.0</td>\n",
       "      <td>0.692661</td>\n",
       "      <td>10.0</td>\n",
       "      <td>1.0</td>\n",
       "      <td>1.0</td>\n",
       "      <td>...</td>\n",
       "      <td>0.062500</td>\n",
       "      <td>0.50</td>\n",
       "      <td>-0.205246</td>\n",
       "      <td>-0.500</td>\n",
       "      <td>-0.012500</td>\n",
       "      <td>0.000000</td>\n",
       "      <td>0.000000</td>\n",
       "      <td>0.500000</td>\n",
       "      <td>0.000000</td>\n",
       "      <td>1100</td>\n",
       "    </tr>\n",
       "    <tr>\n",
       "      <th>39643</th>\n",
       "      <td>http://mashable.com/2014/12/27/youtube-channel...</td>\n",
       "      <td>8.0</td>\n",
       "      <td>10.0</td>\n",
       "      <td>157.0</td>\n",
       "      <td>0.701987</td>\n",
       "      <td>1.0</td>\n",
       "      <td>0.846154</td>\n",
       "      <td>1.0</td>\n",
       "      <td>1.0</td>\n",
       "      <td>0.0</td>\n",
       "      <td>...</td>\n",
       "      <td>0.100000</td>\n",
       "      <td>0.50</td>\n",
       "      <td>-0.200000</td>\n",
       "      <td>-0.200</td>\n",
       "      <td>-0.200000</td>\n",
       "      <td>0.333333</td>\n",
       "      <td>0.250000</td>\n",
       "      <td>0.166667</td>\n",
       "      <td>0.250000</td>\n",
       "      <td>1300</td>\n",
       "    </tr>\n",
       "  </tbody>\n",
       "</table>\n",
       "<p>39644 rows × 61 columns</p>\n",
       "</div>"
      ],
      "text/plain": [
       "                                                     url  timedelta  \\\n",
       "0      http://mashable.com/2013/01/07/amazon-instant-...      731.0   \n",
       "1      http://mashable.com/2013/01/07/ap-samsung-spon...      731.0   \n",
       "2      http://mashable.com/2013/01/07/apple-40-billio...      731.0   \n",
       "3      http://mashable.com/2013/01/07/astronaut-notre...      731.0   \n",
       "4       http://mashable.com/2013/01/07/att-u-verse-apps/      731.0   \n",
       "...                                                  ...        ...   \n",
       "39639  http://mashable.com/2014/12/27/samsung-app-aut...        8.0   \n",
       "39640  http://mashable.com/2014/12/27/seth-rogen-jame...        8.0   \n",
       "39641  http://mashable.com/2014/12/27/son-pays-off-mo...        8.0   \n",
       "39642     http://mashable.com/2014/12/27/ukraine-blasts/        8.0   \n",
       "39643  http://mashable.com/2014/12/27/youtube-channel...        8.0   \n",
       "\n",
       "       n_tokens_title  n_tokens_content  n_unique_tokens  n_non_stop_words  \\\n",
       "0                12.0             219.0         0.663594               1.0   \n",
       "1                 9.0             255.0         0.604743               1.0   \n",
       "2                 9.0             211.0         0.575130               1.0   \n",
       "3                 9.0             531.0         0.503788               1.0   \n",
       "4                13.0            1072.0         0.415646               1.0   \n",
       "...               ...               ...              ...               ...   \n",
       "39639            11.0             346.0         0.529052               1.0   \n",
       "39640            12.0             328.0         0.696296               1.0   \n",
       "39641            10.0             442.0         0.516355               1.0   \n",
       "39642             6.0             682.0         0.539493               1.0   \n",
       "39643            10.0             157.0         0.701987               1.0   \n",
       "\n",
       "       n_non_stop_unique_tokens  num_hrefs  num_self_hrefs  num_imgs  ...  \\\n",
       "0                      0.815385        4.0             2.0       1.0  ...   \n",
       "1                      0.791946        3.0             1.0       1.0  ...   \n",
       "2                      0.663866        3.0             1.0       1.0  ...   \n",
       "3                      0.665635        9.0             0.0       1.0  ...   \n",
       "4                      0.540890       19.0            19.0      20.0  ...   \n",
       "...                         ...        ...             ...       ...  ...   \n",
       "39639                  0.684783        9.0             7.0       1.0  ...   \n",
       "39640                  0.885057        9.0             7.0       3.0  ...   \n",
       "39641                  0.644128       24.0             1.0      12.0  ...   \n",
       "39642                  0.692661       10.0             1.0       1.0  ...   \n",
       "39643                  0.846154        1.0             1.0       0.0  ...   \n",
       "\n",
       "       min_positive_polarity  max_positive_polarity  avg_negative_polarity  \\\n",
       "0                   0.100000                   0.70              -0.350000   \n",
       "1                   0.033333                   0.70              -0.118750   \n",
       "2                   0.100000                   1.00              -0.466667   \n",
       "3                   0.136364                   0.80              -0.369697   \n",
       "4                   0.033333                   1.00              -0.220192   \n",
       "...                      ...                    ...                    ...   \n",
       "39639               0.100000                   0.75              -0.260000   \n",
       "39640               0.136364                   0.70              -0.211111   \n",
       "39641               0.136364                   0.50              -0.356439   \n",
       "39642               0.062500                   0.50              -0.205246   \n",
       "39643               0.100000                   0.50              -0.200000   \n",
       "\n",
       "       min_negative_polarity  max_negative_polarity  title_subjectivity  \\\n",
       "0                     -0.600              -0.200000            0.500000   \n",
       "1                     -0.125              -0.100000            0.000000   \n",
       "2                     -0.800              -0.133333            0.000000   \n",
       "3                     -0.600              -0.166667            0.000000   \n",
       "4                     -0.500              -0.050000            0.454545   \n",
       "...                      ...                    ...                 ...   \n",
       "39639                 -0.500              -0.125000            0.100000   \n",
       "39640                 -0.400              -0.100000            0.300000   \n",
       "39641                 -0.800              -0.166667            0.454545   \n",
       "39642                 -0.500              -0.012500            0.000000   \n",
       "39643                 -0.200              -0.200000            0.333333   \n",
       "\n",
       "       title_sentiment_polarity  abs_title_subjectivity  \\\n",
       "0                     -0.187500                0.000000   \n",
       "1                      0.000000                0.500000   \n",
       "2                      0.000000                0.500000   \n",
       "3                      0.000000                0.500000   \n",
       "4                      0.136364                0.045455   \n",
       "...                         ...                     ...   \n",
       "39639                  0.000000                0.400000   \n",
       "39640                  1.000000                0.200000   \n",
       "39641                  0.136364                0.045455   \n",
       "39642                  0.000000                0.500000   \n",
       "39643                  0.250000                0.166667   \n",
       "\n",
       "       abs_title_sentiment_polarity  shares  \n",
       "0                          0.187500     593  \n",
       "1                          0.000000     711  \n",
       "2                          0.000000    1500  \n",
       "3                          0.000000    1200  \n",
       "4                          0.136364     505  \n",
       "...                             ...     ...  \n",
       "39639                      0.000000    1800  \n",
       "39640                      1.000000    1900  \n",
       "39641                      0.136364    1900  \n",
       "39642                      0.000000    1100  \n",
       "39643                      0.250000    1300  \n",
       "\n",
       "[39644 rows x 61 columns]"
      ]
     },
     "execution_count": 3,
     "metadata": {},
     "output_type": "execute_result"
    }
   ],
   "source": [
    "url = 'https://drive.google.com/file/d/1gr8f2rBh72h2PDFD_91rAM_qYTvWFbY6/view?usp=drive_link'\n",
    "path = 'https://drive.google.com/uc?export=download&id='+url.split('/')[-2]\n",
    "\n",
    "df = pd.read_csv(path)\n",
    "df.rename(columns=lambda x: x.strip(), inplace=True) #For some annoying reason most of the column headers are read in with whitespace at the front, which makes them hard to specify. This cleans the whitespace.\n",
    "df"
   ]
  },
  {
   "cell_type": "markdown",
   "id": "564ae54d-1a62-49a3-9ddf-8fd1091103bc",
   "metadata": {},
   "source": [
    "Let's take a look at the distribution of articles by work count (n_tokens_content). It's definitely what we'd call a \"right-skewed\" distribution, which means its tail is much more significantly on the right than on the left."
   ]
  },
  {
   "cell_type": "code",
   "execution_count": 5,
   "id": "72b475ad-a2f8-4bdb-b62e-176b88f3e0e3",
   "metadata": {},
   "outputs": [
    {
     "data": {
      "image/png": "[encoded data removed]",
      "text/plain": [
       "<Figure size 432x288 with 1 Axes>"
      ]
     },
     "metadata": {
      "needs_background": "light"
     },
     "output_type": "display_data"
    }
   ],
   "source": [
    "fig, ax = plt.subplots()\n",
    "plt.rcParams['figure.figsize'] = [27, 15]\n",
    "df['n_tokens_content'].hist(ax=ax, bins=100)\n",
    "ax.tick_params(labelsize=14)\n",
    "ax.set_xlabel('Number of Words in Article', fontsize=14)\n",
    "ax.set_ylabel('Number of Articles', fontsize=14);"
   ]
  },
  {
   "cell_type": "markdown",
   "id": "bc9962ec-ca50-4030-867d-32011a2aff32",
   "metadata": {},
   "source": [
    "Let's take a look at what this distribution looks like under a log transform. Note we'll shift the word count by 1 so that we avoid taking the log of infinity."
   ]
  },
  {
   "cell_type": "code",
   "execution_count": 7,
   "id": "90ce8b18-071d-4728-8048-9bf1c54911a4",
   "metadata": {},
   "outputs": [],
   "source": [
    "df['log_n_tokens_content'] = np.log10(df['n_tokens_content'] + 1)"
   ]
  },
  {
   "cell_type": "markdown",
   "id": "7a47e476-8d84-4e33-b605-cfbddf143194",
   "metadata": {},
   "source": [
    "Now, creating a histogram for both we have:"
   ]
  },
  {
   "cell_type": "code",
   "execution_count": 9,
   "id": "e583f722-449b-4492-8426-94de454a7c87",
   "metadata": {},
   "outputs": [
    {
     "data": {
      "image/png": "[encoded data removed]",
      "text/plain": [
       "<Figure size 1944x1080 with 2 Axes>"
      ]
     },
     "metadata": {
      "needs_background": "light"
     },
     "output_type": "display_data"
    }
   ],
   "source": [
    "plt.figure()\n",
    "ax = plt.subplot(2,1,1)\n",
    "df['n_tokens_content'].hist(ax=ax, bins=100)\n",
    "ax.tick_params(labelsize=14)\n",
    "ax.set_xlabel('Number of Words in Article', fontsize=14)\n",
    "ax.set_ylabel('Number of Articles', fontsize=14)\n",
    "\n",
    "ax = plt.subplot(2,1,2)\n",
    "df['log_n_tokens_content'].hist(ax=ax, bins=100)\n",
    "ax.tick_params(labelsize=14)\n",
    "ax.set_xlabel('Log of Number of Words', fontsize=14)\n",
    "ax.set_ylabel('Number of Articles', fontsize=14);"
   ]
  },
  {
   "cell_type": "markdown",
   "id": "2493b270-50a0-4f02-8129-2852f3c7fc22",
   "metadata": {},
   "source": [
    "The log transform is a powerful tool for dealing with positive numbers with a right-skewed distribution. It compresses the long tail in the high end of the distribution into a shorter tail, and expands the low end into a longer head. As you can see above, after a logarithmic transformation, the distribution becomes much less skewed and much more \"normal\"."
   ]
  },
  {
   "cell_type": "markdown",
   "id": "fbce6b65-27ce-4fbf-8bdd-eba189c38041",
   "metadata": {},
   "source": [
    "### Power Transforms"
   ]
  },
  {
   "cell_type": "markdown",
   "id": "1fafb0e0-55bb-4f5b-a83e-301b972f75d3",
   "metadata": {},
   "source": [
    "Generally speaking, a log transform works well for right-skewed data, but not left-skewed data."
   ]
  },
  {
   "cell_type": "markdown",
   "id": "ff3d6d02-aa9f-447e-a56a-c21703ffe892",
   "metadata": {},
   "source": [
    "<center>\n",
    "    <div>\n",
    "        <img src=\"https://lh3.googleusercontent.com/drive-viewer/AEYmBYQHfP-eZuSRAFdm2z5eTztOwtB4ZTcTi6CG3Q_nWyGEZ3XcH42wwgoVw6CUxNq8qWwE2ZMpWXP4MeYF6AqHa7znJs5B=s1600\" width=1000/>\n",
    "    </div>\n",
    "</center>\n"
   ]
  },
  {
   "cell_type": "markdown",
   "id": "3ea4eb91-36fc-4576-bdb0-a99b20b5de45",
   "metadata": {},
   "source": [
    "So, what do we do with a left-skewed distribution? Well, the log transform is a specific example of a family of transformations known as *power transforms*. In statistical terms, these are *variance-stabilizing transformations*. In fact, there is a whole  family of power transformations known as the Box-Cox transforms, which are of the form:\n",
    "\n",
    "\n",
    "<center>\n",
    "    $\\displaystyle \\tilde{x} = \\left\\{\\begin{array}{cc} \\frac{x^{\\lambda}-1}{\\lambda} & if \\lambda \\neq 0,\\\\ \\ln{(x)} & if \\lambda = 0\\end{array}\\right.$\n",
    "</center>\n",
    "\n",
    "The Box-Cox transform for $\\lambda < 1$ compresses the higher values, while $\\lambda > 1$ has the opposite effect. So, to fix left-skewed data, use a $\\lambda > 1$. "
   ]
  },
  {
   "cell_type": "markdown",
   "id": "2d12a645-36a9-499a-b200-e03e74d418ee",
   "metadata": {},
   "source": [
    "### Scaling"
   ]
  },
  {
   "cell_type": "markdown",
   "id": "7e380b31-7a6a-45ec-adb8-43edeeaaacc1",
   "metadata": {},
   "source": [
    "Some features, such as latitude or longitude, are bounded in value. Other numeric features, such as counts, may increase without bound. Models that are smooth functions of the input, such as linear regression, logistic regression, or anything that involves a matrix, are affected by the scale of the input. Tree-based models, on the other hand, couldn't care less. If your model is sensitive to the scale of input features, feature scaling could help As the name suggests, feature scaling changes the scale of the feature. Sometimes people also call it *feature normalization*. Feature scaling is usually done individually to each feature. Some type of scaling include:\n",
    "\n",
    "**Mix-Max Scaling**\n",
    "\n",
    "Let $x$ by an individual feature value, and $min(x)$ and $max(x)$, respectively, be the minimum and maximum values of this feature over the entire dataset. Min-max scaling squeezes (or stretches) all feature values to be within the range of $[0,1]$.\n",
    "\n",
    "<center>\n",
    "    $\\displaystyle \\tilde{x} = \\frac{x-min(x)}{max(x) - min(x)}$\n",
    "</center>\n",
    "\n",
    "**Standardization (Variance Scaling)**\n",
    "\n",
    "Sometimes known as *feature standardization*, it is defined as:\n",
    "\n",
    "<center>\n",
    "    $\\displaystyle \\tilde{x} = \\frac{x-mean(x)}{\\sqrt{var(x)}}$\n",
    "</center>\n",
    "\n",
    "Note $\\sqrt{var(x)}$ is the *standard deviation*, which is frequently written as $\\sigma$. It subtracts off the mean of the feature (over all data points) and divides by the variance. Hence, it can also be called *variance scaling*. The resulting scaled feature has a mean of $0$ and a variance of $1$. If the original feature has a Gaussian (normal) distribution, then the scaled feature does too."
   ]
  },
  {
   "cell_type": "markdown",
   "id": "3afa646b-8f67-42a8-a13d-ee19247bc53a",
   "metadata": {},
   "source": [
    "## Numeric Feature Generation"
   ]
  },
  {
   "cell_type": "markdown",
   "id": "103fc5dd-9993-4ec8-84e7-797fd75066f5",
   "metadata": {},
   "source": [
    "There are many, many ways to generate features from existing data, and we'll just touch on some basic ones here. Specifically, quantization or \"binning\".\n",
    "\n",
    "Suppose you have a numeric variable and you want to place it in specific bins. Let's say you're realized there are certain income ranges in which people behave certain ways, and you want to place them in these ranges. In doing so, you're creating a new feature from your existing data.\n",
    "\n",
    "**Fixed Width Binning**\n",
    "\n",
    "With fixed-width binning, each bin contains a specific numeric range. The ranges can be custom designed or automatically segmented, and they can be linearly scaled or exponentially scaled. For example, we can group people into age ranges by decade: 0-9 years old in bin 1, 10-19 years in bin 2, etc. It's also common to see custom-designed age ranges that better correspond to stages of life.\n",
    "\n",
    "When the numbers span multiple magnitudes, it may be better to group by powers of 10 (or powers of any constant): 0-9, 10-99, 100-999, 1000-9999, etc. The bin widths grow exponentially. To map from the count to the bin, we take the log of the count. Exponential-width binning is very much related to the log transform.\n",
    "\n",
    "**Quantile binning**\n",
    "\n",
    "Fixed-width binning is easy to computer. But if there are large gaps in the counts, then there will be many empty bins with no data. The problem can be solved by adaptively positioning the bins based on the distribution of the data. This can be done using the quantiles of the distribution.\n",
    "\n",
    "Quantiles are values that divide the data into equal portions. For example, the median divides the data in halves; half the data points are smaller and half larger than the median. The quartiles divide the data into quarters, the deciles into tenths, etc. We can check out deciles for our word count data above using the code below."
   ]
  },
  {
   "cell_type": "code",
   "execution_count": 11,
   "id": "0680e6c5-88dc-42e7-9283-a3aed590fbf3",
   "metadata": {},
   "outputs": [
    {
     "data": {
      "text/plain": [
       "0.1     152.0\n",
       "0.2     217.0\n",
       "0.3     276.0\n",
       "0.4     335.0\n",
       "0.5     409.0\n",
       "0.6     507.0\n",
       "0.7     633.0\n",
       "0.8     810.0\n",
       "0.9    1090.0\n",
       "Name: n_tokens_content, dtype: float64"
      ]
     },
     "execution_count": 11,
     "metadata": {},
     "output_type": "execute_result"
    }
   ],
   "source": [
    "deciles = df['n_tokens_content'].quantile([.1, .2, .3, .4, .5, .6, .7, .8, .9])\n",
    "deciles"
   ]
  },
  {
   "cell_type": "markdown",
   "id": "6c29360e-d9dc-44bc-a325-590530d98a69",
   "metadata": {},
   "source": [
    "We can visualize these deciles on the histogram:"
   ]
  },
  {
   "cell_type": "code",
   "execution_count": 13,
   "id": "03ff3e7b-d7e5-4e38-ad48-960d34ad69c8",
   "metadata": {},
   "outputs": [
    {
     "data": {
      "image/png": "[encoded data removed]",
      "text/plain": [
       "<Figure size 1944x1080 with 1 Axes>"
      ]
     },
     "metadata": {
      "needs_background": "light"
     },
     "output_type": "display_data"
    }
   ],
   "source": [
    "fig, ax = plt.subplots()\n",
    "df['n_tokens_content'].hist(ax=ax, bins=100)\n",
    "for pos in deciles:\n",
    "    handle = plt.axvline(pos, color='r')\n",
    "ax.legend([handle], ['deciles'], fontsize=14)\n",
    "ax.tick_params(labelsize=14)\n",
    "ax.set_xlabel('Number of Articles', fontsize=14)\n",
    "ax.set_ylabel('Number of Words', fontsize=14);"
   ]
  }
 ],
 "metadata": {
  "kernelspec": {
   "display_name": "anaconda-2022.05-py39",
   "language": "python",
   "name": "conda-env-anaconda-2022.05-py39-py"
  },
  "language_info": {
   "codemirror_mode": {
    "name": "ipython",
    "version": 3
   },
   "file_extension": ".py",
   "mimetype": "text/x-python",
   "name": "python",
   "nbconvert_exporter": "python",
   "pygments_lexer": "ipython3",
   "version": "3.9.12"
  }
 },
 "nbformat": 4,
 "nbformat_minor": 5
}

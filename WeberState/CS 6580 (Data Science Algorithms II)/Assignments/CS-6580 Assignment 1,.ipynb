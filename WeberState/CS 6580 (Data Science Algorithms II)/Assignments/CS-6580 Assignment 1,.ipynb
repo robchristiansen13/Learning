{
 "cells": [
  {
   "cell_type": "markdown",
   "id": "a3f1c05e",
   "metadata": {},
   "source": [
    "# CS-6580 Assignment 1 - A Simple Neural Network\n",
    "\n",
    "**YOUR NAME HERE**\n",
    "\n",
    "*Weber State University*"
   ]
  },
  {
   "cell_type": "markdown",
   "id": "16949302-11a1-480f-9fcc-13bf53079a44",
   "metadata": {},
   "source": [
    "For our first assignment, we're going to build a simple, sequential neural network with Keras. Keras is a high-level deep learning [API](https://aws.amazon.com/what-is/api/) that allows you to easily build, train, evaluate, and execute all sorts of neural networks. Its documentation can be found [here](https://keras.io/). A good book, by Francois Chollet, the person who designed it, is [Deep Learning with Python](https://www.amazon.com/Learning-Python-Second-Fran%C3%A7ois-Chollet/dp/1617296864/ref=sr_1_1), one of the recommended books for this class. Keras has quickly gained popularity, owing to its ease of use, flexibility, and design.\n",
    "\n",
    "To perform the heavy computations required by neural networks, Keras relies on a computation backend. At present, you can choose from (at least) TensorFlow, Microsoft Cognitive Toolkit, and Theano. In fact TensorFlow itself now comes bundled with its own Keras implementation, *tf.keras*. Unsurprisingly, it only supports TensorFlow as the backend, but it also offers some very useful extra features - for example, it supports TensorFlow's Data API, which makes it easy to load and preprocess data efficiently. For this reason, we'll use tf.keras in this class. However, most of what we do won't be TensorFlow specific, and so the code should mostly run fine on other Keras implementations that use Python. Note also that the PyTorch API is quite similar to Keras. This is mostly because they share a common ancestor in Scikit-Learn.\n",
    "\n",
    "For this assignment, you should fill in all the sections of code where it says \"# TODO\". Once you're done with the assignment, you should upload your Jupyter notebook to Canvas. Please note the assignment is due by end of day Thursday, January 25th.\n",
    "\n"
   ]
  },
  {
   "cell_type": "markdown",
   "id": "80581e89-05d2-46b4-8c47-3f8fa023b0d4",
   "metadata": {},
   "source": [
    "### TensorFlow"
   ]
  },
  {
   "cell_type": "markdown",
   "id": "00bd6d15-38f4-40a6-af2e-571572606bfa",
   "metadata": {},
   "source": [
    "**What is TensorFLow?**\n",
    "\n",
    "Before we dive into Keras, let's learn a bit more about TensorFlow, the computation backend we'll be using. TensorFlow is an open-source machine learning platform developed by Google that provides a powerful suite of tools for data scientists and developers to build, deploy, and train machine learning models. It was initially released in 2015, and has evolved significantly since. The TensorFlow library allows developers to create complex neural networks using a variety of programming languages, such as Python and JavaScript. Additionally, TensorFlow makes it easy to deploy models on mobile devices or cloud platforms like Google Cloud Platform (GCP) and Amazon Web Services (AWS).\n",
    "\n",
    "TensorFlow is used in a variety of applications, ranging from natural language processing (NLP) and image recognition to predictive analytics and autonomous vehicle control. It can be used to train deep neural networks for object detection and classification, generate recommendations, classify images, and build voice-powered applications."
   ]
  },
  {
   "cell_type": "markdown",
   "id": "62cabd34-a678-40b7-8697-4e7f5b3afbb8",
   "metadata": {},
   "source": [
    "**What are Tensors?**\n",
    "\n",
    "A tensor is, basically, an $n$-dimensional generalization of a matrix. A zero-dimensional tensor is a scalar, which contains a single value and has no axes. A one-dimensional tensor is a vector, which contains a list of values and has one axis. A two-dimensional tensor is a matrix that contains values stored across two axes.\n",
    "\n",
    "<center>\n",
    "    <div>\n",
    "        <img src=\"https://lh3.googleusercontent.com/drive-viewer/AEYmBYQr-5-GiX8a77j6Q9HB3FcpEtSbUC0OSS7Wt2h2kXl9Dv9oV4Np_M0-j-8QNFliLHP8Ip-V9uXu6Xr6nJD2S5KsDHhA=s1600\" width=\"1000\"/>\n",
    "    </div>\n",
    "</center>"
   ]
  },
  {
   "cell_type": "markdown",
   "id": "e9801c09-e0bb-466f-91a2-5cdb673e0f65",
   "metadata": {},
   "source": [
    "**How Does TensorFlow Work?**\n",
    "\n",
    "At the core of TensorFlow is a dataflow graph, which describes how data moves through a series of operations or transformations. The basic idea behind the dataflow graph is that operations are expressed as nodes, with each node performing a single operation on its inputs. The inputs and outputs of the operations are passed through edges (tensors). This makes it possible to break down complex computations into smaller, more manageable chunks.\n",
    "\n",
    "At the lowest level, each TensorFlow operation (*op* for short) is implemented using highly efficient C++ code. Many operations have multiple implementations called *kernels*: each kernel is dedicated to a specific device type, such as CPUs, GPUs, or even TPUs (*tensor processing units*). As you may know, GPUs can dramatically speed up computations by splitting them into many smaller chunks and running them in parallel across many GPU threads. TPUs are even faster: they are custom ASIC chips build specifically for deep learning operations.\n",
    "\n",
    "TensorFlow's API revolves, appropriately, around *tensors*, which flow from operation to operation - thus the name. A tensor is very similar to a NumPy *ndarray*: it is usually a multidimensional array, but it can also hold a scalar. Let's see how to create a manipulate them."
   ]
  },
  {
   "cell_type": "markdown",
   "id": "77214669-fb6e-44a7-863a-3aa16df041cc",
   "metadata": {},
   "source": [
    "**Using TensorFlow - The Basics**"
   ]
  },
  {
   "cell_type": "markdown",
   "id": "366e601f-a7ba-490f-b648-5a8f5cc022e8",
   "metadata": {},
   "source": [
    "AIf you haven't installed TensorFlow you should do so. Please note you only need to do this once! It might take some time. If you need to install it, \"uncomment\" (remove the # at the start) the following:"
   ]
  },
  {
   "cell_type": "markdown",
   "id": "e45d2a0e",
   "metadata": {},
   "source": [
    "Source: https://colab.research.google.com/github/aamini/introtodeeplearning"
   ]
  },
  {
   "cell_type": "code",
   "execution_count": 1,
   "id": "6f15d542-377e-42bf-949f-6b25ef26a57c",
   "metadata": {},
   "outputs": [],
   "source": [
    "#pip install tensorflow"
   ]
  },
  {
   "cell_type": "markdown",
   "id": "0d4b2752-7103-42f4-b3ad-307a965496cf",
   "metadata": {},
   "source": [
    "Once TensorFlow is installed, we can import it, along with the standard libraries any good data scientist should always have ready."
   ]
  },
  {
   "cell_type": "code",
   "execution_count": 2,
   "id": "ef771af6-caf6-4fac-b915-5680b7ef4a9f",
   "metadata": {},
   "outputs": [],
   "source": [
    "import tensorflow as tf\n",
    "\n",
    "import numpy as np\n",
    "import pandas as pd\n",
    "import matplotlib.pyplot as plt"
   ]
  },
  {
   "cell_type": "markdown",
   "id": "084bbcbc-e681-40c6-a418-5fd048156928",
   "metadata": {},
   "source": [
    "Now let's play around with creating some tensors. Let's first look at 0-d tensors, of which a scalar is an example:"
   ]
  },
  {
   "cell_type": "code",
   "execution_count": 3,
   "id": "ce5f5b21-6b5e-4de6-a931-23f33431fd71",
   "metadata": {},
   "outputs": [
    {
     "name": "stdout",
     "output_type": "stream",
     "text": [
      "`sport` is a 0-d Tensor\n",
      "`number` is a 0-d Tensor\n"
     ]
    }
   ],
   "source": [
    "sport = tf.constant(\"Tennis\", tf.string)\n",
    "number = tf.constant(1.41421356237, tf.float64)\n",
    "\n",
    "print(\"`sport` is a {}-d Tensor\".format(tf.rank(sport).numpy()))\n",
    "print(\"`number` is a {}-d Tensor\".format(tf.rank(number).numpy()))"
   ]
  },
  {
   "cell_type": "markdown",
   "id": "e0a90432-9528-4c9f-9301-1270852b8857",
   "metadata": {},
   "source": [
    "Vectors and lists can be used to create 1-d tensors:"
   ]
  },
  {
   "cell_type": "code",
   "execution_count": 4,
   "id": "6f7b830f-b592-4191-a052-2563dbd92ed0",
   "metadata": {},
   "outputs": [
    {
     "name": "stdout",
     "output_type": "stream",
     "text": [
      "`sports` is a 1-d Tensor with shape: [2]\n",
      "`numbers` is a 1-d Tensor with shape: [3]\n"
     ]
    }
   ],
   "source": [
    "sports = tf.constant([\"Tennis\", \"Basketball\"], tf.string)\n",
    "numbers = tf.constant([3.141592, 1.414213, 2.71828], tf.float64)\n",
    "\n",
    "print(\"`sports` is a {}-d Tensor with shape: {}\".format(tf.rank(sports).numpy(), tf.shape(sports)))\n",
    "print(\"`numbers` is a {}-d Tensor with shape: {}\".format(tf.rank(numbers).numpy(), tf.shape(numbers)))"
   ]
  },
  {
   "cell_type": "markdown",
   "id": "f4411071-77e9-49fe-974f-697848cbe983",
   "metadata": {},
   "source": [
    "Next we consider creating 2-d (i.e., matrices) and higher-rank tensors. For examples, for work involving image processing and computer vision, 4-d tensors are common. Here the dimensions correspond to the number of example images in our batch, image height, image width, and the number of color channels."
   ]
  },
  {
   "cell_type": "code",
   "execution_count": 5,
   "id": "3e00c976-7184-4277-be74-50645aa83957",
   "metadata": {},
   "outputs": [],
   "source": [
    "### Defining higher-order Tensors ###\n",
    "\n",
    "# '''TODO: Define a 2-d Tensor'''\n",
    "matrix = tf.constant([[1, 2, 3], [4, 5, 6]], tf.int32)\n",
    "\n",
    "assert isinstance(matrix, tf.Tensor), \"matrix must be a tf Tensor object\"\n",
    "assert tf.rank(matrix).numpy() == 2"
   ]
  },
  {
   "cell_type": "code",
   "execution_count": 6,
   "id": "5c3cc557-bf04-4e6f-b56d-208684b94821",
   "metadata": {},
   "outputs": [],
   "source": [
    "# '''TODO: Define a 4-d Tensor.'''\n",
    "# Use tf.zeros to initialize a 4-d Tensor of zeros with size 10 x 256 x 256 x 3.\n",
    "#   You can think of this as 10 images where each image is RGB 256 x 256.\n",
    "images = tf.zeros(shape=[10, 256, 256, 3])\n",
    "\n",
    "assert isinstance(images, tf.Tensor), \"matrix must be a tf Tensor object\"\n",
    "assert tf.rank(images).numpy() == 4, \"matrix must be of rank 4\"\n",
    "assert tf.shape(images).numpy().tolist() == [10, 256, 256, 3], \"matrix is incorrect shape\""
   ]
  },
  {
   "cell_type": "markdown",
   "id": "90a7d530-205a-4001-81a6-50c2ec9259a5",
   "metadata": {},
   "source": [
    "**Computations on Tensors**\n",
    "\n",
    "A convenient way to think about and visualize computations in TensorFlow is in terms of graphs. We can define this graph in terms of the tensors, which hold data, and the mathematical operations that act on these tensors in some order. Let's look at a simple example, and define this computation using TensorFlow:\n",
    "\n",
    "![alt text](https://raw.githubusercontent.com/aamini/introtodeeplearning/master/lab1/img/add-graph.png)"
   ]
  },
  {
   "cell_type": "code",
   "execution_count": 7,
   "id": "b9313b24-697d-485c-a834-e195fdf401ba",
   "metadata": {},
   "outputs": [
    {
     "name": "stdout",
     "output_type": "stream",
     "text": [
      "tf.Tensor(76, shape=(), dtype=int32)\n",
      "tf.Tensor(76, shape=(), dtype=int32)\n"
     ]
    }
   ],
   "source": [
    "# Create the nodes in the graph, and initialize values\n",
    "a = tf.constant(15)\n",
    "b = tf.constant(61)\n",
    "\n",
    "# Add them!\n",
    "c1 = tf.add(a,b)\n",
    "c2 = a + b # TensorFlow overrides the \"+\" operation so that it is able to act on tensors\n",
    "print(c1)\n",
    "print(c2)"
   ]
  },
  {
   "cell_type": "markdown",
   "id": "04604881-b60f-4e68-a1eb-720a96e58926",
   "metadata": {},
   "source": [
    "Notice how we've created a computation graph consisting of TensorFlow operations, and how the output is a tensor with value 76 -- we've just created a computation graph consisting of operations, and it's executed them and given us back the result.\n",
    "\n",
    "Now let's consider a slightly more complicated example:\n",
    "\n",
    "![alt text](https://raw.githubusercontent.com/aamini/introtodeeplearning/master/lab1/img/computation-graph.png)\n",
    "\n",
    "Here, we take two inputs, `a, b`, and compute an output `e`. Each node in the graph represents an operation that takes some input, does some computation, and passes its output to another node.\n",
    "\n",
    "Let's define a simple function in TensorFlow to construct this computation function:"
   ]
  },
  {
   "cell_type": "code",
   "execution_count": 8,
   "id": "e56602b9-f975-408b-90a1-a14ac901b19a",
   "metadata": {},
   "outputs": [
    {
     "name": "stdout",
     "output_type": "stream",
     "text": [
      "Output of func is: 36\n"
     ]
    }
   ],
   "source": [
    "### Defining Tensor computations ###\n",
    "\n",
    "# Construct a simple computation function\n",
    "def func(a,b):\n",
    "  # '''TODO: Define the operation for c, d, e (use tf.add, tf.subtract, tf.multiply).'''\n",
    "  c = tf.add(a,b)\n",
    "  d = tf.add(b,-1)\n",
    "  e = tf.multiply(c,d)\n",
    "  return e\n",
    "\n",
    "a = tf.constant(4)\n",
    "b = tf.constant(5)\n",
    "print(f\"Output of func is: {func(a,b)}\")"
   ]
  },
  {
   "cell_type": "markdown",
   "id": "22484abe-2afa-4edd-8e99-0cab296d2502",
   "metadata": {},
   "source": [
    "Now, we can call this function to execute the computation graph given some inputs `a,b`:"
   ]
  },
  {
   "cell_type": "code",
   "execution_count": 9,
   "id": "e8ac999e-8fee-49e2-9621-6cf8382f976a",
   "metadata": {},
   "outputs": [
    {
     "name": "stdout",
     "output_type": "stream",
     "text": [
      "tf.Tensor(6.0, shape=(), dtype=float32)\n"
     ]
    }
   ],
   "source": [
    "# Consider example values for a,b\n",
    "a, b = 1.5, 2.5\n",
    "# Execute the computation\n",
    "e_out = func(a,b)\n",
    "print(e_out)"
   ]
  },
  {
   "cell_type": "markdown",
   "id": "2c1a95b1-8ba6-4d10-ae63-0b4f21317292",
   "metadata": {},
   "source": [
    "Notice how our output is a Tensor with value defined by the output of the computation, and that the output has no shape as it is a single scalar value."
   ]
  },
  {
   "cell_type": "markdown",
   "id": "9ad7c07c-45d5-4483-849d-0b7bfa68110c",
   "metadata": {},
   "source": [
    "## Keras"
   ]
  },
  {
   "cell_type": "markdown",
   "id": "9eb94029-ec1e-4e36-8571-6aeab9490c9f",
   "metadata": {},
   "source": [
    "Now let's check out Keras. First, there are a few libraries we'll need. You don't need these to run Keras per se, just to make the model diagrams. Please install them if you have not."
   ]
  },
  {
   "cell_type": "code",
   "execution_count": 10,
   "id": "5dff8b88-6aa5-4bdb-87af-fd259cf87be1",
   "metadata": {},
   "outputs": [],
   "source": [
    "#pip install pydot"
   ]
  },
  {
   "cell_type": "code",
   "execution_count": 11,
   "id": "8d53aba3-8ffb-4e08-ada7-fcf27f0ea952",
   "metadata": {},
   "outputs": [],
   "source": [
    "#pip install graphviz"
   ]
  },
  {
   "cell_type": "markdown",
   "id": "c5f1cdc0-417a-4e3c-9ebb-790eeb2831a8",
   "metadata": {},
   "source": [
    "And now we'll import Keras from TensorFlow."
   ]
  },
  {
   "cell_type": "code",
   "execution_count": 12,
   "id": "2c1b4dee-ac3d-4d45-a967-5ae441078d73",
   "metadata": {},
   "outputs": [],
   "source": [
    "from tensorflow import keras"
   ]
  },
  {
   "cell_type": "markdown",
   "id": "2dcbdbac-13c3-4ad9-af70-b414bc8e7c06",
   "metadata": {},
   "source": [
    "For this assignment, we'll build a neural network to classify the famous handwritten digits dataset. This is the \"hello world\" problem of neural networks. The basic idea is this - it's very difficult to say exactly what constituties a 7, but I think we'd all agree we (almost always) know one when we see it. For example, all of these are the different ways of writing the number 7:\n",
    "\n",
    "<center>\n",
    "    <div>\n",
    "        <img src=\"https://lh3.googleusercontent.com/drive-viewer/AEYmBYRkaDabPqdzym65kfMVzQJoLaoKwWFuCop8xwzgdZbKsuNm015wBLU1AlUpDUIysIL74PlfpFYYpjgrd5debySeFyzGBA=s1600\" width=\"1000\"/>\n",
    "    </div>\n",
    "</center>\n",
    "\n",
    "The dataset is publicly available, and is knows as the MNIST (Modified National Institute of Standards and Technology) dataset. You can learn more about it here:http://yann.lecun.com/exdb/mnist/ "
   ]
  },
  {
   "cell_type": "markdown",
   "id": "f4169b48-df2e-4c36-a901-dec796fedf3e",
   "metadata": {},
   "source": [
    "The Keras library contains a number of common machine learning datasets that you can load, including [MNIST](https://keras.io/api/datasets/mnist/). We can import it with the code below."
   ]
  },
  {
   "cell_type": "code",
   "execution_count": 13,
   "id": "bc79c309-e8bf-4203-9e3d-40a01fe2bd04",
   "metadata": {},
   "outputs": [
    {
     "data": {
      "text/plain": [
       "(60000, 10000)"
      ]
     },
     "execution_count": 13,
     "metadata": {},
     "output_type": "execute_result"
    }
   ],
   "source": [
    "mnist = keras.datasets.mnist\n",
    "(X_train_full, y_train_full), (X_test, y_test) = mnist.load_data()\n",
    "len(X_train_full), len(X_test)"
   ]
  },
  {
   "cell_type": "markdown",
   "id": "2864e378-fc58-4066-b388-56b934db304d",
   "metadata": {},
   "source": [
    "We see there are 60,000 training images and 10,000 test image. Each image from the input (X_train_full or X_test) is a $28 \\times 28$ array, and each entry in this array is a grayscale darkness value from $0$ to $255$. For example:"
   ]
  },
  {
   "cell_type": "code",
   "execution_count": 14,
   "id": "c5dbb4cf-da13-4f87-9f4c-dbe5462444c4",
   "metadata": {},
   "outputs": [
    {
     "data": {
      "text/plain": [
       "array([[  0,   0,   0,   0,   0,   0,   0,   0,   0,   0,   0,   0,   0,\n",
       "          0,   0,   0,   0,   0,   0,   0,   0,   0,   0,   0,   0,   0,\n",
       "          0,   0],\n",
       "       [  0,   0,   0,   0,   0,   0,   0,   0,   0,   0,   0,   0,   0,\n",
       "          0,   0,   0,   0,   0,   0,   0,   0,   0,   0,   0,   0,   0,\n",
       "          0,   0],\n",
       "       [  0,   0,   0,   0,   0,   0,   0,   0,   0,   0,   0,   0,   0,\n",
       "          0,   0,   0,   0,   0,   0,   0,   0,   0,   0,   0,   0,   0,\n",
       "          0,   0],\n",
       "       [  0,   0,   0,   0,   0,   0,   0,   0,   0,   0,   0,   0,   0,\n",
       "          0,   0,   0,   0,   0,   0,   0,   0,   0,   0,   0,   0,   0,\n",
       "          0,   0],\n",
       "       [  0,   0,   0,   0,   0,   0,   0,   0,   0,   0,   0,   0,   0,\n",
       "          0,   0,   0,   0,   0,   0,   0,   0,   0,   0,   0,   0,   0,\n",
       "          0,   0],\n",
       "       [  0,   0,   0,   0,   0,   0,   0,   0,   0,   0,   0,   0,   3,\n",
       "         18,  18,  18, 126, 136, 175,  26, 166, 255, 247, 127,   0,   0,\n",
       "          0,   0],\n",
       "       [  0,   0,   0,   0,   0,   0,   0,   0,  30,  36,  94, 154, 170,\n",
       "        253, 253, 253, 253, 253, 225, 172, 253, 242, 195,  64,   0,   0,\n",
       "          0,   0],\n",
       "       [  0,   0,   0,   0,   0,   0,   0,  49, 238, 253, 253, 253, 253,\n",
       "        253, 253, 253, 253, 251,  93,  82,  82,  56,  39,   0,   0,   0,\n",
       "          0,   0],\n",
       "       [  0,   0,   0,   0,   0,   0,   0,  18, 219, 253, 253, 253, 253,\n",
       "        253, 198, 182, 247, 241,   0,   0,   0,   0,   0,   0,   0,   0,\n",
       "          0,   0],\n",
       "       [  0,   0,   0,   0,   0,   0,   0,   0,  80, 156, 107, 253, 253,\n",
       "        205,  11,   0,  43, 154,   0,   0,   0,   0,   0,   0,   0,   0,\n",
       "          0,   0],\n",
       "       [  0,   0,   0,   0,   0,   0,   0,   0,   0,  14,   1, 154, 253,\n",
       "         90,   0,   0,   0,   0,   0,   0,   0,   0,   0,   0,   0,   0,\n",
       "          0,   0],\n",
       "       [  0,   0,   0,   0,   0,   0,   0,   0,   0,   0,   0, 139, 253,\n",
       "        190,   2,   0,   0,   0,   0,   0,   0,   0,   0,   0,   0,   0,\n",
       "          0,   0],\n",
       "       [  0,   0,   0,   0,   0,   0,   0,   0,   0,   0,   0,  11, 190,\n",
       "        253,  70,   0,   0,   0,   0,   0,   0,   0,   0,   0,   0,   0,\n",
       "          0,   0],\n",
       "       [  0,   0,   0,   0,   0,   0,   0,   0,   0,   0,   0,   0,  35,\n",
       "        241, 225, 160, 108,   1,   0,   0,   0,   0,   0,   0,   0,   0,\n",
       "          0,   0],\n",
       "       [  0,   0,   0,   0,   0,   0,   0,   0,   0,   0,   0,   0,   0,\n",
       "         81, 240, 253, 253, 119,  25,   0,   0,   0,   0,   0,   0,   0,\n",
       "          0,   0],\n",
       "       [  0,   0,   0,   0,   0,   0,   0,   0,   0,   0,   0,   0,   0,\n",
       "          0,  45, 186, 253, 253, 150,  27,   0,   0,   0,   0,   0,   0,\n",
       "          0,   0],\n",
       "       [  0,   0,   0,   0,   0,   0,   0,   0,   0,   0,   0,   0,   0,\n",
       "          0,   0,  16,  93, 252, 253, 187,   0,   0,   0,   0,   0,   0,\n",
       "          0,   0],\n",
       "       [  0,   0,   0,   0,   0,   0,   0,   0,   0,   0,   0,   0,   0,\n",
       "          0,   0,   0,   0, 249, 253, 249,  64,   0,   0,   0,   0,   0,\n",
       "          0,   0],\n",
       "       [  0,   0,   0,   0,   0,   0,   0,   0,   0,   0,   0,   0,   0,\n",
       "          0,  46, 130, 183, 253, 253, 207,   2,   0,   0,   0,   0,   0,\n",
       "          0,   0],\n",
       "       [  0,   0,   0,   0,   0,   0,   0,   0,   0,   0,   0,   0,  39,\n",
       "        148, 229, 253, 253, 253, 250, 182,   0,   0,   0,   0,   0,   0,\n",
       "          0,   0],\n",
       "       [  0,   0,   0,   0,   0,   0,   0,   0,   0,   0,  24, 114, 221,\n",
       "        253, 253, 253, 253, 201,  78,   0,   0,   0,   0,   0,   0,   0,\n",
       "          0,   0],\n",
       "       [  0,   0,   0,   0,   0,   0,   0,   0,  23,  66, 213, 253, 253,\n",
       "        253, 253, 198,  81,   2,   0,   0,   0,   0,   0,   0,   0,   0,\n",
       "          0,   0],\n",
       "       [  0,   0,   0,   0,   0,   0,  18, 171, 219, 253, 253, 253, 253,\n",
       "        195,  80,   9,   0,   0,   0,   0,   0,   0,   0,   0,   0,   0,\n",
       "          0,   0],\n",
       "       [  0,   0,   0,   0,  55, 172, 226, 253, 253, 253, 253, 244, 133,\n",
       "         11,   0,   0,   0,   0,   0,   0,   0,   0,   0,   0,   0,   0,\n",
       "          0,   0],\n",
       "       [  0,   0,   0,   0, 136, 253, 253, 253, 212, 135, 132,  16,   0,\n",
       "          0,   0,   0,   0,   0,   0,   0,   0,   0,   0,   0,   0,   0,\n",
       "          0,   0],\n",
       "       [  0,   0,   0,   0,   0,   0,   0,   0,   0,   0,   0,   0,   0,\n",
       "          0,   0,   0,   0,   0,   0,   0,   0,   0,   0,   0,   0,   0,\n",
       "          0,   0],\n",
       "       [  0,   0,   0,   0,   0,   0,   0,   0,   0,   0,   0,   0,   0,\n",
       "          0,   0,   0,   0,   0,   0,   0,   0,   0,   0,   0,   0,   0,\n",
       "          0,   0],\n",
       "       [  0,   0,   0,   0,   0,   0,   0,   0,   0,   0,   0,   0,   0,\n",
       "          0,   0,   0,   0,   0,   0,   0,   0,   0,   0,   0,   0,   0,\n",
       "          0,   0]], dtype=uint8)"
      ]
     },
     "execution_count": 14,
     "metadata": {},
     "output_type": "execute_result"
    }
   ],
   "source": [
    "X_train_full[0]"
   ]
  },
  {
   "cell_type": "markdown",
   "id": "532c5d94-f77f-4e02-8a5c-99acf8d068cf",
   "metadata": {},
   "source": [
    "This data is split into a training set and a test set; however, it has no validation set. We'll want one, and so we can create one from the first 5000 images in the training set. Additionally, we'll want to scale the input features - which are represented as integers from $0$ to $255$ - down to the $0-1$ range."
   ]
  },
  {
   "cell_type": "code",
   "execution_count": 15,
   "id": "062f9ce9-8ce6-4d3a-a31c-ce6a215ee7c2",
   "metadata": {},
   "outputs": [],
   "source": [
    "X_valid, X_train = X_train_full[:5000] / 255.0, X_train_full[5000:] / 255.0\n",
    "y_valid, y_train = y_train_full[:5000], y_train_full[5000:]\n",
    "X_test = X_test / 255.0"
   ]
  },
  {
   "cell_type": "markdown",
   "id": "53c399d4-7720-4d55-b7fa-553abe307135",
   "metadata": {},
   "source": [
    "We'll use Keras to build a sequential neural network for identifying the digits. First, we'll create a very simple predictive model, in which there are ten outputs corresponding to the ten digits. Each output is a sigmoid that provides a probability. The first is how likely the input was a $0$, the second is how likely the input was a $1$, and so on."
   ]
  },
  {
   "cell_type": "code",
   "execution_count": 16,
   "id": "e5a83219-ae55-4d2b-bdcc-30e5f12c05a7",
   "metadata": {},
   "outputs": [],
   "source": [
    "model = keras.models.Sequential()\n",
    "model.add(keras.layers.Flatten(input_shape=[28,28]))\n",
    "model.add(keras.layers.Dense(10, activation=\"sigmoid\"))"
   ]
  },
  {
   "cell_type": "markdown",
   "id": "2bbb5f9f-d46c-4af1-8b7c-779220327caf",
   "metadata": {},
   "source": [
    "Let's go through this code line by line:\n",
    "\n",
    "- The first line creates a *Sequential* model. This is the simplest kind of Keras model for neural networks that are composed of a single stack of layers connected sequentially.\n",
    "- Next, we build the input layer and add it to the model. It is a \"flatten\" layer whose role is to convert each input image into a 1D array. This layer has no parameters, it just does some simple preprocessing.\n",
    "- Next we add a dense output layer with 10 nodes (one per class), again using the sigmoid activation function."
   ]
  },
  {
   "cell_type": "markdown",
   "id": "e9b28c87-eb1f-45e9-b3bc-b445d8745c95",
   "metadata": {},
   "source": [
    "Note that instead of adding the layers one-by-one, we could pass a list of layers when we create the model."
   ]
  },
  {
   "cell_type": "code",
   "execution_count": 17,
   "id": "e94df923-ce42-43b3-be36-848ece63340e",
   "metadata": {},
   "outputs": [
    {
     "data": {
      "text/plain": [
       "'\\nmodel = keras.models.Sequential([\\n    keras.layers.Flatten(input_shape=[28,28]),\\n    keras.layers.Dense(30, activation=\"sigmoid\"),\\n    keras.layers.Dense(10, activation=\"sigmoid\")\\n    ])\\n'"
      ]
     },
     "execution_count": 17,
     "metadata": {},
     "output_type": "execute_result"
    }
   ],
   "source": [
    "\"\"\"\n",
    "model = keras.models.Sequential([\n",
    "    keras.layers.Flatten(input_shape=[28,28]),\n",
    "    keras.layers.Dense(30, activation=\"sigmoid\"),\n",
    "    keras.layers.Dense(10, activation=\"sigmoid\")\n",
    "    ])\n",
    "\"\"\""
   ]
  },
  {
   "cell_type": "markdown",
   "id": "cad1e99f-cb70-4baa-9622-cbf168093da7",
   "metadata": {},
   "source": [
    "The model's *summary()* method displays all the model's layers, including each layer's name (which is automatically generated unless you set it when creating the layer), its output shape, and the number of parameters."
   ]
  },
  {
   "cell_type": "code",
   "execution_count": 18,
   "id": "64c8ef18-422b-4664-99d7-a6f3befdee3b",
   "metadata": {},
   "outputs": [
    {
     "name": "stdout",
     "output_type": "stream",
     "text": [
      "Model: \"sequential\"\n",
      "_________________________________________________________________\n",
      " Layer (type)                Output Shape              Param #   \n",
      "=================================================================\n",
      " flatten (Flatten)           (None, 784)               0         \n",
      "                                                                 \n",
      " dense (Dense)               (None, 10)                7850      \n",
      "                                                                 \n",
      "=================================================================\n",
      "Total params: 7850 (30.66 KB)\n",
      "Trainable params: 7850 (30.66 KB)\n",
      "Non-trainable params: 0 (0.00 Byte)\n",
      "_________________________________________________________________\n"
     ]
    }
   ],
   "source": [
    "model.summary()"
   ]
  },
  {
   "cell_type": "markdown",
   "id": "bed3f301-0c74-458d-9731-b024180c7719",
   "metadata": {},
   "source": [
    "Keras even includes a tool for generating an image of the model."
   ]
  },
  {
   "cell_type": "code",
   "execution_count": 19,
   "id": "2e2ccfac-6afa-4ac4-8439-6f102426bef5",
   "metadata": {},
   "outputs": [
    {
     "data": {
      "image/png": "[encoded data removed]",
      "text/plain": [
       "<IPython.core.display.Image object>"
      ]
     },
     "execution_count": 19,
     "metadata": {},
     "output_type": "execute_result"
    }
   ],
   "source": [
    "keras.utils.plot_model(model)"
   ]
  },
  {
   "cell_type": "markdown",
   "id": "07006176-08dc-43c3-adf3-d34219243a74",
   "metadata": {},
   "source": [
    "Not particularly enlightening for this model I'll admit."
   ]
  },
  {
   "cell_type": "markdown",
   "id": "98f0c3a7-bcba-4d40-ba55-2850496620d0",
   "metadata": {},
   "source": [
    "***Compiling the Model***\n",
    "\n",
    "After a model in created, you must call its *compile()* method to specify the loss function and the optimizer to use. You can also, if desired, specify a list of extra metrics to compute during training and evaluation."
   ]
  },
  {
   "cell_type": "code",
   "execution_count": 20,
   "id": "1befb729-640c-4a25-b86c-648332a67bc7",
   "metadata": {},
   "outputs": [],
   "source": [
    "model.compile(loss=\"sparse_categorical_crossentropy\", optimizer=\"sgd\", metrics = [\"accuracy\"])"
   ]
  },
  {
   "cell_type": "markdown",
   "id": "00b1e534-ce5a-4841-96e0-d3ea75582b4f",
   "metadata": {},
   "source": [
    "This requires some explanation. First, we use the \"sparse_categorical_crossentropy\" loss because we have sparse labels (for each instance, there is just a target class index, from $0$ to $9$ in this case), and the classes are exclusive. If instead we had [one-hot](https://en.wikipedia.org/wiki/One-hot) vectors we would use \"categorical_crossentropy\" loss instead.\n",
    "\n",
    "Regarding the optimizer, \"sgd\" means that we will train the model using simple stochastic gradient descent. Note the learning rate defaults to $lr = 0.01$, but we could specify it with *optimizer = keras.optimizers.SGD(lr=???)*.\n",
    "\n",
    "Finally, since it is a classifier, it's useful to describe its \"accuracy\" during training and evaluation.\n",
    "\n",
    "See these links for more info on [losses](https://keras.io/api/losses/), [optimizers](https://keras.io/api/optimizers/), and [metrics](https://keras.io/api/metrics/)."
   ]
  },
  {
   "cell_type": "markdown",
   "id": "1e2629f3-993e-40c0-9385-d516f655e586",
   "metadata": {},
   "source": [
    "***Training the Model***"
   ]
  },
  {
   "cell_type": "markdown",
   "id": "3e4e0399-d1bc-495a-bbe8-a0cba469bb96",
   "metadata": {},
   "source": [
    "Now the model is ready to be trained. To do this, we just call its *fit()* method. We can also track its training history."
   ]
  },
  {
   "cell_type": "code",
   "execution_count": 21,
   "id": "1040f7e5-0634-4d98-9082-61d1e2a2d3aa",
   "metadata": {},
   "outputs": [
    {
     "name": "stdout",
     "output_type": "stream",
     "text": [
      "Epoch 1/20\n",
      "1719/1719 [==============================] - 2s 1ms/step - loss: 0.7946 - accuracy: 0.8149 - val_loss: 0.4958 - val_accuracy: 0.8778\n",
      "Epoch 2/20\n",
      "1719/1719 [==============================] - 2s 876us/step - loss: 0.4679 - accuracy: 0.8786 - val_loss: 0.4104 - val_accuracy: 0.8924\n",
      "Epoch 3/20\n",
      "1719/1719 [==============================] - 1s 847us/step - loss: 0.4130 - accuracy: 0.8892 - val_loss: 0.3749 - val_accuracy: 0.9004\n",
      "Epoch 4/20\n",
      "1719/1719 [==============================] - 1s 297us/step - loss: 0.3855 - accuracy: 0.8946 - val_loss: 0.3532 - val_accuracy: 0.9048\n",
      "Epoch 5/20\n",
      "1719/1719 [==============================] - 1s 359us/step - loss: 0.3680 - accuracy: 0.8983 - val_loss: 0.3392 - val_accuracy: 0.9080\n",
      "Epoch 6/20\n",
      "1719/1719 [==============================] - 1s 461us/step - loss: 0.3555 - accuracy: 0.9015 - val_loss: 0.3295 - val_accuracy: 0.9086\n",
      "Epoch 7/20\n",
      "1719/1719 [==============================] - 1s 580us/step - loss: 0.3460 - accuracy: 0.9040 - val_loss: 0.3216 - val_accuracy: 0.9116\n",
      "Epoch 8/20\n",
      "1719/1719 [==============================] - 1s 520us/step - loss: 0.3385 - accuracy: 0.9061 - val_loss: 0.3152 - val_accuracy: 0.9132\n",
      "Epoch 9/20\n",
      "1719/1719 [==============================] - 1s 552us/step - loss: 0.3324 - accuracy: 0.9076 - val_loss: 0.3103 - val_accuracy: 0.9138\n",
      "Epoch 10/20\n",
      "1719/1719 [==============================] - 1s 396us/step - loss: 0.3272 - accuracy: 0.9091 - val_loss: 0.3062 - val_accuracy: 0.9158\n",
      "Epoch 11/20\n",
      "1719/1719 [==============================] - 1s 536us/step - loss: 0.3227 - accuracy: 0.9097 - val_loss: 0.3026 - val_accuracy: 0.9166\n",
      "Epoch 12/20\n",
      "1719/1719 [==============================] - 1s 516us/step - loss: 0.3189 - accuracy: 0.9113 - val_loss: 0.2995 - val_accuracy: 0.9170\n",
      "Epoch 13/20\n",
      "1719/1719 [==============================] - 1s 523us/step - loss: 0.3154 - accuracy: 0.9122 - val_loss: 0.2971 - val_accuracy: 0.9178\n",
      "Epoch 14/20\n",
      "1719/1719 [==============================] - 1s 540us/step - loss: 0.3124 - accuracy: 0.9131 - val_loss: 0.2943 - val_accuracy: 0.9186\n",
      "Epoch 15/20\n",
      "1719/1719 [==============================] - 1s 405us/step - loss: 0.3097 - accuracy: 0.9136 - val_loss: 0.2923 - val_accuracy: 0.9190\n",
      "Epoch 16/20\n",
      "1719/1719 [==============================] - 1s 578us/step - loss: 0.3072 - accuracy: 0.9143 - val_loss: 0.2903 - val_accuracy: 0.9196\n",
      "Epoch 17/20\n",
      "1719/1719 [==============================] - 1s 569us/step - loss: 0.3050 - accuracy: 0.9154 - val_loss: 0.2886 - val_accuracy: 0.9190\n",
      "Epoch 18/20\n",
      "1719/1719 [==============================] - 1s 731us/step - loss: 0.3029 - accuracy: 0.9157 - val_loss: 0.2869 - val_accuracy: 0.9212\n",
      "Epoch 19/20\n",
      "1719/1719 [==============================] - 1s 414us/step - loss: 0.3010 - accuracy: 0.9158 - val_loss: 0.2861 - val_accuracy: 0.9232\n",
      "Epoch 20/20\n",
      "1719/1719 [==============================] - 1s 468us/step - loss: 0.2993 - accuracy: 0.9168 - val_loss: 0.2843 - val_accuracy: 0.9210\n"
     ]
    }
   ],
   "source": [
    "history = model.fit(X_train, y_train, epochs = 20, validation_data=(X_valid,y_valid))"
   ]
  },
  {
   "cell_type": "markdown",
   "id": "2bb9e73d-b7a9-439e-8077-0bdb03508138",
   "metadata": {},
   "source": [
    "Note that passing the validation set is optional. However, it's good practice. If the performance on the training set is much better than on the validation set, you've probably got an overfit model. Note that instead of passing a validation set using the *validation_data* argument, we could set *validation_split* to the ratio of the training set that you want Keras to use for validation. So, *validation_split = 0.1$ would tell Keras to use the last 10% of the data for validation."
   ]
  },
  {
   "cell_type": "markdown",
   "id": "45d3ba57-a2d4-41e5-b6e2-5f28acb33845",
   "metadata": {},
   "source": [
    "The *fit()* method returns a *History* object containing the training parameters (history.params), the list of epochs it went through (history.epoch), and most importantly a dictionary (history.history) containing the loss and extra metrics it measured at the end of each epoch on the training data and the validation data (if provided). We can use this dictionary to create a pandas dataframe and then plot it."
   ]
  },
  {
   "cell_type": "code",
   "execution_count": 22,
   "id": "04ac7461-fc18-4895-a6a3-054dd0f973ca",
   "metadata": {},
   "outputs": [
    {
     "data": {
      "image/png": "[encoded data removed]",
      "text/plain": [
       "<Figure size 1000x600 with 1 Axes>"
      ]
     },
     "metadata": {},
     "output_type": "display_data"
    }
   ],
   "source": [
    "pd.DataFrame(history.history).plot(figsize=(10,6))\n",
    "plt.grid(True)\n",
    "plt.show()"
   ]
  },
  {
   "cell_type": "markdown",
   "id": "eea93be9-054e-4c2e-9f3a-b04962aec648",
   "metadata": {},
   "source": [
    "Finally, we should verify how the model performs on the test set."
   ]
  },
  {
   "cell_type": "code",
   "execution_count": 23,
   "id": "da34b106-7722-45c4-a9e5-692497ec4115",
   "metadata": {},
   "outputs": [
    {
     "name": "stdout",
     "output_type": "stream",
     "text": [
      "313/313 [==============================] - 0s 685us/step - loss: 0.2888 - accuracy: 0.9192\n"
     ]
    },
    {
     "data": {
      "text/plain": [
       "[0.28875765204429626, 0.9192000031471252]"
      ]
     },
     "execution_count": 23,
     "metadata": {},
     "output_type": "execute_result"
    }
   ],
   "source": [
    "model.evaluate(X_test, y_test)"
   ]
  },
  {
   "cell_type": "markdown",
   "id": "b85c2a9a-5a13-4ae5-8d2a-752173e8a979",
   "metadata": {},
   "source": [
    "The performance on the test set should be approximately the performance during training, which will be about 92% - 93%. This isn't so bad for just using a perceptron, but using a \"multilayer perceptron\" (MLP), or a \"deep neural network\", you should be able to do better. "
   ]
  },
  {
   "cell_type": "markdown",
   "id": "f38058c1-ab15-4bcb-95de-0730a725a628",
   "metadata": {},
   "source": [
    "## Deep Learning"
   ]
  },
  {
   "cell_type": "markdown",
   "id": "9e0bec39-e5a1-4009-8b77-4cddaffcc578",
   "metadata": {},
   "source": [
    "Recreate the model, but add an additional layer with 30 hidden nodes."
   ]
  },
  {
   "cell_type": "code",
   "execution_count": 31,
   "id": "4218a134-56a5-4429-8d00-c01df961283f",
   "metadata": {},
   "outputs": [],
   "source": [
    "model = keras.models.Sequential()\n",
    "model.add(keras.layers.Flatten(input_shape=[28,28]))\n",
    "# TODO add a dense hidden layer with 30 nodes: DONE\n",
    "model.add(keras.layers.Dense(30, activation=\"sigmoid\"))\n",
    "\n",
    "model.add(keras.layers.Dense(10, activation=\"sigmoid\"))"
   ]
  },
  {
   "cell_type": "code",
   "execution_count": 32,
   "id": "f185819b-f869-4d97-b92e-28029aff2812",
   "metadata": {},
   "outputs": [
    {
     "name": "stdout",
     "output_type": "stream",
     "text": [
      "Model: \"sequential_2\"\n",
      "_________________________________________________________________\n",
      " Layer (type)                Output Shape              Param #   \n",
      "=================================================================\n",
      " flatten_2 (Flatten)         (None, 784)               0         \n",
      "                                                                 \n",
      " dense_2 (Dense)             (None, 30)                23550     \n",
      "                                                                 \n",
      " dense_3 (Dense)             (None, 10)                310       \n",
      "                                                                 \n",
      "=================================================================\n",
      "Total params: 23860 (93.20 KB)\n",
      "Trainable params: 23860 (93.20 KB)\n",
      "Non-trainable params: 0 (0.00 Byte)\n",
      "_________________________________________________________________\n"
     ]
    }
   ],
   "source": [
    "# TODO Print a summary of the model\n",
    "model.summary()"
   ]
  },
  {
   "cell_type": "code",
   "execution_count": 33,
   "id": "cad5c592-7976-4532-814e-dc645a62b83c",
   "metadata": {},
   "outputs": [
    {
     "data": {
      "image/png": "[encoded data removed]",
      "text/plain": [
       "<IPython.core.display.Image object>"
      ]
     },
     "execution_count": 33,
     "metadata": {},
     "output_type": "execute_result"
    }
   ],
   "source": [
    "# TODO Generate an image of the model\n",
    "keras.utils.plot_model(model)"
   ]
  },
  {
   "cell_type": "code",
   "execution_count": 34,
   "id": "ee8280b1-3e2e-48c1-9940-0dfdd666def3",
   "metadata": {},
   "outputs": [],
   "source": [
    "# TODO Compile the model\n",
    "model.compile(loss=\"sparse_categorical_crossentropy\", optimizer=\"sgd\", metrics = [\"accuracy\"])"
   ]
  },
  {
   "cell_type": "code",
   "execution_count": 35,
   "id": "758c86f5-3eff-404c-97b9-2471ba03a01b",
   "metadata": {},
   "outputs": [
    {
     "name": "stdout",
     "output_type": "stream",
     "text": [
      "Epoch 1/30\n",
      "1719/1719 [==============================] - 1s 546us/step - loss: 1.7239 - accuracy: 0.6235 - val_loss: 1.2225 - val_accuracy: 0.7574\n",
      "Epoch 2/30\n",
      "1719/1719 [==============================] - 1s 725us/step - loss: 0.9746 - accuracy: 0.8083 - val_loss: 0.7757 - val_accuracy: 0.8408\n",
      "Epoch 3/30\n",
      "1719/1719 [==============================] - 1s 722us/step - loss: 0.6876 - accuracy: 0.8555 - val_loss: 0.5923 - val_accuracy: 0.8752\n",
      "Epoch 4/30\n",
      "1719/1719 [==============================] - 1s 649us/step - loss: 0.5563 - accuracy: 0.8750 - val_loss: 0.4961 - val_accuracy: 0.8910\n",
      "Epoch 5/30\n",
      "1719/1719 [==============================] - 1s 613us/step - loss: 0.4828 - accuracy: 0.8857 - val_loss: 0.4388 - val_accuracy: 0.8964\n",
      "Epoch 6/30\n",
      "1719/1719 [==============================] - 1s 746us/step - loss: 0.4363 - accuracy: 0.8917 - val_loss: 0.3998 - val_accuracy: 0.9038\n",
      "Epoch 7/30\n",
      "1719/1719 [==============================] - 2s 1ms/step - loss: 0.4043 - accuracy: 0.8974 - val_loss: 0.3723 - val_accuracy: 0.9074\n",
      "Epoch 8/30\n",
      "1719/1719 [==============================] - 1s 652us/step - loss: 0.3808 - accuracy: 0.9007 - val_loss: 0.3521 - val_accuracy: 0.9116\n",
      "Epoch 9/30\n",
      "1719/1719 [==============================] - 1s 675us/step - loss: 0.3625 - accuracy: 0.9043 - val_loss: 0.3357 - val_accuracy: 0.9130\n",
      "Epoch 10/30\n",
      "1719/1719 [==============================] - 1s 825us/step - loss: 0.3478 - accuracy: 0.9065 - val_loss: 0.3227 - val_accuracy: 0.9154\n",
      "Epoch 11/30\n",
      "1719/1719 [==============================] - 1s 735us/step - loss: 0.3355 - accuracy: 0.9088 - val_loss: 0.3113 - val_accuracy: 0.9178\n",
      "Epoch 12/30\n",
      "1719/1719 [==============================] - 1s 515us/step - loss: 0.3251 - accuracy: 0.9109 - val_loss: 0.3016 - val_accuracy: 0.9198\n",
      "Epoch 13/30\n",
      "1719/1719 [==============================] - 1s 708us/step - loss: 0.3160 - accuracy: 0.9128 - val_loss: 0.2931 - val_accuracy: 0.9232\n",
      "Epoch 14/30\n",
      "1719/1719 [==============================] - 1s 826us/step - loss: 0.3079 - accuracy: 0.9146 - val_loss: 0.2859 - val_accuracy: 0.9246\n",
      "Epoch 15/30\n",
      "1719/1719 [==============================] - 1s 734us/step - loss: 0.3007 - accuracy: 0.9164 - val_loss: 0.2797 - val_accuracy: 0.9268\n",
      "Epoch 16/30\n",
      "1719/1719 [==============================] - 1s 598us/step - loss: 0.2941 - accuracy: 0.9184 - val_loss: 0.2736 - val_accuracy: 0.9280\n",
      "Epoch 17/30\n",
      "1719/1719 [==============================] - 1s 744us/step - loss: 0.2882 - accuracy: 0.9200 - val_loss: 0.2681 - val_accuracy: 0.9304\n",
      "Epoch 18/30\n",
      "1719/1719 [==============================] - 1s 857us/step - loss: 0.2826 - accuracy: 0.9214 - val_loss: 0.2633 - val_accuracy: 0.9310\n",
      "Epoch 19/30\n",
      "1719/1719 [==============================] - 1s 475us/step - loss: 0.2775 - accuracy: 0.9228 - val_loss: 0.2585 - val_accuracy: 0.9332\n",
      "Epoch 20/30\n",
      "1719/1719 [==============================] - 1s 698us/step - loss: 0.2727 - accuracy: 0.9240 - val_loss: 0.2545 - val_accuracy: 0.9332\n",
      "Epoch 21/30\n",
      "1719/1719 [==============================] - 2s 888us/step - loss: 0.2683 - accuracy: 0.9248 - val_loss: 0.2504 - val_accuracy: 0.9350\n",
      "Epoch 22/30\n",
      "1719/1719 [==============================] - 2s 1ms/step - loss: 0.2641 - accuracy: 0.9259 - val_loss: 0.2466 - val_accuracy: 0.9348\n",
      "Epoch 23/30\n",
      "1719/1719 [==============================] - 1s 634us/step - loss: 0.2601 - accuracy: 0.9267 - val_loss: 0.2433 - val_accuracy: 0.9366\n",
      "Epoch 24/30\n",
      "1719/1719 [==============================] - 1s 795us/step - loss: 0.2563 - accuracy: 0.9279 - val_loss: 0.2400 - val_accuracy: 0.9366\n",
      "Epoch 25/30\n",
      "1719/1719 [==============================] - 1s 816us/step - loss: 0.2528 - accuracy: 0.9289 - val_loss: 0.2367 - val_accuracy: 0.9368\n",
      "Epoch 26/30\n",
      "1719/1719 [==============================] - 1s 572us/step - loss: 0.2495 - accuracy: 0.9297 - val_loss: 0.2338 - val_accuracy: 0.9380\n",
      "Epoch 27/30\n",
      "1719/1719 [==============================] - 1s 671us/step - loss: 0.2462 - accuracy: 0.9306 - val_loss: 0.2309 - val_accuracy: 0.9380\n",
      "Epoch 28/30\n",
      "1719/1719 [==============================] - 1s 703us/step - loss: 0.2432 - accuracy: 0.9315 - val_loss: 0.2282 - val_accuracy: 0.9380\n",
      "Epoch 29/30\n",
      "1719/1719 [==============================] - 1s 735us/step - loss: 0.2403 - accuracy: 0.9319 - val_loss: 0.2256 - val_accuracy: 0.9388\n",
      "Epoch 30/30\n",
      "1719/1719 [==============================] - 1s 515us/step - loss: 0.2375 - accuracy: 0.9332 - val_loss: 0.2233 - val_accuracy: 0.9390\n"
     ]
    }
   ],
   "source": [
    "# TODO Train the model over 30 epochs\n",
    "history = model.fit(X_train, y_train, epochs = 30, validation_data=(X_valid,y_valid))"
   ]
  },
  {
   "cell_type": "code",
   "execution_count": 36,
   "id": "c224a70a-3725-4dca-b73e-3c54a14e61e6",
   "metadata": {},
   "outputs": [
    {
     "data": {
      "image/png": "[encoded data removed]",
      "text/plain": [
       "<Figure size 1000x600 with 1 Axes>"
      ]
     },
     "metadata": {},
     "output_type": "display_data"
    }
   ],
   "source": [
    "# TODO Plot the loss, accuracy, validation loss, and validation accuracy over the training epochs\n",
    "pd.DataFrame(history.history).plot(figsize=(10,6))\n",
    "plt.grid(True)\n",
    "plt.show()"
   ]
  },
  {
   "cell_type": "code",
   "execution_count": 37,
   "id": "428b0210-43a7-4596-aa3b-192d92f8cffa",
   "metadata": {},
   "outputs": [
    {
     "name": "stdout",
     "output_type": "stream",
     "text": [
      "313/313 [==============================] - 0s 444us/step - loss: 0.2295 - accuracy: 0.9347\n"
     ]
    },
    {
     "data": {
      "text/plain": [
       "[0.22948752343654633, 0.9347000122070312]"
      ]
     },
     "execution_count": 37,
     "metadata": {},
     "output_type": "execute_result"
    }
   ],
   "source": [
    "# TODO evaluate the model on the test set\n",
    "model.evaluate(X_test, y_test)"
   ]
  },
  {
   "cell_type": "markdown",
   "id": "406e4238-4c85-453c-8ef1-9d707d9eca8b",
   "metadata": {},
   "source": [
    "### Challenge"
   ]
  },
  {
   "cell_type": "markdown",
   "id": "36def043-4503-4eb3-bd34-af6553526a92",
   "metadata": {},
   "source": [
    "If you complete the above you've completed the assignment. However, if you're up for a challenge, try (just using sequential neural networks in Keras) to create a model that does as well as possible on the test data. Show your work below. The person with the top performance will receive extra credit on this assignment."
   ]
  },
  {
   "cell_type": "markdown",
   "id": "0b773d75",
   "metadata": {},
   "source": [
    "Rob: I happen to know from experience that convolutional neural networks are superior to sequential neural networks when it comes to computer vision. I'm going to adapt the work I did with Assignment 6 in CS-6570 for the Fashion Images to apply to the MNIST set. Importantly, the input shape for MNIST is 28x28 vs the 1-dimensional data (784x1) for Fashion Images.\n"
   ]
  },
  {
   "cell_type": "code",
   "execution_count": 42,
   "id": "2d30fac4",
   "metadata": {},
   "outputs": [],
   "source": [
    "inputs = keras.Input(shape=(28, 28), name=\"MNIST Images\")                       \n",
    "x = keras.layers.Conv1D(filters=2,kernel_size=2,activation=\"relu\") (inputs)     # The input data is 1 dimensional so all the types need to change from 2D to 1D\n",
    "x = keras.layers.MaxPooling1D(pool_size = 3)(x)                                 # The decreasing pool size is that initally I want the pool search area to be coarsely grained then become finely grained on the deeper layer of the network\n",
    "x = keras.layers.Conv1D(filters=4,kernel_size=3,activation=\"relu\") (inputs)     \n",
    "x = keras.layers.MaxPooling1D(pool_size = 4)(x)\n",
    "x = keras.layers.Conv1D(filters=8,kernel_size=4,activation=\"relu\") (inputs)     \n",
    "x = keras.layers.MaxPooling1D(pool_size = 5)(x)\n",
    "x = keras.layers.Conv1D(filters=16,kernel_size=5,activation=\"relu\") (inputs)    \n",
    "x = keras.layers.MaxPooling1D(pool_size = 6)(x)\n",
    "x = keras.layers.Conv1D(filters=32,kernel_size=6,activation=\"relu\") (inputs)    \n",
    "x = keras.layers.MaxPooling1D(pool_size = 7)(x)\n",
    "x = keras.layers.Conv1D(filters = 64, kernel_size=7, activation=\"relu\")(inputs)\n",
    "x = keras.layers.MaxPooling1D(pool_size=8)(x)\n",
    "x = keras.layers.Conv1D(filters=128, kernel_size=8, activation=\"relu\")(inputs)\n",
    "x = keras.layers.Flatten()(x)\n",
    "outputs = keras.layers.Dense(10, activation=\"softmax\")(x)\n",
    "model = keras.Model(inputs = inputs, outputs = outputs)"
   ]
  },
  {
   "cell_type": "code",
   "execution_count": 43,
   "id": "d1906b6e",
   "metadata": {},
   "outputs": [
    {
     "name": "stdout",
     "output_type": "stream",
     "text": [
      "Model: \"model\"\n",
      "_________________________________________________________________\n",
      " Layer (type)                Output Shape              Param #   \n",
      "=================================================================\n",
      " MNIST Images (InputLayer)   [(None, 28, 28)]          0         \n",
      "                                                                 \n",
      " conv1d_12 (Conv1D)          (None, 21, 128)           28800     \n",
      "                                                                 \n",
      " flatten_3 (Flatten)         (None, 2688)              0         \n",
      "                                                                 \n",
      " dense_4 (Dense)             (None, 10)                26890     \n",
      "                                                                 \n",
      "=================================================================\n",
      "Total params: 55690 (217.54 KB)\n",
      "Trainable params: 55690 (217.54 KB)\n",
      "Non-trainable params: 0 (0.00 Byte)\n",
      "_________________________________________________________________\n"
     ]
    }
   ],
   "source": [
    "model.summary()"
   ]
  },
  {
   "cell_type": "code",
   "execution_count": 45,
   "id": "a122197a",
   "metadata": {},
   "outputs": [
    {
     "name": "stdout",
     "output_type": "stream",
     "text": [
      "Epoch 1/50\n",
      "430/430 [==============================] - 2s 5ms/step - loss: 0.2699 - accuracy: 0.9227 - val_loss: 0.1074 - val_accuracy: 0.9684\n",
      "Epoch 2/50\n",
      "430/430 [==============================] - 2s 4ms/step - loss: 0.0886 - accuracy: 0.9742 - val_loss: 0.0670 - val_accuracy: 0.9804\n",
      "Epoch 3/50\n",
      "430/430 [==============================] - 2s 4ms/step - loss: 0.0600 - accuracy: 0.9822 - val_loss: 0.0519 - val_accuracy: 0.9858\n",
      "Epoch 4/50\n",
      "430/430 [==============================] - 2s 5ms/step - loss: 0.0452 - accuracy: 0.9866 - val_loss: 0.0504 - val_accuracy: 0.9850\n",
      "Epoch 5/50\n",
      "430/430 [==============================] - 2s 4ms/step - loss: 0.0380 - accuracy: 0.9884 - val_loss: 0.0498 - val_accuracy: 0.9862\n",
      "Epoch 6/50\n",
      "430/430 [==============================] - 2s 5ms/step - loss: 0.0315 - accuracy: 0.9904 - val_loss: 0.0501 - val_accuracy: 0.9856\n",
      "Epoch 7/50\n",
      "430/430 [==============================] - 2s 4ms/step - loss: 0.0270 - accuracy: 0.9914 - val_loss: 0.0515 - val_accuracy: 0.9862\n",
      "Epoch 8/50\n",
      "430/430 [==============================] - 2s 4ms/step - loss: 0.0225 - accuracy: 0.9930 - val_loss: 0.0501 - val_accuracy: 0.9856\n",
      "Epoch 9/50\n",
      "430/430 [==============================] - 2s 5ms/step - loss: 0.0201 - accuracy: 0.9939 - val_loss: 0.0503 - val_accuracy: 0.9872\n",
      "Epoch 10/50\n",
      "430/430 [==============================] - 2s 4ms/step - loss: 0.0179 - accuracy: 0.9945 - val_loss: 0.0540 - val_accuracy: 0.9852\n",
      "Epoch 11/50\n",
      "430/430 [==============================] - 2s 4ms/step - loss: 0.0153 - accuracy: 0.9954 - val_loss: 0.0497 - val_accuracy: 0.9878\n",
      "Epoch 12/50\n",
      "430/430 [==============================] - 2s 4ms/step - loss: 0.0134 - accuracy: 0.9959 - val_loss: 0.0561 - val_accuracy: 0.9866\n",
      "Epoch 13/50\n",
      "430/430 [==============================] - 2s 4ms/step - loss: 0.0120 - accuracy: 0.9965 - val_loss: 0.0531 - val_accuracy: 0.9848\n",
      "Epoch 14/50\n",
      "430/430 [==============================] - 2s 5ms/step - loss: 0.0106 - accuracy: 0.9970 - val_loss: 0.0559 - val_accuracy: 0.9860\n",
      "Epoch 15/50\n",
      "430/430 [==============================] - 2s 4ms/step - loss: 0.0085 - accuracy: 0.9975 - val_loss: 0.0555 - val_accuracy: 0.9880\n",
      "Epoch 16/50\n",
      "430/430 [==============================] - 2s 5ms/step - loss: 0.0081 - accuracy: 0.9976 - val_loss: 0.0623 - val_accuracy: 0.9860\n",
      "Epoch 17/50\n",
      "430/430 [==============================] - 2s 5ms/step - loss: 0.0070 - accuracy: 0.9979 - val_loss: 0.0650 - val_accuracy: 0.9880\n",
      "Epoch 18/50\n",
      "430/430 [==============================] - 2s 4ms/step - loss: 0.0066 - accuracy: 0.9982 - val_loss: 0.0632 - val_accuracy: 0.9872\n",
      "Epoch 19/50\n",
      "430/430 [==============================] - 2s 5ms/step - loss: 0.0055 - accuracy: 0.9986 - val_loss: 0.0702 - val_accuracy: 0.9864\n",
      "Epoch 20/50\n",
      "430/430 [==============================] - 2s 4ms/step - loss: 0.0055 - accuracy: 0.9985 - val_loss: 0.0738 - val_accuracy: 0.9860\n",
      "Epoch 21/50\n",
      "430/430 [==============================] - 2s 5ms/step - loss: 0.0044 - accuracy: 0.9988 - val_loss: 0.0671 - val_accuracy: 0.9880\n",
      "Epoch 22/50\n",
      "430/430 [==============================] - 2s 4ms/step - loss: 0.0040 - accuracy: 0.9989 - val_loss: 0.0799 - val_accuracy: 0.9858\n",
      "Epoch 23/50\n",
      "430/430 [==============================] - 2s 4ms/step - loss: 0.0036 - accuracy: 0.9989 - val_loss: 0.0826 - val_accuracy: 0.9856\n",
      "Epoch 24/50\n",
      "430/430 [==============================] - 2s 5ms/step - loss: 0.0032 - accuracy: 0.9992 - val_loss: 0.0753 - val_accuracy: 0.9858\n",
      "Epoch 25/50\n",
      "430/430 [==============================] - 2s 4ms/step - loss: 0.0029 - accuracy: 0.9991 - val_loss: 0.0765 - val_accuracy: 0.9854\n",
      "Epoch 26/50\n",
      "430/430 [==============================] - 2s 5ms/step - loss: 0.0027 - accuracy: 0.9993 - val_loss: 0.0838 - val_accuracy: 0.9858\n",
      "Epoch 27/50\n",
      "430/430 [==============================] - 2s 5ms/step - loss: 0.0025 - accuracy: 0.9992 - val_loss: 0.0811 - val_accuracy: 0.9860\n",
      "Epoch 28/50\n",
      "430/430 [==============================] - 2s 4ms/step - loss: 0.0020 - accuracy: 0.9995 - val_loss: 0.0833 - val_accuracy: 0.9858\n",
      "Epoch 29/50\n",
      "430/430 [==============================] - 2s 5ms/step - loss: 0.0022 - accuracy: 0.9993 - val_loss: 0.0835 - val_accuracy: 0.9856\n",
      "Epoch 30/50\n",
      "430/430 [==============================] - 2s 4ms/step - loss: 0.0016 - accuracy: 0.9996 - val_loss: 0.0828 - val_accuracy: 0.9870\n",
      "Epoch 31/50\n",
      "430/430 [==============================] - 2s 5ms/step - loss: 0.0013 - accuracy: 0.9997 - val_loss: 0.0901 - val_accuracy: 0.9858\n",
      "Epoch 32/50\n",
      "430/430 [==============================] - 2s 5ms/step - loss: 0.0016 - accuracy: 0.9995 - val_loss: 0.0947 - val_accuracy: 0.9864\n",
      "Epoch 33/50\n",
      "430/430 [==============================] - 2s 4ms/step - loss: 0.0013 - accuracy: 0.9997 - val_loss: 0.0828 - val_accuracy: 0.9872\n",
      "Epoch 34/50\n",
      "430/430 [==============================] - 2s 5ms/step - loss: 9.3007e-04 - accuracy: 0.9998 - val_loss: 0.0967 - val_accuracy: 0.9868\n",
      "Epoch 35/50\n",
      "430/430 [==============================] - 2s 5ms/step - loss: 9.9899e-04 - accuracy: 0.9997 - val_loss: 0.0992 - val_accuracy: 0.9860\n",
      "Epoch 36/50\n",
      "430/430 [==============================] - 2s 5ms/step - loss: 9.7280e-04 - accuracy: 0.9998 - val_loss: 0.0995 - val_accuracy: 0.9862\n",
      "Epoch 37/50\n",
      "430/430 [==============================] - 2s 4ms/step - loss: 7.5988e-04 - accuracy: 0.9998 - val_loss: 0.1115 - val_accuracy: 0.9842\n",
      "Epoch 38/50\n",
      "430/430 [==============================] - 2s 4ms/step - loss: 8.2200e-04 - accuracy: 0.9998 - val_loss: 0.1145 - val_accuracy: 0.9842\n",
      "Epoch 39/50\n",
      "430/430 [==============================] - 2s 5ms/step - loss: 6.0450e-04 - accuracy: 0.9998 - val_loss: 0.1141 - val_accuracy: 0.9860\n",
      "Epoch 40/50\n",
      "430/430 [==============================] - 2s 4ms/step - loss: 5.9325e-04 - accuracy: 0.9999 - val_loss: 0.1104 - val_accuracy: 0.9852\n",
      "Epoch 41/50\n",
      "430/430 [==============================] - 2s 5ms/step - loss: 5.2320e-04 - accuracy: 0.9999 - val_loss: 0.1061 - val_accuracy: 0.9844\n",
      "Epoch 42/50\n",
      "430/430 [==============================] - 2s 4ms/step - loss: 5.6620e-04 - accuracy: 0.9998 - val_loss: 0.1141 - val_accuracy: 0.9854\n",
      "Epoch 43/50\n",
      "430/430 [==============================] - 2s 4ms/step - loss: 4.0966e-04 - accuracy: 0.9999 - val_loss: 0.1187 - val_accuracy: 0.9862\n",
      "Epoch 44/50\n",
      "430/430 [==============================] - 2s 5ms/step - loss: 3.5563e-04 - accuracy: 0.9999 - val_loss: 0.1150 - val_accuracy: 0.9844\n",
      "Epoch 45/50\n",
      "430/430 [==============================] - 2s 4ms/step - loss: 3.4708e-04 - accuracy: 0.9999 - val_loss: 0.1234 - val_accuracy: 0.9852\n",
      "Epoch 46/50\n",
      "430/430 [==============================] - 2s 5ms/step - loss: 4.4135e-04 - accuracy: 0.9999 - val_loss: 0.1254 - val_accuracy: 0.9858\n",
      "Epoch 47/50\n",
      "430/430 [==============================] - 2s 5ms/step - loss: 2.7457e-04 - accuracy: 0.9999 - val_loss: 0.1172 - val_accuracy: 0.9852\n",
      "Epoch 48/50\n",
      "430/430 [==============================] - 2s 4ms/step - loss: 5.2021e-04 - accuracy: 0.9999 - val_loss: 0.1306 - val_accuracy: 0.9836\n",
      "Epoch 49/50\n",
      "430/430 [==============================] - 2s 4ms/step - loss: 3.1235e-04 - accuracy: 0.9999 - val_loss: 0.1246 - val_accuracy: 0.9856\n",
      "Epoch 50/50\n",
      "430/430 [==============================] - 2s 4ms/step - loss: 2.0870e-04 - accuracy: 0.9999 - val_loss: 0.1232 - val_accuracy: 0.9854\n"
     ]
    },
    {
     "data": {
      "text/plain": [
       "<keras.src.callbacks.History at 0x30ca44550>"
      ]
     },
     "execution_count": 45,
     "metadata": {},
     "output_type": "execute_result"
    }
   ],
   "source": [
    "model.compile(optimizer=\"rmsprop\", loss=\"sparse_categorical_crossentropy\", metrics=[\"accuracy\"], )\n",
    "model.fit(X_train, y_train, epochs=50, batch_size = 128, validation_data=(X_valid, y_valid))"
   ]
  },
  {
   "cell_type": "code",
   "execution_count": 46,
   "id": "76a26b50",
   "metadata": {},
   "outputs": [
    {
     "data": {
      "image/png": "[encoded data removed]",
      "text/plain": [
       "<Figure size 1000x600 with 1 Axes>"
      ]
     },
     "metadata": {},
     "output_type": "display_data"
    }
   ],
   "source": [
    "# TODO Plot the loss, accuracy, validation loss, and validation accuracy over the training epochs\n",
    "pd.DataFrame(history.history).plot(figsize=(10,6))\n",
    "plt.grid(True)\n",
    "plt.show()"
   ]
  },
  {
   "cell_type": "markdown",
   "id": "6af1f981",
   "metadata": {},
   "source": [
    "It appears from the above that most of the training gains are achieved by epoch 15. \n",
    "\n",
    "Now I'll evaluate the model against the test set"
   ]
  },
  {
   "cell_type": "code",
   "execution_count": 47,
   "id": "79d041d7",
   "metadata": {},
   "outputs": [
    {
     "name": "stdout",
     "output_type": "stream",
     "text": [
      "313/313 [==============================] - 0s 1ms/step - loss: 0.0953 - accuracy: 0.9866\n"
     ]
    },
    {
     "data": {
      "text/plain": [
       "[0.09528502821922302, 0.9865999817848206]"
      ]
     },
     "execution_count": 47,
     "metadata": {},
     "output_type": "execute_result"
    }
   ],
   "source": [
    "model.evaluate(X_test, y_test)"
   ]
  },
  {
   "cell_type": "code",
   "execution_count": null,
   "id": "a9093bd6",
   "metadata": {},
   "outputs": [],
   "source": []
  }
 ],
 "metadata": {
  "kernelspec": {
   "display_name": "Python 3",
   "language": "python",
   "name": "python3"
  },
  "language_info": {
   "codemirror_mode": {
    "name": "ipython",
    "version": 3
   },
   "file_extension": ".py",
   "mimetype": "text/x-python",
   "name": "python",
   "nbconvert_exporter": "python",
   "pygments_lexer": "ipython3",
   "version": "3.11.7"
  }
 },
 "nbformat": 4,
 "nbformat_minor": 5
}

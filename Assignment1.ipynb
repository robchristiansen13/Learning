{
  "nbformat": 4,
  "nbformat_minor": 0,
  "metadata": {
    "colab": {
      "provenance": [],
      "include_colab_link": true
    },
    "kernelspec": {
      "name": "python3",
      "display_name": "Python 3"
    },
    "language_info": {
      "name": "python"
    }
  },
  "cells": [
    {
      "cell_type": "markdown",
      "metadata": {
        "id": "view-in-github",
        "colab_type": "text"
      },
      "source": [
        "<a href=\"https://colab.research.google.com/github/robchristiansen13/Learning/blob/main/Assignment1.ipynb\" target=\"_parent\"><img src=\"https://colab.research.google.com/assets/colab-badge.svg\" alt=\"Open In Colab\"/></a>"
      ]
    },
    {
      "cell_type": "markdown",
      "source": [
        "Calculate the following metrics for each confustion matrix\n"
      ],
      "metadata": {
        "id": "B_Sdvg5vlWoV"
      }
    },
    {
      "cell_type": "markdown",
      "source": [
        "Confusion Matrix A\n",
        "\n",
        "| | + | - |\n",
        "|---|---|---|\n",
        "|+| 263 | 25 |\n",
        "|-| 8 | 271|\n",
        "\n",
        "Accuracy:\n",
        "\n",
        "Sensitiviy/Recall:\n",
        "\n",
        "Specificity:\n",
        "\n",
        "Precision:\n",
        "\n",
        "F1 Measure:\n",
        "\n",
        "MCC:"
      ],
      "metadata": {
        "id": "kbJg1pRimyQw"
      }
    },
    {
      "cell_type": "code",
      "source": [
        "import numpy as np\n",
        "from sklearn.metrics import precision_score, recall_score\n",
        "\n",
        "# Define a 2 x 2 array to represent the confusion matrix\n",
        "confusion_matrix = np.array([[263, 25], [8, 271]])\n",
        "\n",
        "# Print summary numbers\n",
        "print(\"Precision:\", precision_score(confusion_matrix))\n",
        "print(\"Recall:\", recall_score(confusion_matrix))"
      ],
      "metadata": {
        "id": "nRWmT0V2XczF",
        "outputId": "e821e4c6-464e-4231-dbdd-c49af4fabac5",
        "colab": {
          "base_uri": "https://localhost:8080/",
          "height": 232
        }
      },
      "execution_count": 1,
      "outputs": [
        {
          "output_type": "error",
          "ename": "TypeError",
          "evalue": "ignored",
          "traceback": [
            "\u001b[0;31m---------------------------------------------------------------------------\u001b[0m",
            "\u001b[0;31mTypeError\u001b[0m                                 Traceback (most recent call last)",
            "\u001b[0;32m<ipython-input-1-66915436cfa4>\u001b[0m in \u001b[0;36m<cell line: 8>\u001b[0;34m()\u001b[0m\n\u001b[1;32m      6\u001b[0m \u001b[0;34m\u001b[0m\u001b[0m\n\u001b[1;32m      7\u001b[0m \u001b[0;31m# Print summary numbers\u001b[0m\u001b[0;34m\u001b[0m\u001b[0;34m\u001b[0m\u001b[0m\n\u001b[0;32m----> 8\u001b[0;31m \u001b[0mprint\u001b[0m\u001b[0;34m(\u001b[0m\u001b[0;34m\"Precision:\"\u001b[0m\u001b[0;34m,\u001b[0m \u001b[0mprecision_score\u001b[0m\u001b[0;34m(\u001b[0m\u001b[0mconfusion_matrix\u001b[0m\u001b[0;34m)\u001b[0m\u001b[0;34m)\u001b[0m\u001b[0;34m\u001b[0m\u001b[0;34m\u001b[0m\u001b[0m\n\u001b[0m\u001b[1;32m      9\u001b[0m \u001b[0mprint\u001b[0m\u001b[0;34m(\u001b[0m\u001b[0;34m\"Recall:\"\u001b[0m\u001b[0;34m,\u001b[0m \u001b[0mrecall_score\u001b[0m\u001b[0;34m(\u001b[0m\u001b[0mconfusion_matrix\u001b[0m\u001b[0;34m)\u001b[0m\u001b[0;34m)\u001b[0m\u001b[0;34m\u001b[0m\u001b[0;34m\u001b[0m\u001b[0m\n",
            "\u001b[0;31mTypeError\u001b[0m: precision_score() missing 1 required positional argument: 'y_pred'"
          ]
        }
      ]
    },
    {
      "cell_type": "code",
      "source": [
        "import numpy as np\n",
        "\n",
        "def precision_recall(confusion_matrix):\n",
        "  \"\"\"Calculates precision and recall from a confusion matrix.\n",
        "\n",
        "  Args:\n",
        "    confusion_matrix: A confusion matrix, a 2D numpy array.\n",
        "\n",
        "  Returns:\n",
        "    A tuple of precision and recall, both floats.\n",
        "  \"\"\"\n",
        "  true_positives = confusion_matrix[1, 1]\n",
        "  false_positives = confusion_matrix[0, 1]\n",
        "  false_negatives = confusion_matrix[1, 0]\n",
        "  precision = true_positives / (true_positives + false_positives)\n",
        "  recall = true_positives / (true_positives + false_negatives)\n",
        "  return precision, recall\n",
        "\n",
        "\n",
        "if __name__ == \"__main__\":\n",
        "  # Create a confusion matrix.\n",
        "  confusion_matrix = np.array([[10, 2], [5, 15]])\n",
        "\n",
        "  # Calculate precision and recall.\n",
        "  precision, recall = precision_recall(confusion_matrix)\n",
        "\n",
        "  # Print precision and recall.\n",
        "  print(\"Precision:\", precision)\n",
        "  print(\"Recall:\", recall)"
      ],
      "metadata": {
        "id": "gWE8gRpVYuux",
        "outputId": "f10bc1c8-d4a2-4cac-9b43-0e9979be2d04",
        "colab": {
          "base_uri": "https://localhost:8080/"
        }
      },
      "execution_count": 2,
      "outputs": [
        {
          "output_type": "stream",
          "name": "stdout",
          "text": [
            "Precision: 0.8823529411764706\n",
            "Recall: 0.75\n"
          ]
        }
      ]
    },
    {
      "cell_type": "markdown",
      "source": [
        "Confusion Matrix B\n",
        "\n",
        "| | + | - |\n",
        "|---|---|---|\n",
        "|+| 176 | 112 |\n",
        "|-| 33 | 246|\n",
        "\n",
        "Accuracy:\n",
        "\n",
        "Sensitiviy/Recall:\n",
        "\n",
        "Specificity:\n",
        "\n",
        "Precision:\n",
        "\n",
        "F1 Measure:\n",
        "\n",
        "MCC:"
      ],
      "metadata": {
        "id": "8XHfRGyAnJuK"
      }
    },
    {
      "cell_type": "markdown",
      "source": [
        "Confusion Matrix C\n",
        "\n",
        "| | + | - |\n",
        "|---|---|---|\n",
        "|+| 18 | 42 |\n",
        "|-| 3 | 271|\n",
        "\n",
        "Accuracy:\n",
        "\n",
        "Sensitiviy/Recall:\n",
        "\n",
        "Specificity:\n",
        "\n",
        "Precision:\n",
        "\n",
        "F1 Measure:\n",
        "\n",
        "MCC:"
      ],
      "metadata": {
        "id": "HwZ427B7nJ6q"
      }
    },
    {
      "cell_type": "markdown",
      "source": [
        "Confusion Matrix D\n",
        "\n",
        "| | + | - |\n",
        "|---|---|---|\n",
        "|+| 35 | 25 |\n",
        "|-| 20 | 254|\n",
        "\n",
        "Accuracy:\n",
        "\n",
        "Sensitiviy/Recall:\n",
        "\n",
        "Specificity:\n",
        "\n",
        "Precision:\n",
        "\n",
        "F1 Measure:\n",
        "\n",
        "MCC:"
      ],
      "metadata": {
        "id": "209wqIM1nKLk"
      }
    },
    {
      "cell_type": "markdown",
      "source": [
        "Use the sklearn algorithms and builtin datasets to answer the following questions"
      ],
      "metadata": {
        "id": "6_qpdOwjnqTz"
      }
    },
    {
      "cell_type": "markdown",
      "source": [
        "How many instances are in the diabetes dataset?  Use code to show your answer"
      ],
      "metadata": {
        "id": "hYnFD7w_n19I"
      }
    },
    {
      "cell_type": "code",
      "source": [],
      "metadata": {
        "id": "JuCPbPnZoApy"
      },
      "execution_count": null,
      "outputs": []
    },
    {
      "cell_type": "markdown",
      "source": [
        "How many instances are in the iris dataset? Use code to show your answer"
      ],
      "metadata": {
        "id": "vFfHH0YdoBF8"
      }
    },
    {
      "cell_type": "code",
      "source": [],
      "metadata": {
        "id": "uVGARKw0oHcw"
      },
      "execution_count": null,
      "outputs": []
    },
    {
      "cell_type": "markdown",
      "source": [
        "Use the iris dataset and the digits dataset in conjuction with the DecisionTreeClassifier, the GuassianNB, and the KNeighborsClassifier to train and test each classifier on each dataset.  Report the accuracy, precision, recall, and F1 scores.\n"
      ],
      "metadata": {
        "id": "eTsVIjM0oH6s"
      }
    },
    {
      "cell_type": "code",
      "source": [
        "from sklearn.datasets import load_iris, load_digits\n",
        "from sklearn.model_selection import train_test_split\n",
        "from sklearn.metrics import accuracy_score, precision_score, recall_score, f1_score\n",
        "\n",
        "# load the iris dataset and split it into train and test sets\n",
        "X, y = load_iris(return_X_y=True)\n",
        "\n"
      ],
      "metadata": {
        "id": "HckvxA-JkQKV"
      },
      "execution_count": null,
      "outputs": []
    }
  ]
}
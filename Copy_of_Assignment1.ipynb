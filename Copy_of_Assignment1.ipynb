{
  "nbformat": 4,
  "nbformat_minor": 0,
  "metadata": {
    "colab": {
      "provenance": [],
      "include_colab_link": true
    },
    "kernelspec": {
      "name": "python3",
      "display_name": "Python 3"
    },
    "language_info": {
      "name": "python"
    }
  },
  "cells": [
    {
      "cell_type": "markdown",
      "metadata": {
        "id": "view-in-github",
        "colab_type": "text"
      },
      "source": [
        "<a href=\"https://colab.research.google.com/github/robchristiansen13/Learning/blob/main/Copy_of_Assignment1.ipynb\" target=\"_parent\"><img src=\"https://colab.research.google.com/assets/colab-badge.svg\" alt=\"Open In Colab\"/></a>"
      ]
    },
    {
      "cell_type": "markdown",
      "source": [
        "Calculate the following metrics for each confustion matrix\n"
      ],
      "metadata": {
        "id": "B_Sdvg5vlWoV"
      }
    },
    {
      "cell_type": "markdown",
      "source": [
        "Confusion Matrix A\n",
        "\n",
        "| | + | - |\n",
        "|---|---|---|\n",
        "|+| 263 | 25 |\n",
        "|-| 8 | 271|\n",
        "\n",
        "Accuracy: 0.9417989417989417\n",
        "\n",
        "Sensitivity: 0.9704797047970479\n",
        "\n",
        "Specificity: 0.9155405405405406\n",
        "\n",
        "Precision: 0.9131944444444444\n",
        "\n",
        "F1: 0.9409660107334525\n",
        "\n",
        "MCC: 0.8852701097828677"
      ],
      "metadata": {
        "id": "kbJg1pRimyQw"
      }
    },
    {
      "cell_type": "code",
      "source": [
        "import numpy as np\n",
        "\n",
        "def confusion_matrix_metrics(true_positives: int, false_positives: int, false_negatives: int, true_negatives: int):\n",
        "  \"\"\"Calculates metrics from a confusion matrix.\n",
        "\n",
        "  Args:\n",
        "    The four parameters associated with a confusion matrix\n",
        "\n",
        "  Returns:\n",
        "    Common metrics for evaluating a model\n",
        "  \"\"\"\n",
        "\n",
        "  accuracy = (true_positives + true_negatives) / (true_positives + true_negatives + false_positives + false_negatives)\n",
        "  sensitivity = (true_positives) / (true_positives + false_negatives)\n",
        "  specificity = (true_negatives) / (true_negatives + false_positives)\n",
        "  f1 = (2 * true_positives) / (2 * true_positives + false_positives + false_negatives)\n",
        "  mcc = ((true_positives * true_negatives) - (false_positives * false_negatives)) / np.sqrt((true_positives + false_positives)*(true_positives + false_negatives)*(true_negatives + false_positives) *(true_negatives + false_negatives))\n",
        "  precision = true_positives / (true_positives + false_positives)\n",
        "  recall = true_positives / (true_positives + false_negatives)\n",
        "\n",
        "  return accuracy, sensitivity, specificity, precision, f1, mcc\n",
        "\n",
        "# Calculate precision and recall.\n",
        "accuracy, sensitivity, specificity, precision, f1, mcc = confusion_matrix_metrics(263, 25, 8, 271)\n",
        "\n",
        "# Print precision and recall.\n",
        "print(\"Accuracy:\", accuracy)\n",
        "print(\"Sensitivity:\", sensitivity)\n",
        "print(\"Specificity:\", specificity)\n",
        "print(\"Precision:\",precision)\n",
        "print(\"F1:\", f1)\n",
        "print(\"MCC:\", mcc)"
      ],
      "metadata": {
        "id": "gWE8gRpVYuux",
        "outputId": "689bfa7a-f1e7-4ded-cd67-76a3e3e6d216",
        "colab": {
          "base_uri": "https://localhost:8080/"
        }
      },
      "execution_count": 1,
      "outputs": [
        {
          "output_type": "stream",
          "name": "stdout",
          "text": [
            "Accuracy: 0.9417989417989417\n",
            "Sensitivity: 0.9704797047970479\n",
            "Specificity: 0.9155405405405406\n",
            "Precision: 0.9131944444444444\n",
            "F1: 0.9409660107334525\n",
            "MCC: 0.8852701097828677\n"
          ]
        }
      ]
    },
    {
      "cell_type": "markdown",
      "source": [
        "Confusion Matrix B\n",
        "\n",
        "| | + | - |\n",
        "|---|---|---|\n",
        "|+| 176 | 112 |\n",
        "|-| 33 | 246|\n",
        "\n",
        "Accuracy: 0.7442680776014109\n",
        "\n",
        "Sensitivity: 0.8421052631578947\n",
        "\n",
        "Specificity: 0.6871508379888268\n",
        "\n",
        "Precision: 0.6111111111111112\n",
        "\n",
        "F1: 0.7082494969818913\n",
        "\n",
        "MCC: 0.5107191988044958\n",
        "\n",
        "\n"
      ],
      "metadata": {
        "id": "8XHfRGyAnJuK"
      }
    },
    {
      "cell_type": "code",
      "source": [
        "# Calculate precision and recall.\n",
        "accuracy, sensitivity, specificity, precision, f1, mcc = confusion_matrix_metrics(176, 112, 33, 246)\n",
        "\n",
        "# Print precision and recall.\n",
        "print(\"Accuracy:\", accuracy)\n",
        "print(\"Sensitivity:\", sensitivity)\n",
        "print(\"Specificity:\", specificity)\n",
        "print(\"Precision:\",precision)\n",
        "print(\"F1:\", f1)\n",
        "print(\"MCC:\", mcc)"
      ],
      "metadata": {
        "outputId": "b947ece2-4d43-430e-f84f-1b9663a0cc39",
        "colab": {
          "base_uri": "https://localhost:8080/"
        },
        "id": "nwiCCR9apIyY"
      },
      "execution_count": 2,
      "outputs": [
        {
          "output_type": "stream",
          "name": "stdout",
          "text": [
            "Accuracy: 0.7442680776014109\n",
            "Sensitivity: 0.8421052631578947\n",
            "Specificity: 0.6871508379888268\n",
            "Precision: 0.6111111111111112\n",
            "F1: 0.7082494969818913\n",
            "MCC: 0.5107191988044958\n"
          ]
        }
      ]
    },
    {
      "cell_type": "markdown",
      "source": [
        "Confusion Matrix C\n",
        "\n",
        "| | + | - |\n",
        "|---|---|---|\n",
        "|+| 18 | 42 |\n",
        "|-| 3 | 271|\n",
        "\n",
        "Accuracy: 0.8652694610778443\n",
        "\n",
        "Sensitivity: 0.8571428571428571\n",
        "\n",
        "Specificity: 0.865814696485623\n",
        "\n",
        "Precision: 0.3\n",
        "\n",
        "F1: 0.4444444444444444\n",
        "\n",
        "MCC: 0.45713419521588783\n"
      ],
      "metadata": {
        "id": "HwZ427B7nJ6q"
      }
    },
    {
      "cell_type": "code",
      "source": [
        "# Calculate precision and recall.\n",
        "accuracy, sensitivity, specificity, precision, f1, mcc = confusion_matrix_metrics(18, 42, 3, 271)\n",
        "\n",
        "# Print precision and recall.\n",
        "print(\"Accuracy:\", accuracy)\n",
        "print(\"Sensitivity:\", sensitivity)\n",
        "print(\"Specificity:\", specificity)\n",
        "print(\"Precision:\",precision)\n",
        "print(\"F1:\", f1)\n",
        "print(\"MCC:\", mcc)"
      ],
      "metadata": {
        "outputId": "57336d43-6c2c-4c99-a32c-dc11ba1042fe",
        "colab": {
          "base_uri": "https://localhost:8080/"
        },
        "id": "x5B2hPuQpz8B"
      },
      "execution_count": 3,
      "outputs": [
        {
          "output_type": "stream",
          "name": "stdout",
          "text": [
            "Accuracy: 0.8652694610778443\n",
            "Sensitivity: 0.8571428571428571\n",
            "Specificity: 0.865814696485623\n",
            "Precision: 0.3\n",
            "F1: 0.4444444444444444\n",
            "MCC: 0.45713419521588783\n"
          ]
        }
      ]
    },
    {
      "cell_type": "markdown",
      "source": [
        "Confusion Matrix D\n",
        "\n",
        "| | + | - |\n",
        "|---|---|---|\n",
        "|+| 35 | 25 |\n",
        "|-| 20 | 254|\n",
        "\n",
        "Accuracy: 0.8652694610778443\n",
        "\n",
        "Sensitivity: 0.6363636363636364\n",
        "\n",
        "Specificity: 0.910394265232975\n",
        "\n",
        "Precision: 0.5833333333333334\n",
        "\n",
        "F1: 0.6086956521739131\n",
        "\n",
        "MCC: 0.5282355283220976\n"
      ],
      "metadata": {
        "id": "209wqIM1nKLk"
      }
    },
    {
      "cell_type": "code",
      "source": [
        "# Calculate precision and recall.\n",
        "accuracy, sensitivity, specificity, precision, f1, mcc = confusion_matrix_metrics(35, 25, 20, 254)\n",
        "\n",
        "# Print precision and recall.\n",
        "print(\"Accuracy:\", accuracy)\n",
        "print(\"Sensitivity:\", sensitivity)\n",
        "print(\"Specificity:\", specificity)\n",
        "print(\"Precision:\",precision)\n",
        "print(\"F1:\", f1)\n",
        "print(\"MCC:\", mcc)"
      ],
      "metadata": {
        "outputId": "854c8821-a982-4ac3-e365-177e7ebc1aa2",
        "colab": {
          "base_uri": "https://localhost:8080/"
        },
        "id": "nkpTdcGyqBb7"
      },
      "execution_count": 4,
      "outputs": [
        {
          "output_type": "stream",
          "name": "stdout",
          "text": [
            "Accuracy: 0.8652694610778443\n",
            "Sensitivity: 0.6363636363636364\n",
            "Specificity: 0.910394265232975\n",
            "Precision: 0.5833333333333334\n",
            "F1: 0.6086956521739131\n",
            "MCC: 0.5282355283220976\n"
          ]
        }
      ]
    },
    {
      "cell_type": "markdown",
      "source": [
        "Use the sklearn algorithms and builtin datasets to answer the following questions"
      ],
      "metadata": {
        "id": "6_qpdOwjnqTz"
      }
    },
    {
      "cell_type": "markdown",
      "source": [
        "How many instances are in the diabetes dataset?  Use code to show your answer\n",
        "442"
      ],
      "metadata": {
        "id": "hYnFD7w_n19I"
      }
    },
    {
      "cell_type": "code",
      "source": [
        "import pandas as pd\n",
        "from sklearn.datasets import load_diabetes\n",
        "\n",
        "diabetes_data = load_diabetes()\n",
        "\n",
        "df = pd.DataFrame(data=diabetes_data.data, columns=diabetes_data.feature_names)\n",
        "# df.info()\n",
        "print(\"Number of instances:\", len(df))"
      ],
      "metadata": {
        "id": "JuCPbPnZoApy",
        "colab": {
          "base_uri": "https://localhost:8080/"
        },
        "outputId": "a7ed6bcb-3376-4b0d-969e-d2036d435596"
      },
      "execution_count": null,
      "outputs": [
        {
          "output_type": "stream",
          "name": "stdout",
          "text": [
            "Number of instances: 442\n"
          ]
        }
      ]
    },
    {
      "cell_type": "markdown",
      "source": [
        "How many instances are in the iris dataset? Use code to show your answer\n",
        "150"
      ],
      "metadata": {
        "id": "vFfHH0YdoBF8"
      }
    },
    {
      "cell_type": "code",
      "source": [
        "import pandas as pd\n",
        "from sklearn.datasets import load_iris\n",
        "\n",
        "iris_data = load_iris()\n",
        "\n",
        "df = pd.DataFrame(data=iris_data.data, columns=iris_data.feature_names)\n",
        "# df.info()\n",
        "print(\"Number of instances:\", len(df))"
      ],
      "metadata": {
        "colab": {
          "base_uri": "https://localhost:8080/"
        },
        "outputId": "4faa95ec-7a9f-4664-8f00-7c7abe72f6f0",
        "id": "eeVxu23Vr4WN"
      },
      "execution_count": null,
      "outputs": [
        {
          "output_type": "stream",
          "name": "stdout",
          "text": [
            "Number of instances: 150\n"
          ]
        }
      ]
    },
    {
      "cell_type": "code",
      "source": [],
      "metadata": {
        "id": "uVGARKw0oHcw"
      },
      "execution_count": null,
      "outputs": []
    },
    {
      "cell_type": "markdown",
      "source": [
        "Use the iris dataset and the digits dataset in conjuction with the DecisionTreeClassifier, the GuassianNB, and the KNeighborsClassifier to train and test each classifier on each dataset.  Report the accuracy, precision, recall, and F1 scores.\n"
      ],
      "metadata": {
        "id": "eTsVIjM0oH6s"
      }
    },
    {
      "cell_type": "code",
      "source": [
        "from sklearn.datasets import load_iris, load_digits\n",
        "from sklearn.model_selection import train_test_split\n",
        "from sklearn.metrics import accuracy_score, precision_score, recall_score, f1_score\n",
        "import pandas as pd\n",
        "\n",
        "# load the iris dataset and split it into train and test sets\n",
        "iris_data = load_iris()\n",
        "\n",
        "df = pd.DataFrame(data=iris_data.data, columns=iris_data.feature_names)\n",
        "\n",
        "train_set, test_set = train_test_split(df, test_size=0.2)\n",
        "# train_set.info()\n",
        "train_set.describe()\n",
        "# corr_matrix = train_set.corr()\n",
        "\n",
        "\n"
      ],
      "metadata": {
        "id": "HckvxA-JkQKV",
        "colab": {
          "base_uri": "https://localhost:8080/",
          "height": 300
        },
        "outputId": "741dfe21-8cf6-4ae5-e72d-31d37e5cbc4d"
      },
      "execution_count": 3,
      "outputs": [
        {
          "output_type": "execute_result",
          "data": {
            "text/plain": [
              "       sepal length (cm)  sepal width (cm)  petal length (cm)  \\\n",
              "count          120.00000        120.000000         120.000000   \n",
              "mean             5.85250          3.051667           3.814167   \n",
              "std              0.81271          0.438482           1.737200   \n",
              "min              4.30000          2.000000           1.000000   \n",
              "25%              5.17500          2.800000           1.600000   \n",
              "50%              5.80000          3.000000           4.400000   \n",
              "75%              6.40000          3.300000           5.100000   \n",
              "max              7.90000          4.400000           6.900000   \n",
              "\n",
              "       petal width (cm)  \n",
              "count        120.000000  \n",
              "mean           1.219167  \n",
              "std            0.752508  \n",
              "min            0.100000  \n",
              "25%            0.375000  \n",
              "50%            1.300000  \n",
              "75%            1.800000  \n",
              "max            2.500000  "
            ],
            "text/html": [
              "\n",
              "  <div id=\"df-9c473ac2-bd6c-40b9-8792-ff23ffb4a3fe\" class=\"colab-df-container\">\n",
              "    <div>\n",
              "<style scoped>\n",
              "    .dataframe tbody tr th:only-of-type {\n",
              "        vertical-align: middle;\n",
              "    }\n",
              "\n",
              "    .dataframe tbody tr th {\n",
              "        vertical-align: top;\n",
              "    }\n",
              "\n",
              "    .dataframe thead th {\n",
              "        text-align: right;\n",
              "    }\n",
              "</style>\n",
              "<table border=\"1\" class=\"dataframe\">\n",
              "  <thead>\n",
              "    <tr style=\"text-align: right;\">\n",
              "      <th></th>\n",
              "      <th>sepal length (cm)</th>\n",
              "      <th>sepal width (cm)</th>\n",
              "      <th>petal length (cm)</th>\n",
              "      <th>petal width (cm)</th>\n",
              "    </tr>\n",
              "  </thead>\n",
              "  <tbody>\n",
              "    <tr>\n",
              "      <th>count</th>\n",
              "      <td>120.00000</td>\n",
              "      <td>120.000000</td>\n",
              "      <td>120.000000</td>\n",
              "      <td>120.000000</td>\n",
              "    </tr>\n",
              "    <tr>\n",
              "      <th>mean</th>\n",
              "      <td>5.85250</td>\n",
              "      <td>3.051667</td>\n",
              "      <td>3.814167</td>\n",
              "      <td>1.219167</td>\n",
              "    </tr>\n",
              "    <tr>\n",
              "      <th>std</th>\n",
              "      <td>0.81271</td>\n",
              "      <td>0.438482</td>\n",
              "      <td>1.737200</td>\n",
              "      <td>0.752508</td>\n",
              "    </tr>\n",
              "    <tr>\n",
              "      <th>min</th>\n",
              "      <td>4.30000</td>\n",
              "      <td>2.000000</td>\n",
              "      <td>1.000000</td>\n",
              "      <td>0.100000</td>\n",
              "    </tr>\n",
              "    <tr>\n",
              "      <th>25%</th>\n",
              "      <td>5.17500</td>\n",
              "      <td>2.800000</td>\n",
              "      <td>1.600000</td>\n",
              "      <td>0.375000</td>\n",
              "    </tr>\n",
              "    <tr>\n",
              "      <th>50%</th>\n",
              "      <td>5.80000</td>\n",
              "      <td>3.000000</td>\n",
              "      <td>4.400000</td>\n",
              "      <td>1.300000</td>\n",
              "    </tr>\n",
              "    <tr>\n",
              "      <th>75%</th>\n",
              "      <td>6.40000</td>\n",
              "      <td>3.300000</td>\n",
              "      <td>5.100000</td>\n",
              "      <td>1.800000</td>\n",
              "    </tr>\n",
              "    <tr>\n",
              "      <th>max</th>\n",
              "      <td>7.90000</td>\n",
              "      <td>4.400000</td>\n",
              "      <td>6.900000</td>\n",
              "      <td>2.500000</td>\n",
              "    </tr>\n",
              "  </tbody>\n",
              "</table>\n",
              "</div>\n",
              "    <div class=\"colab-df-buttons\">\n",
              "\n",
              "  <div class=\"colab-df-container\">\n",
              "    <button class=\"colab-df-convert\" onclick=\"convertToInteractive('df-9c473ac2-bd6c-40b9-8792-ff23ffb4a3fe')\"\n",
              "            title=\"Convert this dataframe to an interactive table.\"\n",
              "            style=\"display:none;\">\n",
              "\n",
              "  <svg xmlns=\"http://www.w3.org/2000/svg\" height=\"24px\" viewBox=\"0 -960 960 960\">\n",
              "    <path d=\"M120-120v-720h720v720H120Zm60-500h600v-160H180v160Zm220 220h160v-160H400v160Zm0 220h160v-160H400v160ZM180-400h160v-160H180v160Zm440 0h160v-160H620v160ZM180-180h160v-160H180v160Zm440 0h160v-160H620v160Z\"/>\n",
              "  </svg>\n",
              "    </button>\n",
              "\n",
              "  <style>\n",
              "    .colab-df-container {\n",
              "      display:flex;\n",
              "      gap: 12px;\n",
              "    }\n",
              "\n",
              "    .colab-df-convert {\n",
              "      background-color: #E8F0FE;\n",
              "      border: none;\n",
              "      border-radius: 50%;\n",
              "      cursor: pointer;\n",
              "      display: none;\n",
              "      fill: #1967D2;\n",
              "      height: 32px;\n",
              "      padding: 0 0 0 0;\n",
              "      width: 32px;\n",
              "    }\n",
              "\n",
              "    .colab-df-convert:hover {\n",
              "      background-color: #E2EBFA;\n",
              "      box-shadow: 0px 1px 2px rgba(60, 64, 67, 0.3), 0px 1px 3px 1px rgba(60, 64, 67, 0.15);\n",
              "      fill: #174EA6;\n",
              "    }\n",
              "\n",
              "    .colab-df-buttons div {\n",
              "      margin-bottom: 4px;\n",
              "    }\n",
              "\n",
              "    [theme=dark] .colab-df-convert {\n",
              "      background-color: #3B4455;\n",
              "      fill: #D2E3FC;\n",
              "    }\n",
              "\n",
              "    [theme=dark] .colab-df-convert:hover {\n",
              "      background-color: #434B5C;\n",
              "      box-shadow: 0px 1px 3px 1px rgba(0, 0, 0, 0.15);\n",
              "      filter: drop-shadow(0px 1px 2px rgba(0, 0, 0, 0.3));\n",
              "      fill: #FFFFFF;\n",
              "    }\n",
              "  </style>\n",
              "\n",
              "    <script>\n",
              "      const buttonEl =\n",
              "        document.querySelector('#df-9c473ac2-bd6c-40b9-8792-ff23ffb4a3fe button.colab-df-convert');\n",
              "      buttonEl.style.display =\n",
              "        google.colab.kernel.accessAllowed ? 'block' : 'none';\n",
              "\n",
              "      async function convertToInteractive(key) {\n",
              "        const element = document.querySelector('#df-9c473ac2-bd6c-40b9-8792-ff23ffb4a3fe');\n",
              "        const dataTable =\n",
              "          await google.colab.kernel.invokeFunction('convertToInteractive',\n",
              "                                                    [key], {});\n",
              "        if (!dataTable) return;\n",
              "\n",
              "        const docLinkHtml = 'Like what you see? Visit the ' +\n",
              "          '<a target=\"_blank\" href=https://colab.research.google.com/notebooks/data_table.ipynb>data table notebook</a>'\n",
              "          + ' to learn more about interactive tables.';\n",
              "        element.innerHTML = '';\n",
              "        dataTable['output_type'] = 'display_data';\n",
              "        await google.colab.output.renderOutput(dataTable, element);\n",
              "        const docLink = document.createElement('div');\n",
              "        docLink.innerHTML = docLinkHtml;\n",
              "        element.appendChild(docLink);\n",
              "      }\n",
              "    </script>\n",
              "  </div>\n",
              "\n",
              "\n",
              "<div id=\"df-45bdb426-7b11-4411-bb80-36e5c6fd2ee6\">\n",
              "  <button class=\"colab-df-quickchart\" onclick=\"quickchart('df-45bdb426-7b11-4411-bb80-36e5c6fd2ee6')\"\n",
              "            title=\"Suggest charts.\"\n",
              "            style=\"display:none;\">\n",
              "\n",
              "<svg xmlns=\"http://www.w3.org/2000/svg\" height=\"24px\"viewBox=\"0 0 24 24\"\n",
              "     width=\"24px\">\n",
              "    <g>\n",
              "        <path d=\"M19 3H5c-1.1 0-2 .9-2 2v14c0 1.1.9 2 2 2h14c1.1 0 2-.9 2-2V5c0-1.1-.9-2-2-2zM9 17H7v-7h2v7zm4 0h-2V7h2v10zm4 0h-2v-4h2v4z\"/>\n",
              "    </g>\n",
              "</svg>\n",
              "  </button>\n",
              "\n",
              "<style>\n",
              "  .colab-df-quickchart {\n",
              "      --bg-color: #E8F0FE;\n",
              "      --fill-color: #1967D2;\n",
              "      --hover-bg-color: #E2EBFA;\n",
              "      --hover-fill-color: #174EA6;\n",
              "      --disabled-fill-color: #AAA;\n",
              "      --disabled-bg-color: #DDD;\n",
              "  }\n",
              "\n",
              "  [theme=dark] .colab-df-quickchart {\n",
              "      --bg-color: #3B4455;\n",
              "      --fill-color: #D2E3FC;\n",
              "      --hover-bg-color: #434B5C;\n",
              "      --hover-fill-color: #FFFFFF;\n",
              "      --disabled-bg-color: #3B4455;\n",
              "      --disabled-fill-color: #666;\n",
              "  }\n",
              "\n",
              "  .colab-df-quickchart {\n",
              "    background-color: var(--bg-color);\n",
              "    border: none;\n",
              "    border-radius: 50%;\n",
              "    cursor: pointer;\n",
              "    display: none;\n",
              "    fill: var(--fill-color);\n",
              "    height: 32px;\n",
              "    padding: 0;\n",
              "    width: 32px;\n",
              "  }\n",
              "\n",
              "  .colab-df-quickchart:hover {\n",
              "    background-color: var(--hover-bg-color);\n",
              "    box-shadow: 0 1px 2px rgba(60, 64, 67, 0.3), 0 1px 3px 1px rgba(60, 64, 67, 0.15);\n",
              "    fill: var(--button-hover-fill-color);\n",
              "  }\n",
              "\n",
              "  .colab-df-quickchart-complete:disabled,\n",
              "  .colab-df-quickchart-complete:disabled:hover {\n",
              "    background-color: var(--disabled-bg-color);\n",
              "    fill: var(--disabled-fill-color);\n",
              "    box-shadow: none;\n",
              "  }\n",
              "\n",
              "  .colab-df-spinner {\n",
              "    border: 2px solid var(--fill-color);\n",
              "    border-color: transparent;\n",
              "    border-bottom-color: var(--fill-color);\n",
              "    animation:\n",
              "      spin 1s steps(1) infinite;\n",
              "  }\n",
              "\n",
              "  @keyframes spin {\n",
              "    0% {\n",
              "      border-color: transparent;\n",
              "      border-bottom-color: var(--fill-color);\n",
              "      border-left-color: var(--fill-color);\n",
              "    }\n",
              "    20% {\n",
              "      border-color: transparent;\n",
              "      border-left-color: var(--fill-color);\n",
              "      border-top-color: var(--fill-color);\n",
              "    }\n",
              "    30% {\n",
              "      border-color: transparent;\n",
              "      border-left-color: var(--fill-color);\n",
              "      border-top-color: var(--fill-color);\n",
              "      border-right-color: var(--fill-color);\n",
              "    }\n",
              "    40% {\n",
              "      border-color: transparent;\n",
              "      border-right-color: var(--fill-color);\n",
              "      border-top-color: var(--fill-color);\n",
              "    }\n",
              "    60% {\n",
              "      border-color: transparent;\n",
              "      border-right-color: var(--fill-color);\n",
              "    }\n",
              "    80% {\n",
              "      border-color: transparent;\n",
              "      border-right-color: var(--fill-color);\n",
              "      border-bottom-color: var(--fill-color);\n",
              "    }\n",
              "    90% {\n",
              "      border-color: transparent;\n",
              "      border-bottom-color: var(--fill-color);\n",
              "    }\n",
              "  }\n",
              "</style>\n",
              "\n",
              "  <script>\n",
              "    async function quickchart(key) {\n",
              "      const quickchartButtonEl =\n",
              "        document.querySelector('#' + key + ' button');\n",
              "      quickchartButtonEl.disabled = true;  // To prevent multiple clicks.\n",
              "      quickchartButtonEl.classList.add('colab-df-spinner');\n",
              "      try {\n",
              "        const charts = await google.colab.kernel.invokeFunction(\n",
              "            'suggestCharts', [key], {});\n",
              "      } catch (error) {\n",
              "        console.error('Error during call to suggestCharts:', error);\n",
              "      }\n",
              "      quickchartButtonEl.classList.remove('colab-df-spinner');\n",
              "      quickchartButtonEl.classList.add('colab-df-quickchart-complete');\n",
              "    }\n",
              "    (() => {\n",
              "      let quickchartButtonEl =\n",
              "        document.querySelector('#df-45bdb426-7b11-4411-bb80-36e5c6fd2ee6 button');\n",
              "      quickchartButtonEl.style.display =\n",
              "        google.colab.kernel.accessAllowed ? 'block' : 'none';\n",
              "    })();\n",
              "  </script>\n",
              "</div>\n",
              "    </div>\n",
              "  </div>\n"
            ]
          },
          "metadata": {},
          "execution_count": 3
        }
      ]
    },
    {
      "cell_type": "code",
      "source": [],
      "metadata": {
        "id": "c3A8RZXftnF_"
      },
      "execution_count": null,
      "outputs": []
    }
  ]
}